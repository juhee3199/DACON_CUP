{
 "cells": [
  {
   "cell_type": "markdown",
   "metadata": {},
   "source": [
    "# 라이브러리 불러오기"
   ]
  },
  {
   "cell_type": "code",
   "execution_count": 350,
   "metadata": {},
   "outputs": [],
   "source": [
    "from numpy import asarray\n",
    "import pandas as pd\n",
    "from pandas import read_csv\n",
    "from pandas import DataFrame\n",
    "from pandas import concat\n",
    "import pandas_datareader.data as pdr\n",
    "import numpy as np\n",
    "from xgboost import plot_importance, plot_tree\n",
    "from numpy import asarray\n",
    "from xgboost import XGBRegressor\n",
    "from math import sqrt\n",
    "from matplotlib import pyplot\n",
    "from datetime import date\n",
    "import seaborn as sns\n",
    "\n",
    "from sklearn.model_selection import train_test_split\n",
    "from sklearn.metrics import r2_score\n",
    "\n",
    "import matplotlib.pyplot as plt\n",
    "import matplotlib\n",
    "plt.style.use('ggplot')\n",
    "%matplotlib inline\n",
    "\n",
    "import warnings\n",
    "import plotly.graph_objects as go\n",
    "import chart_studio.plotly as py\n",
    "import plotly.offline as pyo\n",
    "import plotly.io as pio\n",
    "pio.renderers.default = 'notebook_connected'\n",
    "\n",
    "warnings.filterwarnings(action='ignore')"
   ]
  },
  {
   "cell_type": "code",
   "execution_count": 351,
   "metadata": {},
   "outputs": [],
   "source": [
    "## 공휴일 데이터 불러오기\n",
    "holidays = pd.read_csv('data/holidays.csv', encoding = 'euc_kr', index_col = 0)\n",
    "\n",
    "holidays['date'] = pd.to_datetime(holidays['date']).dt.date\n",
    "holidays = holidays.append({'date' : date(2019,5,2), 'name':'연휴'}, ignore_index = True)\n",
    "holidays = holidays.append({'date' : date(2019,5,3), 'name':'연휴'}, ignore_index = True)\n",
    "holidays = holidays.append({'date' : date(2020,5,7), 'name':'연휴'}, ignore_index = True)\n",
    "holidays = holidays.append({'date' : date(2020,5,4), 'name':'연휴'}, ignore_index = True)\n",
    "holidays = holidays.append({'date' : date(2020,5,1), 'name':'연휴'}, ignore_index = True)\n",
    "holidays = holidays.append({'date' : date(2019,12,31), 'name':'연말'}, ignore_index = True)\n",
    "holidays = holidays.append({'date' : date(2020,12,31), 'name':'연말'}, ignore_index = True)"
   ]
  },
  {
   "cell_type": "markdown",
   "metadata": {},
   "source": [
    "- 공휴일의 특징 파악\n",
    "- 평일의 특징 파악\n",
    "- 주말의 특징 파악\n",
    "- train 데이터에서 각 종속변수 별로 주말이나 공휴일에 어떻게 변하는지 확인"
   ]
  },
  {
   "cell_type": "markdown",
   "metadata": {},
   "source": [
    "# 데이터 불러오기"
   ]
  },
  {
   "cell_type": "code",
   "execution_count": 352,
   "metadata": {},
   "outputs": [],
   "source": [
    "## 데이터 불러오기\n",
    "train = pd.read_csv(\"data/train.csv\", encoding = 'euc-kr')\n",
    "train['DateTime'] = pd.to_datetime(train['DateTime'])\n",
    "train['date'] = train.DateTime.dt.date\n",
    "\n",
    "new_train= pd.read_csv(\"data/2차_train.csv\", encoding = 'euc-kr')\n",
    "new_train['DateTime'] = pd.to_datetime(new_train['DateTime'])\n",
    "new_train['date'] = new_train.DateTime.dt.date\n",
    "\n",
    "## 시간 합산\n",
    "train = pd.DataFrame(train.groupby('date').sum().reset_index())\n",
    "new_train = pd.DataFrame(new_train.groupby('date').sum().reset_index())"
   ]
  },
  {
   "cell_type": "code",
   "execution_count": 353,
   "metadata": {},
   "outputs": [
    {
     "data": {
      "text/html": [
       "<div>\n",
       "<style scoped>\n",
       "    .dataframe tbody tr th:only-of-type {\n",
       "        vertical-align: middle;\n",
       "    }\n",
       "\n",
       "    .dataframe tbody tr th {\n",
       "        vertical-align: top;\n",
       "    }\n",
       "\n",
       "    .dataframe thead th {\n",
       "        text-align: right;\n",
       "    }\n",
       "</style>\n",
       "<table border=\"1\" class=\"dataframe\">\n",
       "  <thead>\n",
       "    <tr style=\"text-align: right;\">\n",
       "      <th></th>\n",
       "      <th>date</th>\n",
       "      <th>사용자</th>\n",
       "      <th>세션</th>\n",
       "      <th>신규방문자</th>\n",
       "      <th>페이지뷰</th>\n",
       "    </tr>\n",
       "  </thead>\n",
       "  <tbody>\n",
       "    <tr>\n",
       "      <th>817</th>\n",
       "      <td>2020-12-04</td>\n",
       "      <td>3189</td>\n",
       "      <td>3068</td>\n",
       "      <td>743</td>\n",
       "      <td>75730</td>\n",
       "    </tr>\n",
       "    <tr>\n",
       "      <th>818</th>\n",
       "      <td>2020-12-05</td>\n",
       "      <td>2055</td>\n",
       "      <td>2019</td>\n",
       "      <td>497</td>\n",
       "      <td>47638</td>\n",
       "    </tr>\n",
       "    <tr>\n",
       "      <th>819</th>\n",
       "      <td>2020-12-06</td>\n",
       "      <td>2119</td>\n",
       "      <td>2077</td>\n",
       "      <td>460</td>\n",
       "      <td>46914</td>\n",
       "    </tr>\n",
       "    <tr>\n",
       "      <th>820</th>\n",
       "      <td>2020-12-07</td>\n",
       "      <td>2979</td>\n",
       "      <td>2988</td>\n",
       "      <td>753</td>\n",
       "      <td>77443</td>\n",
       "    </tr>\n",
       "    <tr>\n",
       "      <th>821</th>\n",
       "      <td>2020-12-08</td>\n",
       "      <td>3033</td>\n",
       "      <td>2990</td>\n",
       "      <td>772</td>\n",
       "      <td>68857</td>\n",
       "    </tr>\n",
       "  </tbody>\n",
       "</table>\n",
       "</div>"
      ],
      "text/plain": [
       "           date   사용자    세션  신규방문자   페이지뷰\n",
       "817  2020-12-04  3189  3068    743  75730\n",
       "818  2020-12-05  2055  2019    497  47638\n",
       "819  2020-12-06  2119  2077    460  46914\n",
       "820  2020-12-07  2979  2988    753  77443\n",
       "821  2020-12-08  3033  2990    772  68857"
      ]
     },
     "execution_count": 353,
     "metadata": {},
     "output_type": "execute_result"
    }
   ],
   "source": [
    "## 1차 train과 2차 train 합치기\n",
    "train = pd.concat([train, new_train]).reset_index(drop = True)\n",
    "\n",
    "# train의 date도 같은 형식으로 뽑기\n",
    "train['date'] = pd.to_datetime(train['date']).dt.date\n",
    "\n",
    "train.tail()"
   ]
  },
  {
   "cell_type": "code",
   "execution_count": 354,
   "metadata": {
    "scrolled": true
   },
   "outputs": [],
   "source": [
    "submission = pd.read_csv('data/submission.csv', encoding = 'euc-kr')\n",
    "submission.DateTime = pd.to_datetime(submission.DateTime).dt.date\n",
    "submission = submission[submission.DateTime>date(2020,12,8)].reset_index(drop = True)"
   ]
  },
  {
   "cell_type": "code",
   "execution_count": 355,
   "metadata": {},
   "outputs": [],
   "source": [
    "login_info = pd.read_csv('data/info_login.csv', index_col=0)\n",
    "competition_info = pd.read_csv('data/info_competition.csv', index_col=0, encoding='cp949')\n",
    "user_info = pd.read_csv('data/info_user.csv', index_col=0)\n",
    "submission_info = pd.read_csv('data/info_submission.csv', index_col=0)\n",
    "\n",
    "## 2차 대회 정보 데이터\n",
    "new_competition_info = pd.read_csv('data/new_competition_info.csv', index_col=0, encoding='cp949').dropna(how = 'all')"
   ]
  },
  {
   "cell_type": "code",
   "execution_count": 356,
   "metadata": {},
   "outputs": [],
   "source": [
    "# 공휴일 train\n",
    "train_holidays = train[train['date'].isin(holidays['date'])]\n",
    "\n",
    "# 일반 train\n",
    "train_not_holidays = train[~train['date'].isin(holidays['date'])]"
   ]
  },
  {
   "cell_type": "markdown",
   "metadata": {},
   "source": [
    "# < 주말 뽑기 >"
   ]
  },
  {
   "cell_type": "code",
   "execution_count": 357,
   "metadata": {},
   "outputs": [],
   "source": [
    "from datetime import timedelta, date\n",
    "def daterange(date1, date2):\n",
    "    for n in range(int ((date2 - date1).days)+1):\n",
    "        yield date1 + timedelta(n)\n",
    "        \n",
    "# train 시작하는 날\n",
    "start_dt = date(2018,9,9)\n",
    "# train 끝나는 날 -> new_train을 포함하면서 end_dt를 바꿈\n",
    "end_dt = date(2020,12,8)\n",
    "\n",
    "# sub 시작하는 날 -> new_train을 포함하면서 end_dt를 바꿈\n",
    "start_sub = date(2020,12,9)\n",
    "# sub 끝나는 날\n",
    "end_sub = date(2021,1,8)\n",
    "\n",
    "# 토요일과 일요일\n",
    "weekdays = [5,6]\n",
    "\n",
    "# train 정보 저장 : test 데이터로 검정할 때 확인\n",
    "t_weekday = []\n",
    "t_weekend = []\n",
    "for dt in daterange(start_dt, end_dt):\n",
    "    if dt.weekday() not in weekdays:               \n",
    "        t_weekday.append(dt.strftime(\"%Y-%m-%d\"))\n",
    "    else:\n",
    "        t_weekend.append(dt.strftime(\"%Y-%m-%d\"))\n",
    "\n",
    "\n",
    "# 제출할 때 적용하기 위함\n",
    "sub_weekday = []\n",
    "sub_weekend = []\n",
    "for dt in daterange(start_sub, end_sub):\n",
    "    if dt.weekday() not in weekdays:               \n",
    "        sub_weekday.append(dt.strftime(\"%Y-%m-%d\"))\n",
    "    else:\n",
    "        sub_weekend.append(dt.strftime(\"%Y-%m-%d\"))"
   ]
  },
  {
   "cell_type": "code",
   "execution_count": 358,
   "metadata": {},
   "outputs": [],
   "source": [
    "# train의 주말 연,월,일만 뽑기\n",
    "train_5day = pd.to_datetime(np.array(t_weekday)).date\n",
    "train_2day = pd.to_datetime(np.array(t_weekend)).date\n",
    "\n",
    "# train의 주말 연,월,일만 뽑기\n",
    "sub_5day = pd.to_datetime(np.array(sub_weekday)).date\n",
    "sub_2day = pd.to_datetime(np.array(sub_weekend)).date\n",
    "\n",
    "# train의 date도 같은 형식으로 뽑기\n",
    "submission['DateTime'] = pd.to_datetime(submission['DateTime']).dt.date"
   ]
  },
  {
   "cell_type": "markdown",
   "metadata": {},
   "source": [
    "# 함수"
   ]
  },
  {
   "cell_type": "code",
   "execution_count": 359,
   "metadata": {},
   "outputs": [],
   "source": [
    "## train의 주말 연,월,일만 뽑기\n",
    "train_5day = pd.to_datetime(np.array(t_weekday)).date\n",
    "train_2day = pd.to_datetime(np.array(t_weekend)).date\n",
    "holiday_date = pd.to_datetime(np.array(holidays['date'])).date\n",
    "\n",
    "\n",
    "################ 공휴일에 원하는 가중치를 주는 함수 #################\n",
    "holiday_date = pd.to_datetime(np.array(holidays['date'])).date\n",
    "\n",
    "def holidays_data(data, date, col, weight):\n",
    "    data[date] = pd.to_datetime(data[date])\n",
    "    \n",
    "    # 분할\n",
    "    holidays_data = data[data[date].isin(holiday_date)][[date,col]]\n",
    "    not_holidays_data = data[~data[date].isin(holiday_date)][[date, col]]\n",
    "    # 공휴일 가중치\n",
    "    holidays_data[col] = holidays_data[col]* weight\n",
    "    \n",
    "    df = pd.concat([holidays_data, not_holidays_data]).sort_values(by = date)\n",
    "    df = df.set_index(date)\n",
    "    \n",
    "    return df\n",
    "\n",
    "\n",
    "################ 주말 및 공휴일과 평일을 분리하는 함수 ###################\n",
    "    # train\n",
    "train_holidays['date'] = pd.to_datetime(train_holidays['date'])\n",
    "\n",
    "# train과 sub의 휴일 분리\n",
    "t_holidays = holiday_date[holiday_date <= date(2020, 12, 8)]\n",
    "sub_holidays = holiday_date[holiday_date > date(2020, 12, 8)]\n",
    "all_train_rest = np.unique(np.sort(np.append(np.array(train_holidays['date'].dt.date), train_2day)))\n",
    "    # sub\n",
    "all_sub_rest = np.sort(np.append(sub_holidays, sub_2day))\n",
    "\n",
    "def data_rest_distribution(data, date, train_or_sub_date):\n",
    "    data[date] = pd.to_datetime(data[date]).dt.date\n",
    "    \n",
    "    # 분할\n",
    "    data_rest = data[data[date].isin(train_or_sub_date)]# [['date',col]]\n",
    "    data_not_rest = data[~data[date].isin(train_or_sub_date)]# [['date',col]]\n",
    "    \n",
    "    return data_rest, data_not_rest"
   ]
  },
  {
   "cell_type": "markdown",
   "metadata": {},
   "source": [
    "# 대회 개수 변수 추가"
   ]
  },
  {
   "cell_type": "code",
   "execution_count": 360,
   "metadata": {},
   "outputs": [
    {
     "data": {
      "text/html": [
       "<div>\n",
       "<style scoped>\n",
       "    .dataframe tbody tr th:only-of-type {\n",
       "        vertical-align: middle;\n",
       "    }\n",
       "\n",
       "    .dataframe tbody tr th {\n",
       "        vertical-align: top;\n",
       "    }\n",
       "\n",
       "    .dataframe thead th {\n",
       "        text-align: right;\n",
       "    }\n",
       "</style>\n",
       "<table border=\"1\" class=\"dataframe\">\n",
       "  <thead>\n",
       "    <tr style=\"text-align: right;\">\n",
       "      <th></th>\n",
       "      <th>date</th>\n",
       "      <th>count</th>\n",
       "    </tr>\n",
       "  </thead>\n",
       "  <tbody>\n",
       "    <tr>\n",
       "      <th>900</th>\n",
       "      <td>2021-01-30</td>\n",
       "      <td>1</td>\n",
       "    </tr>\n",
       "    <tr>\n",
       "      <th>901</th>\n",
       "      <td>2021-01-31</td>\n",
       "      <td>1</td>\n",
       "    </tr>\n",
       "    <tr>\n",
       "      <th>902</th>\n",
       "      <td>2021-02-01</td>\n",
       "      <td>1</td>\n",
       "    </tr>\n",
       "    <tr>\n",
       "      <th>903</th>\n",
       "      <td>2021-02-02</td>\n",
       "      <td>1</td>\n",
       "    </tr>\n",
       "    <tr>\n",
       "      <th>904</th>\n",
       "      <td>2021-02-03</td>\n",
       "      <td>1</td>\n",
       "    </tr>\n",
       "  </tbody>\n",
       "</table>\n",
       "</div>"
      ],
      "text/plain": [
       "           date  count\n",
       "900  2021-01-30      1\n",
       "901  2021-01-31      1\n",
       "902  2021-02-01      1\n",
       "903  2021-02-02      1\n",
       "904  2021-02-03      1"
      ]
     },
     "execution_count": 360,
     "metadata": {},
     "output_type": "execute_result"
    }
   ],
   "source": [
    "competition = new_competition_info\n",
    "\n",
    "# competition\n",
    "\n",
    "# 각 날짜별 진행되고 있는 대회 개수\n",
    "# competition 데이터셋의 모든 기간을 포함.\n",
    "\n",
    "def date_cpt_count(competition):\n",
    "    from datetime import date, timedelta\n",
    "\n",
    "    # datatype: datetime으로 변경\n",
    "    competition['period_start'] =  pd.to_datetime(competition.period_start)\n",
    "    competition['period_end'] =  pd.to_datetime(competition.period_end)\n",
    "    # date로 변경\n",
    "    competition['period_start'] = competition.period_start.dt.date\n",
    "    competition['period_end'] = competition.period_end.dt.date\n",
    "\n",
    "    # 모든 대회 기간을 포함하는 datelist 생성. 897개\n",
    "    start = competition['period_start'].min()\n",
    "    end = competition['period_end'].max()\n",
    "\n",
    "    datelist = []\n",
    "    for i in range((end-start).days +1):\n",
    "        datelist.append(start+timedelta(days=i))\n",
    "\n",
    "    # 각 날짜에 대회가 몇개 열렸는지 매칭.\n",
    "    cpt_cnt = [0 for i in range(len(datelist))] \n",
    "\n",
    "    for i in range(len(competition)):\n",
    "        s = competition.iloc[i]['period_start']\n",
    "        e = competition.iloc[i]['period_end']\n",
    "      \n",
    "        t = 0\n",
    "        for d in datelist:\n",
    "            if d >= s and d<=e:\n",
    "                cpt_cnt[t]+=1\n",
    "            t+=1\n",
    "\n",
    "    date_cpt_cnt = pd.DataFrame({'date':datelist\n",
    "                                ,'count': cpt_cnt})\n",
    "    date_cpt_cnt.head()\n",
    "\n",
    "    return date_cpt_cnt\n",
    "\n",
    "competition = date_cpt_count(competition)\n",
    "competition.tail(5)"
   ]
  },
  {
   "cell_type": "code",
   "execution_count": 361,
   "metadata": {},
   "outputs": [],
   "source": [
    "competition['date'] = pd.to_datetime(competition['date'])\n",
    "competition['date'] = competition['date'].dt.date\n",
    "competition = competition[(competition['date'] >= date(2018,9,9))&(competition['date']<=date(2021, 1, 8))].reset_index(drop = True)\n",
    "\n",
    "## 대회 개수 변수  추가\n",
    "train['competition_counts'] = pd.Series(competition[(competition['date']>=date(2018,9,9)) & (competition['date']<=date(2020, 12, 8))].reset_index(drop = True)['count'])\n",
    "submission['competition_counts'] = pd.Series(competition[(competition['date']>=date(2020,12,9)) & (competition['date']<=date(2021, 1, 8))].reset_index(drop = True)['count'])"
   ]
  },
  {
   "cell_type": "markdown",
   "metadata": {},
   "source": [
    "--------------"
   ]
  },
  {
   "cell_type": "markdown",
   "metadata": {},
   "source": [
    "# XGB 적용하기"
   ]
  },
  {
   "cell_type": "code",
   "execution_count": 362,
   "metadata": {},
   "outputs": [],
   "source": [
    "## 여러 정보를 바탕으로 XGB에는 19년 5월 부터 데이터 사용\n",
    "train = train[(pd.to_datetime(train['date'])>='2019-05-01') & (pd.to_datetime(train['date'])<='2020-12-08')]"
   ]
  },
  {
   "cell_type": "code",
   "execution_count": 363,
   "metadata": {
    "scrolled": true
   },
   "outputs": [],
   "source": [
    "# time_series로 만들기\n",
    "def series_to_supervised(data, n_in=1, n_out=1, dropnan=True):\n",
    "    n_vars = 1 if type(data) is list else data.shape[1]\n",
    "    df = DataFrame(data)\n",
    "    cols = list()\n",
    "    # 입력 sequence (t-n, ... t-1)\n",
    "    for i in range(n_in, 0, -1):\n",
    "        cols.append(df.shift(i))\n",
    "    # 출력 sequence (t, t+1, ... t+n)\n",
    "    for i in range(0, n_out):\n",
    "        cols.append(df.shift(-i))\n",
    "    agg = concat(cols, axis=1)\n",
    "    if dropnan:\n",
    "        agg.dropna(inplace=True)\n",
    "    return agg.values\n",
    "\n",
    "# 데이터 분할\n",
    "def train_test_split(data, n_test):\n",
    "    return data[:-n_test, :], data[-n_test:, :]\n",
    " \n",
    "# fit an xgboost model and make a one step prediction\n",
    "def xgboost_forecast(train, testX):\n",
    "    train = asarray(train)\n",
    "    trainX, trainy = train[:, :-1], train[:, -1]\n",
    "    model = XGBRegressor(objective='reg:squarederror', n_estimators=1000, random_state = 40)\n",
    "    model.fit(trainX, trainy)\n",
    "    yhat = model.predict(asarray([testX]))\n",
    "    return yhat[0]\n",
    " \n",
    "    \n",
    "def root_mean_squared_error(y, t):\n",
    "    return sqrt(((y-t)**2).mean(axis=None))\n",
    "    \n",
    "    \n",
    "# 데이터 분할하여 추세 예측\n",
    "def walk_forward_validation(data, n_test):\n",
    "    predictions = list()\n",
    "    # split dataset\n",
    "    train, test = train_test_split(data, n_test)\n",
    "    # seed history with training dataset\n",
    "    history = [x for x in train]\n",
    "    # step over each time-step in the test set\n",
    "    for i in range(len(test)):\n",
    "        # split test row into input and output columns\n",
    "        testX, testy = test[i, :-1], test[i, -1]\n",
    "        # fit model on history and make a prediction\n",
    "        yhat = xgboost_forecast(history, testX)\n",
    "        # store forecast in list of predictions\n",
    "        predictions.append(yhat)\n",
    "        # add actual observation to history for the next loop\n",
    "        history.append(test[i])\n",
    "        # summarize progress\n",
    "        print('>expected=%.1f, predicted=%.1f' % (testy, yhat))\n",
    "    # estimate prediction error\n",
    "    error = root_mean_squared_error(test[:, -1], predictions)\n",
    "    return error, test[:, -1], predictions"
   ]
  },
  {
   "cell_type": "code",
   "execution_count": 364,
   "metadata": {},
   "outputs": [
    {
     "name": "stdout",
     "output_type": "stream",
     "text": [
      "(195, 5)\n",
      "(393, 5)\n",
      "(11, 5)\n",
      "(20, 5)\n"
     ]
    }
   ],
   "source": [
    "## 데이터 분할\n",
    "train_rest, train_not_rest = data_rest_distribution(train, 'date', all_train_rest)\n",
    "sub_rest, sub_not_rest = data_rest_distribution(submission, 'DateTime', all_sub_rest)\n",
    "\n",
    "train_rest = train_rest.set_index('date')\n",
    "train_not_rest = train_not_rest.set_index('date')\n",
    "sub_rest = sub_rest.set_index('DateTime')\n",
    "sub_not_rest = sub_not_rest.set_index('DateTime')\n",
    "\n",
    "print(train_rest.shape)\n",
    "print(train_not_rest.shape)\n",
    "print(sub_rest.shape)\n",
    "print(sub_not_rest.shape)"
   ]
  },
  {
   "cell_type": "code",
   "execution_count": 365,
   "metadata": {
    "scrolled": true
   },
   "outputs": [
    {
     "name": "stdout",
     "output_type": "stream",
     "text": [
      ">expected=57386.0, predicted=41700.9\n",
      ">expected=50486.0, predicted=38976.0\n"
     ]
    },
    {
     "ename": "KeyboardInterrupt",
     "evalue": "",
     "output_type": "error",
     "traceback": [
      "\u001b[1;31m---------------------------------------------------------------------------\u001b[0m",
      "\u001b[1;31mKeyboardInterrupt\u001b[0m                         Traceback (most recent call last)",
      "\u001b[1;32m<ipython-input-365-130b1bacd213>\u001b[0m in \u001b[0;36m<module>\u001b[1;34m\u001b[0m\n\u001b[0;32m      4\u001b[0m \u001b[1;33m\u001b[0m\u001b[0m\n\u001b[0;32m      5\u001b[0m \u001b[1;31m# walk_forward_validation의 n_test를 100으로 두면 마지막 100개를 검증셋으로 활용함\u001b[0m\u001b[1;33m\u001b[0m\u001b[1;33m\u001b[0m\u001b[1;33m\u001b[0m\u001b[0m\n\u001b[1;32m----> 6\u001b[1;33m \u001b[0mrmse\u001b[0m\u001b[1;33m,\u001b[0m \u001b[0my\u001b[0m\u001b[1;33m,\u001b[0m \u001b[0myhat\u001b[0m \u001b[1;33m=\u001b[0m \u001b[0mwalk_forward_validation\u001b[0m\u001b[1;33m(\u001b[0m\u001b[0mdata\u001b[0m\u001b[1;33m,\u001b[0m \u001b[1;36m10\u001b[0m\u001b[1;33m)\u001b[0m\u001b[1;33m\u001b[0m\u001b[1;33m\u001b[0m\u001b[0m\n\u001b[0m",
      "\u001b[1;32m<ipython-input-363-3131ccb90d18>\u001b[0m in \u001b[0;36mwalk_forward_validation\u001b[1;34m(data, n_test)\u001b[0m\n\u001b[0;32m     45\u001b[0m         \u001b[0mtestX\u001b[0m\u001b[1;33m,\u001b[0m \u001b[0mtesty\u001b[0m \u001b[1;33m=\u001b[0m \u001b[0mtest\u001b[0m\u001b[1;33m[\u001b[0m\u001b[0mi\u001b[0m\u001b[1;33m,\u001b[0m \u001b[1;33m:\u001b[0m\u001b[1;33m-\u001b[0m\u001b[1;36m1\u001b[0m\u001b[1;33m]\u001b[0m\u001b[1;33m,\u001b[0m \u001b[0mtest\u001b[0m\u001b[1;33m[\u001b[0m\u001b[0mi\u001b[0m\u001b[1;33m,\u001b[0m \u001b[1;33m-\u001b[0m\u001b[1;36m1\u001b[0m\u001b[1;33m]\u001b[0m\u001b[1;33m\u001b[0m\u001b[1;33m\u001b[0m\u001b[0m\n\u001b[0;32m     46\u001b[0m         \u001b[1;31m# fit model on history and make a prediction\u001b[0m\u001b[1;33m\u001b[0m\u001b[1;33m\u001b[0m\u001b[1;33m\u001b[0m\u001b[0m\n\u001b[1;32m---> 47\u001b[1;33m         \u001b[0myhat\u001b[0m \u001b[1;33m=\u001b[0m \u001b[0mxgboost_forecast\u001b[0m\u001b[1;33m(\u001b[0m\u001b[0mhistory\u001b[0m\u001b[1;33m,\u001b[0m \u001b[0mtestX\u001b[0m\u001b[1;33m)\u001b[0m\u001b[1;33m\u001b[0m\u001b[1;33m\u001b[0m\u001b[0m\n\u001b[0m\u001b[0;32m     48\u001b[0m         \u001b[1;31m# store forecast in list of predictions\u001b[0m\u001b[1;33m\u001b[0m\u001b[1;33m\u001b[0m\u001b[1;33m\u001b[0m\u001b[0m\n\u001b[0;32m     49\u001b[0m         \u001b[0mpredictions\u001b[0m\u001b[1;33m.\u001b[0m\u001b[0mappend\u001b[0m\u001b[1;33m(\u001b[0m\u001b[0myhat\u001b[0m\u001b[1;33m)\u001b[0m\u001b[1;33m\u001b[0m\u001b[1;33m\u001b[0m\u001b[0m\n",
      "\u001b[1;32m<ipython-input-363-3131ccb90d18>\u001b[0m in \u001b[0;36mxgboost_forecast\u001b[1;34m(train, testX)\u001b[0m\n\u001b[0;32m     24\u001b[0m     \u001b[0mtrainX\u001b[0m\u001b[1;33m,\u001b[0m \u001b[0mtrainy\u001b[0m \u001b[1;33m=\u001b[0m \u001b[0mtrain\u001b[0m\u001b[1;33m[\u001b[0m\u001b[1;33m:\u001b[0m\u001b[1;33m,\u001b[0m \u001b[1;33m:\u001b[0m\u001b[1;33m-\u001b[0m\u001b[1;36m1\u001b[0m\u001b[1;33m]\u001b[0m\u001b[1;33m,\u001b[0m \u001b[0mtrain\u001b[0m\u001b[1;33m[\u001b[0m\u001b[1;33m:\u001b[0m\u001b[1;33m,\u001b[0m \u001b[1;33m-\u001b[0m\u001b[1;36m1\u001b[0m\u001b[1;33m]\u001b[0m\u001b[1;33m\u001b[0m\u001b[1;33m\u001b[0m\u001b[0m\n\u001b[0;32m     25\u001b[0m     \u001b[0mmodel\u001b[0m \u001b[1;33m=\u001b[0m \u001b[0mXGBRegressor\u001b[0m\u001b[1;33m(\u001b[0m\u001b[0mobjective\u001b[0m\u001b[1;33m=\u001b[0m\u001b[1;34m'reg:squarederror'\u001b[0m\u001b[1;33m,\u001b[0m \u001b[0mn_estimators\u001b[0m\u001b[1;33m=\u001b[0m\u001b[1;36m1000\u001b[0m\u001b[1;33m,\u001b[0m \u001b[0mrandom_state\u001b[0m \u001b[1;33m=\u001b[0m \u001b[1;36m40\u001b[0m\u001b[1;33m)\u001b[0m\u001b[1;33m\u001b[0m\u001b[1;33m\u001b[0m\u001b[0m\n\u001b[1;32m---> 26\u001b[1;33m     \u001b[0mmodel\u001b[0m\u001b[1;33m.\u001b[0m\u001b[0mfit\u001b[0m\u001b[1;33m(\u001b[0m\u001b[0mtrainX\u001b[0m\u001b[1;33m,\u001b[0m \u001b[0mtrainy\u001b[0m\u001b[1;33m)\u001b[0m\u001b[1;33m\u001b[0m\u001b[1;33m\u001b[0m\u001b[0m\n\u001b[0m\u001b[0;32m     27\u001b[0m     \u001b[0myhat\u001b[0m \u001b[1;33m=\u001b[0m \u001b[0mmodel\u001b[0m\u001b[1;33m.\u001b[0m\u001b[0mpredict\u001b[0m\u001b[1;33m(\u001b[0m\u001b[0masarray\u001b[0m\u001b[1;33m(\u001b[0m\u001b[1;33m[\u001b[0m\u001b[0mtestX\u001b[0m\u001b[1;33m]\u001b[0m\u001b[1;33m)\u001b[0m\u001b[1;33m)\u001b[0m\u001b[1;33m\u001b[0m\u001b[1;33m\u001b[0m\u001b[0m\n\u001b[0;32m     28\u001b[0m     \u001b[1;32mreturn\u001b[0m \u001b[0myhat\u001b[0m\u001b[1;33m[\u001b[0m\u001b[1;36m0\u001b[0m\u001b[1;33m]\u001b[0m\u001b[1;33m\u001b[0m\u001b[1;33m\u001b[0m\u001b[0m\n",
      "\u001b[1;32m~\\anaconda32\\lib\\site-packages\\xgboost\\sklearn.py\u001b[0m in \u001b[0;36mfit\u001b[1;34m(self, X, y, sample_weight, base_margin, eval_set, eval_metric, early_stopping_rounds, verbose, xgb_model, sample_weight_eval_set, callbacks)\u001b[0m\n\u001b[0;32m    546\u001b[0m                               \u001b[0mobj\u001b[0m\u001b[1;33m=\u001b[0m\u001b[0mobj\u001b[0m\u001b[1;33m,\u001b[0m \u001b[0mfeval\u001b[0m\u001b[1;33m=\u001b[0m\u001b[0mfeval\u001b[0m\u001b[1;33m,\u001b[0m\u001b[1;33m\u001b[0m\u001b[1;33m\u001b[0m\u001b[0m\n\u001b[0;32m    547\u001b[0m                               \u001b[0mverbose_eval\u001b[0m\u001b[1;33m=\u001b[0m\u001b[0mverbose\u001b[0m\u001b[1;33m,\u001b[0m \u001b[0mxgb_model\u001b[0m\u001b[1;33m=\u001b[0m\u001b[0mxgb_model\u001b[0m\u001b[1;33m,\u001b[0m\u001b[1;33m\u001b[0m\u001b[1;33m\u001b[0m\u001b[0m\n\u001b[1;32m--> 548\u001b[1;33m                               callbacks=callbacks)\n\u001b[0m\u001b[0;32m    549\u001b[0m \u001b[1;33m\u001b[0m\u001b[0m\n\u001b[0;32m    550\u001b[0m         \u001b[1;32mif\u001b[0m \u001b[0mevals_result\u001b[0m\u001b[1;33m:\u001b[0m\u001b[1;33m\u001b[0m\u001b[1;33m\u001b[0m\u001b[0m\n",
      "\u001b[1;32m~\\anaconda32\\lib\\site-packages\\xgboost\\training.py\u001b[0m in \u001b[0;36mtrain\u001b[1;34m(params, dtrain, num_boost_round, evals, obj, feval, maximize, early_stopping_rounds, evals_result, verbose_eval, xgb_model, callbacks)\u001b[0m\n\u001b[0;32m    210\u001b[0m                            \u001b[0mevals\u001b[0m\u001b[1;33m=\u001b[0m\u001b[0mevals\u001b[0m\u001b[1;33m,\u001b[0m\u001b[1;33m\u001b[0m\u001b[1;33m\u001b[0m\u001b[0m\n\u001b[0;32m    211\u001b[0m                            \u001b[0mobj\u001b[0m\u001b[1;33m=\u001b[0m\u001b[0mobj\u001b[0m\u001b[1;33m,\u001b[0m \u001b[0mfeval\u001b[0m\u001b[1;33m=\u001b[0m\u001b[0mfeval\u001b[0m\u001b[1;33m,\u001b[0m\u001b[1;33m\u001b[0m\u001b[1;33m\u001b[0m\u001b[0m\n\u001b[1;32m--> 212\u001b[1;33m                            xgb_model=xgb_model, callbacks=callbacks)\n\u001b[0m\u001b[0;32m    213\u001b[0m \u001b[1;33m\u001b[0m\u001b[0m\n\u001b[0;32m    214\u001b[0m \u001b[1;33m\u001b[0m\u001b[0m\n",
      "\u001b[1;32m~\\anaconda32\\lib\\site-packages\\xgboost\\training.py\u001b[0m in \u001b[0;36m_train_internal\u001b[1;34m(params, dtrain, num_boost_round, evals, obj, feval, xgb_model, callbacks)\u001b[0m\n\u001b[0;32m     73\u001b[0m         \u001b[1;31m# Skip the first update if it is a recovery step.\u001b[0m\u001b[1;33m\u001b[0m\u001b[1;33m\u001b[0m\u001b[1;33m\u001b[0m\u001b[0m\n\u001b[0;32m     74\u001b[0m         \u001b[1;32mif\u001b[0m \u001b[0mversion\u001b[0m \u001b[1;33m%\u001b[0m \u001b[1;36m2\u001b[0m \u001b[1;33m==\u001b[0m \u001b[1;36m0\u001b[0m\u001b[1;33m:\u001b[0m\u001b[1;33m\u001b[0m\u001b[1;33m\u001b[0m\u001b[0m\n\u001b[1;32m---> 75\u001b[1;33m             \u001b[0mbst\u001b[0m\u001b[1;33m.\u001b[0m\u001b[0mupdate\u001b[0m\u001b[1;33m(\u001b[0m\u001b[0mdtrain\u001b[0m\u001b[1;33m,\u001b[0m \u001b[0mi\u001b[0m\u001b[1;33m,\u001b[0m \u001b[0mobj\u001b[0m\u001b[1;33m)\u001b[0m\u001b[1;33m\u001b[0m\u001b[1;33m\u001b[0m\u001b[0m\n\u001b[0m\u001b[0;32m     76\u001b[0m             \u001b[0mbst\u001b[0m\u001b[1;33m.\u001b[0m\u001b[0msave_rabit_checkpoint\u001b[0m\u001b[1;33m(\u001b[0m\u001b[1;33m)\u001b[0m\u001b[1;33m\u001b[0m\u001b[1;33m\u001b[0m\u001b[0m\n\u001b[0;32m     77\u001b[0m             \u001b[0mversion\u001b[0m \u001b[1;33m+=\u001b[0m \u001b[1;36m1\u001b[0m\u001b[1;33m\u001b[0m\u001b[1;33m\u001b[0m\u001b[0m\n",
      "\u001b[1;32m~\\anaconda32\\lib\\site-packages\\xgboost\\core.py\u001b[0m in \u001b[0;36mupdate\u001b[1;34m(self, dtrain, iteration, fobj)\u001b[0m\n\u001b[0;32m   1159\u001b[0m             _check_call(_LIB.XGBoosterUpdateOneIter(self.handle,\n\u001b[0;32m   1160\u001b[0m                                                     \u001b[0mctypes\u001b[0m\u001b[1;33m.\u001b[0m\u001b[0mc_int\u001b[0m\u001b[1;33m(\u001b[0m\u001b[0miteration\u001b[0m\u001b[1;33m)\u001b[0m\u001b[1;33m,\u001b[0m\u001b[1;33m\u001b[0m\u001b[1;33m\u001b[0m\u001b[0m\n\u001b[1;32m-> 1161\u001b[1;33m                                                     dtrain.handle))\n\u001b[0m\u001b[0;32m   1162\u001b[0m         \u001b[1;32melse\u001b[0m\u001b[1;33m:\u001b[0m\u001b[1;33m\u001b[0m\u001b[1;33m\u001b[0m\u001b[0m\n\u001b[0;32m   1163\u001b[0m             \u001b[0mpred\u001b[0m \u001b[1;33m=\u001b[0m \u001b[0mself\u001b[0m\u001b[1;33m.\u001b[0m\u001b[0mpredict\u001b[0m\u001b[1;33m(\u001b[0m\u001b[0mdtrain\u001b[0m\u001b[1;33m,\u001b[0m \u001b[0moutput_margin\u001b[0m\u001b[1;33m=\u001b[0m\u001b[1;32mTrue\u001b[0m\u001b[1;33m,\u001b[0m \u001b[0mtraining\u001b[0m\u001b[1;33m=\u001b[0m\u001b[1;32mTrue\u001b[0m\u001b[1;33m)\u001b[0m\u001b[1;33m\u001b[0m\u001b[1;33m\u001b[0m\u001b[0m\n",
      "\u001b[1;31mKeyboardInterrupt\u001b[0m: "
     ]
    }
   ],
   "source": [
    "values = list(train_rest.iloc[:,3].values)\n",
    "data = series_to_supervised(values, n_in=90)\n",
    "data\n",
    "\n",
    "# walk_forward_validation의 n_test를 100으로 두면 마지막 100개를 검증셋으로 활용함\n",
    "rmse, y, yhat = walk_forward_validation(data, 10)"
   ]
  },
  {
   "cell_type": "code",
   "execution_count": 305,
   "metadata": {},
   "outputs": [
    {
     "name": "stdout",
     "output_type": "stream",
     "text": [
      "RMSE: 9956.468\n"
     ]
    },
    {
     "data": {
      "image/png": "[encoded data removed]",
      "text/plain": [
       "<Figure size 1080x504 with 1 Axes>"
      ]
     },
     "metadata": {
      "needs_background": "light"
     },
     "output_type": "display_data"
    }
   ],
   "source": [
    "print('RMSE: %.3f' % rmse)\n",
    "# plot expected vs preducted\n",
    "plt.figure(figsize = (15,7))\n",
    "pyplot.plot(y, label='Expected')\n",
    "pyplot.plot(yhat, label='Predicted')\n",
    "pyplot.legend()\n",
    "pyplot.show()"
   ]
  },
  {
   "cell_type": "markdown",
   "metadata": {},
   "source": [
    "- n_in값을 크게 하면 모델이 학습하는 데이터의 양이 커져서 보다 더 잘 학습함"
   ]
  },
  {
   "cell_type": "markdown",
   "metadata": {},
   "source": [
    "-----------------------"
   ]
  },
  {
   "cell_type": "markdown",
   "metadata": {},
   "source": [
    "# 확인하기(과정 skip)\n",
    "- xgb 스태킹 최고기록은 평일과 휴일로 1차 나눈 결과가 아니라 \n",
    "- 평일과 휴일을 나눈 뒤 대회 개수에 따라서 2차 나눔을 한 결과이다."
   ]
  },
  {
   "cell_type": "markdown",
   "metadata": {},
   "source": [
    "--------------------------"
   ]
  },
  {
   "cell_type": "markdown",
   "metadata": {},
   "source": [
    "# 대회 개수에 따른 분류 확인"
   ]
  },
  {
   "cell_type": "markdown",
   "metadata": {},
   "source": [
    "# 휴일"
   ]
  },
  {
   "cell_type": "code",
   "execution_count": 366,
   "metadata": {},
   "outputs": [
    {
     "name": "stdout",
     "output_type": "stream",
     "text": [
      "### train 파일 ###\n",
      "3    228\n",
      "2    118\n",
      "4     94\n",
      "1     85\n",
      "7     18\n",
      "5     15\n",
      "0     14\n",
      "6     13\n",
      "9      3\n",
      "Name: competition_counts, dtype: int64\n",
      "\n",
      "### submission 파일 ###\n",
      "7    11\n",
      "5     7\n",
      "6     5\n",
      "2     4\n",
      "3     4\n",
      "Name: competition_counts, dtype: int64\n"
     ]
    }
   ],
   "source": [
    "## 대회 수에 따른 관측치 개수 확인\n",
    "print('### train 파일 ###')\n",
    "print(train.competition_counts.value_counts())\n",
    "print()\n",
    "print('### submission 파일 ###')\n",
    "print(submission.competition_counts.value_counts())\n"
   ]
  },
  {
   "cell_type": "markdown",
   "metadata": {},
   "source": [
    "## 상자그림을 통한 Y 분포 확인"
   ]
  },
  {
   "cell_type": "code",
   "execution_count": 367,
   "metadata": {},
   "outputs": [
    {
     "data": {
      "text/plain": [
       "<matplotlib.axes._subplots.AxesSubplot at 0x1db93a91708>"
      ]
     },
     "execution_count": 367,
     "metadata": {},
     "output_type": "execute_result"
    },
    {
     "data": {
      "image/png": "[encoded data removed]",
      "text/plain": [
       "<Figure size 936x576 with 1 Axes>"
      ]
     },
     "metadata": {
      "needs_background": "light"
     },
     "output_type": "display_data"
    }
   ],
   "source": [
    "# 휴일과 평일을 나누지 않은 상태(train)의 대회 수에 따른 분포 확인\n",
    "plt.figure(figsize = (13,8))\n",
    "sns.boxplot(x = 'competition_counts',\n",
    "           y = '사용자',\n",
    "           data = train)"
   ]
  },
  {
   "cell_type": "markdown",
   "metadata": {},
   "source": [
    "## 1. 사용자"
   ]
  },
  {
   "cell_type": "code",
   "execution_count": 368,
   "metadata": {
    "scrolled": true
   },
   "outputs": [
    {
     "data": {
      "text/plain": [
       "competition_counts\n",
       "0     352.750000\n",
       "1     361.620690\n",
       "2     936.150000\n",
       "3    1222.152941\n",
       "4    1379.240000\n",
       "5    1718.000000\n",
       "6    2151.666667\n",
       "7    2592.750000\n",
       "Name: 사용자, dtype: float64"
      ]
     },
     "execution_count": 368,
     "metadata": {},
     "output_type": "execute_result"
    }
   ],
   "source": [
    "train_rest.groupby('competition_counts')['사용자'].mean()"
   ]
  },
  {
   "cell_type": "code",
   "execution_count": 369,
   "metadata": {},
   "outputs": [
    {
     "data": {
      "text/plain": [
       "<matplotlib.axes._subplots.AxesSubplot at 0x1db918cb208>"
      ]
     },
     "execution_count": 369,
     "metadata": {},
     "output_type": "execute_result"
    },
    {
     "data": {
      "image/png": "[encoded data removed]",
      "text/plain": [
       "<Figure size 936x576 with 1 Axes>"
      ]
     },
     "metadata": {
      "needs_background": "light"
     },
     "output_type": "display_data"
    }
   ],
   "source": [
    "plt.figure(figsize = (13,8))\n",
    "sns.boxplot(x = 'competition_counts',\n",
    "           y = '사용자',\n",
    "           data = train_rest)"
   ]
  },
  {
   "cell_type": "markdown",
   "metadata": {},
   "source": [
    "- [0,1], [2,3,4], [5,6,7]\n",
    "\n",
    "- [0,1,2], [3,4,5,6,7]"
   ]
  },
  {
   "cell_type": "markdown",
   "metadata": {},
   "source": [
    "## 2. 세션"
   ]
  },
  {
   "cell_type": "code",
   "execution_count": 370,
   "metadata": {},
   "outputs": [
    {
     "name": "stdout",
     "output_type": "stream",
     "text": [
      "competition_counts\n",
      "0     373.000000\n",
      "1     371.344828\n",
      "2     937.275000\n",
      "3    1202.282353\n",
      "4    1345.640000\n",
      "5    1690.500000\n",
      "6    2108.333333\n",
      "7    2525.000000\n",
      "Name: 세션, dtype: float64\n",
      "3    85\n",
      "2    40\n",
      "1    29\n",
      "4    25\n",
      "6     6\n",
      "0     4\n",
      "7     4\n",
      "5     2\n",
      "Name: competition_counts, dtype: int64\n"
     ]
    }
   ],
   "source": [
    "print(train_rest.groupby('competition_counts')['세션'].mean())\n",
    "print(train_rest.competition_counts.value_counts())"
   ]
  },
  {
   "cell_type": "code",
   "execution_count": 371,
   "metadata": {},
   "outputs": [
    {
     "data": {
      "text/plain": [
       "<matplotlib.axes._subplots.AxesSubplot at 0x1db9174e888>"
      ]
     },
     "execution_count": 371,
     "metadata": {},
     "output_type": "execute_result"
    },
    {
     "data": {
      "image/png": "[encoded data removed]",
      "text/plain": [
       "<Figure size 936x576 with 1 Axes>"
      ]
     },
     "metadata": {
      "needs_background": "light"
     },
     "output_type": "display_data"
    }
   ],
   "source": [
    "plt.figure(figsize = (13,8))\n",
    "sns.boxplot(x = 'competition_counts',\n",
    "           y = '세션',\n",
    "           data = train_rest)"
   ]
  },
  {
   "cell_type": "markdown",
   "metadata": {},
   "source": [
    "- [0,1], [2,3,4], [5,6,7]\n",
    "\n",
    "- [0,1,2], [3,4,5,6,7]"
   ]
  },
  {
   "cell_type": "markdown",
   "metadata": {},
   "source": [
    "## 3. 신규방문자"
   ]
  },
  {
   "cell_type": "code",
   "execution_count": 372,
   "metadata": {},
   "outputs": [
    {
     "data": {
      "text/plain": [
       "competition_counts\n",
       "0    135.250000\n",
       "1    107.448276\n",
       "2    215.800000\n",
       "3    257.341176\n",
       "4    283.520000\n",
       "5    370.500000\n",
       "6    479.000000\n",
       "7    510.000000\n",
       "Name: 신규방문자, dtype: float64"
      ]
     },
     "execution_count": 372,
     "metadata": {},
     "output_type": "execute_result"
    }
   ],
   "source": [
    "train_rest.groupby('competition_counts')['신규방문자'].mean()"
   ]
  },
  {
   "cell_type": "code",
   "execution_count": 373,
   "metadata": {},
   "outputs": [
    {
     "data": {
      "text/plain": [
       "<matplotlib.axes._subplots.AxesSubplot at 0x1db8cf48d88>"
      ]
     },
     "execution_count": 373,
     "metadata": {},
     "output_type": "execute_result"
    },
    {
     "data": {
      "image/png": "[encoded data removed]",
      "text/plain": [
       "<Figure size 936x576 with 1 Axes>"
      ]
     },
     "metadata": {
      "needs_background": "light"
     },
     "output_type": "display_data"
    }
   ],
   "source": [
    "plt.figure(figsize = (13,8))\n",
    "sns.boxplot(x = 'competition_counts',\n",
    "           y = '신규방문자',\n",
    "           data = train_rest)"
   ]
  },
  {
   "cell_type": "markdown",
   "metadata": {},
   "source": [
    "- [0,1], [2,3,4], [5,6,7]"
   ]
  },
  {
   "cell_type": "markdown",
   "metadata": {},
   "source": [
    "## 4. 페이지뷰"
   ]
  },
  {
   "cell_type": "code",
   "execution_count": 374,
   "metadata": {},
   "outputs": [
    {
     "data": {
      "text/plain": [
       "competition_counts\n",
       "0     3918.000000\n",
       "1     6168.517241\n",
       "2    21206.025000\n",
       "3    28225.070588\n",
       "4    34118.200000\n",
       "5    38133.000000\n",
       "6    50257.833333\n",
       "7    60288.750000\n",
       "Name: 페이지뷰, dtype: float64"
      ]
     },
     "execution_count": 374,
     "metadata": {},
     "output_type": "execute_result"
    }
   ],
   "source": [
    "train_rest.groupby('competition_counts')['페이지뷰'].mean()"
   ]
  },
  {
   "cell_type": "code",
   "execution_count": 375,
   "metadata": {},
   "outputs": [
    {
     "data": {
      "text/plain": [
       "<matplotlib.axes._subplots.AxesSubplot at 0x1db8fcb6d08>"
      ]
     },
     "execution_count": 375,
     "metadata": {},
     "output_type": "execute_result"
    },
    {
     "data": {
      "image/png": "[encoded data removed]",
      "text/plain": [
       "<Figure size 936x576 with 1 Axes>"
      ]
     },
     "metadata": {
      "needs_background": "light"
     },
     "output_type": "display_data"
    }
   ],
   "source": [
    "plt.figure(figsize = (13,8))\n",
    "sns.boxplot(x = 'competition_counts',\n",
    "           y = '페이지뷰',\n",
    "           data = train_rest)"
   ]
  },
  {
   "cell_type": "markdown",
   "metadata": {},
   "source": [
    "- [0,1], [2,3,4, 5], [6,7]\n",
    "- 3개로 분할 했을때의 범주 => 5,6,7의 데이터가 너무나 부족"
   ]
  },
  {
   "cell_type": "markdown",
   "metadata": {},
   "source": [
    "----------------------------"
   ]
  },
  {
   "cell_type": "markdown",
   "metadata": {},
   "source": [
    "# 주중"
   ]
  },
  {
   "cell_type": "markdown",
   "metadata": {},
   "source": [
    "## 1. 사용자"
   ]
  },
  {
   "cell_type": "code",
   "execution_count": 376,
   "metadata": {
    "scrolled": true
   },
   "outputs": [
    {
     "data": {
      "text/plain": [
       "competition_counts\n",
       "0     675.400000\n",
       "1     584.642857\n",
       "2    1374.371795\n",
       "3    1769.132867\n",
       "4    2327.608696\n",
       "5    3141.769231\n",
       "6    3569.285714\n",
       "7    4074.928571\n",
       "9    4206.666667\n",
       "Name: 사용자, dtype: float64"
      ]
     },
     "execution_count": 376,
     "metadata": {},
     "output_type": "execute_result"
    }
   ],
   "source": [
    "train_not_rest.groupby('competition_counts')['사용자'].mean()"
   ]
  },
  {
   "cell_type": "code",
   "execution_count": 377,
   "metadata": {},
   "outputs": [
    {
     "data": {
      "text/plain": [
       "<matplotlib.axes._subplots.AxesSubplot at 0x1db8fcb6948>"
      ]
     },
     "execution_count": 377,
     "metadata": {},
     "output_type": "execute_result"
    },
    {
     "data": {
      "image/png": "[encoded data removed]",
      "text/plain": [
       "<Figure size 936x576 with 1 Axes>"
      ]
     },
     "metadata": {
      "needs_background": "light"
     },
     "output_type": "display_data"
    }
   ],
   "source": [
    "plt.figure(figsize = (13,8))\n",
    "sns.boxplot(x = 'competition_counts',\n",
    "           y = '사용자',\n",
    "           data = train_not_rest)"
   ]
  },
  {
   "cell_type": "markdown",
   "metadata": {},
   "source": [
    "- [0,1], [2,3,4], [7]"
   ]
  },
  {
   "cell_type": "markdown",
   "metadata": {},
   "source": [
    "## 2. 세션"
   ]
  },
  {
   "cell_type": "code",
   "execution_count": 378,
   "metadata": {
    "scrolled": true
   },
   "outputs": [
    {
     "data": {
      "text/plain": [
       "competition_counts\n",
       "0     721.900000\n",
       "1     603.321429\n",
       "2    1376.089744\n",
       "3    1743.895105\n",
       "4    2298.811594\n",
       "5    3086.692308\n",
       "6    3512.000000\n",
       "7    3979.285714\n",
       "9    4105.000000\n",
       "Name: 세션, dtype: float64"
      ]
     },
     "execution_count": 378,
     "metadata": {},
     "output_type": "execute_result"
    }
   ],
   "source": [
    "train_not_rest.groupby('competition_counts')['세션'].mean()"
   ]
  },
  {
   "cell_type": "code",
   "execution_count": 379,
   "metadata": {},
   "outputs": [
    {
     "data": {
      "text/plain": [
       "<matplotlib.axes._subplots.AxesSubplot at 0x1db8fb56288>"
      ]
     },
     "execution_count": 379,
     "metadata": {},
     "output_type": "execute_result"
    },
    {
     "data": {
      "image/png": "[encoded data removed]",
      "text/plain": [
       "<Figure size 936x576 with 1 Axes>"
      ]
     },
     "metadata": {
      "needs_background": "light"
     },
     "output_type": "display_data"
    }
   ],
   "source": [
    "plt.figure(figsize = (13,8))\n",
    "sns.boxplot(x = 'competition_counts',\n",
    "           y = '세션',\n",
    "           data = train_not_rest)"
   ]
  },
  {
   "cell_type": "markdown",
   "metadata": {},
   "source": [
    "- [0,1], [2,3,4,5], [7]"
   ]
  },
  {
   "cell_type": "markdown",
   "metadata": {},
   "source": [
    "## 3. 신규방문자"
   ]
  },
  {
   "cell_type": "code",
   "execution_count": 380,
   "metadata": {
    "scrolled": true
   },
   "outputs": [
    {
     "data": {
      "text/plain": [
       "competition_counts\n",
       "0    272.500000\n",
       "1    179.196429\n",
       "2    338.858974\n",
       "3    418.013986\n",
       "4    558.188406\n",
       "5    774.769231\n",
       "6    905.000000\n",
       "7    985.428571\n",
       "9    900.666667\n",
       "Name: 신규방문자, dtype: float64"
      ]
     },
     "execution_count": 380,
     "metadata": {},
     "output_type": "execute_result"
    }
   ],
   "source": [
    "train_not_rest.groupby('competition_counts')['신규방문자'].mean()"
   ]
  },
  {
   "cell_type": "code",
   "execution_count": 381,
   "metadata": {},
   "outputs": [
    {
     "data": {
      "text/plain": [
       "<matplotlib.axes._subplots.AxesSubplot at 0x1db90853248>"
      ]
     },
     "execution_count": 381,
     "metadata": {},
     "output_type": "execute_result"
    },
    {
     "data": {
      "image/png": "[encoded data removed]",
      "text/plain": [
       "<Figure size 936x576 with 1 Axes>"
      ]
     },
     "metadata": {
      "needs_background": "light"
     },
     "output_type": "display_data"
    }
   ],
   "source": [
    "plt.figure(figsize = (13,8))\n",
    "sns.boxplot(x = 'competition_counts',\n",
    "           y = '신규방문자',\n",
    "           data = train_not_rest)"
   ]
  },
  {
   "cell_type": "markdown",
   "metadata": {},
   "source": [
    "- [0,1,2], [3,4,5], [7]"
   ]
  },
  {
   "cell_type": "markdown",
   "metadata": {},
   "source": [
    "## 4. 페이지뷰"
   ]
  },
  {
   "cell_type": "code",
   "execution_count": 382,
   "metadata": {
    "scrolled": true
   },
   "outputs": [
    {
     "data": {
      "text/plain": [
       "competition_counts\n",
       "0      8613.000000\n",
       "1     10459.750000\n",
       "2     30244.256410\n",
       "3     40256.811189\n",
       "4     59579.159420\n",
       "5     79547.230769\n",
       "6     86728.142857\n",
       "7    102234.571429\n",
       "9    103550.666667\n",
       "Name: 페이지뷰, dtype: float64"
      ]
     },
     "execution_count": 382,
     "metadata": {},
     "output_type": "execute_result"
    }
   ],
   "source": [
    "train_not_rest.groupby('competition_counts')['페이지뷰'].mean()"
   ]
  },
  {
   "cell_type": "code",
   "execution_count": 383,
   "metadata": {},
   "outputs": [
    {
     "data": {
      "text/plain": [
       "<matplotlib.axes._subplots.AxesSubplot at 0x1db9177e548>"
      ]
     },
     "execution_count": 383,
     "metadata": {},
     "output_type": "execute_result"
    },
    {
     "data": {
      "image/png": "[encoded data removed]",
      "text/plain": [
       "<Figure size 936x576 with 1 Axes>"
      ]
     },
     "metadata": {
      "needs_background": "light"
     },
     "output_type": "display_data"
    }
   ],
   "source": [
    "plt.figure(figsize = (13,8))\n",
    "sns.boxplot(x = 'competition_counts',\n",
    "           y = '페이지뷰',\n",
    "           data = train_not_rest)"
   ]
  },
  {
   "cell_type": "markdown",
   "metadata": {},
   "source": [
    "- [0,1], [2,3,4,5], [7]"
   ]
  },
  {
   "cell_type": "markdown",
   "metadata": {},
   "source": [
    "--------------------"
   ]
  },
  {
   "cell_type": "markdown",
   "metadata": {},
   "source": [
    "# 평일과 휴일 분리 + 대회 개수에 따른 분리 XGB 적용\n",
    "* 휴일의 경우 [0,1,2], [3,4,5,6,7]\n",
    "* 주중의  경우 \n",
    "\t  *[0,1,2], [3,4,5,6,7]\n",
    "\t  *[0,1,2,3], [4,5,6,7]"
   ]
  },
  {
   "cell_type": "code",
   "execution_count": 384,
   "metadata": {},
   "outputs": [
    {
     "data": {
      "text/plain": [
       "7    11\n",
       "5     7\n",
       "6     5\n",
       "2     4\n",
       "3     4\n",
       "Name: competition_counts, dtype: int64"
      ]
     },
     "execution_count": 384,
     "metadata": {},
     "output_type": "execute_result"
    }
   ],
   "source": [
    "submission.competition_counts.value_counts()"
   ]
  },
  {
   "cell_type": "code",
   "execution_count": 385,
   "metadata": {},
   "outputs": [],
   "source": [
    "## 인덱스 제거\n",
    "train_not_rest.reset_index(drop=False, inplace = True)\n",
    "train_rest.reset_index(drop=False, inplace = True)\n",
    "\n",
    "sub_rest.reset_index(drop=False, inplace = True)\n",
    "sub_not_rest.reset_index(drop=False, inplace = True)"
   ]
  },
  {
   "cell_type": "code",
   "execution_count": 386,
   "metadata": {},
   "outputs": [],
   "source": [
    "## 사용자 분리 : 휴일\n",
    "t_user_rest_012 = train_rest[train_rest.competition_counts.isin([0,1,2])][['date','사용자']].reset_index(drop=True)\n",
    "t_user_rest_34567 = train_rest[train_rest.competition_counts.isin([3,4,5,6,7])][['date','사용자']].reset_index(drop=True)\n",
    "## 사용자 분리 : 평일\n",
    "t_user_not_rest_012 = train_not_rest[train_not_rest.competition_counts.isin([0,1,2])][['date','사용자']].reset_index(drop=True)\n",
    "t_user_not_rest_34567 = train_not_rest[train_not_rest.competition_counts.isin([3,4,5,6,7,9])][['date','사용자']].reset_index(drop=True)\n",
    "\n",
    "\n",
    "## 세션 분리 : 휴일\n",
    "t_sess_rest_012 = train_rest[train_rest.competition_counts.isin([0,1,2])][['date','세션']].reset_index(drop=True)\n",
    "t_sess_rest_34567 = train_rest[train_rest.competition_counts.isin([3,4,5,6,7])][['date','세션']].reset_index(drop=True)\n",
    "## 세션 분리 : 평일\n",
    "t_sess_not_rest_012 = train_not_rest[train_not_rest.competition_counts.isin([0,1,2])][['date','세션']].reset_index(drop=True)\n",
    "t_sess_not_rest_34567 = train_not_rest[train_not_rest.competition_counts.isin([3,4,5,6,7,9])][['date','세션']].reset_index(drop=True)\n",
    "\n",
    "\n",
    "## 신규방문자 분리 : 휴일\n",
    "t_new_rest_012 = train_rest[train_rest.competition_counts.isin([0,1,2])][['date','신규방문자']].reset_index(drop=True)\n",
    "t_new_rest_34567 = train_rest[train_rest.competition_counts.isin([3,4,5,6,7])][['date','신규방문자']].reset_index(drop=True)\n",
    "## 신규방문자 분리 : 평일\n",
    "t_new_not_rest_012 = train_not_rest[train_not_rest.competition_counts.isin([0,1,2])][['date','신규방문자']].reset_index(drop=True)\n",
    "t_new_not_rest_34567 = train_not_rest[train_not_rest.competition_counts.isin([3,4,5,6,7,9])][['date','신규방문자']].reset_index(drop=True)\n",
    "\n",
    "\n",
    "## 페이지뷰 분리 : 휴일\n",
    "t_page_rest_012 = train_rest[train_rest.competition_counts.isin([0,1,2])][['date','페이지뷰']].reset_index(drop=True)\n",
    "t_page_rest_34567 = train_rest[train_rest.competition_counts.isin([3,4,5,6,7])][['date','페이지뷰']].reset_index(drop=True)\n",
    "## 페이지뷰 분리 : 평일\n",
    "t_page_not_rest_012 = train_not_rest[train_not_rest.competition_counts.isin([0,1,2])][['date','페이지뷰']].reset_index(drop=True)\n",
    "t_page_not_rest_34567 = train_not_rest[train_not_rest.competition_counts.isin([3,4,5,6,7,9])][['date','페이지뷰']].reset_index(drop=True)"
   ]
  },
  {
   "cell_type": "code",
   "execution_count": 387,
   "metadata": {},
   "outputs": [],
   "source": [
    "########################################################################################################################\n",
    "#################################################### sub 분리 ##########################################################\n",
    "########################################################################################################################\n",
    "## 사용자 분리 : 휴일\n",
    "s_user_rest_012 = sub_rest[sub_rest.competition_counts.isin([0,1,2])][['DateTime','사용자']].reset_index(drop=True)\n",
    "s_user_rest_34567 = sub_rest[sub_rest.competition_counts.isin([3,4,5,6,7])][['DateTime','사용자']].reset_index(drop=True)\n",
    "## 사용자 분리 : 평일\n",
    "s_user_not_rest_012 = sub_not_rest[sub_not_rest.competition_counts.isin([0,1,2])][['DateTime','사용자']].reset_index(drop=True)\n",
    "s_user_not_rest_34567 = sub_not_rest[sub_not_rest.competition_counts.isin([3,4,5,6,7,9])][['DateTime','사용자']].reset_index(drop=True)\n",
    "\n",
    "\n",
    "## 세션 분리 : 휴일\n",
    "s_sess_rest_012 = sub_rest[sub_rest.competition_counts.isin([0,1,2])][['DateTime','세션']].reset_index(drop=True)\n",
    "s_sess_rest_34567= sub_rest[sub_rest.competition_counts.isin([3,4,5,6,7,9])][['DateTime','세션']].reset_index(drop=True)\n",
    "## 세션 분리 : 평일\n",
    "s_sess_not_rest_012 = sub_not_rest[sub_not_rest.competition_counts.isin([0,1,2])][['DateTime','세션']].reset_index(drop=True)\n",
    "s_sess_not_rest_34567 = sub_not_rest[sub_not_rest.competition_counts.isin([3,4,5,6,7,9])][['DateTime','세션']].reset_index(drop=True)\n",
    "\n",
    "\n",
    "## 신규방문자 분리 : 휴일\n",
    "s_new_rest_012 = sub_rest[sub_rest.competition_counts.isin([0,1,2])][['DateTime','신규방문자']].reset_index(drop=True)\n",
    "s_new_rest_34567 = sub_rest[sub_rest.competition_counts.isin([3,4,5,6,7])][['DateTime','신규방문자']].reset_index(drop=True)\n",
    "## 신규방문자 분리 : 평일\n",
    "s_new_not_rest_012 = sub_not_rest[sub_not_rest.competition_counts.isin([0,1,2])][['DateTime','신규방문자']].reset_index(drop=True)\n",
    "s_new_not_rest_34567 = sub_not_rest[sub_not_rest.competition_counts.isin([3,4,5,6,7,9])][['DateTime','신규방문자']].reset_index(drop=True)\n",
    "\n",
    "\n",
    "## 페이지뷰 분리 : 휴일\n",
    "s_page_rest_012 = sub_rest[sub_rest.competition_counts.isin([0,1,2])][['DateTime','페이지뷰']].reset_index(drop=True)\n",
    "s_page_rest_34567 = sub_rest[sub_rest.competition_counts.isin([3,4,5,6,7])][['DateTime','페이지뷰']].reset_index(drop=True)\n",
    "## 페이지뷰 분리 : 평일\n",
    "s_page_not_rest_012 = sub_not_rest[sub_not_rest.competition_counts.isin([0,1,2])][['DateTime','페이지뷰']].reset_index(drop=True)\n",
    "s_page_not_rest_34567 = sub_not_rest[sub_not_rest.competition_counts.isin([3,4,5,6,7,9])][['DateTime','페이지뷰']].reset_index(drop=True)"
   ]
  },
  {
   "cell_type": "markdown",
   "metadata": {},
   "source": [
    "----------------------"
   ]
  },
  {
   "cell_type": "markdown",
   "metadata": {},
   "source": [
    "# 알고리즘 적용"
   ]
  },
  {
   "cell_type": "code",
   "execution_count": 388,
   "metadata": {},
   "outputs": [
    {
     "name": "stdout",
     "output_type": "stream",
     "text": [
      "휴일 사용자\n",
      "(73, 2) (122, 2)\n",
      "휴일 세션\n",
      "(73, 2) (122, 2)\n",
      "휴일 신규방문자\n",
      "(73, 2) (122, 2)\n",
      "휴일 페이지뷰\n",
      "(73, 2) (122, 2)\n",
      "\n",
      "주중 사용자\n",
      "(144, 2) (249, 2)\n",
      "주중 세션\n",
      "(144, 2) (249, 2)\n",
      "주중 신규방문자\n",
      "(144, 2) (249, 2)\n",
      "주중 페이지뷰\n",
      "(144, 2) (249, 2)\n"
     ]
    }
   ],
   "source": [
    "print('휴일 사용자')\n",
    "print(t_user_rest_012.shape, t_user_rest_34567.shape)\n",
    "print('휴일 세션')\n",
    "print(t_sess_rest_012.shape, t_sess_rest_34567.shape)\n",
    "print('휴일 신규방문자')\n",
    "print(t_new_rest_012.shape, t_new_rest_34567.shape)\n",
    "print('휴일 페이지뷰')\n",
    "print(t_page_rest_012.shape, t_page_rest_34567.shape, end = '\\n\\n')\n",
    "print('주중 사용자')\n",
    "print(t_user_not_rest_012.shape, t_user_not_rest_34567.shape)\n",
    "print('주중 세션')\n",
    "print(t_sess_not_rest_012.shape, t_sess_not_rest_34567.shape)\n",
    "print('주중 신규방문자')\n",
    "print(t_new_not_rest_012.shape, t_new_not_rest_34567.shape)\n",
    "print('주중 페이지뷰')\n",
    "print(t_page_not_rest_012.shape, t_page_not_rest_34567.shape)"
   ]
  },
  {
   "cell_type": "code",
   "execution_count": 389,
   "metadata": {},
   "outputs": [
    {
     "name": "stdout",
     "output_type": "stream",
     "text": [
      "휴일 사용자\n",
      "(2, 2) (9, 2)\n",
      "휴일 세션\n",
      "(2, 2) (9, 2)\n",
      "휴일 신규방문자\n",
      "(2, 2) (9, 2)\n",
      "휴일 페이지뷰\n",
      "(2, 2) (9, 2)\n",
      "\n",
      "주중 사용자\n",
      "(2, 2) (18, 2)\n",
      "주중 세션\n",
      "(2, 2) (18, 2)\n",
      "주중 신규방문자\n",
      "(2, 2) (18, 2)\n",
      "주중 페이지뷰\n",
      "(2, 2) (18, 2)\n"
     ]
    }
   ],
   "source": [
    "print('휴일 사용자')\n",
    "print(s_user_rest_012.shape, s_user_rest_34567.shape)\n",
    "print('휴일 세션')\n",
    "print(s_sess_rest_012.shape, s_sess_rest_34567.shape)\n",
    "print('휴일 신규방문자')\n",
    "print(s_new_rest_012.shape, s_new_rest_34567.shape)\n",
    "print('휴일 페이지뷰')\n",
    "print(s_page_rest_012.shape, s_page_rest_34567.shape, end = '\\n\\n')\n",
    "print('주중 사용자')\n",
    "print(s_user_not_rest_012.shape, s_user_not_rest_34567.shape)\n",
    "print('주중 세션')\n",
    "print(s_sess_not_rest_012.shape, s_sess_not_rest_34567.shape)\n",
    "print('주중 신규방문자')\n",
    "print(s_new_not_rest_012.shape, s_new_not_rest_34567.shape)\n",
    "print('주중 페이지뷰')\n",
    "print(s_page_not_rest_012.shape, s_page_not_rest_34567.shape)"
   ]
  },
  {
   "cell_type": "code",
   "execution_count": 390,
   "metadata": {},
   "outputs": [
    {
     "data": {
      "text/plain": [
       "XGBRegressor(base_score=0.5, booster='gbtree', colsample_bylevel=1,\n",
       "             colsample_bynode=1, colsample_bytree=1, gamma=0, gpu_id=-1,\n",
       "             importance_type='gain', interaction_constraints='',\n",
       "             learning_rate=0.300000012, max_delta_step=0, max_depth=6,\n",
       "             min_child_weight=1, missing=nan, monotone_constraints='()',\n",
       "             n_estimators=1000, n_jobs=0, num_parallel_tree=1, random_state=40,\n",
       "             reg_alpha=0, reg_lambda=1, scale_pos_weight=1, subsample=1,\n",
       "             tree_method='exact', validate_parameters=1, verbosity=None)"
      ]
     },
     "execution_count": 390,
     "metadata": {},
     "output_type": "execute_result"
    }
   ],
   "source": [
    "### t_user_rest_01\n",
    "values = list(t_user_rest_012.iloc[:,1].values)\n",
    "data = series_to_supervised(values, n_in=60)\n",
    "# train\n",
    "trainX_u01, trainy_u01 = data[:, :-1], data[:, -1]\n",
    "# fit model\n",
    "model1 = XGBRegressor(objective='reg:squarederror', \n",
    "                      n_estimators=1000, \n",
    "                      random_state = 40)\n",
    "model1.fit(trainX_u01, trainy_u01)\n",
    "\n",
    "### t_user_rest_34567\n",
    "values = list(t_user_rest_34567.iloc[:,1].values)\n",
    "data = series_to_supervised(values, n_in=90)\n",
    "# train\n",
    "trainX_u234, trainy_u234 = data[:, :-1], data[:, -1]\n",
    "# fit model\n",
    "model2 = XGBRegressor(objective='reg:squarederror', \n",
    "                      n_estimators=1000, \n",
    "                      random_state = 40)\n",
    "model2.fit(trainX_u234, trainy_u234)\n",
    "\n",
    "#####################################################################################################\n",
    "\n",
    "### t_sess_rest_012\n",
    "values = list(t_sess_rest_012.iloc[:,1].values)\n",
    "data = series_to_supervised(values, n_in=60)\n",
    "# train\n",
    "trainX_s01, trainy_s01 = data[:, :-1], data[:, -1]\n",
    "# fit model\n",
    "model3 = XGBRegressor(objective='reg:squarederror', \n",
    "                      n_estimators=1000, \n",
    "                      random_state = 40)\n",
    "model3.fit(trainX_s01, trainy_s01)\n",
    "\n",
    "\n",
    "### t_sess_rest_34567\n",
    "values = list(t_sess_rest_34567.iloc[:,1].values)\n",
    "data = series_to_supervised(values, n_in=90)\n",
    "# train\n",
    "trainX_s234, trainy_s234 = data[:, :-1], data[:, -1]\n",
    "# fit model\n",
    "model4 = XGBRegressor(objective='reg:squarederror', \n",
    "                      n_estimators=1000, \n",
    "                      random_state = 40)\n",
    "model4.fit(trainX_s234, trainy_s234)\n",
    "\n",
    "\n",
    "#####################################################################################################\n",
    "\n",
    "\n",
    "### t_new_rest_012\n",
    "values = list(t_new_rest_012.iloc[:,1].values)\n",
    "data = series_to_supervised(values, n_in=60)\n",
    "# train\n",
    "trainX_n01, trainy_n01 = data[:, :-1], data[:, -1]\n",
    "# fit model\n",
    "model5 = XGBRegressor(objective='reg:squarederror', \n",
    "                      n_estimators=1000, \n",
    "                      random_state = 40)\n",
    "model5.fit(trainX_n01, trainy_n01)\n",
    "\n",
    "\n",
    "### t_new_rest_34567\n",
    "values = list(t_new_rest_34567.iloc[:,1].values)\n",
    "data = series_to_supervised(values, n_in=90)\n",
    "# train\n",
    "trainX_n234, trainy_n234 = data[:, :-1], data[:, -1]\n",
    "# fit model\n",
    "model6 = XGBRegressor(objective='reg:squarederror', \n",
    "                      n_estimators=1000, \n",
    "                      random_state = 40)\n",
    "model6.fit(trainX_n234, trainy_n234)\n",
    "\n",
    "\n",
    "\n",
    "#####################################################################################################\n",
    "\n",
    "\n",
    "### t_page_rest_012\n",
    "values = list(t_page_rest_012.iloc[:,1].values)\n",
    "data = series_to_supervised(values, n_in=60)\n",
    "# train\n",
    "trainX_p01, trainy_p01 = data[:, :-1], data[:, -1]\n",
    "# fit model\n",
    "model7 = XGBRegressor(objective='reg:squarederror', \n",
    "                      n_estimators=1000, \n",
    "                      random_state = 40)\n",
    "model7.fit(trainX_p01, trainy_p01)\n",
    "\n",
    "\n",
    "### t_page_rest_34567\n",
    "values = list(t_page_rest_34567.iloc[:,1].values)\n",
    "data = series_to_supervised(values, n_in=90)\n",
    "# train\n",
    "trainX_p234, trainy_p234 = data[:, :-1], data[:, -1]\n",
    "# fit model\n",
    "model8 = XGBRegressor(objective='reg:squarederror', \n",
    "                      n_estimators=1000, \n",
    "                      random_state = 40)\n",
    "model8.fit(trainX_p234, trainy_p234)\n",
    "\n",
    "\n"
   ]
  },
  {
   "cell_type": "code",
   "execution_count": 391,
   "metadata": {},
   "outputs": [],
   "source": [
    "def xgb_prediction2(data, data2, model_name, num1, num2, name):\n",
    "    for i in range(0,num2):\n",
    "        if i==0:\n",
    "            first = np.reshape(data[-1], (1,num1))\n",
    "            pred = model_name.predict(first)\n",
    "            data2[name][i] = pred\n",
    "            tt = np.reshape(np.append(data[-1,1:], pred), (1,num1))\n",
    "        else:\n",
    "            pred = model_name.predict(tt)\n",
    "            data2[name][i] = pred\n",
    "            tt = np.reshape(np.append(tt[-1,1:], pred), (1,num1))"
   ]
  },
  {
   "cell_type": "code",
   "execution_count": 392,
   "metadata": {},
   "outputs": [],
   "source": [
    "xgb_prediction2(trainX_u01, s_user_rest_012 ,model1, 60, 2, '사용자')\n",
    "xgb_prediction2(trainX_u234, s_user_rest_34567 ,model2, 90,9, '사용자')\n",
    "\n",
    "xgb_prediction2(trainX_s01, s_sess_rest_012 ,model3, 60, 2, '세션')\n",
    "xgb_prediction2(trainX_s234, s_sess_rest_34567 ,model4, 90, 9, '세션')\n",
    "\n",
    "xgb_prediction2(trainX_n01, s_new_rest_012 ,model5, 60, 2, '신규방문자')\n",
    "xgb_prediction2(trainX_n234, s_new_rest_34567 ,model6, 90, 9, '신규방문자')\n",
    "\n",
    "xgb_prediction2(trainX_p01, s_page_rest_012 ,model7, 60, 2, '페이지뷰')\n",
    "xgb_prediction2(trainX_p234, s_page_rest_34567 ,model8, 90, 9, '페이지뷰')"
   ]
  },
  {
   "cell_type": "markdown",
   "metadata": {},
   "source": [
    "# 평일 예측"
   ]
  },
  {
   "cell_type": "code",
   "execution_count": 393,
   "metadata": {},
   "outputs": [
    {
     "data": {
      "text/plain": [
       "XGBRegressor(base_score=0.5, booster='gbtree', colsample_bylevel=1,\n",
       "             colsample_bynode=1, colsample_bytree=1, gamma=0, gpu_id=-1,\n",
       "             importance_type='gain', interaction_constraints='',\n",
       "             learning_rate=0.300000012, max_delta_step=0, max_depth=6,\n",
       "             min_child_weight=1, missing=nan, monotone_constraints='()',\n",
       "             n_estimators=1000, n_jobs=0, num_parallel_tree=1, random_state=40,\n",
       "             reg_alpha=0, reg_lambda=1, scale_pos_weight=1, subsample=1,\n",
       "             tree_method='exact', validate_parameters=1, verbosity=None)"
      ]
     },
     "execution_count": 393,
     "metadata": {},
     "output_type": "execute_result"
    }
   ],
   "source": [
    "### t_user_not_rest_012\n",
    "values = list(t_user_not_rest_012.iloc[:,1].values)\n",
    "data = series_to_supervised(values, n_in=100)\n",
    "# train\n",
    "trainX_u01, trainy_u01 = data[:, :-1], data[:, -1]\n",
    "# fit model\n",
    "model1 = XGBRegressor(objective='reg:squarederror', \n",
    "                      n_estimators=1000, \n",
    "                      random_state = 40)\n",
    "model1.fit(trainX_u01, trainy_u01)\n",
    "\n",
    "### t_user_not_rest_34567\n",
    "values = list(t_user_not_rest_34567.iloc[:,1].values)\n",
    "data = series_to_supervised(values, n_in=200)\n",
    "# train\n",
    "trainX_u234, trainy_u234 = data[:, :-1], data[:, -1]\n",
    "# fit model\n",
    "model2 = XGBRegressor(objective='reg:squarederror', \n",
    "                      n_estimators=1000, \n",
    "                      random_state = 40)\n",
    "model2.fit(trainX_u234, trainy_u234)\n",
    "\n",
    "#####################################################################################################\n",
    "\n",
    "### t_sess_not_rest_012\n",
    "values = list(t_sess_not_rest_012.iloc[:,1].values)\n",
    "data = series_to_supervised(values, n_in=100)\n",
    "# train\n",
    "trainX_s01, trainy_s01 = data[:, :-1], data[:, -1]\n",
    "# fit model\n",
    "model3 = XGBRegressor(objective='reg:squarederror', \n",
    "                      n_estimators=1000, \n",
    "                      random_state = 40)\n",
    "model3.fit(trainX_s01, trainy_s01)\n",
    "\n",
    "\n",
    "### t_sess_not_rest_34567\n",
    "values = list(t_sess_not_rest_34567.iloc[:,1].values)\n",
    "data = series_to_supervised(values, n_in=200)\n",
    "# train\n",
    "trainX_s234, trainy_s234 = data[:, :-1], data[:, -1]\n",
    "# fit model\n",
    "model4 = XGBRegressor(objective='reg:squarederror', \n",
    "                      n_estimators=1000, \n",
    "                      random_state = 40)\n",
    "model4.fit(trainX_s234, trainy_s234)\n",
    "\n",
    "\n",
    "#####################################################################################################\n",
    "\n",
    "\n",
    "### t_new_rest_012\n",
    "values = list(t_new_not_rest_012.iloc[:,1].values)\n",
    "data = series_to_supervised(values, n_in=100)\n",
    "# train\n",
    "trainX_n01, trainy_n01 = data[:, :-1], data[:, -1]\n",
    "# fit model\n",
    "model5 = XGBRegressor(objective='reg:squarederror', \n",
    "                      n_estimators=1000, \n",
    "                      random_state = 40)\n",
    "model5.fit(trainX_n01, trainy_n01)\n",
    "\n",
    "\n",
    "### t_new_not_rest_34567\n",
    "values = list(t_new_not_rest_34567.iloc[:,1].values)\n",
    "data = series_to_supervised(values, n_in=200)\n",
    "# train\n",
    "trainX_n234, trainy_n234 = data[:, :-1], data[:, -1]\n",
    "# fit model\n",
    "model6 = XGBRegressor(objective='reg:squarederror', \n",
    "                      n_estimators=1000, \n",
    "                      random_state = 40)\n",
    "model6.fit(trainX_n234, trainy_n234)\n",
    "\n",
    "\n",
    "\n",
    "#####################################################################################################\n",
    "\n",
    "\n",
    "### t_page_not_rest_012\n",
    "values = list(t_page_not_rest_012.iloc[:,1].values)\n",
    "data = series_to_supervised(values, n_in=100)\n",
    "# train\n",
    "trainX_p01, trainy_p01 = data[:, :-1], data[:, -1]\n",
    "# fit model\n",
    "model7 = XGBRegressor(objective='reg:squarederror', \n",
    "                      n_estimators=1000, \n",
    "                      random_state = 40)\n",
    "model7.fit(trainX_p01, trainy_p01)\n",
    "\n",
    "\n",
    "### t_page_not_rest_34567\n",
    "values = list(t_page_not_rest_34567.iloc[:,1].values)\n",
    "data = series_to_supervised(values, n_in=200)\n",
    "# train\n",
    "trainX_p234, trainy_p234 = data[:, :-1], data[:, -1]\n",
    "# fit model\n",
    "model8 = XGBRegressor(objective='reg:squarederror', \n",
    "                      n_estimators=1000, \n",
    "                      random_state = 40)\n",
    "model8.fit(trainX_p234, trainy_p234)\n",
    "\n",
    "\n"
   ]
  },
  {
   "cell_type": "code",
   "execution_count": 394,
   "metadata": {},
   "outputs": [],
   "source": [
    "def xgb_prediction2(data, data2, model_name, num1, num2, name):\n",
    "    for i in range(0,num2):\n",
    "        if i==0:\n",
    "            first = np.reshape(data[-1], (1,num1))\n",
    "            pred = model_name.predict(first)\n",
    "            data2[name][i] = pred\n",
    "            tt = np.reshape(np.append(data[-1,1:], pred), (1,num1))\n",
    "        else:\n",
    "            pred = model_name.predict(tt)\n",
    "            data2[name][i] = pred\n",
    "            tt = np.reshape(np.append(tt[-1,1:], pred), (1,num1))"
   ]
  },
  {
   "cell_type": "code",
   "execution_count": 395,
   "metadata": {},
   "outputs": [],
   "source": [
    "xgb_prediction2(trainX_u01, s_user_not_rest_012 ,model1, 100, 2, '사용자')\n",
    "xgb_prediction2(trainX_u234, s_user_not_rest_34567 ,model2, 200, 19, '사용자')\n",
    "\n",
    "xgb_prediction2(trainX_s01, s_sess_not_rest_012 ,model3, 100, 2, '세션')\n",
    "xgb_prediction2(trainX_s234, s_sess_not_rest_34567 ,model4, 200, 19, '세션')\n",
    "\n",
    "xgb_prediction2(trainX_n01, s_new_not_rest_012 ,model5, 100, 2, '신규방문자')\n",
    "xgb_prediction2(trainX_n234, s_new_not_rest_34567 ,model6, 200, 19, '신규방문자')\n",
    "\n",
    "xgb_prediction2(trainX_p01, s_page_not_rest_012 ,model7, 100, 2, '페이지뷰')\n",
    "xgb_prediction2(trainX_p234, s_page_not_rest_34567 ,model8, 200, 19, '페이지뷰')"
   ]
  },
  {
   "cell_type": "code",
   "execution_count": 396,
   "metadata": {},
   "outputs": [
    {
     "data": {
      "text/html": [
       "<div>\n",
       "<style scoped>\n",
       "    .dataframe tbody tr th:only-of-type {\n",
       "        vertical-align: middle;\n",
       "    }\n",
       "\n",
       "    .dataframe tbody tr th {\n",
       "        vertical-align: top;\n",
       "    }\n",
       "\n",
       "    .dataframe thead th {\n",
       "        text-align: right;\n",
       "    }\n",
       "</style>\n",
       "<table border=\"1\" class=\"dataframe\">\n",
       "  <thead>\n",
       "    <tr style=\"text-align: right;\">\n",
       "      <th></th>\n",
       "      <th>DateTime</th>\n",
       "      <th>사용자</th>\n",
       "      <th>세션</th>\n",
       "      <th>신규방문자</th>\n",
       "      <th>페이지뷰</th>\n",
       "    </tr>\n",
       "  </thead>\n",
       "  <tbody>\n",
       "    <tr>\n",
       "      <th>0</th>\n",
       "      <td>2021-01-02</td>\n",
       "      <td>1484</td>\n",
       "      <td>1487</td>\n",
       "      <td>313</td>\n",
       "      <td>28585</td>\n",
       "    </tr>\n",
       "    <tr>\n",
       "      <th>1</th>\n",
       "      <td>2021-01-03</td>\n",
       "      <td>1476</td>\n",
       "      <td>1417</td>\n",
       "      <td>328</td>\n",
       "      <td>30458</td>\n",
       "    </tr>\n",
       "  </tbody>\n",
       "</table>\n",
       "</div>"
      ],
      "text/plain": [
       "     DateTime   사용자    세션  신규방문자   페이지뷰\n",
       "0  2021-01-02  1484  1487    313  28585\n",
       "1  2021-01-03  1476  1417    328  30458"
      ]
     },
     "execution_count": 396,
     "metadata": {},
     "output_type": "execute_result"
    }
   ],
   "source": [
    "pd.concat([s_user_rest_012, s_sess_rest_012.iloc[:,1], s_new_rest_012.iloc[:,1], s_page_rest_012.iloc[:,1]], axis = 1)"
   ]
  },
  {
   "cell_type": "code",
   "execution_count": 397,
   "metadata": {},
   "outputs": [],
   "source": [
    "df1 = pd.concat([s_user_rest_012, s_sess_rest_012.iloc[:,1], s_new_rest_012.iloc[:,1], s_page_rest_012.iloc[:,1]], axis = 1)\n",
    "df2 = pd.concat([s_user_rest_34567, s_sess_rest_34567.iloc[:,1], s_new_rest_34567.iloc[:,1], s_page_rest_34567.iloc[:,1]], axis = 1)\n",
    "df3 = pd.concat([s_user_not_rest_012, s_sess_not_rest_012.iloc[:,1], s_new_not_rest_012.iloc[:,1], s_page_not_rest_012.iloc[:,1]], axis = 1)\n",
    "df4 = pd.concat([s_user_not_rest_34567, s_sess_not_rest_34567.iloc[:,1], s_new_not_rest_34567.iloc[:,1], s_page_not_rest_34567.iloc[:,1]], axis = 1)"
   ]
  },
  {
   "cell_type": "code",
   "execution_count": 398,
   "metadata": {},
   "outputs": [
    {
     "data": {
      "text/plain": [
       "(31, 4)"
      ]
     },
     "execution_count": 398,
     "metadata": {},
     "output_type": "execute_result"
    }
   ],
   "source": [
    "## 예측값 합치기\n",
    "for i in [df1, df2, df3, df4]:\n",
    "    i.set_index('DateTime', inplace = True)\n",
    "    \n",
    "sub = pd.concat([df1, df2, df3, df4]).sort_index()\n",
    "sub.shape"
   ]
  },
  {
   "cell_type": "code",
   "execution_count": 347,
   "metadata": {
    "scrolled": true
   },
   "outputs": [
    {
     "data": {
      "text/html": [
       "<div>\n",
       "<style scoped>\n",
       "    .dataframe tbody tr th:only-of-type {\n",
       "        vertical-align: middle;\n",
       "    }\n",
       "\n",
       "    .dataframe tbody tr th {\n",
       "        vertical-align: top;\n",
       "    }\n",
       "\n",
       "    .dataframe thead th {\n",
       "        text-align: right;\n",
       "    }\n",
       "</style>\n",
       "<table border=\"1\" class=\"dataframe\">\n",
       "  <thead>\n",
       "    <tr style=\"text-align: right;\">\n",
       "      <th></th>\n",
       "      <th>사용자</th>\n",
       "      <th>세션</th>\n",
       "      <th>신규방문자</th>\n",
       "      <th>페이지뷰</th>\n",
       "    </tr>\n",
       "    <tr>\n",
       "      <th>DateTime</th>\n",
       "      <th></th>\n",
       "      <th></th>\n",
       "      <th></th>\n",
       "      <th></th>\n",
       "    </tr>\n",
       "  </thead>\n",
       "  <tbody>\n",
       "    <tr>\n",
       "      <th>2020-12-09</th>\n",
       "      <td>3033</td>\n",
       "      <td>2990</td>\n",
       "      <td>771</td>\n",
       "      <td>68857</td>\n",
       "    </tr>\n",
       "    <tr>\n",
       "      <th>2020-12-10</th>\n",
       "      <td>3201</td>\n",
       "      <td>3410</td>\n",
       "      <td>877</td>\n",
       "      <td>71279</td>\n",
       "    </tr>\n",
       "    <tr>\n",
       "      <th>2020-12-11</th>\n",
       "      <td>3285</td>\n",
       "      <td>3608</td>\n",
       "      <td>851</td>\n",
       "      <td>75765</td>\n",
       "    </tr>\n",
       "    <tr>\n",
       "      <th>2020-12-12</th>\n",
       "      <td>2119</td>\n",
       "      <td>2077</td>\n",
       "      <td>460</td>\n",
       "      <td>46913</td>\n",
       "    </tr>\n",
       "    <tr>\n",
       "      <th>2020-12-13</th>\n",
       "      <td>2476</td>\n",
       "      <td>2360</td>\n",
       "      <td>418</td>\n",
       "      <td>58464</td>\n",
       "    </tr>\n",
       "    <tr>\n",
       "      <th>2020-12-14</th>\n",
       "      <td>3288</td>\n",
       "      <td>3881</td>\n",
       "      <td>822</td>\n",
       "      <td>83626</td>\n",
       "    </tr>\n",
       "    <tr>\n",
       "      <th>2020-12-15</th>\n",
       "      <td>3222</td>\n",
       "      <td>3781</td>\n",
       "      <td>818</td>\n",
       "      <td>84770</td>\n",
       "    </tr>\n",
       "    <tr>\n",
       "      <th>2020-12-16</th>\n",
       "      <td>3372</td>\n",
       "      <td>3686</td>\n",
       "      <td>801</td>\n",
       "      <td>85972</td>\n",
       "    </tr>\n",
       "    <tr>\n",
       "      <th>2020-12-17</th>\n",
       "      <td>2994</td>\n",
       "      <td>3253</td>\n",
       "      <td>813</td>\n",
       "      <td>82361</td>\n",
       "    </tr>\n",
       "    <tr>\n",
       "      <th>2020-12-18</th>\n",
       "      <td>3071</td>\n",
       "      <td>3090</td>\n",
       "      <td>798</td>\n",
       "      <td>82023</td>\n",
       "    </tr>\n",
       "    <tr>\n",
       "      <th>2020-12-19</th>\n",
       "      <td>2385</td>\n",
       "      <td>1946</td>\n",
       "      <td>434</td>\n",
       "      <td>49086</td>\n",
       "    </tr>\n",
       "    <tr>\n",
       "      <th>2020-12-20</th>\n",
       "      <td>2347</td>\n",
       "      <td>2147</td>\n",
       "      <td>410</td>\n",
       "      <td>48206</td>\n",
       "    </tr>\n",
       "    <tr>\n",
       "      <th>2020-12-21</th>\n",
       "      <td>3137</td>\n",
       "      <td>3662</td>\n",
       "      <td>810</td>\n",
       "      <td>80841</td>\n",
       "    </tr>\n",
       "    <tr>\n",
       "      <th>2020-12-22</th>\n",
       "      <td>3295</td>\n",
       "      <td>4003</td>\n",
       "      <td>770</td>\n",
       "      <td>78683</td>\n",
       "    </tr>\n",
       "    <tr>\n",
       "      <th>2020-12-23</th>\n",
       "      <td>3504</td>\n",
       "      <td>3561</td>\n",
       "      <td>790</td>\n",
       "      <td>79286</td>\n",
       "    </tr>\n",
       "    <tr>\n",
       "      <th>2020-12-24</th>\n",
       "      <td>3628</td>\n",
       "      <td>3470</td>\n",
       "      <td>743</td>\n",
       "      <td>82251</td>\n",
       "    </tr>\n",
       "    <tr>\n",
       "      <th>2020-12-25</th>\n",
       "      <td>2040</td>\n",
       "      <td>2104</td>\n",
       "      <td>426</td>\n",
       "      <td>51025</td>\n",
       "    </tr>\n",
       "    <tr>\n",
       "      <th>2020-12-26</th>\n",
       "      <td>2289</td>\n",
       "      <td>2527</td>\n",
       "      <td>451</td>\n",
       "      <td>52164</td>\n",
       "    </tr>\n",
       "    <tr>\n",
       "      <th>2020-12-27</th>\n",
       "      <td>2321</td>\n",
       "      <td>2075</td>\n",
       "      <td>574</td>\n",
       "      <td>50361</td>\n",
       "    </tr>\n",
       "    <tr>\n",
       "      <th>2020-12-28</th>\n",
       "      <td>3527</td>\n",
       "      <td>3652</td>\n",
       "      <td>780</td>\n",
       "      <td>80066</td>\n",
       "    </tr>\n",
       "    <tr>\n",
       "      <th>2020-12-29</th>\n",
       "      <td>3394</td>\n",
       "      <td>3772</td>\n",
       "      <td>816</td>\n",
       "      <td>79377</td>\n",
       "    </tr>\n",
       "    <tr>\n",
       "      <th>2020-12-30</th>\n",
       "      <td>3337</td>\n",
       "      <td>3584</td>\n",
       "      <td>797</td>\n",
       "      <td>82746</td>\n",
       "    </tr>\n",
       "    <tr>\n",
       "      <th>2020-12-31</th>\n",
       "      <td>3599</td>\n",
       "      <td>3468</td>\n",
       "      <td>755</td>\n",
       "      <td>91580</td>\n",
       "    </tr>\n",
       "    <tr>\n",
       "      <th>2021-01-01</th>\n",
       "      <td>2162</td>\n",
       "      <td>1969</td>\n",
       "      <td>480</td>\n",
       "      <td>48622</td>\n",
       "    </tr>\n",
       "    <tr>\n",
       "      <th>2021-01-02</th>\n",
       "      <td>1485</td>\n",
       "      <td>1487</td>\n",
       "      <td>313</td>\n",
       "      <td>28585</td>\n",
       "    </tr>\n",
       "    <tr>\n",
       "      <th>2021-01-03</th>\n",
       "      <td>1467</td>\n",
       "      <td>1465</td>\n",
       "      <td>328</td>\n",
       "      <td>29235</td>\n",
       "    </tr>\n",
       "    <tr>\n",
       "      <th>2021-01-04</th>\n",
       "      <td>2360</td>\n",
       "      <td>2284</td>\n",
       "      <td>592</td>\n",
       "      <td>46323</td>\n",
       "    </tr>\n",
       "    <tr>\n",
       "      <th>2021-01-05</th>\n",
       "      <td>2147</td>\n",
       "      <td>2025</td>\n",
       "      <td>554</td>\n",
       "      <td>46007</td>\n",
       "    </tr>\n",
       "    <tr>\n",
       "      <th>2021-01-06</th>\n",
       "      <td>3257</td>\n",
       "      <td>3415</td>\n",
       "      <td>737</td>\n",
       "      <td>91743</td>\n",
       "    </tr>\n",
       "    <tr>\n",
       "      <th>2021-01-07</th>\n",
       "      <td>3690</td>\n",
       "      <td>3326</td>\n",
       "      <td>738</td>\n",
       "      <td>87418</td>\n",
       "    </tr>\n",
       "    <tr>\n",
       "      <th>2021-01-08</th>\n",
       "      <td>3588</td>\n",
       "      <td>3531</td>\n",
       "      <td>765</td>\n",
       "      <td>84138</td>\n",
       "    </tr>\n",
       "  </tbody>\n",
       "</table>\n",
       "</div>"
      ],
      "text/plain": [
       "             사용자    세션  신규방문자   페이지뷰\n",
       "DateTime                            \n",
       "2020-12-09  3033  2990    771  68857\n",
       "2020-12-10  3201  3410    877  71279\n",
       "2020-12-11  3285  3608    851  75765\n",
       "2020-12-12  2119  2077    460  46913\n",
       "2020-12-13  2476  2360    418  58464\n",
       "2020-12-14  3288  3881    822  83626\n",
       "2020-12-15  3222  3781    818  84770\n",
       "2020-12-16  3372  3686    801  85972\n",
       "2020-12-17  2994  3253    813  82361\n",
       "2020-12-18  3071  3090    798  82023\n",
       "2020-12-19  2385  1946    434  49086\n",
       "2020-12-20  2347  2147    410  48206\n",
       "2020-12-21  3137  3662    810  80841\n",
       "2020-12-22  3295  4003    770  78683\n",
       "2020-12-23  3504  3561    790  79286\n",
       "2020-12-24  3628  3470    743  82251\n",
       "2020-12-25  2040  2104    426  51025\n",
       "2020-12-26  2289  2527    451  52164\n",
       "2020-12-27  2321  2075    574  50361\n",
       "2020-12-28  3527  3652    780  80066\n",
       "2020-12-29  3394  3772    816  79377\n",
       "2020-12-30  3337  3584    797  82746\n",
       "2020-12-31  3599  3468    755  91580\n",
       "2021-01-01  2162  1969    480  48622\n",
       "2021-01-02  1485  1487    313  28585\n",
       "2021-01-03  1467  1465    328  29235\n",
       "2021-01-04  2360  2284    592  46323\n",
       "2021-01-05  2147  2025    554  46007\n",
       "2021-01-06  3257  3415    737  91743\n",
       "2021-01-07  3690  3326    738  87418\n",
       "2021-01-08  3588  3531    765  84138"
      ]
     },
     "execution_count": 347,
     "metadata": {},
     "output_type": "execute_result"
    }
   ],
   "source": [
    "sub.head()"
   ]
  },
  {
   "cell_type": "code",
   "execution_count": 400,
   "metadata": {},
   "outputs": [],
   "source": [
    "sub.to_csv('data/최종31일_XGB.csv', encoding = 'euc_kr',index=True)"
   ]
  },
  {
   "cell_type": "markdown",
   "metadata": {},
   "source": [
    "---------------------------------"
   ]
  }
 ],
 "metadata": {
  "kernelspec": {
   "display_name": "Python 3",
   "language": "python",
   "name": "python3"
  },
  "language_info": {
   "codemirror_mode": {
    "name": "ipython",
    "version": 3
   },
   "file_extension": ".py",
   "mimetype": "text/x-python",
   "name": "python",
   "nbconvert_exporter": "python",
   "pygments_lexer": "ipython3",
   "version": "3.7.6"
  }
 },
 "nbformat": 4,
 "nbformat_minor": 4
}
