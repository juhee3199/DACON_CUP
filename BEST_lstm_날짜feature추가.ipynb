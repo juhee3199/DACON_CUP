{
  "nbformat": 4,
  "nbformat_minor": 0,
  "metadata": {
    "colab": {
      "name": "seed설정_BEST_lstm_날짜feature_추가.ipynb의 사본",
      "provenance": [],
      "collapsed_sections": [
        "Li0vASmhIIhr",
        "HbonwFz84uV5"
      ],
      "toc_visible": true
    },
    "kernelspec": {
      "name": "python3",
      "display_name": "Python 3"
    }
  },
  "cells": [
    {
      "cell_type": "code",
      "metadata": {
        "id": "WHrGQAT_3z6X"
      },
      "source": [
        "import numpy as np\r\n",
        "import pandas as pd\r\n",
        "\r\n",
        "from datetime import datetime\r\n",
        "from sklearn.model_selection import train_test_split\r\n",
        "\r\n",
        "from matplotlib import pyplot\r\n",
        "import matplotlib.pyplot as plt"
      ],
      "execution_count": 63,
      "outputs": []
    },
    {
      "cell_type": "code",
      "metadata": {
        "colab": {
          "base_uri": "https://localhost:8080/"
        },
        "id": "MEAXOVLFqTeD",
        "outputId": "b0cc9f12-098a-4bf7-f4e8-317feb99ad41"
      },
      "source": [
        "from google.colab import drive\n",
        "drive.mount('/content/drive')"
      ],
      "execution_count": 64,
      "outputs": [
        {
          "output_type": "stream",
          "text": [
            "Drive already mounted at /content/drive; to attempt to forcibly remount, call drive.mount(\"/content/drive\", force_remount=True).\n"
          ],
          "name": "stdout"
        }
      ]
    },
    {
      "cell_type": "code",
      "metadata": {
        "id": "fH1TWRdi4eLu",
        "colab": {
          "base_uri": "https://localhost:8080/",
          "height": 197
        },
        "outputId": "0fec6e14-d9a8-480e-a86f-8ac02a636077"
      },
      "source": [
        "path = '/content/drive/MyDrive/Colab Notebooks/DACON CUP'\r\n",
        "\r\n",
        "train_df = pd.read_csv(path + '/open_data/train.csv', encoding = 'euc-kr')\r\n",
        "train_df.head()"
      ],
      "execution_count": 65,
      "outputs": [
        {
          "output_type": "execute_result",
          "data": {
            "text/html": [
              "<div>\n",
              "<style scoped>\n",
              "    .dataframe tbody tr th:only-of-type {\n",
              "        vertical-align: middle;\n",
              "    }\n",
              "\n",
              "    .dataframe tbody tr th {\n",
              "        vertical-align: top;\n",
              "    }\n",
              "\n",
              "    .dataframe thead th {\n",
              "        text-align: right;\n",
              "    }\n",
              "</style>\n",
              "<table border=\"1\" class=\"dataframe\">\n",
              "  <thead>\n",
              "    <tr style=\"text-align: right;\">\n",
              "      <th></th>\n",
              "      <th>DateTime</th>\n",
              "      <th>사용자</th>\n",
              "      <th>세션</th>\n",
              "      <th>신규방문자</th>\n",
              "      <th>페이지뷰</th>\n",
              "    </tr>\n",
              "  </thead>\n",
              "  <tbody>\n",
              "    <tr>\n",
              "      <th>0</th>\n",
              "      <td>2018-09-09 00:00:00</td>\n",
              "      <td>19</td>\n",
              "      <td>19</td>\n",
              "      <td>8</td>\n",
              "      <td>206</td>\n",
              "    </tr>\n",
              "    <tr>\n",
              "      <th>1</th>\n",
              "      <td>2018-09-09 01:00:00</td>\n",
              "      <td>20</td>\n",
              "      <td>19</td>\n",
              "      <td>9</td>\n",
              "      <td>259</td>\n",
              "    </tr>\n",
              "    <tr>\n",
              "      <th>2</th>\n",
              "      <td>2018-09-09 02:00:00</td>\n",
              "      <td>12</td>\n",
              "      <td>9</td>\n",
              "      <td>1</td>\n",
              "      <td>48</td>\n",
              "    </tr>\n",
              "    <tr>\n",
              "      <th>3</th>\n",
              "      <td>2018-09-09 03:00:00</td>\n",
              "      <td>10</td>\n",
              "      <td>10</td>\n",
              "      <td>2</td>\n",
              "      <td>102</td>\n",
              "    </tr>\n",
              "    <tr>\n",
              "      <th>4</th>\n",
              "      <td>2018-09-09 04:00:00</td>\n",
              "      <td>6</td>\n",
              "      <td>5</td>\n",
              "      <td>3</td>\n",
              "      <td>18</td>\n",
              "    </tr>\n",
              "  </tbody>\n",
              "</table>\n",
              "</div>"
            ],
            "text/plain": [
              "              DateTime  사용자  세션  신규방문자  페이지뷰\n",
              "0  2018-09-09 00:00:00   19  19      8   206\n",
              "1  2018-09-09 01:00:00   20  19      9   259\n",
              "2  2018-09-09 02:00:00   12   9      1    48\n",
              "3  2018-09-09 03:00:00   10  10      2   102\n",
              "4  2018-09-09 04:00:00    6   5      3    18"
            ]
          },
          "metadata": {
            "tags": []
          },
          "execution_count": 65
        }
      ]
    },
    {
      "cell_type": "code",
      "metadata": {
        "id": "YsCktWIeAIWq",
        "colab": {
          "base_uri": "https://localhost:8080/"
        },
        "outputId": "08546561-becc-4245-d5e2-9ee934975510"
      },
      "source": [
        "train_df.info()"
      ],
      "execution_count": 66,
      "outputs": [
        {
          "output_type": "stream",
          "text": [
            "<class 'pandas.core.frame.DataFrame'>\n",
            "RangeIndex: 19008 entries, 0 to 19007\n",
            "Data columns (total 5 columns):\n",
            " #   Column    Non-Null Count  Dtype \n",
            "---  ------    --------------  ----- \n",
            " 0   DateTime  19008 non-null  object\n",
            " 1   사용자       19008 non-null  int64 \n",
            " 2   세션        19008 non-null  int64 \n",
            " 3   신규방문자     19008 non-null  int64 \n",
            " 4   페이지뷰      19008 non-null  int64 \n",
            "dtypes: int64(4), object(1)\n",
            "memory usage: 742.6+ KB\n"
          ],
          "name": "stdout"
        }
      ]
    },
    {
      "cell_type": "code",
      "metadata": {
        "id": "eOujb_mO_676",
        "colab": {
          "base_uri": "https://localhost:8080/",
          "height": 197
        },
        "outputId": "1b001056-5bb8-4b45-91c0-3fae691d08b4"
      },
      "source": [
        "# date 기준으로.\r\n",
        "\r\n",
        "train_df['DateTime'] = pd.to_datetime(train_df.DateTime) #dtype: datetime으로 변경\r\n",
        "train_df['date'] = train_df.DateTime.dt.date\r\n",
        "train_df  = train_df.groupby('date').sum().reset_index()\r\n",
        "train_df.head()"
      ],
      "execution_count": 67,
      "outputs": [
        {
          "output_type": "execute_result",
          "data": {
            "text/html": [
              "<div>\n",
              "<style scoped>\n",
              "    .dataframe tbody tr th:only-of-type {\n",
              "        vertical-align: middle;\n",
              "    }\n",
              "\n",
              "    .dataframe tbody tr th {\n",
              "        vertical-align: top;\n",
              "    }\n",
              "\n",
              "    .dataframe thead th {\n",
              "        text-align: right;\n",
              "    }\n",
              "</style>\n",
              "<table border=\"1\" class=\"dataframe\">\n",
              "  <thead>\n",
              "    <tr style=\"text-align: right;\">\n",
              "      <th></th>\n",
              "      <th>date</th>\n",
              "      <th>사용자</th>\n",
              "      <th>세션</th>\n",
              "      <th>신규방문자</th>\n",
              "      <th>페이지뷰</th>\n",
              "    </tr>\n",
              "  </thead>\n",
              "  <tbody>\n",
              "    <tr>\n",
              "      <th>0</th>\n",
              "      <td>2018-09-09</td>\n",
              "      <td>281</td>\n",
              "      <td>266</td>\n",
              "      <td>73</td>\n",
              "      <td>1826</td>\n",
              "    </tr>\n",
              "    <tr>\n",
              "      <th>1</th>\n",
              "      <td>2018-09-10</td>\n",
              "      <td>264</td>\n",
              "      <td>247</td>\n",
              "      <td>51</td>\n",
              "      <td>2092</td>\n",
              "    </tr>\n",
              "    <tr>\n",
              "      <th>2</th>\n",
              "      <td>2018-09-11</td>\n",
              "      <td>329</td>\n",
              "      <td>310</td>\n",
              "      <td>58</td>\n",
              "      <td>1998</td>\n",
              "    </tr>\n",
              "    <tr>\n",
              "      <th>3</th>\n",
              "      <td>2018-09-12</td>\n",
              "      <td>300</td>\n",
              "      <td>287</td>\n",
              "      <td>45</td>\n",
              "      <td>2595</td>\n",
              "    </tr>\n",
              "    <tr>\n",
              "      <th>4</th>\n",
              "      <td>2018-09-13</td>\n",
              "      <td>378</td>\n",
              "      <td>344</td>\n",
              "      <td>50</td>\n",
              "      <td>3845</td>\n",
              "    </tr>\n",
              "  </tbody>\n",
              "</table>\n",
              "</div>"
            ],
            "text/plain": [
              "         date  사용자   세션  신규방문자  페이지뷰\n",
              "0  2018-09-09  281  266     73  1826\n",
              "1  2018-09-10  264  247     51  2092\n",
              "2  2018-09-11  329  310     58  1998\n",
              "3  2018-09-12  300  287     45  2595\n",
              "4  2018-09-13  378  344     50  3845"
            ]
          },
          "metadata": {
            "tags": []
          },
          "execution_count": 67
        }
      ]
    },
    {
      "cell_type": "code",
      "metadata": {
        "id": "CM7Hluyg9nrO"
      },
      "source": [
        "# date 기준 변수 만들기\r\n",
        "\r\n",
        "\r\n",
        "\r\n",
        "def create_features(df):\r\n",
        "    \"\"\"\r\n",
        "    Creates time series features from datetime index\r\n",
        "    \"\"\"\r\n",
        "    # df['DateTime'] = df.index\r\n",
        "    # df['hour'] = df['date'].dt.hour\r\n",
        "    df['dayofweek'] = pd.to_datetime(df['date']).dt.dayofweek #요일\r\n",
        "    df['quarter'] = pd.to_datetime(df['date']).dt.quarter \r\n",
        "    df['month'] = pd.to_datetime(df['date']).dt.month\r\n",
        "    df['year'] = pd.to_datetime(df['date']).dt.year # 날짜의 해당 연도 시작에서부터의 일 수를 반환 \r\n",
        "    df['dayofyear'] = pd.to_datetime(df['date']).dt.dayofyear\r\n",
        "    df['dayofmonth'] = pd.to_datetime(df['date']).dt.day\r\n",
        "    df['weekofyear'] = pd.to_datetime(df['date']).dt.weekofyear\r\n",
        "    \r\n",
        "    X = df[['사용자','세션','신규방문자','페이지뷰','date','dayofweek','quarter','month','year' #]]\r\n",
        "           ,'dayofyear','dayofmonth','weekofyear']]\r\n",
        "    X.set_index('date', inplace = True)\r\n",
        "    X.index = pd.to_datetime(X.index)\r\n",
        "    return X"
      ],
      "execution_count": 68,
      "outputs": []
    },
    {
      "cell_type": "code",
      "metadata": {
        "colab": {
          "base_uri": "https://localhost:8080/",
          "height": 474
        },
        "id": "am_esN9k-CjW",
        "outputId": "53efb352-fca9-4021-fdcf-d0a0db822781"
      },
      "source": [
        "train = create_features(train_df)\r\n",
        "train"
      ],
      "execution_count": 69,
      "outputs": [
        {
          "output_type": "stream",
          "text": [
            "/usr/local/lib/python3.6/dist-packages/ipykernel_launcher.py:17: FutureWarning: Series.dt.weekofyear and Series.dt.week have been deprecated.  Please use Series.dt.isocalendar().week instead.\n"
          ],
          "name": "stderr"
        },
        {
          "output_type": "execute_result",
          "data": {
            "text/html": [
              "<div>\n",
              "<style scoped>\n",
              "    .dataframe tbody tr th:only-of-type {\n",
              "        vertical-align: middle;\n",
              "    }\n",
              "\n",
              "    .dataframe tbody tr th {\n",
              "        vertical-align: top;\n",
              "    }\n",
              "\n",
              "    .dataframe thead th {\n",
              "        text-align: right;\n",
              "    }\n",
              "</style>\n",
              "<table border=\"1\" class=\"dataframe\">\n",
              "  <thead>\n",
              "    <tr style=\"text-align: right;\">\n",
              "      <th></th>\n",
              "      <th>사용자</th>\n",
              "      <th>세션</th>\n",
              "      <th>신규방문자</th>\n",
              "      <th>페이지뷰</th>\n",
              "      <th>dayofweek</th>\n",
              "      <th>quarter</th>\n",
              "      <th>month</th>\n",
              "      <th>year</th>\n",
              "      <th>dayofyear</th>\n",
              "      <th>dayofmonth</th>\n",
              "      <th>weekofyear</th>\n",
              "    </tr>\n",
              "    <tr>\n",
              "      <th>date</th>\n",
              "      <th></th>\n",
              "      <th></th>\n",
              "      <th></th>\n",
              "      <th></th>\n",
              "      <th></th>\n",
              "      <th></th>\n",
              "      <th></th>\n",
              "      <th></th>\n",
              "      <th></th>\n",
              "      <th></th>\n",
              "      <th></th>\n",
              "    </tr>\n",
              "  </thead>\n",
              "  <tbody>\n",
              "    <tr>\n",
              "      <th>2018-09-09</th>\n",
              "      <td>281</td>\n",
              "      <td>266</td>\n",
              "      <td>73</td>\n",
              "      <td>1826</td>\n",
              "      <td>6</td>\n",
              "      <td>3</td>\n",
              "      <td>9</td>\n",
              "      <td>2018</td>\n",
              "      <td>252</td>\n",
              "      <td>9</td>\n",
              "      <td>36</td>\n",
              "    </tr>\n",
              "    <tr>\n",
              "      <th>2018-09-10</th>\n",
              "      <td>264</td>\n",
              "      <td>247</td>\n",
              "      <td>51</td>\n",
              "      <td>2092</td>\n",
              "      <td>0</td>\n",
              "      <td>3</td>\n",
              "      <td>9</td>\n",
              "      <td>2018</td>\n",
              "      <td>253</td>\n",
              "      <td>10</td>\n",
              "      <td>37</td>\n",
              "    </tr>\n",
              "    <tr>\n",
              "      <th>2018-09-11</th>\n",
              "      <td>329</td>\n",
              "      <td>310</td>\n",
              "      <td>58</td>\n",
              "      <td>1998</td>\n",
              "      <td>1</td>\n",
              "      <td>3</td>\n",
              "      <td>9</td>\n",
              "      <td>2018</td>\n",
              "      <td>254</td>\n",
              "      <td>11</td>\n",
              "      <td>37</td>\n",
              "    </tr>\n",
              "    <tr>\n",
              "      <th>2018-09-12</th>\n",
              "      <td>300</td>\n",
              "      <td>287</td>\n",
              "      <td>45</td>\n",
              "      <td>2595</td>\n",
              "      <td>2</td>\n",
              "      <td>3</td>\n",
              "      <td>9</td>\n",
              "      <td>2018</td>\n",
              "      <td>255</td>\n",
              "      <td>12</td>\n",
              "      <td>37</td>\n",
              "    </tr>\n",
              "    <tr>\n",
              "      <th>2018-09-13</th>\n",
              "      <td>378</td>\n",
              "      <td>344</td>\n",
              "      <td>50</td>\n",
              "      <td>3845</td>\n",
              "      <td>3</td>\n",
              "      <td>3</td>\n",
              "      <td>9</td>\n",
              "      <td>2018</td>\n",
              "      <td>256</td>\n",
              "      <td>13</td>\n",
              "      <td>37</td>\n",
              "    </tr>\n",
              "    <tr>\n",
              "      <th>...</th>\n",
              "      <td>...</td>\n",
              "      <td>...</td>\n",
              "      <td>...</td>\n",
              "      <td>...</td>\n",
              "      <td>...</td>\n",
              "      <td>...</td>\n",
              "      <td>...</td>\n",
              "      <td>...</td>\n",
              "      <td>...</td>\n",
              "      <td>...</td>\n",
              "      <td>...</td>\n",
              "    </tr>\n",
              "    <tr>\n",
              "      <th>2020-11-04</th>\n",
              "      <td>4516</td>\n",
              "      <td>4472</td>\n",
              "      <td>1196</td>\n",
              "      <td>112683</td>\n",
              "      <td>2</td>\n",
              "      <td>4</td>\n",
              "      <td>11</td>\n",
              "      <td>2020</td>\n",
              "      <td>309</td>\n",
              "      <td>4</td>\n",
              "      <td>45</td>\n",
              "    </tr>\n",
              "    <tr>\n",
              "      <th>2020-11-05</th>\n",
              "      <td>4155</td>\n",
              "      <td>4037</td>\n",
              "      <td>1044</td>\n",
              "      <td>102901</td>\n",
              "      <td>3</td>\n",
              "      <td>4</td>\n",
              "      <td>11</td>\n",
              "      <td>2020</td>\n",
              "      <td>310</td>\n",
              "      <td>5</td>\n",
              "      <td>45</td>\n",
              "    </tr>\n",
              "    <tr>\n",
              "      <th>2020-11-06</th>\n",
              "      <td>3663</td>\n",
              "      <td>3576</td>\n",
              "      <td>825</td>\n",
              "      <td>88015</td>\n",
              "      <td>4</td>\n",
              "      <td>4</td>\n",
              "      <td>11</td>\n",
              "      <td>2020</td>\n",
              "      <td>311</td>\n",
              "      <td>6</td>\n",
              "      <td>45</td>\n",
              "    </tr>\n",
              "    <tr>\n",
              "      <th>2020-11-07</th>\n",
              "      <td>2472</td>\n",
              "      <td>2417</td>\n",
              "      <td>531</td>\n",
              "      <td>57386</td>\n",
              "      <td>5</td>\n",
              "      <td>4</td>\n",
              "      <td>11</td>\n",
              "      <td>2020</td>\n",
              "      <td>312</td>\n",
              "      <td>7</td>\n",
              "      <td>45</td>\n",
              "    </tr>\n",
              "    <tr>\n",
              "      <th>2020-11-08</th>\n",
              "      <td>2492</td>\n",
              "      <td>2420</td>\n",
              "      <td>522</td>\n",
              "      <td>50486</td>\n",
              "      <td>6</td>\n",
              "      <td>4</td>\n",
              "      <td>11</td>\n",
              "      <td>2020</td>\n",
              "      <td>313</td>\n",
              "      <td>8</td>\n",
              "      <td>45</td>\n",
              "    </tr>\n",
              "  </tbody>\n",
              "</table>\n",
              "<p>792 rows × 11 columns</p>\n",
              "</div>"
            ],
            "text/plain": [
              "             사용자    세션  신규방문자    페이지뷰  ...  year  dayofyear  dayofmonth  weekofyear\n",
              "date                                   ...                                         \n",
              "2018-09-09   281   266     73    1826  ...  2018        252           9          36\n",
              "2018-09-10   264   247     51    2092  ...  2018        253          10          37\n",
              "2018-09-11   329   310     58    1998  ...  2018        254          11          37\n",
              "2018-09-12   300   287     45    2595  ...  2018        255          12          37\n",
              "2018-09-13   378   344     50    3845  ...  2018        256          13          37\n",
              "...          ...   ...    ...     ...  ...   ...        ...         ...         ...\n",
              "2020-11-04  4516  4472   1196  112683  ...  2020        309           4          45\n",
              "2020-11-05  4155  4037   1044  102901  ...  2020        310           5          45\n",
              "2020-11-06  3663  3576    825   88015  ...  2020        311           6          45\n",
              "2020-11-07  2472  2417    531   57386  ...  2020        312           7          45\n",
              "2020-11-08  2492  2420    522   50486  ...  2020        313           8          45\n",
              "\n",
              "[792 rows x 11 columns]"
            ]
          },
          "metadata": {
            "tags": []
          },
          "execution_count": 69
        }
      ]
    },
    {
      "cell_type": "code",
      "metadata": {
        "id": "VsQqMW3Eo-dR"
      },
      "source": [
        "# len(train['dayofyear'].unique())"
      ],
      "execution_count": 70,
      "outputs": []
    },
    {
      "cell_type": "markdown",
      "metadata": {
        "id": "3JD9OY69UYVw"
      },
      "source": [
        "##### EDA "
      ]
    },
    {
      "cell_type": "code",
      "metadata": {
        "colab": {
          "base_uri": "https://localhost:8080/",
          "height": 1000
        },
        "id": "Hck4wCd6UcXf",
        "outputId": "937731fd-0ef5-4fb5-b386-8bcf291f61af"
      },
      "source": [
        "# quarter간에 차이가 있는지 확인\r\n",
        "\r\n",
        "fig, axes = plt.subplots(4, 1, figsize=(8, 20))\r\n",
        "axes[0].bar(train['quarter'], train['사용자'], color='r')\r\n",
        "axes[1].bar(train['quarter'], train['세션'], color='g')\r\n",
        "axes[2].bar(train['quarter'], train['신규방문자'], color='b')\r\n",
        "axes[3].bar(train['quarter'], train['페이지뷰'], color='c')\r\n",
        "for i, title in enumerate(['사용자','세션','신규방문자','페이지뷰']):\r\n",
        "    axes[i].set_title(title)\r\n",
        "plt.show()"
      ],
      "execution_count": 71,
      "outputs": [
        {
          "output_type": "stream",
          "text": [
            "/usr/local/lib/python3.6/dist-packages/matplotlib/backends/backend_agg.py:214: RuntimeWarning: Glyph 49324 missing from current font.\n",
            "  font.set_text(s, 0.0, flags=flags)\n",
            "/usr/local/lib/python3.6/dist-packages/matplotlib/backends/backend_agg.py:214: RuntimeWarning: Glyph 50857 missing from current font.\n",
            "  font.set_text(s, 0.0, flags=flags)\n",
            "/usr/local/lib/python3.6/dist-packages/matplotlib/backends/backend_agg.py:214: RuntimeWarning: Glyph 51088 missing from current font.\n",
            "  font.set_text(s, 0.0, flags=flags)\n",
            "/usr/local/lib/python3.6/dist-packages/matplotlib/backends/backend_agg.py:214: RuntimeWarning: Glyph 49464 missing from current font.\n",
            "  font.set_text(s, 0.0, flags=flags)\n",
            "/usr/local/lib/python3.6/dist-packages/matplotlib/backends/backend_agg.py:214: RuntimeWarning: Glyph 49496 missing from current font.\n",
            "  font.set_text(s, 0.0, flags=flags)\n",
            "/usr/local/lib/python3.6/dist-packages/matplotlib/backends/backend_agg.py:214: RuntimeWarning: Glyph 49888 missing from current font.\n",
            "  font.set_text(s, 0.0, flags=flags)\n",
            "/usr/local/lib/python3.6/dist-packages/matplotlib/backends/backend_agg.py:214: RuntimeWarning: Glyph 44508 missing from current font.\n",
            "  font.set_text(s, 0.0, flags=flags)\n",
            "/usr/local/lib/python3.6/dist-packages/matplotlib/backends/backend_agg.py:214: RuntimeWarning: Glyph 48169 missing from current font.\n",
            "  font.set_text(s, 0.0, flags=flags)\n",
            "/usr/local/lib/python3.6/dist-packages/matplotlib/backends/backend_agg.py:214: RuntimeWarning: Glyph 47928 missing from current font.\n",
            "  font.set_text(s, 0.0, flags=flags)\n",
            "/usr/local/lib/python3.6/dist-packages/matplotlib/backends/backend_agg.py:214: RuntimeWarning: Glyph 54168 missing from current font.\n",
            "  font.set_text(s, 0.0, flags=flags)\n",
            "/usr/local/lib/python3.6/dist-packages/matplotlib/backends/backend_agg.py:214: RuntimeWarning: Glyph 51060 missing from current font.\n",
            "  font.set_text(s, 0.0, flags=flags)\n",
            "/usr/local/lib/python3.6/dist-packages/matplotlib/backends/backend_agg.py:214: RuntimeWarning: Glyph 51648 missing from current font.\n",
            "  font.set_text(s, 0.0, flags=flags)\n",
            "/usr/local/lib/python3.6/dist-packages/matplotlib/backends/backend_agg.py:214: RuntimeWarning: Glyph 48624 missing from current font.\n",
            "  font.set_text(s, 0.0, flags=flags)\n",
            "/usr/local/lib/python3.6/dist-packages/matplotlib/backends/backend_agg.py:183: RuntimeWarning: Glyph 49324 missing from current font.\n",
            "  font.set_text(s, 0, flags=flags)\n",
            "/usr/local/lib/python3.6/dist-packages/matplotlib/backends/backend_agg.py:183: RuntimeWarning: Glyph 50857 missing from current font.\n",
            "  font.set_text(s, 0, flags=flags)\n",
            "/usr/local/lib/python3.6/dist-packages/matplotlib/backends/backend_agg.py:183: RuntimeWarning: Glyph 51088 missing from current font.\n",
            "  font.set_text(s, 0, flags=flags)\n",
            "/usr/local/lib/python3.6/dist-packages/matplotlib/backends/backend_agg.py:183: RuntimeWarning: Glyph 49464 missing from current font.\n",
            "  font.set_text(s, 0, flags=flags)\n",
            "/usr/local/lib/python3.6/dist-packages/matplotlib/backends/backend_agg.py:183: RuntimeWarning: Glyph 49496 missing from current font.\n",
            "  font.set_text(s, 0, flags=flags)\n",
            "/usr/local/lib/python3.6/dist-packages/matplotlib/backends/backend_agg.py:183: RuntimeWarning: Glyph 49888 missing from current font.\n",
            "  font.set_text(s, 0, flags=flags)\n",
            "/usr/local/lib/python3.6/dist-packages/matplotlib/backends/backend_agg.py:183: RuntimeWarning: Glyph 44508 missing from current font.\n",
            "  font.set_text(s, 0, flags=flags)\n",
            "/usr/local/lib/python3.6/dist-packages/matplotlib/backends/backend_agg.py:183: RuntimeWarning: Glyph 48169 missing from current font.\n",
            "  font.set_text(s, 0, flags=flags)\n",
            "/usr/local/lib/python3.6/dist-packages/matplotlib/backends/backend_agg.py:183: RuntimeWarning: Glyph 47928 missing from current font.\n",
            "  font.set_text(s, 0, flags=flags)\n",
            "/usr/local/lib/python3.6/dist-packages/matplotlib/backends/backend_agg.py:183: RuntimeWarning: Glyph 54168 missing from current font.\n",
            "  font.set_text(s, 0, flags=flags)\n",
            "/usr/local/lib/python3.6/dist-packages/matplotlib/backends/backend_agg.py:183: RuntimeWarning: Glyph 51060 missing from current font.\n",
            "  font.set_text(s, 0, flags=flags)\n",
            "/usr/local/lib/python3.6/dist-packages/matplotlib/backends/backend_agg.py:183: RuntimeWarning: Glyph 51648 missing from current font.\n",
            "  font.set_text(s, 0, flags=flags)\n",
            "/usr/local/lib/python3.6/dist-packages/matplotlib/backends/backend_agg.py:183: RuntimeWarning: Glyph 48624 missing from current font.\n",
            "  font.set_text(s, 0, flags=flags)\n"
          ],
          "name": "stderr"
        },
        {
          "output_type": "display_data",
          "data": {
            "image/png": "[encoded data removed]",
            "text/plain": [
              "<Figure size 576x1440 with 4 Axes>"
            ]
          },
          "metadata": {
            "tags": [],
            "needs_background": "light"
          }
        }
      ]
    },
    {
      "cell_type": "code",
      "metadata": {
        "colab": {
          "base_uri": "https://localhost:8080/",
          "height": 1000
        },
        "id": "bRhcBsaxU-oJ",
        "outputId": "6fa260d5-ab42-415f-d0de-b124cbfc9949"
      },
      "source": [
        "fig, axes = plt.subplots(4, 1, figsize=(8, 20))\r\n",
        "axes[0].bar(train['dayofmonth'], train['사용자'], color='r')\r\n",
        "axes[1].bar(train['dayofmonth'], train['세션'], color='g')\r\n",
        "axes[2].bar(train['dayofmonth'], train['신규방문자'], color='b')\r\n",
        "axes[3].bar(train['dayofmonth'], train['페이지뷰'], color='c')\r\n",
        "for i, title in enumerate(['사용자','세션','신규방문자','페이지뷰']):\r\n",
        "    axes[i].set_title(title)\r\n",
        "plt.show()"
      ],
      "execution_count": 72,
      "outputs": [
        {
          "output_type": "stream",
          "text": [
            "/usr/local/lib/python3.6/dist-packages/matplotlib/backends/backend_agg.py:214: RuntimeWarning: Glyph 49324 missing from current font.\n",
            "  font.set_text(s, 0.0, flags=flags)\n",
            "/usr/local/lib/python3.6/dist-packages/matplotlib/backends/backend_agg.py:214: RuntimeWarning: Glyph 50857 missing from current font.\n",
            "  font.set_text(s, 0.0, flags=flags)\n",
            "/usr/local/lib/python3.6/dist-packages/matplotlib/backends/backend_agg.py:214: RuntimeWarning: Glyph 51088 missing from current font.\n",
            "  font.set_text(s, 0.0, flags=flags)\n",
            "/usr/local/lib/python3.6/dist-packages/matplotlib/backends/backend_agg.py:214: RuntimeWarning: Glyph 49464 missing from current font.\n",
            "  font.set_text(s, 0.0, flags=flags)\n",
            "/usr/local/lib/python3.6/dist-packages/matplotlib/backends/backend_agg.py:214: RuntimeWarning: Glyph 49496 missing from current font.\n",
            "  font.set_text(s, 0.0, flags=flags)\n",
            "/usr/local/lib/python3.6/dist-packages/matplotlib/backends/backend_agg.py:214: RuntimeWarning: Glyph 49888 missing from current font.\n",
            "  font.set_text(s, 0.0, flags=flags)\n",
            "/usr/local/lib/python3.6/dist-packages/matplotlib/backends/backend_agg.py:214: RuntimeWarning: Glyph 44508 missing from current font.\n",
            "  font.set_text(s, 0.0, flags=flags)\n",
            "/usr/local/lib/python3.6/dist-packages/matplotlib/backends/backend_agg.py:214: RuntimeWarning: Glyph 48169 missing from current font.\n",
            "  font.set_text(s, 0.0, flags=flags)\n",
            "/usr/local/lib/python3.6/dist-packages/matplotlib/backends/backend_agg.py:214: RuntimeWarning: Glyph 47928 missing from current font.\n",
            "  font.set_text(s, 0.0, flags=flags)\n",
            "/usr/local/lib/python3.6/dist-packages/matplotlib/backends/backend_agg.py:214: RuntimeWarning: Glyph 54168 missing from current font.\n",
            "  font.set_text(s, 0.0, flags=flags)\n",
            "/usr/local/lib/python3.6/dist-packages/matplotlib/backends/backend_agg.py:214: RuntimeWarning: Glyph 51060 missing from current font.\n",
            "  font.set_text(s, 0.0, flags=flags)\n",
            "/usr/local/lib/python3.6/dist-packages/matplotlib/backends/backend_agg.py:214: RuntimeWarning: Glyph 51648 missing from current font.\n",
            "  font.set_text(s, 0.0, flags=flags)\n",
            "/usr/local/lib/python3.6/dist-packages/matplotlib/backends/backend_agg.py:214: RuntimeWarning: Glyph 48624 missing from current font.\n",
            "  font.set_text(s, 0.0, flags=flags)\n",
            "/usr/local/lib/python3.6/dist-packages/matplotlib/backends/backend_agg.py:183: RuntimeWarning: Glyph 49324 missing from current font.\n",
            "  font.set_text(s, 0, flags=flags)\n",
            "/usr/local/lib/python3.6/dist-packages/matplotlib/backends/backend_agg.py:183: RuntimeWarning: Glyph 50857 missing from current font.\n",
            "  font.set_text(s, 0, flags=flags)\n",
            "/usr/local/lib/python3.6/dist-packages/matplotlib/backends/backend_agg.py:183: RuntimeWarning: Glyph 51088 missing from current font.\n",
            "  font.set_text(s, 0, flags=flags)\n",
            "/usr/local/lib/python3.6/dist-packages/matplotlib/backends/backend_agg.py:183: RuntimeWarning: Glyph 49464 missing from current font.\n",
            "  font.set_text(s, 0, flags=flags)\n",
            "/usr/local/lib/python3.6/dist-packages/matplotlib/backends/backend_agg.py:183: RuntimeWarning: Glyph 49496 missing from current font.\n",
            "  font.set_text(s, 0, flags=flags)\n",
            "/usr/local/lib/python3.6/dist-packages/matplotlib/backends/backend_agg.py:183: RuntimeWarning: Glyph 49888 missing from current font.\n",
            "  font.set_text(s, 0, flags=flags)\n",
            "/usr/local/lib/python3.6/dist-packages/matplotlib/backends/backend_agg.py:183: RuntimeWarning: Glyph 44508 missing from current font.\n",
            "  font.set_text(s, 0, flags=flags)\n",
            "/usr/local/lib/python3.6/dist-packages/matplotlib/backends/backend_agg.py:183: RuntimeWarning: Glyph 48169 missing from current font.\n",
            "  font.set_text(s, 0, flags=flags)\n",
            "/usr/local/lib/python3.6/dist-packages/matplotlib/backends/backend_agg.py:183: RuntimeWarning: Glyph 47928 missing from current font.\n",
            "  font.set_text(s, 0, flags=flags)\n",
            "/usr/local/lib/python3.6/dist-packages/matplotlib/backends/backend_agg.py:183: RuntimeWarning: Glyph 54168 missing from current font.\n",
            "  font.set_text(s, 0, flags=flags)\n",
            "/usr/local/lib/python3.6/dist-packages/matplotlib/backends/backend_agg.py:183: RuntimeWarning: Glyph 51060 missing from current font.\n",
            "  font.set_text(s, 0, flags=flags)\n",
            "/usr/local/lib/python3.6/dist-packages/matplotlib/backends/backend_agg.py:183: RuntimeWarning: Glyph 51648 missing from current font.\n",
            "  font.set_text(s, 0, flags=flags)\n",
            "/usr/local/lib/python3.6/dist-packages/matplotlib/backends/backend_agg.py:183: RuntimeWarning: Glyph 48624 missing from current font.\n",
            "  font.set_text(s, 0, flags=flags)\n"
          ],
          "name": "stderr"
        },
        {
          "output_type": "display_data",
          "data": {
            "image/png": "[encoded data removed]",
            "text/plain": [
              "<Figure size 576x1440 with 4 Axes>"
            ]
          },
          "metadata": {
            "tags": [],
            "needs_background": "light"
          }
        }
      ]
    },
    {
      "cell_type": "markdown",
      "metadata": {
        "id": "0Mn3-RqzjnDe"
      },
      "source": [
        "#### 범주형 인코딩\r\n",
        "\r\n",
        "- one-hot 인코딩: 카테고리가 별로 없는거\r\n",
        "- binary 인코딩: 카테고리가 많은 거"
      ]
    },
    {
      "cell_type": "code",
      "metadata": {
        "colab": {
          "base_uri": "https://localhost:8080/"
        },
        "id": "ziFLhds4kax1",
        "outputId": "83b7048c-7455-42c5-b706-e8e86b9bbc04"
      },
      "source": [
        "pip install category_encoders"
      ],
      "execution_count": 73,
      "outputs": [
        {
          "output_type": "stream",
          "text": [
            "Requirement already satisfied: category_encoders in /usr/local/lib/python3.6/dist-packages (2.2.2)\n",
            "Requirement already satisfied: statsmodels>=0.9.0 in /usr/local/lib/python3.6/dist-packages (from category_encoders) (0.10.2)\n",
            "Requirement already satisfied: numpy>=1.14.0 in /usr/local/lib/python3.6/dist-packages (from category_encoders) (1.19.4)\n",
            "Requirement already satisfied: scipy>=1.0.0 in /usr/local/lib/python3.6/dist-packages (from category_encoders) (1.4.1)\n",
            "Requirement already satisfied: pandas>=0.21.1 in /usr/local/lib/python3.6/dist-packages (from category_encoders) (1.1.5)\n",
            "Requirement already satisfied: scikit-learn>=0.20.0 in /usr/local/lib/python3.6/dist-packages (from category_encoders) (0.22.2.post1)\n",
            "Requirement already satisfied: patsy>=0.5.1 in /usr/local/lib/python3.6/dist-packages (from category_encoders) (0.5.1)\n",
            "Requirement already satisfied: pytz>=2017.2 in /usr/local/lib/python3.6/dist-packages (from pandas>=0.21.1->category_encoders) (2018.9)\n",
            "Requirement already satisfied: python-dateutil>=2.7.3 in /usr/local/lib/python3.6/dist-packages (from pandas>=0.21.1->category_encoders) (2.8.1)\n",
            "Requirement already satisfied: joblib>=0.11 in /usr/local/lib/python3.6/dist-packages (from scikit-learn>=0.20.0->category_encoders) (1.0.0)\n",
            "Requirement already satisfied: six in /usr/local/lib/python3.6/dist-packages (from patsy>=0.5.1->category_encoders) (1.15.0)\n"
          ],
          "name": "stdout"
        }
      ]
    },
    {
      "cell_type": "code",
      "metadata": {
        "id": "BHx-tnrbj1cc"
      },
      "source": [
        "import category_encoders as ce"
      ],
      "execution_count": 74,
      "outputs": []
    },
    {
      "cell_type": "code",
      "metadata": {
        "colab": {
          "base_uri": "https://localhost:8080/"
        },
        "id": "4nzCaqAJd531",
        "outputId": "f64bc81c-77c1-400d-b85c-9f7a97b40869"
      },
      "source": [
        "# bianry encoding\r\n",
        "\r\n",
        "# dayofyear\tdayofmonth\tweekofyear\r\n",
        "\r\n",
        "encoder = ce.BinaryEncoder(cols=['dayofyear'])\r\n",
        "train = encoder.fit_transform(train)\r\n",
        "\r\n",
        "encoder = ce.BinaryEncoder(cols=['dayofmonth'])\r\n",
        "train = encoder.fit_transform(train)\r\n",
        "\r\n",
        "encoder = ce.BinaryEncoder(cols=['weekofyear'])\r\n",
        "train = encoder.fit_transform(train)\r\n",
        "\r\n",
        "print(train.shape)\r\n",
        "# train.head(3)"
      ],
      "execution_count": 75,
      "outputs": [
        {
          "output_type": "stream",
          "text": [
            "(792, 31)\n"
          ],
          "name": "stdout"
        },
        {
          "output_type": "stream",
          "text": [
            "/usr/local/lib/python3.6/dist-packages/category_encoders/utils.py:21: FutureWarning: is_categorical is deprecated and will be removed in a future version.  Use is_categorical_dtype instead\n",
            "  elif pd.api.types.is_categorical(cols):\n",
            "/usr/local/lib/python3.6/dist-packages/category_encoders/utils.py:21: FutureWarning: is_categorical is deprecated and will be removed in a future version.  Use is_categorical_dtype instead\n",
            "  elif pd.api.types.is_categorical(cols):\n",
            "/usr/local/lib/python3.6/dist-packages/category_encoders/utils.py:21: FutureWarning: is_categorical is deprecated and will be removed in a future version.  Use is_categorical_dtype instead\n",
            "  elif pd.api.types.is_categorical(cols):\n"
          ],
          "name": "stderr"
        }
      ]
    },
    {
      "cell_type": "code",
      "metadata": {
        "colab": {
          "base_uri": "https://localhost:8080/",
          "height": 322
        },
        "id": "ZFEkYwX-kxU9",
        "outputId": "b553855a-3620-4eb9-b314-1236f834feb7"
      },
      "source": [
        "# one-hot encoding\r\n",
        "\r\n",
        "def dummy_data(data, columns):\r\n",
        "    for column in columns:\r\n",
        "        data = pd.concat([data, pd.get_dummies(data[column], prefix = column)], axis=1)\r\n",
        "        data = data.drop(column, axis=1)\r\n",
        "    return data\r\n",
        "\r\n",
        "\r\n",
        "dummy_columns = [\"dayofweek\", \"quarter\", \"month\", \"year\"]\r\n",
        "train = dummy_data(train,dummy_columns)\r\n",
        "\r\n",
        "print(train.shape)\r\n",
        "train.head(3)"
      ],
      "execution_count": 76,
      "outputs": [
        {
          "output_type": "stream",
          "text": [
            "(792, 53)\n"
          ],
          "name": "stdout"
        },
        {
          "output_type": "execute_result",
          "data": {
            "text/html": [
              "<div>\n",
              "<style scoped>\n",
              "    .dataframe tbody tr th:only-of-type {\n",
              "        vertical-align: middle;\n",
              "    }\n",
              "\n",
              "    .dataframe tbody tr th {\n",
              "        vertical-align: top;\n",
              "    }\n",
              "\n",
              "    .dataframe thead th {\n",
              "        text-align: right;\n",
              "    }\n",
              "</style>\n",
              "<table border=\"1\" class=\"dataframe\">\n",
              "  <thead>\n",
              "    <tr style=\"text-align: right;\">\n",
              "      <th></th>\n",
              "      <th>사용자</th>\n",
              "      <th>세션</th>\n",
              "      <th>신규방문자</th>\n",
              "      <th>페이지뷰</th>\n",
              "      <th>dayofyear_0</th>\n",
              "      <th>dayofyear_1</th>\n",
              "      <th>dayofyear_2</th>\n",
              "      <th>dayofyear_3</th>\n",
              "      <th>dayofyear_4</th>\n",
              "      <th>dayofyear_5</th>\n",
              "      <th>dayofyear_6</th>\n",
              "      <th>dayofyear_7</th>\n",
              "      <th>dayofyear_8</th>\n",
              "      <th>dayofyear_9</th>\n",
              "      <th>dayofmonth_0</th>\n",
              "      <th>dayofmonth_1</th>\n",
              "      <th>dayofmonth_2</th>\n",
              "      <th>dayofmonth_3</th>\n",
              "      <th>dayofmonth_4</th>\n",
              "      <th>dayofmonth_5</th>\n",
              "      <th>weekofyear_0</th>\n",
              "      <th>weekofyear_1</th>\n",
              "      <th>weekofyear_2</th>\n",
              "      <th>weekofyear_3</th>\n",
              "      <th>weekofyear_4</th>\n",
              "      <th>weekofyear_5</th>\n",
              "      <th>weekofyear_6</th>\n",
              "      <th>dayofweek_0</th>\n",
              "      <th>dayofweek_1</th>\n",
              "      <th>dayofweek_2</th>\n",
              "      <th>dayofweek_3</th>\n",
              "      <th>dayofweek_4</th>\n",
              "      <th>dayofweek_5</th>\n",
              "      <th>dayofweek_6</th>\n",
              "      <th>quarter_1</th>\n",
              "      <th>quarter_2</th>\n",
              "      <th>quarter_3</th>\n",
              "      <th>quarter_4</th>\n",
              "      <th>month_1</th>\n",
              "      <th>month_2</th>\n",
              "      <th>month_3</th>\n",
              "      <th>month_4</th>\n",
              "      <th>month_5</th>\n",
              "      <th>month_6</th>\n",
              "      <th>month_7</th>\n",
              "      <th>month_8</th>\n",
              "      <th>month_9</th>\n",
              "      <th>month_10</th>\n",
              "      <th>month_11</th>\n",
              "      <th>month_12</th>\n",
              "      <th>year_2018</th>\n",
              "      <th>year_2019</th>\n",
              "      <th>year_2020</th>\n",
              "    </tr>\n",
              "    <tr>\n",
              "      <th>date</th>\n",
              "      <th></th>\n",
              "      <th></th>\n",
              "      <th></th>\n",
              "      <th></th>\n",
              "      <th></th>\n",
              "      <th></th>\n",
              "      <th></th>\n",
              "      <th></th>\n",
              "      <th></th>\n",
              "      <th></th>\n",
              "      <th></th>\n",
              "      <th></th>\n",
              "      <th></th>\n",
              "      <th></th>\n",
              "      <th></th>\n",
              "      <th></th>\n",
              "      <th></th>\n",
              "      <th></th>\n",
              "      <th></th>\n",
              "      <th></th>\n",
              "      <th></th>\n",
              "      <th></th>\n",
              "      <th></th>\n",
              "      <th></th>\n",
              "      <th></th>\n",
              "      <th></th>\n",
              "      <th></th>\n",
              "      <th></th>\n",
              "      <th></th>\n",
              "      <th></th>\n",
              "      <th></th>\n",
              "      <th></th>\n",
              "      <th></th>\n",
              "      <th></th>\n",
              "      <th></th>\n",
              "      <th></th>\n",
              "      <th></th>\n",
              "      <th></th>\n",
              "      <th></th>\n",
              "      <th></th>\n",
              "      <th></th>\n",
              "      <th></th>\n",
              "      <th></th>\n",
              "      <th></th>\n",
              "      <th></th>\n",
              "      <th></th>\n",
              "      <th></th>\n",
              "      <th></th>\n",
              "      <th></th>\n",
              "      <th></th>\n",
              "      <th></th>\n",
              "      <th></th>\n",
              "      <th></th>\n",
              "    </tr>\n",
              "  </thead>\n",
              "  <tbody>\n",
              "    <tr>\n",
              "      <th>2018-09-09</th>\n",
              "      <td>281</td>\n",
              "      <td>266</td>\n",
              "      <td>73</td>\n",
              "      <td>1826</td>\n",
              "      <td>0</td>\n",
              "      <td>0</td>\n",
              "      <td>0</td>\n",
              "      <td>0</td>\n",
              "      <td>0</td>\n",
              "      <td>0</td>\n",
              "      <td>0</td>\n",
              "      <td>0</td>\n",
              "      <td>0</td>\n",
              "      <td>1</td>\n",
              "      <td>0</td>\n",
              "      <td>0</td>\n",
              "      <td>0</td>\n",
              "      <td>0</td>\n",
              "      <td>0</td>\n",
              "      <td>1</td>\n",
              "      <td>0</td>\n",
              "      <td>0</td>\n",
              "      <td>0</td>\n",
              "      <td>0</td>\n",
              "      <td>0</td>\n",
              "      <td>0</td>\n",
              "      <td>1</td>\n",
              "      <td>0</td>\n",
              "      <td>0</td>\n",
              "      <td>0</td>\n",
              "      <td>0</td>\n",
              "      <td>0</td>\n",
              "      <td>0</td>\n",
              "      <td>1</td>\n",
              "      <td>0</td>\n",
              "      <td>0</td>\n",
              "      <td>1</td>\n",
              "      <td>0</td>\n",
              "      <td>0</td>\n",
              "      <td>0</td>\n",
              "      <td>0</td>\n",
              "      <td>0</td>\n",
              "      <td>0</td>\n",
              "      <td>0</td>\n",
              "      <td>0</td>\n",
              "      <td>0</td>\n",
              "      <td>1</td>\n",
              "      <td>0</td>\n",
              "      <td>0</td>\n",
              "      <td>0</td>\n",
              "      <td>1</td>\n",
              "      <td>0</td>\n",
              "      <td>0</td>\n",
              "    </tr>\n",
              "    <tr>\n",
              "      <th>2018-09-10</th>\n",
              "      <td>264</td>\n",
              "      <td>247</td>\n",
              "      <td>51</td>\n",
              "      <td>2092</td>\n",
              "      <td>0</td>\n",
              "      <td>0</td>\n",
              "      <td>0</td>\n",
              "      <td>0</td>\n",
              "      <td>0</td>\n",
              "      <td>0</td>\n",
              "      <td>0</td>\n",
              "      <td>0</td>\n",
              "      <td>1</td>\n",
              "      <td>0</td>\n",
              "      <td>0</td>\n",
              "      <td>0</td>\n",
              "      <td>0</td>\n",
              "      <td>0</td>\n",
              "      <td>1</td>\n",
              "      <td>0</td>\n",
              "      <td>0</td>\n",
              "      <td>0</td>\n",
              "      <td>0</td>\n",
              "      <td>0</td>\n",
              "      <td>0</td>\n",
              "      <td>1</td>\n",
              "      <td>0</td>\n",
              "      <td>1</td>\n",
              "      <td>0</td>\n",
              "      <td>0</td>\n",
              "      <td>0</td>\n",
              "      <td>0</td>\n",
              "      <td>0</td>\n",
              "      <td>0</td>\n",
              "      <td>0</td>\n",
              "      <td>0</td>\n",
              "      <td>1</td>\n",
              "      <td>0</td>\n",
              "      <td>0</td>\n",
              "      <td>0</td>\n",
              "      <td>0</td>\n",
              "      <td>0</td>\n",
              "      <td>0</td>\n",
              "      <td>0</td>\n",
              "      <td>0</td>\n",
              "      <td>0</td>\n",
              "      <td>1</td>\n",
              "      <td>0</td>\n",
              "      <td>0</td>\n",
              "      <td>0</td>\n",
              "      <td>1</td>\n",
              "      <td>0</td>\n",
              "      <td>0</td>\n",
              "    </tr>\n",
              "    <tr>\n",
              "      <th>2018-09-11</th>\n",
              "      <td>329</td>\n",
              "      <td>310</td>\n",
              "      <td>58</td>\n",
              "      <td>1998</td>\n",
              "      <td>0</td>\n",
              "      <td>0</td>\n",
              "      <td>0</td>\n",
              "      <td>0</td>\n",
              "      <td>0</td>\n",
              "      <td>0</td>\n",
              "      <td>0</td>\n",
              "      <td>0</td>\n",
              "      <td>1</td>\n",
              "      <td>1</td>\n",
              "      <td>0</td>\n",
              "      <td>0</td>\n",
              "      <td>0</td>\n",
              "      <td>0</td>\n",
              "      <td>1</td>\n",
              "      <td>1</td>\n",
              "      <td>0</td>\n",
              "      <td>0</td>\n",
              "      <td>0</td>\n",
              "      <td>0</td>\n",
              "      <td>0</td>\n",
              "      <td>1</td>\n",
              "      <td>0</td>\n",
              "      <td>0</td>\n",
              "      <td>1</td>\n",
              "      <td>0</td>\n",
              "      <td>0</td>\n",
              "      <td>0</td>\n",
              "      <td>0</td>\n",
              "      <td>0</td>\n",
              "      <td>0</td>\n",
              "      <td>0</td>\n",
              "      <td>1</td>\n",
              "      <td>0</td>\n",
              "      <td>0</td>\n",
              "      <td>0</td>\n",
              "      <td>0</td>\n",
              "      <td>0</td>\n",
              "      <td>0</td>\n",
              "      <td>0</td>\n",
              "      <td>0</td>\n",
              "      <td>0</td>\n",
              "      <td>1</td>\n",
              "      <td>0</td>\n",
              "      <td>0</td>\n",
              "      <td>0</td>\n",
              "      <td>1</td>\n",
              "      <td>0</td>\n",
              "      <td>0</td>\n",
              "    </tr>\n",
              "  </tbody>\n",
              "</table>\n",
              "</div>"
            ],
            "text/plain": [
              "            사용자   세션  신규방문자  페이지뷰  ...  month_12  year_2018  year_2019  year_2020\n",
              "date                               ...                                           \n",
              "2018-09-09  281  266     73  1826  ...         0          1          0          0\n",
              "2018-09-10  264  247     51  2092  ...         0          1          0          0\n",
              "2018-09-11  329  310     58  1998  ...         0          1          0          0\n",
              "\n",
              "[3 rows x 53 columns]"
            ]
          },
          "metadata": {
            "tags": []
          },
          "execution_count": 76
        }
      ]
    },
    {
      "cell_type": "markdown",
      "metadata": {
        "id": "UP7gIbLQ9zmM"
      },
      "source": [
        "- 추가데이터 가공"
      ]
    },
    {
      "cell_type": "code",
      "metadata": {
        "colab": {
          "base_uri": "https://localhost:8080/",
          "height": 69
        },
        "id": "cJGuiHK99ucr",
        "outputId": "dc4b653a-c561-49e7-a7fb-73cee0a4991a"
      },
      "source": [
        "'''\r\n",
        "user =  pd.read_csv(path + '/open_data/info_user.csv', encoding = 'euc-kr')\r\n",
        "login = pd.read_csv(path +'/open_data/info_login.csv', encoding = 'euc-kr')\r\n",
        "competition = pd.read_csv(path +'/open_data/info_competition.csv', encoding = 'euc-kr')\r\n",
        "info_submission =  pd.read_csv(path +'/open_data/info_submission.csv', encoding = 'euc-kr')\r\n",
        "'''"
      ],
      "execution_count": 77,
      "outputs": [
        {
          "output_type": "execute_result",
          "data": {
            "application/vnd.google.colaboratory.intrinsic+json": {
              "type": "string"
            },
            "text/plain": [
              "\"\\nuser =  pd.read_csv(path + '/open_data/info_user.csv', encoding = 'euc-kr')\\nlogin = pd.read_csv(path +'/open_data/info_login.csv', encoding = 'euc-kr')\\ncompetition = pd.read_csv(path +'/open_data/info_competition.csv', encoding = 'euc-kr')\\ninfo_submission =  pd.read_csv(path +'/open_data/info_submission.csv', encoding = 'euc-kr')\\n\""
            ]
          },
          "metadata": {
            "tags": []
          },
          "execution_count": 77
        }
      ]
    },
    {
      "cell_type": "markdown",
      "metadata": {
        "id": "M-nqMth6966w"
      },
      "source": [
        "- 데이터 전처리"
      ]
    },
    {
      "cell_type": "code",
      "metadata": {
        "colab": {
          "base_uri": "https://localhost:8080/",
          "height": 640
        },
        "id": "MB-KiRHF92gN",
        "outputId": "5a71cc32-ac97-4bed-eb6b-ec07e37f96fc"
      },
      "source": [
        "# scaling\r\n",
        "\r\n",
        "mini = train.iloc[:,:4].min()\r\n",
        "size = train.iloc[:,:4].max() - train.iloc[:,:4].min()\r\n",
        "train.iloc[:,:4] = (train.iloc[:,:4] -  mini) / size\r\n",
        "train"
      ],
      "execution_count": 78,
      "outputs": [
        {
          "output_type": "execute_result",
          "data": {
            "text/html": [
              "<div>\n",
              "<style scoped>\n",
              "    .dataframe tbody tr th:only-of-type {\n",
              "        vertical-align: middle;\n",
              "    }\n",
              "\n",
              "    .dataframe tbody tr th {\n",
              "        vertical-align: top;\n",
              "    }\n",
              "\n",
              "    .dataframe thead th {\n",
              "        text-align: right;\n",
              "    }\n",
              "</style>\n",
              "<table border=\"1\" class=\"dataframe\">\n",
              "  <thead>\n",
              "    <tr style=\"text-align: right;\">\n",
              "      <th></th>\n",
              "      <th>사용자</th>\n",
              "      <th>세션</th>\n",
              "      <th>신규방문자</th>\n",
              "      <th>페이지뷰</th>\n",
              "      <th>dayofyear_0</th>\n",
              "      <th>dayofyear_1</th>\n",
              "      <th>dayofyear_2</th>\n",
              "      <th>dayofyear_3</th>\n",
              "      <th>dayofyear_4</th>\n",
              "      <th>dayofyear_5</th>\n",
              "      <th>dayofyear_6</th>\n",
              "      <th>dayofyear_7</th>\n",
              "      <th>dayofyear_8</th>\n",
              "      <th>dayofyear_9</th>\n",
              "      <th>dayofmonth_0</th>\n",
              "      <th>dayofmonth_1</th>\n",
              "      <th>dayofmonth_2</th>\n",
              "      <th>dayofmonth_3</th>\n",
              "      <th>dayofmonth_4</th>\n",
              "      <th>dayofmonth_5</th>\n",
              "      <th>weekofyear_0</th>\n",
              "      <th>weekofyear_1</th>\n",
              "      <th>weekofyear_2</th>\n",
              "      <th>weekofyear_3</th>\n",
              "      <th>weekofyear_4</th>\n",
              "      <th>weekofyear_5</th>\n",
              "      <th>weekofyear_6</th>\n",
              "      <th>dayofweek_0</th>\n",
              "      <th>dayofweek_1</th>\n",
              "      <th>dayofweek_2</th>\n",
              "      <th>dayofweek_3</th>\n",
              "      <th>dayofweek_4</th>\n",
              "      <th>dayofweek_5</th>\n",
              "      <th>dayofweek_6</th>\n",
              "      <th>quarter_1</th>\n",
              "      <th>quarter_2</th>\n",
              "      <th>quarter_3</th>\n",
              "      <th>quarter_4</th>\n",
              "      <th>month_1</th>\n",
              "      <th>month_2</th>\n",
              "      <th>month_3</th>\n",
              "      <th>month_4</th>\n",
              "      <th>month_5</th>\n",
              "      <th>month_6</th>\n",
              "      <th>month_7</th>\n",
              "      <th>month_8</th>\n",
              "      <th>month_9</th>\n",
              "      <th>month_10</th>\n",
              "      <th>month_11</th>\n",
              "      <th>month_12</th>\n",
              "      <th>year_2018</th>\n",
              "      <th>year_2019</th>\n",
              "      <th>year_2020</th>\n",
              "    </tr>\n",
              "    <tr>\n",
              "      <th>date</th>\n",
              "      <th></th>\n",
              "      <th></th>\n",
              "      <th></th>\n",
              "      <th></th>\n",
              "      <th></th>\n",
              "      <th></th>\n",
              "      <th></th>\n",
              "      <th></th>\n",
              "      <th></th>\n",
              "      <th></th>\n",
              "      <th></th>\n",
              "      <th></th>\n",
              "      <th></th>\n",
              "      <th></th>\n",
              "      <th></th>\n",
              "      <th></th>\n",
              "      <th></th>\n",
              "      <th></th>\n",
              "      <th></th>\n",
              "      <th></th>\n",
              "      <th></th>\n",
              "      <th></th>\n",
              "      <th></th>\n",
              "      <th></th>\n",
              "      <th></th>\n",
              "      <th></th>\n",
              "      <th></th>\n",
              "      <th></th>\n",
              "      <th></th>\n",
              "      <th></th>\n",
              "      <th></th>\n",
              "      <th></th>\n",
              "      <th></th>\n",
              "      <th></th>\n",
              "      <th></th>\n",
              "      <th></th>\n",
              "      <th></th>\n",
              "      <th></th>\n",
              "      <th></th>\n",
              "      <th></th>\n",
              "      <th></th>\n",
              "      <th></th>\n",
              "      <th></th>\n",
              "      <th></th>\n",
              "      <th></th>\n",
              "      <th></th>\n",
              "      <th></th>\n",
              "      <th></th>\n",
              "      <th></th>\n",
              "      <th></th>\n",
              "      <th></th>\n",
              "      <th></th>\n",
              "      <th></th>\n",
              "    </tr>\n",
              "  </thead>\n",
              "  <tbody>\n",
              "    <tr>\n",
              "      <th>2018-09-09</th>\n",
              "      <td>0.051689</td>\n",
              "      <td>0.049083</td>\n",
              "      <td>0.042604</td>\n",
              "      <td>0.011735</td>\n",
              "      <td>0</td>\n",
              "      <td>0</td>\n",
              "      <td>0</td>\n",
              "      <td>0</td>\n",
              "      <td>0</td>\n",
              "      <td>0</td>\n",
              "      <td>0</td>\n",
              "      <td>0</td>\n",
              "      <td>0</td>\n",
              "      <td>1</td>\n",
              "      <td>0</td>\n",
              "      <td>0</td>\n",
              "      <td>0</td>\n",
              "      <td>0</td>\n",
              "      <td>0</td>\n",
              "      <td>1</td>\n",
              "      <td>0</td>\n",
              "      <td>0</td>\n",
              "      <td>0</td>\n",
              "      <td>0</td>\n",
              "      <td>0</td>\n",
              "      <td>0</td>\n",
              "      <td>1</td>\n",
              "      <td>0</td>\n",
              "      <td>0</td>\n",
              "      <td>0</td>\n",
              "      <td>0</td>\n",
              "      <td>0</td>\n",
              "      <td>0</td>\n",
              "      <td>1</td>\n",
              "      <td>0</td>\n",
              "      <td>0</td>\n",
              "      <td>1</td>\n",
              "      <td>0</td>\n",
              "      <td>0</td>\n",
              "      <td>0</td>\n",
              "      <td>0</td>\n",
              "      <td>0</td>\n",
              "      <td>0</td>\n",
              "      <td>0</td>\n",
              "      <td>0</td>\n",
              "      <td>0</td>\n",
              "      <td>1</td>\n",
              "      <td>0</td>\n",
              "      <td>0</td>\n",
              "      <td>0</td>\n",
              "      <td>1</td>\n",
              "      <td>0</td>\n",
              "      <td>0</td>\n",
              "    </tr>\n",
              "    <tr>\n",
              "      <th>2018-09-10</th>\n",
              "      <td>0.048551</td>\n",
              "      <td>0.045564</td>\n",
              "      <td>0.029586</td>\n",
              "      <td>0.013446</td>\n",
              "      <td>0</td>\n",
              "      <td>0</td>\n",
              "      <td>0</td>\n",
              "      <td>0</td>\n",
              "      <td>0</td>\n",
              "      <td>0</td>\n",
              "      <td>0</td>\n",
              "      <td>0</td>\n",
              "      <td>1</td>\n",
              "      <td>0</td>\n",
              "      <td>0</td>\n",
              "      <td>0</td>\n",
              "      <td>0</td>\n",
              "      <td>0</td>\n",
              "      <td>1</td>\n",
              "      <td>0</td>\n",
              "      <td>0</td>\n",
              "      <td>0</td>\n",
              "      <td>0</td>\n",
              "      <td>0</td>\n",
              "      <td>0</td>\n",
              "      <td>1</td>\n",
              "      <td>0</td>\n",
              "      <td>1</td>\n",
              "      <td>0</td>\n",
              "      <td>0</td>\n",
              "      <td>0</td>\n",
              "      <td>0</td>\n",
              "      <td>0</td>\n",
              "      <td>0</td>\n",
              "      <td>0</td>\n",
              "      <td>0</td>\n",
              "      <td>1</td>\n",
              "      <td>0</td>\n",
              "      <td>0</td>\n",
              "      <td>0</td>\n",
              "      <td>0</td>\n",
              "      <td>0</td>\n",
              "      <td>0</td>\n",
              "      <td>0</td>\n",
              "      <td>0</td>\n",
              "      <td>0</td>\n",
              "      <td>1</td>\n",
              "      <td>0</td>\n",
              "      <td>0</td>\n",
              "      <td>0</td>\n",
              "      <td>1</td>\n",
              "      <td>0</td>\n",
              "      <td>0</td>\n",
              "    </tr>\n",
              "    <tr>\n",
              "      <th>2018-09-11</th>\n",
              "      <td>0.060550</td>\n",
              "      <td>0.057233</td>\n",
              "      <td>0.033728</td>\n",
              "      <td>0.012842</td>\n",
              "      <td>0</td>\n",
              "      <td>0</td>\n",
              "      <td>0</td>\n",
              "      <td>0</td>\n",
              "      <td>0</td>\n",
              "      <td>0</td>\n",
              "      <td>0</td>\n",
              "      <td>0</td>\n",
              "      <td>1</td>\n",
              "      <td>1</td>\n",
              "      <td>0</td>\n",
              "      <td>0</td>\n",
              "      <td>0</td>\n",
              "      <td>0</td>\n",
              "      <td>1</td>\n",
              "      <td>1</td>\n",
              "      <td>0</td>\n",
              "      <td>0</td>\n",
              "      <td>0</td>\n",
              "      <td>0</td>\n",
              "      <td>0</td>\n",
              "      <td>1</td>\n",
              "      <td>0</td>\n",
              "      <td>0</td>\n",
              "      <td>1</td>\n",
              "      <td>0</td>\n",
              "      <td>0</td>\n",
              "      <td>0</td>\n",
              "      <td>0</td>\n",
              "      <td>0</td>\n",
              "      <td>0</td>\n",
              "      <td>0</td>\n",
              "      <td>1</td>\n",
              "      <td>0</td>\n",
              "      <td>0</td>\n",
              "      <td>0</td>\n",
              "      <td>0</td>\n",
              "      <td>0</td>\n",
              "      <td>0</td>\n",
              "      <td>0</td>\n",
              "      <td>0</td>\n",
              "      <td>0</td>\n",
              "      <td>1</td>\n",
              "      <td>0</td>\n",
              "      <td>0</td>\n",
              "      <td>0</td>\n",
              "      <td>1</td>\n",
              "      <td>0</td>\n",
              "      <td>0</td>\n",
              "    </tr>\n",
              "    <tr>\n",
              "      <th>2018-09-12</th>\n",
              "      <td>0.055197</td>\n",
              "      <td>0.052973</td>\n",
              "      <td>0.026036</td>\n",
              "      <td>0.016682</td>\n",
              "      <td>0</td>\n",
              "      <td>0</td>\n",
              "      <td>0</td>\n",
              "      <td>0</td>\n",
              "      <td>0</td>\n",
              "      <td>0</td>\n",
              "      <td>0</td>\n",
              "      <td>1</td>\n",
              "      <td>0</td>\n",
              "      <td>0</td>\n",
              "      <td>0</td>\n",
              "      <td>0</td>\n",
              "      <td>0</td>\n",
              "      <td>1</td>\n",
              "      <td>0</td>\n",
              "      <td>0</td>\n",
              "      <td>0</td>\n",
              "      <td>0</td>\n",
              "      <td>0</td>\n",
              "      <td>0</td>\n",
              "      <td>0</td>\n",
              "      <td>1</td>\n",
              "      <td>0</td>\n",
              "      <td>0</td>\n",
              "      <td>0</td>\n",
              "      <td>1</td>\n",
              "      <td>0</td>\n",
              "      <td>0</td>\n",
              "      <td>0</td>\n",
              "      <td>0</td>\n",
              "      <td>0</td>\n",
              "      <td>0</td>\n",
              "      <td>1</td>\n",
              "      <td>0</td>\n",
              "      <td>0</td>\n",
              "      <td>0</td>\n",
              "      <td>0</td>\n",
              "      <td>0</td>\n",
              "      <td>0</td>\n",
              "      <td>0</td>\n",
              "      <td>0</td>\n",
              "      <td>0</td>\n",
              "      <td>1</td>\n",
              "      <td>0</td>\n",
              "      <td>0</td>\n",
              "      <td>0</td>\n",
              "      <td>1</td>\n",
              "      <td>0</td>\n",
              "      <td>0</td>\n",
              "    </tr>\n",
              "    <tr>\n",
              "      <th>2018-09-13</th>\n",
              "      <td>0.069596</td>\n",
              "      <td>0.063530</td>\n",
              "      <td>0.028994</td>\n",
              "      <td>0.024724</td>\n",
              "      <td>0</td>\n",
              "      <td>0</td>\n",
              "      <td>0</td>\n",
              "      <td>0</td>\n",
              "      <td>0</td>\n",
              "      <td>0</td>\n",
              "      <td>0</td>\n",
              "      <td>1</td>\n",
              "      <td>0</td>\n",
              "      <td>1</td>\n",
              "      <td>0</td>\n",
              "      <td>0</td>\n",
              "      <td>0</td>\n",
              "      <td>1</td>\n",
              "      <td>0</td>\n",
              "      <td>1</td>\n",
              "      <td>0</td>\n",
              "      <td>0</td>\n",
              "      <td>0</td>\n",
              "      <td>0</td>\n",
              "      <td>0</td>\n",
              "      <td>1</td>\n",
              "      <td>0</td>\n",
              "      <td>0</td>\n",
              "      <td>0</td>\n",
              "      <td>0</td>\n",
              "      <td>1</td>\n",
              "      <td>0</td>\n",
              "      <td>0</td>\n",
              "      <td>0</td>\n",
              "      <td>0</td>\n",
              "      <td>0</td>\n",
              "      <td>1</td>\n",
              "      <td>0</td>\n",
              "      <td>0</td>\n",
              "      <td>0</td>\n",
              "      <td>0</td>\n",
              "      <td>0</td>\n",
              "      <td>0</td>\n",
              "      <td>0</td>\n",
              "      <td>0</td>\n",
              "      <td>0</td>\n",
              "      <td>1</td>\n",
              "      <td>0</td>\n",
              "      <td>0</td>\n",
              "      <td>0</td>\n",
              "      <td>1</td>\n",
              "      <td>0</td>\n",
              "      <td>0</td>\n",
              "    </tr>\n",
              "    <tr>\n",
              "      <th>...</th>\n",
              "      <td>...</td>\n",
              "      <td>...</td>\n",
              "      <td>...</td>\n",
              "      <td>...</td>\n",
              "      <td>...</td>\n",
              "      <td>...</td>\n",
              "      <td>...</td>\n",
              "      <td>...</td>\n",
              "      <td>...</td>\n",
              "      <td>...</td>\n",
              "      <td>...</td>\n",
              "      <td>...</td>\n",
              "      <td>...</td>\n",
              "      <td>...</td>\n",
              "      <td>...</td>\n",
              "      <td>...</td>\n",
              "      <td>...</td>\n",
              "      <td>...</td>\n",
              "      <td>...</td>\n",
              "      <td>...</td>\n",
              "      <td>...</td>\n",
              "      <td>...</td>\n",
              "      <td>...</td>\n",
              "      <td>...</td>\n",
              "      <td>...</td>\n",
              "      <td>...</td>\n",
              "      <td>...</td>\n",
              "      <td>...</td>\n",
              "      <td>...</td>\n",
              "      <td>...</td>\n",
              "      <td>...</td>\n",
              "      <td>...</td>\n",
              "      <td>...</td>\n",
              "      <td>...</td>\n",
              "      <td>...</td>\n",
              "      <td>...</td>\n",
              "      <td>...</td>\n",
              "      <td>...</td>\n",
              "      <td>...</td>\n",
              "      <td>...</td>\n",
              "      <td>...</td>\n",
              "      <td>...</td>\n",
              "      <td>...</td>\n",
              "      <td>...</td>\n",
              "      <td>...</td>\n",
              "      <td>...</td>\n",
              "      <td>...</td>\n",
              "      <td>...</td>\n",
              "      <td>...</td>\n",
              "      <td>...</td>\n",
              "      <td>...</td>\n",
              "      <td>...</td>\n",
              "      <td>...</td>\n",
              "    </tr>\n",
              "    <tr>\n",
              "      <th>2020-11-04</th>\n",
              "      <td>0.833487</td>\n",
              "      <td>0.828116</td>\n",
              "      <td>0.707101</td>\n",
              "      <td>0.724949</td>\n",
              "      <td>0</td>\n",
              "      <td>0</td>\n",
              "      <td>0</td>\n",
              "      <td>0</td>\n",
              "      <td>1</td>\n",
              "      <td>1</td>\n",
              "      <td>1</td>\n",
              "      <td>0</td>\n",
              "      <td>1</td>\n",
              "      <td>0</td>\n",
              "      <td>0</td>\n",
              "      <td>1</td>\n",
              "      <td>1</td>\n",
              "      <td>0</td>\n",
              "      <td>1</td>\n",
              "      <td>0</td>\n",
              "      <td>0</td>\n",
              "      <td>0</td>\n",
              "      <td>0</td>\n",
              "      <td>1</td>\n",
              "      <td>0</td>\n",
              "      <td>1</td>\n",
              "      <td>0</td>\n",
              "      <td>0</td>\n",
              "      <td>0</td>\n",
              "      <td>1</td>\n",
              "      <td>0</td>\n",
              "      <td>0</td>\n",
              "      <td>0</td>\n",
              "      <td>0</td>\n",
              "      <td>0</td>\n",
              "      <td>0</td>\n",
              "      <td>0</td>\n",
              "      <td>1</td>\n",
              "      <td>0</td>\n",
              "      <td>0</td>\n",
              "      <td>0</td>\n",
              "      <td>0</td>\n",
              "      <td>0</td>\n",
              "      <td>0</td>\n",
              "      <td>0</td>\n",
              "      <td>0</td>\n",
              "      <td>0</td>\n",
              "      <td>0</td>\n",
              "      <td>1</td>\n",
              "      <td>0</td>\n",
              "      <td>0</td>\n",
              "      <td>0</td>\n",
              "      <td>1</td>\n",
              "    </tr>\n",
              "    <tr>\n",
              "      <th>2020-11-05</th>\n",
              "      <td>0.766845</td>\n",
              "      <td>0.747546</td>\n",
              "      <td>0.617160</td>\n",
              "      <td>0.662015</td>\n",
              "      <td>0</td>\n",
              "      <td>0</td>\n",
              "      <td>0</td>\n",
              "      <td>0</td>\n",
              "      <td>1</td>\n",
              "      <td>1</td>\n",
              "      <td>1</td>\n",
              "      <td>0</td>\n",
              "      <td>1</td>\n",
              "      <td>1</td>\n",
              "      <td>0</td>\n",
              "      <td>1</td>\n",
              "      <td>1</td>\n",
              "      <td>0</td>\n",
              "      <td>1</td>\n",
              "      <td>1</td>\n",
              "      <td>0</td>\n",
              "      <td>0</td>\n",
              "      <td>0</td>\n",
              "      <td>1</td>\n",
              "      <td>0</td>\n",
              "      <td>1</td>\n",
              "      <td>0</td>\n",
              "      <td>0</td>\n",
              "      <td>0</td>\n",
              "      <td>0</td>\n",
              "      <td>1</td>\n",
              "      <td>0</td>\n",
              "      <td>0</td>\n",
              "      <td>0</td>\n",
              "      <td>0</td>\n",
              "      <td>0</td>\n",
              "      <td>0</td>\n",
              "      <td>1</td>\n",
              "      <td>0</td>\n",
              "      <td>0</td>\n",
              "      <td>0</td>\n",
              "      <td>0</td>\n",
              "      <td>0</td>\n",
              "      <td>0</td>\n",
              "      <td>0</td>\n",
              "      <td>0</td>\n",
              "      <td>0</td>\n",
              "      <td>0</td>\n",
              "      <td>1</td>\n",
              "      <td>0</td>\n",
              "      <td>0</td>\n",
              "      <td>0</td>\n",
              "      <td>1</td>\n",
              "    </tr>\n",
              "    <tr>\n",
              "      <th>2020-11-06</th>\n",
              "      <td>0.676020</td>\n",
              "      <td>0.662160</td>\n",
              "      <td>0.487574</td>\n",
              "      <td>0.566244</td>\n",
              "      <td>0</td>\n",
              "      <td>0</td>\n",
              "      <td>0</td>\n",
              "      <td>0</td>\n",
              "      <td>1</td>\n",
              "      <td>1</td>\n",
              "      <td>1</td>\n",
              "      <td>1</td>\n",
              "      <td>0</td>\n",
              "      <td>0</td>\n",
              "      <td>0</td>\n",
              "      <td>1</td>\n",
              "      <td>1</td>\n",
              "      <td>1</td>\n",
              "      <td>0</td>\n",
              "      <td>0</td>\n",
              "      <td>0</td>\n",
              "      <td>0</td>\n",
              "      <td>0</td>\n",
              "      <td>1</td>\n",
              "      <td>0</td>\n",
              "      <td>1</td>\n",
              "      <td>0</td>\n",
              "      <td>0</td>\n",
              "      <td>0</td>\n",
              "      <td>0</td>\n",
              "      <td>0</td>\n",
              "      <td>1</td>\n",
              "      <td>0</td>\n",
              "      <td>0</td>\n",
              "      <td>0</td>\n",
              "      <td>0</td>\n",
              "      <td>0</td>\n",
              "      <td>1</td>\n",
              "      <td>0</td>\n",
              "      <td>0</td>\n",
              "      <td>0</td>\n",
              "      <td>0</td>\n",
              "      <td>0</td>\n",
              "      <td>0</td>\n",
              "      <td>0</td>\n",
              "      <td>0</td>\n",
              "      <td>0</td>\n",
              "      <td>0</td>\n",
              "      <td>1</td>\n",
              "      <td>0</td>\n",
              "      <td>0</td>\n",
              "      <td>0</td>\n",
              "      <td>1</td>\n",
              "    </tr>\n",
              "    <tr>\n",
              "      <th>2020-11-07</th>\n",
              "      <td>0.456157</td>\n",
              "      <td>0.447490</td>\n",
              "      <td>0.313609</td>\n",
              "      <td>0.369188</td>\n",
              "      <td>0</td>\n",
              "      <td>0</td>\n",
              "      <td>0</td>\n",
              "      <td>0</td>\n",
              "      <td>1</td>\n",
              "      <td>1</td>\n",
              "      <td>1</td>\n",
              "      <td>1</td>\n",
              "      <td>0</td>\n",
              "      <td>1</td>\n",
              "      <td>0</td>\n",
              "      <td>1</td>\n",
              "      <td>1</td>\n",
              "      <td>1</td>\n",
              "      <td>0</td>\n",
              "      <td>1</td>\n",
              "      <td>0</td>\n",
              "      <td>0</td>\n",
              "      <td>0</td>\n",
              "      <td>1</td>\n",
              "      <td>0</td>\n",
              "      <td>1</td>\n",
              "      <td>0</td>\n",
              "      <td>0</td>\n",
              "      <td>0</td>\n",
              "      <td>0</td>\n",
              "      <td>0</td>\n",
              "      <td>0</td>\n",
              "      <td>1</td>\n",
              "      <td>0</td>\n",
              "      <td>0</td>\n",
              "      <td>0</td>\n",
              "      <td>0</td>\n",
              "      <td>1</td>\n",
              "      <td>0</td>\n",
              "      <td>0</td>\n",
              "      <td>0</td>\n",
              "      <td>0</td>\n",
              "      <td>0</td>\n",
              "      <td>0</td>\n",
              "      <td>0</td>\n",
              "      <td>0</td>\n",
              "      <td>0</td>\n",
              "      <td>0</td>\n",
              "      <td>1</td>\n",
              "      <td>0</td>\n",
              "      <td>0</td>\n",
              "      <td>0</td>\n",
              "      <td>1</td>\n",
              "    </tr>\n",
              "    <tr>\n",
              "      <th>2020-11-08</th>\n",
              "      <td>0.459849</td>\n",
              "      <td>0.448046</td>\n",
              "      <td>0.308284</td>\n",
              "      <td>0.324796</td>\n",
              "      <td>0</td>\n",
              "      <td>0</td>\n",
              "      <td>0</td>\n",
              "      <td>0</td>\n",
              "      <td>1</td>\n",
              "      <td>1</td>\n",
              "      <td>1</td>\n",
              "      <td>1</td>\n",
              "      <td>1</td>\n",
              "      <td>0</td>\n",
              "      <td>0</td>\n",
              "      <td>1</td>\n",
              "      <td>1</td>\n",
              "      <td>1</td>\n",
              "      <td>1</td>\n",
              "      <td>0</td>\n",
              "      <td>0</td>\n",
              "      <td>0</td>\n",
              "      <td>0</td>\n",
              "      <td>1</td>\n",
              "      <td>0</td>\n",
              "      <td>1</td>\n",
              "      <td>0</td>\n",
              "      <td>0</td>\n",
              "      <td>0</td>\n",
              "      <td>0</td>\n",
              "      <td>0</td>\n",
              "      <td>0</td>\n",
              "      <td>0</td>\n",
              "      <td>1</td>\n",
              "      <td>0</td>\n",
              "      <td>0</td>\n",
              "      <td>0</td>\n",
              "      <td>1</td>\n",
              "      <td>0</td>\n",
              "      <td>0</td>\n",
              "      <td>0</td>\n",
              "      <td>0</td>\n",
              "      <td>0</td>\n",
              "      <td>0</td>\n",
              "      <td>0</td>\n",
              "      <td>0</td>\n",
              "      <td>0</td>\n",
              "      <td>0</td>\n",
              "      <td>1</td>\n",
              "      <td>0</td>\n",
              "      <td>0</td>\n",
              "      <td>0</td>\n",
              "      <td>1</td>\n",
              "    </tr>\n",
              "  </tbody>\n",
              "</table>\n",
              "<p>792 rows × 53 columns</p>\n",
              "</div>"
            ],
            "text/plain": [
              "                 사용자        세션     신규방문자  ...  year_2018  year_2019  year_2020\n",
              "date                                      ...                                 \n",
              "2018-09-09  0.051689  0.049083  0.042604  ...          1          0          0\n",
              "2018-09-10  0.048551  0.045564  0.029586  ...          1          0          0\n",
              "2018-09-11  0.060550  0.057233  0.033728  ...          1          0          0\n",
              "2018-09-12  0.055197  0.052973  0.026036  ...          1          0          0\n",
              "2018-09-13  0.069596  0.063530  0.028994  ...          1          0          0\n",
              "...              ...       ...       ...  ...        ...        ...        ...\n",
              "2020-11-04  0.833487  0.828116  0.707101  ...          0          0          1\n",
              "2020-11-05  0.766845  0.747546  0.617160  ...          0          0          1\n",
              "2020-11-06  0.676020  0.662160  0.487574  ...          0          0          1\n",
              "2020-11-07  0.456157  0.447490  0.313609  ...          0          0          1\n",
              "2020-11-08  0.459849  0.448046  0.308284  ...          0          0          1\n",
              "\n",
              "[792 rows x 53 columns]"
            ]
          },
          "metadata": {
            "tags": []
          },
          "execution_count": 78
        }
      ]
    },
    {
      "cell_type": "code",
      "metadata": {
        "id": "c3B6jULuUW5Q",
        "colab": {
          "base_uri": "https://localhost:8080/"
        },
        "outputId": "40b06c61-5ddb-4a75-eeba-df4a5bb8b0f3"
      },
      "source": [
        "# scaling\r\n",
        "\r\n",
        "input_window = 61\r\n",
        "output_window = 61 # 7\r\n",
        "\r\n",
        "window_x = np.zeros((train.shape[0] - (input_window + output_window), input_window, 53))\r\n",
        "window_y = np.zeros((train.shape[0] - (input_window + output_window), output_window, 4))\r\n",
        "\r\n",
        "for start in range(train.shape[0] - (input_window + output_window)):\r\n",
        "    end = start + input_window    \r\n",
        "    window_x[start,:, :] = train.iloc[start : end                , : ].values\r\n",
        "    window_y[start,:, :] = train.iloc[end   : end + output_window, :4 ].values\r\n",
        "\r\n",
        "\r\n",
        "print('window_x.shape: ', window_x.shape)\r\n",
        "print('window_y.shape: ', window_y.shape)"
      ],
      "execution_count": 79,
      "outputs": [
        {
          "output_type": "stream",
          "text": [
            "window_x.shape:  (670, 61, 53)\n",
            "window_y.shape:  (670, 61, 4)\n"
          ],
          "name": "stdout"
        }
      ]
    },
    {
      "cell_type": "code",
      "metadata": {
        "id": "wy1pDYOzVKDD"
      },
      "source": [
        "# window_x"
      ],
      "execution_count": 80,
      "outputs": []
    },
    {
      "cell_type": "markdown",
      "metadata": {
        "id": "dHc8qQZCDedw"
      },
      "source": [
        "- 시계열 데이터 임베딩 찾아서 적용해보기\r\n",
        "- 스케일링 다르게 해보기\r\n",
        "- dropout 적용해보기"
      ]
    },
    {
      "cell_type": "code",
      "metadata": {
        "id": "RMVmMfUBILC-"
      },
      "source": [
        "import tensorflow as tf\r\n",
        "from tensorflow import keras\r\n",
        "from tensorflow.keras import layers, Sequential\r\n",
        "\r\n",
        "from tensorflow.keras.layers import Dense, Conv1D, LSTM, Input, TimeDistributed\r\n",
        "from tensorflow.keras.models import Model\r\n"
      ],
      "execution_count": 81,
      "outputs": []
    },
    {
      "cell_type": "markdown",
      "metadata": {
        "id": "LJZU8NwSoRz5"
      },
      "source": [
        "optimizer = Adam, loss = mse, activation_function = 따로지정x"
      ]
    },
    {
      "cell_type": "code",
      "metadata": {
        "id": "GKj7gc585ToK",
        "colab": {
          "base_uri": "https://localhost:8080/"
        },
        "outputId": "ea3a2369-34c1-4a58-b533-41f2202fd962"
      },
      "source": [
        "tf.random.set_seed(40)\r\n",
        "\r\n",
        "\r\n",
        "model = Sequential()\r\n",
        "model.add(LSTM(32, input_shape=(61, 53), return_sequences=True))  # (timestep, features)\r\n",
        "model.add(LSTM(32, return_sequences=True)) \r\n",
        "model.add(LSTM(32, return_sequences=True)) \r\n",
        "# model.add(LSTM(32, return_sequences=True)) \r\n",
        "#model.add(LSTM(32, return_sequences=True)) \r\n",
        "# model.add(LSTM(32, return_sequences=True)) \r\n",
        "model.add(TimeDistributed(Dense(4)))\r\n",
        "\r\n",
        "model.summary()\r\n",
        "\r\n",
        "opt = keras.optimizers.Adam(learning_rate=0.01)\r\n",
        "model.compile(loss='mean_squared_error', optimizer=opt)\r\n",
        "\r\n",
        "model.fit(window_x, window_y, epochs=100, batch_size=50)\r\n",
        "\r\n",
        "# lstm2층 - epochs100, batch_size=10"
      ],
      "execution_count": 82,
      "outputs": [
        {
          "output_type": "stream",
          "text": [
            "Model: \"sequential_2\"\n",
            "_________________________________________________________________\n",
            "Layer (type)                 Output Shape              Param #   \n",
            "=================================================================\n",
            "lstm_6 (LSTM)                (None, 61, 32)            11008     \n",
            "_________________________________________________________________\n",
            "lstm_7 (LSTM)                (None, 61, 32)            8320      \n",
            "_________________________________________________________________\n",
            "lstm_8 (LSTM)                (None, 61, 32)            8320      \n",
            "_________________________________________________________________\n",
            "time_distributed_2 (TimeDist (None, 61, 4)             132       \n",
            "=================================================================\n",
            "Total params: 27,780\n",
            "Trainable params: 27,780\n",
            "Non-trainable params: 0\n",
            "_________________________________________________________________\n",
            "Epoch 1/100\n",
            "14/14 [==============================] - 5s 69ms/step - loss: 0.0390\n",
            "Epoch 2/100\n",
            "14/14 [==============================] - 1s 74ms/step - loss: 0.0099\n",
            "Epoch 3/100\n",
            "14/14 [==============================] - 1s 73ms/step - loss: 0.0077\n",
            "Epoch 4/100\n",
            "14/14 [==============================] - 1s 73ms/step - loss: 0.0068\n",
            "Epoch 5/100\n",
            "14/14 [==============================] - 1s 74ms/step - loss: 0.0057\n",
            "Epoch 6/100\n",
            "14/14 [==============================] - 1s 72ms/step - loss: 0.0051\n",
            "Epoch 7/100\n",
            "14/14 [==============================] - 1s 73ms/step - loss: 0.0044\n",
            "Epoch 8/100\n",
            "14/14 [==============================] - 1s 73ms/step - loss: 0.0038\n",
            "Epoch 9/100\n",
            "14/14 [==============================] - 1s 73ms/step - loss: 0.0034\n",
            "Epoch 10/100\n",
            "14/14 [==============================] - 1s 76ms/step - loss: 0.0030\n",
            "Epoch 11/100\n",
            "14/14 [==============================] - 1s 76ms/step - loss: 0.0028\n",
            "Epoch 12/100\n",
            "14/14 [==============================] - 1s 76ms/step - loss: 0.0027\n",
            "Epoch 13/100\n",
            "14/14 [==============================] - 1s 75ms/step - loss: 0.0023\n",
            "Epoch 14/100\n",
            "14/14 [==============================] - 1s 76ms/step - loss: 0.0021\n",
            "Epoch 15/100\n",
            "14/14 [==============================] - 1s 76ms/step - loss: 0.0025\n",
            "Epoch 16/100\n",
            "14/14 [==============================] - 1s 76ms/step - loss: 0.0019\n",
            "Epoch 17/100\n",
            "14/14 [==============================] - 1s 78ms/step - loss: 0.0016\n",
            "Epoch 18/100\n",
            "14/14 [==============================] - 1s 77ms/step - loss: 0.0015\n",
            "Epoch 19/100\n",
            "14/14 [==============================] - 1s 75ms/step - loss: 0.0013\n",
            "Epoch 20/100\n",
            "14/14 [==============================] - 1s 76ms/step - loss: 0.0012\n",
            "Epoch 21/100\n",
            "14/14 [==============================] - 1s 76ms/step - loss: 0.0011\n",
            "Epoch 22/100\n",
            "14/14 [==============================] - 1s 76ms/step - loss: 0.0010\n",
            "Epoch 23/100\n",
            "14/14 [==============================] - 1s 75ms/step - loss: 9.4826e-04\n",
            "Epoch 24/100\n",
            "14/14 [==============================] - 1s 77ms/step - loss: 8.9610e-04\n",
            "Epoch 25/100\n",
            "14/14 [==============================] - 1s 78ms/step - loss: 8.0800e-04\n",
            "Epoch 26/100\n",
            "14/14 [==============================] - 1s 78ms/step - loss: 7.4962e-04\n",
            "Epoch 27/100\n",
            "14/14 [==============================] - 1s 78ms/step - loss: 6.9299e-04\n",
            "Epoch 28/100\n",
            "14/14 [==============================] - 1s 78ms/step - loss: 6.4545e-04\n",
            "Epoch 29/100\n",
            "14/14 [==============================] - 1s 77ms/step - loss: 5.9839e-04\n",
            "Epoch 30/100\n",
            "14/14 [==============================] - 1s 77ms/step - loss: 5.6595e-04\n",
            "Epoch 31/100\n",
            "14/14 [==============================] - 1s 74ms/step - loss: 5.5690e-04\n",
            "Epoch 32/100\n",
            "14/14 [==============================] - 1s 76ms/step - loss: 4.7244e-04\n",
            "Epoch 33/100\n",
            "14/14 [==============================] - 1s 76ms/step - loss: 4.5402e-04\n",
            "Epoch 34/100\n",
            "14/14 [==============================] - 1s 76ms/step - loss: 4.7382e-04\n",
            "Epoch 35/100\n",
            "14/14 [==============================] - 1s 75ms/step - loss: 4.8838e-04\n",
            "Epoch 36/100\n",
            "14/14 [==============================] - 1s 76ms/step - loss: 4.0733e-04\n",
            "Epoch 37/100\n",
            "14/14 [==============================] - 1s 78ms/step - loss: 4.4132e-04\n",
            "Epoch 38/100\n",
            "14/14 [==============================] - 1s 75ms/step - loss: 5.0144e-04\n",
            "Epoch 39/100\n",
            "14/14 [==============================] - 1s 76ms/step - loss: 5.0048e-04\n",
            "Epoch 40/100\n",
            "14/14 [==============================] - 1s 76ms/step - loss: 4.4785e-04\n",
            "Epoch 41/100\n",
            "14/14 [==============================] - 1s 75ms/step - loss: 4.5271e-04\n",
            "Epoch 42/100\n",
            "14/14 [==============================] - 1s 76ms/step - loss: 4.6028e-04\n",
            "Epoch 43/100\n",
            "14/14 [==============================] - 1s 75ms/step - loss: 3.5535e-04\n",
            "Epoch 44/100\n",
            "14/14 [==============================] - 1s 76ms/step - loss: 3.5384e-04\n",
            "Epoch 45/100\n",
            "14/14 [==============================] - 1s 77ms/step - loss: 3.4692e-04\n",
            "Epoch 46/100\n",
            "14/14 [==============================] - 1s 76ms/step - loss: 3.0174e-04\n",
            "Epoch 47/100\n",
            "14/14 [==============================] - 1s 75ms/step - loss: 2.8276e-04\n",
            "Epoch 48/100\n",
            "14/14 [==============================] - 1s 75ms/step - loss: 2.7002e-04\n",
            "Epoch 49/100\n",
            "14/14 [==============================] - 1s 75ms/step - loss: 2.4918e-04\n",
            "Epoch 50/100\n",
            "14/14 [==============================] - 1s 76ms/step - loss: 2.4456e-04\n",
            "Epoch 51/100\n",
            "14/14 [==============================] - 1s 76ms/step - loss: 2.2379e-04\n",
            "Epoch 52/100\n",
            "14/14 [==============================] - 1s 75ms/step - loss: 2.1677e-04\n",
            "Epoch 53/100\n",
            "14/14 [==============================] - 1s 76ms/step - loss: 2.2560e-04\n",
            "Epoch 54/100\n",
            "14/14 [==============================] - 1s 75ms/step - loss: 2.2028e-04\n",
            "Epoch 55/100\n",
            "14/14 [==============================] - 1s 76ms/step - loss: 2.0945e-04\n",
            "Epoch 56/100\n",
            "14/14 [==============================] - 1s 78ms/step - loss: 2.0159e-04\n",
            "Epoch 57/100\n",
            "14/14 [==============================] - 1s 75ms/step - loss: 1.8564e-04\n",
            "Epoch 58/100\n",
            "14/14 [==============================] - 1s 75ms/step - loss: 1.8401e-04\n",
            "Epoch 59/100\n",
            "14/14 [==============================] - 1s 76ms/step - loss: 1.8000e-04\n",
            "Epoch 60/100\n",
            "14/14 [==============================] - 1s 75ms/step - loss: 1.7667e-04\n",
            "Epoch 61/100\n",
            "14/14 [==============================] - 1s 75ms/step - loss: 1.7519e-04\n",
            "Epoch 62/100\n",
            "14/14 [==============================] - 1s 76ms/step - loss: 1.7045e-04\n",
            "Epoch 63/100\n",
            "14/14 [==============================] - 1s 75ms/step - loss: 1.8831e-04\n",
            "Epoch 64/100\n",
            "14/14 [==============================] - 1s 75ms/step - loss: 1.7594e-04\n",
            "Epoch 65/100\n",
            "14/14 [==============================] - 1s 75ms/step - loss: 1.7168e-04\n",
            "Epoch 66/100\n",
            "14/14 [==============================] - 1s 77ms/step - loss: 1.6822e-04\n",
            "Epoch 67/100\n",
            "14/14 [==============================] - 1s 76ms/step - loss: 1.9728e-04\n",
            "Epoch 68/100\n",
            "14/14 [==============================] - 1s 76ms/step - loss: 1.9731e-04\n",
            "Epoch 69/100\n",
            "14/14 [==============================] - 1s 75ms/step - loss: 1.8031e-04\n",
            "Epoch 70/100\n",
            "14/14 [==============================] - 1s 76ms/step - loss: 1.6153e-04\n",
            "Epoch 71/100\n",
            "14/14 [==============================] - 1s 76ms/step - loss: 1.5559e-04\n",
            "Epoch 72/100\n",
            "14/14 [==============================] - 1s 76ms/step - loss: 1.5043e-04\n",
            "Epoch 73/100\n",
            "14/14 [==============================] - 1s 74ms/step - loss: 1.3720e-04\n",
            "Epoch 74/100\n",
            "14/14 [==============================] - 1s 77ms/step - loss: 1.2468e-04\n",
            "Epoch 75/100\n",
            "14/14 [==============================] - 1s 77ms/step - loss: 1.4531e-04\n",
            "Epoch 76/100\n",
            "14/14 [==============================] - 1s 77ms/step - loss: 1.8530e-04\n",
            "Epoch 77/100\n",
            "14/14 [==============================] - 1s 77ms/step - loss: 1.9158e-04\n",
            "Epoch 78/100\n",
            "14/14 [==============================] - 1s 75ms/step - loss: 2.0174e-04\n",
            "Epoch 79/100\n",
            "14/14 [==============================] - 1s 76ms/step - loss: 1.5176e-04\n",
            "Epoch 80/100\n",
            "14/14 [==============================] - 1s 76ms/step - loss: 1.2089e-04\n",
            "Epoch 81/100\n",
            "14/14 [==============================] - 1s 75ms/step - loss: 1.1299e-04\n",
            "Epoch 82/100\n",
            "14/14 [==============================] - 1s 74ms/step - loss: 1.0554e-04\n",
            "Epoch 83/100\n",
            "14/14 [==============================] - 1s 76ms/step - loss: 1.0380e-04\n",
            "Epoch 84/100\n",
            "14/14 [==============================] - 1s 75ms/step - loss: 1.0104e-04\n",
            "Epoch 85/100\n",
            "14/14 [==============================] - 1s 76ms/step - loss: 9.9299e-05\n",
            "Epoch 86/100\n",
            "14/14 [==============================] - 1s 77ms/step - loss: 1.0178e-04\n",
            "Epoch 87/100\n",
            "14/14 [==============================] - 1s 78ms/step - loss: 9.7813e-05\n",
            "Epoch 88/100\n",
            "14/14 [==============================] - 1s 76ms/step - loss: 1.0474e-04\n",
            "Epoch 89/100\n",
            "14/14 [==============================] - 1s 76ms/step - loss: 9.5127e-05\n",
            "Epoch 90/100\n",
            "14/14 [==============================] - 1s 76ms/step - loss: 9.2967e-05\n",
            "Epoch 91/100\n",
            "14/14 [==============================] - 1s 75ms/step - loss: 1.2812e-04\n",
            "Epoch 92/100\n",
            "14/14 [==============================] - 1s 77ms/step - loss: 1.0691e-04\n",
            "Epoch 93/100\n",
            "14/14 [==============================] - 1s 75ms/step - loss: 1.3402e-04\n",
            "Epoch 94/100\n",
            "14/14 [==============================] - 1s 77ms/step - loss: 1.2875e-04\n",
            "Epoch 95/100\n",
            "14/14 [==============================] - 1s 76ms/step - loss: 1.1075e-04\n",
            "Epoch 96/100\n",
            "14/14 [==============================] - 1s 76ms/step - loss: 1.0369e-04\n",
            "Epoch 97/100\n",
            "14/14 [==============================] - 1s 76ms/step - loss: 1.2652e-04\n",
            "Epoch 98/100\n",
            "14/14 [==============================] - 1s 75ms/step - loss: 1.1180e-04\n",
            "Epoch 99/100\n",
            "14/14 [==============================] - 1s 77ms/step - loss: 9.1746e-05\n",
            "Epoch 100/100\n",
            "14/14 [==============================] - 1s 76ms/step - loss: 8.9101e-05\n"
          ],
          "name": "stdout"
        },
        {
          "output_type": "execute_result",
          "data": {
            "text/plain": [
              "<tensorflow.python.keras.callbacks.History at 0x7fddfddfd5c0>"
            ]
          },
          "metadata": {
            "tags": []
          },
          "execution_count": 82
        }
      ]
    },
    {
      "cell_type": "markdown",
      "metadata": {
        "id": "dbInac4YQ8pV"
      },
      "source": [
        "## test : last_df"
      ]
    },
    {
      "cell_type": "code",
      "metadata": {
        "colab": {
          "base_uri": "https://localhost:8080/"
        },
        "id": "hL8wR22W18Co",
        "outputId": "75dcdd6c-d269-4cfc-9423-1d36482244bd"
      },
      "source": [
        "# train은 이미 위에서 minmax scaler적용되어있음.\r\n",
        "\r\n",
        "last_df = train.iloc[-61:,:].values[np.newaxis,...] # np.newaxis: 3D로 차원을 늘려줌. \r\n",
        "last_df.shape"
      ],
      "execution_count": 83,
      "outputs": [
        {
          "output_type": "execute_result",
          "data": {
            "text/plain": [
              "(1, 61, 53)"
            ]
          },
          "metadata": {
            "tags": []
          },
          "execution_count": 83
        }
      ]
    },
    {
      "cell_type": "code",
      "metadata": {
        "colab": {
          "base_uri": "https://localhost:8080/"
        },
        "id": "qaMBTNjj2JW9",
        "outputId": "9c4d7e00-f1d3-4fc4-f3ac-50e7801dffd0"
      },
      "source": [
        "pred_last = model.predict(last_df)\r\n",
        "pred_last[:5]"
      ],
      "execution_count": 84,
      "outputs": [
        {
          "output_type": "execute_result",
          "data": {
            "text/plain": [
              "array([[[0.6323428 , 0.63931376, 0.53155184, 0.6080047 ],\n",
              "        [0.83255684, 0.85960394, 0.7967903 , 0.8164205 ],\n",
              "        [0.5689576 , 0.56305397, 0.43490487, 0.47540036],\n",
              "        [0.7076392 , 0.7024362 , 0.61545503, 0.6304507 ],\n",
              "        [0.525041  , 0.506715  , 0.40688133, 0.41966543],\n",
              "        [0.42346606, 0.4060568 , 0.32886475, 0.35305324],\n",
              "        [0.3953928 , 0.38615674, 0.27615464, 0.33941633],\n",
              "        [0.8102319 , 0.82174015, 0.72139496, 0.70533794],\n",
              "        [0.7071923 , 0.71508795, 0.5524558 , 0.5835332 ],\n",
              "        [0.7255676 , 0.7280625 , 0.5719272 , 0.5832016 ],\n",
              "        [0.6305423 , 0.6274621 , 0.4668787 , 0.47574663],\n",
              "        [0.5774025 , 0.57361126, 0.4054559 , 0.42986223],\n",
              "        [0.42295906, 0.42890185, 0.29047704, 0.30205595],\n",
              "        [0.40939632, 0.42180195, 0.2957052 , 0.29221526],\n",
              "        [0.55798686, 0.57124543, 0.40289372, 0.43440917],\n",
              "        [0.7042693 , 0.7237374 , 0.6165282 , 0.58384   ],\n",
              "        [0.602489  , 0.6184504 , 0.449481  , 0.5072169 ],\n",
              "        [0.65874434, 0.6723104 , 0.52160084, 0.5526348 ],\n",
              "        [0.55570877, 0.5675735 , 0.42335057, 0.43112865],\n",
              "        [0.51931226, 0.51842064, 0.32963768, 0.4501038 ],\n",
              "        [0.48937443, 0.48603678, 0.29008347, 0.3796344 ],\n",
              "        [0.536345  , 0.5348607 , 0.30671072, 0.39618072],\n",
              "        [0.4876548 , 0.48930645, 0.2890478 , 0.3405086 ],\n",
              "        [0.576416  , 0.5838859 , 0.41067207, 0.42569146],\n",
              "        [0.5382161 , 0.5536078 , 0.35861456, 0.41457564],\n",
              "        [0.51607275, 0.53156704, 0.3601321 , 0.38587138],\n",
              "        [0.39374065, 0.41851678, 0.28781074, 0.26852018],\n",
              "        [0.37488928, 0.402469  , 0.270409  , 0.27060816],\n",
              "        [0.4289954 , 0.4524386 , 0.27835208, 0.31078407],\n",
              "        [0.4474103 , 0.4703522 , 0.3141783 , 0.3271125 ],\n",
              "        [0.48158488, 0.5000319 , 0.33873004, 0.39178512],\n",
              "        [0.49667466, 0.51269835, 0.36481643, 0.40681008],\n",
              "        [0.60807276, 0.61120206, 0.48631883, 0.60398865],\n",
              "        [0.32035488, 0.3400008 , 0.29542798, 0.27963337],\n",
              "        [0.318007  , 0.32836038, 0.26139748, 0.2941391 ],\n",
              "        [0.508782  , 0.5097008 , 0.4067825 , 0.5108801 ],\n",
              "        [0.45716706, 0.4551434 , 0.35063338, 0.49917856],\n",
              "        [0.43410262, 0.43629515, 0.35513693, 0.43740797],\n",
              "        [0.59866893, 0.6008504 , 0.46318805, 0.6099356 ],\n",
              "        [0.64735353, 0.6496361 , 0.5097934 , 0.6804765 ],\n",
              "        [0.395857  , 0.3977802 , 0.3155241 , 0.3361635 ],\n",
              "        [0.33955184, 0.34216088, 0.26703435, 0.28291366],\n",
              "        [0.5721121 , 0.5702959 , 0.43845874, 0.5415847 ],\n",
              "        [0.5207963 , 0.52040833, 0.410558  , 0.47609824],\n",
              "        [0.3780991 , 0.38028505, 0.2748614 , 0.32120362],\n",
              "        [0.46141148, 0.46080866, 0.35878468, 0.37358263],\n",
              "        [0.52282274, 0.5152034 , 0.39201427, 0.49897376],\n",
              "        [0.28637066, 0.28224823, 0.19930531, 0.24560201],\n",
              "        [0.25583377, 0.25234383, 0.16354086, 0.24368751],\n",
              "        [0.41699347, 0.41164485, 0.32990444, 0.39956173],\n",
              "        [0.315069  , 0.31454077, 0.26549792, 0.2799027 ],\n",
              "        [0.30638784, 0.31043214, 0.2777496 , 0.26891786],\n",
              "        [0.37853813, 0.38595515, 0.3736015 , 0.33939302],\n",
              "        [0.39287013, 0.40929934, 0.35479963, 0.39867386],\n",
              "        [0.32954025, 0.35356113, 0.25753346, 0.33953506],\n",
              "        [0.36753196, 0.39503542, 0.24621268, 0.38501507],\n",
              "        [0.59011054, 0.61487854, 0.39092135, 0.65769136],\n",
              "        [0.65437555, 0.67559797, 0.41520762, 0.6894905 ],\n",
              "        [0.67481184, 0.69452727, 0.435885  , 0.62825245],\n",
              "        [0.644953  , 0.6681815 , 0.41220403, 0.52164036],\n",
              "        [0.62856627, 0.6457906 , 0.36215377, 0.5173694 ]]], dtype=float32)"
            ]
          },
          "metadata": {
            "tags": []
          },
          "execution_count": 84
        }
      ]
    },
    {
      "cell_type": "code",
      "metadata": {
        "colab": {
          "base_uri": "https://localhost:8080/"
        },
        "id": "HoED9_139dCn",
        "outputId": "8844ea03-2400-4127-fbb0-19a96bbd7a0d"
      },
      "source": [
        "pred_last = pred_last.reshape(output_window,4)\r\n",
        "pred_last = pred_last * size[:4].values + mini[:4].values\r\n",
        "pred_last = pred_last.astype(int)\r\n",
        "pred_last\r\n"
      ],
      "execution_count": 85,
      "outputs": [
        {
          "output_type": "execute_result",
          "data": {
            "text/plain": [
              "array([[  3426,   3452,    899,  94505],\n",
              "       [  4510,   4642,   1347, 126900],\n",
              "       [  3083,   3040,    735,  73894],\n",
              "       [  3834,   3793,   1041,  97994],\n",
              "       [  2845,   2736,    688,  65231],\n",
              "       [  2294,   2193,    556,  54878],\n",
              "       [  2142,   2085,    467,  52758],\n",
              "       [  4390,   4437,   1220, 109634],\n",
              "       [  3831,   3861,    934,  90702],\n",
              "       [  3931,   3931,    967,  90650],\n",
              "       [  3416,   3388,    790,  73948],\n",
              "       [  3128,   3097,    686,  66816],\n",
              "       [  2292,   2316,    491,  46951],\n",
              "       [  2218,   2278,    500,  45421],\n",
              "       [  3023,   3085,    681,  67523],\n",
              "       [  3816,   3908,   1042,  90750],\n",
              "       [  3264,   3340,    760,  78840],\n",
              "       [  3569,   3630,    882,  85899],\n",
              "       [  3011,   3065,    716,  67013],\n",
              "       [  2814,   2799,    558,  69962],\n",
              "       [  2651,   2625,    491,  59009],\n",
              "       [  2906,   2888,    519,  61581],\n",
              "       [  2642,   2642,    489,  52928],\n",
              "       [  3123,   3153,    695,  66168],\n",
              "       [  2916,   2989,    607,  64440],\n",
              "       [  2796,   2870,    609,  59979],\n",
              "       [  2133,   2260,    487,  41738],\n",
              "       [  2031,   2173,    457,  42063],\n",
              "       [  2324,   2443,    471,  48308],\n",
              "       [  2424,   2540,    531,  50846],\n",
              "       [  2609,   2700,    573,  60898],\n",
              "       [  2691,   2769,    617,  63233],\n",
              "       [  3294,   3300,    822,  93881],\n",
              "       [  1736,   1836,    500,  43466],\n",
              "       [  1723,   1773,    442,  45720],\n",
              "       [  2757,   2752,    688,  79409],\n",
              "       [  2477,   2458,    593,  77590],\n",
              "       [  2352,   2356,    601,  67989],\n",
              "       [  3243,   3244,    783,  94806],\n",
              "       [  3507,   3508,    862, 105770],\n",
              "       [  2145,   2148,    534,  52252],\n",
              "       [  1840,   1848,    452,  43976],\n",
              "       [  3100,   3080,    741,  84182],\n",
              "       [  2822,   2810,    694,  74003],\n",
              "       [  2049,   2054,    465,  49927],\n",
              "       [  2500,   2488,    607,  58069],\n",
              "       [  2833,   2782,    663,  77558],\n",
              "       [  1552,   1524,    337,  38176],\n",
              "       [  1386,   1363,    277,  37879],\n",
              "       [  2259,   2223,    558,  62107],\n",
              "       [  1707,   1699,    449,  43508],\n",
              "       [  1660,   1677,    470,  41800],\n",
              "       [  2051,   2084,    632,  52754],\n",
              "       [  2129,   2210,    600,  61969],\n",
              "       [  1786,   1909,    436,  52776],\n",
              "       [  1991,   2133,    417,  59846],\n",
              "       [  3197,   3320,    661, 102228],\n",
              "       [  3545,   3648,    702, 107171],\n",
              "       [  3656,   3750,    737,  97653],\n",
              "       [  3494,   3608,    697,  81082],\n",
              "       [  3405,   3487,    613,  80418]])"
            ]
          },
          "metadata": {
            "tags": []
          },
          "execution_count": 85
        }
      ]
    },
    {
      "cell_type": "code",
      "metadata": {
        "colab": {
          "base_uri": "https://localhost:8080/"
        },
        "id": "FY7lgRivG5-L",
        "outputId": "7b5f107c-908d-4e0d-bfb8-973aa739aa5a"
      },
      "source": [
        "pred_last.shape"
      ],
      "execution_count": 86,
      "outputs": [
        {
          "output_type": "execute_result",
          "data": {
            "text/plain": [
              "(61, 4)"
            ]
          },
          "metadata": {
            "tags": []
          },
          "execution_count": 86
        }
      ]
    },
    {
      "cell_type": "markdown",
      "metadata": {
        "id": "hkxkXBgBJ4tg"
      },
      "source": [
        "## submit"
      ]
    },
    {
      "cell_type": "code",
      "metadata": {
        "colab": {
          "base_uri": "https://localhost:8080/"
        },
        "id": "444WoejNJ4t9",
        "outputId": "997f20e5-341c-44e7-cdaa-ebe549390f13"
      },
      "source": [
        "submission =  pd.read_csv(path + '/open_data/submission.csv', encoding = 'euc-kr')\r\n",
        "submission.shape"
      ],
      "execution_count": 87,
      "outputs": [
        {
          "output_type": "execute_result",
          "data": {
            "text/plain": [
              "(61, 5)"
            ]
          },
          "metadata": {
            "tags": []
          },
          "execution_count": 87
        }
      ]
    },
    {
      "cell_type": "code",
      "metadata": {
        "colab": {
          "base_uri": "https://localhost:8080/"
        },
        "id": "HAtpKeL1J4t-",
        "outputId": "3b34fed3-3ab9-4b77-a24f-86aa51a48d9f"
      },
      "source": [
        "pred_last.shape"
      ],
      "execution_count": 88,
      "outputs": [
        {
          "output_type": "execute_result",
          "data": {
            "text/plain": [
              "(61, 4)"
            ]
          },
          "metadata": {
            "tags": []
          },
          "execution_count": 88
        }
      ]
    },
    {
      "cell_type": "code",
      "metadata": {
        "colab": {
          "base_uri": "https://localhost:8080/",
          "height": 197
        },
        "id": "3VUwY_duJ4uA",
        "outputId": "2845c16b-660f-42fc-f37f-b5c0e44b7341"
      },
      "source": [
        "pred_df = pd.DataFrame(pred_last)\r\n",
        "pred_df.head()"
      ],
      "execution_count": 89,
      "outputs": [
        {
          "output_type": "execute_result",
          "data": {
            "text/html": [
              "<div>\n",
              "<style scoped>\n",
              "    .dataframe tbody tr th:only-of-type {\n",
              "        vertical-align: middle;\n",
              "    }\n",
              "\n",
              "    .dataframe tbody tr th {\n",
              "        vertical-align: top;\n",
              "    }\n",
              "\n",
              "    .dataframe thead th {\n",
              "        text-align: right;\n",
              "    }\n",
              "</style>\n",
              "<table border=\"1\" class=\"dataframe\">\n",
              "  <thead>\n",
              "    <tr style=\"text-align: right;\">\n",
              "      <th></th>\n",
              "      <th>0</th>\n",
              "      <th>1</th>\n",
              "      <th>2</th>\n",
              "      <th>3</th>\n",
              "    </tr>\n",
              "  </thead>\n",
              "  <tbody>\n",
              "    <tr>\n",
              "      <th>0</th>\n",
              "      <td>3426</td>\n",
              "      <td>3452</td>\n",
              "      <td>899</td>\n",
              "      <td>94505</td>\n",
              "    </tr>\n",
              "    <tr>\n",
              "      <th>1</th>\n",
              "      <td>4510</td>\n",
              "      <td>4642</td>\n",
              "      <td>1347</td>\n",
              "      <td>126900</td>\n",
              "    </tr>\n",
              "    <tr>\n",
              "      <th>2</th>\n",
              "      <td>3083</td>\n",
              "      <td>3040</td>\n",
              "      <td>735</td>\n",
              "      <td>73894</td>\n",
              "    </tr>\n",
              "    <tr>\n",
              "      <th>3</th>\n",
              "      <td>3834</td>\n",
              "      <td>3793</td>\n",
              "      <td>1041</td>\n",
              "      <td>97994</td>\n",
              "    </tr>\n",
              "    <tr>\n",
              "      <th>4</th>\n",
              "      <td>2845</td>\n",
              "      <td>2736</td>\n",
              "      <td>688</td>\n",
              "      <td>65231</td>\n",
              "    </tr>\n",
              "  </tbody>\n",
              "</table>\n",
              "</div>"
            ],
            "text/plain": [
              "      0     1     2       3\n",
              "0  3426  3452   899   94505\n",
              "1  4510  4642  1347  126900\n",
              "2  3083  3040   735   73894\n",
              "3  3834  3793  1041   97994\n",
              "4  2845  2736   688   65231"
            ]
          },
          "metadata": {
            "tags": []
          },
          "execution_count": 89
        }
      ]
    },
    {
      "cell_type": "code",
      "metadata": {
        "colab": {
          "base_uri": "https://localhost:8080/"
        },
        "id": "LFdMfTtYJ4uA",
        "outputId": "6edbe171-9615-49e2-977d-feeffeaa0a32"
      },
      "source": [
        "# 30까지 모두 채우면 다시 0부터.\r\n",
        "\r\n",
        "for i in range(len(submission)):\r\n",
        "  submission['사용자'][i] = pred_df[0][i]\r\n",
        "  submission['세션'][i] = pred_df[1][i]\r\n",
        "  submission['신규방문자'][i] = pred_df[2][i]\r\n",
        "  submission['페이지뷰'][i] = pred_df[3][i]\r\n"
      ],
      "execution_count": 90,
      "outputs": [
        {
          "output_type": "stream",
          "text": [
            "/usr/local/lib/python3.6/dist-packages/ipykernel_launcher.py:4: SettingWithCopyWarning: \n",
            "A value is trying to be set on a copy of a slice from a DataFrame\n",
            "\n",
            "See the caveats in the documentation: https://pandas.pydata.org/pandas-docs/stable/user_guide/indexing.html#returning-a-view-versus-a-copy\n",
            "  after removing the cwd from sys.path.\n",
            "/usr/local/lib/python3.6/dist-packages/ipykernel_launcher.py:5: SettingWithCopyWarning: \n",
            "A value is trying to be set on a copy of a slice from a DataFrame\n",
            "\n",
            "See the caveats in the documentation: https://pandas.pydata.org/pandas-docs/stable/user_guide/indexing.html#returning-a-view-versus-a-copy\n",
            "  \"\"\"\n",
            "/usr/local/lib/python3.6/dist-packages/ipykernel_launcher.py:6: SettingWithCopyWarning: \n",
            "A value is trying to be set on a copy of a slice from a DataFrame\n",
            "\n",
            "See the caveats in the documentation: https://pandas.pydata.org/pandas-docs/stable/user_guide/indexing.html#returning-a-view-versus-a-copy\n",
            "  \n",
            "/usr/local/lib/python3.6/dist-packages/ipykernel_launcher.py:7: SettingWithCopyWarning: \n",
            "A value is trying to be set on a copy of a slice from a DataFrame\n",
            "\n",
            "See the caveats in the documentation: https://pandas.pydata.org/pandas-docs/stable/user_guide/indexing.html#returning-a-view-versus-a-copy\n",
            "  import sys\n"
          ],
          "name": "stderr"
        }
      ]
    },
    {
      "cell_type": "code",
      "metadata": {
        "colab": {
          "base_uri": "https://localhost:8080/",
          "height": 197
        },
        "id": "yYcUBxPKJ4uD",
        "outputId": "54d33f49-8798-4f85-d813-6b9dc2dec012"
      },
      "source": [
        "submission.head()"
      ],
      "execution_count": 91,
      "outputs": [
        {
          "output_type": "execute_result",
          "data": {
            "text/html": [
              "<div>\n",
              "<style scoped>\n",
              "    .dataframe tbody tr th:only-of-type {\n",
              "        vertical-align: middle;\n",
              "    }\n",
              "\n",
              "    .dataframe tbody tr th {\n",
              "        vertical-align: top;\n",
              "    }\n",
              "\n",
              "    .dataframe thead th {\n",
              "        text-align: right;\n",
              "    }\n",
              "</style>\n",
              "<table border=\"1\" class=\"dataframe\">\n",
              "  <thead>\n",
              "    <tr style=\"text-align: right;\">\n",
              "      <th></th>\n",
              "      <th>DateTime</th>\n",
              "      <th>사용자</th>\n",
              "      <th>세션</th>\n",
              "      <th>신규방문자</th>\n",
              "      <th>페이지뷰</th>\n",
              "    </tr>\n",
              "  </thead>\n",
              "  <tbody>\n",
              "    <tr>\n",
              "      <th>0</th>\n",
              "      <td>2020-11-09</td>\n",
              "      <td>3426</td>\n",
              "      <td>3452</td>\n",
              "      <td>899</td>\n",
              "      <td>94505</td>\n",
              "    </tr>\n",
              "    <tr>\n",
              "      <th>1</th>\n",
              "      <td>2020-11-10</td>\n",
              "      <td>4510</td>\n",
              "      <td>4642</td>\n",
              "      <td>1347</td>\n",
              "      <td>126900</td>\n",
              "    </tr>\n",
              "    <tr>\n",
              "      <th>2</th>\n",
              "      <td>2020-11-11</td>\n",
              "      <td>3083</td>\n",
              "      <td>3040</td>\n",
              "      <td>735</td>\n",
              "      <td>73894</td>\n",
              "    </tr>\n",
              "    <tr>\n",
              "      <th>3</th>\n",
              "      <td>2020-11-12</td>\n",
              "      <td>3834</td>\n",
              "      <td>3793</td>\n",
              "      <td>1041</td>\n",
              "      <td>97994</td>\n",
              "    </tr>\n",
              "    <tr>\n",
              "      <th>4</th>\n",
              "      <td>2020-11-13</td>\n",
              "      <td>2845</td>\n",
              "      <td>2736</td>\n",
              "      <td>688</td>\n",
              "      <td>65231</td>\n",
              "    </tr>\n",
              "  </tbody>\n",
              "</table>\n",
              "</div>"
            ],
            "text/plain": [
              "     DateTime   사용자    세션  신규방문자    페이지뷰\n",
              "0  2020-11-09  3426  3452    899   94505\n",
              "1  2020-11-10  4510  4642   1347  126900\n",
              "2  2020-11-11  3083  3040    735   73894\n",
              "3  2020-11-12  3834  3793   1041   97994\n",
              "4  2020-11-13  2845  2736    688   65231"
            ]
          },
          "metadata": {
            "tags": []
          },
          "execution_count": 91
        }
      ]
    },
    {
      "cell_type": "code",
      "metadata": {
        "id": "UeUT41zKMnRF"
      },
      "source": [
        "submission.to_csv('seed40_add 날짜feature.csv', index = False, encoding = 'euc-kr')"
      ],
      "execution_count": 92,
      "outputs": []
    },
    {
      "cell_type": "markdown",
      "metadata": {
        "id": "G0ARyON_J5BK"
      },
      "source": [
        "#### 결과 제일 좋았던, 나빴던 파일이랑 predict를 비교"
      ]
    },
    {
      "cell_type": "code",
      "metadata": {
        "colab": {
          "base_uri": "https://localhost:8080/",
          "height": 367
        },
        "id": "kSyu8nZ2J85o",
        "outputId": "986a7e98-343c-4d51-aa8f-6a35eb72bfd0"
      },
      "source": [
        "best = pd.read_csv('61 lstm3.csv', encoding = 'euc-kr')\r\n",
        "best.set_index('DateTime', inplace = True)\r\n",
        "best.index = pd.to_datetime(best.index)\r\n",
        "best.head()"
      ],
      "execution_count": 93,
      "outputs": [
        {
          "output_type": "error",
          "ename": "FileNotFoundError",
          "evalue": "ignored",
          "traceback": [
            "\u001b[0;31m---------------------------------------------------------------------------\u001b[0m",
            "\u001b[0;31mFileNotFoundError\u001b[0m                         Traceback (most recent call last)",
            "\u001b[0;32m<ipython-input-93-479330d0ce3f>\u001b[0m in \u001b[0;36m<module>\u001b[0;34m()\u001b[0m\n\u001b[0;32m----> 1\u001b[0;31m \u001b[0mbest\u001b[0m \u001b[0;34m=\u001b[0m \u001b[0mpd\u001b[0m\u001b[0;34m.\u001b[0m\u001b[0mread_csv\u001b[0m\u001b[0;34m(\u001b[0m\u001b[0;34m'61 lstm3.csv'\u001b[0m\u001b[0;34m,\u001b[0m \u001b[0mencoding\u001b[0m \u001b[0;34m=\u001b[0m \u001b[0;34m'euc-kr'\u001b[0m\u001b[0;34m)\u001b[0m\u001b[0;34m\u001b[0m\u001b[0;34m\u001b[0m\u001b[0m\n\u001b[0m\u001b[1;32m      2\u001b[0m \u001b[0mbest\u001b[0m\u001b[0;34m.\u001b[0m\u001b[0mset_index\u001b[0m\u001b[0;34m(\u001b[0m\u001b[0;34m'DateTime'\u001b[0m\u001b[0;34m,\u001b[0m \u001b[0minplace\u001b[0m \u001b[0;34m=\u001b[0m \u001b[0;32mTrue\u001b[0m\u001b[0;34m)\u001b[0m\u001b[0;34m\u001b[0m\u001b[0;34m\u001b[0m\u001b[0m\n\u001b[1;32m      3\u001b[0m \u001b[0mbest\u001b[0m\u001b[0;34m.\u001b[0m\u001b[0mindex\u001b[0m \u001b[0;34m=\u001b[0m \u001b[0mpd\u001b[0m\u001b[0;34m.\u001b[0m\u001b[0mto_datetime\u001b[0m\u001b[0;34m(\u001b[0m\u001b[0mbest\u001b[0m\u001b[0;34m.\u001b[0m\u001b[0mindex\u001b[0m\u001b[0;34m)\u001b[0m\u001b[0;34m\u001b[0m\u001b[0;34m\u001b[0m\u001b[0m\n\u001b[1;32m      4\u001b[0m \u001b[0mbest\u001b[0m\u001b[0;34m.\u001b[0m\u001b[0mhead\u001b[0m\u001b[0;34m(\u001b[0m\u001b[0;34m)\u001b[0m\u001b[0;34m\u001b[0m\u001b[0;34m\u001b[0m\u001b[0m\n",
            "\u001b[0;32m/usr/local/lib/python3.6/dist-packages/pandas/io/parsers.py\u001b[0m in \u001b[0;36mread_csv\u001b[0;34m(filepath_or_buffer, sep, delimiter, header, names, index_col, usecols, squeeze, prefix, mangle_dupe_cols, dtype, engine, converters, true_values, false_values, skipinitialspace, skiprows, skipfooter, nrows, na_values, keep_default_na, na_filter, verbose, skip_blank_lines, parse_dates, infer_datetime_format, keep_date_col, date_parser, dayfirst, cache_dates, iterator, chunksize, compression, thousands, decimal, lineterminator, quotechar, quoting, doublequote, escapechar, comment, encoding, dialect, error_bad_lines, warn_bad_lines, delim_whitespace, low_memory, memory_map, float_precision)\u001b[0m\n\u001b[1;32m    686\u001b[0m     )\n\u001b[1;32m    687\u001b[0m \u001b[0;34m\u001b[0m\u001b[0m\n\u001b[0;32m--> 688\u001b[0;31m     \u001b[0;32mreturn\u001b[0m \u001b[0m_read\u001b[0m\u001b[0;34m(\u001b[0m\u001b[0mfilepath_or_buffer\u001b[0m\u001b[0;34m,\u001b[0m \u001b[0mkwds\u001b[0m\u001b[0;34m)\u001b[0m\u001b[0;34m\u001b[0m\u001b[0;34m\u001b[0m\u001b[0m\n\u001b[0m\u001b[1;32m    689\u001b[0m \u001b[0;34m\u001b[0m\u001b[0m\n\u001b[1;32m    690\u001b[0m \u001b[0;34m\u001b[0m\u001b[0m\n",
            "\u001b[0;32m/usr/local/lib/python3.6/dist-packages/pandas/io/parsers.py\u001b[0m in \u001b[0;36m_read\u001b[0;34m(filepath_or_buffer, kwds)\u001b[0m\n\u001b[1;32m    452\u001b[0m \u001b[0;34m\u001b[0m\u001b[0m\n\u001b[1;32m    453\u001b[0m     \u001b[0;31m# Create the parser.\u001b[0m\u001b[0;34m\u001b[0m\u001b[0;34m\u001b[0m\u001b[0;34m\u001b[0m\u001b[0m\n\u001b[0;32m--> 454\u001b[0;31m     \u001b[0mparser\u001b[0m \u001b[0;34m=\u001b[0m \u001b[0mTextFileReader\u001b[0m\u001b[0;34m(\u001b[0m\u001b[0mfp_or_buf\u001b[0m\u001b[0;34m,\u001b[0m \u001b[0;34m**\u001b[0m\u001b[0mkwds\u001b[0m\u001b[0;34m)\u001b[0m\u001b[0;34m\u001b[0m\u001b[0;34m\u001b[0m\u001b[0m\n\u001b[0m\u001b[1;32m    455\u001b[0m \u001b[0;34m\u001b[0m\u001b[0m\n\u001b[1;32m    456\u001b[0m     \u001b[0;32mif\u001b[0m \u001b[0mchunksize\u001b[0m \u001b[0;32mor\u001b[0m \u001b[0miterator\u001b[0m\u001b[0;34m:\u001b[0m\u001b[0;34m\u001b[0m\u001b[0;34m\u001b[0m\u001b[0m\n",
            "\u001b[0;32m/usr/local/lib/python3.6/dist-packages/pandas/io/parsers.py\u001b[0m in \u001b[0;36m__init__\u001b[0;34m(self, f, engine, **kwds)\u001b[0m\n\u001b[1;32m    946\u001b[0m             \u001b[0mself\u001b[0m\u001b[0;34m.\u001b[0m\u001b[0moptions\u001b[0m\u001b[0;34m[\u001b[0m\u001b[0;34m\"has_index_names\"\u001b[0m\u001b[0;34m]\u001b[0m \u001b[0;34m=\u001b[0m \u001b[0mkwds\u001b[0m\u001b[0;34m[\u001b[0m\u001b[0;34m\"has_index_names\"\u001b[0m\u001b[0;34m]\u001b[0m\u001b[0;34m\u001b[0m\u001b[0;34m\u001b[0m\u001b[0m\n\u001b[1;32m    947\u001b[0m \u001b[0;34m\u001b[0m\u001b[0m\n\u001b[0;32m--> 948\u001b[0;31m         \u001b[0mself\u001b[0m\u001b[0;34m.\u001b[0m\u001b[0m_make_engine\u001b[0m\u001b[0;34m(\u001b[0m\u001b[0mself\u001b[0m\u001b[0;34m.\u001b[0m\u001b[0mengine\u001b[0m\u001b[0;34m)\u001b[0m\u001b[0;34m\u001b[0m\u001b[0;34m\u001b[0m\u001b[0m\n\u001b[0m\u001b[1;32m    949\u001b[0m \u001b[0;34m\u001b[0m\u001b[0m\n\u001b[1;32m    950\u001b[0m     \u001b[0;32mdef\u001b[0m \u001b[0mclose\u001b[0m\u001b[0;34m(\u001b[0m\u001b[0mself\u001b[0m\u001b[0;34m)\u001b[0m\u001b[0;34m:\u001b[0m\u001b[0;34m\u001b[0m\u001b[0;34m\u001b[0m\u001b[0m\n",
            "\u001b[0;32m/usr/local/lib/python3.6/dist-packages/pandas/io/parsers.py\u001b[0m in \u001b[0;36m_make_engine\u001b[0;34m(self, engine)\u001b[0m\n\u001b[1;32m   1178\u001b[0m     \u001b[0;32mdef\u001b[0m \u001b[0m_make_engine\u001b[0m\u001b[0;34m(\u001b[0m\u001b[0mself\u001b[0m\u001b[0;34m,\u001b[0m \u001b[0mengine\u001b[0m\u001b[0;34m=\u001b[0m\u001b[0;34m\"c\"\u001b[0m\u001b[0;34m)\u001b[0m\u001b[0;34m:\u001b[0m\u001b[0;34m\u001b[0m\u001b[0;34m\u001b[0m\u001b[0m\n\u001b[1;32m   1179\u001b[0m         \u001b[0;32mif\u001b[0m \u001b[0mengine\u001b[0m \u001b[0;34m==\u001b[0m \u001b[0;34m\"c\"\u001b[0m\u001b[0;34m:\u001b[0m\u001b[0;34m\u001b[0m\u001b[0;34m\u001b[0m\u001b[0m\n\u001b[0;32m-> 1180\u001b[0;31m             \u001b[0mself\u001b[0m\u001b[0;34m.\u001b[0m\u001b[0m_engine\u001b[0m \u001b[0;34m=\u001b[0m \u001b[0mCParserWrapper\u001b[0m\u001b[0;34m(\u001b[0m\u001b[0mself\u001b[0m\u001b[0;34m.\u001b[0m\u001b[0mf\u001b[0m\u001b[0;34m,\u001b[0m \u001b[0;34m**\u001b[0m\u001b[0mself\u001b[0m\u001b[0;34m.\u001b[0m\u001b[0moptions\u001b[0m\u001b[0;34m)\u001b[0m\u001b[0;34m\u001b[0m\u001b[0;34m\u001b[0m\u001b[0m\n\u001b[0m\u001b[1;32m   1181\u001b[0m         \u001b[0;32melse\u001b[0m\u001b[0;34m:\u001b[0m\u001b[0;34m\u001b[0m\u001b[0;34m\u001b[0m\u001b[0m\n\u001b[1;32m   1182\u001b[0m             \u001b[0;32mif\u001b[0m \u001b[0mengine\u001b[0m \u001b[0;34m==\u001b[0m \u001b[0;34m\"python\"\u001b[0m\u001b[0;34m:\u001b[0m\u001b[0;34m\u001b[0m\u001b[0;34m\u001b[0m\u001b[0m\n",
            "\u001b[0;32m/usr/local/lib/python3.6/dist-packages/pandas/io/parsers.py\u001b[0m in \u001b[0;36m__init__\u001b[0;34m(self, src, **kwds)\u001b[0m\n\u001b[1;32m   1991\u001b[0m         \u001b[0;32mif\u001b[0m \u001b[0mkwds\u001b[0m\u001b[0;34m.\u001b[0m\u001b[0mget\u001b[0m\u001b[0;34m(\u001b[0m\u001b[0;34m\"compression\"\u001b[0m\u001b[0;34m)\u001b[0m \u001b[0;32mis\u001b[0m \u001b[0;32mNone\u001b[0m \u001b[0;32mand\u001b[0m \u001b[0mencoding\u001b[0m\u001b[0;34m:\u001b[0m\u001b[0;34m\u001b[0m\u001b[0;34m\u001b[0m\u001b[0m\n\u001b[1;32m   1992\u001b[0m             \u001b[0;32mif\u001b[0m \u001b[0misinstance\u001b[0m\u001b[0;34m(\u001b[0m\u001b[0msrc\u001b[0m\u001b[0;34m,\u001b[0m \u001b[0mstr\u001b[0m\u001b[0;34m)\u001b[0m\u001b[0;34m:\u001b[0m\u001b[0;34m\u001b[0m\u001b[0;34m\u001b[0m\u001b[0m\n\u001b[0;32m-> 1993\u001b[0;31m                 \u001b[0msrc\u001b[0m \u001b[0;34m=\u001b[0m \u001b[0mopen\u001b[0m\u001b[0;34m(\u001b[0m\u001b[0msrc\u001b[0m\u001b[0;34m,\u001b[0m \u001b[0;34m\"rb\"\u001b[0m\u001b[0;34m)\u001b[0m\u001b[0;34m\u001b[0m\u001b[0;34m\u001b[0m\u001b[0m\n\u001b[0m\u001b[1;32m   1994\u001b[0m                 \u001b[0mself\u001b[0m\u001b[0;34m.\u001b[0m\u001b[0mhandles\u001b[0m\u001b[0;34m.\u001b[0m\u001b[0mappend\u001b[0m\u001b[0;34m(\u001b[0m\u001b[0msrc\u001b[0m\u001b[0;34m)\u001b[0m\u001b[0;34m\u001b[0m\u001b[0;34m\u001b[0m\u001b[0m\n\u001b[1;32m   1995\u001b[0m \u001b[0;34m\u001b[0m\u001b[0m\n",
            "\u001b[0;31mFileNotFoundError\u001b[0m: [Errno 2] No such file or directory: '61 lstm3.csv'"
          ]
        }
      ]
    },
    {
      "cell_type": "code",
      "metadata": {
        "id": "sCT4at_iSIP5"
      },
      "source": [
        "worst = pd.read_csv('feature 추가 인코딩x.csv', encoding = 'euc-kr')\r\n",
        "worst.set_index('DateTime', inplace = True)\r\n",
        "worst.index = pd.to_datetime(best.index)\r\n",
        "#worst.head()"
      ],
      "execution_count": null,
      "outputs": []
    },
    {
      "cell_type": "code",
      "metadata": {
        "id": "6EvX_gyeMV9R"
      },
      "source": [
        "submission.set_index('DateTime', inplace = True)\r\n",
        "submission.index = pd.to_datetime(submission.index)\r\n",
        "# submission.head()"
      ],
      "execution_count": null,
      "outputs": []
    },
    {
      "cell_type": "code",
      "metadata": {
        "id": "qgpdgvAzKK9R"
      },
      "source": [
        "# plot expected vs preducted\r\n",
        "\r\n",
        "\r\n",
        "plt.figure(figsize = (15,7))\r\n",
        "pyplot.plot(best['사용자'], label='best')\r\n",
        "pyplot.plot(submission['사용자'], label='Predicted')\r\n",
        "# pyplot.plot(worst['사용자'], label = 'worst')\r\n",
        "pyplot.legend()\r\n",
        "pyplot.show()"
      ],
      "execution_count": null,
      "outputs": []
    },
    {
      "cell_type": "code",
      "metadata": {
        "id": "VBs3Ig9sLHcw"
      },
      "source": [
        "\r\n",
        "plt.figure(figsize = (15,7))\r\n",
        "pyplot.plot(best['세션'], label='best')\r\n",
        "pyplot.plot(submission['세션'], label='Predicted')\r\n",
        "pyplot.plot(worst['세션'], label = 'worst')\r\n",
        "pyplot.legend()\r\n",
        "pyplot.show()"
      ],
      "execution_count": null,
      "outputs": []
    },
    {
      "cell_type": "code",
      "metadata": {
        "id": "GBhRD3aLLPV4"
      },
      "source": [
        "\r\n",
        "plt.figure(figsize = (15,7))\r\n",
        "pyplot.plot(best['신규방문자'], label='best')\r\n",
        "pyplot.plot(submission['신규방문자'], label='Predicted')\r\n",
        "pyplot.plot(worst['신규방문자'], label = 'worst')\r\n",
        "pyplot.legend()\r\n",
        "pyplot.show()"
      ],
      "execution_count": null,
      "outputs": []
    },
    {
      "cell_type": "code",
      "metadata": {
        "id": "NV6qNNQoLPZT"
      },
      "source": [
        "\r\n",
        "plt.figure(figsize = (15,7))\r\n",
        "pyplot.plot(best['페이지뷰'], label='best')\r\n",
        "pyplot.plot(submission['페이지뷰'], label='Predicted')\r\n",
        "pyplot.plot(worst['페이지뷰'], label = 'worst')\r\n",
        "pyplot.legend()\r\n",
        "pyplot.show()"
      ],
      "execution_count": null,
      "outputs": []
    },
    {
      "cell_type": "markdown",
      "metadata": {
        "id": "XLF-l5iKM46Q"
      },
      "source": [
        "- 위에 잘 예측하지 못하는 부분들은 조금 튀는 값인 것 같음\r\n",
        "- 해당 일자에 어떤 특징(개최된 대회 등)을 파악\r\n",
        "- 이후 1) 제거 또는 2) 특징 적용  (추세파악과 관련없다면 제거하기)"
      ]
    },
    {
      "cell_type": "markdown",
      "metadata": {
        "id": "SmtQVQJANMUu"
      },
      "source": [
        "## 참조"
      ]
    },
    {
      "cell_type": "code",
      "metadata": {
        "id": "V4016MLpNRw7"
      },
      "source": [
        "# 각 변수의 크기가 다르기 때문에 가중치를 부여한 RMSE로 모델의 성능을 평가\r\n",
        "\r\n",
        "def dacon_rmse(true, pred):\r\n",
        "    # true.shape // (N,4)\r\n",
        "    # pred.shape // (N,4)\r\n",
        "    # w0, w1, w2, w3 <= train.csv의 사용자 수, 세션 수, 신규 방문자 수, 페이지 뷰 수 4가지 항목별 평균값\r\n",
        "    score = np.sqrt(np.mean(np.square(true[:,0] - pred[:,0]))) / w0 +\\\r\n",
        "            + np.sqrt(np.mean(np.square(true[:,1] - pred[:,1]))) / w1 +\\\r\n",
        "            + np.sqrt(np.mean(np.square(true[:,2] - pred[:,2]))) / w2 +\\\r\n",
        "            + np.sqrt(np.mean(np.square(true[:,3] - pred[:,3]))) / w3 +\\\r\n",
        "     return score"
      ],
      "execution_count": null,
      "outputs": []
    },
    {
      "cell_type": "code",
      "metadata": {
        "id": "gU4pGj8uJ4uD"
      },
      "source": [
        "# 스케일링\r\n",
        "from sklearn.preprocessing import MinMaxScaler\r\n",
        "\r\n",
        "sc = MinMaxScaler()\r\n",
        "\r\n",
        "train_sc = sc.fit_transform(train)\r\n",
        "test_sc = sc.transform(test)\r\n",
        "\r\n",
        "train_sc"
      ],
      "execution_count": null,
      "outputs": []
    },
    {
      "cell_type": "code",
      "metadata": {
        "id": "Hl9q9I2KJ4uD"
      },
      "source": [
        "# date 기준 변수 만들기\r\n",
        "\r\n",
        "from datetime import datetime\r\n",
        "\r\n",
        "def create_features(df):\r\n",
        "    \"\"\"\r\n",
        "    Creates time series features from datetime index\r\n",
        "    \"\"\"\r\n",
        "    # df['DateTime'] = df.index\r\n",
        "    # df['hour'] = df['date'].dt.hour\r\n",
        "    df['dayofweek'] = pd.to_datetime(df['date']).dt.dayofweek\r\n",
        "    df['quarter'] = pd.to_datetime(df['date']).dt.quarter\r\n",
        "    df['month'] = pd.to_datetime(df['date']).dt.month\r\n",
        "    df['year'] = pd.to_datetime(df['date']).dt.year\r\n",
        "    df['dayofyear'] = pd.to_datetime(df['date']).dt.dayofyear\r\n",
        "    df['dayofmonth'] = pd.to_datetime(df['date']).dt.day\r\n",
        "    df['weekofyear'] = pd.to_datetime(df['date']).dt.weekofyear\r\n",
        "    \r\n",
        "    X = df[['사용자','세션','신규방문자','페이지뷰','date','dayofweek','quarter','month','year',\r\n",
        "           'dayofyear','dayofmonth','weekofyear']]\r\n",
        "    X.set_index('date', inplace = True)\r\n",
        "    X.index = pd.to_datetime(X.index)\r\n",
        "    return X"
      ],
      "execution_count": null,
      "outputs": []
    },
    {
      "cell_type": "code",
      "metadata": {
        "id": "J5Kvtw5oJ4uE"
      },
      "source": [
        ""
      ],
      "execution_count": null,
      "outputs": []
    },
    {
      "cell_type": "code",
      "metadata": {
        "id": "JbEwC3YfJ4uG"
      },
      "source": [
        ""
      ],
      "execution_count": null,
      "outputs": []
    },
    {
      "cell_type": "markdown",
      "metadata": {
        "id": "Li0vASmhIIhr"
      },
      "source": [
        "## 예측값을 x로 다시 predict  \r\n",
        "- 마이너스 값이 나와서 실패.."
      ]
    },
    {
      "cell_type": "code",
      "metadata": {
        "id": "5mcOvvQQH4t2"
      },
      "source": [
        "tr_month1 = pd.DataFrame(pred_month)"
      ],
      "execution_count": null,
      "outputs": []
    },
    {
      "cell_type": "code",
      "metadata": {
        "id": "adnkLDwMBGVC"
      },
      "source": [
        "# 위 예측값을 x로 사용하기.\r\n",
        "mini1 = tr_month1.iloc[:,1:].min()\r\n",
        "size1 = tr_month1.iloc[:,1:].max() - tr_month1.iloc[:,1:].min()\r\n",
        "tr_month1.iloc[:,1:] = (tr_month1.iloc[:,1:] -  mini1) / size1\r\n",
        "\r\n",
        "tr_month1 = tr_month1.iloc[:,:].values[np.newaxis,...] # np.newaxis: 3D로 차원을 늘려줌. \r\n",
        "tr_month1.shape"
      ],
      "execution_count": null,
      "outputs": []
    },
    {
      "cell_type": "code",
      "metadata": {
        "id": "ExeU6niB_gVU"
      },
      "source": [
        "pred_month1 = model.predict(tr_month1)\r\n",
        "pred_month1[:5]"
      ],
      "execution_count": null,
      "outputs": []
    },
    {
      "cell_type": "code",
      "metadata": {
        "id": "bD7YTlqWHHKq"
      },
      "source": [
        "pred_month1 = pred_month1.reshape(output_window,4)\r\n",
        "pred_month1 = pred_month1 * size.values + mini.values\r\n",
        "pred_month1 = pred_month1.astype(int)\r\n",
        "pred_month1\r\n"
      ],
      "execution_count": null,
      "outputs": []
    },
    {
      "cell_type": "markdown",
      "metadata": {
        "id": "bCmWKSqRGBGV"
      },
      "source": [
        "#### 윈도우 크기 다르게 해서 train하고 test해보기"
      ]
    },
    {
      "cell_type": "markdown",
      "metadata": {
        "id": "uyOo9JpX8t7D"
      },
      "source": [
        "aa"
      ]
    },
    {
      "cell_type": "markdown",
      "metadata": {
        "id": "HbonwFz84uV5"
      },
      "source": [
        "## test = train[-61]"
      ]
    },
    {
      "cell_type": "code",
      "metadata": {
        "id": "KE4rgNXRQWAO"
      },
      "source": [
        "test = train[-61:]\r\n",
        "test"
      ],
      "execution_count": null,
      "outputs": []
    },
    {
      "cell_type": "code",
      "metadata": {
        "id": "nkRbon7yRGz_"
      },
      "source": [
        "# scaling\r\n",
        "\r\n",
        "input_window = 30\r\n",
        "output_window = 30\r\n",
        "\r\n",
        "test_x = np.zeros((test.shape[0] - (input_window + output_window), input_window, 4))\r\n",
        "test_y = np.zeros((test.shape[0] - (input_window + output_window), output_window, 4))\r\n",
        "\r\n",
        "for start in range(test.shape[0] - (input_window + output_window)):\r\n",
        "    end = start + input_window    \r\n",
        "    test_x[start,:, :] = test.iloc[start : end                , 1: ].values\r\n",
        "    test_y[start,:, :] = test.iloc[end   : end + output_window, 1: ].values\r\n",
        "\r\n",
        "\r\n",
        "print('test_x.shape: ', test_x.shape)\r\n",
        "print('test_y.shape: ', test_y.shape)"
      ],
      "execution_count": null,
      "outputs": []
    },
    {
      "cell_type": "code",
      "metadata": {
        "id": "lhmMXuK0AYVn"
      },
      "source": [
        "pred = model.predict(test_x)\r\n",
        "pred[:5]"
      ],
      "execution_count": null,
      "outputs": []
    },
    {
      "cell_type": "code",
      "metadata": {
        "id": "GbKK46ZASpkS"
      },
      "source": [
        "pred = pred.reshape(output_window,4)\r\n",
        "pred = pred * size.values + mini.values\r\n",
        "pred = pred.astype(int)\r\n",
        "pred"
      ],
      "execution_count": null,
      "outputs": []
    },
    {
      "cell_type": "code",
      "metadata": {
        "id": "Q4E0hcLCFDwi"
      },
      "source": [
        "pred.shape"
      ],
      "execution_count": null,
      "outputs": []
    },
    {
      "cell_type": "code",
      "metadata": {
        "id": "VzeIVzfY6B1o"
      },
      "source": [
        "baseline = pd.read_csv(path + '/open_data/baseline.csv', encoding = 'euc-kr' )\r\n",
        "baseline.head()"
      ],
      "execution_count": null,
      "outputs": []
    },
    {
      "cell_type": "code",
      "metadata": {
        "id": "ofVAKwIvT8pC"
      },
      "source": [
        "last_month = train.iloc[-30:,1:].values[np.newaxis,...].astype(float) #float() # <- 수정 후\r\n",
        "last_month"
      ],
      "execution_count": null,
      "outputs": []
    },
    {
      "cell_type": "code",
      "metadata": {
        "id": "k7ITx1KxSdyg"
      },
      "source": [
        "\r\n",
        "#last_month = torch.tensor(window_x[-1,:,:][np.newaxis,...]).float().to(device) <- 수정 전\r\n",
        "last_month = train.iloc[-30:,1:].values[np.newaxis,...] # <- 수정 후\r\n",
        "# last_month = torch.tensor(last_month).float() # <- 수정 후\r\n",
        "\r\n",
        "for start in range((len(submission) - output_window)//7 + 2):\r\n",
        "    start = start * 7\r\n",
        "    next_week = model.predict(last_month)\r\n",
        "    #last_month = torch.cat([last_month[-7:], next_week], axis = 1) <- 수정 전\r\n",
        "    last_month = torch.cat([last_month[:,7:,:], next_week], axis = 1)# <- 수정 후\r\n",
        "\r\n",
        "    pred_week = next_week.reshape(output_window,4)\r\n",
        "    pred_week = pred_week * size.values + mini.values\r\n",
        "    pred_week = pred_week.astype(int)\r\n",
        "    \r\n",
        "    if start/7 == (len(submission) - output_window)//7 + 1:\r\n",
        "        submission.iloc[start :, 1:] = pred_week[-submission.iloc[start :, 1:].shape[0]:,:]\r\n",
        "    else:\r\n",
        "        submission.iloc[start : start + output_window, 1:] = pred_week\r\n",
        "submission"
      ],
      "execution_count": null,
      "outputs": []
    },
    {
      "cell_type": "code",
      "metadata": {
        "id": "REbMo_D3UfPJ"
      },
      "source": [
        ""
      ],
      "execution_count": null,
      "outputs": []
    }
  ]
}