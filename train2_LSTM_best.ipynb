{
  "nbformat": 4,
  "nbformat_minor": 0,
  "metadata": {
    "colab": {
      "name": "train2 LSTM_best.ipynb",
      "provenance": [],
      "collapsed_sections": []
    },
    "kernelspec": {
      "name": "python3",
      "display_name": "Python 3"
    }
  },
  "cells": [
    {
      "cell_type": "markdown",
      "metadata": {
        "id": "JO8_9CiK8znD"
      },
      "source": [
        "##### train2 LSTM_best.ipynb\r\n",
        "- layer3 b50 -> 2차_공휴일 feature.csv -> 01.18스태킹.csv\r\n",
        "\r\n",
        "- LSTM_best+holidy모델(최고성능)그대로 사용하고, train2만 추가.\r\n",
        "\r\n",
        "- train2_LSTM_best+holiday.ipynb 파일 수정해서 사용\r\n",
        "\r\n",
        "\r\n",
        "\r\n"
      ]
    },
    {
      "cell_type": "code",
      "metadata": {
        "colab": {
          "base_uri": "https://localhost:8080/"
        },
        "id": "MEAXOVLFqTeD",
        "outputId": "bd366c07-bfa2-4c8c-f7e0-efe2c0a9ccdc"
      },
      "source": [
        "from google.colab import drive\n",
        "drive.mount('/content/drive')"
      ],
      "execution_count": null,
      "outputs": [
        {
          "output_type": "stream",
          "text": [
            "Drive already mounted at /content/drive; to attempt to forcibly remount, call drive.mount(\"/content/drive\", force_remount=True).\n"
          ],
          "name": "stdout"
        }
      ]
    },
    {
      "cell_type": "code",
      "metadata": {
        "id": "WHrGQAT_3z6X"
      },
      "source": [
        "import numpy as np\r\n",
        "import pandas as pd\r\n",
        "\r\n",
        "from datetime import datetime\r\n",
        "from datetime import date, timedelta\r\n",
        "from sklearn.model_selection import train_test_split\r\n",
        "\r\n",
        "from matplotlib import pyplot\r\n",
        "import matplotlib.pyplot as plt"
      ],
      "execution_count": null,
      "outputs": []
    },
    {
      "cell_type": "markdown",
      "metadata": {
        "id": "-OIOaFMW_55S"
      },
      "source": [
        "#### train"
      ]
    },
    {
      "cell_type": "code",
      "metadata": {
        "id": "fH1TWRdi4eLu",
        "colab": {
          "base_uri": "https://localhost:8080/",
          "height": 202
        },
        "outputId": "254a20bd-488a-49fb-d8f7-93910d2e271c"
      },
      "source": [
        "path = '/content/drive/MyDrive/Colab Notebooks/DACON CUP'\r\n",
        "\r\n",
        "\r\n",
        "# 1차:  2018년 9월 9일 ~ 2020년 11월 8일\r\n",
        "\r\n",
        "train1 = pd.read_csv(path + '/open_data/train.csv', encoding = 'euc-kr')\r\n",
        "train1.head()"
      ],
      "execution_count": null,
      "outputs": [
        {
          "output_type": "execute_result",
          "data": {
            "text/html": [
              "<div>\n",
              "<style scoped>\n",
              "    .dataframe tbody tr th:only-of-type {\n",
              "        vertical-align: middle;\n",
              "    }\n",
              "\n",
              "    .dataframe tbody tr th {\n",
              "        vertical-align: top;\n",
              "    }\n",
              "\n",
              "    .dataframe thead th {\n",
              "        text-align: right;\n",
              "    }\n",
              "</style>\n",
              "<table border=\"1\" class=\"dataframe\">\n",
              "  <thead>\n",
              "    <tr style=\"text-align: right;\">\n",
              "      <th></th>\n",
              "      <th>DateTime</th>\n",
              "      <th>사용자</th>\n",
              "      <th>세션</th>\n",
              "      <th>신규방문자</th>\n",
              "      <th>페이지뷰</th>\n",
              "    </tr>\n",
              "  </thead>\n",
              "  <tbody>\n",
              "    <tr>\n",
              "      <th>0</th>\n",
              "      <td>2018-09-09 00:00:00</td>\n",
              "      <td>19</td>\n",
              "      <td>19</td>\n",
              "      <td>8</td>\n",
              "      <td>206</td>\n",
              "    </tr>\n",
              "    <tr>\n",
              "      <th>1</th>\n",
              "      <td>2018-09-09 01:00:00</td>\n",
              "      <td>20</td>\n",
              "      <td>19</td>\n",
              "      <td>9</td>\n",
              "      <td>259</td>\n",
              "    </tr>\n",
              "    <tr>\n",
              "      <th>2</th>\n",
              "      <td>2018-09-09 02:00:00</td>\n",
              "      <td>12</td>\n",
              "      <td>9</td>\n",
              "      <td>1</td>\n",
              "      <td>48</td>\n",
              "    </tr>\n",
              "    <tr>\n",
              "      <th>3</th>\n",
              "      <td>2018-09-09 03:00:00</td>\n",
              "      <td>10</td>\n",
              "      <td>10</td>\n",
              "      <td>2</td>\n",
              "      <td>102</td>\n",
              "    </tr>\n",
              "    <tr>\n",
              "      <th>4</th>\n",
              "      <td>2018-09-09 04:00:00</td>\n",
              "      <td>6</td>\n",
              "      <td>5</td>\n",
              "      <td>3</td>\n",
              "      <td>18</td>\n",
              "    </tr>\n",
              "  </tbody>\n",
              "</table>\n",
              "</div>"
            ],
            "text/plain": [
              "              DateTime  사용자  세션  신규방문자  페이지뷰\n",
              "0  2018-09-09 00:00:00   19  19      8   206\n",
              "1  2018-09-09 01:00:00   20  19      9   259\n",
              "2  2018-09-09 02:00:00   12   9      1    48\n",
              "3  2018-09-09 03:00:00   10  10      2   102\n",
              "4  2018-09-09 04:00:00    6   5      3    18"
            ]
          },
          "metadata": {
            "tags": []
          },
          "execution_count": 194
        }
      ]
    },
    {
      "cell_type": "code",
      "metadata": {
        "id": "YsCktWIeAIWq",
        "colab": {
          "base_uri": "https://localhost:8080/"
        },
        "outputId": "a6eb08af-d330-4fcd-9657-1f52d0e4f4b0"
      },
      "source": [
        "train1.info()"
      ],
      "execution_count": null,
      "outputs": [
        {
          "output_type": "stream",
          "text": [
            "<class 'pandas.core.frame.DataFrame'>\n",
            "RangeIndex: 19008 entries, 0 to 19007\n",
            "Data columns (total 5 columns):\n",
            " #   Column    Non-Null Count  Dtype \n",
            "---  ------    --------------  ----- \n",
            " 0   DateTime  19008 non-null  object\n",
            " 1   사용자       19008 non-null  int64 \n",
            " 2   세션        19008 non-null  int64 \n",
            " 3   신규방문자     19008 non-null  int64 \n",
            " 4   페이지뷰      19008 non-null  int64 \n",
            "dtypes: int64(4), object(1)\n",
            "memory usage: 742.6+ KB\n"
          ],
          "name": "stdout"
        }
      ]
    },
    {
      "cell_type": "code",
      "metadata": {
        "colab": {
          "base_uri": "https://localhost:8080/",
          "height": 202
        },
        "id": "FYoMls7F5ssA",
        "outputId": "13c0c2d6-37dd-457d-9b16-8df04f2b6deb"
      },
      "source": [
        "# 2차데이터 20년 11월 9일 ~ 12월 8일\r\n",
        "#720행\r\n",
        "\r\n",
        "train2 = pd.read_csv(path + '/open_data/2차_open_data/2차_train.csv', encoding='euc-kr')\r\n",
        "train2.head()\r\n"
      ],
      "execution_count": null,
      "outputs": [
        {
          "output_type": "execute_result",
          "data": {
            "text/html": [
              "<div>\n",
              "<style scoped>\n",
              "    .dataframe tbody tr th:only-of-type {\n",
              "        vertical-align: middle;\n",
              "    }\n",
              "\n",
              "    .dataframe tbody tr th {\n",
              "        vertical-align: top;\n",
              "    }\n",
              "\n",
              "    .dataframe thead th {\n",
              "        text-align: right;\n",
              "    }\n",
              "</style>\n",
              "<table border=\"1\" class=\"dataframe\">\n",
              "  <thead>\n",
              "    <tr style=\"text-align: right;\">\n",
              "      <th></th>\n",
              "      <th>DateTime</th>\n",
              "      <th>사용자</th>\n",
              "      <th>세션</th>\n",
              "      <th>신규방문자</th>\n",
              "      <th>페이지뷰</th>\n",
              "    </tr>\n",
              "  </thead>\n",
              "  <tbody>\n",
              "    <tr>\n",
              "      <th>0</th>\n",
              "      <td>2020-11-09 00:00:00</td>\n",
              "      <td>134</td>\n",
              "      <td>147</td>\n",
              "      <td>33</td>\n",
              "      <td>4082</td>\n",
              "    </tr>\n",
              "    <tr>\n",
              "      <th>1</th>\n",
              "      <td>2020-11-09 01:00:00</td>\n",
              "      <td>88</td>\n",
              "      <td>77</td>\n",
              "      <td>22</td>\n",
              "      <td>2444</td>\n",
              "    </tr>\n",
              "    <tr>\n",
              "      <th>2</th>\n",
              "      <td>2020-11-09 02:00:00</td>\n",
              "      <td>54</td>\n",
              "      <td>48</td>\n",
              "      <td>12</td>\n",
              "      <td>1148</td>\n",
              "    </tr>\n",
              "    <tr>\n",
              "      <th>3</th>\n",
              "      <td>2020-11-09 03:00:00</td>\n",
              "      <td>35</td>\n",
              "      <td>31</td>\n",
              "      <td>3</td>\n",
              "      <td>557</td>\n",
              "    </tr>\n",
              "    <tr>\n",
              "      <th>4</th>\n",
              "      <td>2020-11-09 04:00:00</td>\n",
              "      <td>31</td>\n",
              "      <td>34</td>\n",
              "      <td>7</td>\n",
              "      <td>711</td>\n",
              "    </tr>\n",
              "  </tbody>\n",
              "</table>\n",
              "</div>"
            ],
            "text/plain": [
              "              DateTime  사용자   세션  신규방문자  페이지뷰\n",
              "0  2020-11-09 00:00:00  134  147     33  4082\n",
              "1  2020-11-09 01:00:00   88   77     22  2444\n",
              "2  2020-11-09 02:00:00   54   48     12  1148\n",
              "3  2020-11-09 03:00:00   35   31      3   557\n",
              "4  2020-11-09 04:00:00   31   34      7   711"
            ]
          },
          "metadata": {
            "tags": []
          },
          "execution_count": 196
        }
      ]
    },
    {
      "cell_type": "code",
      "metadata": {
        "colab": {
          "base_uri": "https://localhost:8080/"
        },
        "id": "jhrKhrfB6UQ-",
        "outputId": "441278fe-aeee-41bb-e325-5deac3dbae85"
      },
      "source": [
        "train_df = pd.concat([train1, train2])\r\n",
        "train_df.shape"
      ],
      "execution_count": null,
      "outputs": [
        {
          "output_type": "execute_result",
          "data": {
            "text/plain": [
              "(19728, 5)"
            ]
          },
          "metadata": {
            "tags": []
          },
          "execution_count": 197
        }
      ]
    },
    {
      "cell_type": "code",
      "metadata": {
        "id": "eOujb_mO_676",
        "colab": {
          "base_uri": "https://localhost:8080/",
          "height": 202
        },
        "outputId": "a8ae5c04-b59a-408d-989c-300a5630a817"
      },
      "source": [
        "# date 기준으로.\r\n",
        "\r\n",
        "train_df['DateTime'] = pd.to_datetime(train_df.DateTime) #dtype: datetime으로 변경\r\n",
        "train_df['date'] = train_df.DateTime.dt.date\r\n",
        "train_df  = train_df.groupby('date').sum().reset_index()\r\n",
        "train_df.head()"
      ],
      "execution_count": null,
      "outputs": [
        {
          "output_type": "execute_result",
          "data": {
            "text/html": [
              "<div>\n",
              "<style scoped>\n",
              "    .dataframe tbody tr th:only-of-type {\n",
              "        vertical-align: middle;\n",
              "    }\n",
              "\n",
              "    .dataframe tbody tr th {\n",
              "        vertical-align: top;\n",
              "    }\n",
              "\n",
              "    .dataframe thead th {\n",
              "        text-align: right;\n",
              "    }\n",
              "</style>\n",
              "<table border=\"1\" class=\"dataframe\">\n",
              "  <thead>\n",
              "    <tr style=\"text-align: right;\">\n",
              "      <th></th>\n",
              "      <th>date</th>\n",
              "      <th>사용자</th>\n",
              "      <th>세션</th>\n",
              "      <th>신규방문자</th>\n",
              "      <th>페이지뷰</th>\n",
              "    </tr>\n",
              "  </thead>\n",
              "  <tbody>\n",
              "    <tr>\n",
              "      <th>0</th>\n",
              "      <td>2018-09-09</td>\n",
              "      <td>281</td>\n",
              "      <td>266</td>\n",
              "      <td>73</td>\n",
              "      <td>1826</td>\n",
              "    </tr>\n",
              "    <tr>\n",
              "      <th>1</th>\n",
              "      <td>2018-09-10</td>\n",
              "      <td>264</td>\n",
              "      <td>247</td>\n",
              "      <td>51</td>\n",
              "      <td>2092</td>\n",
              "    </tr>\n",
              "    <tr>\n",
              "      <th>2</th>\n",
              "      <td>2018-09-11</td>\n",
              "      <td>329</td>\n",
              "      <td>310</td>\n",
              "      <td>58</td>\n",
              "      <td>1998</td>\n",
              "    </tr>\n",
              "    <tr>\n",
              "      <th>3</th>\n",
              "      <td>2018-09-12</td>\n",
              "      <td>300</td>\n",
              "      <td>287</td>\n",
              "      <td>45</td>\n",
              "      <td>2595</td>\n",
              "    </tr>\n",
              "    <tr>\n",
              "      <th>4</th>\n",
              "      <td>2018-09-13</td>\n",
              "      <td>378</td>\n",
              "      <td>344</td>\n",
              "      <td>50</td>\n",
              "      <td>3845</td>\n",
              "    </tr>\n",
              "  </tbody>\n",
              "</table>\n",
              "</div>"
            ],
            "text/plain": [
              "         date  사용자   세션  신규방문자  페이지뷰\n",
              "0  2018-09-09  281  266     73  1826\n",
              "1  2018-09-10  264  247     51  2092\n",
              "2  2018-09-11  329  310     58  1998\n",
              "3  2018-09-12  300  287     45  2595\n",
              "4  2018-09-13  378  344     50  3845"
            ]
          },
          "metadata": {
            "tags": []
          },
          "execution_count": 198
        }
      ]
    },
    {
      "cell_type": "code",
      "metadata": {
        "id": "CM7Hluyg9nrO"
      },
      "source": [
        "# date 기준 변수 만들기\r\n",
        "\r\n",
        "\r\n",
        "\r\n",
        "def create_features(df):\r\n",
        "    \"\"\"\r\n",
        "    Creates time series features from datetime index\r\n",
        "    \"\"\"\r\n",
        "    # df['DateTime'] = df.index\r\n",
        "    # df['hour'] = df['date'].dt.hour\r\n",
        "    df['dayofweek'] = pd.to_datetime(df['date']).dt.dayofweek #요일\r\n",
        "    df['quarter'] = pd.to_datetime(df['date']).dt.quarter \r\n",
        "    df['month'] = pd.to_datetime(df['date']).dt.month\r\n",
        "    df['year'] = pd.to_datetime(df['date']).dt.year # 날짜의 해당 연도 시작에서부터의 일 수를 반환 \r\n",
        "    df['dayofyear'] = pd.to_datetime(df['date']).dt.dayofyear\r\n",
        "    df['dayofmonth'] = pd.to_datetime(df['date']).dt.day\r\n",
        "    df['weekofyear'] = pd.to_datetime(df['date']).dt.weekofyear\r\n",
        "    \r\n",
        "    X = df[['사용자','세션','신규방문자','페이지뷰','date','dayofweek','quarter','month','year' #]]\r\n",
        "           ,'dayofyear','dayofmonth','weekofyear']]\r\n",
        "    X.set_index('date', inplace = True)\r\n",
        "    X.index = pd.to_datetime(X.index)\r\n",
        "    \r\n",
        "    #X['date'] = pd.to_datetime(X['date']).dt.date\r\n",
        "    \r\n",
        "    return X"
      ],
      "execution_count": null,
      "outputs": []
    },
    {
      "cell_type": "code",
      "metadata": {
        "colab": {
          "base_uri": "https://localhost:8080/",
          "height": 271
        },
        "id": "am_esN9k-CjW",
        "outputId": "3b3e1b6a-1e3e-444c-f0a9-750fd463ef4f"
      },
      "source": [
        "train = create_features(train_df)\r\n",
        "train.head()"
      ],
      "execution_count": null,
      "outputs": [
        {
          "output_type": "stream",
          "text": [
            "/usr/local/lib/python3.6/dist-packages/ipykernel_launcher.py:17: FutureWarning: Series.dt.weekofyear and Series.dt.week have been deprecated.  Please use Series.dt.isocalendar().week instead.\n"
          ],
          "name": "stderr"
        },
        {
          "output_type": "execute_result",
          "data": {
            "text/html": [
              "<div>\n",
              "<style scoped>\n",
              "    .dataframe tbody tr th:only-of-type {\n",
              "        vertical-align: middle;\n",
              "    }\n",
              "\n",
              "    .dataframe tbody tr th {\n",
              "        vertical-align: top;\n",
              "    }\n",
              "\n",
              "    .dataframe thead th {\n",
              "        text-align: right;\n",
              "    }\n",
              "</style>\n",
              "<table border=\"1\" class=\"dataframe\">\n",
              "  <thead>\n",
              "    <tr style=\"text-align: right;\">\n",
              "      <th></th>\n",
              "      <th>사용자</th>\n",
              "      <th>세션</th>\n",
              "      <th>신규방문자</th>\n",
              "      <th>페이지뷰</th>\n",
              "      <th>dayofweek</th>\n",
              "      <th>quarter</th>\n",
              "      <th>month</th>\n",
              "      <th>year</th>\n",
              "      <th>dayofyear</th>\n",
              "      <th>dayofmonth</th>\n",
              "      <th>weekofyear</th>\n",
              "    </tr>\n",
              "    <tr>\n",
              "      <th>date</th>\n",
              "      <th></th>\n",
              "      <th></th>\n",
              "      <th></th>\n",
              "      <th></th>\n",
              "      <th></th>\n",
              "      <th></th>\n",
              "      <th></th>\n",
              "      <th></th>\n",
              "      <th></th>\n",
              "      <th></th>\n",
              "      <th></th>\n",
              "    </tr>\n",
              "  </thead>\n",
              "  <tbody>\n",
              "    <tr>\n",
              "      <th>2018-09-09</th>\n",
              "      <td>281</td>\n",
              "      <td>266</td>\n",
              "      <td>73</td>\n",
              "      <td>1826</td>\n",
              "      <td>6</td>\n",
              "      <td>3</td>\n",
              "      <td>9</td>\n",
              "      <td>2018</td>\n",
              "      <td>252</td>\n",
              "      <td>9</td>\n",
              "      <td>36</td>\n",
              "    </tr>\n",
              "    <tr>\n",
              "      <th>2018-09-10</th>\n",
              "      <td>264</td>\n",
              "      <td>247</td>\n",
              "      <td>51</td>\n",
              "      <td>2092</td>\n",
              "      <td>0</td>\n",
              "      <td>3</td>\n",
              "      <td>9</td>\n",
              "      <td>2018</td>\n",
              "      <td>253</td>\n",
              "      <td>10</td>\n",
              "      <td>37</td>\n",
              "    </tr>\n",
              "    <tr>\n",
              "      <th>2018-09-11</th>\n",
              "      <td>329</td>\n",
              "      <td>310</td>\n",
              "      <td>58</td>\n",
              "      <td>1998</td>\n",
              "      <td>1</td>\n",
              "      <td>3</td>\n",
              "      <td>9</td>\n",
              "      <td>2018</td>\n",
              "      <td>254</td>\n",
              "      <td>11</td>\n",
              "      <td>37</td>\n",
              "    </tr>\n",
              "    <tr>\n",
              "      <th>2018-09-12</th>\n",
              "      <td>300</td>\n",
              "      <td>287</td>\n",
              "      <td>45</td>\n",
              "      <td>2595</td>\n",
              "      <td>2</td>\n",
              "      <td>3</td>\n",
              "      <td>9</td>\n",
              "      <td>2018</td>\n",
              "      <td>255</td>\n",
              "      <td>12</td>\n",
              "      <td>37</td>\n",
              "    </tr>\n",
              "    <tr>\n",
              "      <th>2018-09-13</th>\n",
              "      <td>378</td>\n",
              "      <td>344</td>\n",
              "      <td>50</td>\n",
              "      <td>3845</td>\n",
              "      <td>3</td>\n",
              "      <td>3</td>\n",
              "      <td>9</td>\n",
              "      <td>2018</td>\n",
              "      <td>256</td>\n",
              "      <td>13</td>\n",
              "      <td>37</td>\n",
              "    </tr>\n",
              "  </tbody>\n",
              "</table>\n",
              "</div>"
            ],
            "text/plain": [
              "            사용자   세션  신규방문자  페이지뷰  ...  year  dayofyear  dayofmonth  weekofyear\n",
              "date                               ...                                         \n",
              "2018-09-09  281  266     73  1826  ...  2018        252           9          36\n",
              "2018-09-10  264  247     51  2092  ...  2018        253          10          37\n",
              "2018-09-11  329  310     58  1998  ...  2018        254          11          37\n",
              "2018-09-12  300  287     45  2595  ...  2018        255          12          37\n",
              "2018-09-13  378  344     50  3845  ...  2018        256          13          37\n",
              "\n",
              "[5 rows x 11 columns]"
            ]
          },
          "metadata": {
            "tags": []
          },
          "execution_count": 200
        }
      ]
    },
    {
      "cell_type": "code",
      "metadata": {
        "colab": {
          "base_uri": "https://localhost:8080/"
        },
        "id": "_9M4EXV_Rk3s",
        "outputId": "3100818e-05a0-43fa-9db2-2bababa9a21a"
      },
      "source": [
        "train.shape"
      ],
      "execution_count": null,
      "outputs": [
        {
          "output_type": "execute_result",
          "data": {
            "text/plain": [
              "(822, 11)"
            ]
          },
          "metadata": {
            "tags": []
          },
          "execution_count": 201
        }
      ]
    },
    {
      "cell_type": "code",
      "metadata": {
        "id": "VsQqMW3Eo-dR"
      },
      "source": [
        "# len(train['dayofyear'].unique())"
      ],
      "execution_count": null,
      "outputs": []
    },
    {
      "cell_type": "markdown",
      "metadata": {
        "id": "pyGdeI1CucRm"
      },
      "source": [
        "#### 공휴일"
      ]
    },
    {
      "cell_type": "code",
      "metadata": {
        "colab": {
          "base_uri": "https://localhost:8080/",
          "height": 233
        },
        "id": "Qd9KmEOBucRt",
        "outputId": "3251fca5-d334-4b03-a696-a56fd6e3feae"
      },
      "source": [
        "path = '/content/drive/MyDrive/Colab Notebooks/DACON CUP'\r\n",
        "\r\n",
        "holidays = pd.read_csv(path + '/open_data/holidays.csv', encoding = 'euc-kr', index_col=0)\r\n",
        "holidays.set_index('date', inplace = True)\r\n",
        "holidays.index = pd.to_datetime(holidays.index)\r\n",
        "holidays.head()"
      ],
      "execution_count": null,
      "outputs": [
        {
          "output_type": "execute_result",
          "data": {
            "text/html": [
              "<div>\n",
              "<style scoped>\n",
              "    .dataframe tbody tr th:only-of-type {\n",
              "        vertical-align: middle;\n",
              "    }\n",
              "\n",
              "    .dataframe tbody tr th {\n",
              "        vertical-align: top;\n",
              "    }\n",
              "\n",
              "    .dataframe thead th {\n",
              "        text-align: right;\n",
              "    }\n",
              "</style>\n",
              "<table border=\"1\" class=\"dataframe\">\n",
              "  <thead>\n",
              "    <tr style=\"text-align: right;\">\n",
              "      <th></th>\n",
              "      <th>name</th>\n",
              "    </tr>\n",
              "    <tr>\n",
              "      <th>date</th>\n",
              "      <th></th>\n",
              "    </tr>\n",
              "  </thead>\n",
              "  <tbody>\n",
              "    <tr>\n",
              "      <th>2018-01-01</th>\n",
              "      <td>1월1일</td>\n",
              "    </tr>\n",
              "    <tr>\n",
              "      <th>2018-02-15</th>\n",
              "      <td>설날</td>\n",
              "    </tr>\n",
              "    <tr>\n",
              "      <th>2018-02-16</th>\n",
              "      <td>설날</td>\n",
              "    </tr>\n",
              "    <tr>\n",
              "      <th>2018-02-17</th>\n",
              "      <td>설날</td>\n",
              "    </tr>\n",
              "    <tr>\n",
              "      <th>2018-03-01</th>\n",
              "      <td>삼일절</td>\n",
              "    </tr>\n",
              "  </tbody>\n",
              "</table>\n",
              "</div>"
            ],
            "text/plain": [
              "            name\n",
              "date            \n",
              "2018-01-01  1월1일\n",
              "2018-02-15    설날\n",
              "2018-02-16    설날\n",
              "2018-02-17    설날\n",
              "2018-03-01   삼일절"
            ]
          },
          "metadata": {
            "tags": []
          },
          "execution_count": 203
        }
      ]
    },
    {
      "cell_type": "markdown",
      "metadata": {
        "id": "tGZ6AjkKOmRr"
      },
      "source": [
        "- 공휴일에 1 or 0을 넣어서 피쳐추가.\r\n",
        "    --> 결과가 좋지 않음"
      ]
    },
    {
      "cell_type": "code",
      "metadata": {
        "colab": {
          "base_uri": "https://localhost:8080/",
          "height": 233
        },
        "id": "d9JIm_rlEy3Q",
        "outputId": "c6c685f8-e8f2-46f2-d439-8d9ad9fd1e2d"
      },
      "source": [
        "holidays['holiday']=1\r\n",
        "holidays.head()"
      ],
      "execution_count": null,
      "outputs": [
        {
          "output_type": "execute_result",
          "data": {
            "text/html": [
              "<div>\n",
              "<style scoped>\n",
              "    .dataframe tbody tr th:only-of-type {\n",
              "        vertical-align: middle;\n",
              "    }\n",
              "\n",
              "    .dataframe tbody tr th {\n",
              "        vertical-align: top;\n",
              "    }\n",
              "\n",
              "    .dataframe thead th {\n",
              "        text-align: right;\n",
              "    }\n",
              "</style>\n",
              "<table border=\"1\" class=\"dataframe\">\n",
              "  <thead>\n",
              "    <tr style=\"text-align: right;\">\n",
              "      <th></th>\n",
              "      <th>name</th>\n",
              "      <th>holiday</th>\n",
              "    </tr>\n",
              "    <tr>\n",
              "      <th>date</th>\n",
              "      <th></th>\n",
              "      <th></th>\n",
              "    </tr>\n",
              "  </thead>\n",
              "  <tbody>\n",
              "    <tr>\n",
              "      <th>2018-01-01</th>\n",
              "      <td>1월1일</td>\n",
              "      <td>1</td>\n",
              "    </tr>\n",
              "    <tr>\n",
              "      <th>2018-02-15</th>\n",
              "      <td>설날</td>\n",
              "      <td>1</td>\n",
              "    </tr>\n",
              "    <tr>\n",
              "      <th>2018-02-16</th>\n",
              "      <td>설날</td>\n",
              "      <td>1</td>\n",
              "    </tr>\n",
              "    <tr>\n",
              "      <th>2018-02-17</th>\n",
              "      <td>설날</td>\n",
              "      <td>1</td>\n",
              "    </tr>\n",
              "    <tr>\n",
              "      <th>2018-03-01</th>\n",
              "      <td>삼일절</td>\n",
              "      <td>1</td>\n",
              "    </tr>\n",
              "  </tbody>\n",
              "</table>\n",
              "</div>"
            ],
            "text/plain": [
              "            name  holiday\n",
              "date                     \n",
              "2018-01-01  1월1일        1\n",
              "2018-02-15    설날        1\n",
              "2018-02-16    설날        1\n",
              "2018-02-17    설날        1\n",
              "2018-03-01   삼일절        1"
            ]
          },
          "metadata": {
            "tags": []
          },
          "execution_count": 204
        }
      ]
    },
    {
      "cell_type": "code",
      "metadata": {
        "colab": {
          "base_uri": "https://localhost:8080/"
        },
        "id": "nL9R1OFwucRy",
        "outputId": "d0805326-65b5-4c33-d859-571ef6a69e28"
      },
      "source": [
        "train.insert(4, 'holiday', holidays['holiday'])\r\n",
        "train = train.fillna(0)\r\n",
        "len(train[train['holiday']==1])"
      ],
      "execution_count": null,
      "outputs": [
        {
          "output_type": "execute_result",
          "data": {
            "text/plain": [
              "42"
            ]
          },
          "metadata": {
            "tags": []
          },
          "execution_count": 205
        }
      ]
    },
    {
      "cell_type": "code",
      "metadata": {
        "id": "njl2o4_uucRz"
      },
      "source": [
        "# 페이지뷰: 홈페이지에 들어온 접속자가 둘러 본 페이지수. \r\n",
        "# PV/UV : 한 사용자가 둘러본 페이지 수.\r\n",
        "\r\n",
        "#train['PV/UV'] = train['페이지뷰']/train['사용자']\r\n",
        "#train['PV/UV'] "
      ],
      "execution_count": null,
      "outputs": []
    },
    {
      "cell_type": "code",
      "metadata": {
        "colab": {
          "base_uri": "https://localhost:8080/",
          "height": 233
        },
        "id": "kj-pJ4fnXYS_",
        "outputId": "a818e33c-ff17-45d8-f6a2-e5c44e788e25"
      },
      "source": [
        "train.head()"
      ],
      "execution_count": null,
      "outputs": [
        {
          "output_type": "execute_result",
          "data": {
            "text/html": [
              "<div>\n",
              "<style scoped>\n",
              "    .dataframe tbody tr th:only-of-type {\n",
              "        vertical-align: middle;\n",
              "    }\n",
              "\n",
              "    .dataframe tbody tr th {\n",
              "        vertical-align: top;\n",
              "    }\n",
              "\n",
              "    .dataframe thead th {\n",
              "        text-align: right;\n",
              "    }\n",
              "</style>\n",
              "<table border=\"1\" class=\"dataframe\">\n",
              "  <thead>\n",
              "    <tr style=\"text-align: right;\">\n",
              "      <th></th>\n",
              "      <th>사용자</th>\n",
              "      <th>세션</th>\n",
              "      <th>신규방문자</th>\n",
              "      <th>페이지뷰</th>\n",
              "      <th>holiday</th>\n",
              "      <th>dayofweek</th>\n",
              "      <th>quarter</th>\n",
              "      <th>month</th>\n",
              "      <th>year</th>\n",
              "      <th>dayofyear</th>\n",
              "      <th>dayofmonth</th>\n",
              "      <th>weekofyear</th>\n",
              "    </tr>\n",
              "    <tr>\n",
              "      <th>date</th>\n",
              "      <th></th>\n",
              "      <th></th>\n",
              "      <th></th>\n",
              "      <th></th>\n",
              "      <th></th>\n",
              "      <th></th>\n",
              "      <th></th>\n",
              "      <th></th>\n",
              "      <th></th>\n",
              "      <th></th>\n",
              "      <th></th>\n",
              "      <th></th>\n",
              "    </tr>\n",
              "  </thead>\n",
              "  <tbody>\n",
              "    <tr>\n",
              "      <th>2018-09-09</th>\n",
              "      <td>281</td>\n",
              "      <td>266</td>\n",
              "      <td>73</td>\n",
              "      <td>1826</td>\n",
              "      <td>0.0</td>\n",
              "      <td>6</td>\n",
              "      <td>3</td>\n",
              "      <td>9</td>\n",
              "      <td>2018</td>\n",
              "      <td>252</td>\n",
              "      <td>9</td>\n",
              "      <td>36</td>\n",
              "    </tr>\n",
              "    <tr>\n",
              "      <th>2018-09-10</th>\n",
              "      <td>264</td>\n",
              "      <td>247</td>\n",
              "      <td>51</td>\n",
              "      <td>2092</td>\n",
              "      <td>0.0</td>\n",
              "      <td>0</td>\n",
              "      <td>3</td>\n",
              "      <td>9</td>\n",
              "      <td>2018</td>\n",
              "      <td>253</td>\n",
              "      <td>10</td>\n",
              "      <td>37</td>\n",
              "    </tr>\n",
              "    <tr>\n",
              "      <th>2018-09-11</th>\n",
              "      <td>329</td>\n",
              "      <td>310</td>\n",
              "      <td>58</td>\n",
              "      <td>1998</td>\n",
              "      <td>0.0</td>\n",
              "      <td>1</td>\n",
              "      <td>3</td>\n",
              "      <td>9</td>\n",
              "      <td>2018</td>\n",
              "      <td>254</td>\n",
              "      <td>11</td>\n",
              "      <td>37</td>\n",
              "    </tr>\n",
              "    <tr>\n",
              "      <th>2018-09-12</th>\n",
              "      <td>300</td>\n",
              "      <td>287</td>\n",
              "      <td>45</td>\n",
              "      <td>2595</td>\n",
              "      <td>0.0</td>\n",
              "      <td>2</td>\n",
              "      <td>3</td>\n",
              "      <td>9</td>\n",
              "      <td>2018</td>\n",
              "      <td>255</td>\n",
              "      <td>12</td>\n",
              "      <td>37</td>\n",
              "    </tr>\n",
              "    <tr>\n",
              "      <th>2018-09-13</th>\n",
              "      <td>378</td>\n",
              "      <td>344</td>\n",
              "      <td>50</td>\n",
              "      <td>3845</td>\n",
              "      <td>0.0</td>\n",
              "      <td>3</td>\n",
              "      <td>3</td>\n",
              "      <td>9</td>\n",
              "      <td>2018</td>\n",
              "      <td>256</td>\n",
              "      <td>13</td>\n",
              "      <td>37</td>\n",
              "    </tr>\n",
              "  </tbody>\n",
              "</table>\n",
              "</div>"
            ],
            "text/plain": [
              "            사용자   세션  신규방문자  페이지뷰  ...  year  dayofyear  dayofmonth  weekofyear\n",
              "date                               ...                                         \n",
              "2018-09-09  281  266     73  1826  ...  2018        252           9          36\n",
              "2018-09-10  264  247     51  2092  ...  2018        253          10          37\n",
              "2018-09-11  329  310     58  1998  ...  2018        254          11          37\n",
              "2018-09-12  300  287     45  2595  ...  2018        255          12          37\n",
              "2018-09-13  378  344     50  3845  ...  2018        256          13          37\n",
              "\n",
              "[5 rows x 12 columns]"
            ]
          },
          "metadata": {
            "tags": []
          },
          "execution_count": 207
        }
      ]
    },
    {
      "cell_type": "code",
      "metadata": {
        "colab": {
          "base_uri": "https://localhost:8080/",
          "height": 326
        },
        "id": "KVOKcTiSucR0",
        "outputId": "d2289d17-c187-4477-8786-37228360542a"
      },
      "source": [
        "for i, value in enumerate(train['holiday']):\r\n",
        "  if value==1:\r\n",
        "#    train['사용자'][i]= train['사용자'][i] - (train['사용자'][i]*0.1)\r\n",
        "#    train['세션'][i]= train['세션'][i] - (train['세션'][i]*0.1)\r\n",
        "#    train['신규방문자'][i]= train['신규방문자'][i] - (train['신규방문자'][i]*0.1)\r\n",
        "    train['페이지뷰'][i]= train['페이지뷰'][i] - (train['페이지뷰'][i]*0.1)  \r\n",
        "\r\n",
        "#train = train.drop(['holiday','PV/UV'],axis=1)\r\n",
        "train = train.drop(['holiday'],axis=1)\r\n",
        "train.head()"
      ],
      "execution_count": null,
      "outputs": [
        {
          "output_type": "stream",
          "text": [
            "/usr/local/lib/python3.6/dist-packages/ipykernel_launcher.py:6: SettingWithCopyWarning: \n",
            "A value is trying to be set on a copy of a slice from a DataFrame\n",
            "\n",
            "See the caveats in the documentation: https://pandas.pydata.org/pandas-docs/stable/user_guide/indexing.html#returning-a-view-versus-a-copy\n",
            "  \n"
          ],
          "name": "stderr"
        },
        {
          "output_type": "execute_result",
          "data": {
            "text/html": [
              "<div>\n",
              "<style scoped>\n",
              "    .dataframe tbody tr th:only-of-type {\n",
              "        vertical-align: middle;\n",
              "    }\n",
              "\n",
              "    .dataframe tbody tr th {\n",
              "        vertical-align: top;\n",
              "    }\n",
              "\n",
              "    .dataframe thead th {\n",
              "        text-align: right;\n",
              "    }\n",
              "</style>\n",
              "<table border=\"1\" class=\"dataframe\">\n",
              "  <thead>\n",
              "    <tr style=\"text-align: right;\">\n",
              "      <th></th>\n",
              "      <th>사용자</th>\n",
              "      <th>세션</th>\n",
              "      <th>신규방문자</th>\n",
              "      <th>페이지뷰</th>\n",
              "      <th>dayofweek</th>\n",
              "      <th>quarter</th>\n",
              "      <th>month</th>\n",
              "      <th>year</th>\n",
              "      <th>dayofyear</th>\n",
              "      <th>dayofmonth</th>\n",
              "      <th>weekofyear</th>\n",
              "    </tr>\n",
              "    <tr>\n",
              "      <th>date</th>\n",
              "      <th></th>\n",
              "      <th></th>\n",
              "      <th></th>\n",
              "      <th></th>\n",
              "      <th></th>\n",
              "      <th></th>\n",
              "      <th></th>\n",
              "      <th></th>\n",
              "      <th></th>\n",
              "      <th></th>\n",
              "      <th></th>\n",
              "    </tr>\n",
              "  </thead>\n",
              "  <tbody>\n",
              "    <tr>\n",
              "      <th>2018-09-09</th>\n",
              "      <td>281</td>\n",
              "      <td>266</td>\n",
              "      <td>73</td>\n",
              "      <td>1826</td>\n",
              "      <td>6</td>\n",
              "      <td>3</td>\n",
              "      <td>9</td>\n",
              "      <td>2018</td>\n",
              "      <td>252</td>\n",
              "      <td>9</td>\n",
              "      <td>36</td>\n",
              "    </tr>\n",
              "    <tr>\n",
              "      <th>2018-09-10</th>\n",
              "      <td>264</td>\n",
              "      <td>247</td>\n",
              "      <td>51</td>\n",
              "      <td>2092</td>\n",
              "      <td>0</td>\n",
              "      <td>3</td>\n",
              "      <td>9</td>\n",
              "      <td>2018</td>\n",
              "      <td>253</td>\n",
              "      <td>10</td>\n",
              "      <td>37</td>\n",
              "    </tr>\n",
              "    <tr>\n",
              "      <th>2018-09-11</th>\n",
              "      <td>329</td>\n",
              "      <td>310</td>\n",
              "      <td>58</td>\n",
              "      <td>1998</td>\n",
              "      <td>1</td>\n",
              "      <td>3</td>\n",
              "      <td>9</td>\n",
              "      <td>2018</td>\n",
              "      <td>254</td>\n",
              "      <td>11</td>\n",
              "      <td>37</td>\n",
              "    </tr>\n",
              "    <tr>\n",
              "      <th>2018-09-12</th>\n",
              "      <td>300</td>\n",
              "      <td>287</td>\n",
              "      <td>45</td>\n",
              "      <td>2595</td>\n",
              "      <td>2</td>\n",
              "      <td>3</td>\n",
              "      <td>9</td>\n",
              "      <td>2018</td>\n",
              "      <td>255</td>\n",
              "      <td>12</td>\n",
              "      <td>37</td>\n",
              "    </tr>\n",
              "    <tr>\n",
              "      <th>2018-09-13</th>\n",
              "      <td>378</td>\n",
              "      <td>344</td>\n",
              "      <td>50</td>\n",
              "      <td>3845</td>\n",
              "      <td>3</td>\n",
              "      <td>3</td>\n",
              "      <td>9</td>\n",
              "      <td>2018</td>\n",
              "      <td>256</td>\n",
              "      <td>13</td>\n",
              "      <td>37</td>\n",
              "    </tr>\n",
              "  </tbody>\n",
              "</table>\n",
              "</div>"
            ],
            "text/plain": [
              "            사용자   세션  신규방문자  페이지뷰  ...  year  dayofyear  dayofmonth  weekofyear\n",
              "date                               ...                                         \n",
              "2018-09-09  281  266     73  1826  ...  2018        252           9          36\n",
              "2018-09-10  264  247     51  2092  ...  2018        253          10          37\n",
              "2018-09-11  329  310     58  1998  ...  2018        254          11          37\n",
              "2018-09-12  300  287     45  2595  ...  2018        255          12          37\n",
              "2018-09-13  378  344     50  3845  ...  2018        256          13          37\n",
              "\n",
              "[5 rows x 11 columns]"
            ]
          },
          "metadata": {
            "tags": []
          },
          "execution_count": 208
        }
      ]
    },
    {
      "cell_type": "code",
      "metadata": {
        "id": "6j3eLly7ucR1"
      },
      "source": [
        "# train['사용자'][1]*0.01"
      ],
      "execution_count": null,
      "outputs": []
    },
    {
      "cell_type": "code",
      "metadata": {
        "colab": {
          "base_uri": "https://localhost:8080/",
          "height": 129
        },
        "id": "PBSP-mqkujSw",
        "outputId": "ab06212e-5fd9-4a97-eb4e-9570a1967474"
      },
      "source": [
        "\"\"\"for i, value in enumerate(train['holiday']):\r\n",
        "  if value == '1월1일':\r\n",
        "    train['사용자'][i]= train['사용자'][i] - (train['사용자'][i]*0.5)\r\n",
        "    train['세션'][i]= train['세션'][i] - (train['세션'][i]*0.5)\r\n",
        "    train['신규방문자'][i]= train['신규방문자'][i] - (train['신규방문자'][i]*0.5)\r\n",
        "    train['페이지뷰'][i]= train['페이지뷰'][i] - (train['페이지뷰'][i]*0.5)  \r\n",
        "\r\n",
        "  # 공휴일이면 페이지뷰 감소\r\n",
        "  elif value!=0:\r\n",
        "#    train['사용자'][i]= train['사용자'][i] - (train['사용자'][i]*0.1)\r\n",
        "#    train['세션'][i]= train['세션'][i] - (train['세션'][i]*0.1)\r\n",
        "#    train['신규방문자'][i]= train['신규방문자'][i] - (train['신규방문자'][i]*0.1)\r\n",
        "    train['페이지뷰'][i]= train['페이지뷰'][i] - (train['페이지뷰'][i]*0.1)  \r\n",
        "\r\n",
        "#train = train.drop(['holiday','PV/UV'],axis=1)\r\n",
        "train = train.drop(['holiday'],axis=1)\r\n",
        "train.head()\"\"\""
      ],
      "execution_count": null,
      "outputs": [
        {
          "output_type": "execute_result",
          "data": {
            "application/vnd.google.colaboratory.intrinsic+json": {
              "type": "string"
            },
            "text/plain": [
              "\"for i, value in enumerate(train['holiday']):\\n  if value == '1월1일':\\n    train['사용자'][i]= train['사용자'][i] - (train['사용자'][i]*0.5)\\n    train['세션'][i]= train['세션'][i] - (train['세션'][i]*0.5)\\n    train['신규방문자'][i]= train['신규방문자'][i] - (train['신규방문자'][i]*0.5)\\n    train['페이지뷰'][i]= train['페이지뷰'][i] - (train['페이지뷰'][i]*0.5)  \\n\\n  # 공휴일이면 페이지뷰 감소\\n  elif value!=0:\\n#    train['사용자'][i]= train['사용자'][i] - (train['사용자'][i]*0.1)\\n#    train['세션'][i]= train['세션'][i] - (train['세션'][i]*0.1)\\n#    train['신규방문자'][i]= train['신규방문자'][i] - (train['신규방문자'][i]*0.1)\\n    train['페이지뷰'][i]= train['페이지뷰'][i] - (train['페이지뷰'][i]*0.1)  \\n\\n#train = train.drop(['holiday','PV/UV'],axis=1)\\ntrain = train.drop(['holiday'],axis=1)\\ntrain.head()\""
            ]
          },
          "metadata": {
            "tags": []
          },
          "execution_count": 210
        }
      ]
    },
    {
      "cell_type": "markdown",
      "metadata": {
        "id": "0Mn3-RqzjnDe"
      },
      "source": [
        "#### 범주형 인코딩\r\n",
        "\r\n",
        "- one-hot 인코딩: 카테고리가 별로 없는거\r\n",
        "- binary 인코딩: 카테고리가 많은 거"
      ]
    },
    {
      "cell_type": "code",
      "metadata": {
        "colab": {
          "base_uri": "https://localhost:8080/"
        },
        "id": "ziFLhds4kax1",
        "outputId": "df23d0fe-fc9b-4c68-a2c4-67656ced1e32"
      },
      "source": [
        "pip install category_encoders"
      ],
      "execution_count": null,
      "outputs": [
        {
          "output_type": "stream",
          "text": [
            "Requirement already satisfied: category_encoders in /usr/local/lib/python3.6/dist-packages (2.2.2)\n",
            "Requirement already satisfied: scikit-learn>=0.20.0 in /usr/local/lib/python3.6/dist-packages (from category_encoders) (0.22.2.post1)\n",
            "Requirement already satisfied: numpy>=1.14.0 in /usr/local/lib/python3.6/dist-packages (from category_encoders) (1.19.5)\n",
            "Requirement already satisfied: statsmodels>=0.9.0 in /usr/local/lib/python3.6/dist-packages (from category_encoders) (0.10.2)\n",
            "Requirement already satisfied: scipy>=1.0.0 in /usr/local/lib/python3.6/dist-packages (from category_encoders) (1.4.1)\n",
            "Requirement already satisfied: patsy>=0.5.1 in /usr/local/lib/python3.6/dist-packages (from category_encoders) (0.5.1)\n",
            "Requirement already satisfied: pandas>=0.21.1 in /usr/local/lib/python3.6/dist-packages (from category_encoders) (1.1.5)\n",
            "Requirement already satisfied: joblib>=0.11 in /usr/local/lib/python3.6/dist-packages (from scikit-learn>=0.20.0->category_encoders) (1.0.0)\n",
            "Requirement already satisfied: six in /usr/local/lib/python3.6/dist-packages (from patsy>=0.5.1->category_encoders) (1.15.0)\n",
            "Requirement already satisfied: pytz>=2017.2 in /usr/local/lib/python3.6/dist-packages (from pandas>=0.21.1->category_encoders) (2018.9)\n",
            "Requirement already satisfied: python-dateutil>=2.7.3 in /usr/local/lib/python3.6/dist-packages (from pandas>=0.21.1->category_encoders) (2.8.1)\n"
          ],
          "name": "stdout"
        }
      ]
    },
    {
      "cell_type": "code",
      "metadata": {
        "id": "BHx-tnrbj1cc"
      },
      "source": [
        "import category_encoders as ce"
      ],
      "execution_count": null,
      "outputs": []
    },
    {
      "cell_type": "code",
      "metadata": {
        "colab": {
          "base_uri": "https://localhost:8080/"
        },
        "id": "4nzCaqAJd531",
        "outputId": "f53a2409-873c-4f69-f16d-a03c73c0f617"
      },
      "source": [
        "# bianry encoding\r\n",
        "\r\n",
        "# dayofyear\tdayofmonth\tweekofyear\r\n",
        "\r\n",
        "encoder = ce.BinaryEncoder(cols=['dayofyear'])\r\n",
        "train = encoder.fit_transform(train)\r\n",
        "\r\n",
        "encoder = ce.BinaryEncoder(cols=['dayofmonth'])\r\n",
        "train = encoder.fit_transform(train)\r\n",
        "\r\n",
        "encoder = ce.BinaryEncoder(cols=['weekofyear'])\r\n",
        "train = encoder.fit_transform(train)\r\n",
        "\r\n",
        "print(train.shape)\r\n",
        "# train.head(3)"
      ],
      "execution_count": null,
      "outputs": [
        {
          "output_type": "stream",
          "text": [
            "(822, 31)\n"
          ],
          "name": "stdout"
        },
        {
          "output_type": "stream",
          "text": [
            "/usr/local/lib/python3.6/dist-packages/category_encoders/utils.py:21: FutureWarning: is_categorical is deprecated and will be removed in a future version.  Use is_categorical_dtype instead\n",
            "  elif pd.api.types.is_categorical(cols):\n",
            "/usr/local/lib/python3.6/dist-packages/category_encoders/utils.py:21: FutureWarning: is_categorical is deprecated and will be removed in a future version.  Use is_categorical_dtype instead\n",
            "  elif pd.api.types.is_categorical(cols):\n",
            "/usr/local/lib/python3.6/dist-packages/category_encoders/utils.py:21: FutureWarning: is_categorical is deprecated and will be removed in a future version.  Use is_categorical_dtype instead\n",
            "  elif pd.api.types.is_categorical(cols):\n"
          ],
          "name": "stderr"
        }
      ]
    },
    {
      "cell_type": "code",
      "metadata": {
        "colab": {
          "base_uri": "https://localhost:8080/",
          "height": 331
        },
        "id": "ZFEkYwX-kxU9",
        "outputId": "88ed6131-372c-4f6f-b2c2-a68deda6b5cc"
      },
      "source": [
        "# one-hot encoding\r\n",
        "\r\n",
        "def dummy_data(data, columns):\r\n",
        "    for column in columns:\r\n",
        "        data = pd.concat([data, pd.get_dummies(data[column], prefix = column)], axis=1)\r\n",
        "        data = data.drop(column, axis=1)\r\n",
        "    return data\r\n",
        "\r\n",
        "\r\n",
        "dummy_columns = [\"dayofweek\", \"quarter\", \"month\", \"year\"]\r\n",
        "train = dummy_data(train,dummy_columns)\r\n",
        "\r\n",
        "print(train.shape)\r\n",
        "train.head(3)"
      ],
      "execution_count": null,
      "outputs": [
        {
          "output_type": "stream",
          "text": [
            "(822, 53)\n"
          ],
          "name": "stdout"
        },
        {
          "output_type": "execute_result",
          "data": {
            "text/html": [
              "<div>\n",
              "<style scoped>\n",
              "    .dataframe tbody tr th:only-of-type {\n",
              "        vertical-align: middle;\n",
              "    }\n",
              "\n",
              "    .dataframe tbody tr th {\n",
              "        vertical-align: top;\n",
              "    }\n",
              "\n",
              "    .dataframe thead th {\n",
              "        text-align: right;\n",
              "    }\n",
              "</style>\n",
              "<table border=\"1\" class=\"dataframe\">\n",
              "  <thead>\n",
              "    <tr style=\"text-align: right;\">\n",
              "      <th></th>\n",
              "      <th>사용자</th>\n",
              "      <th>세션</th>\n",
              "      <th>신규방문자</th>\n",
              "      <th>페이지뷰</th>\n",
              "      <th>dayofyear_0</th>\n",
              "      <th>dayofyear_1</th>\n",
              "      <th>dayofyear_2</th>\n",
              "      <th>dayofyear_3</th>\n",
              "      <th>dayofyear_4</th>\n",
              "      <th>dayofyear_5</th>\n",
              "      <th>dayofyear_6</th>\n",
              "      <th>dayofyear_7</th>\n",
              "      <th>dayofyear_8</th>\n",
              "      <th>dayofyear_9</th>\n",
              "      <th>dayofmonth_0</th>\n",
              "      <th>dayofmonth_1</th>\n",
              "      <th>dayofmonth_2</th>\n",
              "      <th>dayofmonth_3</th>\n",
              "      <th>dayofmonth_4</th>\n",
              "      <th>dayofmonth_5</th>\n",
              "      <th>weekofyear_0</th>\n",
              "      <th>weekofyear_1</th>\n",
              "      <th>weekofyear_2</th>\n",
              "      <th>weekofyear_3</th>\n",
              "      <th>weekofyear_4</th>\n",
              "      <th>weekofyear_5</th>\n",
              "      <th>weekofyear_6</th>\n",
              "      <th>dayofweek_0</th>\n",
              "      <th>dayofweek_1</th>\n",
              "      <th>dayofweek_2</th>\n",
              "      <th>dayofweek_3</th>\n",
              "      <th>dayofweek_4</th>\n",
              "      <th>dayofweek_5</th>\n",
              "      <th>dayofweek_6</th>\n",
              "      <th>quarter_1</th>\n",
              "      <th>quarter_2</th>\n",
              "      <th>quarter_3</th>\n",
              "      <th>quarter_4</th>\n",
              "      <th>month_1</th>\n",
              "      <th>month_2</th>\n",
              "      <th>month_3</th>\n",
              "      <th>month_4</th>\n",
              "      <th>month_5</th>\n",
              "      <th>month_6</th>\n",
              "      <th>month_7</th>\n",
              "      <th>month_8</th>\n",
              "      <th>month_9</th>\n",
              "      <th>month_10</th>\n",
              "      <th>month_11</th>\n",
              "      <th>month_12</th>\n",
              "      <th>year_2018</th>\n",
              "      <th>year_2019</th>\n",
              "      <th>year_2020</th>\n",
              "    </tr>\n",
              "    <tr>\n",
              "      <th>date</th>\n",
              "      <th></th>\n",
              "      <th></th>\n",
              "      <th></th>\n",
              "      <th></th>\n",
              "      <th></th>\n",
              "      <th></th>\n",
              "      <th></th>\n",
              "      <th></th>\n",
              "      <th></th>\n",
              "      <th></th>\n",
              "      <th></th>\n",
              "      <th></th>\n",
              "      <th></th>\n",
              "      <th></th>\n",
              "      <th></th>\n",
              "      <th></th>\n",
              "      <th></th>\n",
              "      <th></th>\n",
              "      <th></th>\n",
              "      <th></th>\n",
              "      <th></th>\n",
              "      <th></th>\n",
              "      <th></th>\n",
              "      <th></th>\n",
              "      <th></th>\n",
              "      <th></th>\n",
              "      <th></th>\n",
              "      <th></th>\n",
              "      <th></th>\n",
              "      <th></th>\n",
              "      <th></th>\n",
              "      <th></th>\n",
              "      <th></th>\n",
              "      <th></th>\n",
              "      <th></th>\n",
              "      <th></th>\n",
              "      <th></th>\n",
              "      <th></th>\n",
              "      <th></th>\n",
              "      <th></th>\n",
              "      <th></th>\n",
              "      <th></th>\n",
              "      <th></th>\n",
              "      <th></th>\n",
              "      <th></th>\n",
              "      <th></th>\n",
              "      <th></th>\n",
              "      <th></th>\n",
              "      <th></th>\n",
              "      <th></th>\n",
              "      <th></th>\n",
              "      <th></th>\n",
              "      <th></th>\n",
              "    </tr>\n",
              "  </thead>\n",
              "  <tbody>\n",
              "    <tr>\n",
              "      <th>2018-09-09</th>\n",
              "      <td>281</td>\n",
              "      <td>266</td>\n",
              "      <td>73</td>\n",
              "      <td>1826</td>\n",
              "      <td>0</td>\n",
              "      <td>0</td>\n",
              "      <td>0</td>\n",
              "      <td>0</td>\n",
              "      <td>0</td>\n",
              "      <td>0</td>\n",
              "      <td>0</td>\n",
              "      <td>0</td>\n",
              "      <td>0</td>\n",
              "      <td>1</td>\n",
              "      <td>0</td>\n",
              "      <td>0</td>\n",
              "      <td>0</td>\n",
              "      <td>0</td>\n",
              "      <td>0</td>\n",
              "      <td>1</td>\n",
              "      <td>0</td>\n",
              "      <td>0</td>\n",
              "      <td>0</td>\n",
              "      <td>0</td>\n",
              "      <td>0</td>\n",
              "      <td>0</td>\n",
              "      <td>1</td>\n",
              "      <td>0</td>\n",
              "      <td>0</td>\n",
              "      <td>0</td>\n",
              "      <td>0</td>\n",
              "      <td>0</td>\n",
              "      <td>0</td>\n",
              "      <td>1</td>\n",
              "      <td>0</td>\n",
              "      <td>0</td>\n",
              "      <td>1</td>\n",
              "      <td>0</td>\n",
              "      <td>0</td>\n",
              "      <td>0</td>\n",
              "      <td>0</td>\n",
              "      <td>0</td>\n",
              "      <td>0</td>\n",
              "      <td>0</td>\n",
              "      <td>0</td>\n",
              "      <td>0</td>\n",
              "      <td>1</td>\n",
              "      <td>0</td>\n",
              "      <td>0</td>\n",
              "      <td>0</td>\n",
              "      <td>1</td>\n",
              "      <td>0</td>\n",
              "      <td>0</td>\n",
              "    </tr>\n",
              "    <tr>\n",
              "      <th>2018-09-10</th>\n",
              "      <td>264</td>\n",
              "      <td>247</td>\n",
              "      <td>51</td>\n",
              "      <td>2092</td>\n",
              "      <td>0</td>\n",
              "      <td>0</td>\n",
              "      <td>0</td>\n",
              "      <td>0</td>\n",
              "      <td>0</td>\n",
              "      <td>0</td>\n",
              "      <td>0</td>\n",
              "      <td>0</td>\n",
              "      <td>1</td>\n",
              "      <td>0</td>\n",
              "      <td>0</td>\n",
              "      <td>0</td>\n",
              "      <td>0</td>\n",
              "      <td>0</td>\n",
              "      <td>1</td>\n",
              "      <td>0</td>\n",
              "      <td>0</td>\n",
              "      <td>0</td>\n",
              "      <td>0</td>\n",
              "      <td>0</td>\n",
              "      <td>0</td>\n",
              "      <td>1</td>\n",
              "      <td>0</td>\n",
              "      <td>1</td>\n",
              "      <td>0</td>\n",
              "      <td>0</td>\n",
              "      <td>0</td>\n",
              "      <td>0</td>\n",
              "      <td>0</td>\n",
              "      <td>0</td>\n",
              "      <td>0</td>\n",
              "      <td>0</td>\n",
              "      <td>1</td>\n",
              "      <td>0</td>\n",
              "      <td>0</td>\n",
              "      <td>0</td>\n",
              "      <td>0</td>\n",
              "      <td>0</td>\n",
              "      <td>0</td>\n",
              "      <td>0</td>\n",
              "      <td>0</td>\n",
              "      <td>0</td>\n",
              "      <td>1</td>\n",
              "      <td>0</td>\n",
              "      <td>0</td>\n",
              "      <td>0</td>\n",
              "      <td>1</td>\n",
              "      <td>0</td>\n",
              "      <td>0</td>\n",
              "    </tr>\n",
              "    <tr>\n",
              "      <th>2018-09-11</th>\n",
              "      <td>329</td>\n",
              "      <td>310</td>\n",
              "      <td>58</td>\n",
              "      <td>1998</td>\n",
              "      <td>0</td>\n",
              "      <td>0</td>\n",
              "      <td>0</td>\n",
              "      <td>0</td>\n",
              "      <td>0</td>\n",
              "      <td>0</td>\n",
              "      <td>0</td>\n",
              "      <td>0</td>\n",
              "      <td>1</td>\n",
              "      <td>1</td>\n",
              "      <td>0</td>\n",
              "      <td>0</td>\n",
              "      <td>0</td>\n",
              "      <td>0</td>\n",
              "      <td>1</td>\n",
              "      <td>1</td>\n",
              "      <td>0</td>\n",
              "      <td>0</td>\n",
              "      <td>0</td>\n",
              "      <td>0</td>\n",
              "      <td>0</td>\n",
              "      <td>1</td>\n",
              "      <td>0</td>\n",
              "      <td>0</td>\n",
              "      <td>1</td>\n",
              "      <td>0</td>\n",
              "      <td>0</td>\n",
              "      <td>0</td>\n",
              "      <td>0</td>\n",
              "      <td>0</td>\n",
              "      <td>0</td>\n",
              "      <td>0</td>\n",
              "      <td>1</td>\n",
              "      <td>0</td>\n",
              "      <td>0</td>\n",
              "      <td>0</td>\n",
              "      <td>0</td>\n",
              "      <td>0</td>\n",
              "      <td>0</td>\n",
              "      <td>0</td>\n",
              "      <td>0</td>\n",
              "      <td>0</td>\n",
              "      <td>1</td>\n",
              "      <td>0</td>\n",
              "      <td>0</td>\n",
              "      <td>0</td>\n",
              "      <td>1</td>\n",
              "      <td>0</td>\n",
              "      <td>0</td>\n",
              "    </tr>\n",
              "  </tbody>\n",
              "</table>\n",
              "</div>"
            ],
            "text/plain": [
              "            사용자   세션  신규방문자  페이지뷰  ...  month_12  year_2018  year_2019  year_2020\n",
              "date                               ...                                           \n",
              "2018-09-09  281  266     73  1826  ...         0          1          0          0\n",
              "2018-09-10  264  247     51  2092  ...         0          1          0          0\n",
              "2018-09-11  329  310     58  1998  ...         0          1          0          0\n",
              "\n",
              "[3 rows x 53 columns]"
            ]
          },
          "metadata": {
            "tags": []
          },
          "execution_count": 214
        }
      ]
    },
    {
      "cell_type": "markdown",
      "metadata": {
        "id": "M-nqMth6966w"
      },
      "source": [
        "#### 데이터 전처리"
      ]
    },
    {
      "cell_type": "code",
      "metadata": {
        "colab": {
          "base_uri": "https://localhost:8080/",
          "height": 357
        },
        "id": "MB-KiRHF92gN",
        "outputId": "85589f31-8721-40d1-e430-837d47488cd6"
      },
      "source": [
        "# scaling\r\n",
        "\r\n",
        "mini = train.iloc[:,:4].min()\r\n",
        "size = train.iloc[:,:4].max() - train.iloc[:,:4].min()\r\n",
        "train.iloc[:,:4] = (train.iloc[:,:4] -  mini) / size\r\n",
        "train.head()"
      ],
      "execution_count": null,
      "outputs": [
        {
          "output_type": "execute_result",
          "data": {
            "text/html": [
              "<div>\n",
              "<style scoped>\n",
              "    .dataframe tbody tr th:only-of-type {\n",
              "        vertical-align: middle;\n",
              "    }\n",
              "\n",
              "    .dataframe tbody tr th {\n",
              "        vertical-align: top;\n",
              "    }\n",
              "\n",
              "    .dataframe thead th {\n",
              "        text-align: right;\n",
              "    }\n",
              "</style>\n",
              "<table border=\"1\" class=\"dataframe\">\n",
              "  <thead>\n",
              "    <tr style=\"text-align: right;\">\n",
              "      <th></th>\n",
              "      <th>사용자</th>\n",
              "      <th>세션</th>\n",
              "      <th>신규방문자</th>\n",
              "      <th>페이지뷰</th>\n",
              "      <th>dayofyear_0</th>\n",
              "      <th>dayofyear_1</th>\n",
              "      <th>dayofyear_2</th>\n",
              "      <th>dayofyear_3</th>\n",
              "      <th>dayofyear_4</th>\n",
              "      <th>dayofyear_5</th>\n",
              "      <th>dayofyear_6</th>\n",
              "      <th>dayofyear_7</th>\n",
              "      <th>dayofyear_8</th>\n",
              "      <th>dayofyear_9</th>\n",
              "      <th>dayofmonth_0</th>\n",
              "      <th>dayofmonth_1</th>\n",
              "      <th>dayofmonth_2</th>\n",
              "      <th>dayofmonth_3</th>\n",
              "      <th>dayofmonth_4</th>\n",
              "      <th>dayofmonth_5</th>\n",
              "      <th>weekofyear_0</th>\n",
              "      <th>weekofyear_1</th>\n",
              "      <th>weekofyear_2</th>\n",
              "      <th>weekofyear_3</th>\n",
              "      <th>weekofyear_4</th>\n",
              "      <th>weekofyear_5</th>\n",
              "      <th>weekofyear_6</th>\n",
              "      <th>dayofweek_0</th>\n",
              "      <th>dayofweek_1</th>\n",
              "      <th>dayofweek_2</th>\n",
              "      <th>dayofweek_3</th>\n",
              "      <th>dayofweek_4</th>\n",
              "      <th>dayofweek_5</th>\n",
              "      <th>dayofweek_6</th>\n",
              "      <th>quarter_1</th>\n",
              "      <th>quarter_2</th>\n",
              "      <th>quarter_3</th>\n",
              "      <th>quarter_4</th>\n",
              "      <th>month_1</th>\n",
              "      <th>month_2</th>\n",
              "      <th>month_3</th>\n",
              "      <th>month_4</th>\n",
              "      <th>month_5</th>\n",
              "      <th>month_6</th>\n",
              "      <th>month_7</th>\n",
              "      <th>month_8</th>\n",
              "      <th>month_9</th>\n",
              "      <th>month_10</th>\n",
              "      <th>month_11</th>\n",
              "      <th>month_12</th>\n",
              "      <th>year_2018</th>\n",
              "      <th>year_2019</th>\n",
              "      <th>year_2020</th>\n",
              "    </tr>\n",
              "    <tr>\n",
              "      <th>date</th>\n",
              "      <th></th>\n",
              "      <th></th>\n",
              "      <th></th>\n",
              "      <th></th>\n",
              "      <th></th>\n",
              "      <th></th>\n",
              "      <th></th>\n",
              "      <th></th>\n",
              "      <th></th>\n",
              "      <th></th>\n",
              "      <th></th>\n",
              "      <th></th>\n",
              "      <th></th>\n",
              "      <th></th>\n",
              "      <th></th>\n",
              "      <th></th>\n",
              "      <th></th>\n",
              "      <th></th>\n",
              "      <th></th>\n",
              "      <th></th>\n",
              "      <th></th>\n",
              "      <th></th>\n",
              "      <th></th>\n",
              "      <th></th>\n",
              "      <th></th>\n",
              "      <th></th>\n",
              "      <th></th>\n",
              "      <th></th>\n",
              "      <th></th>\n",
              "      <th></th>\n",
              "      <th></th>\n",
              "      <th></th>\n",
              "      <th></th>\n",
              "      <th></th>\n",
              "      <th></th>\n",
              "      <th></th>\n",
              "      <th></th>\n",
              "      <th></th>\n",
              "      <th></th>\n",
              "      <th></th>\n",
              "      <th></th>\n",
              "      <th></th>\n",
              "      <th></th>\n",
              "      <th></th>\n",
              "      <th></th>\n",
              "      <th></th>\n",
              "      <th></th>\n",
              "      <th></th>\n",
              "      <th></th>\n",
              "      <th></th>\n",
              "      <th></th>\n",
              "      <th></th>\n",
              "      <th></th>\n",
              "    </tr>\n",
              "  </thead>\n",
              "  <tbody>\n",
              "    <tr>\n",
              "      <th>2018-09-09</th>\n",
              "      <td>0.051689</td>\n",
              "      <td>0.049083</td>\n",
              "      <td>0.042604</td>\n",
              "      <td>0.011741</td>\n",
              "      <td>0</td>\n",
              "      <td>0</td>\n",
              "      <td>0</td>\n",
              "      <td>0</td>\n",
              "      <td>0</td>\n",
              "      <td>0</td>\n",
              "      <td>0</td>\n",
              "      <td>0</td>\n",
              "      <td>0</td>\n",
              "      <td>1</td>\n",
              "      <td>0</td>\n",
              "      <td>0</td>\n",
              "      <td>0</td>\n",
              "      <td>0</td>\n",
              "      <td>0</td>\n",
              "      <td>1</td>\n",
              "      <td>0</td>\n",
              "      <td>0</td>\n",
              "      <td>0</td>\n",
              "      <td>0</td>\n",
              "      <td>0</td>\n",
              "      <td>0</td>\n",
              "      <td>1</td>\n",
              "      <td>0</td>\n",
              "      <td>0</td>\n",
              "      <td>0</td>\n",
              "      <td>0</td>\n",
              "      <td>0</td>\n",
              "      <td>0</td>\n",
              "      <td>1</td>\n",
              "      <td>0</td>\n",
              "      <td>0</td>\n",
              "      <td>1</td>\n",
              "      <td>0</td>\n",
              "      <td>0</td>\n",
              "      <td>0</td>\n",
              "      <td>0</td>\n",
              "      <td>0</td>\n",
              "      <td>0</td>\n",
              "      <td>0</td>\n",
              "      <td>0</td>\n",
              "      <td>0</td>\n",
              "      <td>1</td>\n",
              "      <td>0</td>\n",
              "      <td>0</td>\n",
              "      <td>0</td>\n",
              "      <td>1</td>\n",
              "      <td>0</td>\n",
              "      <td>0</td>\n",
              "    </tr>\n",
              "    <tr>\n",
              "      <th>2018-09-10</th>\n",
              "      <td>0.048551</td>\n",
              "      <td>0.045564</td>\n",
              "      <td>0.029586</td>\n",
              "      <td>0.013453</td>\n",
              "      <td>0</td>\n",
              "      <td>0</td>\n",
              "      <td>0</td>\n",
              "      <td>0</td>\n",
              "      <td>0</td>\n",
              "      <td>0</td>\n",
              "      <td>0</td>\n",
              "      <td>0</td>\n",
              "      <td>1</td>\n",
              "      <td>0</td>\n",
              "      <td>0</td>\n",
              "      <td>0</td>\n",
              "      <td>0</td>\n",
              "      <td>0</td>\n",
              "      <td>1</td>\n",
              "      <td>0</td>\n",
              "      <td>0</td>\n",
              "      <td>0</td>\n",
              "      <td>0</td>\n",
              "      <td>0</td>\n",
              "      <td>0</td>\n",
              "      <td>1</td>\n",
              "      <td>0</td>\n",
              "      <td>1</td>\n",
              "      <td>0</td>\n",
              "      <td>0</td>\n",
              "      <td>0</td>\n",
              "      <td>0</td>\n",
              "      <td>0</td>\n",
              "      <td>0</td>\n",
              "      <td>0</td>\n",
              "      <td>0</td>\n",
              "      <td>1</td>\n",
              "      <td>0</td>\n",
              "      <td>0</td>\n",
              "      <td>0</td>\n",
              "      <td>0</td>\n",
              "      <td>0</td>\n",
              "      <td>0</td>\n",
              "      <td>0</td>\n",
              "      <td>0</td>\n",
              "      <td>0</td>\n",
              "      <td>1</td>\n",
              "      <td>0</td>\n",
              "      <td>0</td>\n",
              "      <td>0</td>\n",
              "      <td>1</td>\n",
              "      <td>0</td>\n",
              "      <td>0</td>\n",
              "    </tr>\n",
              "    <tr>\n",
              "      <th>2018-09-11</th>\n",
              "      <td>0.060550</td>\n",
              "      <td>0.057233</td>\n",
              "      <td>0.033728</td>\n",
              "      <td>0.012848</td>\n",
              "      <td>0</td>\n",
              "      <td>0</td>\n",
              "      <td>0</td>\n",
              "      <td>0</td>\n",
              "      <td>0</td>\n",
              "      <td>0</td>\n",
              "      <td>0</td>\n",
              "      <td>0</td>\n",
              "      <td>1</td>\n",
              "      <td>1</td>\n",
              "      <td>0</td>\n",
              "      <td>0</td>\n",
              "      <td>0</td>\n",
              "      <td>0</td>\n",
              "      <td>1</td>\n",
              "      <td>1</td>\n",
              "      <td>0</td>\n",
              "      <td>0</td>\n",
              "      <td>0</td>\n",
              "      <td>0</td>\n",
              "      <td>0</td>\n",
              "      <td>1</td>\n",
              "      <td>0</td>\n",
              "      <td>0</td>\n",
              "      <td>1</td>\n",
              "      <td>0</td>\n",
              "      <td>0</td>\n",
              "      <td>0</td>\n",
              "      <td>0</td>\n",
              "      <td>0</td>\n",
              "      <td>0</td>\n",
              "      <td>0</td>\n",
              "      <td>1</td>\n",
              "      <td>0</td>\n",
              "      <td>0</td>\n",
              "      <td>0</td>\n",
              "      <td>0</td>\n",
              "      <td>0</td>\n",
              "      <td>0</td>\n",
              "      <td>0</td>\n",
              "      <td>0</td>\n",
              "      <td>0</td>\n",
              "      <td>1</td>\n",
              "      <td>0</td>\n",
              "      <td>0</td>\n",
              "      <td>0</td>\n",
              "      <td>1</td>\n",
              "      <td>0</td>\n",
              "      <td>0</td>\n",
              "    </tr>\n",
              "    <tr>\n",
              "      <th>2018-09-12</th>\n",
              "      <td>0.055197</td>\n",
              "      <td>0.052973</td>\n",
              "      <td>0.026036</td>\n",
              "      <td>0.016689</td>\n",
              "      <td>0</td>\n",
              "      <td>0</td>\n",
              "      <td>0</td>\n",
              "      <td>0</td>\n",
              "      <td>0</td>\n",
              "      <td>0</td>\n",
              "      <td>0</td>\n",
              "      <td>1</td>\n",
              "      <td>0</td>\n",
              "      <td>0</td>\n",
              "      <td>0</td>\n",
              "      <td>0</td>\n",
              "      <td>0</td>\n",
              "      <td>1</td>\n",
              "      <td>0</td>\n",
              "      <td>0</td>\n",
              "      <td>0</td>\n",
              "      <td>0</td>\n",
              "      <td>0</td>\n",
              "      <td>0</td>\n",
              "      <td>0</td>\n",
              "      <td>1</td>\n",
              "      <td>0</td>\n",
              "      <td>0</td>\n",
              "      <td>0</td>\n",
              "      <td>1</td>\n",
              "      <td>0</td>\n",
              "      <td>0</td>\n",
              "      <td>0</td>\n",
              "      <td>0</td>\n",
              "      <td>0</td>\n",
              "      <td>0</td>\n",
              "      <td>1</td>\n",
              "      <td>0</td>\n",
              "      <td>0</td>\n",
              "      <td>0</td>\n",
              "      <td>0</td>\n",
              "      <td>0</td>\n",
              "      <td>0</td>\n",
              "      <td>0</td>\n",
              "      <td>0</td>\n",
              "      <td>0</td>\n",
              "      <td>1</td>\n",
              "      <td>0</td>\n",
              "      <td>0</td>\n",
              "      <td>0</td>\n",
              "      <td>1</td>\n",
              "      <td>0</td>\n",
              "      <td>0</td>\n",
              "    </tr>\n",
              "    <tr>\n",
              "      <th>2018-09-13</th>\n",
              "      <td>0.069596</td>\n",
              "      <td>0.063530</td>\n",
              "      <td>0.028994</td>\n",
              "      <td>0.024731</td>\n",
              "      <td>0</td>\n",
              "      <td>0</td>\n",
              "      <td>0</td>\n",
              "      <td>0</td>\n",
              "      <td>0</td>\n",
              "      <td>0</td>\n",
              "      <td>0</td>\n",
              "      <td>1</td>\n",
              "      <td>0</td>\n",
              "      <td>1</td>\n",
              "      <td>0</td>\n",
              "      <td>0</td>\n",
              "      <td>0</td>\n",
              "      <td>1</td>\n",
              "      <td>0</td>\n",
              "      <td>1</td>\n",
              "      <td>0</td>\n",
              "      <td>0</td>\n",
              "      <td>0</td>\n",
              "      <td>0</td>\n",
              "      <td>0</td>\n",
              "      <td>1</td>\n",
              "      <td>0</td>\n",
              "      <td>0</td>\n",
              "      <td>0</td>\n",
              "      <td>0</td>\n",
              "      <td>1</td>\n",
              "      <td>0</td>\n",
              "      <td>0</td>\n",
              "      <td>0</td>\n",
              "      <td>0</td>\n",
              "      <td>0</td>\n",
              "      <td>1</td>\n",
              "      <td>0</td>\n",
              "      <td>0</td>\n",
              "      <td>0</td>\n",
              "      <td>0</td>\n",
              "      <td>0</td>\n",
              "      <td>0</td>\n",
              "      <td>0</td>\n",
              "      <td>0</td>\n",
              "      <td>0</td>\n",
              "      <td>1</td>\n",
              "      <td>0</td>\n",
              "      <td>0</td>\n",
              "      <td>0</td>\n",
              "      <td>1</td>\n",
              "      <td>0</td>\n",
              "      <td>0</td>\n",
              "    </tr>\n",
              "  </tbody>\n",
              "</table>\n",
              "</div>"
            ],
            "text/plain": [
              "                 사용자        세션     신규방문자  ...  year_2018  year_2019  year_2020\n",
              "date                                      ...                                 \n",
              "2018-09-09  0.051689  0.049083  0.042604  ...          1          0          0\n",
              "2018-09-10  0.048551  0.045564  0.029586  ...          1          0          0\n",
              "2018-09-11  0.060550  0.057233  0.033728  ...          1          0          0\n",
              "2018-09-12  0.055197  0.052973  0.026036  ...          1          0          0\n",
              "2018-09-13  0.069596  0.063530  0.028994  ...          1          0          0\n",
              "\n",
              "[5 rows x 53 columns]"
            ]
          },
          "metadata": {
            "tags": []
          },
          "execution_count": 215
        }
      ]
    },
    {
      "cell_type": "code",
      "metadata": {
        "id": "c3B6jULuUW5Q",
        "colab": {
          "base_uri": "https://localhost:8080/"
        },
        "outputId": "8aa744f0-0635-4faa-c29a-24de5629cf95"
      },
      "source": [
        "# scaling\r\n",
        "\r\n",
        "input_window = 61\r\n",
        "output_window = 61 # 7\r\n",
        "\r\n",
        "window_x = np.zeros((train.shape[0] - (input_window + output_window), input_window, 53))\r\n",
        "window_y = np.zeros((train.shape[0] - (input_window + output_window), output_window, 4))\r\n",
        "\r\n",
        "for start in range(train.shape[0] - (input_window + output_window)):\r\n",
        "    end = start + input_window    \r\n",
        "    window_x[start,:, :] = train.iloc[start : end                , : ].values\r\n",
        "    window_y[start,:, :] = train.iloc[end   : end + output_window, :4 ].values\r\n",
        "\r\n",
        "\r\n",
        "print('window_x.shape: ', window_x.shape)\r\n",
        "print('window_y.shape: ', window_y.shape)"
      ],
      "execution_count": null,
      "outputs": [
        {
          "output_type": "stream",
          "text": [
            "window_x.shape:  (700, 61, 53)\n",
            "window_y.shape:  (700, 61, 4)\n"
          ],
          "name": "stdout"
        }
      ]
    },
    {
      "cell_type": "code",
      "metadata": {
        "id": "wy1pDYOzVKDD"
      },
      "source": [
        "# window_x"
      ],
      "execution_count": null,
      "outputs": []
    },
    {
      "cell_type": "markdown",
      "metadata": {
        "id": "dHc8qQZCDedw"
      },
      "source": [
        "- 시계열 데이터 임베딩 찾아서 적용해보기\r\n",
        "- 스케일링 다르게 해보기\r\n",
        "- dropout 적용해보기"
      ]
    },
    {
      "cell_type": "code",
      "metadata": {
        "id": "RMVmMfUBILC-"
      },
      "source": [
        "import tensorflow as tf\r\n",
        "from tensorflow import keras\r\n",
        "from tensorflow.keras import layers, Sequential\r\n",
        "\r\n",
        "from tensorflow.keras.layers import Dense, Conv1D, LSTM, Input, TimeDistributed\r\n",
        "from tensorflow.keras.models import Model\r\n"
      ],
      "execution_count": null,
      "outputs": []
    },
    {
      "cell_type": "markdown",
      "metadata": {
        "id": "LJZU8NwSoRz5"
      },
      "source": [
        "optimizer = Adam, loss = mse, activation_function = 따로지정x"
      ]
    },
    {
      "cell_type": "code",
      "metadata": {
        "id": "GKj7gc585ToK",
        "colab": {
          "base_uri": "https://localhost:8080/"
        },
        "outputId": "faa873b7-b3f9-4aa4-8578-3dd2b388cbfd"
      },
      "source": [
        "tf.random.set_seed(40)\r\n",
        "\r\n",
        "\r\n",
        "model = Sequential()\r\n",
        "model.add(LSTM(32, input_shape=(61, 53), return_sequences=True))  # (timestep, features)\r\n",
        "model.add(LSTM(32, return_sequences=True)) \r\n",
        "model.add(LSTM(32, return_sequences=True)) \r\n",
        "#model.add(LSTM(32, return_sequences=True)) \r\n",
        "#model.add(LSTM(32, return_sequences=True)) \r\n",
        "# model.add(LSTM(32, return_sequences=True)) \r\n",
        "model.add(TimeDistributed(Dense(4)))\r\n",
        "\r\n",
        "model.summary()\r\n",
        "\r\n",
        "opt = keras.optimizers.Adam(learning_rate=0.01)\r\n",
        "model.compile(loss='mean_squared_error', optimizer=opt)\r\n",
        "\r\n",
        "model.fit(window_x, window_y, epochs=100, batch_size=50)\r\n",
        "\r\n",
        "\r\n",
        "# layer3 b50 -> 1.2607e-04\r\n",
        "# layer3 b55 ->  1.0079e-04\r\n",
        "# layer3 b60 -> 1.3633e-04 추세는 비슷한데 값이 너무 낮음\r\n",
        "\r\n",
        "# layer3 b30 -> 5.9194e-05 XX\r\n",
        "# layer3 b40 -> 5.9194e-05 \r\n",
        "# layer3 b45 -> 6.3832e-05 괜춘.\r\n",
        "# layer3 b70 ->\r\n",
        "\r\n",
        "\r\n",
        "# layer 4 b50 -> 1.3527e-04 페이지뷰 너무 낮음\r\n",
        "# layer 4 b40 ->  9.5294e-05  xx\r\n",
        "# layer 4 b30 -> 추세를 잘 예측하지 못함\r\n",
        "\r\n",
        "\r\n",
        "# layer2 \r\n",
        "\r\n",
        "# lstm2층 - epochs100, batch_size=10"
      ],
      "execution_count": null,
      "outputs": [
        {
          "output_type": "stream",
          "text": [
            "Model: \"sequential_3\"\n",
            "_________________________________________________________________\n",
            "Layer (type)                 Output Shape              Param #   \n",
            "=================================================================\n",
            "lstm_9 (LSTM)                (None, 61, 32)            11008     \n",
            "_________________________________________________________________\n",
            "lstm_10 (LSTM)               (None, 61, 32)            8320      \n",
            "_________________________________________________________________\n",
            "lstm_11 (LSTM)               (None, 61, 32)            8320      \n",
            "_________________________________________________________________\n",
            "time_distributed_3 (TimeDist (None, 61, 4)             132       \n",
            "=================================================================\n",
            "Total params: 27,780\n",
            "Trainable params: 27,780\n",
            "Non-trainable params: 0\n",
            "_________________________________________________________________\n",
            "Epoch 1/100\n",
            "14/14 [==============================] - 5s 56ms/step - loss: 0.0436\n",
            "Epoch 2/100\n",
            "14/14 [==============================] - 1s 58ms/step - loss: 0.0112\n",
            "Epoch 3/100\n",
            "14/14 [==============================] - 1s 56ms/step - loss: 0.0085\n",
            "Epoch 4/100\n",
            "14/14 [==============================] - 1s 58ms/step - loss: 0.0073\n",
            "Epoch 5/100\n",
            "14/14 [==============================] - 1s 59ms/step - loss: 0.0064\n",
            "Epoch 6/100\n",
            "14/14 [==============================] - 1s 59ms/step - loss: 0.0055\n",
            "Epoch 7/100\n",
            "14/14 [==============================] - 1s 59ms/step - loss: 0.0045\n",
            "Epoch 8/100\n",
            "14/14 [==============================] - 1s 60ms/step - loss: 0.0039\n",
            "Epoch 9/100\n",
            "14/14 [==============================] - 1s 59ms/step - loss: 0.0035\n",
            "Epoch 10/100\n",
            "14/14 [==============================] - 1s 58ms/step - loss: 0.0034\n",
            "Epoch 11/100\n",
            "14/14 [==============================] - 1s 58ms/step - loss: 0.0029\n",
            "Epoch 12/100\n",
            "14/14 [==============================] - 1s 57ms/step - loss: 0.0026\n",
            "Epoch 13/100\n",
            "14/14 [==============================] - 1s 57ms/step - loss: 0.0023\n",
            "Epoch 14/100\n",
            "14/14 [==============================] - 1s 58ms/step - loss: 0.0021\n",
            "Epoch 15/100\n",
            "14/14 [==============================] - 1s 62ms/step - loss: 0.0019\n",
            "Epoch 16/100\n",
            "14/14 [==============================] - 1s 60ms/step - loss: 0.0018\n",
            "Epoch 17/100\n",
            "14/14 [==============================] - 1s 61ms/step - loss: 0.0016\n",
            "Epoch 18/100\n",
            "14/14 [==============================] - 1s 62ms/step - loss: 0.0014\n",
            "Epoch 19/100\n",
            "14/14 [==============================] - 1s 56ms/step - loss: 0.0013\n",
            "Epoch 20/100\n",
            "14/14 [==============================] - 1s 57ms/step - loss: 0.0012\n",
            "Epoch 21/100\n",
            "14/14 [==============================] - 1s 59ms/step - loss: 0.0012\n",
            "Epoch 22/100\n",
            "14/14 [==============================] - 1s 57ms/step - loss: 0.0011\n",
            "Epoch 23/100\n",
            "14/14 [==============================] - 1s 61ms/step - loss: 0.0010\n",
            "Epoch 24/100\n",
            "14/14 [==============================] - 1s 58ms/step - loss: 8.7813e-04\n",
            "Epoch 25/100\n",
            "14/14 [==============================] - 1s 60ms/step - loss: 7.9791e-04\n",
            "Epoch 26/100\n",
            "14/14 [==============================] - 1s 57ms/step - loss: 7.3549e-04\n",
            "Epoch 27/100\n",
            "14/14 [==============================] - 1s 57ms/step - loss: 6.8834e-04\n",
            "Epoch 28/100\n",
            "14/14 [==============================] - 1s 60ms/step - loss: 6.8159e-04\n",
            "Epoch 29/100\n",
            "14/14 [==============================] - 1s 58ms/step - loss: 6.0269e-04\n",
            "Epoch 30/100\n",
            "14/14 [==============================] - 1s 56ms/step - loss: 5.6324e-04\n",
            "Epoch 31/100\n",
            "14/14 [==============================] - 1s 57ms/step - loss: 5.6658e-04\n",
            "Epoch 32/100\n",
            "14/14 [==============================] - 1s 61ms/step - loss: 5.2296e-04\n",
            "Epoch 33/100\n",
            "14/14 [==============================] - 1s 57ms/step - loss: 4.8611e-04\n",
            "Epoch 34/100\n",
            "14/14 [==============================] - 1s 58ms/step - loss: 5.3483e-04\n",
            "Epoch 35/100\n",
            "14/14 [==============================] - 1s 58ms/step - loss: 5.5414e-04\n",
            "Epoch 36/100\n",
            "14/14 [==============================] - 1s 60ms/step - loss: 4.3234e-04\n",
            "Epoch 37/100\n",
            "14/14 [==============================] - 1s 58ms/step - loss: 3.8763e-04\n",
            "Epoch 38/100\n",
            "14/14 [==============================] - 1s 56ms/step - loss: 3.6034e-04\n",
            "Epoch 39/100\n",
            "14/14 [==============================] - 1s 57ms/step - loss: 3.3455e-04\n",
            "Epoch 40/100\n",
            "14/14 [==============================] - 1s 58ms/step - loss: 3.3514e-04\n",
            "Epoch 41/100\n",
            "14/14 [==============================] - 1s 60ms/step - loss: 3.3761e-04\n",
            "Epoch 42/100\n",
            "14/14 [==============================] - 1s 59ms/step - loss: 3.3991e-04\n",
            "Epoch 43/100\n",
            "14/14 [==============================] - 1s 58ms/step - loss: 3.0050e-04\n",
            "Epoch 44/100\n",
            "14/14 [==============================] - 1s 63ms/step - loss: 3.0875e-04\n",
            "Epoch 45/100\n",
            "14/14 [==============================] - 1s 58ms/step - loss: 3.0443e-04\n",
            "Epoch 46/100\n",
            "14/14 [==============================] - 1s 59ms/step - loss: 2.7491e-04\n",
            "Epoch 47/100\n",
            "14/14 [==============================] - 1s 60ms/step - loss: 2.5329e-04\n",
            "Epoch 48/100\n",
            "14/14 [==============================] - 1s 58ms/step - loss: 2.6252e-04\n",
            "Epoch 49/100\n",
            "14/14 [==============================] - 1s 60ms/step - loss: 2.7986e-04\n",
            "Epoch 50/100\n",
            "14/14 [==============================] - 1s 59ms/step - loss: 4.1914e-04\n",
            "Epoch 51/100\n",
            "14/14 [==============================] - 1s 59ms/step - loss: 2.7060e-04\n",
            "Epoch 52/100\n",
            "14/14 [==============================] - 1s 61ms/step - loss: 2.5094e-04\n",
            "Epoch 53/100\n",
            "14/14 [==============================] - 1s 59ms/step - loss: 2.2887e-04\n",
            "Epoch 54/100\n",
            "14/14 [==============================] - 1s 59ms/step - loss: 2.2013e-04\n",
            "Epoch 55/100\n",
            "14/14 [==============================] - 1s 60ms/step - loss: 2.1978e-04\n",
            "Epoch 56/100\n",
            "14/14 [==============================] - 1s 57ms/step - loss: 2.3421e-04\n",
            "Epoch 57/100\n",
            "14/14 [==============================] - 1s 61ms/step - loss: 2.1953e-04\n",
            "Epoch 58/100\n",
            "14/14 [==============================] - 1s 58ms/step - loss: 2.1194e-04\n",
            "Epoch 59/100\n",
            "14/14 [==============================] - 1s 58ms/step - loss: 2.2164e-04\n",
            "Epoch 60/100\n",
            "14/14 [==============================] - 1s 59ms/step - loss: 2.1350e-04\n",
            "Epoch 61/100\n",
            "14/14 [==============================] - 1s 61ms/step - loss: 2.0322e-04\n",
            "Epoch 62/100\n",
            "14/14 [==============================] - 1s 57ms/step - loss: 1.8663e-04\n",
            "Epoch 63/100\n",
            "14/14 [==============================] - 1s 62ms/step - loss: 2.2056e-04\n",
            "Epoch 64/100\n",
            "14/14 [==============================] - 1s 58ms/step - loss: 2.4533e-04\n",
            "Epoch 65/100\n",
            "14/14 [==============================] - 1s 60ms/step - loss: 3.6015e-04\n",
            "Epoch 66/100\n",
            "14/14 [==============================] - 1s 58ms/step - loss: 2.7461e-04\n",
            "Epoch 67/100\n",
            "14/14 [==============================] - 1s 58ms/step - loss: 2.9495e-04\n",
            "Epoch 68/100\n",
            "14/14 [==============================] - 1s 59ms/step - loss: 2.3474e-04\n",
            "Epoch 69/100\n",
            "14/14 [==============================] - 1s 62ms/step - loss: 1.7854e-04\n",
            "Epoch 70/100\n",
            "14/14 [==============================] - 1s 58ms/step - loss: 1.5511e-04\n",
            "Epoch 71/100\n",
            "14/14 [==============================] - 1s 59ms/step - loss: 1.5153e-04\n",
            "Epoch 72/100\n",
            "14/14 [==============================] - 1s 58ms/step - loss: 1.4544e-04\n",
            "Epoch 73/100\n",
            "14/14 [==============================] - 1s 59ms/step - loss: 1.5204e-04\n",
            "Epoch 74/100\n",
            "14/14 [==============================] - 1s 60ms/step - loss: 1.3232e-04\n",
            "Epoch 75/100\n",
            "14/14 [==============================] - 1s 59ms/step - loss: 1.2821e-04\n",
            "Epoch 76/100\n",
            "14/14 [==============================] - 1s 62ms/step - loss: 1.3898e-04\n",
            "Epoch 77/100\n",
            "14/14 [==============================] - 1s 62ms/step - loss: 1.2826e-04\n",
            "Epoch 78/100\n",
            "14/14 [==============================] - 1s 58ms/step - loss: 1.2939e-04\n",
            "Epoch 79/100\n",
            "14/14 [==============================] - 1s 61ms/step - loss: 1.2026e-04\n",
            "Epoch 80/100\n",
            "14/14 [==============================] - 1s 60ms/step - loss: 1.2118e-04\n",
            "Epoch 81/100\n",
            "14/14 [==============================] - 1s 62ms/step - loss: 1.2975e-04\n",
            "Epoch 82/100\n",
            "14/14 [==============================] - 1s 59ms/step - loss: 1.1680e-04\n",
            "Epoch 83/100\n",
            "14/14 [==============================] - 1s 62ms/step - loss: 1.3297e-04\n",
            "Epoch 84/100\n",
            "14/14 [==============================] - 1s 59ms/step - loss: 1.2292e-04\n",
            "Epoch 85/100\n",
            "14/14 [==============================] - 1s 59ms/step - loss: 1.2571e-04\n",
            "Epoch 86/100\n",
            "14/14 [==============================] - 1s 60ms/step - loss: 1.1242e-04\n",
            "Epoch 87/100\n",
            "14/14 [==============================] - 1s 60ms/step - loss: 1.1258e-04\n",
            "Epoch 88/100\n",
            "14/14 [==============================] - 1s 60ms/step - loss: 1.1171e-04\n",
            "Epoch 89/100\n",
            "14/14 [==============================] - 1s 62ms/step - loss: 1.0343e-04\n",
            "Epoch 90/100\n",
            "14/14 [==============================] - 1s 61ms/step - loss: 9.8354e-05\n",
            "Epoch 91/100\n",
            "14/14 [==============================] - 1s 60ms/step - loss: 1.0535e-04\n",
            "Epoch 92/100\n",
            "14/14 [==============================] - 1s 66ms/step - loss: 9.7086e-05\n",
            "Epoch 93/100\n",
            "14/14 [==============================] - 1s 60ms/step - loss: 1.0235e-04\n",
            "Epoch 94/100\n",
            "14/14 [==============================] - 1s 61ms/step - loss: 1.0555e-04\n",
            "Epoch 95/100\n",
            "14/14 [==============================] - 1s 60ms/step - loss: 1.1828e-04\n",
            "Epoch 96/100\n",
            "14/14 [==============================] - 1s 60ms/step - loss: 1.1794e-04\n",
            "Epoch 97/100\n",
            "14/14 [==============================] - 1s 61ms/step - loss: 1.0543e-04\n",
            "Epoch 98/100\n",
            "14/14 [==============================] - 1s 61ms/step - loss: 9.8751e-05\n",
            "Epoch 99/100\n",
            "14/14 [==============================] - 1s 61ms/step - loss: 1.0161e-04\n",
            "Epoch 100/100\n",
            "14/14 [==============================] - 1s 63ms/step - loss: 1.2607e-04\n"
          ],
          "name": "stdout"
        },
        {
          "output_type": "execute_result",
          "data": {
            "text/plain": [
              "<tensorflow.python.keras.callbacks.History at 0x7ff6d10fb198>"
            ]
          },
          "metadata": {
            "tags": []
          },
          "execution_count": 219
        }
      ]
    },
    {
      "cell_type": "markdown",
      "metadata": {
        "id": "dbInac4YQ8pV"
      },
      "source": [
        "## test : last_df"
      ]
    },
    {
      "cell_type": "code",
      "metadata": {
        "id": "hL8wR22W18Co",
        "colab": {
          "base_uri": "https://localhost:8080/"
        },
        "outputId": "fb5bb176-9c36-46e1-b34f-6e20d38d2ba2"
      },
      "source": [
        "# train은 이미 위에서 minmax scaler적용되어있음.\r\n",
        "\r\n",
        "last_df = train.iloc[-61:,:].values[np.newaxis,...] # np.newaxis: 3D로 차원을 늘려줌. \r\n",
        "last_df.shape"
      ],
      "execution_count": null,
      "outputs": [
        {
          "output_type": "execute_result",
          "data": {
            "text/plain": [
              "(1, 61, 53)"
            ]
          },
          "metadata": {
            "tags": []
          },
          "execution_count": 220
        }
      ]
    },
    {
      "cell_type": "code",
      "metadata": {
        "id": "qaMBTNjj2JW9"
      },
      "source": [
        "pred_last = model.predict(last_df)\r\n",
        "#pred_last"
      ],
      "execution_count": null,
      "outputs": []
    },
    {
      "cell_type": "code",
      "metadata": {
        "id": "HoED9_139dCn",
        "colab": {
          "base_uri": "https://localhost:8080/"
        },
        "outputId": "4a5313c4-f0ce-4f54-9e14-f061b2118a39"
      },
      "source": [
        "pred_last = pred_last.reshape(output_window,4)\r\n",
        "pred_last = pred_last * size[:4].values + mini[:4].values\r\n",
        "pred_last = pred_last.astype(int)\r\n",
        "pred_last\r\n"
      ],
      "execution_count": null,
      "outputs": [
        {
          "output_type": "execute_result",
          "data": {
            "text/plain": [
              "array([[  2186,   2147,    490,  53605],\n",
              "       [  3065,   3035,    761,  71873],\n",
              "       [  3682,   3573,    957, 101012],\n",
              "       [  2105,   2018,    484,  49675],\n",
              "       [  2007,   1956,    429,  47148],\n",
              "       [  3382,   3325,    816,  89366],\n",
              "       [  2937,   2868,    694,  77382],\n",
              "       [  3437,   3379,    817,  91721],\n",
              "       [  3312,   3262,    781,  80183],\n",
              "       [  3155,   3145,    787,  75434],\n",
              "       [  2046,   2065,    552,  45086],\n",
              "       [  2108,   2155,    537,  50554],\n",
              "       [  3697,   3743,   1040, 104187],\n",
              "       [  2632,   2612,    602,  66276],\n",
              "       [  2566,   2600,    636,  61461],\n",
              "       [  2961,   3017,    829,  68332],\n",
              "       [  2973,   3013,    837,  76922],\n",
              "       [  1563,   1586,    437,  33327],\n",
              "       [  1458,   1527,    405,  32977],\n",
              "       [  2815,   2907,    773,  73740],\n",
              "       [  2485,   2558,    688,  67564],\n",
              "       [  2073,   2181,    580,  55033],\n",
              "       [  2529,   2703,    724,  68668],\n",
              "       [  2051,   2215,    632,  56342],\n",
              "       [  1955,   2093,    575,  55401],\n",
              "       [  2107,   2210,    499,  61820],\n",
              "       [  3036,   3150,    669,  89636],\n",
              "       [  2717,   2768,    539,  77047],\n",
              "       [  3319,   3391,    675,  92410],\n",
              "       [  3367,   3416,    753,  84647],\n",
              "       [  2784,   2806,    655,  61985],\n",
              "       [  1842,   1900,    518,  34599],\n",
              "       [  1931,   2031,    531,  36082],\n",
              "       [  2823,   2938,    701,  59929],\n",
              "       [  3550,   3634,    911,  85662],\n",
              "       [  2805,   2839,    690,  68315],\n",
              "       [  2995,   3072,    781,  67580],\n",
              "       [  2788,   2869,    734,  64535],\n",
              "       [  2308,   2334,    588,  50506],\n",
              "       [  2126,   2169,    469,  44948],\n",
              "       [  3370,   3419,    693,  75400],\n",
              "       [  3215,   3167,    627,  68758],\n",
              "       [  3526,   3506,    787,  72539],\n",
              "       [  3431,   3377,    783,  63643],\n",
              "       [  3052,   2949,    629,  51439],\n",
              "       [  1792,   1736,    338,  26702],\n",
              "       [  1596,   1598,    343,  22629],\n",
              "       [  2687,   2667,    513,  45655],\n",
              "       [  2743,   2638,    504,  49852],\n",
              "       [  2584,   2468,    486,  49995],\n",
              "       [  2899,   2773,    556,  58068],\n",
              "       [  2986,   2847,    586,  67454],\n",
              "       [  2182,   1998,    433,  44620],\n",
              "       [  2427,   2275,    433,  55888],\n",
              "       [  3699,   3457,    604, 108424],\n",
              "       [  3014,   2717,    450,  87790],\n",
              "       [  3060,   2840,    559,  89032],\n",
              "       [  2752,   2545,    567,  70920],\n",
              "       [  3136,   2980,    659,  87423],\n",
              "       [  2273,   2157,    636,  56741],\n",
              "       [  2267,   2179,    517,  59700]])"
            ]
          },
          "metadata": {
            "tags": []
          },
          "execution_count": 222
        }
      ]
    },
    {
      "cell_type": "code",
      "metadata": {
        "id": "FY7lgRivG5-L",
        "colab": {
          "base_uri": "https://localhost:8080/"
        },
        "outputId": "11e4c2a7-17f8-4b69-aa5e-3d7c3d430681"
      },
      "source": [
        "pred_last.shape"
      ],
      "execution_count": null,
      "outputs": [
        {
          "output_type": "execute_result",
          "data": {
            "text/plain": [
              "(61, 4)"
            ]
          },
          "metadata": {
            "tags": []
          },
          "execution_count": 223
        }
      ]
    },
    {
      "cell_type": "markdown",
      "metadata": {
        "id": "hkxkXBgBJ4tg"
      },
      "source": [
        "## submit"
      ]
    },
    {
      "cell_type": "markdown",
      "metadata": {
        "id": "zlyp_qpF8zX8"
      },
      "source": [
        "- submit 파일로드"
      ]
    },
    {
      "cell_type": "code",
      "metadata": {
        "colab": {
          "base_uri": "https://localhost:8080/"
        },
        "id": "rMOy5_lV1jAY",
        "outputId": "8dbd5e31-0a6a-4aca-8e77-5c7b22848527"
      },
      "source": [
        "submission =  pd.read_csv(path + '/open_data/submission.csv', encoding = 'euc-kr')\r\n",
        "submission= submission[30:]\r\n",
        "submission.reset_index(drop=True,inplace=True)\r\n",
        "submission.shape"
      ],
      "execution_count": null,
      "outputs": [
        {
          "output_type": "execute_result",
          "data": {
            "text/plain": [
              "(31, 5)"
            ]
          },
          "metadata": {
            "tags": []
          },
          "execution_count": 224
        }
      ]
    },
    {
      "cell_type": "code",
      "metadata": {
        "id": "3VUwY_duJ4uA",
        "colab": {
          "base_uri": "https://localhost:8080/",
          "height": 202
        },
        "outputId": "a8c2830b-78c6-470d-bb35-1cb53eb95094"
      },
      "source": [
        "pred_df = pd.DataFrame(pred_last)\r\n",
        "pred_df = pred_df[:31]\r\n",
        "pred_df.reset_index(drop=True, inplace = True)\r\n",
        "pred_df.head()"
      ],
      "execution_count": null,
      "outputs": [
        {
          "output_type": "execute_result",
          "data": {
            "text/html": [
              "<div>\n",
              "<style scoped>\n",
              "    .dataframe tbody tr th:only-of-type {\n",
              "        vertical-align: middle;\n",
              "    }\n",
              "\n",
              "    .dataframe tbody tr th {\n",
              "        vertical-align: top;\n",
              "    }\n",
              "\n",
              "    .dataframe thead th {\n",
              "        text-align: right;\n",
              "    }\n",
              "</style>\n",
              "<table border=\"1\" class=\"dataframe\">\n",
              "  <thead>\n",
              "    <tr style=\"text-align: right;\">\n",
              "      <th></th>\n",
              "      <th>0</th>\n",
              "      <th>1</th>\n",
              "      <th>2</th>\n",
              "      <th>3</th>\n",
              "    </tr>\n",
              "  </thead>\n",
              "  <tbody>\n",
              "    <tr>\n",
              "      <th>0</th>\n",
              "      <td>2186</td>\n",
              "      <td>2147</td>\n",
              "      <td>490</td>\n",
              "      <td>53605</td>\n",
              "    </tr>\n",
              "    <tr>\n",
              "      <th>1</th>\n",
              "      <td>3065</td>\n",
              "      <td>3035</td>\n",
              "      <td>761</td>\n",
              "      <td>71873</td>\n",
              "    </tr>\n",
              "    <tr>\n",
              "      <th>2</th>\n",
              "      <td>3682</td>\n",
              "      <td>3573</td>\n",
              "      <td>957</td>\n",
              "      <td>101012</td>\n",
              "    </tr>\n",
              "    <tr>\n",
              "      <th>3</th>\n",
              "      <td>2105</td>\n",
              "      <td>2018</td>\n",
              "      <td>484</td>\n",
              "      <td>49675</td>\n",
              "    </tr>\n",
              "    <tr>\n",
              "      <th>4</th>\n",
              "      <td>2007</td>\n",
              "      <td>1956</td>\n",
              "      <td>429</td>\n",
              "      <td>47148</td>\n",
              "    </tr>\n",
              "  </tbody>\n",
              "</table>\n",
              "</div>"
            ],
            "text/plain": [
              "      0     1    2       3\n",
              "0  2186  2147  490   53605\n",
              "1  3065  3035  761   71873\n",
              "2  3682  3573  957  101012\n",
              "3  2105  2018  484   49675\n",
              "4  2007  1956  429   47148"
            ]
          },
          "metadata": {
            "tags": []
          },
          "execution_count": 225
        }
      ]
    },
    {
      "cell_type": "code",
      "metadata": {
        "id": "LFdMfTtYJ4uA",
        "colab": {
          "base_uri": "https://localhost:8080/"
        },
        "outputId": "4952eae5-b0bc-4ee8-b88d-d0bc3859ef76"
      },
      "source": [
        "\r\n",
        "for i in range(len(submission)):\r\n",
        "  submission['사용자'][i] = pred_df[0][i]\r\n",
        "  submission['세션'][i] = pred_df[1][i]\r\n",
        "  submission['신규방문자'][i] = pred_df[2][i]\r\n",
        "  submission['페이지뷰'][i] = pred_df[3][i]"
      ],
      "execution_count": null,
      "outputs": [
        {
          "output_type": "stream",
          "text": [
            "/usr/local/lib/python3.6/dist-packages/ipykernel_launcher.py:3: SettingWithCopyWarning: \n",
            "A value is trying to be set on a copy of a slice from a DataFrame\n",
            "\n",
            "See the caveats in the documentation: https://pandas.pydata.org/pandas-docs/stable/user_guide/indexing.html#returning-a-view-versus-a-copy\n",
            "  This is separate from the ipykernel package so we can avoid doing imports until\n",
            "/usr/local/lib/python3.6/dist-packages/ipykernel_launcher.py:4: SettingWithCopyWarning: \n",
            "A value is trying to be set on a copy of a slice from a DataFrame\n",
            "\n",
            "See the caveats in the documentation: https://pandas.pydata.org/pandas-docs/stable/user_guide/indexing.html#returning-a-view-versus-a-copy\n",
            "  after removing the cwd from sys.path.\n",
            "/usr/local/lib/python3.6/dist-packages/ipykernel_launcher.py:5: SettingWithCopyWarning: \n",
            "A value is trying to be set on a copy of a slice from a DataFrame\n",
            "\n",
            "See the caveats in the documentation: https://pandas.pydata.org/pandas-docs/stable/user_guide/indexing.html#returning-a-view-versus-a-copy\n",
            "  \"\"\"\n",
            "/usr/local/lib/python3.6/dist-packages/ipykernel_launcher.py:6: SettingWithCopyWarning: \n",
            "A value is trying to be set on a copy of a slice from a DataFrame\n",
            "\n",
            "See the caveats in the documentation: https://pandas.pydata.org/pandas-docs/stable/user_guide/indexing.html#returning-a-view-versus-a-copy\n",
            "  \n"
          ],
          "name": "stderr"
        }
      ]
    },
    {
      "cell_type": "code",
      "metadata": {
        "colab": {
          "base_uri": "https://localhost:8080/",
          "height": 202
        },
        "id": "OB5R30cBn27U",
        "outputId": "24e9803d-1138-4813-d77a-0aef1dacf374"
      },
      "source": [
        "submission.head()"
      ],
      "execution_count": null,
      "outputs": [
        {
          "output_type": "execute_result",
          "data": {
            "text/html": [
              "<div>\n",
              "<style scoped>\n",
              "    .dataframe tbody tr th:only-of-type {\n",
              "        vertical-align: middle;\n",
              "    }\n",
              "\n",
              "    .dataframe tbody tr th {\n",
              "        vertical-align: top;\n",
              "    }\n",
              "\n",
              "    .dataframe thead th {\n",
              "        text-align: right;\n",
              "    }\n",
              "</style>\n",
              "<table border=\"1\" class=\"dataframe\">\n",
              "  <thead>\n",
              "    <tr style=\"text-align: right;\">\n",
              "      <th></th>\n",
              "      <th>DateTime</th>\n",
              "      <th>사용자</th>\n",
              "      <th>세션</th>\n",
              "      <th>신규방문자</th>\n",
              "      <th>페이지뷰</th>\n",
              "    </tr>\n",
              "  </thead>\n",
              "  <tbody>\n",
              "    <tr>\n",
              "      <th>0</th>\n",
              "      <td>2020-12-09</td>\n",
              "      <td>2186</td>\n",
              "      <td>2147</td>\n",
              "      <td>490</td>\n",
              "      <td>53605</td>\n",
              "    </tr>\n",
              "    <tr>\n",
              "      <th>1</th>\n",
              "      <td>2020-12-10</td>\n",
              "      <td>3065</td>\n",
              "      <td>3035</td>\n",
              "      <td>761</td>\n",
              "      <td>71873</td>\n",
              "    </tr>\n",
              "    <tr>\n",
              "      <th>2</th>\n",
              "      <td>2020-12-11</td>\n",
              "      <td>3682</td>\n",
              "      <td>3573</td>\n",
              "      <td>957</td>\n",
              "      <td>101012</td>\n",
              "    </tr>\n",
              "    <tr>\n",
              "      <th>3</th>\n",
              "      <td>2020-12-12</td>\n",
              "      <td>2105</td>\n",
              "      <td>2018</td>\n",
              "      <td>484</td>\n",
              "      <td>49675</td>\n",
              "    </tr>\n",
              "    <tr>\n",
              "      <th>4</th>\n",
              "      <td>2020-12-13</td>\n",
              "      <td>2007</td>\n",
              "      <td>1956</td>\n",
              "      <td>429</td>\n",
              "      <td>47148</td>\n",
              "    </tr>\n",
              "  </tbody>\n",
              "</table>\n",
              "</div>"
            ],
            "text/plain": [
              "     DateTime   사용자    세션  신규방문자    페이지뷰\n",
              "0  2020-12-09  2186  2147    490   53605\n",
              "1  2020-12-10  3065  3035    761   71873\n",
              "2  2020-12-11  3682  3573    957  101012\n",
              "3  2020-12-12  2105  2018    484   49675\n",
              "4  2020-12-13  2007  1956    429   47148"
            ]
          },
          "metadata": {
            "tags": []
          },
          "execution_count": 227
        }
      ]
    },
    {
      "cell_type": "code",
      "metadata": {
        "id": "UeUT41zKMnRF"
      },
      "source": [
        "submission.to_csv('2차_공휴일 feature.csv', index = False, encoding = 'euc-kr')"
      ],
      "execution_count": null,
      "outputs": []
    },
    {
      "cell_type": "markdown",
      "metadata": {
        "id": "G0ARyON_J5BK"
      },
      "source": [
        "#### 결과 제일 좋았던, 나빴던 파일이랑 predict를 비교"
      ]
    },
    {
      "cell_type": "code",
      "metadata": {
        "id": "6EvX_gyeMV9R"
      },
      "source": [
        "submission.set_index('DateTime', inplace = True)\r\n",
        "submission.index = pd.to_datetime(submission.index)\r\n",
        "# submission.head()"
      ],
      "execution_count": null,
      "outputs": []
    },
    {
      "cell_type": "code",
      "metadata": {
        "id": "yZ0zZ_iTJiyX"
      },
      "source": [
        "path2 = \"/content/drive/MyDrive/Colab Notebooks/DACONCUP 주희\""
      ],
      "execution_count": null,
      "outputs": []
    },
    {
      "cell_type": "code",
      "metadata": {
        "colab": {
          "base_uri": "https://localhost:8080/",
          "height": 233
        },
        "id": "40zTUOVqVQ1k",
        "outputId": "613e5a0c-ebe8-4326-bbd1-337cbbd4d816"
      },
      "source": [
        "# 2차데이터 \r\n",
        "#20년 11월 9일 ~ 12월 8일\r\n",
        "\r\n",
        "\r\n",
        "train2 = pd.read_csv('/content/drive/MyDrive/Colab Notebooks/DACON CUP/' + '/open_data/2차_open_data/2차_train.csv', encoding='euc-kr')\r\n",
        "\r\n",
        "# date 기준으로.\r\n",
        "train2['DateTime'] = pd.to_datetime(train2.DateTime) #dtype: datetime으로 변경\r\n",
        "train2['DateTime'] = train2.DateTime.dt.date\r\n",
        "train2  = train2.groupby('DateTime').sum().reset_index()\r\n",
        "\r\n",
        "train2.set_index('DateTime', inplace = True)\r\n",
        "train2.index = pd.to_datetime(train2.index)\r\n",
        "\r\n",
        "train2.head()"
      ],
      "execution_count": null,
      "outputs": [
        {
          "output_type": "execute_result",
          "data": {
            "text/html": [
              "<div>\n",
              "<style scoped>\n",
              "    .dataframe tbody tr th:only-of-type {\n",
              "        vertical-align: middle;\n",
              "    }\n",
              "\n",
              "    .dataframe tbody tr th {\n",
              "        vertical-align: top;\n",
              "    }\n",
              "\n",
              "    .dataframe thead th {\n",
              "        text-align: right;\n",
              "    }\n",
              "</style>\n",
              "<table border=\"1\" class=\"dataframe\">\n",
              "  <thead>\n",
              "    <tr style=\"text-align: right;\">\n",
              "      <th></th>\n",
              "      <th>사용자</th>\n",
              "      <th>세션</th>\n",
              "      <th>신규방문자</th>\n",
              "      <th>페이지뷰</th>\n",
              "    </tr>\n",
              "    <tr>\n",
              "      <th>DateTime</th>\n",
              "      <th></th>\n",
              "      <th></th>\n",
              "      <th></th>\n",
              "      <th></th>\n",
              "    </tr>\n",
              "  </thead>\n",
              "  <tbody>\n",
              "    <tr>\n",
              "      <th>2020-11-09</th>\n",
              "      <td>4364</td>\n",
              "      <td>4340</td>\n",
              "      <td>1143</td>\n",
              "      <td>95408</td>\n",
              "    </tr>\n",
              "    <tr>\n",
              "      <th>2020-11-10</th>\n",
              "      <td>4370</td>\n",
              "      <td>4256</td>\n",
              "      <td>1137</td>\n",
              "      <td>99623</td>\n",
              "    </tr>\n",
              "    <tr>\n",
              "      <th>2020-11-11</th>\n",
              "      <td>4492</td>\n",
              "      <td>4449</td>\n",
              "      <td>1071</td>\n",
              "      <td>114438</td>\n",
              "    </tr>\n",
              "    <tr>\n",
              "      <th>2020-11-12</th>\n",
              "      <td>3998</td>\n",
              "      <td>3899</td>\n",
              "      <td>796</td>\n",
              "      <td>94730</td>\n",
              "    </tr>\n",
              "    <tr>\n",
              "      <th>2020-11-13</th>\n",
              "      <td>4130</td>\n",
              "      <td>3967</td>\n",
              "      <td>835</td>\n",
              "      <td>101484</td>\n",
              "    </tr>\n",
              "  </tbody>\n",
              "</table>\n",
              "</div>"
            ],
            "text/plain": [
              "             사용자    세션  신규방문자    페이지뷰\n",
              "DateTime                             \n",
              "2020-11-09  4364  4340   1143   95408\n",
              "2020-11-10  4370  4256   1137   99623\n",
              "2020-11-11  4492  4449   1071  114438\n",
              "2020-11-12  3998  3899    796   94730\n",
              "2020-11-13  4130  3967    835  101484"
            ]
          },
          "metadata": {
            "tags": []
          },
          "execution_count": 231
        }
      ]
    },
    {
      "cell_type": "code",
      "metadata": {
        "id": "IKzXETTdZjDM"
      },
      "source": [
        "best = pd.read_csv(path + '/submit_data/best공휴일+xgb_new.csv', encoding = 'euc-kr')\r\n",
        "best = best.iloc[30:]\r\n",
        "best.set_index('DateTime', inplace = True)\r\n",
        "best.index = pd.to_datetime(best.index)\r\n",
        "\r\n",
        "\r\n",
        "# lstm\r\n",
        "lstm_sub_best = pd.read_csv(path + '/submit_data/공휴일 feature.csv', encoding = 'euc-kr')\r\n",
        "#lstm_sub_best = pd.read_csv(path2 + '/best+holiday+1.1.csv', encoding = 'euc-kr')\r\n",
        "lstm_sub_best = lstm_sub_best.iloc[30:]\r\n",
        "lstm_sub_best.set_index('DateTime', inplace = True)\r\n",
        "lstm_sub_best.index = pd.to_datetime(lstm_sub_best.index)\r\n",
        "\r\n",
        "\r\n",
        "xgb_sub_best = pd.read_csv(path + '/submit_data/xgb_distribute_new.csv', encoding = 'euc-kr')\r\n",
        "xgb_sub_best = xgb_sub_best.iloc[30:]\r\n",
        "xgb_sub_best.set_index('DateTime', inplace = True)\r\n",
        "xgb_sub_best.index = pd.to_datetime(xgb_sub_best.index)\r\n"
      ],
      "execution_count": null,
      "outputs": []
    },
    {
      "cell_type": "code",
      "metadata": {
        "id": "sCT4at_iSIP5",
        "colab": {
          "base_uri": "https://localhost:8080/",
          "height": 55
        },
        "outputId": "31816c28-f74e-4970-c9ea-2fa7343c383d"
      },
      "source": [
        "\"\"\"worst = pd.read_csv(path2+'/submit/seed40_add 날짜feature.csv', encoding = 'euc-kr')\r\n",
        "# worst = pd.read_csv(path2 + '/submit/lstm5 e150 b10.csv', encoding = 'euc-kr')\r\n",
        "worst.set_index('DateTime', inplace = True)\r\n",
        "worst.index = pd.to_datetime(best.index)\r\n",
        "#worst.head()\"\"\""
      ],
      "execution_count": null,
      "outputs": [
        {
          "output_type": "execute_result",
          "data": {
            "application/vnd.google.colaboratory.intrinsic+json": {
              "type": "string"
            },
            "text/plain": [
              "\"worst = pd.read_csv(path2+'/submit/seed40_add 날짜feature.csv', encoding = 'euc-kr')\\n# worst = pd.read_csv(path2 + '/submit/lstm5 e150 b10.csv', encoding = 'euc-kr')\\nworst.set_index('DateTime', inplace = True)\\nworst.index = pd.to_datetime(best.index)\\n#worst.head()\""
            ]
          },
          "metadata": {
            "tags": []
          },
          "execution_count": 233
        }
      ]
    },
    {
      "cell_type": "code",
      "metadata": {
        "id": "qgpdgvAzKK9R",
        "colab": {
          "base_uri": "https://localhost:8080/",
          "height": 345
        },
        "outputId": "50246ff0-bc90-48e5-f82c-68199d2cd3da"
      },
      "source": [
        "# plot expected vs preducted\r\n",
        "\r\n",
        "\r\n",
        "plt.figure(figsize = (25,7))\r\n",
        "#pyplot.plot(train2['사용자'], label='best')\r\n",
        "pyplot.plot(best['사용자'], label='best')\r\n",
        "pyplot.plot(lstm_sub_best['사용자'], label='lstm_sub_best')\r\n",
        "pyplot.plot(submission['사용자'], label='Predicted')\r\n",
        "#pyplot.plot(xgb_sub_best['사용자'], label='xgb_sub_best')\r\n",
        "\r\n",
        "#pyplot.plot(worst['사용자'], label = 'worst')\r\n",
        "pyplot.legend()\r\n",
        "pyplot.show()"
      ],
      "execution_count": null,
      "outputs": [
        {
          "output_type": "display_data",
          "data": {
            "image/png": "[encoded data removed]",
            "text/plain": [
              "<Figure size 1800x504 with 1 Axes>"
            ]
          },
          "metadata": {
            "tags": [],
            "needs_background": "light"
          }
        }
      ]
    },
    {
      "cell_type": "code",
      "metadata": {
        "id": "GBhRD3aLLPV4",
        "colab": {
          "base_uri": "https://localhost:8080/",
          "height": 345
        },
        "outputId": "62dbd5dd-2498-4afc-b34d-f90307e8ee76"
      },
      "source": [
        "plt.figure(figsize = (25,7))\r\n",
        "pyplot.plot(best['신규방문자'], label='best')\r\n",
        "pyplot.plot(lstm_sub_best['신규방문자'], label='lstm_sub_best')\r\n",
        "pyplot.plot(submission['신규방문자'], label='Predicted')\r\n",
        "\r\n",
        "#pyplot.plot(xgb_sub_best['신규방문자'], label='xgb_sub_best')\r\n",
        "\r\n",
        "#pyplot.plot(worst['신규방문자'], label = 'worst')\r\n",
        "pyplot.legend()\r\n",
        "pyplot.show()"
      ],
      "execution_count": null,
      "outputs": [
        {
          "output_type": "display_data",
          "data": {
            "image/png": "[encoded data removed]",
            "text/plain": [
              "<Figure size 1800x504 with 1 Axes>"
            ]
          },
          "metadata": {
            "tags": [],
            "needs_background": "light"
          }
        }
      ]
    },
    {
      "cell_type": "code",
      "metadata": {
        "id": "VBs3Ig9sLHcw",
        "colab": {
          "base_uri": "https://localhost:8080/",
          "height": 345
        },
        "outputId": "09fe5a2b-f53b-4045-dd69-d4941edd0b0f"
      },
      "source": [
        "\r\n",
        "plt.figure(figsize = (25,7))\r\n",
        "pyplot.plot(best['세션'], label='best')\r\n",
        "pyplot.plot(lstm_sub_best['세션'], label='lstm_sub_best')\r\n",
        "pyplot.plot(submission['세션'], label='Predicted')\r\n",
        "\r\n",
        "#pyplot.plot(xgb_sub_best['세션'], label='xgb_sub_best')\r\n",
        "\r\n",
        "#pyplot.plot(worst['세션'], label = 'worst')\r\n",
        "pyplot.legend()\r\n",
        "pyplot.show()"
      ],
      "execution_count": null,
      "outputs": [
        {
          "output_type": "display_data",
          "data": {
            "image/png": "[encoded data removed]",
            "text/plain": [
              "<Figure size 1800x504 with 1 Axes>"
            ]
          },
          "metadata": {
            "tags": [],
            "needs_background": "light"
          }
        }
      ]
    },
    {
      "cell_type": "code",
      "metadata": {
        "id": "NV6qNNQoLPZT",
        "colab": {
          "base_uri": "https://localhost:8080/",
          "height": 343
        },
        "outputId": "aabe4938-2b38-4816-8bb5-fa44b7e60075"
      },
      "source": [
        "\r\n",
        "plt.figure(figsize = (25,7))\r\n",
        "pyplot.plot(best['페이지뷰'], label='best')\r\n",
        "pyplot.plot(lstm_sub_best['페이지뷰'], label='lstm_sub_best')\r\n",
        "pyplot.plot(submission['페이지뷰'], label='Predicted')\r\n",
        "\r\n",
        "#pyplot.plot(xgb_sub_best['페이지뷰'], label='xgb_sub_best')\r\n",
        "#pyplot.plot(worst['페이지뷰'], label = 'worst')\r\n",
        "pyplot.legend()\r\n",
        "pyplot.show()"
      ],
      "execution_count": null,
      "outputs": [
        {
          "output_type": "display_data",
          "data": {
            "image/png": "[encoded data removed]",
            "text/plain": [
              "<Figure size 1800x504 with 1 Axes>"
            ]
          },
          "metadata": {
            "tags": [],
            "needs_background": "light"
          }
        }
      ]
    },
    {
      "cell_type": "markdown",
      "metadata": {
        "id": "XLF-l5iKM46Q"
      },
      "source": [
        "- 위에 잘 예측하지 못하는 부분들은 조금 튀는 값인 것 같음\r\n",
        "- 해당 일자에 어떤 특징(개최된 대회 등)을 파악\r\n",
        "- 이후 1) 제거 또는 2) 특징 적용  (추세파악과 관련없다면 제거하기)"
      ]
    },
    {
      "cell_type": "code",
      "metadata": {
        "id": "EYr8KEnDjgQ1"
      },
      "source": [
        ""
      ],
      "execution_count": null,
      "outputs": []
    }
  ]
}