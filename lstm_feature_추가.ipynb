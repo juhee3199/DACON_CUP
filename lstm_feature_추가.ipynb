{
  "nbformat": 4,
  "nbformat_minor": 0,
  "metadata": {
    "colab": {
      "name": "lstm_feature 추가.ipynb",
      "provenance": [],
      "collapsed_sections": [
        "Li0vASmhIIhr",
        "HbonwFz84uV5"
      ]
    },
    "kernelspec": {
      "name": "python3",
      "display_name": "Python 3"
    }
  },
  "cells": [
    {
      "cell_type": "code",
      "metadata": {
        "id": "WHrGQAT_3z6X"
      },
      "source": [
        "import numpy as np\r\n",
        "import pandas as pd\r\n",
        "\r\n",
        "from datetime import datetime\r\n",
        "from sklearn.model_selection import train_test_split\r\n",
        "\r\n",
        "from matplotlib import pyplot\r\n",
        "import matplotlib.pyplot as plt"
      ],
      "execution_count": 378,
      "outputs": []
    },
    {
      "cell_type": "code",
      "metadata": {
        "id": "fH1TWRdi4eLu",
        "colab": {
          "base_uri": "https://localhost:8080/",
          "height": 200
        },
        "outputId": "8e06d06f-8eb5-417e-e525-a140c50978c2"
      },
      "source": [
        "path = '/content/drive/MyDrive/Colab Notebooks/DACON CUP'\r\n",
        "\r\n",
        "train_df = pd.read_csv(path + '/open_data/train.csv', encoding = 'euc-kr')\r\n",
        "train_df.head()"
      ],
      "execution_count": 581,
      "outputs": [
        {
          "output_type": "execute_result",
          "data": {
            "text/html": [
              "<div>\n",
              "<style scoped>\n",
              "    .dataframe tbody tr th:only-of-type {\n",
              "        vertical-align: middle;\n",
              "    }\n",
              "\n",
              "    .dataframe tbody tr th {\n",
              "        vertical-align: top;\n",
              "    }\n",
              "\n",
              "    .dataframe thead th {\n",
              "        text-align: right;\n",
              "    }\n",
              "</style>\n",
              "<table border=\"1\" class=\"dataframe\">\n",
              "  <thead>\n",
              "    <tr style=\"text-align: right;\">\n",
              "      <th></th>\n",
              "      <th>DateTime</th>\n",
              "      <th>사용자</th>\n",
              "      <th>세션</th>\n",
              "      <th>신규방문자</th>\n",
              "      <th>페이지뷰</th>\n",
              "    </tr>\n",
              "  </thead>\n",
              "  <tbody>\n",
              "    <tr>\n",
              "      <th>0</th>\n",
              "      <td>2018-09-09 00:00:00</td>\n",
              "      <td>19</td>\n",
              "      <td>19</td>\n",
              "      <td>8</td>\n",
              "      <td>206</td>\n",
              "    </tr>\n",
              "    <tr>\n",
              "      <th>1</th>\n",
              "      <td>2018-09-09 01:00:00</td>\n",
              "      <td>20</td>\n",
              "      <td>19</td>\n",
              "      <td>9</td>\n",
              "      <td>259</td>\n",
              "    </tr>\n",
              "    <tr>\n",
              "      <th>2</th>\n",
              "      <td>2018-09-09 02:00:00</td>\n",
              "      <td>12</td>\n",
              "      <td>9</td>\n",
              "      <td>1</td>\n",
              "      <td>48</td>\n",
              "    </tr>\n",
              "    <tr>\n",
              "      <th>3</th>\n",
              "      <td>2018-09-09 03:00:00</td>\n",
              "      <td>10</td>\n",
              "      <td>10</td>\n",
              "      <td>2</td>\n",
              "      <td>102</td>\n",
              "    </tr>\n",
              "    <tr>\n",
              "      <th>4</th>\n",
              "      <td>2018-09-09 04:00:00</td>\n",
              "      <td>6</td>\n",
              "      <td>5</td>\n",
              "      <td>3</td>\n",
              "      <td>18</td>\n",
              "    </tr>\n",
              "  </tbody>\n",
              "</table>\n",
              "</div>"
            ],
            "text/plain": [
              "              DateTime  사용자  세션  신규방문자  페이지뷰\n",
              "0  2018-09-09 00:00:00   19  19      8   206\n",
              "1  2018-09-09 01:00:00   20  19      9   259\n",
              "2  2018-09-09 02:00:00   12   9      1    48\n",
              "3  2018-09-09 03:00:00   10  10      2   102\n",
              "4  2018-09-09 04:00:00    6   5      3    18"
            ]
          },
          "metadata": {
            "tags": []
          },
          "execution_count": 581
        }
      ]
    },
    {
      "cell_type": "code",
      "metadata": {
        "id": "YsCktWIeAIWq",
        "colab": {
          "base_uri": "https://localhost:8080/"
        },
        "outputId": "152f79ee-1e24-4286-8eea-cc29a4058bfd"
      },
      "source": [
        "train_df.info()"
      ],
      "execution_count": 582,
      "outputs": [
        {
          "output_type": "stream",
          "text": [
            "<class 'pandas.core.frame.DataFrame'>\n",
            "RangeIndex: 19008 entries, 0 to 19007\n",
            "Data columns (total 5 columns):\n",
            " #   Column    Non-Null Count  Dtype \n",
            "---  ------    --------------  ----- \n",
            " 0   DateTime  19008 non-null  object\n",
            " 1   사용자       19008 non-null  int64 \n",
            " 2   세션        19008 non-null  int64 \n",
            " 3   신규방문자     19008 non-null  int64 \n",
            " 4   페이지뷰      19008 non-null  int64 \n",
            "dtypes: int64(4), object(1)\n",
            "memory usage: 742.6+ KB\n"
          ],
          "name": "stdout"
        }
      ]
    },
    {
      "cell_type": "code",
      "metadata": {
        "id": "eOujb_mO_676",
        "colab": {
          "base_uri": "https://localhost:8080/",
          "height": 200
        },
        "outputId": "88431949-2aad-4605-be7a-e0270a9e1ec3"
      },
      "source": [
        "# date 기준으로.\r\n",
        "\r\n",
        "train_df['DateTime'] = pd.to_datetime(train_df.DateTime) #dtype: datetime으로 변경\r\n",
        "train_df['date'] = train_df.DateTime.dt.date\r\n",
        "train_df  = train_df.groupby('date').sum().reset_index()\r\n",
        "train_df.head()"
      ],
      "execution_count": 584,
      "outputs": [
        {
          "output_type": "execute_result",
          "data": {
            "text/html": [
              "<div>\n",
              "<style scoped>\n",
              "    .dataframe tbody tr th:only-of-type {\n",
              "        vertical-align: middle;\n",
              "    }\n",
              "\n",
              "    .dataframe tbody tr th {\n",
              "        vertical-align: top;\n",
              "    }\n",
              "\n",
              "    .dataframe thead th {\n",
              "        text-align: right;\n",
              "    }\n",
              "</style>\n",
              "<table border=\"1\" class=\"dataframe\">\n",
              "  <thead>\n",
              "    <tr style=\"text-align: right;\">\n",
              "      <th></th>\n",
              "      <th>date</th>\n",
              "      <th>사용자</th>\n",
              "      <th>세션</th>\n",
              "      <th>신규방문자</th>\n",
              "      <th>페이지뷰</th>\n",
              "    </tr>\n",
              "  </thead>\n",
              "  <tbody>\n",
              "    <tr>\n",
              "      <th>0</th>\n",
              "      <td>2018-09-09</td>\n",
              "      <td>281</td>\n",
              "      <td>266</td>\n",
              "      <td>73</td>\n",
              "      <td>1826</td>\n",
              "    </tr>\n",
              "    <tr>\n",
              "      <th>1</th>\n",
              "      <td>2018-09-10</td>\n",
              "      <td>264</td>\n",
              "      <td>247</td>\n",
              "      <td>51</td>\n",
              "      <td>2092</td>\n",
              "    </tr>\n",
              "    <tr>\n",
              "      <th>2</th>\n",
              "      <td>2018-09-11</td>\n",
              "      <td>329</td>\n",
              "      <td>310</td>\n",
              "      <td>58</td>\n",
              "      <td>1998</td>\n",
              "    </tr>\n",
              "    <tr>\n",
              "      <th>3</th>\n",
              "      <td>2018-09-12</td>\n",
              "      <td>300</td>\n",
              "      <td>287</td>\n",
              "      <td>45</td>\n",
              "      <td>2595</td>\n",
              "    </tr>\n",
              "    <tr>\n",
              "      <th>4</th>\n",
              "      <td>2018-09-13</td>\n",
              "      <td>378</td>\n",
              "      <td>344</td>\n",
              "      <td>50</td>\n",
              "      <td>3845</td>\n",
              "    </tr>\n",
              "  </tbody>\n",
              "</table>\n",
              "</div>"
            ],
            "text/plain": [
              "         date  사용자   세션  신규방문자  페이지뷰\n",
              "0  2018-09-09  281  266     73  1826\n",
              "1  2018-09-10  264  247     51  2092\n",
              "2  2018-09-11  329  310     58  1998\n",
              "3  2018-09-12  300  287     45  2595\n",
              "4  2018-09-13  378  344     50  3845"
            ]
          },
          "metadata": {
            "tags": []
          },
          "execution_count": 584
        }
      ]
    },
    {
      "cell_type": "code",
      "metadata": {
        "id": "CM7Hluyg9nrO"
      },
      "source": [
        "# date 기준 변수 만들기\r\n",
        "\r\n",
        "\r\n",
        "\r\n",
        "def create_features(df):\r\n",
        "    \"\"\"\r\n",
        "    Creates time series features from datetime index\r\n",
        "    \"\"\"\r\n",
        "    # df['DateTime'] = df.index\r\n",
        "    # df['hour'] = df['date'].dt.hour\r\n",
        "    df['dayofweek'] = pd.to_datetime(df['date']).dt.dayofweek #요일\r\n",
        "    df['quarter'] = pd.to_datetime(df['date']).dt.quarter \r\n",
        "    df['month'] = pd.to_datetime(df['date']).dt.month\r\n",
        "    df['year'] = pd.to_datetime(df['date']).dt.year # 날짜의 해당 연도 시작에서부터의 일 수를 반환 \r\n",
        "    df['dayofyear'] = pd.to_datetime(df['date']).dt.dayofyear\r\n",
        "    df['dayofmonth'] = pd.to_datetime(df['date']).dt.day\r\n",
        "    df['weekofyear'] = pd.to_datetime(df['date']).dt.weekofyear\r\n",
        "    \r\n",
        "    X = df[['사용자','세션','신규방문자','페이지뷰','date','dayofweek','quarter','month','year' #]]\r\n",
        "           ,'dayofyear','dayofmonth','weekofyear']]\r\n",
        "    X.set_index('date', inplace = True)\r\n",
        "    X.index = pd.to_datetime(X.index)\r\n",
        "    return X"
      ],
      "execution_count": 619,
      "outputs": []
    },
    {
      "cell_type": "code",
      "metadata": {
        "colab": {
          "base_uri": "https://localhost:8080/",
          "height": 479
        },
        "id": "am_esN9k-CjW",
        "outputId": "cce3bd99-4b00-4571-d9f2-92a908205c65"
      },
      "source": [
        "train = create_features(train_df)\r\n",
        "train"
      ],
      "execution_count": 620,
      "outputs": [
        {
          "output_type": "stream",
          "text": [
            "/usr/local/lib/python3.6/dist-packages/ipykernel_launcher.py:17: FutureWarning: Series.dt.weekofyear and Series.dt.week have been deprecated.  Please use Series.dt.isocalendar().week instead.\n"
          ],
          "name": "stderr"
        },
        {
          "output_type": "execute_result",
          "data": {
            "text/html": [
              "<div>\n",
              "<style scoped>\n",
              "    .dataframe tbody tr th:only-of-type {\n",
              "        vertical-align: middle;\n",
              "    }\n",
              "\n",
              "    .dataframe tbody tr th {\n",
              "        vertical-align: top;\n",
              "    }\n",
              "\n",
              "    .dataframe thead th {\n",
              "        text-align: right;\n",
              "    }\n",
              "</style>\n",
              "<table border=\"1\" class=\"dataframe\">\n",
              "  <thead>\n",
              "    <tr style=\"text-align: right;\">\n",
              "      <th></th>\n",
              "      <th>사용자</th>\n",
              "      <th>세션</th>\n",
              "      <th>신규방문자</th>\n",
              "      <th>페이지뷰</th>\n",
              "      <th>dayofweek</th>\n",
              "      <th>quarter</th>\n",
              "      <th>month</th>\n",
              "      <th>year</th>\n",
              "      <th>dayofyear</th>\n",
              "      <th>dayofmonth</th>\n",
              "      <th>weekofyear</th>\n",
              "    </tr>\n",
              "    <tr>\n",
              "      <th>date</th>\n",
              "      <th></th>\n",
              "      <th></th>\n",
              "      <th></th>\n",
              "      <th></th>\n",
              "      <th></th>\n",
              "      <th></th>\n",
              "      <th></th>\n",
              "      <th></th>\n",
              "      <th></th>\n",
              "      <th></th>\n",
              "      <th></th>\n",
              "    </tr>\n",
              "  </thead>\n",
              "  <tbody>\n",
              "    <tr>\n",
              "      <th>2018-09-09</th>\n",
              "      <td>281</td>\n",
              "      <td>266</td>\n",
              "      <td>73</td>\n",
              "      <td>1826</td>\n",
              "      <td>6</td>\n",
              "      <td>3</td>\n",
              "      <td>9</td>\n",
              "      <td>2018</td>\n",
              "      <td>252</td>\n",
              "      <td>9</td>\n",
              "      <td>36</td>\n",
              "    </tr>\n",
              "    <tr>\n",
              "      <th>2018-09-10</th>\n",
              "      <td>264</td>\n",
              "      <td>247</td>\n",
              "      <td>51</td>\n",
              "      <td>2092</td>\n",
              "      <td>0</td>\n",
              "      <td>3</td>\n",
              "      <td>9</td>\n",
              "      <td>2018</td>\n",
              "      <td>253</td>\n",
              "      <td>10</td>\n",
              "      <td>37</td>\n",
              "    </tr>\n",
              "    <tr>\n",
              "      <th>2018-09-11</th>\n",
              "      <td>329</td>\n",
              "      <td>310</td>\n",
              "      <td>58</td>\n",
              "      <td>1998</td>\n",
              "      <td>1</td>\n",
              "      <td>3</td>\n",
              "      <td>9</td>\n",
              "      <td>2018</td>\n",
              "      <td>254</td>\n",
              "      <td>11</td>\n",
              "      <td>37</td>\n",
              "    </tr>\n",
              "    <tr>\n",
              "      <th>2018-09-12</th>\n",
              "      <td>300</td>\n",
              "      <td>287</td>\n",
              "      <td>45</td>\n",
              "      <td>2595</td>\n",
              "      <td>2</td>\n",
              "      <td>3</td>\n",
              "      <td>9</td>\n",
              "      <td>2018</td>\n",
              "      <td>255</td>\n",
              "      <td>12</td>\n",
              "      <td>37</td>\n",
              "    </tr>\n",
              "    <tr>\n",
              "      <th>2018-09-13</th>\n",
              "      <td>378</td>\n",
              "      <td>344</td>\n",
              "      <td>50</td>\n",
              "      <td>3845</td>\n",
              "      <td>3</td>\n",
              "      <td>3</td>\n",
              "      <td>9</td>\n",
              "      <td>2018</td>\n",
              "      <td>256</td>\n",
              "      <td>13</td>\n",
              "      <td>37</td>\n",
              "    </tr>\n",
              "    <tr>\n",
              "      <th>...</th>\n",
              "      <td>...</td>\n",
              "      <td>...</td>\n",
              "      <td>...</td>\n",
              "      <td>...</td>\n",
              "      <td>...</td>\n",
              "      <td>...</td>\n",
              "      <td>...</td>\n",
              "      <td>...</td>\n",
              "      <td>...</td>\n",
              "      <td>...</td>\n",
              "      <td>...</td>\n",
              "    </tr>\n",
              "    <tr>\n",
              "      <th>2020-11-04</th>\n",
              "      <td>4516</td>\n",
              "      <td>4472</td>\n",
              "      <td>1196</td>\n",
              "      <td>112683</td>\n",
              "      <td>2</td>\n",
              "      <td>4</td>\n",
              "      <td>11</td>\n",
              "      <td>2020</td>\n",
              "      <td>309</td>\n",
              "      <td>4</td>\n",
              "      <td>45</td>\n",
              "    </tr>\n",
              "    <tr>\n",
              "      <th>2020-11-05</th>\n",
              "      <td>4155</td>\n",
              "      <td>4037</td>\n",
              "      <td>1044</td>\n",
              "      <td>102901</td>\n",
              "      <td>3</td>\n",
              "      <td>4</td>\n",
              "      <td>11</td>\n",
              "      <td>2020</td>\n",
              "      <td>310</td>\n",
              "      <td>5</td>\n",
              "      <td>45</td>\n",
              "    </tr>\n",
              "    <tr>\n",
              "      <th>2020-11-06</th>\n",
              "      <td>3663</td>\n",
              "      <td>3576</td>\n",
              "      <td>825</td>\n",
              "      <td>88015</td>\n",
              "      <td>4</td>\n",
              "      <td>4</td>\n",
              "      <td>11</td>\n",
              "      <td>2020</td>\n",
              "      <td>311</td>\n",
              "      <td>6</td>\n",
              "      <td>45</td>\n",
              "    </tr>\n",
              "    <tr>\n",
              "      <th>2020-11-07</th>\n",
              "      <td>2472</td>\n",
              "      <td>2417</td>\n",
              "      <td>531</td>\n",
              "      <td>57386</td>\n",
              "      <td>5</td>\n",
              "      <td>4</td>\n",
              "      <td>11</td>\n",
              "      <td>2020</td>\n",
              "      <td>312</td>\n",
              "      <td>7</td>\n",
              "      <td>45</td>\n",
              "    </tr>\n",
              "    <tr>\n",
              "      <th>2020-11-08</th>\n",
              "      <td>2492</td>\n",
              "      <td>2420</td>\n",
              "      <td>522</td>\n",
              "      <td>50486</td>\n",
              "      <td>6</td>\n",
              "      <td>4</td>\n",
              "      <td>11</td>\n",
              "      <td>2020</td>\n",
              "      <td>313</td>\n",
              "      <td>8</td>\n",
              "      <td>45</td>\n",
              "    </tr>\n",
              "  </tbody>\n",
              "</table>\n",
              "<p>792 rows × 11 columns</p>\n",
              "</div>"
            ],
            "text/plain": [
              "             사용자    세션  신규방문자    페이지뷰  ...  year  dayofyear  dayofmonth  weekofyear\n",
              "date                                   ...                                         \n",
              "2018-09-09   281   266     73    1826  ...  2018        252           9          36\n",
              "2018-09-10   264   247     51    2092  ...  2018        253          10          37\n",
              "2018-09-11   329   310     58    1998  ...  2018        254          11          37\n",
              "2018-09-12   300   287     45    2595  ...  2018        255          12          37\n",
              "2018-09-13   378   344     50    3845  ...  2018        256          13          37\n",
              "...          ...   ...    ...     ...  ...   ...        ...         ...         ...\n",
              "2020-11-04  4516  4472   1196  112683  ...  2020        309           4          45\n",
              "2020-11-05  4155  4037   1044  102901  ...  2020        310           5          45\n",
              "2020-11-06  3663  3576    825   88015  ...  2020        311           6          45\n",
              "2020-11-07  2472  2417    531   57386  ...  2020        312           7          45\n",
              "2020-11-08  2492  2420    522   50486  ...  2020        313           8          45\n",
              "\n",
              "[792 rows x 11 columns]"
            ]
          },
          "metadata": {
            "tags": []
          },
          "execution_count": 620
        }
      ]
    },
    {
      "cell_type": "code",
      "metadata": {
        "colab": {
          "base_uri": "https://localhost:8080/"
        },
        "id": "VsQqMW3Eo-dR",
        "outputId": "51d78f60-4881-4c6a-9ecb-3024ebc8845e"
      },
      "source": [
        "# len(train['dayofyear'].unique())"
      ],
      "execution_count": 600,
      "outputs": [
        {
          "output_type": "execute_result",
          "data": {
            "text/plain": [
              "365"
            ]
          },
          "metadata": {
            "tags": []
          },
          "execution_count": 600
        }
      ]
    },
    {
      "cell_type": "markdown",
      "metadata": {
        "id": "3JD9OY69UYVw"
      },
      "source": [
        "##### EDA "
      ]
    },
    {
      "cell_type": "code",
      "metadata": {
        "colab": {
          "base_uri": "https://localhost:8080/",
          "height": 1000
        },
        "id": "Hck4wCd6UcXf",
        "outputId": "a498a51c-8128-4e0c-dd33-6c67557c7aa1"
      },
      "source": [
        "# quarter간에 차이가 있는지 확인\r\n",
        "\r\n",
        "fig, axes = plt.subplots(4, 1, figsize=(8, 20))\r\n",
        "axes[0].bar(train['quarter'], train['사용자'], color='r')\r\n",
        "axes[1].bar(train['quarter'], train['세션'], color='g')\r\n",
        "axes[2].bar(train['quarter'], train['신규방문자'], color='b')\r\n",
        "axes[3].bar(train['quarter'], train['페이지뷰'], color='c')\r\n",
        "for i, title in enumerate(['사용자','세션','신규방문자','페이지뷰']):\r\n",
        "    axes[i].set_title(title)\r\n",
        "plt.show()"
      ],
      "execution_count": 555,
      "outputs": [
        {
          "output_type": "stream",
          "text": [
            "/usr/local/lib/python3.6/dist-packages/matplotlib/backends/backend_agg.py:214: RuntimeWarning: Glyph 49324 missing from current font.\n",
            "  font.set_text(s, 0.0, flags=flags)\n",
            "/usr/local/lib/python3.6/dist-packages/matplotlib/backends/backend_agg.py:214: RuntimeWarning: Glyph 50857 missing from current font.\n",
            "  font.set_text(s, 0.0, flags=flags)\n",
            "/usr/local/lib/python3.6/dist-packages/matplotlib/backends/backend_agg.py:214: RuntimeWarning: Glyph 51088 missing from current font.\n",
            "  font.set_text(s, 0.0, flags=flags)\n",
            "/usr/local/lib/python3.6/dist-packages/matplotlib/backends/backend_agg.py:214: RuntimeWarning: Glyph 49464 missing from current font.\n",
            "  font.set_text(s, 0.0, flags=flags)\n",
            "/usr/local/lib/python3.6/dist-packages/matplotlib/backends/backend_agg.py:214: RuntimeWarning: Glyph 49496 missing from current font.\n",
            "  font.set_text(s, 0.0, flags=flags)\n",
            "/usr/local/lib/python3.6/dist-packages/matplotlib/backends/backend_agg.py:214: RuntimeWarning: Glyph 49888 missing from current font.\n",
            "  font.set_text(s, 0.0, flags=flags)\n",
            "/usr/local/lib/python3.6/dist-packages/matplotlib/backends/backend_agg.py:214: RuntimeWarning: Glyph 44508 missing from current font.\n",
            "  font.set_text(s, 0.0, flags=flags)\n",
            "/usr/local/lib/python3.6/dist-packages/matplotlib/backends/backend_agg.py:214: RuntimeWarning: Glyph 48169 missing from current font.\n",
            "  font.set_text(s, 0.0, flags=flags)\n",
            "/usr/local/lib/python3.6/dist-packages/matplotlib/backends/backend_agg.py:214: RuntimeWarning: Glyph 47928 missing from current font.\n",
            "  font.set_text(s, 0.0, flags=flags)\n",
            "/usr/local/lib/python3.6/dist-packages/matplotlib/backends/backend_agg.py:214: RuntimeWarning: Glyph 54168 missing from current font.\n",
            "  font.set_text(s, 0.0, flags=flags)\n",
            "/usr/local/lib/python3.6/dist-packages/matplotlib/backends/backend_agg.py:214: RuntimeWarning: Glyph 51060 missing from current font.\n",
            "  font.set_text(s, 0.0, flags=flags)\n",
            "/usr/local/lib/python3.6/dist-packages/matplotlib/backends/backend_agg.py:214: RuntimeWarning: Glyph 51648 missing from current font.\n",
            "  font.set_text(s, 0.0, flags=flags)\n",
            "/usr/local/lib/python3.6/dist-packages/matplotlib/backends/backend_agg.py:214: RuntimeWarning: Glyph 48624 missing from current font.\n",
            "  font.set_text(s, 0.0, flags=flags)\n",
            "/usr/local/lib/python3.6/dist-packages/matplotlib/backends/backend_agg.py:183: RuntimeWarning: Glyph 49324 missing from current font.\n",
            "  font.set_text(s, 0, flags=flags)\n",
            "/usr/local/lib/python3.6/dist-packages/matplotlib/backends/backend_agg.py:183: RuntimeWarning: Glyph 50857 missing from current font.\n",
            "  font.set_text(s, 0, flags=flags)\n",
            "/usr/local/lib/python3.6/dist-packages/matplotlib/backends/backend_agg.py:183: RuntimeWarning: Glyph 51088 missing from current font.\n",
            "  font.set_text(s, 0, flags=flags)\n",
            "/usr/local/lib/python3.6/dist-packages/matplotlib/backends/backend_agg.py:183: RuntimeWarning: Glyph 49464 missing from current font.\n",
            "  font.set_text(s, 0, flags=flags)\n",
            "/usr/local/lib/python3.6/dist-packages/matplotlib/backends/backend_agg.py:183: RuntimeWarning: Glyph 49496 missing from current font.\n",
            "  font.set_text(s, 0, flags=flags)\n",
            "/usr/local/lib/python3.6/dist-packages/matplotlib/backends/backend_agg.py:183: RuntimeWarning: Glyph 49888 missing from current font.\n",
            "  font.set_text(s, 0, flags=flags)\n",
            "/usr/local/lib/python3.6/dist-packages/matplotlib/backends/backend_agg.py:183: RuntimeWarning: Glyph 44508 missing from current font.\n",
            "  font.set_text(s, 0, flags=flags)\n",
            "/usr/local/lib/python3.6/dist-packages/matplotlib/backends/backend_agg.py:183: RuntimeWarning: Glyph 48169 missing from current font.\n",
            "  font.set_text(s, 0, flags=flags)\n",
            "/usr/local/lib/python3.6/dist-packages/matplotlib/backends/backend_agg.py:183: RuntimeWarning: Glyph 47928 missing from current font.\n",
            "  font.set_text(s, 0, flags=flags)\n",
            "/usr/local/lib/python3.6/dist-packages/matplotlib/backends/backend_agg.py:183: RuntimeWarning: Glyph 54168 missing from current font.\n",
            "  font.set_text(s, 0, flags=flags)\n",
            "/usr/local/lib/python3.6/dist-packages/matplotlib/backends/backend_agg.py:183: RuntimeWarning: Glyph 51060 missing from current font.\n",
            "  font.set_text(s, 0, flags=flags)\n",
            "/usr/local/lib/python3.6/dist-packages/matplotlib/backends/backend_agg.py:183: RuntimeWarning: Glyph 51648 missing from current font.\n",
            "  font.set_text(s, 0, flags=flags)\n",
            "/usr/local/lib/python3.6/dist-packages/matplotlib/backends/backend_agg.py:183: RuntimeWarning: Glyph 48624 missing from current font.\n",
            "  font.set_text(s, 0, flags=flags)\n"
          ],
          "name": "stderr"
        },
        {
          "output_type": "display_data",
          "data": {
            "image/png": "[encoded data removed]",
            "text/plain": [
              "<Figure size 576x1440 with 4 Axes>"
            ]
          },
          "metadata": {
            "tags": [],
            "needs_background": "light"
          }
        }
      ]
    },
    {
      "cell_type": "code",
      "metadata": {
        "colab": {
          "base_uri": "https://localhost:8080/",
          "height": 0
        },
        "id": "bRhcBsaxU-oJ",
        "outputId": "e2aa77e6-8d8f-43d5-cdfd-081c57a0a7d5"
      },
      "source": [
        "fig, axes = plt.subplots(4, 1, figsize=(8, 20))\r\n",
        "axes[0].bar(train['dayofmonth'], train['사용자'], color='r')\r\n",
        "axes[1].bar(train['dayofmonth'], train['세션'], color='g')\r\n",
        "axes[2].bar(train['dayofmonth'], train['신규방문자'], color='b')\r\n",
        "axes[3].bar(train['dayofmonth'], train['페이지뷰'], color='c')\r\n",
        "for i, title in enumerate(['사용자','세션','신규방문자','페이지뷰']):\r\n",
        "    axes[i].set_title(title)\r\n",
        "plt.show()"
      ],
      "execution_count": 556,
      "outputs": [
        {
          "output_type": "stream",
          "text": [
            "/usr/local/lib/python3.6/dist-packages/matplotlib/backends/backend_agg.py:214: RuntimeWarning: Glyph 49324 missing from current font.\n",
            "  font.set_text(s, 0.0, flags=flags)\n",
            "/usr/local/lib/python3.6/dist-packages/matplotlib/backends/backend_agg.py:214: RuntimeWarning: Glyph 50857 missing from current font.\n",
            "  font.set_text(s, 0.0, flags=flags)\n",
            "/usr/local/lib/python3.6/dist-packages/matplotlib/backends/backend_agg.py:214: RuntimeWarning: Glyph 51088 missing from current font.\n",
            "  font.set_text(s, 0.0, flags=flags)\n",
            "/usr/local/lib/python3.6/dist-packages/matplotlib/backends/backend_agg.py:214: RuntimeWarning: Glyph 49464 missing from current font.\n",
            "  font.set_text(s, 0.0, flags=flags)\n",
            "/usr/local/lib/python3.6/dist-packages/matplotlib/backends/backend_agg.py:214: RuntimeWarning: Glyph 49496 missing from current font.\n",
            "  font.set_text(s, 0.0, flags=flags)\n",
            "/usr/local/lib/python3.6/dist-packages/matplotlib/backends/backend_agg.py:214: RuntimeWarning: Glyph 49888 missing from current font.\n",
            "  font.set_text(s, 0.0, flags=flags)\n",
            "/usr/local/lib/python3.6/dist-packages/matplotlib/backends/backend_agg.py:214: RuntimeWarning: Glyph 44508 missing from current font.\n",
            "  font.set_text(s, 0.0, flags=flags)\n",
            "/usr/local/lib/python3.6/dist-packages/matplotlib/backends/backend_agg.py:214: RuntimeWarning: Glyph 48169 missing from current font.\n",
            "  font.set_text(s, 0.0, flags=flags)\n",
            "/usr/local/lib/python3.6/dist-packages/matplotlib/backends/backend_agg.py:214: RuntimeWarning: Glyph 47928 missing from current font.\n",
            "  font.set_text(s, 0.0, flags=flags)\n",
            "/usr/local/lib/python3.6/dist-packages/matplotlib/backends/backend_agg.py:214: RuntimeWarning: Glyph 54168 missing from current font.\n",
            "  font.set_text(s, 0.0, flags=flags)\n",
            "/usr/local/lib/python3.6/dist-packages/matplotlib/backends/backend_agg.py:214: RuntimeWarning: Glyph 51060 missing from current font.\n",
            "  font.set_text(s, 0.0, flags=flags)\n",
            "/usr/local/lib/python3.6/dist-packages/matplotlib/backends/backend_agg.py:214: RuntimeWarning: Glyph 51648 missing from current font.\n",
            "  font.set_text(s, 0.0, flags=flags)\n",
            "/usr/local/lib/python3.6/dist-packages/matplotlib/backends/backend_agg.py:214: RuntimeWarning: Glyph 48624 missing from current font.\n",
            "  font.set_text(s, 0.0, flags=flags)\n",
            "/usr/local/lib/python3.6/dist-packages/matplotlib/backends/backend_agg.py:183: RuntimeWarning: Glyph 49324 missing from current font.\n",
            "  font.set_text(s, 0, flags=flags)\n",
            "/usr/local/lib/python3.6/dist-packages/matplotlib/backends/backend_agg.py:183: RuntimeWarning: Glyph 50857 missing from current font.\n",
            "  font.set_text(s, 0, flags=flags)\n",
            "/usr/local/lib/python3.6/dist-packages/matplotlib/backends/backend_agg.py:183: RuntimeWarning: Glyph 51088 missing from current font.\n",
            "  font.set_text(s, 0, flags=flags)\n",
            "/usr/local/lib/python3.6/dist-packages/matplotlib/backends/backend_agg.py:183: RuntimeWarning: Glyph 49464 missing from current font.\n",
            "  font.set_text(s, 0, flags=flags)\n",
            "/usr/local/lib/python3.6/dist-packages/matplotlib/backends/backend_agg.py:183: RuntimeWarning: Glyph 49496 missing from current font.\n",
            "  font.set_text(s, 0, flags=flags)\n",
            "/usr/local/lib/python3.6/dist-packages/matplotlib/backends/backend_agg.py:183: RuntimeWarning: Glyph 49888 missing from current font.\n",
            "  font.set_text(s, 0, flags=flags)\n",
            "/usr/local/lib/python3.6/dist-packages/matplotlib/backends/backend_agg.py:183: RuntimeWarning: Glyph 44508 missing from current font.\n",
            "  font.set_text(s, 0, flags=flags)\n",
            "/usr/local/lib/python3.6/dist-packages/matplotlib/backends/backend_agg.py:183: RuntimeWarning: Glyph 48169 missing from current font.\n",
            "  font.set_text(s, 0, flags=flags)\n",
            "/usr/local/lib/python3.6/dist-packages/matplotlib/backends/backend_agg.py:183: RuntimeWarning: Glyph 47928 missing from current font.\n",
            "  font.set_text(s, 0, flags=flags)\n",
            "/usr/local/lib/python3.6/dist-packages/matplotlib/backends/backend_agg.py:183: RuntimeWarning: Glyph 54168 missing from current font.\n",
            "  font.set_text(s, 0, flags=flags)\n",
            "/usr/local/lib/python3.6/dist-packages/matplotlib/backends/backend_agg.py:183: RuntimeWarning: Glyph 51060 missing from current font.\n",
            "  font.set_text(s, 0, flags=flags)\n",
            "/usr/local/lib/python3.6/dist-packages/matplotlib/backends/backend_agg.py:183: RuntimeWarning: Glyph 51648 missing from current font.\n",
            "  font.set_text(s, 0, flags=flags)\n",
            "/usr/local/lib/python3.6/dist-packages/matplotlib/backends/backend_agg.py:183: RuntimeWarning: Glyph 48624 missing from current font.\n",
            "  font.set_text(s, 0, flags=flags)\n"
          ],
          "name": "stderr"
        },
        {
          "output_type": "display_data",
          "data": {
            "image/png": "[encoded data removed]",
            "text/plain": [
              "<Figure size 576x1440 with 4 Axes>"
            ]
          },
          "metadata": {
            "tags": [],
            "needs_background": "light"
          }
        }
      ]
    },
    {
      "cell_type": "markdown",
      "metadata": {
        "id": "0Mn3-RqzjnDe"
      },
      "source": [
        "#### 범주형 인코딩\r\n",
        "\r\n",
        "- one-hot 인코딩: 카테고리가 별로 없는거\r\n",
        "- binary 인코딩: 카테고리가 많은 거"
      ]
    },
    {
      "cell_type": "code",
      "metadata": {
        "colab": {
          "base_uri": "https://localhost:8080/"
        },
        "id": "ziFLhds4kax1",
        "outputId": "2fb1d84d-da88-4229-993e-0691ba5762c0"
      },
      "source": [
        "pip install category_encoders"
      ],
      "execution_count": 560,
      "outputs": [
        {
          "output_type": "stream",
          "text": [
            "Collecting category_encoders\n",
            "\u001b[?25l  Downloading https://files.pythonhosted.org/packages/44/57/fcef41c248701ee62e8325026b90c432adea35555cbc870aff9cfba23727/category_encoders-2.2.2-py2.py3-none-any.whl (80kB)\n",
            "\r\u001b[K     |████                            | 10kB 17.0MB/s eta 0:00:01\r\u001b[K     |████████▏                       | 20kB 12.3MB/s eta 0:00:01\r\u001b[K     |████████████▏                   | 30kB 6.8MB/s eta 0:00:01\r\u001b[K     |████████████████▎               | 40kB 5.7MB/s eta 0:00:01\r\u001b[K     |████████████████████▎           | 51kB 3.9MB/s eta 0:00:01\r\u001b[K     |████████████████████████▍       | 61kB 4.0MB/s eta 0:00:01\r\u001b[K     |████████████████████████████▍   | 71kB 4.4MB/s eta 0:00:01\r\u001b[K     |████████████████████████████████| 81kB 3.3MB/s \n",
            "\u001b[?25hRequirement already satisfied: patsy>=0.5.1 in /usr/local/lib/python3.6/dist-packages (from category_encoders) (0.5.1)\n",
            "Requirement already satisfied: scipy>=1.0.0 in /usr/local/lib/python3.6/dist-packages (from category_encoders) (1.4.1)\n",
            "Requirement already satisfied: numpy>=1.14.0 in /usr/local/lib/python3.6/dist-packages (from category_encoders) (1.19.4)\n",
            "Requirement already satisfied: scikit-learn>=0.20.0 in /usr/local/lib/python3.6/dist-packages (from category_encoders) (0.22.2.post1)\n",
            "Requirement already satisfied: pandas>=0.21.1 in /usr/local/lib/python3.6/dist-packages (from category_encoders) (1.1.5)\n",
            "Requirement already satisfied: statsmodels>=0.9.0 in /usr/local/lib/python3.6/dist-packages (from category_encoders) (0.10.2)\n",
            "Requirement already satisfied: six in /usr/local/lib/python3.6/dist-packages (from patsy>=0.5.1->category_encoders) (1.15.0)\n",
            "Requirement already satisfied: joblib>=0.11 in /usr/local/lib/python3.6/dist-packages (from scikit-learn>=0.20.0->category_encoders) (1.0.0)\n",
            "Requirement already satisfied: python-dateutil>=2.7.3 in /usr/local/lib/python3.6/dist-packages (from pandas>=0.21.1->category_encoders) (2.8.1)\n",
            "Requirement already satisfied: pytz>=2017.2 in /usr/local/lib/python3.6/dist-packages (from pandas>=0.21.1->category_encoders) (2018.9)\n",
            "Installing collected packages: category-encoders\n",
            "Successfully installed category-encoders-2.2.2\n"
          ],
          "name": "stdout"
        }
      ]
    },
    {
      "cell_type": "code",
      "metadata": {
        "colab": {
          "base_uri": "https://localhost:8080/"
        },
        "id": "BHx-tnrbj1cc",
        "outputId": "d45a4d17-8863-48c8-bf7a-b729164cacd4"
      },
      "source": [
        "import category_encoders as ce"
      ],
      "execution_count": 561,
      "outputs": [
        {
          "output_type": "stream",
          "text": [
            "/usr/local/lib/python3.6/dist-packages/statsmodels/tools/_testing.py:19: FutureWarning: pandas.util.testing is deprecated. Use the functions in the public API at pandas.testing instead.\n",
            "  import pandas.util.testing as tm\n"
          ],
          "name": "stderr"
        }
      ]
    },
    {
      "cell_type": "code",
      "metadata": {
        "colab": {
          "base_uri": "https://localhost:8080/"
        },
        "id": "4nzCaqAJd531",
        "outputId": "77734464-1722-4365-a04f-11d60cbb66dd"
      },
      "source": [
        "# bianry encoding\r\n",
        "\r\n",
        "# dayofyear\tdayofmonth\tweekofyear\r\n",
        "\r\n",
        "encoder = ce.BinaryEncoder(cols=['dayofyear'])\r\n",
        "train = encoder.fit_transform(train)\r\n",
        "\r\n",
        "encoder = ce.BinaryEncoder(cols=['dayofmonth'])\r\n",
        "train = encoder.fit_transform(train)\r\n",
        "\r\n",
        "encoder = ce.BinaryEncoder(cols=['weekofyear'])\r\n",
        "train = encoder.fit_transform(train)\r\n",
        "\r\n",
        "print(train.shape)\r\n",
        "# train.head(3)"
      ],
      "execution_count": 621,
      "outputs": [
        {
          "output_type": "stream",
          "text": [
            "(792, 31)\n"
          ],
          "name": "stdout"
        },
        {
          "output_type": "stream",
          "text": [
            "/usr/local/lib/python3.6/dist-packages/category_encoders/utils.py:21: FutureWarning: is_categorical is deprecated and will be removed in a future version.  Use is_categorical_dtype instead\n",
            "  elif pd.api.types.is_categorical(cols):\n",
            "/usr/local/lib/python3.6/dist-packages/category_encoders/utils.py:21: FutureWarning: is_categorical is deprecated and will be removed in a future version.  Use is_categorical_dtype instead\n",
            "  elif pd.api.types.is_categorical(cols):\n",
            "/usr/local/lib/python3.6/dist-packages/category_encoders/utils.py:21: FutureWarning: is_categorical is deprecated and will be removed in a future version.  Use is_categorical_dtype instead\n",
            "  elif pd.api.types.is_categorical(cols):\n"
          ],
          "name": "stderr"
        }
      ]
    },
    {
      "cell_type": "code",
      "metadata": {
        "colab": {
          "base_uri": "https://localhost:8080/",
          "height": 327
        },
        "id": "ZFEkYwX-kxU9",
        "outputId": "bf23d82a-189c-414b-d565-46e0fb8b71d4"
      },
      "source": [
        "# one-hot encoding\r\n",
        "\r\n",
        "def dummy_data(data, columns):\r\n",
        "    for column in columns:\r\n",
        "        data = pd.concat([data, pd.get_dummies(data[column], prefix = column)], axis=1)\r\n",
        "        data = data.drop(column, axis=1)\r\n",
        "    return data\r\n",
        "\r\n",
        "\r\n",
        "dummy_columns = [\"dayofweek\", \"quarter\", \"month\", \"year\"]\r\n",
        "train = dummy_data(train,dummy_columns)\r\n",
        "\r\n",
        "print(train.shape)\r\n",
        "train.head(3)"
      ],
      "execution_count": 622,
      "outputs": [
        {
          "output_type": "stream",
          "text": [
            "(792, 53)\n"
          ],
          "name": "stdout"
        },
        {
          "output_type": "execute_result",
          "data": {
            "text/html": [
              "<div>\n",
              "<style scoped>\n",
              "    .dataframe tbody tr th:only-of-type {\n",
              "        vertical-align: middle;\n",
              "    }\n",
              "\n",
              "    .dataframe tbody tr th {\n",
              "        vertical-align: top;\n",
              "    }\n",
              "\n",
              "    .dataframe thead th {\n",
              "        text-align: right;\n",
              "    }\n",
              "</style>\n",
              "<table border=\"1\" class=\"dataframe\">\n",
              "  <thead>\n",
              "    <tr style=\"text-align: right;\">\n",
              "      <th></th>\n",
              "      <th>사용자</th>\n",
              "      <th>세션</th>\n",
              "      <th>신규방문자</th>\n",
              "      <th>페이지뷰</th>\n",
              "      <th>dayofyear_0</th>\n",
              "      <th>dayofyear_1</th>\n",
              "      <th>dayofyear_2</th>\n",
              "      <th>dayofyear_3</th>\n",
              "      <th>dayofyear_4</th>\n",
              "      <th>dayofyear_5</th>\n",
              "      <th>dayofyear_6</th>\n",
              "      <th>dayofyear_7</th>\n",
              "      <th>dayofyear_8</th>\n",
              "      <th>dayofyear_9</th>\n",
              "      <th>dayofmonth_0</th>\n",
              "      <th>dayofmonth_1</th>\n",
              "      <th>dayofmonth_2</th>\n",
              "      <th>dayofmonth_3</th>\n",
              "      <th>dayofmonth_4</th>\n",
              "      <th>dayofmonth_5</th>\n",
              "      <th>weekofyear_0</th>\n",
              "      <th>weekofyear_1</th>\n",
              "      <th>weekofyear_2</th>\n",
              "      <th>weekofyear_3</th>\n",
              "      <th>weekofyear_4</th>\n",
              "      <th>weekofyear_5</th>\n",
              "      <th>weekofyear_6</th>\n",
              "      <th>dayofweek_0</th>\n",
              "      <th>dayofweek_1</th>\n",
              "      <th>dayofweek_2</th>\n",
              "      <th>dayofweek_3</th>\n",
              "      <th>dayofweek_4</th>\n",
              "      <th>dayofweek_5</th>\n",
              "      <th>dayofweek_6</th>\n",
              "      <th>quarter_1</th>\n",
              "      <th>quarter_2</th>\n",
              "      <th>quarter_3</th>\n",
              "      <th>quarter_4</th>\n",
              "      <th>month_1</th>\n",
              "      <th>month_2</th>\n",
              "      <th>month_3</th>\n",
              "      <th>month_4</th>\n",
              "      <th>month_5</th>\n",
              "      <th>month_6</th>\n",
              "      <th>month_7</th>\n",
              "      <th>month_8</th>\n",
              "      <th>month_9</th>\n",
              "      <th>month_10</th>\n",
              "      <th>month_11</th>\n",
              "      <th>month_12</th>\n",
              "      <th>year_2018</th>\n",
              "      <th>year_2019</th>\n",
              "      <th>year_2020</th>\n",
              "    </tr>\n",
              "    <tr>\n",
              "      <th>date</th>\n",
              "      <th></th>\n",
              "      <th></th>\n",
              "      <th></th>\n",
              "      <th></th>\n",
              "      <th></th>\n",
              "      <th></th>\n",
              "      <th></th>\n",
              "      <th></th>\n",
              "      <th></th>\n",
              "      <th></th>\n",
              "      <th></th>\n",
              "      <th></th>\n",
              "      <th></th>\n",
              "      <th></th>\n",
              "      <th></th>\n",
              "      <th></th>\n",
              "      <th></th>\n",
              "      <th></th>\n",
              "      <th></th>\n",
              "      <th></th>\n",
              "      <th></th>\n",
              "      <th></th>\n",
              "      <th></th>\n",
              "      <th></th>\n",
              "      <th></th>\n",
              "      <th></th>\n",
              "      <th></th>\n",
              "      <th></th>\n",
              "      <th></th>\n",
              "      <th></th>\n",
              "      <th></th>\n",
              "      <th></th>\n",
              "      <th></th>\n",
              "      <th></th>\n",
              "      <th></th>\n",
              "      <th></th>\n",
              "      <th></th>\n",
              "      <th></th>\n",
              "      <th></th>\n",
              "      <th></th>\n",
              "      <th></th>\n",
              "      <th></th>\n",
              "      <th></th>\n",
              "      <th></th>\n",
              "      <th></th>\n",
              "      <th></th>\n",
              "      <th></th>\n",
              "      <th></th>\n",
              "      <th></th>\n",
              "      <th></th>\n",
              "      <th></th>\n",
              "      <th></th>\n",
              "      <th></th>\n",
              "    </tr>\n",
              "  </thead>\n",
              "  <tbody>\n",
              "    <tr>\n",
              "      <th>2018-09-09</th>\n",
              "      <td>281</td>\n",
              "      <td>266</td>\n",
              "      <td>73</td>\n",
              "      <td>1826</td>\n",
              "      <td>0</td>\n",
              "      <td>0</td>\n",
              "      <td>0</td>\n",
              "      <td>0</td>\n",
              "      <td>0</td>\n",
              "      <td>0</td>\n",
              "      <td>0</td>\n",
              "      <td>0</td>\n",
              "      <td>0</td>\n",
              "      <td>1</td>\n",
              "      <td>0</td>\n",
              "      <td>0</td>\n",
              "      <td>0</td>\n",
              "      <td>0</td>\n",
              "      <td>0</td>\n",
              "      <td>1</td>\n",
              "      <td>0</td>\n",
              "      <td>0</td>\n",
              "      <td>0</td>\n",
              "      <td>0</td>\n",
              "      <td>0</td>\n",
              "      <td>0</td>\n",
              "      <td>1</td>\n",
              "      <td>0</td>\n",
              "      <td>0</td>\n",
              "      <td>0</td>\n",
              "      <td>0</td>\n",
              "      <td>0</td>\n",
              "      <td>0</td>\n",
              "      <td>1</td>\n",
              "      <td>0</td>\n",
              "      <td>0</td>\n",
              "      <td>1</td>\n",
              "      <td>0</td>\n",
              "      <td>0</td>\n",
              "      <td>0</td>\n",
              "      <td>0</td>\n",
              "      <td>0</td>\n",
              "      <td>0</td>\n",
              "      <td>0</td>\n",
              "      <td>0</td>\n",
              "      <td>0</td>\n",
              "      <td>1</td>\n",
              "      <td>0</td>\n",
              "      <td>0</td>\n",
              "      <td>0</td>\n",
              "      <td>1</td>\n",
              "      <td>0</td>\n",
              "      <td>0</td>\n",
              "    </tr>\n",
              "    <tr>\n",
              "      <th>2018-09-10</th>\n",
              "      <td>264</td>\n",
              "      <td>247</td>\n",
              "      <td>51</td>\n",
              "      <td>2092</td>\n",
              "      <td>0</td>\n",
              "      <td>0</td>\n",
              "      <td>0</td>\n",
              "      <td>0</td>\n",
              "      <td>0</td>\n",
              "      <td>0</td>\n",
              "      <td>0</td>\n",
              "      <td>0</td>\n",
              "      <td>1</td>\n",
              "      <td>0</td>\n",
              "      <td>0</td>\n",
              "      <td>0</td>\n",
              "      <td>0</td>\n",
              "      <td>0</td>\n",
              "      <td>1</td>\n",
              "      <td>0</td>\n",
              "      <td>0</td>\n",
              "      <td>0</td>\n",
              "      <td>0</td>\n",
              "      <td>0</td>\n",
              "      <td>0</td>\n",
              "      <td>1</td>\n",
              "      <td>0</td>\n",
              "      <td>1</td>\n",
              "      <td>0</td>\n",
              "      <td>0</td>\n",
              "      <td>0</td>\n",
              "      <td>0</td>\n",
              "      <td>0</td>\n",
              "      <td>0</td>\n",
              "      <td>0</td>\n",
              "      <td>0</td>\n",
              "      <td>1</td>\n",
              "      <td>0</td>\n",
              "      <td>0</td>\n",
              "      <td>0</td>\n",
              "      <td>0</td>\n",
              "      <td>0</td>\n",
              "      <td>0</td>\n",
              "      <td>0</td>\n",
              "      <td>0</td>\n",
              "      <td>0</td>\n",
              "      <td>1</td>\n",
              "      <td>0</td>\n",
              "      <td>0</td>\n",
              "      <td>0</td>\n",
              "      <td>1</td>\n",
              "      <td>0</td>\n",
              "      <td>0</td>\n",
              "    </tr>\n",
              "    <tr>\n",
              "      <th>2018-09-11</th>\n",
              "      <td>329</td>\n",
              "      <td>310</td>\n",
              "      <td>58</td>\n",
              "      <td>1998</td>\n",
              "      <td>0</td>\n",
              "      <td>0</td>\n",
              "      <td>0</td>\n",
              "      <td>0</td>\n",
              "      <td>0</td>\n",
              "      <td>0</td>\n",
              "      <td>0</td>\n",
              "      <td>0</td>\n",
              "      <td>1</td>\n",
              "      <td>1</td>\n",
              "      <td>0</td>\n",
              "      <td>0</td>\n",
              "      <td>0</td>\n",
              "      <td>0</td>\n",
              "      <td>1</td>\n",
              "      <td>1</td>\n",
              "      <td>0</td>\n",
              "      <td>0</td>\n",
              "      <td>0</td>\n",
              "      <td>0</td>\n",
              "      <td>0</td>\n",
              "      <td>1</td>\n",
              "      <td>0</td>\n",
              "      <td>0</td>\n",
              "      <td>1</td>\n",
              "      <td>0</td>\n",
              "      <td>0</td>\n",
              "      <td>0</td>\n",
              "      <td>0</td>\n",
              "      <td>0</td>\n",
              "      <td>0</td>\n",
              "      <td>0</td>\n",
              "      <td>1</td>\n",
              "      <td>0</td>\n",
              "      <td>0</td>\n",
              "      <td>0</td>\n",
              "      <td>0</td>\n",
              "      <td>0</td>\n",
              "      <td>0</td>\n",
              "      <td>0</td>\n",
              "      <td>0</td>\n",
              "      <td>0</td>\n",
              "      <td>1</td>\n",
              "      <td>0</td>\n",
              "      <td>0</td>\n",
              "      <td>0</td>\n",
              "      <td>1</td>\n",
              "      <td>0</td>\n",
              "      <td>0</td>\n",
              "    </tr>\n",
              "  </tbody>\n",
              "</table>\n",
              "</div>"
            ],
            "text/plain": [
              "            사용자   세션  신규방문자  페이지뷰  ...  month_12  year_2018  year_2019  year_2020\n",
              "date                               ...                                           \n",
              "2018-09-09  281  266     73  1826  ...         0          1          0          0\n",
              "2018-09-10  264  247     51  2092  ...         0          1          0          0\n",
              "2018-09-11  329  310     58  1998  ...         0          1          0          0\n",
              "\n",
              "[3 rows x 53 columns]"
            ]
          },
          "metadata": {
            "tags": []
          },
          "execution_count": 622
        }
      ]
    },
    {
      "cell_type": "markdown",
      "metadata": {
        "id": "UP7gIbLQ9zmM"
      },
      "source": [
        "- 추가데이터 가공"
      ]
    },
    {
      "cell_type": "code",
      "metadata": {
        "colab": {
          "base_uri": "https://localhost:8080/",
          "height": 52
        },
        "id": "cJGuiHK99ucr",
        "outputId": "21ebba23-80fe-4021-ef5a-00bd7120a83b"
      },
      "source": [
        "'''\r\n",
        "user =  pd.read_csv(path + '/open_data/info_user.csv', encoding = 'euc-kr')\r\n",
        "login = pd.read_csv(path +'/open_data/info_login.csv', encoding = 'euc-kr')\r\n",
        "competition = pd.read_csv(path +'/open_data/info_competition.csv', encoding = 'euc-kr')\r\n",
        "info_submission =  pd.read_csv(path +'/open_data/info_submission.csv', encoding = 'euc-kr')\r\n",
        "'''"
      ],
      "execution_count": 428,
      "outputs": [
        {
          "output_type": "execute_result",
          "data": {
            "application/vnd.google.colaboratory.intrinsic+json": {
              "type": "string"
            },
            "text/plain": [
              "\"\\nuser =  pd.read_csv(path + '/open_data/info_user.csv', encoding = 'euc-kr')\\nlogin = pd.read_csv(path +'/open_data/info_login.csv', encoding = 'euc-kr')\\ncompetition = pd.read_csv(path +'/open_data/info_competition.csv', encoding = 'euc-kr')\\ninfo_submission =  pd.read_csv(path +'/open_data/info_submission.csv', encoding = 'euc-kr')\\n\""
            ]
          },
          "metadata": {
            "tags": []
          },
          "execution_count": 428
        }
      ]
    },
    {
      "cell_type": "markdown",
      "metadata": {
        "id": "M-nqMth6966w"
      },
      "source": [
        "- 데이터 전처리"
      ]
    },
    {
      "cell_type": "code",
      "metadata": {
        "colab": {
          "base_uri": "https://localhost:8080/",
          "height": 649
        },
        "id": "MB-KiRHF92gN",
        "outputId": "a65316ae-0c04-422a-a6c5-3427690d8818"
      },
      "source": [
        "# scaling\r\n",
        "\r\n",
        "mini = train.iloc[:,:4].min()\r\n",
        "size = train.iloc[:,:4].max() - train.iloc[:,:4].min()\r\n",
        "train.iloc[:,:4] = (train.iloc[:,:4] -  mini) / size\r\n",
        "train"
      ],
      "execution_count": 623,
      "outputs": [
        {
          "output_type": "execute_result",
          "data": {
            "text/html": [
              "<div>\n",
              "<style scoped>\n",
              "    .dataframe tbody tr th:only-of-type {\n",
              "        vertical-align: middle;\n",
              "    }\n",
              "\n",
              "    .dataframe tbody tr th {\n",
              "        vertical-align: top;\n",
              "    }\n",
              "\n",
              "    .dataframe thead th {\n",
              "        text-align: right;\n",
              "    }\n",
              "</style>\n",
              "<table border=\"1\" class=\"dataframe\">\n",
              "  <thead>\n",
              "    <tr style=\"text-align: right;\">\n",
              "      <th></th>\n",
              "      <th>사용자</th>\n",
              "      <th>세션</th>\n",
              "      <th>신규방문자</th>\n",
              "      <th>페이지뷰</th>\n",
              "      <th>dayofyear_0</th>\n",
              "      <th>dayofyear_1</th>\n",
              "      <th>dayofyear_2</th>\n",
              "      <th>dayofyear_3</th>\n",
              "      <th>dayofyear_4</th>\n",
              "      <th>dayofyear_5</th>\n",
              "      <th>dayofyear_6</th>\n",
              "      <th>dayofyear_7</th>\n",
              "      <th>dayofyear_8</th>\n",
              "      <th>dayofyear_9</th>\n",
              "      <th>dayofmonth_0</th>\n",
              "      <th>dayofmonth_1</th>\n",
              "      <th>dayofmonth_2</th>\n",
              "      <th>dayofmonth_3</th>\n",
              "      <th>dayofmonth_4</th>\n",
              "      <th>dayofmonth_5</th>\n",
              "      <th>weekofyear_0</th>\n",
              "      <th>weekofyear_1</th>\n",
              "      <th>weekofyear_2</th>\n",
              "      <th>weekofyear_3</th>\n",
              "      <th>weekofyear_4</th>\n",
              "      <th>weekofyear_5</th>\n",
              "      <th>weekofyear_6</th>\n",
              "      <th>dayofweek_0</th>\n",
              "      <th>dayofweek_1</th>\n",
              "      <th>dayofweek_2</th>\n",
              "      <th>dayofweek_3</th>\n",
              "      <th>dayofweek_4</th>\n",
              "      <th>dayofweek_5</th>\n",
              "      <th>dayofweek_6</th>\n",
              "      <th>quarter_1</th>\n",
              "      <th>quarter_2</th>\n",
              "      <th>quarter_3</th>\n",
              "      <th>quarter_4</th>\n",
              "      <th>month_1</th>\n",
              "      <th>month_2</th>\n",
              "      <th>month_3</th>\n",
              "      <th>month_4</th>\n",
              "      <th>month_5</th>\n",
              "      <th>month_6</th>\n",
              "      <th>month_7</th>\n",
              "      <th>month_8</th>\n",
              "      <th>month_9</th>\n",
              "      <th>month_10</th>\n",
              "      <th>month_11</th>\n",
              "      <th>month_12</th>\n",
              "      <th>year_2018</th>\n",
              "      <th>year_2019</th>\n",
              "      <th>year_2020</th>\n",
              "    </tr>\n",
              "    <tr>\n",
              "      <th>date</th>\n",
              "      <th></th>\n",
              "      <th></th>\n",
              "      <th></th>\n",
              "      <th></th>\n",
              "      <th></th>\n",
              "      <th></th>\n",
              "      <th></th>\n",
              "      <th></th>\n",
              "      <th></th>\n",
              "      <th></th>\n",
              "      <th></th>\n",
              "      <th></th>\n",
              "      <th></th>\n",
              "      <th></th>\n",
              "      <th></th>\n",
              "      <th></th>\n",
              "      <th></th>\n",
              "      <th></th>\n",
              "      <th></th>\n",
              "      <th></th>\n",
              "      <th></th>\n",
              "      <th></th>\n",
              "      <th></th>\n",
              "      <th></th>\n",
              "      <th></th>\n",
              "      <th></th>\n",
              "      <th></th>\n",
              "      <th></th>\n",
              "      <th></th>\n",
              "      <th></th>\n",
              "      <th></th>\n",
              "      <th></th>\n",
              "      <th></th>\n",
              "      <th></th>\n",
              "      <th></th>\n",
              "      <th></th>\n",
              "      <th></th>\n",
              "      <th></th>\n",
              "      <th></th>\n",
              "      <th></th>\n",
              "      <th></th>\n",
              "      <th></th>\n",
              "      <th></th>\n",
              "      <th></th>\n",
              "      <th></th>\n",
              "      <th></th>\n",
              "      <th></th>\n",
              "      <th></th>\n",
              "      <th></th>\n",
              "      <th></th>\n",
              "      <th></th>\n",
              "      <th></th>\n",
              "      <th></th>\n",
              "    </tr>\n",
              "  </thead>\n",
              "  <tbody>\n",
              "    <tr>\n",
              "      <th>2018-09-09</th>\n",
              "      <td>0.051689</td>\n",
              "      <td>0.049083</td>\n",
              "      <td>0.042604</td>\n",
              "      <td>0.011735</td>\n",
              "      <td>0</td>\n",
              "      <td>0</td>\n",
              "      <td>0</td>\n",
              "      <td>0</td>\n",
              "      <td>0</td>\n",
              "      <td>0</td>\n",
              "      <td>0</td>\n",
              "      <td>0</td>\n",
              "      <td>0</td>\n",
              "      <td>1</td>\n",
              "      <td>0</td>\n",
              "      <td>0</td>\n",
              "      <td>0</td>\n",
              "      <td>0</td>\n",
              "      <td>0</td>\n",
              "      <td>1</td>\n",
              "      <td>0</td>\n",
              "      <td>0</td>\n",
              "      <td>0</td>\n",
              "      <td>0</td>\n",
              "      <td>0</td>\n",
              "      <td>0</td>\n",
              "      <td>1</td>\n",
              "      <td>0</td>\n",
              "      <td>0</td>\n",
              "      <td>0</td>\n",
              "      <td>0</td>\n",
              "      <td>0</td>\n",
              "      <td>0</td>\n",
              "      <td>1</td>\n",
              "      <td>0</td>\n",
              "      <td>0</td>\n",
              "      <td>1</td>\n",
              "      <td>0</td>\n",
              "      <td>0</td>\n",
              "      <td>0</td>\n",
              "      <td>0</td>\n",
              "      <td>0</td>\n",
              "      <td>0</td>\n",
              "      <td>0</td>\n",
              "      <td>0</td>\n",
              "      <td>0</td>\n",
              "      <td>1</td>\n",
              "      <td>0</td>\n",
              "      <td>0</td>\n",
              "      <td>0</td>\n",
              "      <td>1</td>\n",
              "      <td>0</td>\n",
              "      <td>0</td>\n",
              "    </tr>\n",
              "    <tr>\n",
              "      <th>2018-09-10</th>\n",
              "      <td>0.048551</td>\n",
              "      <td>0.045564</td>\n",
              "      <td>0.029586</td>\n",
              "      <td>0.013446</td>\n",
              "      <td>0</td>\n",
              "      <td>0</td>\n",
              "      <td>0</td>\n",
              "      <td>0</td>\n",
              "      <td>0</td>\n",
              "      <td>0</td>\n",
              "      <td>0</td>\n",
              "      <td>0</td>\n",
              "      <td>1</td>\n",
              "      <td>0</td>\n",
              "      <td>0</td>\n",
              "      <td>0</td>\n",
              "      <td>0</td>\n",
              "      <td>0</td>\n",
              "      <td>1</td>\n",
              "      <td>0</td>\n",
              "      <td>0</td>\n",
              "      <td>0</td>\n",
              "      <td>0</td>\n",
              "      <td>0</td>\n",
              "      <td>0</td>\n",
              "      <td>1</td>\n",
              "      <td>0</td>\n",
              "      <td>1</td>\n",
              "      <td>0</td>\n",
              "      <td>0</td>\n",
              "      <td>0</td>\n",
              "      <td>0</td>\n",
              "      <td>0</td>\n",
              "      <td>0</td>\n",
              "      <td>0</td>\n",
              "      <td>0</td>\n",
              "      <td>1</td>\n",
              "      <td>0</td>\n",
              "      <td>0</td>\n",
              "      <td>0</td>\n",
              "      <td>0</td>\n",
              "      <td>0</td>\n",
              "      <td>0</td>\n",
              "      <td>0</td>\n",
              "      <td>0</td>\n",
              "      <td>0</td>\n",
              "      <td>1</td>\n",
              "      <td>0</td>\n",
              "      <td>0</td>\n",
              "      <td>0</td>\n",
              "      <td>1</td>\n",
              "      <td>0</td>\n",
              "      <td>0</td>\n",
              "    </tr>\n",
              "    <tr>\n",
              "      <th>2018-09-11</th>\n",
              "      <td>0.060550</td>\n",
              "      <td>0.057233</td>\n",
              "      <td>0.033728</td>\n",
              "      <td>0.012842</td>\n",
              "      <td>0</td>\n",
              "      <td>0</td>\n",
              "      <td>0</td>\n",
              "      <td>0</td>\n",
              "      <td>0</td>\n",
              "      <td>0</td>\n",
              "      <td>0</td>\n",
              "      <td>0</td>\n",
              "      <td>1</td>\n",
              "      <td>1</td>\n",
              "      <td>0</td>\n",
              "      <td>0</td>\n",
              "      <td>0</td>\n",
              "      <td>0</td>\n",
              "      <td>1</td>\n",
              "      <td>1</td>\n",
              "      <td>0</td>\n",
              "      <td>0</td>\n",
              "      <td>0</td>\n",
              "      <td>0</td>\n",
              "      <td>0</td>\n",
              "      <td>1</td>\n",
              "      <td>0</td>\n",
              "      <td>0</td>\n",
              "      <td>1</td>\n",
              "      <td>0</td>\n",
              "      <td>0</td>\n",
              "      <td>0</td>\n",
              "      <td>0</td>\n",
              "      <td>0</td>\n",
              "      <td>0</td>\n",
              "      <td>0</td>\n",
              "      <td>1</td>\n",
              "      <td>0</td>\n",
              "      <td>0</td>\n",
              "      <td>0</td>\n",
              "      <td>0</td>\n",
              "      <td>0</td>\n",
              "      <td>0</td>\n",
              "      <td>0</td>\n",
              "      <td>0</td>\n",
              "      <td>0</td>\n",
              "      <td>1</td>\n",
              "      <td>0</td>\n",
              "      <td>0</td>\n",
              "      <td>0</td>\n",
              "      <td>1</td>\n",
              "      <td>0</td>\n",
              "      <td>0</td>\n",
              "    </tr>\n",
              "    <tr>\n",
              "      <th>2018-09-12</th>\n",
              "      <td>0.055197</td>\n",
              "      <td>0.052973</td>\n",
              "      <td>0.026036</td>\n",
              "      <td>0.016682</td>\n",
              "      <td>0</td>\n",
              "      <td>0</td>\n",
              "      <td>0</td>\n",
              "      <td>0</td>\n",
              "      <td>0</td>\n",
              "      <td>0</td>\n",
              "      <td>0</td>\n",
              "      <td>1</td>\n",
              "      <td>0</td>\n",
              "      <td>0</td>\n",
              "      <td>0</td>\n",
              "      <td>0</td>\n",
              "      <td>0</td>\n",
              "      <td>1</td>\n",
              "      <td>0</td>\n",
              "      <td>0</td>\n",
              "      <td>0</td>\n",
              "      <td>0</td>\n",
              "      <td>0</td>\n",
              "      <td>0</td>\n",
              "      <td>0</td>\n",
              "      <td>1</td>\n",
              "      <td>0</td>\n",
              "      <td>0</td>\n",
              "      <td>0</td>\n",
              "      <td>1</td>\n",
              "      <td>0</td>\n",
              "      <td>0</td>\n",
              "      <td>0</td>\n",
              "      <td>0</td>\n",
              "      <td>0</td>\n",
              "      <td>0</td>\n",
              "      <td>1</td>\n",
              "      <td>0</td>\n",
              "      <td>0</td>\n",
              "      <td>0</td>\n",
              "      <td>0</td>\n",
              "      <td>0</td>\n",
              "      <td>0</td>\n",
              "      <td>0</td>\n",
              "      <td>0</td>\n",
              "      <td>0</td>\n",
              "      <td>1</td>\n",
              "      <td>0</td>\n",
              "      <td>0</td>\n",
              "      <td>0</td>\n",
              "      <td>1</td>\n",
              "      <td>0</td>\n",
              "      <td>0</td>\n",
              "    </tr>\n",
              "    <tr>\n",
              "      <th>2018-09-13</th>\n",
              "      <td>0.069596</td>\n",
              "      <td>0.063530</td>\n",
              "      <td>0.028994</td>\n",
              "      <td>0.024724</td>\n",
              "      <td>0</td>\n",
              "      <td>0</td>\n",
              "      <td>0</td>\n",
              "      <td>0</td>\n",
              "      <td>0</td>\n",
              "      <td>0</td>\n",
              "      <td>0</td>\n",
              "      <td>1</td>\n",
              "      <td>0</td>\n",
              "      <td>1</td>\n",
              "      <td>0</td>\n",
              "      <td>0</td>\n",
              "      <td>0</td>\n",
              "      <td>1</td>\n",
              "      <td>0</td>\n",
              "      <td>1</td>\n",
              "      <td>0</td>\n",
              "      <td>0</td>\n",
              "      <td>0</td>\n",
              "      <td>0</td>\n",
              "      <td>0</td>\n",
              "      <td>1</td>\n",
              "      <td>0</td>\n",
              "      <td>0</td>\n",
              "      <td>0</td>\n",
              "      <td>0</td>\n",
              "      <td>1</td>\n",
              "      <td>0</td>\n",
              "      <td>0</td>\n",
              "      <td>0</td>\n",
              "      <td>0</td>\n",
              "      <td>0</td>\n",
              "      <td>1</td>\n",
              "      <td>0</td>\n",
              "      <td>0</td>\n",
              "      <td>0</td>\n",
              "      <td>0</td>\n",
              "      <td>0</td>\n",
              "      <td>0</td>\n",
              "      <td>0</td>\n",
              "      <td>0</td>\n",
              "      <td>0</td>\n",
              "      <td>1</td>\n",
              "      <td>0</td>\n",
              "      <td>0</td>\n",
              "      <td>0</td>\n",
              "      <td>1</td>\n",
              "      <td>0</td>\n",
              "      <td>0</td>\n",
              "    </tr>\n",
              "    <tr>\n",
              "      <th>...</th>\n",
              "      <td>...</td>\n",
              "      <td>...</td>\n",
              "      <td>...</td>\n",
              "      <td>...</td>\n",
              "      <td>...</td>\n",
              "      <td>...</td>\n",
              "      <td>...</td>\n",
              "      <td>...</td>\n",
              "      <td>...</td>\n",
              "      <td>...</td>\n",
              "      <td>...</td>\n",
              "      <td>...</td>\n",
              "      <td>...</td>\n",
              "      <td>...</td>\n",
              "      <td>...</td>\n",
              "      <td>...</td>\n",
              "      <td>...</td>\n",
              "      <td>...</td>\n",
              "      <td>...</td>\n",
              "      <td>...</td>\n",
              "      <td>...</td>\n",
              "      <td>...</td>\n",
              "      <td>...</td>\n",
              "      <td>...</td>\n",
              "      <td>...</td>\n",
              "      <td>...</td>\n",
              "      <td>...</td>\n",
              "      <td>...</td>\n",
              "      <td>...</td>\n",
              "      <td>...</td>\n",
              "      <td>...</td>\n",
              "      <td>...</td>\n",
              "      <td>...</td>\n",
              "      <td>...</td>\n",
              "      <td>...</td>\n",
              "      <td>...</td>\n",
              "      <td>...</td>\n",
              "      <td>...</td>\n",
              "      <td>...</td>\n",
              "      <td>...</td>\n",
              "      <td>...</td>\n",
              "      <td>...</td>\n",
              "      <td>...</td>\n",
              "      <td>...</td>\n",
              "      <td>...</td>\n",
              "      <td>...</td>\n",
              "      <td>...</td>\n",
              "      <td>...</td>\n",
              "      <td>...</td>\n",
              "      <td>...</td>\n",
              "      <td>...</td>\n",
              "      <td>...</td>\n",
              "      <td>...</td>\n",
              "    </tr>\n",
              "    <tr>\n",
              "      <th>2020-11-04</th>\n",
              "      <td>0.833487</td>\n",
              "      <td>0.828116</td>\n",
              "      <td>0.707101</td>\n",
              "      <td>0.724949</td>\n",
              "      <td>0</td>\n",
              "      <td>0</td>\n",
              "      <td>0</td>\n",
              "      <td>0</td>\n",
              "      <td>1</td>\n",
              "      <td>1</td>\n",
              "      <td>1</td>\n",
              "      <td>0</td>\n",
              "      <td>1</td>\n",
              "      <td>0</td>\n",
              "      <td>0</td>\n",
              "      <td>1</td>\n",
              "      <td>1</td>\n",
              "      <td>0</td>\n",
              "      <td>1</td>\n",
              "      <td>0</td>\n",
              "      <td>0</td>\n",
              "      <td>0</td>\n",
              "      <td>0</td>\n",
              "      <td>1</td>\n",
              "      <td>0</td>\n",
              "      <td>1</td>\n",
              "      <td>0</td>\n",
              "      <td>0</td>\n",
              "      <td>0</td>\n",
              "      <td>1</td>\n",
              "      <td>0</td>\n",
              "      <td>0</td>\n",
              "      <td>0</td>\n",
              "      <td>0</td>\n",
              "      <td>0</td>\n",
              "      <td>0</td>\n",
              "      <td>0</td>\n",
              "      <td>1</td>\n",
              "      <td>0</td>\n",
              "      <td>0</td>\n",
              "      <td>0</td>\n",
              "      <td>0</td>\n",
              "      <td>0</td>\n",
              "      <td>0</td>\n",
              "      <td>0</td>\n",
              "      <td>0</td>\n",
              "      <td>0</td>\n",
              "      <td>0</td>\n",
              "      <td>1</td>\n",
              "      <td>0</td>\n",
              "      <td>0</td>\n",
              "      <td>0</td>\n",
              "      <td>1</td>\n",
              "    </tr>\n",
              "    <tr>\n",
              "      <th>2020-11-05</th>\n",
              "      <td>0.766845</td>\n",
              "      <td>0.747546</td>\n",
              "      <td>0.617160</td>\n",
              "      <td>0.662015</td>\n",
              "      <td>0</td>\n",
              "      <td>0</td>\n",
              "      <td>0</td>\n",
              "      <td>0</td>\n",
              "      <td>1</td>\n",
              "      <td>1</td>\n",
              "      <td>1</td>\n",
              "      <td>0</td>\n",
              "      <td>1</td>\n",
              "      <td>1</td>\n",
              "      <td>0</td>\n",
              "      <td>1</td>\n",
              "      <td>1</td>\n",
              "      <td>0</td>\n",
              "      <td>1</td>\n",
              "      <td>1</td>\n",
              "      <td>0</td>\n",
              "      <td>0</td>\n",
              "      <td>0</td>\n",
              "      <td>1</td>\n",
              "      <td>0</td>\n",
              "      <td>1</td>\n",
              "      <td>0</td>\n",
              "      <td>0</td>\n",
              "      <td>0</td>\n",
              "      <td>0</td>\n",
              "      <td>1</td>\n",
              "      <td>0</td>\n",
              "      <td>0</td>\n",
              "      <td>0</td>\n",
              "      <td>0</td>\n",
              "      <td>0</td>\n",
              "      <td>0</td>\n",
              "      <td>1</td>\n",
              "      <td>0</td>\n",
              "      <td>0</td>\n",
              "      <td>0</td>\n",
              "      <td>0</td>\n",
              "      <td>0</td>\n",
              "      <td>0</td>\n",
              "      <td>0</td>\n",
              "      <td>0</td>\n",
              "      <td>0</td>\n",
              "      <td>0</td>\n",
              "      <td>1</td>\n",
              "      <td>0</td>\n",
              "      <td>0</td>\n",
              "      <td>0</td>\n",
              "      <td>1</td>\n",
              "    </tr>\n",
              "    <tr>\n",
              "      <th>2020-11-06</th>\n",
              "      <td>0.676020</td>\n",
              "      <td>0.662160</td>\n",
              "      <td>0.487574</td>\n",
              "      <td>0.566244</td>\n",
              "      <td>0</td>\n",
              "      <td>0</td>\n",
              "      <td>0</td>\n",
              "      <td>0</td>\n",
              "      <td>1</td>\n",
              "      <td>1</td>\n",
              "      <td>1</td>\n",
              "      <td>1</td>\n",
              "      <td>0</td>\n",
              "      <td>0</td>\n",
              "      <td>0</td>\n",
              "      <td>1</td>\n",
              "      <td>1</td>\n",
              "      <td>1</td>\n",
              "      <td>0</td>\n",
              "      <td>0</td>\n",
              "      <td>0</td>\n",
              "      <td>0</td>\n",
              "      <td>0</td>\n",
              "      <td>1</td>\n",
              "      <td>0</td>\n",
              "      <td>1</td>\n",
              "      <td>0</td>\n",
              "      <td>0</td>\n",
              "      <td>0</td>\n",
              "      <td>0</td>\n",
              "      <td>0</td>\n",
              "      <td>1</td>\n",
              "      <td>0</td>\n",
              "      <td>0</td>\n",
              "      <td>0</td>\n",
              "      <td>0</td>\n",
              "      <td>0</td>\n",
              "      <td>1</td>\n",
              "      <td>0</td>\n",
              "      <td>0</td>\n",
              "      <td>0</td>\n",
              "      <td>0</td>\n",
              "      <td>0</td>\n",
              "      <td>0</td>\n",
              "      <td>0</td>\n",
              "      <td>0</td>\n",
              "      <td>0</td>\n",
              "      <td>0</td>\n",
              "      <td>1</td>\n",
              "      <td>0</td>\n",
              "      <td>0</td>\n",
              "      <td>0</td>\n",
              "      <td>1</td>\n",
              "    </tr>\n",
              "    <tr>\n",
              "      <th>2020-11-07</th>\n",
              "      <td>0.456157</td>\n",
              "      <td>0.447490</td>\n",
              "      <td>0.313609</td>\n",
              "      <td>0.369188</td>\n",
              "      <td>0</td>\n",
              "      <td>0</td>\n",
              "      <td>0</td>\n",
              "      <td>0</td>\n",
              "      <td>1</td>\n",
              "      <td>1</td>\n",
              "      <td>1</td>\n",
              "      <td>1</td>\n",
              "      <td>0</td>\n",
              "      <td>1</td>\n",
              "      <td>0</td>\n",
              "      <td>1</td>\n",
              "      <td>1</td>\n",
              "      <td>1</td>\n",
              "      <td>0</td>\n",
              "      <td>1</td>\n",
              "      <td>0</td>\n",
              "      <td>0</td>\n",
              "      <td>0</td>\n",
              "      <td>1</td>\n",
              "      <td>0</td>\n",
              "      <td>1</td>\n",
              "      <td>0</td>\n",
              "      <td>0</td>\n",
              "      <td>0</td>\n",
              "      <td>0</td>\n",
              "      <td>0</td>\n",
              "      <td>0</td>\n",
              "      <td>1</td>\n",
              "      <td>0</td>\n",
              "      <td>0</td>\n",
              "      <td>0</td>\n",
              "      <td>0</td>\n",
              "      <td>1</td>\n",
              "      <td>0</td>\n",
              "      <td>0</td>\n",
              "      <td>0</td>\n",
              "      <td>0</td>\n",
              "      <td>0</td>\n",
              "      <td>0</td>\n",
              "      <td>0</td>\n",
              "      <td>0</td>\n",
              "      <td>0</td>\n",
              "      <td>0</td>\n",
              "      <td>1</td>\n",
              "      <td>0</td>\n",
              "      <td>0</td>\n",
              "      <td>0</td>\n",
              "      <td>1</td>\n",
              "    </tr>\n",
              "    <tr>\n",
              "      <th>2020-11-08</th>\n",
              "      <td>0.459849</td>\n",
              "      <td>0.448046</td>\n",
              "      <td>0.308284</td>\n",
              "      <td>0.324796</td>\n",
              "      <td>0</td>\n",
              "      <td>0</td>\n",
              "      <td>0</td>\n",
              "      <td>0</td>\n",
              "      <td>1</td>\n",
              "      <td>1</td>\n",
              "      <td>1</td>\n",
              "      <td>1</td>\n",
              "      <td>1</td>\n",
              "      <td>0</td>\n",
              "      <td>0</td>\n",
              "      <td>1</td>\n",
              "      <td>1</td>\n",
              "      <td>1</td>\n",
              "      <td>1</td>\n",
              "      <td>0</td>\n",
              "      <td>0</td>\n",
              "      <td>0</td>\n",
              "      <td>0</td>\n",
              "      <td>1</td>\n",
              "      <td>0</td>\n",
              "      <td>1</td>\n",
              "      <td>0</td>\n",
              "      <td>0</td>\n",
              "      <td>0</td>\n",
              "      <td>0</td>\n",
              "      <td>0</td>\n",
              "      <td>0</td>\n",
              "      <td>0</td>\n",
              "      <td>1</td>\n",
              "      <td>0</td>\n",
              "      <td>0</td>\n",
              "      <td>0</td>\n",
              "      <td>1</td>\n",
              "      <td>0</td>\n",
              "      <td>0</td>\n",
              "      <td>0</td>\n",
              "      <td>0</td>\n",
              "      <td>0</td>\n",
              "      <td>0</td>\n",
              "      <td>0</td>\n",
              "      <td>0</td>\n",
              "      <td>0</td>\n",
              "      <td>0</td>\n",
              "      <td>1</td>\n",
              "      <td>0</td>\n",
              "      <td>0</td>\n",
              "      <td>0</td>\n",
              "      <td>1</td>\n",
              "    </tr>\n",
              "  </tbody>\n",
              "</table>\n",
              "<p>792 rows × 53 columns</p>\n",
              "</div>"
            ],
            "text/plain": [
              "                 사용자        세션     신규방문자  ...  year_2018  year_2019  year_2020\n",
              "date                                      ...                                 \n",
              "2018-09-09  0.051689  0.049083  0.042604  ...          1          0          0\n",
              "2018-09-10  0.048551  0.045564  0.029586  ...          1          0          0\n",
              "2018-09-11  0.060550  0.057233  0.033728  ...          1          0          0\n",
              "2018-09-12  0.055197  0.052973  0.026036  ...          1          0          0\n",
              "2018-09-13  0.069596  0.063530  0.028994  ...          1          0          0\n",
              "...              ...       ...       ...  ...        ...        ...        ...\n",
              "2020-11-04  0.833487  0.828116  0.707101  ...          0          0          1\n",
              "2020-11-05  0.766845  0.747546  0.617160  ...          0          0          1\n",
              "2020-11-06  0.676020  0.662160  0.487574  ...          0          0          1\n",
              "2020-11-07  0.456157  0.447490  0.313609  ...          0          0          1\n",
              "2020-11-08  0.459849  0.448046  0.308284  ...          0          0          1\n",
              "\n",
              "[792 rows x 53 columns]"
            ]
          },
          "metadata": {
            "tags": []
          },
          "execution_count": 623
        }
      ]
    },
    {
      "cell_type": "code",
      "metadata": {
        "id": "c3B6jULuUW5Q",
        "colab": {
          "base_uri": "https://localhost:8080/"
        },
        "outputId": "e223bd58-4e61-4b84-a988-99d4920363a7"
      },
      "source": [
        "# scaling\r\n",
        "\r\n",
        "input_window = 61\r\n",
        "output_window = 61 # 7\r\n",
        "\r\n",
        "window_x = np.zeros((train.shape[0] - (input_window + output_window), input_window, 53))\r\n",
        "window_y = np.zeros((train.shape[0] - (input_window + output_window), output_window, 4))\r\n",
        "\r\n",
        "for start in range(train.shape[0] - (input_window + output_window)):\r\n",
        "    end = start + input_window    \r\n",
        "    window_x[start,:, :] = train.iloc[start : end                , : ].values\r\n",
        "    window_y[start,:, :] = train.iloc[end   : end + output_window, :4 ].values\r\n",
        "\r\n",
        "\r\n",
        "print('window_x.shape: ', window_x.shape)\r\n",
        "print('window_y.shape: ', window_y.shape)"
      ],
      "execution_count": 624,
      "outputs": [
        {
          "output_type": "stream",
          "text": [
            "window_x.shape:  (670, 61, 53)\n",
            "window_y.shape:  (670, 61, 4)\n"
          ],
          "name": "stdout"
        }
      ]
    },
    {
      "cell_type": "code",
      "metadata": {
        "id": "wy1pDYOzVKDD"
      },
      "source": [
        "# window_x"
      ],
      "execution_count": 352,
      "outputs": []
    },
    {
      "cell_type": "markdown",
      "metadata": {
        "id": "dHc8qQZCDedw"
      },
      "source": [
        "- 시계열 데이터 임베딩 찾아서 적용해보기\r\n",
        "- 스케일링 다르게 해보기\r\n",
        "- dropout 적용해보기"
      ]
    },
    {
      "cell_type": "code",
      "metadata": {
        "id": "RMVmMfUBILC-"
      },
      "source": [
        "import tensorflow as tf\r\n",
        "from tensorflow import keras\r\n",
        "from tensorflow.keras import layers, Sequential\r\n",
        "\r\n",
        "from tensorflow.keras.layers import Dense, Conv1D, LSTM, Input, TimeDistributed\r\n",
        "from tensorflow.keras.models import Model\r\n"
      ],
      "execution_count": 438,
      "outputs": []
    },
    {
      "cell_type": "markdown",
      "metadata": {
        "id": "LJZU8NwSoRz5"
      },
      "source": [
        "optimizer = Adam, loss = mse, activation_function = 따로지정x"
      ]
    },
    {
      "cell_type": "code",
      "metadata": {
        "id": "GKj7gc585ToK",
        "colab": {
          "base_uri": "https://localhost:8080/"
        },
        "outputId": "2641e81c-9e03-4d8d-eeb8-c327ac02bb02"
      },
      "source": [
        "model = Sequential()\r\n",
        "model.add(LSTM(32, input_shape=(61, 53), return_sequences=True))  # (timestep, features)\r\n",
        "model.add(LSTM(32, return_sequences=True)) \r\n",
        "# model.add(LSTM(32, return_sequences=True)) \r\n",
        "# model.add(LSTM(32, return_sequences=True)) \r\n",
        "#model.add(LSTM(32, return_sequences=True)) \r\n",
        "# model.add(LSTM(32, return_sequences=True)) \r\n",
        "model.add(TimeDistributed(Dense(4)))\r\n",
        "\r\n",
        "model.summary()\r\n",
        "\r\n",
        "opt = keras.optimizers.Adam(learning_rate=0.01)\r\n",
        "model.compile(loss='mean_squared_error', optimizer=opt)\r\n",
        "\r\n",
        "model.fit(window_x, window_y, epochs=100, batch_size=50)\r\n",
        "\r\n",
        "# lstm2층 - epochs100, batch_size=10"
      ],
      "execution_count": 663,
      "outputs": [
        {
          "output_type": "stream",
          "text": [
            "Model: \"sequential_28\"\n",
            "_________________________________________________________________\n",
            "Layer (type)                 Output Shape              Param #   \n",
            "=================================================================\n",
            "lstm_102 (LSTM)              (None, 61, 32)            11008     \n",
            "_________________________________________________________________\n",
            "lstm_103 (LSTM)              (None, 61, 32)            8320      \n",
            "_________________________________________________________________\n",
            "time_distributed_28 (TimeDis (None, 61, 4)             132       \n",
            "=================================================================\n",
            "Total params: 19,460\n",
            "Trainable params: 19,460\n",
            "Non-trainable params: 0\n",
            "_________________________________________________________________\n",
            "Epoch 1/100\n",
            "14/14 [==============================] - 6s 52ms/step - loss: 0.0483\n",
            "Epoch 2/100\n",
            "14/14 [==============================] - 1s 56ms/step - loss: 0.0099\n",
            "Epoch 3/100\n",
            "14/14 [==============================] - 1s 51ms/step - loss: 0.0070\n",
            "Epoch 4/100\n",
            "14/14 [==============================] - 1s 52ms/step - loss: 0.0059\n",
            "Epoch 5/100\n",
            "14/14 [==============================] - 1s 54ms/step - loss: 0.0051\n",
            "Epoch 6/100\n",
            "14/14 [==============================] - 1s 54ms/step - loss: 0.0041\n",
            "Epoch 7/100\n",
            "14/14 [==============================] - 1s 53ms/step - loss: 0.0035\n",
            "Epoch 8/100\n",
            "14/14 [==============================] - 1s 52ms/step - loss: 0.0029\n",
            "Epoch 9/100\n",
            "14/14 [==============================] - 1s 54ms/step - loss: 0.0025\n",
            "Epoch 10/100\n",
            "14/14 [==============================] - 1s 53ms/step - loss: 0.0024\n",
            "Epoch 11/100\n",
            "14/14 [==============================] - 1s 53ms/step - loss: 0.0020\n",
            "Epoch 12/100\n",
            "14/14 [==============================] - 1s 53ms/step - loss: 0.0019\n",
            "Epoch 13/100\n",
            "14/14 [==============================] - 1s 54ms/step - loss: 0.0017\n",
            "Epoch 14/100\n",
            "14/14 [==============================] - 1s 53ms/step - loss: 0.0016\n",
            "Epoch 15/100\n",
            "14/14 [==============================] - 1s 54ms/step - loss: 0.0015\n",
            "Epoch 16/100\n",
            "14/14 [==============================] - 1s 56ms/step - loss: 0.0014\n",
            "Epoch 17/100\n",
            "14/14 [==============================] - 1s 54ms/step - loss: 0.0016\n",
            "Epoch 18/100\n",
            "14/14 [==============================] - 1s 55ms/step - loss: 0.0014\n",
            "Epoch 19/100\n",
            "14/14 [==============================] - 1s 56ms/step - loss: 0.0012\n",
            "Epoch 20/100\n",
            "14/14 [==============================] - 1s 57ms/step - loss: 0.0011\n",
            "Epoch 21/100\n",
            "14/14 [==============================] - 1s 54ms/step - loss: 0.0010\n",
            "Epoch 22/100\n",
            "14/14 [==============================] - 1s 58ms/step - loss: 9.6592e-04\n",
            "Epoch 23/100\n",
            "14/14 [==============================] - 1s 54ms/step - loss: 9.4214e-04\n",
            "Epoch 24/100\n",
            "14/14 [==============================] - 1s 53ms/step - loss: 8.4989e-04\n",
            "Epoch 25/100\n",
            "14/14 [==============================] - 1s 55ms/step - loss: 8.4400e-04\n",
            "Epoch 26/100\n",
            "14/14 [==============================] - 1s 58ms/step - loss: 7.8141e-04\n",
            "Epoch 27/100\n",
            "14/14 [==============================] - 1s 56ms/step - loss: 7.4800e-04\n",
            "Epoch 28/100\n",
            "14/14 [==============================] - 1s 54ms/step - loss: 7.0639e-04\n",
            "Epoch 29/100\n",
            "14/14 [==============================] - 1s 55ms/step - loss: 7.1234e-04\n",
            "Epoch 30/100\n",
            "14/14 [==============================] - 1s 58ms/step - loss: 6.6668e-04\n",
            "Epoch 31/100\n",
            "14/14 [==============================] - 1s 55ms/step - loss: 6.7102e-04\n",
            "Epoch 32/100\n",
            "14/14 [==============================] - 1s 58ms/step - loss: 6.6427e-04\n",
            "Epoch 33/100\n",
            "14/14 [==============================] - 1s 56ms/step - loss: 7.6264e-04\n",
            "Epoch 34/100\n",
            "14/14 [==============================] - 1s 56ms/step - loss: 8.3383e-04\n",
            "Epoch 35/100\n",
            "14/14 [==============================] - 1s 57ms/step - loss: 6.2486e-04\n",
            "Epoch 36/100\n",
            "14/14 [==============================] - 1s 58ms/step - loss: 4.9711e-04\n",
            "Epoch 37/100\n",
            "14/14 [==============================] - 1s 55ms/step - loss: 4.5859e-04\n",
            "Epoch 38/100\n",
            "14/14 [==============================] - 1s 55ms/step - loss: 4.3253e-04\n",
            "Epoch 39/100\n",
            "14/14 [==============================] - 1s 63ms/step - loss: 3.9562e-04\n",
            "Epoch 40/100\n",
            "14/14 [==============================] - 1s 54ms/step - loss: 3.9050e-04\n",
            "Epoch 41/100\n",
            "14/14 [==============================] - 1s 59ms/step - loss: 3.8256e-04\n",
            "Epoch 42/100\n",
            "14/14 [==============================] - 1s 53ms/step - loss: 3.5345e-04\n",
            "Epoch 43/100\n",
            "14/14 [==============================] - 1s 61ms/step - loss: 3.4145e-04\n",
            "Epoch 44/100\n",
            "14/14 [==============================] - 1s 56ms/step - loss: 3.2128e-04\n",
            "Epoch 45/100\n",
            "14/14 [==============================] - 1s 56ms/step - loss: 3.1086e-04\n",
            "Epoch 46/100\n",
            "14/14 [==============================] - 1s 56ms/step - loss: 2.9818e-04\n",
            "Epoch 47/100\n",
            "14/14 [==============================] - 1s 54ms/step - loss: 2.9798e-04\n",
            "Epoch 48/100\n",
            "14/14 [==============================] - 1s 56ms/step - loss: 2.9061e-04\n",
            "Epoch 49/100\n",
            "14/14 [==============================] - 1s 56ms/step - loss: 2.7912e-04\n",
            "Epoch 50/100\n",
            "14/14 [==============================] - 1s 55ms/step - loss: 2.5551e-04\n",
            "Epoch 51/100\n",
            "14/14 [==============================] - 1s 54ms/step - loss: 2.6358e-04\n",
            "Epoch 52/100\n",
            "14/14 [==============================] - 1s 55ms/step - loss: 2.5277e-04\n",
            "Epoch 53/100\n",
            "14/14 [==============================] - 1s 53ms/step - loss: 2.4263e-04\n",
            "Epoch 54/100\n",
            "14/14 [==============================] - 1s 57ms/step - loss: 2.5096e-04\n",
            "Epoch 55/100\n",
            "14/14 [==============================] - 1s 54ms/step - loss: 2.4860e-04\n",
            "Epoch 56/100\n",
            "14/14 [==============================] - 1s 55ms/step - loss: 2.5014e-04\n",
            "Epoch 57/100\n",
            "14/14 [==============================] - 1s 55ms/step - loss: 2.3417e-04\n",
            "Epoch 58/100\n",
            "14/14 [==============================] - 1s 55ms/step - loss: 2.2153e-04\n",
            "Epoch 59/100\n",
            "14/14 [==============================] - 1s 55ms/step - loss: 2.0466e-04\n",
            "Epoch 60/100\n",
            "14/14 [==============================] - 1s 54ms/step - loss: 2.0630e-04\n",
            "Epoch 61/100\n",
            "14/14 [==============================] - 1s 56ms/step - loss: 2.0054e-04\n",
            "Epoch 62/100\n",
            "14/14 [==============================] - 1s 53ms/step - loss: 1.9739e-04\n",
            "Epoch 63/100\n",
            "14/14 [==============================] - 1s 54ms/step - loss: 1.8431e-04\n",
            "Epoch 64/100\n",
            "14/14 [==============================] - 1s 53ms/step - loss: 1.7849e-04\n",
            "Epoch 65/100\n",
            "14/14 [==============================] - 1s 57ms/step - loss: 2.0294e-04\n",
            "Epoch 66/100\n",
            "14/14 [==============================] - 1s 54ms/step - loss: 1.8165e-04\n",
            "Epoch 67/100\n",
            "14/14 [==============================] - 1s 54ms/step - loss: 2.1343e-04\n",
            "Epoch 68/100\n",
            "14/14 [==============================] - 1s 54ms/step - loss: 1.8000e-04\n",
            "Epoch 69/100\n",
            "14/14 [==============================] - 1s 56ms/step - loss: 1.8794e-04\n",
            "Epoch 70/100\n",
            "14/14 [==============================] - 1s 55ms/step - loss: 1.7205e-04\n",
            "Epoch 71/100\n",
            "14/14 [==============================] - 1s 55ms/step - loss: 2.4126e-04\n",
            "Epoch 72/100\n",
            "14/14 [==============================] - 1s 56ms/step - loss: 2.5610e-04\n",
            "Epoch 73/100\n",
            "14/14 [==============================] - 1s 56ms/step - loss: 2.0072e-04\n",
            "Epoch 74/100\n",
            "14/14 [==============================] - 1s 55ms/step - loss: 1.5670e-04\n",
            "Epoch 75/100\n",
            "14/14 [==============================] - 1s 56ms/step - loss: 1.6617e-04\n",
            "Epoch 76/100\n",
            "14/14 [==============================] - 1s 54ms/step - loss: 1.6750e-04\n",
            "Epoch 77/100\n",
            "14/14 [==============================] - 1s 56ms/step - loss: 1.6479e-04\n",
            "Epoch 78/100\n",
            "14/14 [==============================] - 1s 55ms/step - loss: 1.5520e-04\n",
            "Epoch 79/100\n",
            "14/14 [==============================] - 1s 55ms/step - loss: 1.3614e-04\n",
            "Epoch 80/100\n",
            "14/14 [==============================] - 1s 54ms/step - loss: 1.3406e-04\n",
            "Epoch 81/100\n",
            "14/14 [==============================] - 1s 55ms/step - loss: 1.4115e-04\n",
            "Epoch 82/100\n",
            "14/14 [==============================] - 1s 58ms/step - loss: 1.3166e-04\n",
            "Epoch 83/100\n",
            "14/14 [==============================] - 1s 57ms/step - loss: 1.3488e-04\n",
            "Epoch 84/100\n",
            "14/14 [==============================] - 1s 54ms/step - loss: 1.1838e-04\n",
            "Epoch 85/100\n",
            "14/14 [==============================] - 1s 54ms/step - loss: 1.1456e-04\n",
            "Epoch 86/100\n",
            "14/14 [==============================] - 1s 58ms/step - loss: 1.0996e-04\n",
            "Epoch 87/100\n",
            "14/14 [==============================] - 1s 61ms/step - loss: 1.2235e-04\n",
            "Epoch 88/100\n",
            "14/14 [==============================] - 1s 55ms/step - loss: 1.0908e-04\n",
            "Epoch 89/100\n",
            "14/14 [==============================] - 1s 54ms/step - loss: 1.1467e-04\n",
            "Epoch 90/100\n",
            "14/14 [==============================] - 1s 56ms/step - loss: 1.0874e-04\n",
            "Epoch 91/100\n",
            "14/14 [==============================] - 1s 56ms/step - loss: 1.0958e-04\n",
            "Epoch 92/100\n",
            "14/14 [==============================] - 1s 60ms/step - loss: 1.1272e-04\n",
            "Epoch 93/100\n",
            "14/14 [==============================] - 1s 55ms/step - loss: 1.0740e-04\n",
            "Epoch 94/100\n",
            "14/14 [==============================] - 1s 55ms/step - loss: 1.1958e-04\n",
            "Epoch 95/100\n",
            "14/14 [==============================] - 1s 58ms/step - loss: 1.4461e-04\n",
            "Epoch 96/100\n",
            "14/14 [==============================] - 1s 55ms/step - loss: 1.5719e-04\n",
            "Epoch 97/100\n",
            "14/14 [==============================] - 1s 55ms/step - loss: 1.1701e-04\n",
            "Epoch 98/100\n",
            "14/14 [==============================] - 1s 54ms/step - loss: 1.0414e-04\n",
            "Epoch 99/100\n",
            "14/14 [==============================] - 1s 53ms/step - loss: 1.0215e-04\n",
            "Epoch 100/100\n",
            "14/14 [==============================] - 1s 54ms/step - loss: 1.0498e-04\n"
          ],
          "name": "stdout"
        },
        {
          "output_type": "execute_result",
          "data": {
            "text/plain": [
              "<tensorflow.python.keras.callbacks.History at 0x7f6e9ae69240>"
            ]
          },
          "metadata": {
            "tags": []
          },
          "execution_count": 663
        }
      ]
    },
    {
      "cell_type": "markdown",
      "metadata": {
        "id": "dbInac4YQ8pV"
      },
      "source": [
        "## test : last_df"
      ]
    },
    {
      "cell_type": "code",
      "metadata": {
        "colab": {
          "base_uri": "https://localhost:8080/"
        },
        "id": "hL8wR22W18Co",
        "outputId": "dfe07886-373a-4d1e-8fc3-51b722487c0c"
      },
      "source": [
        "# train은 이미 위에서 minmax scaler적용되어있음.\r\n",
        "\r\n",
        "last_df = train.iloc[-61:,:].values[np.newaxis,...] # np.newaxis: 3D로 차원을 늘려줌. \r\n",
        "last_df.shape"
      ],
      "execution_count": 627,
      "outputs": [
        {
          "output_type": "execute_result",
          "data": {
            "text/plain": [
              "(1, 61, 53)"
            ]
          },
          "metadata": {
            "tags": []
          },
          "execution_count": 627
        }
      ]
    },
    {
      "cell_type": "code",
      "metadata": {
        "colab": {
          "base_uri": "https://localhost:8080/"
        },
        "id": "qaMBTNjj2JW9",
        "outputId": "5e371dcf-5420-45cc-8c85-89bb21739aea"
      },
      "source": [
        "pred_last = model.predict(last_df)\r\n",
        "pred_last[:5]"
      ],
      "execution_count": 628,
      "outputs": [
        {
          "output_type": "stream",
          "text": [
            "WARNING:tensorflow:8 out of the last 12 calls to <function Model.make_predict_function.<locals>.predict_function at 0x7f6ea86cc8c8> triggered tf.function retracing. Tracing is expensive and the excessive number of tracings could be due to (1) creating @tf.function repeatedly in a loop, (2) passing tensors with different shapes, (3) passing Python objects instead of tensors. For (1), please define your @tf.function outside of the loop. For (2), @tf.function has experimental_relax_shapes=True option that relaxes argument shapes that can avoid unnecessary retracing. For (3), please refer to https://www.tensorflow.org/guide/function#controlling_retracing and https://www.tensorflow.org/api_docs/python/tf/function for  more details.\n"
          ],
          "name": "stdout"
        },
        {
          "output_type": "execute_result",
          "data": {
            "text/plain": [
              "array([[[0.7179821 , 0.716253  , 0.59551203, 0.6763035 ],\n",
              "        [0.8223673 , 0.81479317, 0.70578754, 0.82187015],\n",
              "        [0.6181322 , 0.6167823 , 0.47234094, 0.5461531 ],\n",
              "        [0.66319484, 0.6684899 , 0.56339824, 0.55420184],\n",
              "        [0.5415285 , 0.5337838 , 0.40740708, 0.4663254 ],\n",
              "        [0.31102896, 0.30416837, 0.21576713, 0.205109  ],\n",
              "        [0.2948836 , 0.28378832, 0.19437703, 0.19543651],\n",
              "        [0.6323293 , 0.6124578 , 0.4567476 , 0.5543605 ],\n",
              "        [0.6716483 , 0.64405227, 0.4627515 , 0.617362  ],\n",
              "        [0.5920792 , 0.5632698 , 0.35359153, 0.5301848 ],\n",
              "        [0.65450674, 0.63732487, 0.42240056, 0.6125193 ],\n",
              "        [0.57821405, 0.56107587, 0.3375425 , 0.54486537],\n",
              "        [0.43582094, 0.41236988, 0.2186311 , 0.3517167 ],\n",
              "        [0.44056073, 0.41834727, 0.24307173, 0.34691277],\n",
              "        [0.62484413, 0.5980978 , 0.39707965, 0.54768527],\n",
              "        [0.6179175 , 0.58851826, 0.37450707, 0.49843335],\n",
              "        [0.6629019 , 0.62900203, 0.40554932, 0.52761453],\n",
              "        [0.68056   , 0.63576585, 0.42343268, 0.5568267 ],\n",
              "        [0.6210692 , 0.5719405 , 0.36204973, 0.5155963 ],\n",
              "        [0.4576863 , 0.40578103, 0.22911789, 0.32630762],\n",
              "        [0.44818884, 0.39544454, 0.2145035 , 0.30366713],\n",
              "        [0.60767674, 0.55105984, 0.3335182 , 0.48340842],\n",
              "        [0.57596886, 0.5154    , 0.29347304, 0.46476305],\n",
              "        [0.5868921 , 0.5258117 , 0.2729029 , 0.4890866 ],\n",
              "        [0.71058214, 0.6634    , 0.41267207, 0.60496837],\n",
              "        [0.62170196, 0.5754768 , 0.38227564, 0.5291647 ],\n",
              "        [0.43072137, 0.3826897 , 0.22006884, 0.37034252],\n",
              "        [0.29922646, 0.2749857 , 0.14850748, 0.21743935],\n",
              "        [0.5409574 , 0.5250856 , 0.38531896, 0.35851446],\n",
              "        [0.5046467 , 0.475564  , 0.3748305 , 0.3821762 ],\n",
              "        [0.5028242 , 0.47460538, 0.3346013 , 0.39647976],\n",
              "        [0.6080351 , 0.5850266 , 0.4628456 , 0.5185217 ],\n",
              "        [0.68617487, 0.67700887, 0.5689666 , 0.6786575 ],\n",
              "        [0.43678197, 0.40689245, 0.2645181 , 0.42507276],\n",
              "        [0.37322554, 0.34806353, 0.18610322, 0.33993503],\n",
              "        [0.5659134 , 0.5442084 , 0.3627036 , 0.5743737 ],\n",
              "        [0.58399326, 0.5606409 , 0.3512443 , 0.6180461 ],\n",
              "        [0.58541   , 0.5607082 , 0.32857445, 0.6229457 ],\n",
              "        [0.62688935, 0.6126498 , 0.3807673 , 0.6668274 ],\n",
              "        [0.55172956, 0.5370054 , 0.34434494, 0.5885791 ],\n",
              "        [0.35660258, 0.3420107 , 0.18962178, 0.3741936 ],\n",
              "        [0.24110085, 0.24117357, 0.14208367, 0.2162441 ],\n",
              "        [0.6727887 , 0.7001079 , 0.6518016 , 0.54874694],\n",
              "        [0.53314626, 0.52389824, 0.5186262 , 0.48593584],\n",
              "        [0.5060463 , 0.5010501 , 0.46465147, 0.50501615],\n",
              "        [0.45726106, 0.47232065, 0.46822965, 0.33920246],\n",
              "        [0.43950227, 0.46046758, 0.47487515, 0.28574637],\n",
              "        [0.27925047, 0.27493057, 0.27308187, 0.21916364],\n",
              "        [0.31065512, 0.3011552 , 0.22463696, 0.2690972 ],\n",
              "        [0.62971044, 0.6531246 , 0.54137266, 0.47565216],\n",
              "        [0.52207005, 0.5427848 , 0.4434552 , 0.4108413 ],\n",
              "        [0.39324582, 0.39445007, 0.28035393, 0.35212034],\n",
              "        [0.6354249 , 0.65044713, 0.42538515, 0.7438348 ],\n",
              "        [0.39016545, 0.3822254 , 0.19837148, 0.41416276],\n",
              "        [0.24936208, 0.25432098, 0.12034219, 0.22123483],\n",
              "        [0.21827033, 0.21692052, 0.09988344, 0.16629578],\n",
              "        [0.52217555, 0.5332773 , 0.32809266, 0.34523916],\n",
              "        [0.4545739 , 0.45136258, 0.29463828, 0.29791358],\n",
              "        [0.4862807 , 0.49260846, 0.30719787, 0.28760406],\n",
              "        [0.59215003, 0.60630226, 0.43549547, 0.32815894],\n",
              "        [0.47678518, 0.48865473, 0.32641122, 0.2561543 ]]], dtype=float32)"
            ]
          },
          "metadata": {
            "tags": []
          },
          "execution_count": 628
        }
      ]
    },
    {
      "cell_type": "code",
      "metadata": {
        "colab": {
          "base_uri": "https://localhost:8080/"
        },
        "id": "HoED9_139dCn",
        "outputId": "5a35352b-de20-4f48-ee7e-0ce0394240f3"
      },
      "source": [
        "pred_last = pred_last.reshape(output_window,4)\r\n",
        "pred_last = pred_last * size[:4].values + mini[:4].values\r\n",
        "pred_last = pred_last.astype(int)\r\n",
        "pred_last\r\n"
      ],
      "execution_count": 629,
      "outputs": [
        {
          "output_type": "execute_result",
          "data": {
            "text/plain": [
              "array([[  3890,   3868,   1007, 105121],\n",
              "       [  4455,   4400,   1193, 127747],\n",
              "       [  3349,   3331,    799,  84892],\n",
              "       [  3593,   3610,    953,  86143],\n",
              "       [  2934,   2882,    689,  72484],\n",
              "       [  1685,   1643,    365,  31882],\n",
              "       [  1598,   1533,    329,  30379],\n",
              "       [  3426,   3307,    772,  86167],\n",
              "       [  3639,   3478,    783,  95960],\n",
              "       [  3208,   3042,    598,  82410],\n",
              "       [  3546,   3441,    714,  95207],\n",
              "       [  3133,   3030,    571,  84692],\n",
              "       [  2361,   2227,    370,  54670],\n",
              "       [  2387,   2259,    411,  53923],\n",
              "       [  3385,   3230,    672,  85130],\n",
              "       [  3348,   3178,    633,  77474],\n",
              "       [  3591,   3396,    686,  82010],\n",
              "       [  3687,   3433,    716,  86551],\n",
              "       [  3365,   3088,    612,  80142],\n",
              "       [  2480,   2191,    388,  50720],\n",
              "       [  2428,   2136,    363,  47201],\n",
              "       [  3292,   2976,    564,  75139],\n",
              "       [  3121,   2783,    496,  72241],\n",
              "       [  3180,   2839,    462,  76022],\n",
              "       [  3850,   3582,    698,  94034],\n",
              "       [  3368,   3107,    647,  82251],\n",
              "       [  2334,   2067,    372,  57565],\n",
              "       [  1621,   1485,    251,  33799],\n",
              "       [  2931,   2835,    652,  55726],\n",
              "       [  2734,   2568,    634,  59404],\n",
              "       [  2724,   2563,    566,  61628],\n",
              "       [  3294,   3159,    783,  80597],\n",
              "       [  3718,   3656,    962, 105487],\n",
              "       [  2367,   2197,    448,  66072],\n",
              "       [  2022,   1880,    315,  52839],\n",
              "       [  3066,   2939,    613,  89278],\n",
              "       [  3164,   3027,    594,  96066],\n",
              "       [  3172,   3028,    556,  96828],\n",
              "       [  3396,   3308,    644, 103648],\n",
              "       [  2989,   2900,    582,  91486],\n",
              "       [  1932,   1847,    321,  58164],\n",
              "       [  1307,   1303,    241,  33613],\n",
              "       [  3645,   3780,   1102,  85295],\n",
              "       [  2889,   2829,    877,  75532],\n",
              "       [  2742,   2706,    786,  78498],\n",
              "       [  2477,   2551,    792,  52725],\n",
              "       [  2381,   2487,    803,  44416],\n",
              "       [  1513,   1485,    462,  34067],\n",
              "       [  1683,   1626,    380,  41828],\n",
              "       [  3412,   3527,    915,  73934],\n",
              "       [  2829,   2931,    750,  63860],\n",
              "       [  2131,   2130,    474,  54733],\n",
              "       [  3443,   3512,    719, 115618],\n",
              "       [  2114,   2064,    336,  64376],\n",
              "       [  1351,   1374,    204,  34389],\n",
              "       [  1183,   1172,    169,  25849],\n",
              "       [  2829,   2880,    555,  53663],\n",
              "       [  2463,   2437,    498,  46307],\n",
              "       [  2635,   2660,    520,  44705],\n",
              "       [  3208,   3274,    736,  51008],\n",
              "       [  2583,   2639,    552,  39816]])"
            ]
          },
          "metadata": {
            "tags": []
          },
          "execution_count": 629
        }
      ]
    },
    {
      "cell_type": "code",
      "metadata": {
        "colab": {
          "base_uri": "https://localhost:8080/"
        },
        "id": "FY7lgRivG5-L",
        "outputId": "5582bfc3-9279-4c66-f213-e9de9361ee66"
      },
      "source": [
        "pred_last.shape"
      ],
      "execution_count": 630,
      "outputs": [
        {
          "output_type": "execute_result",
          "data": {
            "text/plain": [
              "(61, 4)"
            ]
          },
          "metadata": {
            "tags": []
          },
          "execution_count": 630
        }
      ]
    },
    {
      "cell_type": "markdown",
      "metadata": {
        "id": "hkxkXBgBJ4tg"
      },
      "source": [
        "## submit"
      ]
    },
    {
      "cell_type": "code",
      "metadata": {
        "colab": {
          "base_uri": "https://localhost:8080/"
        },
        "id": "444WoejNJ4t9",
        "outputId": "06656718-6cbc-4a81-acb6-58019391c7b2"
      },
      "source": [
        "submission =  pd.read_csv(path + '/open_data/submission.csv', encoding = 'euc-kr')\r\n",
        "submission.shape"
      ],
      "execution_count": 647,
      "outputs": [
        {
          "output_type": "execute_result",
          "data": {
            "text/plain": [
              "(61, 5)"
            ]
          },
          "metadata": {
            "tags": []
          },
          "execution_count": 647
        }
      ]
    },
    {
      "cell_type": "code",
      "metadata": {
        "colab": {
          "base_uri": "https://localhost:8080/"
        },
        "id": "HAtpKeL1J4t-",
        "outputId": "d51c94cf-5cca-4ff6-b337-f84e8eec6eba"
      },
      "source": [
        "pred_last.shape"
      ],
      "execution_count": 648,
      "outputs": [
        {
          "output_type": "execute_result",
          "data": {
            "text/plain": [
              "(61, 4)"
            ]
          },
          "metadata": {
            "tags": []
          },
          "execution_count": 648
        }
      ]
    },
    {
      "cell_type": "code",
      "metadata": {
        "colab": {
          "base_uri": "https://localhost:8080/",
          "height": 200
        },
        "id": "3VUwY_duJ4uA",
        "outputId": "e84351f2-c34e-44e1-acf4-ecb4f1a4e7d6"
      },
      "source": [
        "pred_df = pd.DataFrame(pred_last)\r\n",
        "pred_df.head()"
      ],
      "execution_count": 649,
      "outputs": [
        {
          "output_type": "execute_result",
          "data": {
            "text/html": [
              "<div>\n",
              "<style scoped>\n",
              "    .dataframe tbody tr th:only-of-type {\n",
              "        vertical-align: middle;\n",
              "    }\n",
              "\n",
              "    .dataframe tbody tr th {\n",
              "        vertical-align: top;\n",
              "    }\n",
              "\n",
              "    .dataframe thead th {\n",
              "        text-align: right;\n",
              "    }\n",
              "</style>\n",
              "<table border=\"1\" class=\"dataframe\">\n",
              "  <thead>\n",
              "    <tr style=\"text-align: right;\">\n",
              "      <th></th>\n",
              "      <th>0</th>\n",
              "      <th>1</th>\n",
              "      <th>2</th>\n",
              "      <th>3</th>\n",
              "    </tr>\n",
              "  </thead>\n",
              "  <tbody>\n",
              "    <tr>\n",
              "      <th>0</th>\n",
              "      <td>3890</td>\n",
              "      <td>3868</td>\n",
              "      <td>1007</td>\n",
              "      <td>105121</td>\n",
              "    </tr>\n",
              "    <tr>\n",
              "      <th>1</th>\n",
              "      <td>4455</td>\n",
              "      <td>4400</td>\n",
              "      <td>1193</td>\n",
              "      <td>127747</td>\n",
              "    </tr>\n",
              "    <tr>\n",
              "      <th>2</th>\n",
              "      <td>3349</td>\n",
              "      <td>3331</td>\n",
              "      <td>799</td>\n",
              "      <td>84892</td>\n",
              "    </tr>\n",
              "    <tr>\n",
              "      <th>3</th>\n",
              "      <td>3593</td>\n",
              "      <td>3610</td>\n",
              "      <td>953</td>\n",
              "      <td>86143</td>\n",
              "    </tr>\n",
              "    <tr>\n",
              "      <th>4</th>\n",
              "      <td>2934</td>\n",
              "      <td>2882</td>\n",
              "      <td>689</td>\n",
              "      <td>72484</td>\n",
              "    </tr>\n",
              "  </tbody>\n",
              "</table>\n",
              "</div>"
            ],
            "text/plain": [
              "      0     1     2       3\n",
              "0  3890  3868  1007  105121\n",
              "1  4455  4400  1193  127747\n",
              "2  3349  3331   799   84892\n",
              "3  3593  3610   953   86143\n",
              "4  2934  2882   689   72484"
            ]
          },
          "metadata": {
            "tags": []
          },
          "execution_count": 649
        }
      ]
    },
    {
      "cell_type": "code",
      "metadata": {
        "colab": {
          "base_uri": "https://localhost:8080/"
        },
        "id": "LFdMfTtYJ4uA",
        "outputId": "000f0f13-f76a-404c-a85b-e84c34de9640"
      },
      "source": [
        "# 30까지 모두 채우면 다시 0부터.\r\n",
        "\r\n",
        "for i in range(len(submission)):\r\n",
        "  submission['사용자'][i] = pred_df[0][i]\r\n",
        "  submission['세션'][i] = pred_df[1][i]\r\n",
        "  submission['신규방문자'][i] = pred_df[2][i]\r\n",
        "  submission['페이지뷰'][i] = pred_df[3][i]\r\n"
      ],
      "execution_count": 650,
      "outputs": [
        {
          "output_type": "stream",
          "text": [
            "/usr/local/lib/python3.6/dist-packages/ipykernel_launcher.py:4: SettingWithCopyWarning: \n",
            "A value is trying to be set on a copy of a slice from a DataFrame\n",
            "\n",
            "See the caveats in the documentation: https://pandas.pydata.org/pandas-docs/stable/user_guide/indexing.html#returning-a-view-versus-a-copy\n",
            "  after removing the cwd from sys.path.\n",
            "/usr/local/lib/python3.6/dist-packages/ipykernel_launcher.py:5: SettingWithCopyWarning: \n",
            "A value is trying to be set on a copy of a slice from a DataFrame\n",
            "\n",
            "See the caveats in the documentation: https://pandas.pydata.org/pandas-docs/stable/user_guide/indexing.html#returning-a-view-versus-a-copy\n",
            "  \"\"\"\n",
            "/usr/local/lib/python3.6/dist-packages/ipykernel_launcher.py:6: SettingWithCopyWarning: \n",
            "A value is trying to be set on a copy of a slice from a DataFrame\n",
            "\n",
            "See the caveats in the documentation: https://pandas.pydata.org/pandas-docs/stable/user_guide/indexing.html#returning-a-view-versus-a-copy\n",
            "  \n",
            "/usr/local/lib/python3.6/dist-packages/ipykernel_launcher.py:7: SettingWithCopyWarning: \n",
            "A value is trying to be set on a copy of a slice from a DataFrame\n",
            "\n",
            "See the caveats in the documentation: https://pandas.pydata.org/pandas-docs/stable/user_guide/indexing.html#returning-a-view-versus-a-copy\n",
            "  import sys\n"
          ],
          "name": "stderr"
        }
      ]
    },
    {
      "cell_type": "code",
      "metadata": {
        "colab": {
          "base_uri": "https://localhost:8080/",
          "height": 200
        },
        "id": "yYcUBxPKJ4uD",
        "outputId": "a505954e-e1b0-485c-f0db-3cfec9560e4b"
      },
      "source": [
        "submission.head()"
      ],
      "execution_count": 651,
      "outputs": [
        {
          "output_type": "execute_result",
          "data": {
            "text/html": [
              "<div>\n",
              "<style scoped>\n",
              "    .dataframe tbody tr th:only-of-type {\n",
              "        vertical-align: middle;\n",
              "    }\n",
              "\n",
              "    .dataframe tbody tr th {\n",
              "        vertical-align: top;\n",
              "    }\n",
              "\n",
              "    .dataframe thead th {\n",
              "        text-align: right;\n",
              "    }\n",
              "</style>\n",
              "<table border=\"1\" class=\"dataframe\">\n",
              "  <thead>\n",
              "    <tr style=\"text-align: right;\">\n",
              "      <th></th>\n",
              "      <th>DateTime</th>\n",
              "      <th>사용자</th>\n",
              "      <th>세션</th>\n",
              "      <th>신규방문자</th>\n",
              "      <th>페이지뷰</th>\n",
              "    </tr>\n",
              "  </thead>\n",
              "  <tbody>\n",
              "    <tr>\n",
              "      <th>0</th>\n",
              "      <td>2020-11-09</td>\n",
              "      <td>3890</td>\n",
              "      <td>3868</td>\n",
              "      <td>1007</td>\n",
              "      <td>105121</td>\n",
              "    </tr>\n",
              "    <tr>\n",
              "      <th>1</th>\n",
              "      <td>2020-11-10</td>\n",
              "      <td>4455</td>\n",
              "      <td>4400</td>\n",
              "      <td>1193</td>\n",
              "      <td>127747</td>\n",
              "    </tr>\n",
              "    <tr>\n",
              "      <th>2</th>\n",
              "      <td>2020-11-11</td>\n",
              "      <td>3349</td>\n",
              "      <td>3331</td>\n",
              "      <td>799</td>\n",
              "      <td>84892</td>\n",
              "    </tr>\n",
              "    <tr>\n",
              "      <th>3</th>\n",
              "      <td>2020-11-12</td>\n",
              "      <td>3593</td>\n",
              "      <td>3610</td>\n",
              "      <td>953</td>\n",
              "      <td>86143</td>\n",
              "    </tr>\n",
              "    <tr>\n",
              "      <th>4</th>\n",
              "      <td>2020-11-13</td>\n",
              "      <td>2934</td>\n",
              "      <td>2882</td>\n",
              "      <td>689</td>\n",
              "      <td>72484</td>\n",
              "    </tr>\n",
              "  </tbody>\n",
              "</table>\n",
              "</div>"
            ],
            "text/plain": [
              "     DateTime   사용자    세션  신규방문자    페이지뷰\n",
              "0  2020-11-09  3890  3868   1007  105121\n",
              "1  2020-11-10  4455  4400   1193  127747\n",
              "2  2020-11-11  3349  3331    799   84892\n",
              "3  2020-11-12  3593  3610    953   86143\n",
              "4  2020-11-13  2934  2882    689   72484"
            ]
          },
          "metadata": {
            "tags": []
          },
          "execution_count": 651
        }
      ]
    },
    {
      "cell_type": "code",
      "metadata": {
        "id": "UeUT41zKMnRF"
      },
      "source": [
        "submission.to_csv('add 날짜feature.csv', index = False, encoding = 'euc-kr')"
      ],
      "execution_count": 654,
      "outputs": []
    },
    {
      "cell_type": "markdown",
      "metadata": {
        "id": "G0ARyON_J5BK"
      },
      "source": [
        "#### 결과 제일 좋았던, 나빴던 파일이랑 predict를 비교"
      ]
    },
    {
      "cell_type": "code",
      "metadata": {
        "colab": {
          "base_uri": "https://localhost:8080/",
          "height": 230
        },
        "id": "kSyu8nZ2J85o",
        "outputId": "3a2d317c-b83c-4d9e-cda3-f4570c484f3f"
      },
      "source": [
        "best = pd.read_csv('add 날짜feature.csv', encoding = 'euc-kr')\r\n",
        "best.set_index('DateTime', inplace = True)\r\n",
        "best.index = pd.to_datetime(best.index)\r\n",
        "best.head()"
      ],
      "execution_count": 655,
      "outputs": [
        {
          "output_type": "execute_result",
          "data": {
            "text/html": [
              "<div>\n",
              "<style scoped>\n",
              "    .dataframe tbody tr th:only-of-type {\n",
              "        vertical-align: middle;\n",
              "    }\n",
              "\n",
              "    .dataframe tbody tr th {\n",
              "        vertical-align: top;\n",
              "    }\n",
              "\n",
              "    .dataframe thead th {\n",
              "        text-align: right;\n",
              "    }\n",
              "</style>\n",
              "<table border=\"1\" class=\"dataframe\">\n",
              "  <thead>\n",
              "    <tr style=\"text-align: right;\">\n",
              "      <th></th>\n",
              "      <th>사용자</th>\n",
              "      <th>세션</th>\n",
              "      <th>신규방문자</th>\n",
              "      <th>페이지뷰</th>\n",
              "    </tr>\n",
              "    <tr>\n",
              "      <th>DateTime</th>\n",
              "      <th></th>\n",
              "      <th></th>\n",
              "      <th></th>\n",
              "      <th></th>\n",
              "    </tr>\n",
              "  </thead>\n",
              "  <tbody>\n",
              "    <tr>\n",
              "      <th>2020-11-09</th>\n",
              "      <td>3890</td>\n",
              "      <td>3868</td>\n",
              "      <td>1007</td>\n",
              "      <td>105121</td>\n",
              "    </tr>\n",
              "    <tr>\n",
              "      <th>2020-11-10</th>\n",
              "      <td>4455</td>\n",
              "      <td>4400</td>\n",
              "      <td>1193</td>\n",
              "      <td>127747</td>\n",
              "    </tr>\n",
              "    <tr>\n",
              "      <th>2020-11-11</th>\n",
              "      <td>3349</td>\n",
              "      <td>3331</td>\n",
              "      <td>799</td>\n",
              "      <td>84892</td>\n",
              "    </tr>\n",
              "    <tr>\n",
              "      <th>2020-11-12</th>\n",
              "      <td>3593</td>\n",
              "      <td>3610</td>\n",
              "      <td>953</td>\n",
              "      <td>86143</td>\n",
              "    </tr>\n",
              "    <tr>\n",
              "      <th>2020-11-13</th>\n",
              "      <td>2934</td>\n",
              "      <td>2882</td>\n",
              "      <td>689</td>\n",
              "      <td>72484</td>\n",
              "    </tr>\n",
              "  </tbody>\n",
              "</table>\n",
              "</div>"
            ],
            "text/plain": [
              "             사용자    세션  신규방문자    페이지뷰\n",
              "DateTime                             \n",
              "2020-11-09  3890  3868   1007  105121\n",
              "2020-11-10  4455  4400   1193  127747\n",
              "2020-11-11  3349  3331    799   84892\n",
              "2020-11-12  3593  3610    953   86143\n",
              "2020-11-13  2934  2882    689   72484"
            ]
          },
          "metadata": {
            "tags": []
          },
          "execution_count": 655
        }
      ]
    },
    {
      "cell_type": "code",
      "metadata": {
        "id": "sCT4at_iSIP5"
      },
      "source": [
        "worst = pd.read_csv('lstm5 e150 b10.csv', encoding = 'euc-kr')\r\n",
        "worst.set_index('DateTime', inplace = True)\r\n",
        "worst.index = pd.to_datetime(best.index)\r\n",
        "#worst.head()"
      ],
      "execution_count": 658,
      "outputs": []
    },
    {
      "cell_type": "code",
      "metadata": {
        "colab": {
          "base_uri": "https://localhost:8080/",
          "height": 330
        },
        "id": "6EvX_gyeMV9R",
        "outputId": "4c7af5f6-55e6-4c1d-bc54-9035a870e130"
      },
      "source": [
        "submission.set_index('DateTime', inplace = True)\r\n",
        "submission.index = pd.to_datetime(submission.index)\r\n",
        "# submission.head()"
      ],
      "execution_count": 659,
      "outputs": [
        {
          "output_type": "error",
          "ename": "KeyError",
          "evalue": "ignored",
          "traceback": [
            "\u001b[0;31m---------------------------------------------------------------------------\u001b[0m",
            "\u001b[0;31mKeyError\u001b[0m                                  Traceback (most recent call last)",
            "\u001b[0;32m<ipython-input-659-84eae1e156db>\u001b[0m in \u001b[0;36m<module>\u001b[0;34m()\u001b[0m\n\u001b[0;32m----> 1\u001b[0;31m \u001b[0msubmission\u001b[0m\u001b[0;34m.\u001b[0m\u001b[0mset_index\u001b[0m\u001b[0;34m(\u001b[0m\u001b[0;34m'DateTime'\u001b[0m\u001b[0;34m,\u001b[0m \u001b[0minplace\u001b[0m \u001b[0;34m=\u001b[0m \u001b[0;32mTrue\u001b[0m\u001b[0;34m)\u001b[0m\u001b[0;34m\u001b[0m\u001b[0;34m\u001b[0m\u001b[0m\n\u001b[0m\u001b[1;32m      2\u001b[0m \u001b[0msubmission\u001b[0m\u001b[0;34m.\u001b[0m\u001b[0mindex\u001b[0m \u001b[0;34m=\u001b[0m \u001b[0mpd\u001b[0m\u001b[0;34m.\u001b[0m\u001b[0mto_datetime\u001b[0m\u001b[0;34m(\u001b[0m\u001b[0msubmission\u001b[0m\u001b[0;34m.\u001b[0m\u001b[0mindex\u001b[0m\u001b[0;34m)\u001b[0m\u001b[0;34m\u001b[0m\u001b[0;34m\u001b[0m\u001b[0m\n\u001b[1;32m      3\u001b[0m \u001b[0;31m# submission.head()\u001b[0m\u001b[0;34m\u001b[0m\u001b[0;34m\u001b[0m\u001b[0;34m\u001b[0m\u001b[0m\n",
            "\u001b[0;32m/usr/local/lib/python3.6/dist-packages/pandas/core/frame.py\u001b[0m in \u001b[0;36mset_index\u001b[0;34m(self, keys, drop, append, inplace, verify_integrity)\u001b[0m\n\u001b[1;32m   4553\u001b[0m \u001b[0;34m\u001b[0m\u001b[0m\n\u001b[1;32m   4554\u001b[0m         \u001b[0;32mif\u001b[0m \u001b[0mmissing\u001b[0m\u001b[0;34m:\u001b[0m\u001b[0;34m\u001b[0m\u001b[0;34m\u001b[0m\u001b[0m\n\u001b[0;32m-> 4555\u001b[0;31m             \u001b[0;32mraise\u001b[0m \u001b[0mKeyError\u001b[0m\u001b[0;34m(\u001b[0m\u001b[0;34mf\"None of {missing} are in the columns\"\u001b[0m\u001b[0;34m)\u001b[0m\u001b[0;34m\u001b[0m\u001b[0;34m\u001b[0m\u001b[0m\n\u001b[0m\u001b[1;32m   4556\u001b[0m \u001b[0;34m\u001b[0m\u001b[0m\n\u001b[1;32m   4557\u001b[0m         \u001b[0;32mif\u001b[0m \u001b[0minplace\u001b[0m\u001b[0;34m:\u001b[0m\u001b[0;34m\u001b[0m\u001b[0;34m\u001b[0m\u001b[0m\n",
            "\u001b[0;31mKeyError\u001b[0m: \"None of ['DateTime'] are in the columns\""
          ]
        }
      ]
    },
    {
      "cell_type": "code",
      "metadata": {
        "colab": {
          "base_uri": "https://localhost:8080/",
          "height": 428
        },
        "id": "qgpdgvAzKK9R",
        "outputId": "fd11a7fe-3fbb-43d0-c112-7b51d6b7a0ca"
      },
      "source": [
        "# plot expected vs preducted\r\n",
        "\r\n",
        "\r\n",
        "plt.figure(figsize = (15,7))\r\n",
        "pyplot.plot(best['사용자'], label='best')\r\n",
        "pyplot.plot(submission['사용자'], label='Predicted')\r\n",
        "pyplot.plot(worst['사용자'], label = 'worst')\r\n",
        "pyplot.legend()\r\n",
        "pyplot.show()"
      ],
      "execution_count": 660,
      "outputs": [
        {
          "output_type": "display_data",
          "data": {
            "image/png": "[encoded data removed]",
            "text/plain": [
              "<Figure size 1080x504 with 1 Axes>"
            ]
          },
          "metadata": {
            "tags": [],
            "needs_background": "light"
          }
        }
      ]
    },
    {
      "cell_type": "code",
      "metadata": {
        "colab": {
          "base_uri": "https://localhost:8080/",
          "height": 428
        },
        "id": "VBs3Ig9sLHcw",
        "outputId": "5c841a79-e2b2-4f45-89ba-d739d427779b"
      },
      "source": [
        "\r\n",
        "plt.figure(figsize = (15,7))\r\n",
        "pyplot.plot(best['세션'], label='best')\r\n",
        "pyplot.plot(submission['세션'], label='Predicted')\r\n",
        "pyplot.plot(worst['세션'], label = 'worst')\r\n",
        "pyplot.legend()\r\n",
        "pyplot.show()"
      ],
      "execution_count": 661,
      "outputs": [
        {
          "output_type": "display_data",
          "data": {
            "image/png": "[encoded data removed]",
            "text/plain": [
              "<Figure size 1080x504 with 1 Axes>"
            ]
          },
          "metadata": {
            "tags": [],
            "needs_background": "light"
          }
        }
      ]
    },
    {
      "cell_type": "code",
      "metadata": {
        "colab": {
          "base_uri": "https://localhost:8080/",
          "height": 428
        },
        "id": "GBhRD3aLLPV4",
        "outputId": "f0c07f81-dbe4-4fbe-a147-55c4cb9f81c5"
      },
      "source": [
        "\r\n",
        "plt.figure(figsize = (15,7))\r\n",
        "pyplot.plot(best['신규방문자'], label='best')\r\n",
        "pyplot.plot(submission['신규방문자'], label='Predicted')\r\n",
        "pyplot.plot(worst['신규방문자'], label = 'worst')\r\n",
        "pyplot.legend()\r\n",
        "pyplot.show()"
      ],
      "execution_count": 662,
      "outputs": [
        {
          "output_type": "display_data",
          "data": {
            "image/png": "[encoded data removed]",
            "text/plain": [
              "<Figure size 1080x504 with 1 Axes>"
            ]
          },
          "metadata": {
            "tags": [],
            "needs_background": "light"
          }
        }
      ]
    },
    {
      "cell_type": "code",
      "metadata": {
        "colab": {
          "base_uri": "https://localhost:8080/",
          "height": 428
        },
        "id": "NV6qNNQoLPZT",
        "outputId": "75014676-442e-45d0-adca-bb23021a06f0"
      },
      "source": [
        "\r\n",
        "plt.figure(figsize = (15,7))\r\n",
        "pyplot.plot(best['페이지뷰'], label='best')\r\n",
        "pyplot.plot(submission['페이지뷰'], label='Predicted')\r\n",
        "pyplot.plot(worst['페이지뷰'], label = 'worst')\r\n",
        "pyplot.legend()\r\n",
        "pyplot.show()"
      ],
      "execution_count": 664,
      "outputs": [
        {
          "output_type": "display_data",
          "data": {
            "image/png": "[encoded data removed]",
            "text/plain": [
              "<Figure size 1080x504 with 1 Axes>"
            ]
          },
          "metadata": {
            "tags": [],
            "needs_background": "light"
          }
        }
      ]
    },
    {
      "cell_type": "markdown",
      "metadata": {
        "id": "XLF-l5iKM46Q"
      },
      "source": [
        "- 위에 잘 예측하지 못하는 부분들은 조금 튀는 값인 것 같음\r\n",
        "- 해당 일자에 어떤 특징(개최된 대회 등)을 파악\r\n",
        "- 이후 1) 제거 또는 2) 특징 적용  (추세파악과 관련없다면 제거하기)"
      ]
    },
    {
      "cell_type": "markdown",
      "metadata": {
        "id": "SmtQVQJANMUu"
      },
      "source": [
        "## 참조"
      ]
    },
    {
      "cell_type": "code",
      "metadata": {
        "id": "V4016MLpNRw7"
      },
      "source": [
        "# 각 변수의 크기가 다르기 때문에 가중치를 부여한 RMSE로 모델의 성능을 평가\r\n",
        "\r\n",
        "def dacon_rmse(true, pred):\r\n",
        "    # true.shape // (N,4)\r\n",
        "    # pred.shape // (N,4)\r\n",
        "    # w0, w1, w2, w3 <= train.csv의 사용자 수, 세션 수, 신규 방문자 수, 페이지 뷰 수 4가지 항목별 평균값\r\n",
        "    score = np.sqrt(np.mean(np.square(true[:,0] - pred[:,0]))) / w0 +\\\r\n",
        "            + np.sqrt(np.mean(np.square(true[:,1] - pred[:,1]))) / w1 +\\\r\n",
        "            + np.sqrt(np.mean(np.square(true[:,2] - pred[:,2]))) / w2 +\\\r\n",
        "            + np.sqrt(np.mean(np.square(true[:,3] - pred[:,3]))) / w3 +\\\r\n",
        "     return score"
      ],
      "execution_count": null,
      "outputs": []
    },
    {
      "cell_type": "code",
      "metadata": {
        "id": "gU4pGj8uJ4uD"
      },
      "source": [
        "# 스케일링\r\n",
        "from sklearn.preprocessing import MinMaxScaler\r\n",
        "\r\n",
        "sc = MinMaxScaler()\r\n",
        "\r\n",
        "train_sc = sc.fit_transform(train)\r\n",
        "test_sc = sc.transform(test)\r\n",
        "\r\n",
        "train_sc"
      ],
      "execution_count": null,
      "outputs": []
    },
    {
      "cell_type": "code",
      "metadata": {
        "id": "Hl9q9I2KJ4uD"
      },
      "source": [
        "# date 기준 변수 만들기\r\n",
        "\r\n",
        "from datetime import datetime\r\n",
        "\r\n",
        "def create_features(df):\r\n",
        "    \"\"\"\r\n",
        "    Creates time series features from datetime index\r\n",
        "    \"\"\"\r\n",
        "    # df['DateTime'] = df.index\r\n",
        "    # df['hour'] = df['date'].dt.hour\r\n",
        "    df['dayofweek'] = pd.to_datetime(df['date']).dt.dayofweek\r\n",
        "    df['quarter'] = pd.to_datetime(df['date']).dt.quarter\r\n",
        "    df['month'] = pd.to_datetime(df['date']).dt.month\r\n",
        "    df['year'] = pd.to_datetime(df['date']).dt.year\r\n",
        "    df['dayofyear'] = pd.to_datetime(df['date']).dt.dayofyear\r\n",
        "    df['dayofmonth'] = pd.to_datetime(df['date']).dt.day\r\n",
        "    df['weekofyear'] = pd.to_datetime(df['date']).dt.weekofyear\r\n",
        "    \r\n",
        "    X = df[['사용자','세션','신규방문자','페이지뷰','date','dayofweek','quarter','month','year',\r\n",
        "           'dayofyear','dayofmonth','weekofyear']]\r\n",
        "    X.set_index('date', inplace = True)\r\n",
        "    X.index = pd.to_datetime(X.index)\r\n",
        "    return X"
      ],
      "execution_count": null,
      "outputs": []
    },
    {
      "cell_type": "code",
      "metadata": {
        "id": "J5Kvtw5oJ4uE"
      },
      "source": [
        ""
      ],
      "execution_count": null,
      "outputs": []
    },
    {
      "cell_type": "code",
      "metadata": {
        "id": "JbEwC3YfJ4uG"
      },
      "source": [
        ""
      ],
      "execution_count": null,
      "outputs": []
    },
    {
      "cell_type": "markdown",
      "metadata": {
        "id": "Li0vASmhIIhr"
      },
      "source": [
        "## 예측값을 x로 다시 predict  \r\n",
        "- 마이너스 값이 나와서 실패.."
      ]
    },
    {
      "cell_type": "code",
      "metadata": {
        "id": "5mcOvvQQH4t2"
      },
      "source": [
        "tr_month1 = pd.DataFrame(pred_month)"
      ],
      "execution_count": 240,
      "outputs": []
    },
    {
      "cell_type": "code",
      "metadata": {
        "colab": {
          "base_uri": "https://localhost:8080/"
        },
        "id": "adnkLDwMBGVC",
        "outputId": "03b57207-9c74-45ac-e8cd-c99f68e12624"
      },
      "source": [
        "# 위 예측값을 x로 사용하기.\r\n",
        "mini1 = tr_month1.iloc[:,1:].min()\r\n",
        "size1 = tr_month1.iloc[:,1:].max() - tr_month1.iloc[:,1:].min()\r\n",
        "tr_month1.iloc[:,1:] = (tr_month1.iloc[:,1:] -  mini1) / size1\r\n",
        "\r\n",
        "tr_month1 = tr_month1.iloc[:,:].values[np.newaxis,...] # np.newaxis: 3D로 차원을 늘려줌. \r\n",
        "tr_month1.shape"
      ],
      "execution_count": 241,
      "outputs": [
        {
          "output_type": "execute_result",
          "data": {
            "text/plain": [
              "(1, 30, 4)"
            ]
          },
          "metadata": {
            "tags": []
          },
          "execution_count": 241
        }
      ]
    },
    {
      "cell_type": "code",
      "metadata": {
        "colab": {
          "base_uri": "https://localhost:8080/"
        },
        "id": "ExeU6niB_gVU",
        "outputId": "fc5202b3-1903-408d-a47d-399456182a90"
      },
      "source": [
        "pred_month1 = model.predict(tr_month1)\r\n",
        "pred_month1[:5]"
      ],
      "execution_count": 242,
      "outputs": [
        {
          "output_type": "execute_result",
          "data": {
            "text/plain": [
              "array([[[ 0.18093495,  0.15617856,  0.17545578,  0.07859027],\n",
              "        [ 0.09990777,  0.06255519,  0.09158635, -0.03202646],\n",
              "        [ 0.1238751 ,  0.08535202,  0.10137758, -0.0130481 ],\n",
              "        [ 0.1609668 ,  0.12201263,  0.13407502,  0.02669705],\n",
              "        [ 0.17643648,  0.13653305,  0.14765052,  0.04409892],\n",
              "        [ 0.17911391,  0.13828306,  0.1470722 ,  0.04774056],\n",
              "        [ 0.18096438,  0.13957691,  0.14543536,  0.05040792],\n",
              "        [ 0.18431361,  0.14262158,  0.14594844,  0.05457786],\n",
              "        [ 0.18804072,  0.14617258,  0.14746507,  0.05902395],\n",
              "        [ 0.19144723,  0.14947562,  0.14904726,  0.06302298],\n",
              "        [ 0.19444391,  0.15241605,  0.15047295,  0.06651456],\n",
              "        [ 0.19708903,  0.15503576,  0.15175058,  0.0695814 ],\n",
              "        [ 0.19941911,  0.15735956,  0.1528904 ,  0.07227365],\n",
              "        [ 0.20145619,  0.1594011 ,  0.15389048,  0.07462133],\n",
              "        [ 0.20322528,  0.16118066,  0.15475564,  0.07665686],\n",
              "        [ 0.20475666,  0.1627254 ,  0.15549937,  0.07841668],\n",
              "        [ 0.20607981,  0.16406311,  0.15613678,  0.07993583],\n",
              "        [ 0.20722167,  0.16521949,  0.1566826 ,  0.08124612],\n",
              "        [ 0.20820667,  0.16621836,  0.15714978,  0.08237571],\n",
              "        [ 0.2090564 ,  0.1670809 ,  0.1575499 ,  0.0833498 ],\n",
              "        [ 0.20978941,  0.16782564,  0.15789254,  0.0841899 ],\n",
              "        [ 0.21042213,  0.16846888,  0.15818639,  0.08491511],\n",
              "        [ 0.21096869,  0.16902478,  0.15843861,  0.08554155],\n",
              "        [ 0.21144134,  0.16950572,  0.15865529,  0.08608345],\n",
              "        [ 0.21185055,  0.16992216,  0.1588416 ,  0.08655299],\n",
              "        [ 0.21220507,  0.17028306,  0.15900199,  0.08695994],\n",
              "        [ 0.21251297,  0.17059648,  0.15914051,  0.08731372],\n",
              "        [ 0.21278061,  0.17086884,  0.15926   ,  0.08762143],\n",
              "        [ 0.21301368,  0.1711061 ,  0.1593634 ,  0.0878898 ],\n",
              "        [ 0.21321674,  0.17131281,  0.15945278,  0.0881241 ]]],\n",
              "      dtype=float32)"
            ]
          },
          "metadata": {
            "tags": []
          },
          "execution_count": 242
        }
      ]
    },
    {
      "cell_type": "code",
      "metadata": {
        "colab": {
          "base_uri": "https://localhost:8080/"
        },
        "id": "bD7YTlqWHHKq",
        "outputId": "99a9f132-0468-4362-a1dd-58469354c0e9"
      },
      "source": [
        "pred_month1 = pred_month1.reshape(output_window,4)\r\n",
        "pred_month1 = pred_month1 * size.values + mini.values\r\n",
        "pred_month1 = pred_month1.astype(int)\r\n",
        "pred_month1\r\n"
      ],
      "execution_count": 243,
      "outputs": [
        {
          "output_type": "execute_result",
          "data": {
            "text/plain": [
              "array([[  981,   844,   297, 12217],\n",
              "       [  542,   338,   155, -4975],\n",
              "       [  672,   461,   172, -2026],\n",
              "       [  872,   659,   227,  4151],\n",
              "       [  956,   738,   250,  6856],\n",
              "       [  971,   747,   249,  7422],\n",
              "       [  981,   754,   246,  7837],\n",
              "       [  999,   771,   247,  8485],\n",
              "       [ 1019,   790,   250,  9176],\n",
              "       [ 1038,   808,   252,  9797],\n",
              "       [ 1054,   823,   255, 10340],\n",
              "       [ 1068,   838,   257, 10817],\n",
              "       [ 1081,   850,   259, 11235],\n",
              "       [ 1092,   861,   261, 11600],\n",
              "       [ 1101,   871,   262, 11917],\n",
              "       [ 1110,   879,   263, 12190],\n",
              "       [ 1117,   886,   264, 12426],\n",
              "       [ 1123,   893,   265, 12630],\n",
              "       [ 1128,   898,   266, 12805],\n",
              "       [ 1133,   903,   267, 12957],\n",
              "       [ 1137,   907,   267, 13087],\n",
              "       [ 1140,   910,   268, 13200],\n",
              "       [ 1143,   913,   268, 13297],\n",
              "       [ 1146,   916,   269, 13382],\n",
              "       [ 1148,   918,   269, 13455],\n",
              "       [ 1150,   920,   269, 13518],\n",
              "       [ 1152,   922,   269, 13573],\n",
              "       [ 1153,   923,   270, 13621],\n",
              "       [ 1154,   924,   270, 13662],\n",
              "       [ 1155,   925,   270, 13699]])"
            ]
          },
          "metadata": {
            "tags": []
          },
          "execution_count": 243
        }
      ]
    },
    {
      "cell_type": "markdown",
      "metadata": {
        "id": "bCmWKSqRGBGV"
      },
      "source": [
        "#### 윈도우 크기 다르게 해서 train하고 test해보기"
      ]
    },
    {
      "cell_type": "markdown",
      "metadata": {
        "id": "uyOo9JpX8t7D"
      },
      "source": [
        "aa"
      ]
    },
    {
      "cell_type": "markdown",
      "metadata": {
        "id": "HbonwFz84uV5"
      },
      "source": [
        "## test = train[-61]"
      ]
    },
    {
      "cell_type": "code",
      "metadata": {
        "id": "KE4rgNXRQWAO",
        "colab": {
          "base_uri": "https://localhost:8080/",
          "height": 0
        },
        "outputId": "8f74113a-7999-4c4a-d114-37922bc6a09a"
      },
      "source": [
        "test = train[-61:]\r\n",
        "test"
      ],
      "execution_count": 201,
      "outputs": [
        {
          "output_type": "execute_result",
          "data": {
            "text/html": [
              "<div>\n",
              "<style scoped>\n",
              "    .dataframe tbody tr th:only-of-type {\n",
              "        vertical-align: middle;\n",
              "    }\n",
              "\n",
              "    .dataframe tbody tr th {\n",
              "        vertical-align: top;\n",
              "    }\n",
              "\n",
              "    .dataframe thead th {\n",
              "        text-align: right;\n",
              "    }\n",
              "</style>\n",
              "<table border=\"1\" class=\"dataframe\">\n",
              "  <thead>\n",
              "    <tr style=\"text-align: right;\">\n",
              "      <th></th>\n",
              "      <th>date</th>\n",
              "      <th>사용자</th>\n",
              "      <th>세션</th>\n",
              "      <th>신규방문자</th>\n",
              "      <th>페이지뷰</th>\n",
              "    </tr>\n",
              "  </thead>\n",
              "  <tbody>\n",
              "    <tr>\n",
              "      <th>731</th>\n",
              "      <td>2020-09-09</td>\n",
              "      <td>0.497877</td>\n",
              "      <td>0.490461</td>\n",
              "      <td>0.355030</td>\n",
              "      <td>0.377532</td>\n",
              "    </tr>\n",
              "    <tr>\n",
              "      <th>732</th>\n",
              "      <td>2020-09-10</td>\n",
              "      <td>0.452464</td>\n",
              "      <td>0.450824</td>\n",
              "      <td>0.324260</td>\n",
              "      <td>0.339207</td>\n",
              "    </tr>\n",
              "    <tr>\n",
              "      <th>733</th>\n",
              "      <td>2020-09-11</td>\n",
              "      <td>0.405206</td>\n",
              "      <td>0.397111</td>\n",
              "      <td>0.278107</td>\n",
              "      <td>0.321836</td>\n",
              "    </tr>\n",
              "    <tr>\n",
              "      <th>734</th>\n",
              "      <td>2020-09-12</td>\n",
              "      <td>0.298320</td>\n",
              "      <td>0.295425</td>\n",
              "      <td>0.194083</td>\n",
              "      <td>0.242021</td>\n",
              "    </tr>\n",
              "    <tr>\n",
              "      <th>735</th>\n",
              "      <td>2020-09-13</td>\n",
              "      <td>0.342810</td>\n",
              "      <td>0.333951</td>\n",
              "      <td>0.198817</td>\n",
              "      <td>0.288169</td>\n",
              "    </tr>\n",
              "    <tr>\n",
              "      <th>...</th>\n",
              "      <td>...</td>\n",
              "      <td>...</td>\n",
              "      <td>...</td>\n",
              "      <td>...</td>\n",
              "      <td>...</td>\n",
              "    </tr>\n",
              "    <tr>\n",
              "      <th>787</th>\n",
              "      <td>2020-11-04</td>\n",
              "      <td>0.833487</td>\n",
              "      <td>0.828116</td>\n",
              "      <td>0.707101</td>\n",
              "      <td>0.724949</td>\n",
              "    </tr>\n",
              "    <tr>\n",
              "      <th>788</th>\n",
              "      <td>2020-11-05</td>\n",
              "      <td>0.766845</td>\n",
              "      <td>0.747546</td>\n",
              "      <td>0.617160</td>\n",
              "      <td>0.662015</td>\n",
              "    </tr>\n",
              "    <tr>\n",
              "      <th>789</th>\n",
              "      <td>2020-11-06</td>\n",
              "      <td>0.676020</td>\n",
              "      <td>0.662160</td>\n",
              "      <td>0.487574</td>\n",
              "      <td>0.566244</td>\n",
              "    </tr>\n",
              "    <tr>\n",
              "      <th>790</th>\n",
              "      <td>2020-11-07</td>\n",
              "      <td>0.456157</td>\n",
              "      <td>0.447490</td>\n",
              "      <td>0.313609</td>\n",
              "      <td>0.369188</td>\n",
              "    </tr>\n",
              "    <tr>\n",
              "      <th>791</th>\n",
              "      <td>2020-11-08</td>\n",
              "      <td>0.459849</td>\n",
              "      <td>0.448046</td>\n",
              "      <td>0.308284</td>\n",
              "      <td>0.324796</td>\n",
              "    </tr>\n",
              "  </tbody>\n",
              "</table>\n",
              "<p>61 rows × 5 columns</p>\n",
              "</div>"
            ],
            "text/plain": [
              "           date       사용자        세션     신규방문자      페이지뷰\n",
              "731  2020-09-09  0.497877  0.490461  0.355030  0.377532\n",
              "732  2020-09-10  0.452464  0.450824  0.324260  0.339207\n",
              "733  2020-09-11  0.405206  0.397111  0.278107  0.321836\n",
              "734  2020-09-12  0.298320  0.295425  0.194083  0.242021\n",
              "735  2020-09-13  0.342810  0.333951  0.198817  0.288169\n",
              "..          ...       ...       ...       ...       ...\n",
              "787  2020-11-04  0.833487  0.828116  0.707101  0.724949\n",
              "788  2020-11-05  0.766845  0.747546  0.617160  0.662015\n",
              "789  2020-11-06  0.676020  0.662160  0.487574  0.566244\n",
              "790  2020-11-07  0.456157  0.447490  0.313609  0.369188\n",
              "791  2020-11-08  0.459849  0.448046  0.308284  0.324796\n",
              "\n",
              "[61 rows x 5 columns]"
            ]
          },
          "metadata": {
            "tags": []
          },
          "execution_count": 201
        }
      ]
    },
    {
      "cell_type": "code",
      "metadata": {
        "id": "nkRbon7yRGz_",
        "colab": {
          "base_uri": "https://localhost:8080/"
        },
        "outputId": "4a779da1-ac40-4262-f9c0-5dc2793c0da2"
      },
      "source": [
        "# scaling\r\n",
        "\r\n",
        "input_window = 30\r\n",
        "output_window = 30\r\n",
        "\r\n",
        "test_x = np.zeros((test.shape[0] - (input_window + output_window), input_window, 4))\r\n",
        "test_y = np.zeros((test.shape[0] - (input_window + output_window), output_window, 4))\r\n",
        "\r\n",
        "for start in range(test.shape[0] - (input_window + output_window)):\r\n",
        "    end = start + input_window    \r\n",
        "    test_x[start,:, :] = test.iloc[start : end                , 1: ].values\r\n",
        "    test_y[start,:, :] = test.iloc[end   : end + output_window, 1: ].values\r\n",
        "\r\n",
        "\r\n",
        "print('test_x.shape: ', test_x.shape)\r\n",
        "print('test_y.shape: ', test_y.shape)"
      ],
      "execution_count": 202,
      "outputs": [
        {
          "output_type": "stream",
          "text": [
            "test_x.shape:  (1, 30, 4)\n",
            "test_y.shape:  (1, 30, 4)\n"
          ],
          "name": "stdout"
        }
      ]
    },
    {
      "cell_type": "code",
      "metadata": {
        "id": "lhmMXuK0AYVn",
        "colab": {
          "base_uri": "https://localhost:8080/"
        },
        "outputId": "915f1f99-c47d-4150-f9bf-8bda2fd968a5"
      },
      "source": [
        "pred = model.predict(test_x)\r\n",
        "pred[:5]"
      ],
      "execution_count": 205,
      "outputs": [
        {
          "output_type": "execute_result",
          "data": {
            "text/plain": [
              "array([[[0.40022817, 0.39372706, 0.27692318, 0.33888835],\n",
              "        [0.38961065, 0.3810348 , 0.25960314, 0.3113099 ],\n",
              "        [0.4294502 , 0.41507578, 0.28880233, 0.3883028 ],\n",
              "        [0.57350516, 0.56259114, 0.4501635 , 0.5218927 ],\n",
              "        [0.4765348 , 0.467364  , 0.3573951 , 0.40904856],\n",
              "        [0.4156783 , 0.4077924 , 0.30611813, 0.35120863],\n",
              "        [0.39636064, 0.39218706, 0.30435696, 0.30528963],\n",
              "        [0.36307785, 0.3584634 , 0.27156314, 0.28400347],\n",
              "        [0.27903116, 0.27569184, 0.22178051, 0.19545761],\n",
              "        [0.37462008, 0.3721298 , 0.3127888 , 0.26252687],\n",
              "        [0.47159705, 0.46326333, 0.39487627, 0.3773024 ],\n",
              "        [0.5758832 , 0.5726595 , 0.5498195 , 0.51826733],\n",
              "        [0.4800876 , 0.47606337, 0.40594587, 0.41935587],\n",
              "        [0.5029881 , 0.49729228, 0.44717255, 0.40659106],\n",
              "        [0.41189307, 0.40996557, 0.32963312, 0.3260718 ],\n",
              "        [0.32444862, 0.31973892, 0.24362595, 0.24606156],\n",
              "        [0.31358963, 0.30821908, 0.22619447, 0.24227071],\n",
              "        [0.5731859 , 0.56185716, 0.45973936, 0.5016769 ],\n",
              "        [0.5977129 , 0.5902312 , 0.50035036, 0.51571363],\n",
              "        [0.6287253 , 0.6153519 , 0.47962388, 0.56161374],\n",
              "        [0.72617733, 0.7119673 , 0.54668725, 0.66380554],\n",
              "        [0.6269578 , 0.6128519 , 0.45852357, 0.57276046],\n",
              "        [0.38461196, 0.38926733, 0.2929963 , 0.35597497],\n",
              "        [0.41811678, 0.41667396, 0.2834545 , 0.32897407],\n",
              "        [0.92786264, 0.92589235, 0.7197988 , 0.7954483 ],\n",
              "        [0.99637115, 0.9809154 , 0.84584224, 0.95834094],\n",
              "        [0.801074  , 0.802544  , 0.6581842 , 0.7114733 ],\n",
              "        [0.7750157 , 0.761341  , 0.61916006, 0.66807246],\n",
              "        [0.65806127, 0.62934315, 0.4624195 , 0.5738214 ],\n",
              "        [0.4736397 , 0.45610887, 0.3364939 , 0.37770942]]], dtype=float32)"
            ]
          },
          "metadata": {
            "tags": []
          },
          "execution_count": 205
        }
      ]
    },
    {
      "cell_type": "code",
      "metadata": {
        "id": "GbKK46ZASpkS",
        "colab": {
          "base_uri": "https://localhost:8080/"
        },
        "outputId": "1401b34d-ebb8-4047-a8f6-46026d8d194a"
      },
      "source": [
        "pred = pred.reshape(output_window,4)\r\n",
        "pred = pred * size.values + mini.values\r\n",
        "pred = pred.astype(int)\r\n",
        "pred"
      ],
      "execution_count": 206,
      "outputs": [
        {
          "output_type": "execute_result",
          "data": {
            "text/plain": [
              "array([[  2169,   2126,    469,  52676],\n",
              "       [  2111,   2058,    439,  48389],\n",
              "       [  2327,   2241,    489,  60357],\n",
              "       [  3107,   3038,    761,  81121],\n",
              "       [  2582,   2524,    604,  63581],\n",
              "       [  2252,   2202,    518,  54591],\n",
              "       [  2148,   2118,    515,  47454],\n",
              "       [  1967,   1936,    459,  44145],\n",
              "       [  1512,   1489,    375,  30382],\n",
              "       [  2030,   2010,    529,  40807],\n",
              "       [  2555,   2502,    668,  58647],\n",
              "       [  3120,   3092,    930,  80557],\n",
              "       [  2601,   2571,    687,  65183],\n",
              "       [  2725,   2685,    756,  63199],\n",
              "       [  2232,   2214,    558,  50684],\n",
              "       [  1758,   1727,    412,  38248],\n",
              "       [  1699,   1665,    383,  37658],\n",
              "       [  3105,   3034,    777,  77979],\n",
              "       [  3238,   3187,    846,  80160],\n",
              "       [  3406,   3323,    811,  87295],\n",
              "       [  3934,   3844,    924, 103179],\n",
              "       [  3397,   3309,    775,  89027],\n",
              "       [  2084,   2102,    496,  55332],\n",
              "       [  2265,   2250,    480,  51135],\n",
              "       [  5027,   4999,   1217, 123640],\n",
              "       [  5398,   5296,   1430, 148959],\n",
              "       [  4340,   4333,   1113, 110588],\n",
              "       [  4199,   4111,   1047, 103842],\n",
              "       [  3565,   3398,    782,  89192],\n",
              "       [  2566,   2463,    569,  58710]])"
            ]
          },
          "metadata": {
            "tags": []
          },
          "execution_count": 206
        }
      ]
    },
    {
      "cell_type": "code",
      "metadata": {
        "colab": {
          "base_uri": "https://localhost:8080/"
        },
        "id": "Q4E0hcLCFDwi",
        "outputId": "10bce91c-9e42-4563-b27f-9673d2b3afd4"
      },
      "source": [
        "pred.shape"
      ],
      "execution_count": 207,
      "outputs": [
        {
          "output_type": "execute_result",
          "data": {
            "text/plain": [
              "(30, 4)"
            ]
          },
          "metadata": {
            "tags": []
          },
          "execution_count": 207
        }
      ]
    },
    {
      "cell_type": "code",
      "metadata": {
        "colab": {
          "base_uri": "https://localhost:8080/",
          "height": 200
        },
        "id": "VzeIVzfY6B1o",
        "outputId": "9b8e9508-3d2c-402f-ed93-975a8b89fce4"
      },
      "source": [
        "baseline = pd.read_csv(path + '/open_data/baseline.csv', encoding = 'euc-kr' )\r\n",
        "baseline.head()"
      ],
      "execution_count": null,
      "outputs": [
        {
          "output_type": "execute_result",
          "data": {
            "text/html": [
              "<div>\n",
              "<style scoped>\n",
              "    .dataframe tbody tr th:only-of-type {\n",
              "        vertical-align: middle;\n",
              "    }\n",
              "\n",
              "    .dataframe tbody tr th {\n",
              "        vertical-align: top;\n",
              "    }\n",
              "\n",
              "    .dataframe thead th {\n",
              "        text-align: right;\n",
              "    }\n",
              "</style>\n",
              "<table border=\"1\" class=\"dataframe\">\n",
              "  <thead>\n",
              "    <tr style=\"text-align: right;\">\n",
              "      <th></th>\n",
              "      <th>DateTime</th>\n",
              "      <th>사용자</th>\n",
              "      <th>세션</th>\n",
              "      <th>신규방문자</th>\n",
              "      <th>페이지뷰</th>\n",
              "    </tr>\n",
              "  </thead>\n",
              "  <tbody>\n",
              "    <tr>\n",
              "      <th>0</th>\n",
              "      <td>2020-11-09</td>\n",
              "      <td>3252</td>\n",
              "      <td>3263</td>\n",
              "      <td>777</td>\n",
              "      <td>88002</td>\n",
              "    </tr>\n",
              "    <tr>\n",
              "      <th>1</th>\n",
              "      <td>2020-11-10</td>\n",
              "      <td>2825</td>\n",
              "      <td>2758</td>\n",
              "      <td>671</td>\n",
              "      <td>73749</td>\n",
              "    </tr>\n",
              "    <tr>\n",
              "      <th>2</th>\n",
              "      <td>2020-11-11</td>\n",
              "      <td>2614</td>\n",
              "      <td>2588</td>\n",
              "      <td>599</td>\n",
              "      <td>67300</td>\n",
              "    </tr>\n",
              "    <tr>\n",
              "      <th>3</th>\n",
              "      <td>2020-11-12</td>\n",
              "      <td>2391</td>\n",
              "      <td>2373</td>\n",
              "      <td>557</td>\n",
              "      <td>63723</td>\n",
              "    </tr>\n",
              "    <tr>\n",
              "      <th>4</th>\n",
              "      <td>2020-11-13</td>\n",
              "      <td>2063</td>\n",
              "      <td>2047</td>\n",
              "      <td>467</td>\n",
              "      <td>54340</td>\n",
              "    </tr>\n",
              "  </tbody>\n",
              "</table>\n",
              "</div>"
            ],
            "text/plain": [
              "     DateTime   사용자    세션  신규방문자   페이지뷰\n",
              "0  2020-11-09  3252  3263    777  88002\n",
              "1  2020-11-10  2825  2758    671  73749\n",
              "2  2020-11-11  2614  2588    599  67300\n",
              "3  2020-11-12  2391  2373    557  63723\n",
              "4  2020-11-13  2063  2047    467  54340"
            ]
          },
          "metadata": {
            "tags": []
          },
          "execution_count": 81
        }
      ]
    },
    {
      "cell_type": "code",
      "metadata": {
        "id": "ofVAKwIvT8pC"
      },
      "source": [
        "last_month = train.iloc[-30:,1:].values[np.newaxis,...].astype(float) #float() # <- 수정 후\r\n",
        "last_month"
      ],
      "execution_count": null,
      "outputs": []
    },
    {
      "cell_type": "code",
      "metadata": {
        "id": "k7ITx1KxSdyg"
      },
      "source": [
        "\r\n",
        "#last_month = torch.tensor(window_x[-1,:,:][np.newaxis,...]).float().to(device) <- 수정 전\r\n",
        "last_month = train.iloc[-30:,1:].values[np.newaxis,...] # <- 수정 후\r\n",
        "# last_month = torch.tensor(last_month).float() # <- 수정 후\r\n",
        "\r\n",
        "for start in range((len(submission) - output_window)//7 + 2):\r\n",
        "    start = start * 7\r\n",
        "    next_week = model.predict(last_month)\r\n",
        "    #last_month = torch.cat([last_month[-7:], next_week], axis = 1) <- 수정 전\r\n",
        "    last_month = torch.cat([last_month[:,7:,:], next_week], axis = 1)# <- 수정 후\r\n",
        "\r\n",
        "    pred_week = next_week.reshape(output_window,4)\r\n",
        "    pred_week = pred_week * size.values + mini.values\r\n",
        "    pred_week = pred_week.astype(int)\r\n",
        "    \r\n",
        "    if start/7 == (len(submission) - output_window)//7 + 1:\r\n",
        "        submission.iloc[start :, 1:] = pred_week[-submission.iloc[start :, 1:].shape[0]:,:]\r\n",
        "    else:\r\n",
        "        submission.iloc[start : start + output_window, 1:] = pred_week\r\n",
        "submission"
      ],
      "execution_count": null,
      "outputs": []
    },
    {
      "cell_type": "code",
      "metadata": {
        "id": "REbMo_D3UfPJ"
      },
      "source": [
        ""
      ],
      "execution_count": null,
      "outputs": []
    }
  ]
}