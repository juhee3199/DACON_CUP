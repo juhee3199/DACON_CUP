{
  "nbformat": 4,
  "nbformat_minor": 0,
  "metadata": {
    "colab": {
      "name": "lstm_feature 추가.ipynb",
      "provenance": [],
      "collapsed_sections": [
        "Li0vASmhIIhr",
        "HbonwFz84uV5"
      ]
    },
    "kernelspec": {
      "name": "python3",
      "display_name": "Python 3"
    }
  },
  "cells": [
    {
      "cell_type": "code",
      "metadata": {
        "id": "WHrGQAT_3z6X"
      },
      "source": [
        "import numpy as np\r\n",
        "import pandas as pd\r\n",
        "\r\n",
        "from datetime import datetime\r\n",
        "from sklearn.model_selection import train_test_split\r\n",
        "\r\n",
        "from matplotlib import pyplot\r\n",
        "import matplotlib.pyplot as plt"
      ],
      "execution_count": 378,
      "outputs": []
    },
    {
      "cell_type": "code",
      "metadata": {
        "id": "fH1TWRdi4eLu",
        "colab": {
          "base_uri": "https://localhost:8080/",
          "height": 200
        },
        "outputId": "8c83a241-43ba-4270-a7b0-4d7c1af39f49"
      },
      "source": [
        "path = '/content/drive/MyDrive/Colab Notebooks/DACON CUP'\r\n",
        "\r\n",
        "train = pd.read_csv(path + '/open_data/train.csv', encoding = 'euc-kr')\r\n",
        "train.head()"
      ],
      "execution_count": 423,
      "outputs": [
        {
          "output_type": "execute_result",
          "data": {
            "text/html": [
              "<div>\n",
              "<style scoped>\n",
              "    .dataframe tbody tr th:only-of-type {\n",
              "        vertical-align: middle;\n",
              "    }\n",
              "\n",
              "    .dataframe tbody tr th {\n",
              "        vertical-align: top;\n",
              "    }\n",
              "\n",
              "    .dataframe thead th {\n",
              "        text-align: right;\n",
              "    }\n",
              "</style>\n",
              "<table border=\"1\" class=\"dataframe\">\n",
              "  <thead>\n",
              "    <tr style=\"text-align: right;\">\n",
              "      <th></th>\n",
              "      <th>DateTime</th>\n",
              "      <th>사용자</th>\n",
              "      <th>세션</th>\n",
              "      <th>신규방문자</th>\n",
              "      <th>페이지뷰</th>\n",
              "    </tr>\n",
              "  </thead>\n",
              "  <tbody>\n",
              "    <tr>\n",
              "      <th>0</th>\n",
              "      <td>2018-09-09 00:00:00</td>\n",
              "      <td>19</td>\n",
              "      <td>19</td>\n",
              "      <td>8</td>\n",
              "      <td>206</td>\n",
              "    </tr>\n",
              "    <tr>\n",
              "      <th>1</th>\n",
              "      <td>2018-09-09 01:00:00</td>\n",
              "      <td>20</td>\n",
              "      <td>19</td>\n",
              "      <td>9</td>\n",
              "      <td>259</td>\n",
              "    </tr>\n",
              "    <tr>\n",
              "      <th>2</th>\n",
              "      <td>2018-09-09 02:00:00</td>\n",
              "      <td>12</td>\n",
              "      <td>9</td>\n",
              "      <td>1</td>\n",
              "      <td>48</td>\n",
              "    </tr>\n",
              "    <tr>\n",
              "      <th>3</th>\n",
              "      <td>2018-09-09 03:00:00</td>\n",
              "      <td>10</td>\n",
              "      <td>10</td>\n",
              "      <td>2</td>\n",
              "      <td>102</td>\n",
              "    </tr>\n",
              "    <tr>\n",
              "      <th>4</th>\n",
              "      <td>2018-09-09 04:00:00</td>\n",
              "      <td>6</td>\n",
              "      <td>5</td>\n",
              "      <td>3</td>\n",
              "      <td>18</td>\n",
              "    </tr>\n",
              "  </tbody>\n",
              "</table>\n",
              "</div>"
            ],
            "text/plain": [
              "              DateTime  사용자  세션  신규방문자  페이지뷰\n",
              "0  2018-09-09 00:00:00   19  19      8   206\n",
              "1  2018-09-09 01:00:00   20  19      9   259\n",
              "2  2018-09-09 02:00:00   12   9      1    48\n",
              "3  2018-09-09 03:00:00   10  10      2   102\n",
              "4  2018-09-09 04:00:00    6   5      3    18"
            ]
          },
          "metadata": {
            "tags": []
          },
          "execution_count": 423
        }
      ]
    },
    {
      "cell_type": "code",
      "metadata": {
        "id": "YsCktWIeAIWq",
        "colab": {
          "base_uri": "https://localhost:8080/"
        },
        "outputId": "8c835382-080b-4bdb-be2b-e22d0e0636ff"
      },
      "source": [
        "train.info()"
      ],
      "execution_count": 424,
      "outputs": [
        {
          "output_type": "stream",
          "text": [
            "<class 'pandas.core.frame.DataFrame'>\n",
            "RangeIndex: 19008 entries, 0 to 19007\n",
            "Data columns (total 5 columns):\n",
            " #   Column    Non-Null Count  Dtype \n",
            "---  ------    --------------  ----- \n",
            " 0   DateTime  19008 non-null  object\n",
            " 1   사용자       19008 non-null  int64 \n",
            " 2   세션        19008 non-null  int64 \n",
            " 3   신규방문자     19008 non-null  int64 \n",
            " 4   페이지뷰      19008 non-null  int64 \n",
            "dtypes: int64(4), object(1)\n",
            "memory usage: 742.6+ KB\n"
          ],
          "name": "stdout"
        }
      ]
    },
    {
      "cell_type": "code",
      "metadata": {
        "id": "eOujb_mO_676",
        "colab": {
          "base_uri": "https://localhost:8080/",
          "height": 200
        },
        "outputId": "ba2aafc0-7fb0-464a-a688-a534f1c9b6f7"
      },
      "source": [
        "# date 기준으로.\r\n",
        "\r\n",
        "train['DateTime'] = pd.to_datetime(train.DateTime) #dtype: datetime으로 변경\r\n",
        "train['date'] = train.DateTime.dt.date\r\n",
        "train  = train.groupby('date').sum().reset_index()\r\n",
        "train.head()"
      ],
      "execution_count": 425,
      "outputs": [
        {
          "output_type": "execute_result",
          "data": {
            "text/html": [
              "<div>\n",
              "<style scoped>\n",
              "    .dataframe tbody tr th:only-of-type {\n",
              "        vertical-align: middle;\n",
              "    }\n",
              "\n",
              "    .dataframe tbody tr th {\n",
              "        vertical-align: top;\n",
              "    }\n",
              "\n",
              "    .dataframe thead th {\n",
              "        text-align: right;\n",
              "    }\n",
              "</style>\n",
              "<table border=\"1\" class=\"dataframe\">\n",
              "  <thead>\n",
              "    <tr style=\"text-align: right;\">\n",
              "      <th></th>\n",
              "      <th>date</th>\n",
              "      <th>사용자</th>\n",
              "      <th>세션</th>\n",
              "      <th>신규방문자</th>\n",
              "      <th>페이지뷰</th>\n",
              "    </tr>\n",
              "  </thead>\n",
              "  <tbody>\n",
              "    <tr>\n",
              "      <th>0</th>\n",
              "      <td>2018-09-09</td>\n",
              "      <td>281</td>\n",
              "      <td>266</td>\n",
              "      <td>73</td>\n",
              "      <td>1826</td>\n",
              "    </tr>\n",
              "    <tr>\n",
              "      <th>1</th>\n",
              "      <td>2018-09-10</td>\n",
              "      <td>264</td>\n",
              "      <td>247</td>\n",
              "      <td>51</td>\n",
              "      <td>2092</td>\n",
              "    </tr>\n",
              "    <tr>\n",
              "      <th>2</th>\n",
              "      <td>2018-09-11</td>\n",
              "      <td>329</td>\n",
              "      <td>310</td>\n",
              "      <td>58</td>\n",
              "      <td>1998</td>\n",
              "    </tr>\n",
              "    <tr>\n",
              "      <th>3</th>\n",
              "      <td>2018-09-12</td>\n",
              "      <td>300</td>\n",
              "      <td>287</td>\n",
              "      <td>45</td>\n",
              "      <td>2595</td>\n",
              "    </tr>\n",
              "    <tr>\n",
              "      <th>4</th>\n",
              "      <td>2018-09-13</td>\n",
              "      <td>378</td>\n",
              "      <td>344</td>\n",
              "      <td>50</td>\n",
              "      <td>3845</td>\n",
              "    </tr>\n",
              "  </tbody>\n",
              "</table>\n",
              "</div>"
            ],
            "text/plain": [
              "         date  사용자   세션  신규방문자  페이지뷰\n",
              "0  2018-09-09  281  266     73  1826\n",
              "1  2018-09-10  264  247     51  2092\n",
              "2  2018-09-11  329  310     58  1998\n",
              "3  2018-09-12  300  287     45  2595\n",
              "4  2018-09-13  378  344     50  3845"
            ]
          },
          "metadata": {
            "tags": []
          },
          "execution_count": 425
        }
      ]
    },
    {
      "cell_type": "code",
      "metadata": {
        "id": "CM7Hluyg9nrO"
      },
      "source": [
        "# date 기준 변수 만들기\r\n",
        "\r\n",
        "\r\n",
        "\r\n",
        "def create_features(df):\r\n",
        "    \"\"\"\r\n",
        "    Creates time series features from datetime index\r\n",
        "    \"\"\"\r\n",
        "    # df['DateTime'] = df.index\r\n",
        "    # df['hour'] = df['date'].dt.hour\r\n",
        "    df['dayofweek'] = pd.to_datetime(df['date']).dt.dayofweek #요일\r\n",
        "    df['quarter'] = pd.to_datetime(df['date']).dt.quarter \r\n",
        "    df['month'] = pd.to_datetime(df['date']).dt.month\r\n",
        "    df['year'] = pd.to_datetime(df['date']).dt.year # 날짜의 해당 연도 시작에서부터의 일 수를 반환 \r\n",
        "    df['dayofyear'] = pd.to_datetime(df['date']).dt.dayofyear\r\n",
        "    df['dayofmonth'] = pd.to_datetime(df['date']).dt.day\r\n",
        "    df['weekofyear'] = pd.to_datetime(df['date']).dt.weekofyear\r\n",
        "    \r\n",
        "    X = df[['사용자','세션','신규방문자','페이지뷰','date','dayofweek','quarter','month','year',\r\n",
        "           'dayofyear','dayofmonth','weekofyear']]\r\n",
        "    X.set_index('date', inplace = True)\r\n",
        "    X.index = pd.to_datetime(X.index)\r\n",
        "    return X"
      ],
      "execution_count": 426,
      "outputs": []
    },
    {
      "cell_type": "code",
      "metadata": {
        "colab": {
          "base_uri": "https://localhost:8080/",
          "height": 479
        },
        "id": "am_esN9k-CjW",
        "outputId": "5f06fdd2-87d6-4fe1-84ad-c3619d9d5b61"
      },
      "source": [
        "train = create_features(train)\r\n",
        "train"
      ],
      "execution_count": 427,
      "outputs": [
        {
          "output_type": "stream",
          "text": [
            "/usr/local/lib/python3.6/dist-packages/ipykernel_launcher.py:17: FutureWarning: Series.dt.weekofyear and Series.dt.week have been deprecated.  Please use Series.dt.isocalendar().week instead.\n"
          ],
          "name": "stderr"
        },
        {
          "output_type": "execute_result",
          "data": {
            "text/html": [
              "<div>\n",
              "<style scoped>\n",
              "    .dataframe tbody tr th:only-of-type {\n",
              "        vertical-align: middle;\n",
              "    }\n",
              "\n",
              "    .dataframe tbody tr th {\n",
              "        vertical-align: top;\n",
              "    }\n",
              "\n",
              "    .dataframe thead th {\n",
              "        text-align: right;\n",
              "    }\n",
              "</style>\n",
              "<table border=\"1\" class=\"dataframe\">\n",
              "  <thead>\n",
              "    <tr style=\"text-align: right;\">\n",
              "      <th></th>\n",
              "      <th>사용자</th>\n",
              "      <th>세션</th>\n",
              "      <th>신규방문자</th>\n",
              "      <th>페이지뷰</th>\n",
              "      <th>dayofweek</th>\n",
              "      <th>quarter</th>\n",
              "      <th>month</th>\n",
              "      <th>year</th>\n",
              "      <th>dayofyear</th>\n",
              "      <th>dayofmonth</th>\n",
              "      <th>weekofyear</th>\n",
              "    </tr>\n",
              "    <tr>\n",
              "      <th>date</th>\n",
              "      <th></th>\n",
              "      <th></th>\n",
              "      <th></th>\n",
              "      <th></th>\n",
              "      <th></th>\n",
              "      <th></th>\n",
              "      <th></th>\n",
              "      <th></th>\n",
              "      <th></th>\n",
              "      <th></th>\n",
              "      <th></th>\n",
              "    </tr>\n",
              "  </thead>\n",
              "  <tbody>\n",
              "    <tr>\n",
              "      <th>2018-09-09</th>\n",
              "      <td>281</td>\n",
              "      <td>266</td>\n",
              "      <td>73</td>\n",
              "      <td>1826</td>\n",
              "      <td>6</td>\n",
              "      <td>3</td>\n",
              "      <td>9</td>\n",
              "      <td>2018</td>\n",
              "      <td>252</td>\n",
              "      <td>9</td>\n",
              "      <td>36</td>\n",
              "    </tr>\n",
              "    <tr>\n",
              "      <th>2018-09-10</th>\n",
              "      <td>264</td>\n",
              "      <td>247</td>\n",
              "      <td>51</td>\n",
              "      <td>2092</td>\n",
              "      <td>0</td>\n",
              "      <td>3</td>\n",
              "      <td>9</td>\n",
              "      <td>2018</td>\n",
              "      <td>253</td>\n",
              "      <td>10</td>\n",
              "      <td>37</td>\n",
              "    </tr>\n",
              "    <tr>\n",
              "      <th>2018-09-11</th>\n",
              "      <td>329</td>\n",
              "      <td>310</td>\n",
              "      <td>58</td>\n",
              "      <td>1998</td>\n",
              "      <td>1</td>\n",
              "      <td>3</td>\n",
              "      <td>9</td>\n",
              "      <td>2018</td>\n",
              "      <td>254</td>\n",
              "      <td>11</td>\n",
              "      <td>37</td>\n",
              "    </tr>\n",
              "    <tr>\n",
              "      <th>2018-09-12</th>\n",
              "      <td>300</td>\n",
              "      <td>287</td>\n",
              "      <td>45</td>\n",
              "      <td>2595</td>\n",
              "      <td>2</td>\n",
              "      <td>3</td>\n",
              "      <td>9</td>\n",
              "      <td>2018</td>\n",
              "      <td>255</td>\n",
              "      <td>12</td>\n",
              "      <td>37</td>\n",
              "    </tr>\n",
              "    <tr>\n",
              "      <th>2018-09-13</th>\n",
              "      <td>378</td>\n",
              "      <td>344</td>\n",
              "      <td>50</td>\n",
              "      <td>3845</td>\n",
              "      <td>3</td>\n",
              "      <td>3</td>\n",
              "      <td>9</td>\n",
              "      <td>2018</td>\n",
              "      <td>256</td>\n",
              "      <td>13</td>\n",
              "      <td>37</td>\n",
              "    </tr>\n",
              "    <tr>\n",
              "      <th>...</th>\n",
              "      <td>...</td>\n",
              "      <td>...</td>\n",
              "      <td>...</td>\n",
              "      <td>...</td>\n",
              "      <td>...</td>\n",
              "      <td>...</td>\n",
              "      <td>...</td>\n",
              "      <td>...</td>\n",
              "      <td>...</td>\n",
              "      <td>...</td>\n",
              "      <td>...</td>\n",
              "    </tr>\n",
              "    <tr>\n",
              "      <th>2020-11-04</th>\n",
              "      <td>4516</td>\n",
              "      <td>4472</td>\n",
              "      <td>1196</td>\n",
              "      <td>112683</td>\n",
              "      <td>2</td>\n",
              "      <td>4</td>\n",
              "      <td>11</td>\n",
              "      <td>2020</td>\n",
              "      <td>309</td>\n",
              "      <td>4</td>\n",
              "      <td>45</td>\n",
              "    </tr>\n",
              "    <tr>\n",
              "      <th>2020-11-05</th>\n",
              "      <td>4155</td>\n",
              "      <td>4037</td>\n",
              "      <td>1044</td>\n",
              "      <td>102901</td>\n",
              "      <td>3</td>\n",
              "      <td>4</td>\n",
              "      <td>11</td>\n",
              "      <td>2020</td>\n",
              "      <td>310</td>\n",
              "      <td>5</td>\n",
              "      <td>45</td>\n",
              "    </tr>\n",
              "    <tr>\n",
              "      <th>2020-11-06</th>\n",
              "      <td>3663</td>\n",
              "      <td>3576</td>\n",
              "      <td>825</td>\n",
              "      <td>88015</td>\n",
              "      <td>4</td>\n",
              "      <td>4</td>\n",
              "      <td>11</td>\n",
              "      <td>2020</td>\n",
              "      <td>311</td>\n",
              "      <td>6</td>\n",
              "      <td>45</td>\n",
              "    </tr>\n",
              "    <tr>\n",
              "      <th>2020-11-07</th>\n",
              "      <td>2472</td>\n",
              "      <td>2417</td>\n",
              "      <td>531</td>\n",
              "      <td>57386</td>\n",
              "      <td>5</td>\n",
              "      <td>4</td>\n",
              "      <td>11</td>\n",
              "      <td>2020</td>\n",
              "      <td>312</td>\n",
              "      <td>7</td>\n",
              "      <td>45</td>\n",
              "    </tr>\n",
              "    <tr>\n",
              "      <th>2020-11-08</th>\n",
              "      <td>2492</td>\n",
              "      <td>2420</td>\n",
              "      <td>522</td>\n",
              "      <td>50486</td>\n",
              "      <td>6</td>\n",
              "      <td>4</td>\n",
              "      <td>11</td>\n",
              "      <td>2020</td>\n",
              "      <td>313</td>\n",
              "      <td>8</td>\n",
              "      <td>45</td>\n",
              "    </tr>\n",
              "  </tbody>\n",
              "</table>\n",
              "<p>792 rows × 11 columns</p>\n",
              "</div>"
            ],
            "text/plain": [
              "             사용자    세션  신규방문자    페이지뷰  ...  year  dayofyear  dayofmonth  weekofyear\n",
              "date                                   ...                                         \n",
              "2018-09-09   281   266     73    1826  ...  2018        252           9          36\n",
              "2018-09-10   264   247     51    2092  ...  2018        253          10          37\n",
              "2018-09-11   329   310     58    1998  ...  2018        254          11          37\n",
              "2018-09-12   300   287     45    2595  ...  2018        255          12          37\n",
              "2018-09-13   378   344     50    3845  ...  2018        256          13          37\n",
              "...          ...   ...    ...     ...  ...   ...        ...         ...         ...\n",
              "2020-11-04  4516  4472   1196  112683  ...  2020        309           4          45\n",
              "2020-11-05  4155  4037   1044  102901  ...  2020        310           5          45\n",
              "2020-11-06  3663  3576    825   88015  ...  2020        311           6          45\n",
              "2020-11-07  2472  2417    531   57386  ...  2020        312           7          45\n",
              "2020-11-08  2492  2420    522   50486  ...  2020        313           8          45\n",
              "\n",
              "[792 rows x 11 columns]"
            ]
          },
          "metadata": {
            "tags": []
          },
          "execution_count": 427
        }
      ]
    },
    {
      "cell_type": "markdown",
      "metadata": {
        "id": "UP7gIbLQ9zmM"
      },
      "source": [
        "- 추가데이터 가공"
      ]
    },
    {
      "cell_type": "code",
      "metadata": {
        "colab": {
          "base_uri": "https://localhost:8080/",
          "height": 70
        },
        "id": "cJGuiHK99ucr",
        "outputId": "21ebba23-80fe-4021-ef5a-00bd7120a83b"
      },
      "source": [
        "'''\r\n",
        "user =  pd.read_csv(path + '/open_data/info_user.csv', encoding = 'euc-kr')\r\n",
        "login = pd.read_csv(path +'/open_data/info_login.csv', encoding = 'euc-kr')\r\n",
        "competition = pd.read_csv(path +'/open_data/info_competition.csv', encoding = 'euc-kr')\r\n",
        "info_submission =  pd.read_csv(path +'/open_data/info_submission.csv', encoding = 'euc-kr')\r\n",
        "'''"
      ],
      "execution_count": 428,
      "outputs": [
        {
          "output_type": "execute_result",
          "data": {
            "application/vnd.google.colaboratory.intrinsic+json": {
              "type": "string"
            },
            "text/plain": [
              "\"\\nuser =  pd.read_csv(path + '/open_data/info_user.csv', encoding = 'euc-kr')\\nlogin = pd.read_csv(path +'/open_data/info_login.csv', encoding = 'euc-kr')\\ncompetition = pd.read_csv(path +'/open_data/info_competition.csv', encoding = 'euc-kr')\\ninfo_submission =  pd.read_csv(path +'/open_data/info_submission.csv', encoding = 'euc-kr')\\n\""
            ]
          },
          "metadata": {
            "tags": []
          },
          "execution_count": 428
        }
      ]
    },
    {
      "cell_type": "markdown",
      "metadata": {
        "id": "M-nqMth6966w"
      },
      "source": [
        "- 데이터 전처리"
      ]
    },
    {
      "cell_type": "code",
      "metadata": {
        "colab": {
          "base_uri": "https://localhost:8080/",
          "height": 441
        },
        "id": "MB-KiRHF92gN",
        "outputId": "7c299129-ddd3-4f32-ae4b-3b9ffca8b18c"
      },
      "source": [
        "# scaling\r\n",
        "\r\n",
        "mini = train.min()\r\n",
        "size = train.max() - train.min()\r\n",
        "train = (train -  mini) / size\r\n",
        "train"
      ],
      "execution_count": 429,
      "outputs": [
        {
          "output_type": "execute_result",
          "data": {
            "text/html": [
              "<div>\n",
              "<style scoped>\n",
              "    .dataframe tbody tr th:only-of-type {\n",
              "        vertical-align: middle;\n",
              "    }\n",
              "\n",
              "    .dataframe tbody tr th {\n",
              "        vertical-align: top;\n",
              "    }\n",
              "\n",
              "    .dataframe thead th {\n",
              "        text-align: right;\n",
              "    }\n",
              "</style>\n",
              "<table border=\"1\" class=\"dataframe\">\n",
              "  <thead>\n",
              "    <tr style=\"text-align: right;\">\n",
              "      <th></th>\n",
              "      <th>사용자</th>\n",
              "      <th>세션</th>\n",
              "      <th>신규방문자</th>\n",
              "      <th>페이지뷰</th>\n",
              "      <th>dayofweek</th>\n",
              "      <th>quarter</th>\n",
              "      <th>month</th>\n",
              "      <th>year</th>\n",
              "      <th>dayofyear</th>\n",
              "      <th>dayofmonth</th>\n",
              "      <th>weekofyear</th>\n",
              "    </tr>\n",
              "    <tr>\n",
              "      <th>date</th>\n",
              "      <th></th>\n",
              "      <th></th>\n",
              "      <th></th>\n",
              "      <th></th>\n",
              "      <th></th>\n",
              "      <th></th>\n",
              "      <th></th>\n",
              "      <th></th>\n",
              "      <th></th>\n",
              "      <th></th>\n",
              "      <th></th>\n",
              "    </tr>\n",
              "  </thead>\n",
              "  <tbody>\n",
              "    <tr>\n",
              "      <th>2018-09-09</th>\n",
              "      <td>0.051689</td>\n",
              "      <td>0.049083</td>\n",
              "      <td>0.042604</td>\n",
              "      <td>0.011735</td>\n",
              "      <td>1.000000</td>\n",
              "      <td>0.666667</td>\n",
              "      <td>0.727273</td>\n",
              "      <td>0.0</td>\n",
              "      <td>0.689560</td>\n",
              "      <td>0.266667</td>\n",
              "      <td>0.686275</td>\n",
              "    </tr>\n",
              "    <tr>\n",
              "      <th>2018-09-10</th>\n",
              "      <td>0.048551</td>\n",
              "      <td>0.045564</td>\n",
              "      <td>0.029586</td>\n",
              "      <td>0.013446</td>\n",
              "      <td>0.000000</td>\n",
              "      <td>0.666667</td>\n",
              "      <td>0.727273</td>\n",
              "      <td>0.0</td>\n",
              "      <td>0.692308</td>\n",
              "      <td>0.300000</td>\n",
              "      <td>0.705882</td>\n",
              "    </tr>\n",
              "    <tr>\n",
              "      <th>2018-09-11</th>\n",
              "      <td>0.060550</td>\n",
              "      <td>0.057233</td>\n",
              "      <td>0.033728</td>\n",
              "      <td>0.012842</td>\n",
              "      <td>0.166667</td>\n",
              "      <td>0.666667</td>\n",
              "      <td>0.727273</td>\n",
              "      <td>0.0</td>\n",
              "      <td>0.695055</td>\n",
              "      <td>0.333333</td>\n",
              "      <td>0.705882</td>\n",
              "    </tr>\n",
              "    <tr>\n",
              "      <th>2018-09-12</th>\n",
              "      <td>0.055197</td>\n",
              "      <td>0.052973</td>\n",
              "      <td>0.026036</td>\n",
              "      <td>0.016682</td>\n",
              "      <td>0.333333</td>\n",
              "      <td>0.666667</td>\n",
              "      <td>0.727273</td>\n",
              "      <td>0.0</td>\n",
              "      <td>0.697802</td>\n",
              "      <td>0.366667</td>\n",
              "      <td>0.705882</td>\n",
              "    </tr>\n",
              "    <tr>\n",
              "      <th>2018-09-13</th>\n",
              "      <td>0.069596</td>\n",
              "      <td>0.063530</td>\n",
              "      <td>0.028994</td>\n",
              "      <td>0.024724</td>\n",
              "      <td>0.500000</td>\n",
              "      <td>0.666667</td>\n",
              "      <td>0.727273</td>\n",
              "      <td>0.0</td>\n",
              "      <td>0.700549</td>\n",
              "      <td>0.400000</td>\n",
              "      <td>0.705882</td>\n",
              "    </tr>\n",
              "    <tr>\n",
              "      <th>...</th>\n",
              "      <td>...</td>\n",
              "      <td>...</td>\n",
              "      <td>...</td>\n",
              "      <td>...</td>\n",
              "      <td>...</td>\n",
              "      <td>...</td>\n",
              "      <td>...</td>\n",
              "      <td>...</td>\n",
              "      <td>...</td>\n",
              "      <td>...</td>\n",
              "      <td>...</td>\n",
              "    </tr>\n",
              "    <tr>\n",
              "      <th>2020-11-04</th>\n",
              "      <td>0.833487</td>\n",
              "      <td>0.828116</td>\n",
              "      <td>0.707101</td>\n",
              "      <td>0.724949</td>\n",
              "      <td>0.333333</td>\n",
              "      <td>1.000000</td>\n",
              "      <td>0.909091</td>\n",
              "      <td>1.0</td>\n",
              "      <td>0.846154</td>\n",
              "      <td>0.100000</td>\n",
              "      <td>0.862745</td>\n",
              "    </tr>\n",
              "    <tr>\n",
              "      <th>2020-11-05</th>\n",
              "      <td>0.766845</td>\n",
              "      <td>0.747546</td>\n",
              "      <td>0.617160</td>\n",
              "      <td>0.662015</td>\n",
              "      <td>0.500000</td>\n",
              "      <td>1.000000</td>\n",
              "      <td>0.909091</td>\n",
              "      <td>1.0</td>\n",
              "      <td>0.848901</td>\n",
              "      <td>0.133333</td>\n",
              "      <td>0.862745</td>\n",
              "    </tr>\n",
              "    <tr>\n",
              "      <th>2020-11-06</th>\n",
              "      <td>0.676020</td>\n",
              "      <td>0.662160</td>\n",
              "      <td>0.487574</td>\n",
              "      <td>0.566244</td>\n",
              "      <td>0.666667</td>\n",
              "      <td>1.000000</td>\n",
              "      <td>0.909091</td>\n",
              "      <td>1.0</td>\n",
              "      <td>0.851648</td>\n",
              "      <td>0.166667</td>\n",
              "      <td>0.862745</td>\n",
              "    </tr>\n",
              "    <tr>\n",
              "      <th>2020-11-07</th>\n",
              "      <td>0.456157</td>\n",
              "      <td>0.447490</td>\n",
              "      <td>0.313609</td>\n",
              "      <td>0.369188</td>\n",
              "      <td>0.833333</td>\n",
              "      <td>1.000000</td>\n",
              "      <td>0.909091</td>\n",
              "      <td>1.0</td>\n",
              "      <td>0.854396</td>\n",
              "      <td>0.200000</td>\n",
              "      <td>0.862745</td>\n",
              "    </tr>\n",
              "    <tr>\n",
              "      <th>2020-11-08</th>\n",
              "      <td>0.459849</td>\n",
              "      <td>0.448046</td>\n",
              "      <td>0.308284</td>\n",
              "      <td>0.324796</td>\n",
              "      <td>1.000000</td>\n",
              "      <td>1.000000</td>\n",
              "      <td>0.909091</td>\n",
              "      <td>1.0</td>\n",
              "      <td>0.857143</td>\n",
              "      <td>0.233333</td>\n",
              "      <td>0.862745</td>\n",
              "    </tr>\n",
              "  </tbody>\n",
              "</table>\n",
              "<p>792 rows × 11 columns</p>\n",
              "</div>"
            ],
            "text/plain": [
              "                 사용자        세션     신규방문자  ...  dayofyear  dayofmonth  weekofyear\n",
              "date                                      ...                                   \n",
              "2018-09-09  0.051689  0.049083  0.042604  ...   0.689560    0.266667    0.686275\n",
              "2018-09-10  0.048551  0.045564  0.029586  ...   0.692308    0.300000    0.705882\n",
              "2018-09-11  0.060550  0.057233  0.033728  ...   0.695055    0.333333    0.705882\n",
              "2018-09-12  0.055197  0.052973  0.026036  ...   0.697802    0.366667    0.705882\n",
              "2018-09-13  0.069596  0.063530  0.028994  ...   0.700549    0.400000    0.705882\n",
              "...              ...       ...       ...  ...        ...         ...         ...\n",
              "2020-11-04  0.833487  0.828116  0.707101  ...   0.846154    0.100000    0.862745\n",
              "2020-11-05  0.766845  0.747546  0.617160  ...   0.848901    0.133333    0.862745\n",
              "2020-11-06  0.676020  0.662160  0.487574  ...   0.851648    0.166667    0.862745\n",
              "2020-11-07  0.456157  0.447490  0.313609  ...   0.854396    0.200000    0.862745\n",
              "2020-11-08  0.459849  0.448046  0.308284  ...   0.857143    0.233333    0.862745\n",
              "\n",
              "[792 rows x 11 columns]"
            ]
          },
          "metadata": {
            "tags": []
          },
          "execution_count": 429
        }
      ]
    },
    {
      "cell_type": "code",
      "metadata": {
        "id": "c3B6jULuUW5Q",
        "colab": {
          "base_uri": "https://localhost:8080/"
        },
        "outputId": "af4730ec-767c-41b1-ec6e-76eceeb52f0f"
      },
      "source": [
        "# scaling\r\n",
        "\r\n",
        "input_window = 61\r\n",
        "output_window = 61 # 7\r\n",
        "\r\n",
        "window_x = np.zeros((train.shape[0] - (input_window + output_window), input_window, 11))\r\n",
        "window_y = np.zeros((train.shape[0] - (input_window + output_window), output_window, 4))\r\n",
        "\r\n",
        "for start in range(train.shape[0] - (input_window + output_window)):\r\n",
        "    end = start + input_window    \r\n",
        "    window_x[start,:, :] = train.iloc[start : end                , : ].values\r\n",
        "    window_y[start,:, :] = train.iloc[end   : end + output_window, :4 ].values\r\n",
        "\r\n",
        "\r\n",
        "print('window_x.shape: ', window_x.shape)\r\n",
        "print('window_y.shape: ', window_y.shape)"
      ],
      "execution_count": 432,
      "outputs": [
        {
          "output_type": "stream",
          "text": [
            "window_x.shape:  (670, 61, 11)\n",
            "window_y.shape:  (670, 61, 4)\n"
          ],
          "name": "stdout"
        }
      ]
    },
    {
      "cell_type": "code",
      "metadata": {
        "id": "wy1pDYOzVKDD"
      },
      "source": [
        "# window_x"
      ],
      "execution_count": 352,
      "outputs": []
    },
    {
      "cell_type": "markdown",
      "metadata": {
        "id": "dHc8qQZCDedw"
      },
      "source": [
        "- 시계열 데이터 임베딩 찾아서 적용해보기\r\n",
        "- 스케일링 다르게 해보기\r\n",
        "- dropout 적용해보기"
      ]
    },
    {
      "cell_type": "code",
      "metadata": {
        "id": "RMVmMfUBILC-"
      },
      "source": [
        "import tensorflow as tf\r\n",
        "from tensorflow import keras\r\n",
        "from tensorflow.keras import layers, Sequential\r\n",
        "\r\n",
        "from tensorflow.keras.layers import Dense, Conv1D, LSTM, Input, TimeDistributed\r\n",
        "from tensorflow.keras.models import Model\r\n"
      ],
      "execution_count": 438,
      "outputs": []
    },
    {
      "cell_type": "markdown",
      "metadata": {
        "id": "LJZU8NwSoRz5"
      },
      "source": [
        "optimizer = Adam, loss = mse, activation_function = 따로지정x"
      ]
    },
    {
      "cell_type": "code",
      "metadata": {
        "id": "GKj7gc585ToK",
        "colab": {
          "base_uri": "https://localhost:8080/"
        },
        "outputId": "748e46fc-ecc5-4832-ee7d-8077000a3e7b"
      },
      "source": [
        "model = Sequential()\r\n",
        "model.add(LSTM(32, input_shape=(61, 11), return_sequences=True))  # (timestep, features)\r\n",
        "model.add(LSTM(32, return_sequences=True)) \r\n",
        "model.add(LSTM(32, return_sequences=True)) \r\n",
        "model.add(LSTM(32, return_sequences=True)) \r\n",
        "#model.add(LSTM(32, return_sequences=True)) \r\n",
        "# model.add(LSTM(32, return_sequences=True)) \r\n",
        "model.add(TimeDistributed(Dense(4)))\r\n",
        "\r\n",
        "model.summary()\r\n",
        "\r\n",
        "opt = keras.optimizers.Adam(learning_rate=0.01)\r\n",
        "model.compile(loss='mean_squared_error', optimizer=opt)\r\n",
        "\r\n",
        "model.fit(window_x, window_y, epochs=100, batch_size=50)\r\n",
        "\r\n",
        "# lstm2층 - epochs100, batch_size=10"
      ],
      "execution_count": 462,
      "outputs": [
        {
          "output_type": "stream",
          "text": [
            "Model: \"sequential_25\"\n",
            "_________________________________________________________________\n",
            "Layer (type)                 Output Shape              Param #   \n",
            "=================================================================\n",
            "lstm_91 (LSTM)               (None, 61, 32)            5632      \n",
            "_________________________________________________________________\n",
            "lstm_92 (LSTM)               (None, 61, 32)            8320      \n",
            "_________________________________________________________________\n",
            "lstm_93 (LSTM)               (None, 61, 32)            8320      \n",
            "_________________________________________________________________\n",
            "lstm_94 (LSTM)               (None, 61, 32)            8320      \n",
            "_________________________________________________________________\n",
            "time_distributed_25 (TimeDis (None, 61, 4)             132       \n",
            "=================================================================\n",
            "Total params: 30,724\n",
            "Trainable params: 30,724\n",
            "Non-trainable params: 0\n",
            "_________________________________________________________________\n",
            "Epoch 1/100\n",
            "14/14 [==============================] - 7s 94ms/step - loss: 0.0406\n",
            "Epoch 2/100\n",
            "14/14 [==============================] - 1s 98ms/step - loss: 0.0119\n",
            "Epoch 3/100\n",
            "14/14 [==============================] - 1s 100ms/step - loss: 0.0100\n",
            "Epoch 4/100\n",
            "14/14 [==============================] - 1s 98ms/step - loss: 0.0090\n",
            "Epoch 5/100\n",
            "14/14 [==============================] - 1s 99ms/step - loss: 0.0085\n",
            "Epoch 6/100\n",
            "14/14 [==============================] - 1s 98ms/step - loss: 0.0083\n",
            "Epoch 7/100\n",
            "14/14 [==============================] - 2s 108ms/step - loss: 0.0082\n",
            "Epoch 8/100\n",
            "14/14 [==============================] - 1s 103ms/step - loss: 0.0074\n",
            "Epoch 9/100\n",
            "14/14 [==============================] - 1s 103ms/step - loss: 0.0070\n",
            "Epoch 10/100\n",
            "14/14 [==============================] - 1s 105ms/step - loss: 0.0064\n",
            "Epoch 11/100\n",
            "14/14 [==============================] - 2s 126ms/step - loss: 0.0063\n",
            "Epoch 12/100\n",
            "14/14 [==============================] - 1s 97ms/step - loss: 0.0054\n",
            "Epoch 13/100\n",
            "14/14 [==============================] - 1s 99ms/step - loss: 0.0056\n",
            "Epoch 14/100\n",
            "14/14 [==============================] - 1s 101ms/step - loss: 0.0051\n",
            "Epoch 15/100\n",
            "14/14 [==============================] - 1s 99ms/step - loss: 0.0046\n",
            "Epoch 16/100\n",
            "14/14 [==============================] - 1s 106ms/step - loss: 0.0046\n",
            "Epoch 17/100\n",
            "14/14 [==============================] - 1s 105ms/step - loss: 0.0043\n",
            "Epoch 18/100\n",
            "14/14 [==============================] - 1s 102ms/step - loss: 0.0042\n",
            "Epoch 19/100\n",
            "14/14 [==============================] - 1s 103ms/step - loss: 0.0039\n",
            "Epoch 20/100\n",
            "14/14 [==============================] - 1s 101ms/step - loss: 0.0037\n",
            "Epoch 21/100\n",
            "14/14 [==============================] - 1s 100ms/step - loss: 0.0033\n",
            "Epoch 22/100\n",
            "14/14 [==============================] - 1s 99ms/step - loss: 0.0033\n",
            "Epoch 23/100\n",
            "14/14 [==============================] - 1s 105ms/step - loss: 0.0040\n",
            "Epoch 24/100\n",
            "14/14 [==============================] - 1s 100ms/step - loss: 0.0034\n",
            "Epoch 25/100\n",
            "14/14 [==============================] - 1s 99ms/step - loss: 0.0029\n",
            "Epoch 26/100\n",
            "14/14 [==============================] - 1s 100ms/step - loss: 0.0027\n",
            "Epoch 27/100\n",
            "14/14 [==============================] - 1s 104ms/step - loss: 0.0027\n",
            "Epoch 28/100\n",
            "14/14 [==============================] - 1s 102ms/step - loss: 0.0027\n",
            "Epoch 29/100\n",
            "14/14 [==============================] - 1s 100ms/step - loss: 0.0029\n",
            "Epoch 30/100\n",
            "14/14 [==============================] - 1s 102ms/step - loss: 0.0031\n",
            "Epoch 31/100\n",
            "14/14 [==============================] - 1s 100ms/step - loss: 0.0027\n",
            "Epoch 32/100\n",
            "14/14 [==============================] - 1s 101ms/step - loss: 0.0023\n",
            "Epoch 33/100\n",
            "14/14 [==============================] - 1s 104ms/step - loss: 0.0022\n",
            "Epoch 34/100\n",
            "14/14 [==============================] - 1s 104ms/step - loss: 0.0022\n",
            "Epoch 35/100\n",
            "14/14 [==============================] - 1s 103ms/step - loss: 0.0025\n",
            "Epoch 36/100\n",
            "14/14 [==============================] - 1s 100ms/step - loss: 0.0026\n",
            "Epoch 37/100\n",
            "14/14 [==============================] - 1s 99ms/step - loss: 0.0020\n",
            "Epoch 38/100\n",
            "14/14 [==============================] - 1s 100ms/step - loss: 0.0020\n",
            "Epoch 39/100\n",
            "14/14 [==============================] - 1s 104ms/step - loss: 0.0018\n",
            "Epoch 40/100\n",
            "14/14 [==============================] - 1s 101ms/step - loss: 0.0018\n",
            "Epoch 41/100\n",
            "14/14 [==============================] - 1s 101ms/step - loss: 0.0017\n",
            "Epoch 42/100\n",
            "14/14 [==============================] - 1s 103ms/step - loss: 0.0015\n",
            "Epoch 43/100\n",
            "14/14 [==============================] - 1s 101ms/step - loss: 0.0015\n",
            "Epoch 44/100\n",
            "14/14 [==============================] - 1s 101ms/step - loss: 0.0015\n",
            "Epoch 45/100\n",
            "14/14 [==============================] - 1s 102ms/step - loss: 0.0014\n",
            "Epoch 46/100\n",
            "14/14 [==============================] - 1s 101ms/step - loss: 0.0014\n",
            "Epoch 47/100\n",
            "14/14 [==============================] - 1s 101ms/step - loss: 0.0015\n",
            "Epoch 48/100\n",
            "14/14 [==============================] - 1s 101ms/step - loss: 0.0013\n",
            "Epoch 49/100\n",
            "14/14 [==============================] - 1s 100ms/step - loss: 0.0013\n",
            "Epoch 50/100\n",
            "14/14 [==============================] - 1s 100ms/step - loss: 0.0012\n",
            "Epoch 51/100\n",
            "14/14 [==============================] - 1s 102ms/step - loss: 0.0011\n",
            "Epoch 52/100\n",
            "14/14 [==============================] - 1s 101ms/step - loss: 0.0012\n",
            "Epoch 53/100\n",
            "14/14 [==============================] - 1s 101ms/step - loss: 0.0013\n",
            "Epoch 54/100\n",
            "14/14 [==============================] - 1s 100ms/step - loss: 0.0011\n",
            "Epoch 55/100\n",
            "14/14 [==============================] - 1s 101ms/step - loss: 0.0011\n",
            "Epoch 56/100\n",
            "14/14 [==============================] - 1s 102ms/step - loss: 0.0010\n",
            "Epoch 57/100\n",
            "14/14 [==============================] - 1s 102ms/step - loss: 9.8917e-04\n",
            "Epoch 58/100\n",
            "14/14 [==============================] - 1s 101ms/step - loss: 9.0650e-04\n",
            "Epoch 59/100\n",
            "14/14 [==============================] - 1s 101ms/step - loss: 9.0568e-04\n",
            "Epoch 60/100\n",
            "14/14 [==============================] - 1s 103ms/step - loss: 9.5121e-04\n",
            "Epoch 61/100\n",
            "14/14 [==============================] - 1s 100ms/step - loss: 0.0011\n",
            "Epoch 62/100\n",
            "14/14 [==============================] - 1s 101ms/step - loss: 0.0016\n",
            "Epoch 63/100\n",
            "14/14 [==============================] - 1s 101ms/step - loss: 0.0013\n",
            "Epoch 64/100\n",
            "14/14 [==============================] - 1s 99ms/step - loss: 9.5589e-04\n",
            "Epoch 65/100\n",
            "14/14 [==============================] - 1s 99ms/step - loss: 7.9855e-04\n",
            "Epoch 66/100\n",
            "14/14 [==============================] - 1s 101ms/step - loss: 7.7706e-04\n",
            "Epoch 67/100\n",
            "14/14 [==============================] - 1s 101ms/step - loss: 7.5073e-04\n",
            "Epoch 68/100\n",
            "14/14 [==============================] - 1s 101ms/step - loss: 6.8641e-04\n",
            "Epoch 69/100\n",
            "14/14 [==============================] - 1s 101ms/step - loss: 6.9184e-04\n",
            "Epoch 70/100\n",
            "14/14 [==============================] - 1s 101ms/step - loss: 6.5848e-04\n",
            "Epoch 71/100\n",
            "14/14 [==============================] - 1s 97ms/step - loss: 6.1249e-04\n",
            "Epoch 72/100\n",
            "14/14 [==============================] - 1s 100ms/step - loss: 6.0769e-04\n",
            "Epoch 73/100\n",
            "14/14 [==============================] - 1s 100ms/step - loss: 5.6957e-04\n",
            "Epoch 74/100\n",
            "14/14 [==============================] - 1s 100ms/step - loss: 5.8756e-04\n",
            "Epoch 75/100\n",
            "14/14 [==============================] - 1s 104ms/step - loss: 5.9705e-04\n",
            "Epoch 76/100\n",
            "14/14 [==============================] - 1s 101ms/step - loss: 5.6749e-04\n",
            "Epoch 77/100\n",
            "14/14 [==============================] - 1s 100ms/step - loss: 6.2827e-04\n",
            "Epoch 78/100\n",
            "14/14 [==============================] - 1s 100ms/step - loss: 6.0776e-04\n",
            "Epoch 79/100\n",
            "14/14 [==============================] - 1s 103ms/step - loss: 5.4949e-04\n",
            "Epoch 80/100\n",
            "14/14 [==============================] - 1s 102ms/step - loss: 5.7206e-04\n",
            "Epoch 81/100\n",
            "14/14 [==============================] - 1s 99ms/step - loss: 5.2545e-04\n",
            "Epoch 82/100\n",
            "14/14 [==============================] - 1s 103ms/step - loss: 5.3415e-04\n",
            "Epoch 83/100\n",
            "14/14 [==============================] - 1s 100ms/step - loss: 4.9413e-04\n",
            "Epoch 84/100\n",
            "14/14 [==============================] - 1s 101ms/step - loss: 4.7056e-04\n",
            "Epoch 85/100\n",
            "14/14 [==============================] - 1s 99ms/step - loss: 5.0253e-04\n",
            "Epoch 86/100\n",
            "14/14 [==============================] - 1s 104ms/step - loss: 4.8378e-04\n",
            "Epoch 87/100\n",
            "14/14 [==============================] - 1s 101ms/step - loss: 4.9075e-04\n",
            "Epoch 88/100\n",
            "14/14 [==============================] - 1s 100ms/step - loss: 4.9590e-04\n",
            "Epoch 89/100\n",
            "14/14 [==============================] - 1s 101ms/step - loss: 4.7509e-04\n",
            "Epoch 90/100\n",
            "14/14 [==============================] - 1s 101ms/step - loss: 7.3939e-04\n",
            "Epoch 91/100\n",
            "14/14 [==============================] - 1s 102ms/step - loss: 6.3791e-04\n",
            "Epoch 92/100\n",
            "14/14 [==============================] - 1s 99ms/step - loss: 5.0610e-04\n",
            "Epoch 93/100\n",
            "14/14 [==============================] - 1s 100ms/step - loss: 4.8833e-04\n",
            "Epoch 94/100\n",
            "14/14 [==============================] - 1s 106ms/step - loss: 4.1974e-04\n",
            "Epoch 95/100\n",
            "14/14 [==============================] - 1s 99ms/step - loss: 4.4682e-04\n",
            "Epoch 96/100\n",
            "14/14 [==============================] - 1s 101ms/step - loss: 4.3156e-04\n",
            "Epoch 97/100\n",
            "14/14 [==============================] - 1s 100ms/step - loss: 4.4171e-04\n",
            "Epoch 98/100\n",
            "14/14 [==============================] - 1s 100ms/step - loss: 4.2569e-04\n",
            "Epoch 99/100\n",
            "14/14 [==============================] - 1s 99ms/step - loss: 3.9239e-04\n",
            "Epoch 100/100\n",
            "14/14 [==============================] - 1s 106ms/step - loss: 3.8591e-04\n"
          ],
          "name": "stdout"
        },
        {
          "output_type": "execute_result",
          "data": {
            "text/plain": [
              "<tensorflow.python.keras.callbacks.History at 0x7f6eb3a730b8>"
            ]
          },
          "metadata": {
            "tags": []
          },
          "execution_count": 462
        }
      ]
    },
    {
      "cell_type": "markdown",
      "metadata": {
        "id": "dbInac4YQ8pV"
      },
      "source": [
        "## test : last_df"
      ]
    },
    {
      "cell_type": "code",
      "metadata": {
        "colab": {
          "base_uri": "https://localhost:8080/"
        },
        "id": "hL8wR22W18Co",
        "outputId": "21b1c541-7014-40eb-e8b1-5b9a9de4d861"
      },
      "source": [
        "# train은 이미 위에서 minmax scaler적용되어있음.\r\n",
        "\r\n",
        "last_df = train.iloc[-61:,:].values[np.newaxis,...] # np.newaxis: 3D로 차원을 늘려줌. \r\n",
        "last_df.shape"
      ],
      "execution_count": 463,
      "outputs": [
        {
          "output_type": "execute_result",
          "data": {
            "text/plain": [
              "(1, 61, 11)"
            ]
          },
          "metadata": {
            "tags": []
          },
          "execution_count": 463
        }
      ]
    },
    {
      "cell_type": "code",
      "metadata": {
        "colab": {
          "base_uri": "https://localhost:8080/"
        },
        "id": "qaMBTNjj2JW9",
        "outputId": "b0d988dd-20d3-4be5-9997-815eec3cd9e0"
      },
      "source": [
        "pred_last = model.predict(last_df)\r\n",
        "pred_last[:5]"
      ],
      "execution_count": 464,
      "outputs": [
        {
          "output_type": "stream",
          "text": [
            "WARNING:tensorflow:7 out of the last 11 calls to <function Model.make_predict_function.<locals>.predict_function at 0x7f6eb31b0488> triggered tf.function retracing. Tracing is expensive and the excessive number of tracings could be due to (1) creating @tf.function repeatedly in a loop, (2) passing tensors with different shapes, (3) passing Python objects instead of tensors. For (1), please define your @tf.function outside of the loop. For (2), @tf.function has experimental_relax_shapes=True option that relaxes argument shapes that can avoid unnecessary retracing. For (3), please refer to https://www.tensorflow.org/guide/function#controlling_retracing and https://www.tensorflow.org/api_docs/python/tf/function for  more details.\n"
          ],
          "name": "stdout"
        },
        {
          "output_type": "execute_result",
          "data": {
            "text/plain": [
              "array([[[0.5125102 , 0.51275885, 0.37442636, 0.47159633],\n",
              "        [0.5103022 , 0.5072364 , 0.35994262, 0.41199112],\n",
              "        [0.50323737, 0.49710006, 0.35243452, 0.37489858],\n",
              "        [0.4372754 , 0.43569827, 0.3035343 , 0.31631622],\n",
              "        [0.3903278 , 0.3867873 , 0.2625593 , 0.27646825],\n",
              "        [0.29767218, 0.29537964, 0.17705438, 0.21433082],\n",
              "        [0.27687997, 0.28114995, 0.14552405, 0.20577145],\n",
              "        [0.48273277, 0.4798876 , 0.2975406 , 0.3292094 ],\n",
              "        [0.41813803, 0.41328162, 0.2642138 , 0.25104666],\n",
              "        [0.4188881 , 0.40932226, 0.29188657, 0.25772226],\n",
              "        [0.37355834, 0.35684997, 0.26591584, 0.23182228],\n",
              "        [0.40632445, 0.37925863, 0.2860211 , 0.27597418],\n",
              "        [0.26554465, 0.2543928 , 0.207001  , 0.16020334],\n",
              "        [0.3067603 , 0.304106  , 0.25367782, 0.20800963],\n",
              "        [0.36011738, 0.35574037, 0.23690492, 0.25230414],\n",
              "        [0.65934235, 0.6659397 , 0.516691  , 0.46056053],\n",
              "        [0.46622086, 0.4658835 , 0.29865476, 0.3071639 ],\n",
              "        [0.49635333, 0.4995557 , 0.370259  , 0.35680392],\n",
              "        [0.47550762, 0.47184843, 0.3316381 , 0.33719656],\n",
              "        [0.28337124, 0.28359684, 0.19038   , 0.1632401 ],\n",
              "        [0.37147826, 0.37030447, 0.26107115, 0.23073629],\n",
              "        [0.8613252 , 0.8812567 , 0.73176587, 0.693382  ],\n",
              "        [0.68771565, 0.6805492 , 0.44976848, 0.55728465],\n",
              "        [0.7425641 , 0.73021036, 0.456515  , 0.58650595],\n",
              "        [0.77396005, 0.7770094 , 0.48612487, 0.57185197],\n",
              "        [0.79990685, 0.8224231 , 0.58281595, 0.5959276 ],\n",
              "        [0.5584649 , 0.56214863, 0.41409254, 0.44193318],\n",
              "        [0.28743595, 0.26431262, 0.100952  , 0.22294378],\n",
              "        [0.48082364, 0.46665674, 0.30511194, 0.29957312],\n",
              "        [0.4653756 , 0.4505822 , 0.32556266, 0.2788355 ],\n",
              "        [0.4566282 , 0.43889558, 0.31501004, 0.28516212],\n",
              "        [0.37546802, 0.35822403, 0.2407113 , 0.24725395],\n",
              "        [0.33947188, 0.32323688, 0.2138235 , 0.2502974 ],\n",
              "        [0.28489682, 0.27831522, 0.18051328, 0.22821924],\n",
              "        [0.29713714, 0.2951088 , 0.18436114, 0.2537152 ],\n",
              "        [0.48245227, 0.47290778, 0.34375957, 0.35956103],\n",
              "        [0.50090146, 0.49496794, 0.3871126 , 0.35080105],\n",
              "        [0.49961734, 0.49253714, 0.38513607, 0.33872157],\n",
              "        [0.44261807, 0.4343599 , 0.3236628 , 0.2841825 ],\n",
              "        [0.3704903 , 0.36656356, 0.26019657, 0.23012587],\n",
              "        [0.3687303 , 0.37170434, 0.28702918, 0.2154705 ],\n",
              "        [0.31946343, 0.32487231, 0.24365819, 0.19993845],\n",
              "        [0.44116133, 0.4411533 , 0.3463221 , 0.30047917],\n",
              "        [0.54354346, 0.5372201 , 0.46595782, 0.39515486],\n",
              "        [0.4461984 , 0.43642825, 0.34871578, 0.30681273],\n",
              "        [0.36805183, 0.3645364 , 0.25583613, 0.24955606],\n",
              "        [0.41538835, 0.4111007 , 0.30159867, 0.2861535 ],\n",
              "        [0.30390844, 0.31102848, 0.21344563, 0.19596922],\n",
              "        [0.35997498, 0.37500966, 0.24163404, 0.25024104],\n",
              "        [0.7554255 , 0.76986164, 0.65522957, 0.5907908 ],\n",
              "        [0.68196493, 0.6843007 , 0.5524972 , 0.5371833 ],\n",
              "        [0.571566  , 0.55641747, 0.4244484 , 0.4476522 ],\n",
              "        [0.37615818, 0.37450892, 0.23569244, 0.29167464],\n",
              "        [0.32522434, 0.31798667, 0.19523549, 0.26920664],\n",
              "        [0.2353321 , 0.22833262, 0.13513377, 0.18459207],\n",
              "        [0.4501456 , 0.4305181 , 0.31406808, 0.3227234 ],\n",
              "        [0.5865383 , 0.56371135, 0.4596142 , 0.49724486],\n",
              "        [0.59171844, 0.5739462 , 0.45360482, 0.50031817],\n",
              "        [0.6104045 , 0.60790026, 0.45922786, 0.50812346],\n",
              "        [0.5185241 , 0.5259654 , 0.34890038, 0.41776392],\n",
              "        [0.38982344, 0.39705473, 0.21188226, 0.30835703]]], dtype=float32)"
            ]
          },
          "metadata": {
            "tags": []
          },
          "execution_count": 464
        }
      ]
    },
    {
      "cell_type": "code",
      "metadata": {
        "colab": {
          "base_uri": "https://localhost:8080/"
        },
        "id": "HoED9_139dCn",
        "outputId": "9aff1af6-84fb-4df1-9620-b60d011ed88c"
      },
      "source": [
        "pred_last = pred_last.reshape(output_window,4)\r\n",
        "pred_last = pred_last * size[:4].values + mini[:4].values\r\n",
        "pred_last = pred_last.astype(int)\r\n",
        "pred_last\r\n"
      ],
      "execution_count": 465,
      "outputs": [
        {
          "output_type": "execute_result",
          "data": {
            "text/plain": [
              "array([[  2777,   2769,    633,  73303],\n",
              "       [  2765,   2739,    609,  64039],\n",
              "       [  2727,   2684,    596,  58273],\n",
              "       [  2369,   2353,    513,  49167],\n",
              "       [  2115,   2089,    444,  42974],\n",
              "       [  1613,   1595,    300,  33316],\n",
              "       [  1500,   1518,    246,  31985],\n",
              "       [  2615,   2591,    503,  51172],\n",
              "       [  2266,   2232,    447,  39022],\n",
              "       [  2270,   2210,    494,  40060],\n",
              "       [  2024,   1927,    450,  36034],\n",
              "       [  2202,   2048,    484,  42897],\n",
              "       [  1439,   1374,    350,  24902],\n",
              "       [  1662,   1642,    429,  32333],\n",
              "       [  1951,   1921,    401,  39218],\n",
              "       [  3572,   3596,    874,  71588],\n",
              "       [  2526,   2516,    505,  47745],\n",
              "       [  2689,   2698,    626,  55461],\n",
              "       [  2576,   2548,    561,  52413],\n",
              "       [  1536,   1532,    322,  25374],\n",
              "       [  2013,   2000,    442,  35866],\n",
              "       [  4666,   4758,   1237, 107776],\n",
              "       [  3726,   3675,    761,  86622],\n",
              "       [  4023,   3943,    772,  91164],\n",
              "       [  4193,   4196,    822,  88886],\n",
              "       [  4334,   4441,    985,  92628],\n",
              "       [  3026,   3036,    700,  68693],\n",
              "       [  1558,   1428,    171,  34654],\n",
              "       [  2605,   2520,    516,  46565],\n",
              "       [  2521,   2433,    551,  43342],\n",
              "       [  2474,   2370,    533,  44325],\n",
              "       [  2034,   1935,    407,  38433],\n",
              "       [  1839,   1746,    362,  38906],\n",
              "       [  1544,   1503,    306,  35474],\n",
              "       [  1610,   1594,    312,  39437],\n",
              "       [  2614,   2554,    581,  55889],\n",
              "       [  2714,   2673,    655,  54528],\n",
              "       [  2707,   2660,    651,  52650],\n",
              "       [  2398,   2346,    547,  44173],\n",
              "       [  2007,   1980,    440,  35771],\n",
              "       [  1998,   2007,    486,  33493],\n",
              "       [  1731,   1754,    412,  31079],\n",
              "       [  2390,   2382,    586,  46706],\n",
              "       [  2945,   2901,    788,  61422],\n",
              "       [  2418,   2357,    590,  47690],\n",
              "       [  1994,   1969,    433,  38791],\n",
              "       [  2251,   2220,    510,  44479],\n",
              "       [  1647,   1680,    361,  30462],\n",
              "       [  1950,   2025,    409,  38897],\n",
              "       [  4093,   4157,   1108,  91830],\n",
              "       [  3695,   3695,    934,  83498],\n",
              "       [  3097,   3005,    718,  69581],\n",
              "       [  2038,   2022,    399,  45337],\n",
              "       [  1762,   1717,    330,  41845],\n",
              "       [  1275,   1233,    229,  28693],\n",
              "       [  2439,   2325,    531,  50163],\n",
              "       [  3178,   3044,    777,  77290],\n",
              "       [  3206,   3099,    767,  77767],\n",
              "       [  3307,   3283,    777,  78981],\n",
              "       [  2809,   2840,    590,  64936],\n",
              "       [  2112,   2144,    359,  47930]])"
            ]
          },
          "metadata": {
            "tags": []
          },
          "execution_count": 465
        }
      ]
    },
    {
      "cell_type": "code",
      "metadata": {
        "colab": {
          "base_uri": "https://localhost:8080/"
        },
        "id": "FY7lgRivG5-L",
        "outputId": "4c808bf4-97bd-487b-d779-33cb6bd0eb49"
      },
      "source": [
        "pred_last.shape"
      ],
      "execution_count": 466,
      "outputs": [
        {
          "output_type": "execute_result",
          "data": {
            "text/plain": [
              "(61, 4)"
            ]
          },
          "metadata": {
            "tags": []
          },
          "execution_count": 466
        }
      ]
    },
    {
      "cell_type": "markdown",
      "metadata": {
        "id": "hkxkXBgBJ4tg"
      },
      "source": [
        "## submit"
      ]
    },
    {
      "cell_type": "code",
      "metadata": {
        "colab": {
          "base_uri": "https://localhost:8080/"
        },
        "id": "444WoejNJ4t9",
        "outputId": "a2f33c7b-798c-43bf-a685-9a90f63b7e79"
      },
      "source": [
        "submission =  pd.read_csv(path + '/open_data/submission.csv', encoding = 'euc-kr')\r\n",
        "submission.shape"
      ],
      "execution_count": 497,
      "outputs": [
        {
          "output_type": "execute_result",
          "data": {
            "text/plain": [
              "(61, 5)"
            ]
          },
          "metadata": {
            "tags": []
          },
          "execution_count": 497
        }
      ]
    },
    {
      "cell_type": "code",
      "metadata": {
        "colab": {
          "base_uri": "https://localhost:8080/"
        },
        "id": "HAtpKeL1J4t-",
        "outputId": "e7d726fa-57b0-4b71-cb6e-c5b4a9bfceee"
      },
      "source": [
        "pred_last.shape"
      ],
      "execution_count": 498,
      "outputs": [
        {
          "output_type": "execute_result",
          "data": {
            "text/plain": [
              "(61, 4)"
            ]
          },
          "metadata": {
            "tags": []
          },
          "execution_count": 498
        }
      ]
    },
    {
      "cell_type": "code",
      "metadata": {
        "colab": {
          "base_uri": "https://localhost:8080/",
          "height": 200
        },
        "id": "3VUwY_duJ4uA",
        "outputId": "a5b7a054-74a1-4e81-d650-f0691d33458a"
      },
      "source": [
        "pred_df = pd.DataFrame(pred_last)\r\n",
        "pred_df.head()"
      ],
      "execution_count": 499,
      "outputs": [
        {
          "output_type": "execute_result",
          "data": {
            "text/html": [
              "<div>\n",
              "<style scoped>\n",
              "    .dataframe tbody tr th:only-of-type {\n",
              "        vertical-align: middle;\n",
              "    }\n",
              "\n",
              "    .dataframe tbody tr th {\n",
              "        vertical-align: top;\n",
              "    }\n",
              "\n",
              "    .dataframe thead th {\n",
              "        text-align: right;\n",
              "    }\n",
              "</style>\n",
              "<table border=\"1\" class=\"dataframe\">\n",
              "  <thead>\n",
              "    <tr style=\"text-align: right;\">\n",
              "      <th></th>\n",
              "      <th>0</th>\n",
              "      <th>1</th>\n",
              "      <th>2</th>\n",
              "      <th>3</th>\n",
              "    </tr>\n",
              "  </thead>\n",
              "  <tbody>\n",
              "    <tr>\n",
              "      <th>0</th>\n",
              "      <td>2777</td>\n",
              "      <td>2769</td>\n",
              "      <td>633</td>\n",
              "      <td>73303</td>\n",
              "    </tr>\n",
              "    <tr>\n",
              "      <th>1</th>\n",
              "      <td>2765</td>\n",
              "      <td>2739</td>\n",
              "      <td>609</td>\n",
              "      <td>64039</td>\n",
              "    </tr>\n",
              "    <tr>\n",
              "      <th>2</th>\n",
              "      <td>2727</td>\n",
              "      <td>2684</td>\n",
              "      <td>596</td>\n",
              "      <td>58273</td>\n",
              "    </tr>\n",
              "    <tr>\n",
              "      <th>3</th>\n",
              "      <td>2369</td>\n",
              "      <td>2353</td>\n",
              "      <td>513</td>\n",
              "      <td>49167</td>\n",
              "    </tr>\n",
              "    <tr>\n",
              "      <th>4</th>\n",
              "      <td>2115</td>\n",
              "      <td>2089</td>\n",
              "      <td>444</td>\n",
              "      <td>42974</td>\n",
              "    </tr>\n",
              "  </tbody>\n",
              "</table>\n",
              "</div>"
            ],
            "text/plain": [
              "      0     1    2      3\n",
              "0  2777  2769  633  73303\n",
              "1  2765  2739  609  64039\n",
              "2  2727  2684  596  58273\n",
              "3  2369  2353  513  49167\n",
              "4  2115  2089  444  42974"
            ]
          },
          "metadata": {
            "tags": []
          },
          "execution_count": 499
        }
      ]
    },
    {
      "cell_type": "code",
      "metadata": {
        "colab": {
          "base_uri": "https://localhost:8080/"
        },
        "id": "LFdMfTtYJ4uA",
        "outputId": "6f77004f-5619-4fae-a5d9-87f341d5722c"
      },
      "source": [
        "# 30까지 모두 채우면 다시 0부터.\r\n",
        "\r\n",
        "for i in range(len(submission)):\r\n",
        "  submission['사용자'][i] = pred_df[0][i]\r\n",
        "  submission['세션'][i] = pred_df[1][i]\r\n",
        "  submission['신규방문자'][i] = pred_df[2][i]\r\n",
        "  submission['페이지뷰'][i] = pred_df[3][i]\r\n"
      ],
      "execution_count": 500,
      "outputs": [
        {
          "output_type": "stream",
          "text": [
            "/usr/local/lib/python3.6/dist-packages/ipykernel_launcher.py:4: SettingWithCopyWarning: \n",
            "A value is trying to be set on a copy of a slice from a DataFrame\n",
            "\n",
            "See the caveats in the documentation: https://pandas.pydata.org/pandas-docs/stable/user_guide/indexing.html#returning-a-view-versus-a-copy\n",
            "  after removing the cwd from sys.path.\n",
            "/usr/local/lib/python3.6/dist-packages/ipykernel_launcher.py:5: SettingWithCopyWarning: \n",
            "A value is trying to be set on a copy of a slice from a DataFrame\n",
            "\n",
            "See the caveats in the documentation: https://pandas.pydata.org/pandas-docs/stable/user_guide/indexing.html#returning-a-view-versus-a-copy\n",
            "  \"\"\"\n",
            "/usr/local/lib/python3.6/dist-packages/ipykernel_launcher.py:6: SettingWithCopyWarning: \n",
            "A value is trying to be set on a copy of a slice from a DataFrame\n",
            "\n",
            "See the caveats in the documentation: https://pandas.pydata.org/pandas-docs/stable/user_guide/indexing.html#returning-a-view-versus-a-copy\n",
            "  \n",
            "/usr/local/lib/python3.6/dist-packages/ipykernel_launcher.py:7: SettingWithCopyWarning: \n",
            "A value is trying to be set on a copy of a slice from a DataFrame\n",
            "\n",
            "See the caveats in the documentation: https://pandas.pydata.org/pandas-docs/stable/user_guide/indexing.html#returning-a-view-versus-a-copy\n",
            "  import sys\n"
          ],
          "name": "stderr"
        }
      ]
    },
    {
      "cell_type": "code",
      "metadata": {
        "colab": {
          "base_uri": "https://localhost:8080/",
          "height": 200
        },
        "id": "yYcUBxPKJ4uD",
        "outputId": "7aad6a4d-4cb4-4786-c424-a4abd695f86b"
      },
      "source": [
        "submission.head()"
      ],
      "execution_count": 501,
      "outputs": [
        {
          "output_type": "execute_result",
          "data": {
            "text/html": [
              "<div>\n",
              "<style scoped>\n",
              "    .dataframe tbody tr th:only-of-type {\n",
              "        vertical-align: middle;\n",
              "    }\n",
              "\n",
              "    .dataframe tbody tr th {\n",
              "        vertical-align: top;\n",
              "    }\n",
              "\n",
              "    .dataframe thead th {\n",
              "        text-align: right;\n",
              "    }\n",
              "</style>\n",
              "<table border=\"1\" class=\"dataframe\">\n",
              "  <thead>\n",
              "    <tr style=\"text-align: right;\">\n",
              "      <th></th>\n",
              "      <th>DateTime</th>\n",
              "      <th>사용자</th>\n",
              "      <th>세션</th>\n",
              "      <th>신규방문자</th>\n",
              "      <th>페이지뷰</th>\n",
              "    </tr>\n",
              "  </thead>\n",
              "  <tbody>\n",
              "    <tr>\n",
              "      <th>0</th>\n",
              "      <td>2020-11-09</td>\n",
              "      <td>2777</td>\n",
              "      <td>2769</td>\n",
              "      <td>633</td>\n",
              "      <td>73303</td>\n",
              "    </tr>\n",
              "    <tr>\n",
              "      <th>1</th>\n",
              "      <td>2020-11-10</td>\n",
              "      <td>2765</td>\n",
              "      <td>2739</td>\n",
              "      <td>609</td>\n",
              "      <td>64039</td>\n",
              "    </tr>\n",
              "    <tr>\n",
              "      <th>2</th>\n",
              "      <td>2020-11-11</td>\n",
              "      <td>2727</td>\n",
              "      <td>2684</td>\n",
              "      <td>596</td>\n",
              "      <td>58273</td>\n",
              "    </tr>\n",
              "    <tr>\n",
              "      <th>3</th>\n",
              "      <td>2020-11-12</td>\n",
              "      <td>2369</td>\n",
              "      <td>2353</td>\n",
              "      <td>513</td>\n",
              "      <td>49167</td>\n",
              "    </tr>\n",
              "    <tr>\n",
              "      <th>4</th>\n",
              "      <td>2020-11-13</td>\n",
              "      <td>2115</td>\n",
              "      <td>2089</td>\n",
              "      <td>444</td>\n",
              "      <td>42974</td>\n",
              "    </tr>\n",
              "  </tbody>\n",
              "</table>\n",
              "</div>"
            ],
            "text/plain": [
              "     DateTime   사용자    세션  신규방문자   페이지뷰\n",
              "0  2020-11-09  2777  2769    633  73303\n",
              "1  2020-11-10  2765  2739    609  64039\n",
              "2  2020-11-11  2727  2684    596  58273\n",
              "3  2020-11-12  2369  2353    513  49167\n",
              "4  2020-11-13  2115  2089    444  42974"
            ]
          },
          "metadata": {
            "tags": []
          },
          "execution_count": 501
        }
      ]
    },
    {
      "cell_type": "code",
      "metadata": {
        "id": "UeUT41zKMnRF"
      },
      "source": [
        "submission.to_csv('feature 추가.csv', index = False, encoding = 'euc-kr')"
      ],
      "execution_count": 510,
      "outputs": []
    },
    {
      "cell_type": "markdown",
      "metadata": {
        "id": "G0ARyON_J5BK"
      },
      "source": [
        "#### 결과 제일 좋았던, 나빴던 파일이랑 predict를 비교"
      ]
    },
    {
      "cell_type": "code",
      "metadata": {
        "colab": {
          "base_uri": "https://localhost:8080/",
          "height": 230
        },
        "id": "kSyu8nZ2J85o",
        "outputId": "3be0aea4-087b-4694-a637-c739acfca203"
      },
      "source": [
        "best = pd.read_csv('61 lstm3.csv', encoding = 'euc-kr')\r\n",
        "best.set_index('DateTime', inplace = True)\r\n",
        "best.index = pd.to_datetime(best.index)\r\n",
        "best.head()"
      ],
      "execution_count": 485,
      "outputs": [
        {
          "output_type": "execute_result",
          "data": {
            "text/html": [
              "<div>\n",
              "<style scoped>\n",
              "    .dataframe tbody tr th:only-of-type {\n",
              "        vertical-align: middle;\n",
              "    }\n",
              "\n",
              "    .dataframe tbody tr th {\n",
              "        vertical-align: top;\n",
              "    }\n",
              "\n",
              "    .dataframe thead th {\n",
              "        text-align: right;\n",
              "    }\n",
              "</style>\n",
              "<table border=\"1\" class=\"dataframe\">\n",
              "  <thead>\n",
              "    <tr style=\"text-align: right;\">\n",
              "      <th></th>\n",
              "      <th>사용자</th>\n",
              "      <th>세션</th>\n",
              "      <th>신규방문자</th>\n",
              "      <th>페이지뷰</th>\n",
              "    </tr>\n",
              "    <tr>\n",
              "      <th>DateTime</th>\n",
              "      <th></th>\n",
              "      <th></th>\n",
              "      <th></th>\n",
              "      <th></th>\n",
              "    </tr>\n",
              "  </thead>\n",
              "  <tbody>\n",
              "    <tr>\n",
              "      <th>2020-11-09</th>\n",
              "      <td>2382</td>\n",
              "      <td>2342</td>\n",
              "      <td>558</td>\n",
              "      <td>65910</td>\n",
              "    </tr>\n",
              "    <tr>\n",
              "      <th>2020-11-10</th>\n",
              "      <td>2800</td>\n",
              "      <td>2752</td>\n",
              "      <td>676</td>\n",
              "      <td>76967</td>\n",
              "    </tr>\n",
              "    <tr>\n",
              "      <th>2020-11-11</th>\n",
              "      <td>2864</td>\n",
              "      <td>2819</td>\n",
              "      <td>716</td>\n",
              "      <td>76131</td>\n",
              "    </tr>\n",
              "    <tr>\n",
              "      <th>2020-11-12</th>\n",
              "      <td>2614</td>\n",
              "      <td>2581</td>\n",
              "      <td>700</td>\n",
              "      <td>67805</td>\n",
              "    </tr>\n",
              "    <tr>\n",
              "      <th>2020-11-13</th>\n",
              "      <td>2604</td>\n",
              "      <td>2600</td>\n",
              "      <td>722</td>\n",
              "      <td>65712</td>\n",
              "    </tr>\n",
              "  </tbody>\n",
              "</table>\n",
              "</div>"
            ],
            "text/plain": [
              "             사용자    세션  신규방문자   페이지뷰\n",
              "DateTime                            \n",
              "2020-11-09  2382  2342    558  65910\n",
              "2020-11-10  2800  2752    676  76967\n",
              "2020-11-11  2864  2819    716  76131\n",
              "2020-11-12  2614  2581    700  67805\n",
              "2020-11-13  2604  2600    722  65712"
            ]
          },
          "metadata": {
            "tags": []
          },
          "execution_count": 485
        }
      ]
    },
    {
      "cell_type": "code",
      "metadata": {
        "id": "sCT4at_iSIP5"
      },
      "source": [
        "worst = pd.read_csv('feature 추가.csv', encoding = 'euc-kr')\r\n",
        "worst.set_index('DateTime', inplace = True)\r\n",
        "worst.index = pd.to_datetime(best.index)\r\n",
        "#worst.head()"
      ],
      "execution_count": null,
      "outputs": []
    },
    {
      "cell_type": "code",
      "metadata": {
        "id": "6EvX_gyeMV9R"
      },
      "source": [
        "submission.set_index('DateTime', inplace = True)\r\n",
        "submission.index = pd.to_datetime(submission.index)\r\n",
        "# submission.head()"
      ],
      "execution_count": 502,
      "outputs": []
    },
    {
      "cell_type": "code",
      "metadata": {
        "colab": {
          "base_uri": "https://localhost:8080/",
          "height": 428
        },
        "id": "qgpdgvAzKK9R",
        "outputId": "055aa477-4b59-4173-e8c1-a4158277f926"
      },
      "source": [
        "# plot expected vs preducted\r\n",
        "\r\n",
        "\r\n",
        "plt.figure(figsize = (15,7))\r\n",
        "pyplot.plot(best['사용자'], label='best')\r\n",
        "pyplot.plot(submission['사용자'], label='Predicted')\r\n",
        "pyplot.plot(worst['사용자'], label = 'worst')\r\n",
        "pyplot.legend()\r\n",
        "pyplot.show()"
      ],
      "execution_count": 526,
      "outputs": [
        {
          "output_type": "display_data",
          "data": {
            "image/png": "[encoded data removed]",
            "text/plain": [
              "<Figure size 1080x504 with 1 Axes>"
            ]
          },
          "metadata": {
            "tags": [],
            "needs_background": "light"
          }
        }
      ]
    },
    {
      "cell_type": "code",
      "metadata": {
        "colab": {
          "base_uri": "https://localhost:8080/",
          "height": 428
        },
        "id": "VBs3Ig9sLHcw",
        "outputId": "ade810a3-0a3a-46ca-b103-be96c92678d2"
      },
      "source": [
        "\r\n",
        "plt.figure(figsize = (15,7))\r\n",
        "pyplot.plot(best['세션'], label='best')\r\n",
        "pyplot.plot(submission['세션'], label='Predicted')\r\n",
        "pyplot.plot(worst['세션'], label = 'worst')\r\n",
        "pyplot.legend()\r\n",
        "pyplot.show()"
      ],
      "execution_count": 532,
      "outputs": [
        {
          "output_type": "display_data",
          "data": {
            "image/png": "[encoded data removed]",
            "text/plain": [
              "<Figure size 1080x504 with 1 Axes>"
            ]
          },
          "metadata": {
            "tags": [],
            "needs_background": "light"
          }
        }
      ]
    },
    {
      "cell_type": "code",
      "metadata": {
        "colab": {
          "base_uri": "https://localhost:8080/",
          "height": 428
        },
        "id": "GBhRD3aLLPV4",
        "outputId": "3f9be6ab-2800-4cab-ce54-4e78dac5ced6"
      },
      "source": [
        "\r\n",
        "plt.figure(figsize = (15,7))\r\n",
        "pyplot.plot(best['신규방문자'], label='best')\r\n",
        "pyplot.plot(submission['신규방문자'], label='Predicted')\r\n",
        "pyplot.plot(worst['신규방문자'], label = 'worst')\r\n",
        "pyplot.legend()\r\n",
        "pyplot.show()"
      ],
      "execution_count": 531,
      "outputs": [
        {
          "output_type": "display_data",
          "data": {
            "image/png": "[encoded data removed]",
            "text/plain": [
              "<Figure size 1080x504 with 1 Axes>"
            ]
          },
          "metadata": {
            "tags": [],
            "needs_background": "light"
          }
        }
      ]
    },
    {
      "cell_type": "code",
      "metadata": {
        "colab": {
          "base_uri": "https://localhost:8080/",
          "height": 428
        },
        "id": "NV6qNNQoLPZT",
        "outputId": "269de942-0e7a-4e96-8d9a-e55ce880c099"
      },
      "source": [
        "\r\n",
        "plt.figure(figsize = (15,7))\r\n",
        "pyplot.plot(best['페이지뷰'], label='best')\r\n",
        "pyplot.plot(submission['페이지뷰'], label='Predicted')\r\n",
        "pyplot.plot(worst['페이지뷰'], label = 'worst')\r\n",
        "pyplot.legend()\r\n",
        "pyplot.show()"
      ],
      "execution_count": 530,
      "outputs": [
        {
          "output_type": "display_data",
          "data": {
            "image/png": "[encoded data removed]",
            "text/plain": [
              "<Figure size 1080x504 with 1 Axes>"
            ]
          },
          "metadata": {
            "tags": [],
            "needs_background": "light"
          }
        }
      ]
    },
    {
      "cell_type": "markdown",
      "metadata": {
        "id": "XLF-l5iKM46Q"
      },
      "source": [
        "- 위에 잘 예측하지 못하는 부분들은 조금 튀는 값인 것 같음\r\n",
        "- 해당 일자에 어떤 특징(개최된 대회 등)을 파악\r\n",
        "- 이후 1) 제거 또는 2) 특징 적용  (추세파악과 관련없다면 제거하기)"
      ]
    },
    {
      "cell_type": "markdown",
      "metadata": {
        "id": "SmtQVQJANMUu"
      },
      "source": [
        "## 참조"
      ]
    },
    {
      "cell_type": "code",
      "metadata": {
        "id": "V4016MLpNRw7"
      },
      "source": [
        "# 각 변수의 크기가 다르기 때문에 가중치를 부여한 RMSE로 모델의 성능을 평가\r\n",
        "\r\n",
        "def dacon_rmse(true, pred):\r\n",
        "    # true.shape // (N,4)\r\n",
        "    # pred.shape // (N,4)\r\n",
        "    # w0, w1, w2, w3 <= train.csv의 사용자 수, 세션 수, 신규 방문자 수, 페이지 뷰 수 4가지 항목별 평균값\r\n",
        "    score = np.sqrt(np.mean(np.square(true[:,0] - pred[:,0]))) / w0 +\\\r\n",
        "            + np.sqrt(np.mean(np.square(true[:,1] - pred[:,1]))) / w1 +\\\r\n",
        "            + np.sqrt(np.mean(np.square(true[:,2] - pred[:,2]))) / w2 +\\\r\n",
        "            + np.sqrt(np.mean(np.square(true[:,3] - pred[:,3]))) / w3 +\\\r\n",
        "     return score"
      ],
      "execution_count": null,
      "outputs": []
    },
    {
      "cell_type": "code",
      "metadata": {
        "id": "gU4pGj8uJ4uD"
      },
      "source": [
        "# 스케일링\r\n",
        "from sklearn.preprocessing import MinMaxScaler\r\n",
        "\r\n",
        "sc = MinMaxScaler()\r\n",
        "\r\n",
        "train_sc = sc.fit_transform(train)\r\n",
        "test_sc = sc.transform(test)\r\n",
        "\r\n",
        "train_sc"
      ],
      "execution_count": null,
      "outputs": []
    },
    {
      "cell_type": "code",
      "metadata": {
        "id": "Hl9q9I2KJ4uD"
      },
      "source": [
        "# date 기준 변수 만들기\r\n",
        "\r\n",
        "from datetime import datetime\r\n",
        "\r\n",
        "def create_features(df):\r\n",
        "    \"\"\"\r\n",
        "    Creates time series features from datetime index\r\n",
        "    \"\"\"\r\n",
        "    # df['DateTime'] = df.index\r\n",
        "    # df['hour'] = df['date'].dt.hour\r\n",
        "    df['dayofweek'] = pd.to_datetime(df['date']).dt.dayofweek\r\n",
        "    df['quarter'] = pd.to_datetime(df['date']).dt.quarter\r\n",
        "    df['month'] = pd.to_datetime(df['date']).dt.month\r\n",
        "    df['year'] = pd.to_datetime(df['date']).dt.year\r\n",
        "    df['dayofyear'] = pd.to_datetime(df['date']).dt.dayofyear\r\n",
        "    df['dayofmonth'] = pd.to_datetime(df['date']).dt.day\r\n",
        "    df['weekofyear'] = pd.to_datetime(df['date']).dt.weekofyear\r\n",
        "    \r\n",
        "    X = df[['사용자','세션','신규방문자','페이지뷰','date','dayofweek','quarter','month','year',\r\n",
        "           'dayofyear','dayofmonth','weekofyear']]\r\n",
        "    X.set_index('date', inplace = True)\r\n",
        "    X.index = pd.to_datetime(X.index)\r\n",
        "    return X"
      ],
      "execution_count": null,
      "outputs": []
    },
    {
      "cell_type": "code",
      "metadata": {
        "id": "J5Kvtw5oJ4uE"
      },
      "source": [
        ""
      ],
      "execution_count": null,
      "outputs": []
    },
    {
      "cell_type": "code",
      "metadata": {
        "id": "JbEwC3YfJ4uG"
      },
      "source": [
        ""
      ],
      "execution_count": null,
      "outputs": []
    },
    {
      "cell_type": "markdown",
      "metadata": {
        "id": "Li0vASmhIIhr"
      },
      "source": [
        "## 예측값을 x로 다시 predict  \r\n",
        "- 마이너스 값이 나와서 실패.."
      ]
    },
    {
      "cell_type": "code",
      "metadata": {
        "id": "5mcOvvQQH4t2"
      },
      "source": [
        "tr_month1 = pd.DataFrame(pred_month)"
      ],
      "execution_count": 240,
      "outputs": []
    },
    {
      "cell_type": "code",
      "metadata": {
        "colab": {
          "base_uri": "https://localhost:8080/"
        },
        "id": "adnkLDwMBGVC",
        "outputId": "03b57207-9c74-45ac-e8cd-c99f68e12624"
      },
      "source": [
        "# 위 예측값을 x로 사용하기.\r\n",
        "mini1 = tr_month1.iloc[:,1:].min()\r\n",
        "size1 = tr_month1.iloc[:,1:].max() - tr_month1.iloc[:,1:].min()\r\n",
        "tr_month1.iloc[:,1:] = (tr_month1.iloc[:,1:] -  mini1) / size1\r\n",
        "\r\n",
        "tr_month1 = tr_month1.iloc[:,:].values[np.newaxis,...] # np.newaxis: 3D로 차원을 늘려줌. \r\n",
        "tr_month1.shape"
      ],
      "execution_count": 241,
      "outputs": [
        {
          "output_type": "execute_result",
          "data": {
            "text/plain": [
              "(1, 30, 4)"
            ]
          },
          "metadata": {
            "tags": []
          },
          "execution_count": 241
        }
      ]
    },
    {
      "cell_type": "code",
      "metadata": {
        "colab": {
          "base_uri": "https://localhost:8080/"
        },
        "id": "ExeU6niB_gVU",
        "outputId": "fc5202b3-1903-408d-a47d-399456182a90"
      },
      "source": [
        "pred_month1 = model.predict(tr_month1)\r\n",
        "pred_month1[:5]"
      ],
      "execution_count": 242,
      "outputs": [
        {
          "output_type": "execute_result",
          "data": {
            "text/plain": [
              "array([[[ 0.18093495,  0.15617856,  0.17545578,  0.07859027],\n",
              "        [ 0.09990777,  0.06255519,  0.09158635, -0.03202646],\n",
              "        [ 0.1238751 ,  0.08535202,  0.10137758, -0.0130481 ],\n",
              "        [ 0.1609668 ,  0.12201263,  0.13407502,  0.02669705],\n",
              "        [ 0.17643648,  0.13653305,  0.14765052,  0.04409892],\n",
              "        [ 0.17911391,  0.13828306,  0.1470722 ,  0.04774056],\n",
              "        [ 0.18096438,  0.13957691,  0.14543536,  0.05040792],\n",
              "        [ 0.18431361,  0.14262158,  0.14594844,  0.05457786],\n",
              "        [ 0.18804072,  0.14617258,  0.14746507,  0.05902395],\n",
              "        [ 0.19144723,  0.14947562,  0.14904726,  0.06302298],\n",
              "        [ 0.19444391,  0.15241605,  0.15047295,  0.06651456],\n",
              "        [ 0.19708903,  0.15503576,  0.15175058,  0.0695814 ],\n",
              "        [ 0.19941911,  0.15735956,  0.1528904 ,  0.07227365],\n",
              "        [ 0.20145619,  0.1594011 ,  0.15389048,  0.07462133],\n",
              "        [ 0.20322528,  0.16118066,  0.15475564,  0.07665686],\n",
              "        [ 0.20475666,  0.1627254 ,  0.15549937,  0.07841668],\n",
              "        [ 0.20607981,  0.16406311,  0.15613678,  0.07993583],\n",
              "        [ 0.20722167,  0.16521949,  0.1566826 ,  0.08124612],\n",
              "        [ 0.20820667,  0.16621836,  0.15714978,  0.08237571],\n",
              "        [ 0.2090564 ,  0.1670809 ,  0.1575499 ,  0.0833498 ],\n",
              "        [ 0.20978941,  0.16782564,  0.15789254,  0.0841899 ],\n",
              "        [ 0.21042213,  0.16846888,  0.15818639,  0.08491511],\n",
              "        [ 0.21096869,  0.16902478,  0.15843861,  0.08554155],\n",
              "        [ 0.21144134,  0.16950572,  0.15865529,  0.08608345],\n",
              "        [ 0.21185055,  0.16992216,  0.1588416 ,  0.08655299],\n",
              "        [ 0.21220507,  0.17028306,  0.15900199,  0.08695994],\n",
              "        [ 0.21251297,  0.17059648,  0.15914051,  0.08731372],\n",
              "        [ 0.21278061,  0.17086884,  0.15926   ,  0.08762143],\n",
              "        [ 0.21301368,  0.1711061 ,  0.1593634 ,  0.0878898 ],\n",
              "        [ 0.21321674,  0.17131281,  0.15945278,  0.0881241 ]]],\n",
              "      dtype=float32)"
            ]
          },
          "metadata": {
            "tags": []
          },
          "execution_count": 242
        }
      ]
    },
    {
      "cell_type": "code",
      "metadata": {
        "colab": {
          "base_uri": "https://localhost:8080/"
        },
        "id": "bD7YTlqWHHKq",
        "outputId": "99a9f132-0468-4362-a1dd-58469354c0e9"
      },
      "source": [
        "pred_month1 = pred_month1.reshape(output_window,4)\r\n",
        "pred_month1 = pred_month1 * size.values + mini.values\r\n",
        "pred_month1 = pred_month1.astype(int)\r\n",
        "pred_month1\r\n"
      ],
      "execution_count": 243,
      "outputs": [
        {
          "output_type": "execute_result",
          "data": {
            "text/plain": [
              "array([[  981,   844,   297, 12217],\n",
              "       [  542,   338,   155, -4975],\n",
              "       [  672,   461,   172, -2026],\n",
              "       [  872,   659,   227,  4151],\n",
              "       [  956,   738,   250,  6856],\n",
              "       [  971,   747,   249,  7422],\n",
              "       [  981,   754,   246,  7837],\n",
              "       [  999,   771,   247,  8485],\n",
              "       [ 1019,   790,   250,  9176],\n",
              "       [ 1038,   808,   252,  9797],\n",
              "       [ 1054,   823,   255, 10340],\n",
              "       [ 1068,   838,   257, 10817],\n",
              "       [ 1081,   850,   259, 11235],\n",
              "       [ 1092,   861,   261, 11600],\n",
              "       [ 1101,   871,   262, 11917],\n",
              "       [ 1110,   879,   263, 12190],\n",
              "       [ 1117,   886,   264, 12426],\n",
              "       [ 1123,   893,   265, 12630],\n",
              "       [ 1128,   898,   266, 12805],\n",
              "       [ 1133,   903,   267, 12957],\n",
              "       [ 1137,   907,   267, 13087],\n",
              "       [ 1140,   910,   268, 13200],\n",
              "       [ 1143,   913,   268, 13297],\n",
              "       [ 1146,   916,   269, 13382],\n",
              "       [ 1148,   918,   269, 13455],\n",
              "       [ 1150,   920,   269, 13518],\n",
              "       [ 1152,   922,   269, 13573],\n",
              "       [ 1153,   923,   270, 13621],\n",
              "       [ 1154,   924,   270, 13662],\n",
              "       [ 1155,   925,   270, 13699]])"
            ]
          },
          "metadata": {
            "tags": []
          },
          "execution_count": 243
        }
      ]
    },
    {
      "cell_type": "markdown",
      "metadata": {
        "id": "bCmWKSqRGBGV"
      },
      "source": [
        "#### 윈도우 크기 다르게 해서 train하고 test해보기"
      ]
    },
    {
      "cell_type": "markdown",
      "metadata": {
        "id": "uyOo9JpX8t7D"
      },
      "source": [
        "aa"
      ]
    },
    {
      "cell_type": "markdown",
      "metadata": {
        "id": "HbonwFz84uV5"
      },
      "source": [
        "## test = train[-61]"
      ]
    },
    {
      "cell_type": "code",
      "metadata": {
        "id": "KE4rgNXRQWAO",
        "colab": {
          "base_uri": "https://localhost:8080/",
          "height": 0
        },
        "outputId": "8f74113a-7999-4c4a-d114-37922bc6a09a"
      },
      "source": [
        "test = train[-61:]\r\n",
        "test"
      ],
      "execution_count": 201,
      "outputs": [
        {
          "output_type": "execute_result",
          "data": {
            "text/html": [
              "<div>\n",
              "<style scoped>\n",
              "    .dataframe tbody tr th:only-of-type {\n",
              "        vertical-align: middle;\n",
              "    }\n",
              "\n",
              "    .dataframe tbody tr th {\n",
              "        vertical-align: top;\n",
              "    }\n",
              "\n",
              "    .dataframe thead th {\n",
              "        text-align: right;\n",
              "    }\n",
              "</style>\n",
              "<table border=\"1\" class=\"dataframe\">\n",
              "  <thead>\n",
              "    <tr style=\"text-align: right;\">\n",
              "      <th></th>\n",
              "      <th>date</th>\n",
              "      <th>사용자</th>\n",
              "      <th>세션</th>\n",
              "      <th>신규방문자</th>\n",
              "      <th>페이지뷰</th>\n",
              "    </tr>\n",
              "  </thead>\n",
              "  <tbody>\n",
              "    <tr>\n",
              "      <th>731</th>\n",
              "      <td>2020-09-09</td>\n",
              "      <td>0.497877</td>\n",
              "      <td>0.490461</td>\n",
              "      <td>0.355030</td>\n",
              "      <td>0.377532</td>\n",
              "    </tr>\n",
              "    <tr>\n",
              "      <th>732</th>\n",
              "      <td>2020-09-10</td>\n",
              "      <td>0.452464</td>\n",
              "      <td>0.450824</td>\n",
              "      <td>0.324260</td>\n",
              "      <td>0.339207</td>\n",
              "    </tr>\n",
              "    <tr>\n",
              "      <th>733</th>\n",
              "      <td>2020-09-11</td>\n",
              "      <td>0.405206</td>\n",
              "      <td>0.397111</td>\n",
              "      <td>0.278107</td>\n",
              "      <td>0.321836</td>\n",
              "    </tr>\n",
              "    <tr>\n",
              "      <th>734</th>\n",
              "      <td>2020-09-12</td>\n",
              "      <td>0.298320</td>\n",
              "      <td>0.295425</td>\n",
              "      <td>0.194083</td>\n",
              "      <td>0.242021</td>\n",
              "    </tr>\n",
              "    <tr>\n",
              "      <th>735</th>\n",
              "      <td>2020-09-13</td>\n",
              "      <td>0.342810</td>\n",
              "      <td>0.333951</td>\n",
              "      <td>0.198817</td>\n",
              "      <td>0.288169</td>\n",
              "    </tr>\n",
              "    <tr>\n",
              "      <th>...</th>\n",
              "      <td>...</td>\n",
              "      <td>...</td>\n",
              "      <td>...</td>\n",
              "      <td>...</td>\n",
              "      <td>...</td>\n",
              "    </tr>\n",
              "    <tr>\n",
              "      <th>787</th>\n",
              "      <td>2020-11-04</td>\n",
              "      <td>0.833487</td>\n",
              "      <td>0.828116</td>\n",
              "      <td>0.707101</td>\n",
              "      <td>0.724949</td>\n",
              "    </tr>\n",
              "    <tr>\n",
              "      <th>788</th>\n",
              "      <td>2020-11-05</td>\n",
              "      <td>0.766845</td>\n",
              "      <td>0.747546</td>\n",
              "      <td>0.617160</td>\n",
              "      <td>0.662015</td>\n",
              "    </tr>\n",
              "    <tr>\n",
              "      <th>789</th>\n",
              "      <td>2020-11-06</td>\n",
              "      <td>0.676020</td>\n",
              "      <td>0.662160</td>\n",
              "      <td>0.487574</td>\n",
              "      <td>0.566244</td>\n",
              "    </tr>\n",
              "    <tr>\n",
              "      <th>790</th>\n",
              "      <td>2020-11-07</td>\n",
              "      <td>0.456157</td>\n",
              "      <td>0.447490</td>\n",
              "      <td>0.313609</td>\n",
              "      <td>0.369188</td>\n",
              "    </tr>\n",
              "    <tr>\n",
              "      <th>791</th>\n",
              "      <td>2020-11-08</td>\n",
              "      <td>0.459849</td>\n",
              "      <td>0.448046</td>\n",
              "      <td>0.308284</td>\n",
              "      <td>0.324796</td>\n",
              "    </tr>\n",
              "  </tbody>\n",
              "</table>\n",
              "<p>61 rows × 5 columns</p>\n",
              "</div>"
            ],
            "text/plain": [
              "           date       사용자        세션     신규방문자      페이지뷰\n",
              "731  2020-09-09  0.497877  0.490461  0.355030  0.377532\n",
              "732  2020-09-10  0.452464  0.450824  0.324260  0.339207\n",
              "733  2020-09-11  0.405206  0.397111  0.278107  0.321836\n",
              "734  2020-09-12  0.298320  0.295425  0.194083  0.242021\n",
              "735  2020-09-13  0.342810  0.333951  0.198817  0.288169\n",
              "..          ...       ...       ...       ...       ...\n",
              "787  2020-11-04  0.833487  0.828116  0.707101  0.724949\n",
              "788  2020-11-05  0.766845  0.747546  0.617160  0.662015\n",
              "789  2020-11-06  0.676020  0.662160  0.487574  0.566244\n",
              "790  2020-11-07  0.456157  0.447490  0.313609  0.369188\n",
              "791  2020-11-08  0.459849  0.448046  0.308284  0.324796\n",
              "\n",
              "[61 rows x 5 columns]"
            ]
          },
          "metadata": {
            "tags": []
          },
          "execution_count": 201
        }
      ]
    },
    {
      "cell_type": "code",
      "metadata": {
        "id": "nkRbon7yRGz_",
        "colab": {
          "base_uri": "https://localhost:8080/"
        },
        "outputId": "4a779da1-ac40-4262-f9c0-5dc2793c0da2"
      },
      "source": [
        "# scaling\r\n",
        "\r\n",
        "input_window = 30\r\n",
        "output_window = 30\r\n",
        "\r\n",
        "test_x = np.zeros((test.shape[0] - (input_window + output_window), input_window, 4))\r\n",
        "test_y = np.zeros((test.shape[0] - (input_window + output_window), output_window, 4))\r\n",
        "\r\n",
        "for start in range(test.shape[0] - (input_window + output_window)):\r\n",
        "    end = start + input_window    \r\n",
        "    test_x[start,:, :] = test.iloc[start : end                , 1: ].values\r\n",
        "    test_y[start,:, :] = test.iloc[end   : end + output_window, 1: ].values\r\n",
        "\r\n",
        "\r\n",
        "print('test_x.shape: ', test_x.shape)\r\n",
        "print('test_y.shape: ', test_y.shape)"
      ],
      "execution_count": 202,
      "outputs": [
        {
          "output_type": "stream",
          "text": [
            "test_x.shape:  (1, 30, 4)\n",
            "test_y.shape:  (1, 30, 4)\n"
          ],
          "name": "stdout"
        }
      ]
    },
    {
      "cell_type": "code",
      "metadata": {
        "id": "lhmMXuK0AYVn",
        "colab": {
          "base_uri": "https://localhost:8080/"
        },
        "outputId": "915f1f99-c47d-4150-f9bf-8bda2fd968a5"
      },
      "source": [
        "pred = model.predict(test_x)\r\n",
        "pred[:5]"
      ],
      "execution_count": 205,
      "outputs": [
        {
          "output_type": "execute_result",
          "data": {
            "text/plain": [
              "array([[[0.40022817, 0.39372706, 0.27692318, 0.33888835],\n",
              "        [0.38961065, 0.3810348 , 0.25960314, 0.3113099 ],\n",
              "        [0.4294502 , 0.41507578, 0.28880233, 0.3883028 ],\n",
              "        [0.57350516, 0.56259114, 0.4501635 , 0.5218927 ],\n",
              "        [0.4765348 , 0.467364  , 0.3573951 , 0.40904856],\n",
              "        [0.4156783 , 0.4077924 , 0.30611813, 0.35120863],\n",
              "        [0.39636064, 0.39218706, 0.30435696, 0.30528963],\n",
              "        [0.36307785, 0.3584634 , 0.27156314, 0.28400347],\n",
              "        [0.27903116, 0.27569184, 0.22178051, 0.19545761],\n",
              "        [0.37462008, 0.3721298 , 0.3127888 , 0.26252687],\n",
              "        [0.47159705, 0.46326333, 0.39487627, 0.3773024 ],\n",
              "        [0.5758832 , 0.5726595 , 0.5498195 , 0.51826733],\n",
              "        [0.4800876 , 0.47606337, 0.40594587, 0.41935587],\n",
              "        [0.5029881 , 0.49729228, 0.44717255, 0.40659106],\n",
              "        [0.41189307, 0.40996557, 0.32963312, 0.3260718 ],\n",
              "        [0.32444862, 0.31973892, 0.24362595, 0.24606156],\n",
              "        [0.31358963, 0.30821908, 0.22619447, 0.24227071],\n",
              "        [0.5731859 , 0.56185716, 0.45973936, 0.5016769 ],\n",
              "        [0.5977129 , 0.5902312 , 0.50035036, 0.51571363],\n",
              "        [0.6287253 , 0.6153519 , 0.47962388, 0.56161374],\n",
              "        [0.72617733, 0.7119673 , 0.54668725, 0.66380554],\n",
              "        [0.6269578 , 0.6128519 , 0.45852357, 0.57276046],\n",
              "        [0.38461196, 0.38926733, 0.2929963 , 0.35597497],\n",
              "        [0.41811678, 0.41667396, 0.2834545 , 0.32897407],\n",
              "        [0.92786264, 0.92589235, 0.7197988 , 0.7954483 ],\n",
              "        [0.99637115, 0.9809154 , 0.84584224, 0.95834094],\n",
              "        [0.801074  , 0.802544  , 0.6581842 , 0.7114733 ],\n",
              "        [0.7750157 , 0.761341  , 0.61916006, 0.66807246],\n",
              "        [0.65806127, 0.62934315, 0.4624195 , 0.5738214 ],\n",
              "        [0.4736397 , 0.45610887, 0.3364939 , 0.37770942]]], dtype=float32)"
            ]
          },
          "metadata": {
            "tags": []
          },
          "execution_count": 205
        }
      ]
    },
    {
      "cell_type": "code",
      "metadata": {
        "id": "GbKK46ZASpkS",
        "colab": {
          "base_uri": "https://localhost:8080/"
        },
        "outputId": "1401b34d-ebb8-4047-a8f6-46026d8d194a"
      },
      "source": [
        "pred = pred.reshape(output_window,4)\r\n",
        "pred = pred * size.values + mini.values\r\n",
        "pred = pred.astype(int)\r\n",
        "pred"
      ],
      "execution_count": 206,
      "outputs": [
        {
          "output_type": "execute_result",
          "data": {
            "text/plain": [
              "array([[  2169,   2126,    469,  52676],\n",
              "       [  2111,   2058,    439,  48389],\n",
              "       [  2327,   2241,    489,  60357],\n",
              "       [  3107,   3038,    761,  81121],\n",
              "       [  2582,   2524,    604,  63581],\n",
              "       [  2252,   2202,    518,  54591],\n",
              "       [  2148,   2118,    515,  47454],\n",
              "       [  1967,   1936,    459,  44145],\n",
              "       [  1512,   1489,    375,  30382],\n",
              "       [  2030,   2010,    529,  40807],\n",
              "       [  2555,   2502,    668,  58647],\n",
              "       [  3120,   3092,    930,  80557],\n",
              "       [  2601,   2571,    687,  65183],\n",
              "       [  2725,   2685,    756,  63199],\n",
              "       [  2232,   2214,    558,  50684],\n",
              "       [  1758,   1727,    412,  38248],\n",
              "       [  1699,   1665,    383,  37658],\n",
              "       [  3105,   3034,    777,  77979],\n",
              "       [  3238,   3187,    846,  80160],\n",
              "       [  3406,   3323,    811,  87295],\n",
              "       [  3934,   3844,    924, 103179],\n",
              "       [  3397,   3309,    775,  89027],\n",
              "       [  2084,   2102,    496,  55332],\n",
              "       [  2265,   2250,    480,  51135],\n",
              "       [  5027,   4999,   1217, 123640],\n",
              "       [  5398,   5296,   1430, 148959],\n",
              "       [  4340,   4333,   1113, 110588],\n",
              "       [  4199,   4111,   1047, 103842],\n",
              "       [  3565,   3398,    782,  89192],\n",
              "       [  2566,   2463,    569,  58710]])"
            ]
          },
          "metadata": {
            "tags": []
          },
          "execution_count": 206
        }
      ]
    },
    {
      "cell_type": "code",
      "metadata": {
        "colab": {
          "base_uri": "https://localhost:8080/"
        },
        "id": "Q4E0hcLCFDwi",
        "outputId": "10bce91c-9e42-4563-b27f-9673d2b3afd4"
      },
      "source": [
        "pred.shape"
      ],
      "execution_count": 207,
      "outputs": [
        {
          "output_type": "execute_result",
          "data": {
            "text/plain": [
              "(30, 4)"
            ]
          },
          "metadata": {
            "tags": []
          },
          "execution_count": 207
        }
      ]
    },
    {
      "cell_type": "code",
      "metadata": {
        "colab": {
          "base_uri": "https://localhost:8080/",
          "height": 200
        },
        "id": "VzeIVzfY6B1o",
        "outputId": "9b8e9508-3d2c-402f-ed93-975a8b89fce4"
      },
      "source": [
        "baseline = pd.read_csv(path + '/open_data/baseline.csv', encoding = 'euc-kr' )\r\n",
        "baseline.head()"
      ],
      "execution_count": null,
      "outputs": [
        {
          "output_type": "execute_result",
          "data": {
            "text/html": [
              "<div>\n",
              "<style scoped>\n",
              "    .dataframe tbody tr th:only-of-type {\n",
              "        vertical-align: middle;\n",
              "    }\n",
              "\n",
              "    .dataframe tbody tr th {\n",
              "        vertical-align: top;\n",
              "    }\n",
              "\n",
              "    .dataframe thead th {\n",
              "        text-align: right;\n",
              "    }\n",
              "</style>\n",
              "<table border=\"1\" class=\"dataframe\">\n",
              "  <thead>\n",
              "    <tr style=\"text-align: right;\">\n",
              "      <th></th>\n",
              "      <th>DateTime</th>\n",
              "      <th>사용자</th>\n",
              "      <th>세션</th>\n",
              "      <th>신규방문자</th>\n",
              "      <th>페이지뷰</th>\n",
              "    </tr>\n",
              "  </thead>\n",
              "  <tbody>\n",
              "    <tr>\n",
              "      <th>0</th>\n",
              "      <td>2020-11-09</td>\n",
              "      <td>3252</td>\n",
              "      <td>3263</td>\n",
              "      <td>777</td>\n",
              "      <td>88002</td>\n",
              "    </tr>\n",
              "    <tr>\n",
              "      <th>1</th>\n",
              "      <td>2020-11-10</td>\n",
              "      <td>2825</td>\n",
              "      <td>2758</td>\n",
              "      <td>671</td>\n",
              "      <td>73749</td>\n",
              "    </tr>\n",
              "    <tr>\n",
              "      <th>2</th>\n",
              "      <td>2020-11-11</td>\n",
              "      <td>2614</td>\n",
              "      <td>2588</td>\n",
              "      <td>599</td>\n",
              "      <td>67300</td>\n",
              "    </tr>\n",
              "    <tr>\n",
              "      <th>3</th>\n",
              "      <td>2020-11-12</td>\n",
              "      <td>2391</td>\n",
              "      <td>2373</td>\n",
              "      <td>557</td>\n",
              "      <td>63723</td>\n",
              "    </tr>\n",
              "    <tr>\n",
              "      <th>4</th>\n",
              "      <td>2020-11-13</td>\n",
              "      <td>2063</td>\n",
              "      <td>2047</td>\n",
              "      <td>467</td>\n",
              "      <td>54340</td>\n",
              "    </tr>\n",
              "  </tbody>\n",
              "</table>\n",
              "</div>"
            ],
            "text/plain": [
              "     DateTime   사용자    세션  신규방문자   페이지뷰\n",
              "0  2020-11-09  3252  3263    777  88002\n",
              "1  2020-11-10  2825  2758    671  73749\n",
              "2  2020-11-11  2614  2588    599  67300\n",
              "3  2020-11-12  2391  2373    557  63723\n",
              "4  2020-11-13  2063  2047    467  54340"
            ]
          },
          "metadata": {
            "tags": []
          },
          "execution_count": 81
        }
      ]
    },
    {
      "cell_type": "code",
      "metadata": {
        "id": "ofVAKwIvT8pC"
      },
      "source": [
        "last_month = train.iloc[-30:,1:].values[np.newaxis,...].astype(float) #float() # <- 수정 후\r\n",
        "last_month"
      ],
      "execution_count": null,
      "outputs": []
    },
    {
      "cell_type": "code",
      "metadata": {
        "id": "k7ITx1KxSdyg"
      },
      "source": [
        "\r\n",
        "#last_month = torch.tensor(window_x[-1,:,:][np.newaxis,...]).float().to(device) <- 수정 전\r\n",
        "last_month = train.iloc[-30:,1:].values[np.newaxis,...] # <- 수정 후\r\n",
        "# last_month = torch.tensor(last_month).float() # <- 수정 후\r\n",
        "\r\n",
        "for start in range((len(submission) - output_window)//7 + 2):\r\n",
        "    start = start * 7\r\n",
        "    next_week = model.predict(last_month)\r\n",
        "    #last_month = torch.cat([last_month[-7:], next_week], axis = 1) <- 수정 전\r\n",
        "    last_month = torch.cat([last_month[:,7:,:], next_week], axis = 1)# <- 수정 후\r\n",
        "\r\n",
        "    pred_week = next_week.reshape(output_window,4)\r\n",
        "    pred_week = pred_week * size.values + mini.values\r\n",
        "    pred_week = pred_week.astype(int)\r\n",
        "    \r\n",
        "    if start/7 == (len(submission) - output_window)//7 + 1:\r\n",
        "        submission.iloc[start :, 1:] = pred_week[-submission.iloc[start :, 1:].shape[0]:,:]\r\n",
        "    else:\r\n",
        "        submission.iloc[start : start + output_window, 1:] = pred_week\r\n",
        "submission"
      ],
      "execution_count": null,
      "outputs": []
    },
    {
      "cell_type": "code",
      "metadata": {
        "id": "REbMo_D3UfPJ"
      },
      "source": [
        ""
      ],
      "execution_count": null,
      "outputs": []
    }
  ]
}