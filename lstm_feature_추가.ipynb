{
  "nbformat": 4,
  "nbformat_minor": 0,
  "metadata": {
    "colab": {
      "name": "lstm_feature 추가.ipynb",
      "provenance": [],
      "collapsed_sections": [
        "3JD9OY69UYVw",
        "HbonwFz84uV5"
      ]
    },
    "kernelspec": {
      "name": "python3",
      "display_name": "Python 3"
    }
  },
  "cells": [
    {
      "cell_type": "code",
      "metadata": {
        "id": "WHrGQAT_3z6X"
      },
      "source": [
        "import numpy as np\r\n",
        "import pandas as pd\r\n",
        "\r\n",
        "from datetime import datetime\r\n",
        "from sklearn.model_selection import train_test_split\r\n",
        "\r\n",
        "from matplotlib import pyplot\r\n",
        "import matplotlib.pyplot as plt"
      ],
      "execution_count": 81,
      "outputs": []
    },
    {
      "cell_type": "code",
      "metadata": {
        "id": "fH1TWRdi4eLu",
        "colab": {
          "base_uri": "https://localhost:8080/",
          "height": 197
        },
        "outputId": "8d463fa4-33a1-457b-aacd-4bd3be3a4557"
      },
      "source": [
        "path = '/content/drive/MyDrive/Colab Notebooks/DACON CUP'\r\n",
        "\r\n",
        "train_df = pd.read_csv(path + '/open_data/train.csv', encoding = 'euc-kr')\r\n",
        "train_df.head()"
      ],
      "execution_count": null,
      "outputs": [
        {
          "output_type": "execute_result",
          "data": {
            "text/html": [
              "<div>\n",
              "<style scoped>\n",
              "    .dataframe tbody tr th:only-of-type {\n",
              "        vertical-align: middle;\n",
              "    }\n",
              "\n",
              "    .dataframe tbody tr th {\n",
              "        vertical-align: top;\n",
              "    }\n",
              "\n",
              "    .dataframe thead th {\n",
              "        text-align: right;\n",
              "    }\n",
              "</style>\n",
              "<table border=\"1\" class=\"dataframe\">\n",
              "  <thead>\n",
              "    <tr style=\"text-align: right;\">\n",
              "      <th></th>\n",
              "      <th>DateTime</th>\n",
              "      <th>사용자</th>\n",
              "      <th>세션</th>\n",
              "      <th>신규방문자</th>\n",
              "      <th>페이지뷰</th>\n",
              "    </tr>\n",
              "  </thead>\n",
              "  <tbody>\n",
              "    <tr>\n",
              "      <th>0</th>\n",
              "      <td>2018-09-09 00:00:00</td>\n",
              "      <td>19</td>\n",
              "      <td>19</td>\n",
              "      <td>8</td>\n",
              "      <td>206</td>\n",
              "    </tr>\n",
              "    <tr>\n",
              "      <th>1</th>\n",
              "      <td>2018-09-09 01:00:00</td>\n",
              "      <td>20</td>\n",
              "      <td>19</td>\n",
              "      <td>9</td>\n",
              "      <td>259</td>\n",
              "    </tr>\n",
              "    <tr>\n",
              "      <th>2</th>\n",
              "      <td>2018-09-09 02:00:00</td>\n",
              "      <td>12</td>\n",
              "      <td>9</td>\n",
              "      <td>1</td>\n",
              "      <td>48</td>\n",
              "    </tr>\n",
              "    <tr>\n",
              "      <th>3</th>\n",
              "      <td>2018-09-09 03:00:00</td>\n",
              "      <td>10</td>\n",
              "      <td>10</td>\n",
              "      <td>2</td>\n",
              "      <td>102</td>\n",
              "    </tr>\n",
              "    <tr>\n",
              "      <th>4</th>\n",
              "      <td>2018-09-09 04:00:00</td>\n",
              "      <td>6</td>\n",
              "      <td>5</td>\n",
              "      <td>3</td>\n",
              "      <td>18</td>\n",
              "    </tr>\n",
              "  </tbody>\n",
              "</table>\n",
              "</div>"
            ],
            "text/plain": [
              "              DateTime  사용자  세션  신규방문자  페이지뷰\n",
              "0  2018-09-09 00:00:00   19  19      8   206\n",
              "1  2018-09-09 01:00:00   20  19      9   259\n",
              "2  2018-09-09 02:00:00   12   9      1    48\n",
              "3  2018-09-09 03:00:00   10  10      2   102\n",
              "4  2018-09-09 04:00:00    6   5      3    18"
            ]
          },
          "metadata": {
            "tags": []
          },
          "execution_count": 2
        }
      ]
    },
    {
      "cell_type": "code",
      "metadata": {
        "id": "YsCktWIeAIWq"
      },
      "source": [
        "# train_df.info()"
      ],
      "execution_count": null,
      "outputs": []
    },
    {
      "cell_type": "markdown",
      "metadata": {
        "id": "YSdN1Aj-nyHB"
      },
      "source": [
        "- EDA - 시간별\r\n",
        "  - train_h = train_df.copy()"
      ]
    },
    {
      "cell_type": "code",
      "metadata": {
        "id": "V9GUb_-_qlEG"
      },
      "source": [
        "train_h = train_df.copy()"
      ],
      "execution_count": null,
      "outputs": []
    },
    {
      "cell_type": "code",
      "metadata": {
        "colab": {
          "base_uri": "https://localhost:8080/"
        },
        "id": "eoa6UELYnvEU",
        "outputId": "2e0226d0-814e-4650-d1f0-a98659fe444f"
      },
      "source": [
        "# 시간별 사용자와 세션의 관계\r\n",
        "\r\n",
        "print((train_h['사용자']-train_h['세션']).mean())  # --> 사용자와 세션은 거의 동일함. 오차가 없음.\r\n",
        "\r\n",
        "train_h['UV_S_diff'] = abs(train_h['사용자']-train_h['세션'])\r\n",
        "train_h['UV_S_diff'].unique()"
      ],
      "execution_count": null,
      "outputs": [
        {
          "output_type": "stream",
          "text": [
            "0.35358796296296297\n"
          ],
          "name": "stdout"
        },
        {
          "output_type": "execute_result",
          "data": {
            "text/plain": [
              "array([  0,   1,   3,   4,   2,   5,   6,   7,  13,   8,  10,   9,  12,\n",
              "        16,  11,  28,  14,  21,  23,  31,  17,  34,  20,  15,  22,  30,\n",
              "        19,  26,  25,  18,  24,  27,  33,  29,  37,  32,  39,  40,  55,\n",
              "        77, 147,  38,  36])"
            ]
          },
          "metadata": {
            "tags": []
          },
          "execution_count": 5
        }
      ]
    },
    {
      "cell_type": "code",
      "metadata": {
        "colab": {
          "base_uri": "https://localhost:8080/",
          "height": 197
        },
        "id": "GC04hhtto57I",
        "outputId": "32015f0c-5db9-4350-d47d-42f810dfb80a"
      },
      "source": [
        "# 사용자와 페이지뷰의 관계\r\n",
        "\r\n",
        "# 페이지뷰: 홈페이지에 들어온 접속자가 둘러 본 페이지수. \r\n",
        "# PV/UV : 한 사용자가 둘러본 페이지 수.\r\n",
        "\r\n",
        "train_h['PV/UV'] = train_h['페이지뷰']/train_h['사용자']\r\n",
        "train_h.head()\r\n"
      ],
      "execution_count": null,
      "outputs": [
        {
          "output_type": "execute_result",
          "data": {
            "text/html": [
              "<div>\n",
              "<style scoped>\n",
              "    .dataframe tbody tr th:only-of-type {\n",
              "        vertical-align: middle;\n",
              "    }\n",
              "\n",
              "    .dataframe tbody tr th {\n",
              "        vertical-align: top;\n",
              "    }\n",
              "\n",
              "    .dataframe thead th {\n",
              "        text-align: right;\n",
              "    }\n",
              "</style>\n",
              "<table border=\"1\" class=\"dataframe\">\n",
              "  <thead>\n",
              "    <tr style=\"text-align: right;\">\n",
              "      <th></th>\n",
              "      <th>DateTime</th>\n",
              "      <th>사용자</th>\n",
              "      <th>세션</th>\n",
              "      <th>신규방문자</th>\n",
              "      <th>페이지뷰</th>\n",
              "      <th>UV_S_diff</th>\n",
              "      <th>PV/UV</th>\n",
              "    </tr>\n",
              "  </thead>\n",
              "  <tbody>\n",
              "    <tr>\n",
              "      <th>0</th>\n",
              "      <td>2018-09-09 00:00:00</td>\n",
              "      <td>19</td>\n",
              "      <td>19</td>\n",
              "      <td>8</td>\n",
              "      <td>206</td>\n",
              "      <td>0</td>\n",
              "      <td>10.842105</td>\n",
              "    </tr>\n",
              "    <tr>\n",
              "      <th>1</th>\n",
              "      <td>2018-09-09 01:00:00</td>\n",
              "      <td>20</td>\n",
              "      <td>19</td>\n",
              "      <td>9</td>\n",
              "      <td>259</td>\n",
              "      <td>1</td>\n",
              "      <td>12.950000</td>\n",
              "    </tr>\n",
              "    <tr>\n",
              "      <th>2</th>\n",
              "      <td>2018-09-09 02:00:00</td>\n",
              "      <td>12</td>\n",
              "      <td>9</td>\n",
              "      <td>1</td>\n",
              "      <td>48</td>\n",
              "      <td>3</td>\n",
              "      <td>4.000000</td>\n",
              "    </tr>\n",
              "    <tr>\n",
              "      <th>3</th>\n",
              "      <td>2018-09-09 03:00:00</td>\n",
              "      <td>10</td>\n",
              "      <td>10</td>\n",
              "      <td>2</td>\n",
              "      <td>102</td>\n",
              "      <td>0</td>\n",
              "      <td>10.200000</td>\n",
              "    </tr>\n",
              "    <tr>\n",
              "      <th>4</th>\n",
              "      <td>2018-09-09 04:00:00</td>\n",
              "      <td>6</td>\n",
              "      <td>5</td>\n",
              "      <td>3</td>\n",
              "      <td>18</td>\n",
              "      <td>1</td>\n",
              "      <td>3.000000</td>\n",
              "    </tr>\n",
              "  </tbody>\n",
              "</table>\n",
              "</div>"
            ],
            "text/plain": [
              "              DateTime  사용자  세션  신규방문자  페이지뷰  UV_S_diff      PV/UV\n",
              "0  2018-09-09 00:00:00   19  19      8   206          0  10.842105\n",
              "1  2018-09-09 01:00:00   20  19      9   259          1  12.950000\n",
              "2  2018-09-09 02:00:00   12   9      1    48          3   4.000000\n",
              "3  2018-09-09 03:00:00   10  10      2   102          0  10.200000\n",
              "4  2018-09-09 04:00:00    6   5      3    18          1   3.000000"
            ]
          },
          "metadata": {
            "tags": []
          },
          "execution_count": 6
        }
      ]
    },
    {
      "cell_type": "markdown",
      "metadata": {
        "id": "1E4m47NEcK2d"
      },
      "source": [
        "- EDA - date 기준"
      ]
    },
    {
      "cell_type": "code",
      "metadata": {
        "id": "eOujb_mO_676",
        "colab": {
          "base_uri": "https://localhost:8080/",
          "height": 200
        },
        "outputId": "ce2fe5f2-a922-4124-8268-cf0ed8508a1b"
      },
      "source": [
        "# date 기준으로.\r\n",
        "\r\n",
        "train_df['DateTime'] = pd.to_datetime(train_df.DateTime) #dtype: datetime으로 변경\r\n",
        "train_df['date'] = train_df.DateTime.dt.date\r\n",
        "train_df  = train_df.groupby('date').sum().reset_index()\r\n",
        "train_df.head()"
      ],
      "execution_count": null,
      "outputs": [
        {
          "output_type": "execute_result",
          "data": {
            "text/html": [
              "<div>\n",
              "<style scoped>\n",
              "    .dataframe tbody tr th:only-of-type {\n",
              "        vertical-align: middle;\n",
              "    }\n",
              "\n",
              "    .dataframe tbody tr th {\n",
              "        vertical-align: top;\n",
              "    }\n",
              "\n",
              "    .dataframe thead th {\n",
              "        text-align: right;\n",
              "    }\n",
              "</style>\n",
              "<table border=\"1\" class=\"dataframe\">\n",
              "  <thead>\n",
              "    <tr style=\"text-align: right;\">\n",
              "      <th></th>\n",
              "      <th>date</th>\n",
              "      <th>사용자</th>\n",
              "      <th>세션</th>\n",
              "      <th>신규방문자</th>\n",
              "      <th>페이지뷰</th>\n",
              "    </tr>\n",
              "  </thead>\n",
              "  <tbody>\n",
              "    <tr>\n",
              "      <th>0</th>\n",
              "      <td>2018-09-09</td>\n",
              "      <td>281</td>\n",
              "      <td>266</td>\n",
              "      <td>73</td>\n",
              "      <td>1826</td>\n",
              "    </tr>\n",
              "    <tr>\n",
              "      <th>1</th>\n",
              "      <td>2018-09-10</td>\n",
              "      <td>264</td>\n",
              "      <td>247</td>\n",
              "      <td>51</td>\n",
              "      <td>2092</td>\n",
              "    </tr>\n",
              "    <tr>\n",
              "      <th>2</th>\n",
              "      <td>2018-09-11</td>\n",
              "      <td>329</td>\n",
              "      <td>310</td>\n",
              "      <td>58</td>\n",
              "      <td>1998</td>\n",
              "    </tr>\n",
              "    <tr>\n",
              "      <th>3</th>\n",
              "      <td>2018-09-12</td>\n",
              "      <td>300</td>\n",
              "      <td>287</td>\n",
              "      <td>45</td>\n",
              "      <td>2595</td>\n",
              "    </tr>\n",
              "    <tr>\n",
              "      <th>4</th>\n",
              "      <td>2018-09-13</td>\n",
              "      <td>378</td>\n",
              "      <td>344</td>\n",
              "      <td>50</td>\n",
              "      <td>3845</td>\n",
              "    </tr>\n",
              "  </tbody>\n",
              "</table>\n",
              "</div>"
            ],
            "text/plain": [
              "         date  사용자   세션  신규방문자  페이지뷰\n",
              "0  2018-09-09  281  266     73  1826\n",
              "1  2018-09-10  264  247     51  2092\n",
              "2  2018-09-11  329  310     58  1998\n",
              "3  2018-09-12  300  287     45  2595\n",
              "4  2018-09-13  378  344     50  3845"
            ]
          },
          "metadata": {
            "tags": []
          },
          "execution_count": 342
        }
      ]
    },
    {
      "cell_type": "code",
      "metadata": {
        "colab": {
          "base_uri": "https://localhost:8080/",
          "height": 35
        },
        "id": "Q1BjPsEjbhTU",
        "outputId": "df06b0d6-f2d5-4f60-b7e1-2c12c6683a94"
      },
      "source": [
        "# 사용자와 세션의 관계\r\n",
        "'''\r\n",
        "print((train_df['사용자']-train_df['세션']).mean())  \r\n",
        "\r\n",
        "train_df['UV_S_diff'] = abs(train_df['사용자']-train_df['세션'])\r\n",
        "train_df['UV_S_diff'].unique()\r\n",
        "\r\n",
        "'''"
      ],
      "execution_count": null,
      "outputs": [
        {
          "output_type": "execute_result",
          "data": {
            "application/vnd.google.colaboratory.intrinsic+json": {
              "type": "string"
            },
            "text/plain": [
              "\"\\nprint((train_df['사용자']-train_df['세션']).mean())  \\n\\ntrain_df['UV_S_diff'] = abs(train_df['사용자']-train_df['세션'])\\ntrain_df['UV_S_diff'].unique()\\n\\n\""
            ]
          },
          "metadata": {
            "tags": []
          },
          "execution_count": 295
        }
      ]
    },
    {
      "cell_type": "code",
      "metadata": {
        "colab": {
          "base_uri": "https://localhost:8080/",
          "height": 200
        },
        "id": "ljAnbtNRab2e",
        "outputId": "0bdfe970-db07-421b-d92e-3f6c5b86c7bd"
      },
      "source": [
        "# 사용자와 페이지뷰의 관계\r\n",
        "\r\n",
        "# 페이지뷰: 홈페이지에 들어온 접속자가 둘러 본 페이지수. \r\n",
        "# PV/UV : 한 사용자가 둘러본 페이지 수.\r\n",
        "\r\n",
        "\r\n",
        "\r\n",
        "train_df['PV/UV'] = train_df['페이지뷰']/train_df['사용자']\r\n",
        "train_df.head()\r\n"
      ],
      "execution_count": null,
      "outputs": [
        {
          "output_type": "execute_result",
          "data": {
            "text/html": [
              "<div>\n",
              "<style scoped>\n",
              "    .dataframe tbody tr th:only-of-type {\n",
              "        vertical-align: middle;\n",
              "    }\n",
              "\n",
              "    .dataframe tbody tr th {\n",
              "        vertical-align: top;\n",
              "    }\n",
              "\n",
              "    .dataframe thead th {\n",
              "        text-align: right;\n",
              "    }\n",
              "</style>\n",
              "<table border=\"1\" class=\"dataframe\">\n",
              "  <thead>\n",
              "    <tr style=\"text-align: right;\">\n",
              "      <th></th>\n",
              "      <th>date</th>\n",
              "      <th>사용자</th>\n",
              "      <th>세션</th>\n",
              "      <th>신규방문자</th>\n",
              "      <th>페이지뷰</th>\n",
              "      <th>PV/UV</th>\n",
              "    </tr>\n",
              "  </thead>\n",
              "  <tbody>\n",
              "    <tr>\n",
              "      <th>0</th>\n",
              "      <td>2018-09-09</td>\n",
              "      <td>281</td>\n",
              "      <td>266</td>\n",
              "      <td>73</td>\n",
              "      <td>1826</td>\n",
              "      <td>6.498221</td>\n",
              "    </tr>\n",
              "    <tr>\n",
              "      <th>1</th>\n",
              "      <td>2018-09-10</td>\n",
              "      <td>264</td>\n",
              "      <td>247</td>\n",
              "      <td>51</td>\n",
              "      <td>2092</td>\n",
              "      <td>7.924242</td>\n",
              "    </tr>\n",
              "    <tr>\n",
              "      <th>2</th>\n",
              "      <td>2018-09-11</td>\n",
              "      <td>329</td>\n",
              "      <td>310</td>\n",
              "      <td>58</td>\n",
              "      <td>1998</td>\n",
              "      <td>6.072948</td>\n",
              "    </tr>\n",
              "    <tr>\n",
              "      <th>3</th>\n",
              "      <td>2018-09-12</td>\n",
              "      <td>300</td>\n",
              "      <td>287</td>\n",
              "      <td>45</td>\n",
              "      <td>2595</td>\n",
              "      <td>8.650000</td>\n",
              "    </tr>\n",
              "    <tr>\n",
              "      <th>4</th>\n",
              "      <td>2018-09-13</td>\n",
              "      <td>378</td>\n",
              "      <td>344</td>\n",
              "      <td>50</td>\n",
              "      <td>3845</td>\n",
              "      <td>10.171958</td>\n",
              "    </tr>\n",
              "  </tbody>\n",
              "</table>\n",
              "</div>"
            ],
            "text/plain": [
              "         date  사용자   세션  신규방문자  페이지뷰      PV/UV\n",
              "0  2018-09-09  281  266     73  1826   6.498221\n",
              "1  2018-09-10  264  247     51  2092   7.924242\n",
              "2  2018-09-11  329  310     58  1998   6.072948\n",
              "3  2018-09-12  300  287     45  2595   8.650000\n",
              "4  2018-09-13  378  344     50  3845  10.171958"
            ]
          },
          "metadata": {
            "tags": []
          },
          "execution_count": 343
        }
      ]
    },
    {
      "cell_type": "markdown",
      "metadata": {
        "id": "ECoz5Pr3cDir"
      },
      "source": [
        "#### 날짜 feature 추가"
      ]
    },
    {
      "cell_type": "code",
      "metadata": {
        "id": "CM7Hluyg9nrO"
      },
      "source": [
        "# date 기준 변수 만들기\r\n",
        "\r\n",
        "\r\n",
        "def create_features(df):\r\n",
        "    \"\"\"\r\n",
        "    Creates time series features from datetime index\r\n",
        "    \"\"\"\r\n",
        "    # df['DateTime'] = df.index\r\n",
        "    # df['hour'] = df['date'].dt.hour\r\n",
        "    df['dayofweek'] = pd.to_datetime(df['date']).dt.dayofweek #요일\r\n",
        "    df['quarter'] = pd.to_datetime(df['date']).dt.quarter \r\n",
        "    df['month'] = pd.to_datetime(df['date']).dt.month\r\n",
        "    df['year'] = pd.to_datetime(df['date']).dt.year # 날짜의 해당 연도 시작에서부터의 일 수를 반환 \r\n",
        "    df['dayofyear'] = pd.to_datetime(df['date']).dt.dayofyear\r\n",
        "    df['dayofmonth'] = pd.to_datetime(df['date']).dt.day\r\n",
        "    df['weekofyear'] = pd.to_datetime(df['date']).dt.weekofyear\r\n",
        "    \r\n",
        "    X = df[['사용자','세션','신규방문자','페이지뷰'\r\n",
        "          ,  'PV/UV'\r\n",
        "          ,'date','dayofweek','quarter','month','year' \r\n",
        "           ,'dayofyear','dayofmonth','weekofyear']]\r\n",
        "    X.set_index('date', inplace = True)\r\n",
        "    X.index = pd.to_datetime(X.index)\r\n",
        "    return X"
      ],
      "execution_count": null,
      "outputs": []
    },
    {
      "cell_type": "code",
      "metadata": {
        "colab": {
          "base_uri": "https://localhost:8080/",
          "height": 286
        },
        "id": "am_esN9k-CjW",
        "outputId": "ff28bf39-64df-4fa5-f70a-aeb9d9f37f33"
      },
      "source": [
        "train = create_features(train_df)\r\n",
        "train.head()"
      ],
      "execution_count": null,
      "outputs": [
        {
          "output_type": "stream",
          "text": [
            "/usr/local/lib/python3.6/dist-packages/ipykernel_launcher.py:16: FutureWarning: Series.dt.weekofyear and Series.dt.week have been deprecated.  Please use Series.dt.isocalendar().week instead.\n",
            "  app.launch_new_instance()\n"
          ],
          "name": "stderr"
        },
        {
          "output_type": "execute_result",
          "data": {
            "text/html": [
              "<div>\n",
              "<style scoped>\n",
              "    .dataframe tbody tr th:only-of-type {\n",
              "        vertical-align: middle;\n",
              "    }\n",
              "\n",
              "    .dataframe tbody tr th {\n",
              "        vertical-align: top;\n",
              "    }\n",
              "\n",
              "    .dataframe thead th {\n",
              "        text-align: right;\n",
              "    }\n",
              "</style>\n",
              "<table border=\"1\" class=\"dataframe\">\n",
              "  <thead>\n",
              "    <tr style=\"text-align: right;\">\n",
              "      <th></th>\n",
              "      <th>사용자</th>\n",
              "      <th>세션</th>\n",
              "      <th>신규방문자</th>\n",
              "      <th>페이지뷰</th>\n",
              "      <th>PV/UV</th>\n",
              "      <th>dayofweek</th>\n",
              "      <th>quarter</th>\n",
              "      <th>month</th>\n",
              "      <th>year</th>\n",
              "      <th>dayofyear</th>\n",
              "      <th>dayofmonth</th>\n",
              "      <th>weekofyear</th>\n",
              "    </tr>\n",
              "    <tr>\n",
              "      <th>date</th>\n",
              "      <th></th>\n",
              "      <th></th>\n",
              "      <th></th>\n",
              "      <th></th>\n",
              "      <th></th>\n",
              "      <th></th>\n",
              "      <th></th>\n",
              "      <th></th>\n",
              "      <th></th>\n",
              "      <th></th>\n",
              "      <th></th>\n",
              "      <th></th>\n",
              "    </tr>\n",
              "  </thead>\n",
              "  <tbody>\n",
              "    <tr>\n",
              "      <th>2018-09-09</th>\n",
              "      <td>281</td>\n",
              "      <td>266</td>\n",
              "      <td>73</td>\n",
              "      <td>1826</td>\n",
              "      <td>6.498221</td>\n",
              "      <td>6</td>\n",
              "      <td>3</td>\n",
              "      <td>9</td>\n",
              "      <td>2018</td>\n",
              "      <td>252</td>\n",
              "      <td>9</td>\n",
              "      <td>36</td>\n",
              "    </tr>\n",
              "    <tr>\n",
              "      <th>2018-09-10</th>\n",
              "      <td>264</td>\n",
              "      <td>247</td>\n",
              "      <td>51</td>\n",
              "      <td>2092</td>\n",
              "      <td>7.924242</td>\n",
              "      <td>0</td>\n",
              "      <td>3</td>\n",
              "      <td>9</td>\n",
              "      <td>2018</td>\n",
              "      <td>253</td>\n",
              "      <td>10</td>\n",
              "      <td>37</td>\n",
              "    </tr>\n",
              "    <tr>\n",
              "      <th>2018-09-11</th>\n",
              "      <td>329</td>\n",
              "      <td>310</td>\n",
              "      <td>58</td>\n",
              "      <td>1998</td>\n",
              "      <td>6.072948</td>\n",
              "      <td>1</td>\n",
              "      <td>3</td>\n",
              "      <td>9</td>\n",
              "      <td>2018</td>\n",
              "      <td>254</td>\n",
              "      <td>11</td>\n",
              "      <td>37</td>\n",
              "    </tr>\n",
              "    <tr>\n",
              "      <th>2018-09-12</th>\n",
              "      <td>300</td>\n",
              "      <td>287</td>\n",
              "      <td>45</td>\n",
              "      <td>2595</td>\n",
              "      <td>8.650000</td>\n",
              "      <td>2</td>\n",
              "      <td>3</td>\n",
              "      <td>9</td>\n",
              "      <td>2018</td>\n",
              "      <td>255</td>\n",
              "      <td>12</td>\n",
              "      <td>37</td>\n",
              "    </tr>\n",
              "    <tr>\n",
              "      <th>2018-09-13</th>\n",
              "      <td>378</td>\n",
              "      <td>344</td>\n",
              "      <td>50</td>\n",
              "      <td>3845</td>\n",
              "      <td>10.171958</td>\n",
              "      <td>3</td>\n",
              "      <td>3</td>\n",
              "      <td>9</td>\n",
              "      <td>2018</td>\n",
              "      <td>256</td>\n",
              "      <td>13</td>\n",
              "      <td>37</td>\n",
              "    </tr>\n",
              "  </tbody>\n",
              "</table>\n",
              "</div>"
            ],
            "text/plain": [
              "            사용자   세션  신규방문자  페이지뷰  ...  year  dayofyear  dayofmonth  weekofyear\n",
              "date                               ...                                         \n",
              "2018-09-09  281  266     73  1826  ...  2018        252           9          36\n",
              "2018-09-10  264  247     51  2092  ...  2018        253          10          37\n",
              "2018-09-11  329  310     58  1998  ...  2018        254          11          37\n",
              "2018-09-12  300  287     45  2595  ...  2018        255          12          37\n",
              "2018-09-13  378  344     50  3845  ...  2018        256          13          37\n",
              "\n",
              "[5 rows x 12 columns]"
            ]
          },
          "metadata": {
            "tags": []
          },
          "execution_count": 352
        }
      ]
    },
    {
      "cell_type": "markdown",
      "metadata": {
        "id": "3JD9OY69UYVw"
      },
      "source": [
        "##### 추가된 날짜 feature EDA "
      ]
    },
    {
      "cell_type": "code",
      "metadata": {
        "colab": {
          "base_uri": "https://localhost:8080/",
          "height": 1000
        },
        "id": "Hck4wCd6UcXf",
        "outputId": "532511b5-2d59-4f58-97e5-22145858f05b"
      },
      "source": [
        "# quarter간에 차이가 있는지 확인\r\n",
        "\r\n",
        "fig, axes = plt.subplots(4, 1, figsize=(8, 20))\r\n",
        "axes[0].bar(train['quarter'], train['사용자'], color='r')\r\n",
        "axes[1].bar(train['quarter'], train['세션'], color='g')\r\n",
        "axes[2].bar(train['quarter'], train['신규방문자'], color='b')\r\n",
        "axes[3].bar(train['quarter'], train['페이지뷰'], color='c')\r\n",
        "for i, title in enumerate(['사용자','세션','신규방문자','페이지뷰']):\r\n",
        "    axes[i].set_title(title)\r\n",
        "plt.show()"
      ],
      "execution_count": null,
      "outputs": [
        {
          "output_type": "stream",
          "text": [
            "/usr/local/lib/python3.6/dist-packages/matplotlib/backends/backend_agg.py:214: RuntimeWarning: Glyph 49324 missing from current font.\n",
            "  font.set_text(s, 0.0, flags=flags)\n",
            "/usr/local/lib/python3.6/dist-packages/matplotlib/backends/backend_agg.py:214: RuntimeWarning: Glyph 50857 missing from current font.\n",
            "  font.set_text(s, 0.0, flags=flags)\n",
            "/usr/local/lib/python3.6/dist-packages/matplotlib/backends/backend_agg.py:214: RuntimeWarning: Glyph 51088 missing from current font.\n",
            "  font.set_text(s, 0.0, flags=flags)\n",
            "/usr/local/lib/python3.6/dist-packages/matplotlib/backends/backend_agg.py:214: RuntimeWarning: Glyph 49464 missing from current font.\n",
            "  font.set_text(s, 0.0, flags=flags)\n",
            "/usr/local/lib/python3.6/dist-packages/matplotlib/backends/backend_agg.py:214: RuntimeWarning: Glyph 49496 missing from current font.\n",
            "  font.set_text(s, 0.0, flags=flags)\n",
            "/usr/local/lib/python3.6/dist-packages/matplotlib/backends/backend_agg.py:214: RuntimeWarning: Glyph 49888 missing from current font.\n",
            "  font.set_text(s, 0.0, flags=flags)\n",
            "/usr/local/lib/python3.6/dist-packages/matplotlib/backends/backend_agg.py:214: RuntimeWarning: Glyph 44508 missing from current font.\n",
            "  font.set_text(s, 0.0, flags=flags)\n",
            "/usr/local/lib/python3.6/dist-packages/matplotlib/backends/backend_agg.py:214: RuntimeWarning: Glyph 48169 missing from current font.\n",
            "  font.set_text(s, 0.0, flags=flags)\n",
            "/usr/local/lib/python3.6/dist-packages/matplotlib/backends/backend_agg.py:214: RuntimeWarning: Glyph 47928 missing from current font.\n",
            "  font.set_text(s, 0.0, flags=flags)\n",
            "/usr/local/lib/python3.6/dist-packages/matplotlib/backends/backend_agg.py:214: RuntimeWarning: Glyph 54168 missing from current font.\n",
            "  font.set_text(s, 0.0, flags=flags)\n",
            "/usr/local/lib/python3.6/dist-packages/matplotlib/backends/backend_agg.py:214: RuntimeWarning: Glyph 51060 missing from current font.\n",
            "  font.set_text(s, 0.0, flags=flags)\n",
            "/usr/local/lib/python3.6/dist-packages/matplotlib/backends/backend_agg.py:214: RuntimeWarning: Glyph 51648 missing from current font.\n",
            "  font.set_text(s, 0.0, flags=flags)\n",
            "/usr/local/lib/python3.6/dist-packages/matplotlib/backends/backend_agg.py:214: RuntimeWarning: Glyph 48624 missing from current font.\n",
            "  font.set_text(s, 0.0, flags=flags)\n",
            "/usr/local/lib/python3.6/dist-packages/matplotlib/backends/backend_agg.py:183: RuntimeWarning: Glyph 49324 missing from current font.\n",
            "  font.set_text(s, 0, flags=flags)\n",
            "/usr/local/lib/python3.6/dist-packages/matplotlib/backends/backend_agg.py:183: RuntimeWarning: Glyph 50857 missing from current font.\n",
            "  font.set_text(s, 0, flags=flags)\n",
            "/usr/local/lib/python3.6/dist-packages/matplotlib/backends/backend_agg.py:183: RuntimeWarning: Glyph 51088 missing from current font.\n",
            "  font.set_text(s, 0, flags=flags)\n",
            "/usr/local/lib/python3.6/dist-packages/matplotlib/backends/backend_agg.py:183: RuntimeWarning: Glyph 49464 missing from current font.\n",
            "  font.set_text(s, 0, flags=flags)\n",
            "/usr/local/lib/python3.6/dist-packages/matplotlib/backends/backend_agg.py:183: RuntimeWarning: Glyph 49496 missing from current font.\n",
            "  font.set_text(s, 0, flags=flags)\n",
            "/usr/local/lib/python3.6/dist-packages/matplotlib/backends/backend_agg.py:183: RuntimeWarning: Glyph 49888 missing from current font.\n",
            "  font.set_text(s, 0, flags=flags)\n",
            "/usr/local/lib/python3.6/dist-packages/matplotlib/backends/backend_agg.py:183: RuntimeWarning: Glyph 44508 missing from current font.\n",
            "  font.set_text(s, 0, flags=flags)\n",
            "/usr/local/lib/python3.6/dist-packages/matplotlib/backends/backend_agg.py:183: RuntimeWarning: Glyph 48169 missing from current font.\n",
            "  font.set_text(s, 0, flags=flags)\n",
            "/usr/local/lib/python3.6/dist-packages/matplotlib/backends/backend_agg.py:183: RuntimeWarning: Glyph 47928 missing from current font.\n",
            "  font.set_text(s, 0, flags=flags)\n",
            "/usr/local/lib/python3.6/dist-packages/matplotlib/backends/backend_agg.py:183: RuntimeWarning: Glyph 54168 missing from current font.\n",
            "  font.set_text(s, 0, flags=flags)\n",
            "/usr/local/lib/python3.6/dist-packages/matplotlib/backends/backend_agg.py:183: RuntimeWarning: Glyph 51060 missing from current font.\n",
            "  font.set_text(s, 0, flags=flags)\n",
            "/usr/local/lib/python3.6/dist-packages/matplotlib/backends/backend_agg.py:183: RuntimeWarning: Glyph 51648 missing from current font.\n",
            "  font.set_text(s, 0, flags=flags)\n",
            "/usr/local/lib/python3.6/dist-packages/matplotlib/backends/backend_agg.py:183: RuntimeWarning: Glyph 48624 missing from current font.\n",
            "  font.set_text(s, 0, flags=flags)\n"
          ],
          "name": "stderr"
        },
        {
          "output_type": "display_data",
          "data": {
            "image/png": "[encoded data removed]",
            "text/plain": [
              "<Figure size 576x1440 with 4 Axes>"
            ]
          },
          "metadata": {
            "tags": [],
            "needs_background": "light"
          }
        }
      ]
    },
    {
      "cell_type": "code",
      "metadata": {
        "colab": {
          "base_uri": "https://localhost:8080/",
          "height": 1000
        },
        "id": "bRhcBsaxU-oJ",
        "outputId": "34465921-bccd-4129-fbc7-3c8f4593a409"
      },
      "source": [
        "fig, axes = plt.subplots(4, 1, figsize=(8, 20))\r\n",
        "axes[0].bar(train['dayofmonth'], train['사용자'], color='r')\r\n",
        "axes[1].bar(train['dayofmonth'], train['세션'], color='g')\r\n",
        "axes[2].bar(train['dayofmonth'], train['신규방문자'], color='b')\r\n",
        "axes[3].bar(train['dayofmonth'], train['페이지뷰'], color='c')\r\n",
        "for i, title in enumerate(['사용자','세션','신규방문자','페이지뷰']):\r\n",
        "    axes[i].set_title(title)\r\n",
        "plt.show()"
      ],
      "execution_count": null,
      "outputs": [
        {
          "output_type": "stream",
          "text": [
            "/usr/local/lib/python3.6/dist-packages/matplotlib/backends/backend_agg.py:214: RuntimeWarning: Glyph 49324 missing from current font.\n",
            "  font.set_text(s, 0.0, flags=flags)\n",
            "/usr/local/lib/python3.6/dist-packages/matplotlib/backends/backend_agg.py:214: RuntimeWarning: Glyph 50857 missing from current font.\n",
            "  font.set_text(s, 0.0, flags=flags)\n",
            "/usr/local/lib/python3.6/dist-packages/matplotlib/backends/backend_agg.py:214: RuntimeWarning: Glyph 51088 missing from current font.\n",
            "  font.set_text(s, 0.0, flags=flags)\n",
            "/usr/local/lib/python3.6/dist-packages/matplotlib/backends/backend_agg.py:214: RuntimeWarning: Glyph 49464 missing from current font.\n",
            "  font.set_text(s, 0.0, flags=flags)\n",
            "/usr/local/lib/python3.6/dist-packages/matplotlib/backends/backend_agg.py:214: RuntimeWarning: Glyph 49496 missing from current font.\n",
            "  font.set_text(s, 0.0, flags=flags)\n",
            "/usr/local/lib/python3.6/dist-packages/matplotlib/backends/backend_agg.py:214: RuntimeWarning: Glyph 49888 missing from current font.\n",
            "  font.set_text(s, 0.0, flags=flags)\n",
            "/usr/local/lib/python3.6/dist-packages/matplotlib/backends/backend_agg.py:214: RuntimeWarning: Glyph 44508 missing from current font.\n",
            "  font.set_text(s, 0.0, flags=flags)\n",
            "/usr/local/lib/python3.6/dist-packages/matplotlib/backends/backend_agg.py:214: RuntimeWarning: Glyph 48169 missing from current font.\n",
            "  font.set_text(s, 0.0, flags=flags)\n",
            "/usr/local/lib/python3.6/dist-packages/matplotlib/backends/backend_agg.py:214: RuntimeWarning: Glyph 47928 missing from current font.\n",
            "  font.set_text(s, 0.0, flags=flags)\n",
            "/usr/local/lib/python3.6/dist-packages/matplotlib/backends/backend_agg.py:214: RuntimeWarning: Glyph 54168 missing from current font.\n",
            "  font.set_text(s, 0.0, flags=flags)\n",
            "/usr/local/lib/python3.6/dist-packages/matplotlib/backends/backend_agg.py:214: RuntimeWarning: Glyph 51060 missing from current font.\n",
            "  font.set_text(s, 0.0, flags=flags)\n",
            "/usr/local/lib/python3.6/dist-packages/matplotlib/backends/backend_agg.py:214: RuntimeWarning: Glyph 51648 missing from current font.\n",
            "  font.set_text(s, 0.0, flags=flags)\n",
            "/usr/local/lib/python3.6/dist-packages/matplotlib/backends/backend_agg.py:214: RuntimeWarning: Glyph 48624 missing from current font.\n",
            "  font.set_text(s, 0.0, flags=flags)\n",
            "/usr/local/lib/python3.6/dist-packages/matplotlib/backends/backend_agg.py:183: RuntimeWarning: Glyph 49324 missing from current font.\n",
            "  font.set_text(s, 0, flags=flags)\n",
            "/usr/local/lib/python3.6/dist-packages/matplotlib/backends/backend_agg.py:183: RuntimeWarning: Glyph 50857 missing from current font.\n",
            "  font.set_text(s, 0, flags=flags)\n",
            "/usr/local/lib/python3.6/dist-packages/matplotlib/backends/backend_agg.py:183: RuntimeWarning: Glyph 51088 missing from current font.\n",
            "  font.set_text(s, 0, flags=flags)\n",
            "/usr/local/lib/python3.6/dist-packages/matplotlib/backends/backend_agg.py:183: RuntimeWarning: Glyph 49464 missing from current font.\n",
            "  font.set_text(s, 0, flags=flags)\n",
            "/usr/local/lib/python3.6/dist-packages/matplotlib/backends/backend_agg.py:183: RuntimeWarning: Glyph 49496 missing from current font.\n",
            "  font.set_text(s, 0, flags=flags)\n",
            "/usr/local/lib/python3.6/dist-packages/matplotlib/backends/backend_agg.py:183: RuntimeWarning: Glyph 49888 missing from current font.\n",
            "  font.set_text(s, 0, flags=flags)\n",
            "/usr/local/lib/python3.6/dist-packages/matplotlib/backends/backend_agg.py:183: RuntimeWarning: Glyph 44508 missing from current font.\n",
            "  font.set_text(s, 0, flags=flags)\n",
            "/usr/local/lib/python3.6/dist-packages/matplotlib/backends/backend_agg.py:183: RuntimeWarning: Glyph 48169 missing from current font.\n",
            "  font.set_text(s, 0, flags=flags)\n",
            "/usr/local/lib/python3.6/dist-packages/matplotlib/backends/backend_agg.py:183: RuntimeWarning: Glyph 47928 missing from current font.\n",
            "  font.set_text(s, 0, flags=flags)\n",
            "/usr/local/lib/python3.6/dist-packages/matplotlib/backends/backend_agg.py:183: RuntimeWarning: Glyph 54168 missing from current font.\n",
            "  font.set_text(s, 0, flags=flags)\n",
            "/usr/local/lib/python3.6/dist-packages/matplotlib/backends/backend_agg.py:183: RuntimeWarning: Glyph 51060 missing from current font.\n",
            "  font.set_text(s, 0, flags=flags)\n",
            "/usr/local/lib/python3.6/dist-packages/matplotlib/backends/backend_agg.py:183: RuntimeWarning: Glyph 51648 missing from current font.\n",
            "  font.set_text(s, 0, flags=flags)\n",
            "/usr/local/lib/python3.6/dist-packages/matplotlib/backends/backend_agg.py:183: RuntimeWarning: Glyph 48624 missing from current font.\n",
            "  font.set_text(s, 0, flags=flags)\n"
          ],
          "name": "stderr"
        },
        {
          "output_type": "display_data",
          "data": {
            "image/png": "[encoded data removed]",
            "text/plain": [
              "<Figure size 576x1440 with 4 Axes>"
            ]
          },
          "metadata": {
            "tags": [],
            "needs_background": "light"
          }
        }
      ]
    },
    {
      "cell_type": "markdown",
      "metadata": {
        "id": "0Mn3-RqzjnDe"
      },
      "source": [
        "#### 범주형 인코딩\r\n",
        "\r\n",
        "- one-hot 인코딩: 카테고리가 별로 없는거\r\n",
        "- binary 인코딩: 카테고리가 많은 거"
      ]
    },
    {
      "cell_type": "code",
      "metadata": {
        "colab": {
          "base_uri": "https://localhost:8080/"
        },
        "id": "ziFLhds4kax1",
        "outputId": "c9e9eae6-1889-45ef-a302-3d76325cd9c4"
      },
      "source": [
        "pip install category_encoders"
      ],
      "execution_count": null,
      "outputs": [
        {
          "output_type": "stream",
          "text": [
            "Requirement already satisfied: category_encoders in /usr/local/lib/python3.6/dist-packages (2.2.2)\n",
            "Requirement already satisfied: pandas>=0.21.1 in /usr/local/lib/python3.6/dist-packages (from category_encoders) (1.1.5)\n",
            "Requirement already satisfied: patsy>=0.5.1 in /usr/local/lib/python3.6/dist-packages (from category_encoders) (0.5.1)\n",
            "Requirement already satisfied: statsmodels>=0.9.0 in /usr/local/lib/python3.6/dist-packages (from category_encoders) (0.10.2)\n",
            "Requirement already satisfied: scikit-learn>=0.20.0 in /usr/local/lib/python3.6/dist-packages (from category_encoders) (0.22.2.post1)\n",
            "Requirement already satisfied: scipy>=1.0.0 in /usr/local/lib/python3.6/dist-packages (from category_encoders) (1.4.1)\n",
            "Requirement already satisfied: numpy>=1.14.0 in /usr/local/lib/python3.6/dist-packages (from category_encoders) (1.19.4)\n",
            "Requirement already satisfied: pytz>=2017.2 in /usr/local/lib/python3.6/dist-packages (from pandas>=0.21.1->category_encoders) (2018.9)\n",
            "Requirement already satisfied: python-dateutil>=2.7.3 in /usr/local/lib/python3.6/dist-packages (from pandas>=0.21.1->category_encoders) (2.8.1)\n",
            "Requirement already satisfied: six in /usr/local/lib/python3.6/dist-packages (from patsy>=0.5.1->category_encoders) (1.15.0)\n",
            "Requirement already satisfied: joblib>=0.11 in /usr/local/lib/python3.6/dist-packages (from scikit-learn>=0.20.0->category_encoders) (1.0.0)\n"
          ],
          "name": "stdout"
        }
      ]
    },
    {
      "cell_type": "code",
      "metadata": {
        "id": "BHx-tnrbj1cc"
      },
      "source": [
        "import category_encoders as ce"
      ],
      "execution_count": null,
      "outputs": []
    },
    {
      "cell_type": "code",
      "metadata": {
        "colab": {
          "base_uri": "https://localhost:8080/"
        },
        "id": "4nzCaqAJd531",
        "outputId": "b194a273-89f8-45cc-b0f5-0646875c2b75"
      },
      "source": [
        "# bianry encoding\r\n",
        "\r\n",
        "# dayofyear\tdayofmonth\tweekofyear\r\n",
        "\r\n",
        "encoder = ce.BinaryEncoder(cols=['dayofyear'])\r\n",
        "train = encoder.fit_transform(train)\r\n",
        "\r\n",
        "encoder = ce.BinaryEncoder(cols=['dayofmonth'])\r\n",
        "train = encoder.fit_transform(train)\r\n",
        "\r\n",
        "encoder = ce.BinaryEncoder(cols=['weekofyear'])\r\n",
        "train = encoder.fit_transform(train)\r\n",
        "\r\n",
        "print(train.shape)\r\n",
        "# train.head(3)"
      ],
      "execution_count": null,
      "outputs": [
        {
          "output_type": "stream",
          "text": [
            "(792, 32)\n"
          ],
          "name": "stdout"
        },
        {
          "output_type": "stream",
          "text": [
            "/usr/local/lib/python3.6/dist-packages/category_encoders/utils.py:21: FutureWarning: is_categorical is deprecated and will be removed in a future version.  Use is_categorical_dtype instead\n",
            "  elif pd.api.types.is_categorical(cols):\n",
            "/usr/local/lib/python3.6/dist-packages/category_encoders/utils.py:21: FutureWarning: is_categorical is deprecated and will be removed in a future version.  Use is_categorical_dtype instead\n",
            "  elif pd.api.types.is_categorical(cols):\n",
            "/usr/local/lib/python3.6/dist-packages/category_encoders/utils.py:21: FutureWarning: is_categorical is deprecated and will be removed in a future version.  Use is_categorical_dtype instead\n",
            "  elif pd.api.types.is_categorical(cols):\n"
          ],
          "name": "stderr"
        }
      ]
    },
    {
      "cell_type": "code",
      "metadata": {
        "colab": {
          "base_uri": "https://localhost:8080/",
          "height": 327
        },
        "id": "ZFEkYwX-kxU9",
        "outputId": "c0b5d83d-5400-44a9-e817-1a24bf0a2d80"
      },
      "source": [
        "# one-hot encoding\r\n",
        "\r\n",
        "def dummy_data(data, columns):\r\n",
        "    for column in columns:\r\n",
        "        data = pd.concat([data, pd.get_dummies(data[column], prefix = column)], axis=1)\r\n",
        "        data = data.drop(column, axis=1)\r\n",
        "    return data\r\n",
        "\r\n",
        "\r\n",
        "dummy_columns = [\"dayofweek\", \"quarter\", \"month\", \"year\"]\r\n",
        "train = dummy_data(train,dummy_columns)\r\n",
        "\r\n",
        "print(train.shape)\r\n",
        "train.head(3)"
      ],
      "execution_count": null,
      "outputs": [
        {
          "output_type": "stream",
          "text": [
            "(792, 54)\n"
          ],
          "name": "stdout"
        },
        {
          "output_type": "execute_result",
          "data": {
            "text/html": [
              "<div>\n",
              "<style scoped>\n",
              "    .dataframe tbody tr th:only-of-type {\n",
              "        vertical-align: middle;\n",
              "    }\n",
              "\n",
              "    .dataframe tbody tr th {\n",
              "        vertical-align: top;\n",
              "    }\n",
              "\n",
              "    .dataframe thead th {\n",
              "        text-align: right;\n",
              "    }\n",
              "</style>\n",
              "<table border=\"1\" class=\"dataframe\">\n",
              "  <thead>\n",
              "    <tr style=\"text-align: right;\">\n",
              "      <th></th>\n",
              "      <th>사용자</th>\n",
              "      <th>세션</th>\n",
              "      <th>신규방문자</th>\n",
              "      <th>페이지뷰</th>\n",
              "      <th>PV/UV</th>\n",
              "      <th>dayofyear_0</th>\n",
              "      <th>dayofyear_1</th>\n",
              "      <th>dayofyear_2</th>\n",
              "      <th>dayofyear_3</th>\n",
              "      <th>dayofyear_4</th>\n",
              "      <th>dayofyear_5</th>\n",
              "      <th>dayofyear_6</th>\n",
              "      <th>dayofyear_7</th>\n",
              "      <th>dayofyear_8</th>\n",
              "      <th>dayofyear_9</th>\n",
              "      <th>dayofmonth_0</th>\n",
              "      <th>dayofmonth_1</th>\n",
              "      <th>dayofmonth_2</th>\n",
              "      <th>dayofmonth_3</th>\n",
              "      <th>dayofmonth_4</th>\n",
              "      <th>dayofmonth_5</th>\n",
              "      <th>weekofyear_0</th>\n",
              "      <th>weekofyear_1</th>\n",
              "      <th>weekofyear_2</th>\n",
              "      <th>weekofyear_3</th>\n",
              "      <th>weekofyear_4</th>\n",
              "      <th>weekofyear_5</th>\n",
              "      <th>weekofyear_6</th>\n",
              "      <th>dayofweek_0</th>\n",
              "      <th>dayofweek_1</th>\n",
              "      <th>dayofweek_2</th>\n",
              "      <th>dayofweek_3</th>\n",
              "      <th>dayofweek_4</th>\n",
              "      <th>dayofweek_5</th>\n",
              "      <th>dayofweek_6</th>\n",
              "      <th>quarter_1</th>\n",
              "      <th>quarter_2</th>\n",
              "      <th>quarter_3</th>\n",
              "      <th>quarter_4</th>\n",
              "      <th>month_1</th>\n",
              "      <th>month_2</th>\n",
              "      <th>month_3</th>\n",
              "      <th>month_4</th>\n",
              "      <th>month_5</th>\n",
              "      <th>month_6</th>\n",
              "      <th>month_7</th>\n",
              "      <th>month_8</th>\n",
              "      <th>month_9</th>\n",
              "      <th>month_10</th>\n",
              "      <th>month_11</th>\n",
              "      <th>month_12</th>\n",
              "      <th>year_2018</th>\n",
              "      <th>year_2019</th>\n",
              "      <th>year_2020</th>\n",
              "    </tr>\n",
              "    <tr>\n",
              "      <th>date</th>\n",
              "      <th></th>\n",
              "      <th></th>\n",
              "      <th></th>\n",
              "      <th></th>\n",
              "      <th></th>\n",
              "      <th></th>\n",
              "      <th></th>\n",
              "      <th></th>\n",
              "      <th></th>\n",
              "      <th></th>\n",
              "      <th></th>\n",
              "      <th></th>\n",
              "      <th></th>\n",
              "      <th></th>\n",
              "      <th></th>\n",
              "      <th></th>\n",
              "      <th></th>\n",
              "      <th></th>\n",
              "      <th></th>\n",
              "      <th></th>\n",
              "      <th></th>\n",
              "      <th></th>\n",
              "      <th></th>\n",
              "      <th></th>\n",
              "      <th></th>\n",
              "      <th></th>\n",
              "      <th></th>\n",
              "      <th></th>\n",
              "      <th></th>\n",
              "      <th></th>\n",
              "      <th></th>\n",
              "      <th></th>\n",
              "      <th></th>\n",
              "      <th></th>\n",
              "      <th></th>\n",
              "      <th></th>\n",
              "      <th></th>\n",
              "      <th></th>\n",
              "      <th></th>\n",
              "      <th></th>\n",
              "      <th></th>\n",
              "      <th></th>\n",
              "      <th></th>\n",
              "      <th></th>\n",
              "      <th></th>\n",
              "      <th></th>\n",
              "      <th></th>\n",
              "      <th></th>\n",
              "      <th></th>\n",
              "      <th></th>\n",
              "      <th></th>\n",
              "      <th></th>\n",
              "      <th></th>\n",
              "      <th></th>\n",
              "    </tr>\n",
              "  </thead>\n",
              "  <tbody>\n",
              "    <tr>\n",
              "      <th>2018-09-09</th>\n",
              "      <td>281</td>\n",
              "      <td>266</td>\n",
              "      <td>73</td>\n",
              "      <td>1826</td>\n",
              "      <td>6.498221</td>\n",
              "      <td>0</td>\n",
              "      <td>0</td>\n",
              "      <td>0</td>\n",
              "      <td>0</td>\n",
              "      <td>0</td>\n",
              "      <td>0</td>\n",
              "      <td>0</td>\n",
              "      <td>0</td>\n",
              "      <td>0</td>\n",
              "      <td>1</td>\n",
              "      <td>0</td>\n",
              "      <td>0</td>\n",
              "      <td>0</td>\n",
              "      <td>0</td>\n",
              "      <td>0</td>\n",
              "      <td>1</td>\n",
              "      <td>0</td>\n",
              "      <td>0</td>\n",
              "      <td>0</td>\n",
              "      <td>0</td>\n",
              "      <td>0</td>\n",
              "      <td>0</td>\n",
              "      <td>1</td>\n",
              "      <td>0</td>\n",
              "      <td>0</td>\n",
              "      <td>0</td>\n",
              "      <td>0</td>\n",
              "      <td>0</td>\n",
              "      <td>0</td>\n",
              "      <td>1</td>\n",
              "      <td>0</td>\n",
              "      <td>0</td>\n",
              "      <td>1</td>\n",
              "      <td>0</td>\n",
              "      <td>0</td>\n",
              "      <td>0</td>\n",
              "      <td>0</td>\n",
              "      <td>0</td>\n",
              "      <td>0</td>\n",
              "      <td>0</td>\n",
              "      <td>0</td>\n",
              "      <td>0</td>\n",
              "      <td>1</td>\n",
              "      <td>0</td>\n",
              "      <td>0</td>\n",
              "      <td>0</td>\n",
              "      <td>1</td>\n",
              "      <td>0</td>\n",
              "      <td>0</td>\n",
              "    </tr>\n",
              "    <tr>\n",
              "      <th>2018-09-10</th>\n",
              "      <td>264</td>\n",
              "      <td>247</td>\n",
              "      <td>51</td>\n",
              "      <td>2092</td>\n",
              "      <td>7.924242</td>\n",
              "      <td>0</td>\n",
              "      <td>0</td>\n",
              "      <td>0</td>\n",
              "      <td>0</td>\n",
              "      <td>0</td>\n",
              "      <td>0</td>\n",
              "      <td>0</td>\n",
              "      <td>0</td>\n",
              "      <td>1</td>\n",
              "      <td>0</td>\n",
              "      <td>0</td>\n",
              "      <td>0</td>\n",
              "      <td>0</td>\n",
              "      <td>0</td>\n",
              "      <td>1</td>\n",
              "      <td>0</td>\n",
              "      <td>0</td>\n",
              "      <td>0</td>\n",
              "      <td>0</td>\n",
              "      <td>0</td>\n",
              "      <td>0</td>\n",
              "      <td>1</td>\n",
              "      <td>0</td>\n",
              "      <td>1</td>\n",
              "      <td>0</td>\n",
              "      <td>0</td>\n",
              "      <td>0</td>\n",
              "      <td>0</td>\n",
              "      <td>0</td>\n",
              "      <td>0</td>\n",
              "      <td>0</td>\n",
              "      <td>0</td>\n",
              "      <td>1</td>\n",
              "      <td>0</td>\n",
              "      <td>0</td>\n",
              "      <td>0</td>\n",
              "      <td>0</td>\n",
              "      <td>0</td>\n",
              "      <td>0</td>\n",
              "      <td>0</td>\n",
              "      <td>0</td>\n",
              "      <td>0</td>\n",
              "      <td>1</td>\n",
              "      <td>0</td>\n",
              "      <td>0</td>\n",
              "      <td>0</td>\n",
              "      <td>1</td>\n",
              "      <td>0</td>\n",
              "      <td>0</td>\n",
              "    </tr>\n",
              "    <tr>\n",
              "      <th>2018-09-11</th>\n",
              "      <td>329</td>\n",
              "      <td>310</td>\n",
              "      <td>58</td>\n",
              "      <td>1998</td>\n",
              "      <td>6.072948</td>\n",
              "      <td>0</td>\n",
              "      <td>0</td>\n",
              "      <td>0</td>\n",
              "      <td>0</td>\n",
              "      <td>0</td>\n",
              "      <td>0</td>\n",
              "      <td>0</td>\n",
              "      <td>0</td>\n",
              "      <td>1</td>\n",
              "      <td>1</td>\n",
              "      <td>0</td>\n",
              "      <td>0</td>\n",
              "      <td>0</td>\n",
              "      <td>0</td>\n",
              "      <td>1</td>\n",
              "      <td>1</td>\n",
              "      <td>0</td>\n",
              "      <td>0</td>\n",
              "      <td>0</td>\n",
              "      <td>0</td>\n",
              "      <td>0</td>\n",
              "      <td>1</td>\n",
              "      <td>0</td>\n",
              "      <td>0</td>\n",
              "      <td>1</td>\n",
              "      <td>0</td>\n",
              "      <td>0</td>\n",
              "      <td>0</td>\n",
              "      <td>0</td>\n",
              "      <td>0</td>\n",
              "      <td>0</td>\n",
              "      <td>0</td>\n",
              "      <td>1</td>\n",
              "      <td>0</td>\n",
              "      <td>0</td>\n",
              "      <td>0</td>\n",
              "      <td>0</td>\n",
              "      <td>0</td>\n",
              "      <td>0</td>\n",
              "      <td>0</td>\n",
              "      <td>0</td>\n",
              "      <td>0</td>\n",
              "      <td>1</td>\n",
              "      <td>0</td>\n",
              "      <td>0</td>\n",
              "      <td>0</td>\n",
              "      <td>1</td>\n",
              "      <td>0</td>\n",
              "      <td>0</td>\n",
              "    </tr>\n",
              "  </tbody>\n",
              "</table>\n",
              "</div>"
            ],
            "text/plain": [
              "            사용자   세션  신규방문자  페이지뷰  ...  month_12  year_2018  year_2019  year_2020\n",
              "date                               ...                                           \n",
              "2018-09-09  281  266     73  1826  ...         0          1          0          0\n",
              "2018-09-10  264  247     51  2092  ...         0          1          0          0\n",
              "2018-09-11  329  310     58  1998  ...         0          1          0          0\n",
              "\n",
              "[3 rows x 54 columns]"
            ]
          },
          "metadata": {
            "tags": []
          },
          "execution_count": 354
        }
      ]
    },
    {
      "cell_type": "markdown",
      "metadata": {
        "id": "UP7gIbLQ9zmM"
      },
      "source": [
        "## 추가데이터 가공"
      ]
    },
    {
      "cell_type": "code",
      "metadata": {
        "colab": {
          "base_uri": "https://localhost:8080/",
          "height": 87
        },
        "id": "Hn7Nc5vNvSHN",
        "outputId": "ea15c6b7-bfeb-4eb8-9176-db650ab34da8"
      },
      "source": [
        "'''\r\n",
        "## 정해진 기간만 예측을 잘하면 될 뿐 추후 데이터가 안 주어진다고 하여도 알 수 있는 정보들 활용 ##\r\n",
        "ex)\r\n",
        "\r\n",
        "# Y별로 다르게\r\n",
        "\r\n",
        "\r\n",
        "- 대회 카테고리 별(영향력 있는 대회) 뽑아서 test 기간내의 같은 카테고리 대회 기간 예측\r\n",
        "   *시각화 대회나 분류 대회 등 중에서 대표적인 것(지배적인 대회)을 바탕으로 범주를 통합 \r\n",
        "\r\n",
        "\r\n",
        "- 대회가 진행되는 개수에 따라 비슷한 개수로 열리는 대회 기간 예측\r\n",
        "   *진행되는 개수가 2019년 2월 3월(train)과 2020년 12월 21~30일(test)가 같다면 해당 기간들을 예측\r\n",
        "\r\n",
        "'''"
      ],
      "execution_count": 7,
      "outputs": [
        {
          "output_type": "execute_result",
          "data": {
            "application/vnd.google.colaboratory.intrinsic+json": {
              "type": "string"
            },
            "text/plain": [
              "'\\n## 정해진 기간만 예측을 잘하면 될 뿐 추후 데이터가 안 주어진다고 하여도 알 수 있는 정보들 활용 ##\\nex)\\n\\n# Y별로 다르게\\n\\n\\n- 대회 카테고리 별(영향력 있는 대회) 뽑아서 test 기간내의 같은 카테고리 대회 기간 예측\\n   *시각화 대회나 분류 대회 등 중에서 대표적인 것(지배적인 대회)을 바탕으로 범주를 통합 \\n\\n\\n- 대회가 진행되는 개수에 따라 비슷한 개수로 열리는 대회 기간 예측\\n   *진행되는 개수가 2019년 2월 3월(train)과 2020년 12월 21~30일(test)가 같다면 해당 기간들을 예측\\n\\n'"
            ]
          },
          "metadata": {
            "tags": []
          },
          "execution_count": 7
        }
      ]
    },
    {
      "cell_type": "code",
      "metadata": {
        "id": "cJGuiHK99ucr"
      },
      "source": [
        "\r\n",
        "# user =  pd.read_csv(path + '/open_data/info_user.csv', encoding = 'euc-kr')\r\n",
        "# login = pd.read_csv(path +'/open_data/info_login.csv', encoding = 'euc-kr')\r\n",
        "competition = pd.read_csv(path +'/open_data/info_competition.csv', encoding = 'euc-kr', index_col=0)\r\n",
        "# info_submission =  pd.read_csv(path +'/open_data/info_submission.csv', encoding = 'euc-kr')\r\n"
      ],
      "execution_count": 253,
      "outputs": []
    },
    {
      "cell_type": "markdown",
      "metadata": {
        "id": "r1AuP5trUKVL"
      },
      "source": [
        "##### info_competiton"
      ]
    },
    {
      "cell_type": "code",
      "metadata": {
        "colab": {
          "base_uri": "https://localhost:8080/",
          "height": 417
        },
        "id": "QV3fhBBBvaS8",
        "outputId": "faccf1bc-c486-4d1b-bd0c-f9bbc54b6fb8"
      },
      "source": [
        "competition.head(2)"
      ],
      "execution_count": 254,
      "outputs": [
        {
          "output_type": "execute_result",
          "data": {
            "text/html": [
              "<div>\n",
              "<style scoped>\n",
              "    .dataframe tbody tr th:only-of-type {\n",
              "        vertical-align: middle;\n",
              "    }\n",
              "\n",
              "    .dataframe tbody tr th {\n",
              "        vertical-align: top;\n",
              "    }\n",
              "\n",
              "    .dataframe thead th {\n",
              "        text-align: right;\n",
              "    }\n",
              "</style>\n",
              "<table border=\"1\" class=\"dataframe\">\n",
              "  <thead>\n",
              "    <tr style=\"text-align: right;\">\n",
              "      <th></th>\n",
              "      <th>cpt_id</th>\n",
              "      <th>is_official</th>\n",
              "      <th>period_start</th>\n",
              "      <th>period_end</th>\n",
              "      <th>name</th>\n",
              "      <th>name_eng</th>\n",
              "      <th>keyword</th>\n",
              "      <th>keyword_eng</th>\n",
              "      <th>participants</th>\n",
              "      <th>max_team_member</th>\n",
              "      <th>max_file_per_day</th>\n",
              "      <th>prize</th>\n",
              "      <th>prize_info</th>\n",
              "      <th>merge_deadline</th>\n",
              "      <th>winner_show</th>\n",
              "    </tr>\n",
              "  </thead>\n",
              "  <tbody>\n",
              "    <tr>\n",
              "      <th>0</th>\n",
              "      <td>136</td>\n",
              "      <td>1</td>\n",
              "      <td>2018-08-14 0:00</td>\n",
              "      <td>2018-09-13 23:59</td>\n",
              "      <td>대출 상점 총 매출 예측 경진대회</td>\n",
              "      <td>Shop Total Sales Forecast</td>\n",
              "      <td>금융 | 소상공인 신용카드 가맹점 빅데이터와 AI로 매출 예측 |  시계열, 회귀 ...</td>\n",
              "      <td>[Finance] Small Business Credit Card Merchant ...</td>\n",
              "      <td>303</td>\n",
              "      <td>5</td>\n",
              "      <td>5</td>\n",
              "      <td>850</td>\n",
              "      <td>$8,500 + 100,000ZPR</td>\n",
              "      <td>2018-09-13 23:59</td>\n",
              "      <td>3</td>\n",
              "    </tr>\n",
              "    <tr>\n",
              "      <th>1</th>\n",
              "      <td>9565</td>\n",
              "      <td>1</td>\n",
              "      <td>2018-09-15 0:00</td>\n",
              "      <td>2018-10-13 23:59</td>\n",
              "      <td>병원 개/폐업 분류 예측 경진대회</td>\n",
              "      <td>hospital opening / closing classification pred...</td>\n",
              "      <td>금융 | 병원 재무 데이터와 AI로 개업|폐업 예측 분석 |  분류 | Accuracy</td>\n",
              "      <td>[Financial] Hospital financial data and openin...</td>\n",
              "      <td>448</td>\n",
              "      <td>10</td>\n",
              "      <td>3</td>\n",
              "      <td>350</td>\n",
              "      <td>$3,500 + 40,000ZPR</td>\n",
              "      <td>2018-10-13 23:59</td>\n",
              "      <td>3</td>\n",
              "    </tr>\n",
              "  </tbody>\n",
              "</table>\n",
              "</div>"
            ],
            "text/plain": [
              "   cpt_id  is_official  ...    merge_deadline winner_show\n",
              "0     136            1  ...  2018-09-13 23:59           3\n",
              "1    9565            1  ...  2018-10-13 23:59           3\n",
              "\n",
              "[2 rows x 15 columns]"
            ]
          },
          "metadata": {
            "tags": []
          },
          "execution_count": 254
        }
      ]
    },
    {
      "cell_type": "markdown",
      "metadata": {
        "id": "AuotVHHJVZmc"
      },
      "source": [
        "- date_cpt_count() 함수 생성\r\n",
        "    - : 각 날짜별 진행되고 있는 대회 개수\r\n",
        "      - 대회가 진행되는 개수에 따라 비슷한 개수로 열리는 대회 기간 예측을 위해 사용\r\n",
        "      - 아래 과정"
      ]
    },
    {
      "cell_type": "code",
      "metadata": {
        "id": "NKHSojz2VQKT"
      },
      "source": [
        "# competition\r\n",
        "\r\n",
        "# 각 날짜별 진행되고 있는 대회 개수\r\n",
        "# competition 데이터셋의 모든 기간을 포함.\r\n",
        "\r\n",
        "def date_cpt_count(competition):\r\n",
        "    from datetime import date, timedelta\r\n",
        "\r\n",
        "    # datatype: datetime으로 변경\r\n",
        "    competition['period_start'] =  pd.to_datetime(competition.period_start)\r\n",
        "    competition['period_end'] =  pd.to_datetime(competition.period_end)\r\n",
        "    # date로 변경\r\n",
        "    competition['period_start'] = competition.period_start.dt.date\r\n",
        "    competition['period_end'] = competition.period_end.dt.date\r\n",
        "\r\n",
        "    # 모든 대회 기간을 포함하는 datelist 생성. 897개\r\n",
        "    start = competition['period_start'].min()\r\n",
        "    end = competition['period_end'].max()\r\n",
        "\r\n",
        "    datelist = []\r\n",
        "    for i in range((end-start).days +1):\r\n",
        "      datelist.append(start+timedelta(days=i))\r\n",
        "\r\n",
        "    # 각 날짜에 대회가 몇개 열렸는지 매칭.\r\n",
        "    cpt_cnt = [0 for i in range(len(datelist))] \r\n",
        "\r\n",
        "    for i in range(len(competition)):\r\n",
        "      s = competition.iloc[i]['period_start']\r\n",
        "      e =  competition.iloc[i]['period_end']\r\n",
        "      \r\n",
        "      t = 0\r\n",
        "      for d in datelist:\r\n",
        "        if d >= s and d<=e:\r\n",
        "          cpt_cnt[t]+=1\r\n",
        "        t+=1\r\n",
        "\r\n",
        "    date_cpt_cnt = pd.DataFrame({'date':datelist\r\n",
        "                                ,'count': cpt_cnt})\r\n",
        "    date_cpt_cnt.head()\r\n",
        "\r\n",
        "    return date_cpt_cnt\r\n"
      ],
      "execution_count": 255,
      "outputs": []
    },
    {
      "cell_type": "code",
      "metadata": {
        "colab": {
          "base_uri": "https://localhost:8080/",
          "height": 199
        },
        "id": "CyMzKCLtVRkH",
        "outputId": "e25a6d09-7622-4536-a9c1-ab7616eac8d1"
      },
      "source": [
        "competition = date_cpt_count(competition)\r\n",
        "competition.head()"
      ],
      "execution_count": 256,
      "outputs": [
        {
          "output_type": "execute_result",
          "data": {
            "text/html": [
              "<div>\n",
              "<style scoped>\n",
              "    .dataframe tbody tr th:only-of-type {\n",
              "        vertical-align: middle;\n",
              "    }\n",
              "\n",
              "    .dataframe tbody tr th {\n",
              "        vertical-align: top;\n",
              "    }\n",
              "\n",
              "    .dataframe thead th {\n",
              "        text-align: right;\n",
              "    }\n",
              "</style>\n",
              "<table border=\"1\" class=\"dataframe\">\n",
              "  <thead>\n",
              "    <tr style=\"text-align: right;\">\n",
              "      <th></th>\n",
              "      <th>date</th>\n",
              "      <th>count</th>\n",
              "    </tr>\n",
              "  </thead>\n",
              "  <tbody>\n",
              "    <tr>\n",
              "      <th>0</th>\n",
              "      <td>2018-08-14</td>\n",
              "      <td>1</td>\n",
              "    </tr>\n",
              "    <tr>\n",
              "      <th>1</th>\n",
              "      <td>2018-08-15</td>\n",
              "      <td>1</td>\n",
              "    </tr>\n",
              "    <tr>\n",
              "      <th>2</th>\n",
              "      <td>2018-08-16</td>\n",
              "      <td>1</td>\n",
              "    </tr>\n",
              "    <tr>\n",
              "      <th>3</th>\n",
              "      <td>2018-08-17</td>\n",
              "      <td>1</td>\n",
              "    </tr>\n",
              "    <tr>\n",
              "      <th>4</th>\n",
              "      <td>2018-08-18</td>\n",
              "      <td>1</td>\n",
              "    </tr>\n",
              "  </tbody>\n",
              "</table>\n",
              "</div>"
            ],
            "text/plain": [
              "         date  count\n",
              "0  2018-08-14      1\n",
              "1  2018-08-15      1\n",
              "2  2018-08-16      1\n",
              "3  2018-08-17      1\n",
              "4  2018-08-18      1"
            ]
          },
          "metadata": {
            "tags": []
          },
          "execution_count": 256
        }
      ]
    },
    {
      "cell_type": "markdown",
      "metadata": {
        "id": "4kX5yjd2VToY"
      },
      "source": [
        "###### 위 함수 생성 과정"
      ]
    },
    {
      "cell_type": "code",
      "metadata": {
        "id": "VlpVpZI4RAI1"
      },
      "source": [
        "# 대회정보 데이터\r\n",
        "# 48개의 대회\r\n",
        "\r\n",
        "#len(competition['cpt_id'].unique())\r\n",
        "#48\r\n",
        "\r\n",
        "# period_end, merge_deadline 가 크게 다르지 않으므로 period_end만 사용하기\r\n",
        "# len(competition[competition['period_end']!=competition['merge_deadline']])\r\n",
        "#29"
      ],
      "execution_count": null,
      "outputs": []
    },
    {
      "cell_type": "code",
      "metadata": {
        "colab": {
          "base_uri": "https://localhost:8080/",
          "height": 417
        },
        "id": "ISddCxEivvRt",
        "outputId": "8510a53a-5dcf-4197-e1dc-1ef96184a1fc"
      },
      "source": [
        "# datatype: datetime으로 변경\r\n",
        "competition['period_start'] =  pd.to_datetime(competition.period_start)\r\n",
        "competition['period_end'] =  pd.to_datetime(competition.period_end)\r\n",
        "competition['merge_deadline'] =  pd.to_datetime(competition.merge_deadline)\r\n",
        "\r\n",
        "# date로 변경\r\n",
        "competition['period_start'] = competition.period_start.dt.date\r\n",
        "competition['period_end'] = competition.period_end.dt.date\r\n",
        "competition['merge_deadline'] = competition.merge_deadline.dt.date\r\n",
        "competition.head(2)"
      ],
      "execution_count": 56,
      "outputs": [
        {
          "output_type": "execute_result",
          "data": {
            "text/html": [
              "<div>\n",
              "<style scoped>\n",
              "    .dataframe tbody tr th:only-of-type {\n",
              "        vertical-align: middle;\n",
              "    }\n",
              "\n",
              "    .dataframe tbody tr th {\n",
              "        vertical-align: top;\n",
              "    }\n",
              "\n",
              "    .dataframe thead th {\n",
              "        text-align: right;\n",
              "    }\n",
              "</style>\n",
              "<table border=\"1\" class=\"dataframe\">\n",
              "  <thead>\n",
              "    <tr style=\"text-align: right;\">\n",
              "      <th></th>\n",
              "      <th>cpt_id</th>\n",
              "      <th>is_official</th>\n",
              "      <th>period_start</th>\n",
              "      <th>period_end</th>\n",
              "      <th>name</th>\n",
              "      <th>name_eng</th>\n",
              "      <th>keyword</th>\n",
              "      <th>keyword_eng</th>\n",
              "      <th>participants</th>\n",
              "      <th>max_team_member</th>\n",
              "      <th>max_file_per_day</th>\n",
              "      <th>prize</th>\n",
              "      <th>prize_info</th>\n",
              "      <th>merge_deadline</th>\n",
              "      <th>winner_show</th>\n",
              "    </tr>\n",
              "  </thead>\n",
              "  <tbody>\n",
              "    <tr>\n",
              "      <th>0</th>\n",
              "      <td>136</td>\n",
              "      <td>1</td>\n",
              "      <td>2018-08-14</td>\n",
              "      <td>2018-09-13</td>\n",
              "      <td>대출 상점 총 매출 예측 경진대회</td>\n",
              "      <td>Shop Total Sales Forecast</td>\n",
              "      <td>금융 | 소상공인 신용카드 가맹점 빅데이터와 AI로 매출 예측 |  시계열, 회귀 ...</td>\n",
              "      <td>[Finance] Small Business Credit Card Merchant ...</td>\n",
              "      <td>303</td>\n",
              "      <td>5</td>\n",
              "      <td>5</td>\n",
              "      <td>850</td>\n",
              "      <td>$8,500 + 100,000ZPR</td>\n",
              "      <td>2018-09-13</td>\n",
              "      <td>3</td>\n",
              "    </tr>\n",
              "    <tr>\n",
              "      <th>1</th>\n",
              "      <td>9565</td>\n",
              "      <td>1</td>\n",
              "      <td>2018-09-15</td>\n",
              "      <td>2018-10-13</td>\n",
              "      <td>병원 개/폐업 분류 예측 경진대회</td>\n",
              "      <td>hospital opening / closing classification pred...</td>\n",
              "      <td>금융 | 병원 재무 데이터와 AI로 개업|폐업 예측 분석 |  분류 | Accuracy</td>\n",
              "      <td>[Financial] Hospital financial data and openin...</td>\n",
              "      <td>448</td>\n",
              "      <td>10</td>\n",
              "      <td>3</td>\n",
              "      <td>350</td>\n",
              "      <td>$3,500 + 40,000ZPR</td>\n",
              "      <td>2018-10-13</td>\n",
              "      <td>3</td>\n",
              "    </tr>\n",
              "  </tbody>\n",
              "</table>\n",
              "</div>"
            ],
            "text/plain": [
              "   cpt_id  is_official  ... merge_deadline winner_show\n",
              "0     136            1  ...     2018-09-13           3\n",
              "1    9565            1  ...     2018-10-13           3\n",
              "\n",
              "[2 rows x 15 columns]"
            ]
          },
          "metadata": {
            "tags": []
          },
          "execution_count": 56
        }
      ]
    },
    {
      "cell_type": "code",
      "metadata": {
        "colab": {
          "base_uri": "https://localhost:8080/"
        },
        "id": "oNmbtuTv-JGQ",
        "outputId": "5d005c4d-6ff4-4017-ee80-72d18257a54a"
      },
      "source": [
        "start = competition['period_start'].min()\r\n",
        "end = competition['period_end'].max()\r\n",
        "\r\n",
        "print(start, ' ~ ', end)"
      ],
      "execution_count": 224,
      "outputs": [
        {
          "output_type": "stream",
          "text": [
            "2018-08-14  ~  2021-01-26\n"
          ],
          "name": "stdout"
        }
      ]
    },
    {
      "cell_type": "code",
      "metadata": {
        "colab": {
          "base_uri": "https://localhost:8080/"
        },
        "id": "lz0aiQmn9flf",
        "outputId": "2b496651-902d-4027-a21e-18f73d0211c4"
      },
      "source": [
        "from datetime import date, timedelta\r\n",
        "\r\n",
        "datelist = []\r\n",
        "\r\n",
        "for i in range((end-start).days +1):\r\n",
        "  datelist.append(start+timedelta(days=i))\r\n",
        "\r\n",
        "datelist[:5]"
      ],
      "execution_count": 225,
      "outputs": [
        {
          "output_type": "execute_result",
          "data": {
            "text/plain": [
              "[datetime.date(2018, 8, 14),\n",
              " datetime.date(2018, 8, 15),\n",
              " datetime.date(2018, 8, 16),\n",
              " datetime.date(2018, 8, 17),\n",
              " datetime.date(2018, 8, 18)]"
            ]
          },
          "metadata": {
            "tags": []
          },
          "execution_count": 225
        }
      ]
    },
    {
      "cell_type": "code",
      "metadata": {
        "colab": {
          "base_uri": "https://localhost:8080/",
          "height": 199
        },
        "id": "o1MztV55BDNs",
        "outputId": "909b778d-fa55-479a-97f0-cb39c59ab2d3"
      },
      "source": [
        "# 각 날짜에 대회가 몇개 열렸는지 매칭.\r\n",
        "\r\n",
        "cpt_cnt = [0 for i in range(len(datelist))] \r\n",
        "\r\n",
        "for i in range(len(competition)):\r\n",
        "  s = competition.iloc[i]['period_start']\r\n",
        "  e =  competition.iloc[i]['period_end']\r\n",
        "  \r\n",
        "  t = 0\r\n",
        "  for d in datelist:\r\n",
        "    if d >= s and d<=e:\r\n",
        "      cpt_cnt[t]+=1\r\n",
        "    t+=1\r\n",
        "\r\n",
        "date_cpt_cnt = pd.DataFrame({'date':datelist\r\n",
        "                            ,'count': cpt_cnt})\r\n",
        "date_cpt_cnt.head()"
      ],
      "execution_count": 227,
      "outputs": [
        {
          "output_type": "execute_result",
          "data": {
            "text/html": [
              "<div>\n",
              "<style scoped>\n",
              "    .dataframe tbody tr th:only-of-type {\n",
              "        vertical-align: middle;\n",
              "    }\n",
              "\n",
              "    .dataframe tbody tr th {\n",
              "        vertical-align: top;\n",
              "    }\n",
              "\n",
              "    .dataframe thead th {\n",
              "        text-align: right;\n",
              "    }\n",
              "</style>\n",
              "<table border=\"1\" class=\"dataframe\">\n",
              "  <thead>\n",
              "    <tr style=\"text-align: right;\">\n",
              "      <th></th>\n",
              "      <th>date</th>\n",
              "      <th>count</th>\n",
              "    </tr>\n",
              "  </thead>\n",
              "  <tbody>\n",
              "    <tr>\n",
              "      <th>0</th>\n",
              "      <td>2018-08-14</td>\n",
              "      <td>1</td>\n",
              "    </tr>\n",
              "    <tr>\n",
              "      <th>1</th>\n",
              "      <td>2018-08-15</td>\n",
              "      <td>1</td>\n",
              "    </tr>\n",
              "    <tr>\n",
              "      <th>2</th>\n",
              "      <td>2018-08-16</td>\n",
              "      <td>1</td>\n",
              "    </tr>\n",
              "    <tr>\n",
              "      <th>3</th>\n",
              "      <td>2018-08-17</td>\n",
              "      <td>1</td>\n",
              "    </tr>\n",
              "    <tr>\n",
              "      <th>4</th>\n",
              "      <td>2018-08-18</td>\n",
              "      <td>1</td>\n",
              "    </tr>\n",
              "  </tbody>\n",
              "</table>\n",
              "</div>"
            ],
            "text/plain": [
              "         date  count\n",
              "0  2018-08-14      1\n",
              "1  2018-08-15      1\n",
              "2  2018-08-16      1\n",
              "3  2018-08-17      1\n",
              "4  2018-08-18      1"
            ]
          },
          "metadata": {
            "tags": []
          },
          "execution_count": 227
        }
      ]
    },
    {
      "cell_type": "code",
      "metadata": {
        "colab": {
          "base_uri": "https://localhost:8080/"
        },
        "id": "V84kopqGMMvX",
        "outputId": "87537b65-824a-4f0c-b237-bfbad78d9b42"
      },
      "source": [
        "date_cpt_cnt.shape"
      ],
      "execution_count": 228,
      "outputs": [
        {
          "output_type": "execute_result",
          "data": {
            "text/plain": [
              "(897, 2)"
            ]
          },
          "metadata": {
            "tags": []
          },
          "execution_count": 228
        }
      ]
    },
    {
      "cell_type": "markdown",
      "metadata": {
        "id": "M-nqMth6966w"
      },
      "source": [
        "### train 전처리"
      ]
    },
    {
      "cell_type": "code",
      "metadata": {
        "colab": {
          "base_uri": "https://localhost:8080/",
          "height": 352
        },
        "id": "MB-KiRHF92gN",
        "outputId": "5d0166cb-a4e4-42d2-ea59-891866a31565"
      },
      "source": [
        "# scaling\r\n",
        "\r\n",
        "mini = train.iloc[:,:5].min()\r\n",
        "size = train.iloc[:,:5].max() - train.iloc[:,:5].min()\r\n",
        "train.iloc[:,:5] = (train.iloc[:,:5] -  mini) / size\r\n",
        "train.head()"
      ],
      "execution_count": null,
      "outputs": [
        {
          "output_type": "execute_result",
          "data": {
            "text/html": [
              "<div>\n",
              "<style scoped>\n",
              "    .dataframe tbody tr th:only-of-type {\n",
              "        vertical-align: middle;\n",
              "    }\n",
              "\n",
              "    .dataframe tbody tr th {\n",
              "        vertical-align: top;\n",
              "    }\n",
              "\n",
              "    .dataframe thead th {\n",
              "        text-align: right;\n",
              "    }\n",
              "</style>\n",
              "<table border=\"1\" class=\"dataframe\">\n",
              "  <thead>\n",
              "    <tr style=\"text-align: right;\">\n",
              "      <th></th>\n",
              "      <th>사용자</th>\n",
              "      <th>세션</th>\n",
              "      <th>신규방문자</th>\n",
              "      <th>페이지뷰</th>\n",
              "      <th>PV/UV</th>\n",
              "      <th>dayofyear_0</th>\n",
              "      <th>dayofyear_1</th>\n",
              "      <th>dayofyear_2</th>\n",
              "      <th>dayofyear_3</th>\n",
              "      <th>dayofyear_4</th>\n",
              "      <th>dayofyear_5</th>\n",
              "      <th>dayofyear_6</th>\n",
              "      <th>dayofyear_7</th>\n",
              "      <th>dayofyear_8</th>\n",
              "      <th>dayofyear_9</th>\n",
              "      <th>dayofmonth_0</th>\n",
              "      <th>dayofmonth_1</th>\n",
              "      <th>dayofmonth_2</th>\n",
              "      <th>dayofmonth_3</th>\n",
              "      <th>dayofmonth_4</th>\n",
              "      <th>dayofmonth_5</th>\n",
              "      <th>weekofyear_0</th>\n",
              "      <th>weekofyear_1</th>\n",
              "      <th>weekofyear_2</th>\n",
              "      <th>weekofyear_3</th>\n",
              "      <th>weekofyear_4</th>\n",
              "      <th>weekofyear_5</th>\n",
              "      <th>weekofyear_6</th>\n",
              "      <th>dayofweek_0</th>\n",
              "      <th>dayofweek_1</th>\n",
              "      <th>dayofweek_2</th>\n",
              "      <th>dayofweek_3</th>\n",
              "      <th>dayofweek_4</th>\n",
              "      <th>dayofweek_5</th>\n",
              "      <th>dayofweek_6</th>\n",
              "      <th>quarter_1</th>\n",
              "      <th>quarter_2</th>\n",
              "      <th>quarter_3</th>\n",
              "      <th>quarter_4</th>\n",
              "      <th>month_1</th>\n",
              "      <th>month_2</th>\n",
              "      <th>month_3</th>\n",
              "      <th>month_4</th>\n",
              "      <th>month_5</th>\n",
              "      <th>month_6</th>\n",
              "      <th>month_7</th>\n",
              "      <th>month_8</th>\n",
              "      <th>month_9</th>\n",
              "      <th>month_10</th>\n",
              "      <th>month_11</th>\n",
              "      <th>month_12</th>\n",
              "      <th>year_2018</th>\n",
              "      <th>year_2019</th>\n",
              "      <th>year_2020</th>\n",
              "    </tr>\n",
              "    <tr>\n",
              "      <th>date</th>\n",
              "      <th></th>\n",
              "      <th></th>\n",
              "      <th></th>\n",
              "      <th></th>\n",
              "      <th></th>\n",
              "      <th></th>\n",
              "      <th></th>\n",
              "      <th></th>\n",
              "      <th></th>\n",
              "      <th></th>\n",
              "      <th></th>\n",
              "      <th></th>\n",
              "      <th></th>\n",
              "      <th></th>\n",
              "      <th></th>\n",
              "      <th></th>\n",
              "      <th></th>\n",
              "      <th></th>\n",
              "      <th></th>\n",
              "      <th></th>\n",
              "      <th></th>\n",
              "      <th></th>\n",
              "      <th></th>\n",
              "      <th></th>\n",
              "      <th></th>\n",
              "      <th></th>\n",
              "      <th></th>\n",
              "      <th></th>\n",
              "      <th></th>\n",
              "      <th></th>\n",
              "      <th></th>\n",
              "      <th></th>\n",
              "      <th></th>\n",
              "      <th></th>\n",
              "      <th></th>\n",
              "      <th></th>\n",
              "      <th></th>\n",
              "      <th></th>\n",
              "      <th></th>\n",
              "      <th></th>\n",
              "      <th></th>\n",
              "      <th></th>\n",
              "      <th></th>\n",
              "      <th></th>\n",
              "      <th></th>\n",
              "      <th></th>\n",
              "      <th></th>\n",
              "      <th></th>\n",
              "      <th></th>\n",
              "      <th></th>\n",
              "      <th></th>\n",
              "      <th></th>\n",
              "      <th></th>\n",
              "      <th></th>\n",
              "    </tr>\n",
              "  </thead>\n",
              "  <tbody>\n",
              "    <tr>\n",
              "      <th>2018-09-09</th>\n",
              "      <td>0.051689</td>\n",
              "      <td>0.049083</td>\n",
              "      <td>0.042604</td>\n",
              "      <td>0.011735</td>\n",
              "      <td>0.093358</td>\n",
              "      <td>0</td>\n",
              "      <td>0</td>\n",
              "      <td>0</td>\n",
              "      <td>0</td>\n",
              "      <td>0</td>\n",
              "      <td>0</td>\n",
              "      <td>0</td>\n",
              "      <td>0</td>\n",
              "      <td>0</td>\n",
              "      <td>1</td>\n",
              "      <td>0</td>\n",
              "      <td>0</td>\n",
              "      <td>0</td>\n",
              "      <td>0</td>\n",
              "      <td>0</td>\n",
              "      <td>1</td>\n",
              "      <td>0</td>\n",
              "      <td>0</td>\n",
              "      <td>0</td>\n",
              "      <td>0</td>\n",
              "      <td>0</td>\n",
              "      <td>0</td>\n",
              "      <td>1</td>\n",
              "      <td>0</td>\n",
              "      <td>0</td>\n",
              "      <td>0</td>\n",
              "      <td>0</td>\n",
              "      <td>0</td>\n",
              "      <td>0</td>\n",
              "      <td>1</td>\n",
              "      <td>0</td>\n",
              "      <td>0</td>\n",
              "      <td>1</td>\n",
              "      <td>0</td>\n",
              "      <td>0</td>\n",
              "      <td>0</td>\n",
              "      <td>0</td>\n",
              "      <td>0</td>\n",
              "      <td>0</td>\n",
              "      <td>0</td>\n",
              "      <td>0</td>\n",
              "      <td>0</td>\n",
              "      <td>1</td>\n",
              "      <td>0</td>\n",
              "      <td>0</td>\n",
              "      <td>0</td>\n",
              "      <td>1</td>\n",
              "      <td>0</td>\n",
              "      <td>0</td>\n",
              "    </tr>\n",
              "    <tr>\n",
              "      <th>2018-09-10</th>\n",
              "      <td>0.048551</td>\n",
              "      <td>0.045564</td>\n",
              "      <td>0.029586</td>\n",
              "      <td>0.013446</td>\n",
              "      <td>0.122954</td>\n",
              "      <td>0</td>\n",
              "      <td>0</td>\n",
              "      <td>0</td>\n",
              "      <td>0</td>\n",
              "      <td>0</td>\n",
              "      <td>0</td>\n",
              "      <td>0</td>\n",
              "      <td>0</td>\n",
              "      <td>1</td>\n",
              "      <td>0</td>\n",
              "      <td>0</td>\n",
              "      <td>0</td>\n",
              "      <td>0</td>\n",
              "      <td>0</td>\n",
              "      <td>1</td>\n",
              "      <td>0</td>\n",
              "      <td>0</td>\n",
              "      <td>0</td>\n",
              "      <td>0</td>\n",
              "      <td>0</td>\n",
              "      <td>0</td>\n",
              "      <td>1</td>\n",
              "      <td>0</td>\n",
              "      <td>1</td>\n",
              "      <td>0</td>\n",
              "      <td>0</td>\n",
              "      <td>0</td>\n",
              "      <td>0</td>\n",
              "      <td>0</td>\n",
              "      <td>0</td>\n",
              "      <td>0</td>\n",
              "      <td>0</td>\n",
              "      <td>1</td>\n",
              "      <td>0</td>\n",
              "      <td>0</td>\n",
              "      <td>0</td>\n",
              "      <td>0</td>\n",
              "      <td>0</td>\n",
              "      <td>0</td>\n",
              "      <td>0</td>\n",
              "      <td>0</td>\n",
              "      <td>0</td>\n",
              "      <td>1</td>\n",
              "      <td>0</td>\n",
              "      <td>0</td>\n",
              "      <td>0</td>\n",
              "      <td>1</td>\n",
              "      <td>0</td>\n",
              "      <td>0</td>\n",
              "    </tr>\n",
              "    <tr>\n",
              "      <th>2018-09-11</th>\n",
              "      <td>0.060550</td>\n",
              "      <td>0.057233</td>\n",
              "      <td>0.033728</td>\n",
              "      <td>0.012842</td>\n",
              "      <td>0.084531</td>\n",
              "      <td>0</td>\n",
              "      <td>0</td>\n",
              "      <td>0</td>\n",
              "      <td>0</td>\n",
              "      <td>0</td>\n",
              "      <td>0</td>\n",
              "      <td>0</td>\n",
              "      <td>0</td>\n",
              "      <td>1</td>\n",
              "      <td>1</td>\n",
              "      <td>0</td>\n",
              "      <td>0</td>\n",
              "      <td>0</td>\n",
              "      <td>0</td>\n",
              "      <td>1</td>\n",
              "      <td>1</td>\n",
              "      <td>0</td>\n",
              "      <td>0</td>\n",
              "      <td>0</td>\n",
              "      <td>0</td>\n",
              "      <td>0</td>\n",
              "      <td>1</td>\n",
              "      <td>0</td>\n",
              "      <td>0</td>\n",
              "      <td>1</td>\n",
              "      <td>0</td>\n",
              "      <td>0</td>\n",
              "      <td>0</td>\n",
              "      <td>0</td>\n",
              "      <td>0</td>\n",
              "      <td>0</td>\n",
              "      <td>0</td>\n",
              "      <td>1</td>\n",
              "      <td>0</td>\n",
              "      <td>0</td>\n",
              "      <td>0</td>\n",
              "      <td>0</td>\n",
              "      <td>0</td>\n",
              "      <td>0</td>\n",
              "      <td>0</td>\n",
              "      <td>0</td>\n",
              "      <td>0</td>\n",
              "      <td>1</td>\n",
              "      <td>0</td>\n",
              "      <td>0</td>\n",
              "      <td>0</td>\n",
              "      <td>1</td>\n",
              "      <td>0</td>\n",
              "      <td>0</td>\n",
              "    </tr>\n",
              "    <tr>\n",
              "      <th>2018-09-12</th>\n",
              "      <td>0.055197</td>\n",
              "      <td>0.052973</td>\n",
              "      <td>0.026036</td>\n",
              "      <td>0.016682</td>\n",
              "      <td>0.138017</td>\n",
              "      <td>0</td>\n",
              "      <td>0</td>\n",
              "      <td>0</td>\n",
              "      <td>0</td>\n",
              "      <td>0</td>\n",
              "      <td>0</td>\n",
              "      <td>0</td>\n",
              "      <td>1</td>\n",
              "      <td>0</td>\n",
              "      <td>0</td>\n",
              "      <td>0</td>\n",
              "      <td>0</td>\n",
              "      <td>0</td>\n",
              "      <td>1</td>\n",
              "      <td>0</td>\n",
              "      <td>0</td>\n",
              "      <td>0</td>\n",
              "      <td>0</td>\n",
              "      <td>0</td>\n",
              "      <td>0</td>\n",
              "      <td>0</td>\n",
              "      <td>1</td>\n",
              "      <td>0</td>\n",
              "      <td>0</td>\n",
              "      <td>0</td>\n",
              "      <td>1</td>\n",
              "      <td>0</td>\n",
              "      <td>0</td>\n",
              "      <td>0</td>\n",
              "      <td>0</td>\n",
              "      <td>0</td>\n",
              "      <td>0</td>\n",
              "      <td>1</td>\n",
              "      <td>0</td>\n",
              "      <td>0</td>\n",
              "      <td>0</td>\n",
              "      <td>0</td>\n",
              "      <td>0</td>\n",
              "      <td>0</td>\n",
              "      <td>0</td>\n",
              "      <td>0</td>\n",
              "      <td>0</td>\n",
              "      <td>1</td>\n",
              "      <td>0</td>\n",
              "      <td>0</td>\n",
              "      <td>0</td>\n",
              "      <td>1</td>\n",
              "      <td>0</td>\n",
              "      <td>0</td>\n",
              "    </tr>\n",
              "    <tr>\n",
              "      <th>2018-09-13</th>\n",
              "      <td>0.069596</td>\n",
              "      <td>0.063530</td>\n",
              "      <td>0.028994</td>\n",
              "      <td>0.024724</td>\n",
              "      <td>0.169604</td>\n",
              "      <td>0</td>\n",
              "      <td>0</td>\n",
              "      <td>0</td>\n",
              "      <td>0</td>\n",
              "      <td>0</td>\n",
              "      <td>0</td>\n",
              "      <td>0</td>\n",
              "      <td>1</td>\n",
              "      <td>0</td>\n",
              "      <td>1</td>\n",
              "      <td>0</td>\n",
              "      <td>0</td>\n",
              "      <td>0</td>\n",
              "      <td>1</td>\n",
              "      <td>0</td>\n",
              "      <td>1</td>\n",
              "      <td>0</td>\n",
              "      <td>0</td>\n",
              "      <td>0</td>\n",
              "      <td>0</td>\n",
              "      <td>0</td>\n",
              "      <td>1</td>\n",
              "      <td>0</td>\n",
              "      <td>0</td>\n",
              "      <td>0</td>\n",
              "      <td>0</td>\n",
              "      <td>1</td>\n",
              "      <td>0</td>\n",
              "      <td>0</td>\n",
              "      <td>0</td>\n",
              "      <td>0</td>\n",
              "      <td>0</td>\n",
              "      <td>1</td>\n",
              "      <td>0</td>\n",
              "      <td>0</td>\n",
              "      <td>0</td>\n",
              "      <td>0</td>\n",
              "      <td>0</td>\n",
              "      <td>0</td>\n",
              "      <td>0</td>\n",
              "      <td>0</td>\n",
              "      <td>0</td>\n",
              "      <td>1</td>\n",
              "      <td>0</td>\n",
              "      <td>0</td>\n",
              "      <td>0</td>\n",
              "      <td>1</td>\n",
              "      <td>0</td>\n",
              "      <td>0</td>\n",
              "    </tr>\n",
              "  </tbody>\n",
              "</table>\n",
              "</div>"
            ],
            "text/plain": [
              "                 사용자        세션     신규방문자  ...  year_2018  year_2019  year_2020\n",
              "date                                      ...                                 \n",
              "2018-09-09  0.051689  0.049083  0.042604  ...          1          0          0\n",
              "2018-09-10  0.048551  0.045564  0.029586  ...          1          0          0\n",
              "2018-09-11  0.060550  0.057233  0.033728  ...          1          0          0\n",
              "2018-09-12  0.055197  0.052973  0.026036  ...          1          0          0\n",
              "2018-09-13  0.069596  0.063530  0.028994  ...          1          0          0\n",
              "\n",
              "[5 rows x 54 columns]"
            ]
          },
          "metadata": {
            "tags": []
          },
          "execution_count": 356
        }
      ]
    },
    {
      "cell_type": "code",
      "metadata": {
        "id": "c3B6jULuUW5Q",
        "colab": {
          "base_uri": "https://localhost:8080/"
        },
        "outputId": "937b66fe-b052-4c6d-d1a9-13f614e598c0"
      },
      "source": [
        "# scaling\r\n",
        "\r\n",
        "input_window = 61\r\n",
        "output_window = 61 # 7\r\n",
        "\r\n",
        "window_x = np.zeros((train.shape[0] - (input_window + output_window), input_window, 54))\r\n",
        "window_y = np.zeros((train.shape[0] - (input_window + output_window), output_window, 4))\r\n",
        "\r\n",
        "for start in range(train.shape[0] - (input_window + output_window)):\r\n",
        "    end = start + input_window    \r\n",
        "    window_x[start,:, :] = train.iloc[start : end                , : ].values\r\n",
        "    window_y[start,:, :] = train.iloc[end   : end + output_window, :4 ].values\r\n",
        "\r\n",
        "\r\n",
        "print('window_x.shape: ', window_x.shape)\r\n",
        "print('window_y.shape: ', window_y.shape)"
      ],
      "execution_count": null,
      "outputs": [
        {
          "output_type": "stream",
          "text": [
            "window_x.shape:  (670, 61, 54)\n",
            "window_y.shape:  (670, 61, 4)\n"
          ],
          "name": "stdout"
        }
      ]
    },
    {
      "cell_type": "code",
      "metadata": {
        "id": "wy1pDYOzVKDD"
      },
      "source": [
        "# window_x"
      ],
      "execution_count": null,
      "outputs": []
    },
    {
      "cell_type": "markdown",
      "metadata": {
        "id": "O3wj28kPT5GD"
      },
      "source": [
        "### 모델링"
      ]
    },
    {
      "cell_type": "markdown",
      "metadata": {
        "id": "dHc8qQZCDedw"
      },
      "source": [
        "- 시계열 데이터 임베딩 찾아서 적용해보기\r\n",
        "- 스케일링 다르게 해보기\r\n",
        "- dropout 적용해보기"
      ]
    },
    {
      "cell_type": "code",
      "metadata": {
        "id": "RMVmMfUBILC-"
      },
      "source": [
        "import tensorflow as tf\r\n",
        "from tensorflow import keras\r\n",
        "from tensorflow.keras import layers, Sequential\r\n",
        "\r\n",
        "from tensorflow.keras.layers import Dense, LSTM, Input, TimeDistributed, Dropout\r\n",
        "from tensorflow.keras.models import Model\r\n"
      ],
      "execution_count": null,
      "outputs": []
    },
    {
      "cell_type": "markdown",
      "metadata": {
        "id": "LJZU8NwSoRz5"
      },
      "source": [
        "optimizer = Adam, loss = mse, activation_function = 따로지정x"
      ]
    },
    {
      "cell_type": "code",
      "metadata": {
        "id": "GKj7gc585ToK",
        "colab": {
          "base_uri": "https://localhost:8080/"
        },
        "outputId": "9007c47f-04d9-4978-ba78-842e12a3d436"
      },
      "source": [
        "model = Sequential()\r\n",
        "model.add(LSTM(32, input_shape=(61, 54), return_sequences=True))  # (timestep, features)\r\n",
        "model.add(LSTM(32, return_sequences=True)) \r\n",
        "model.add(Dropout(0.3))\r\n",
        "model.add(LSTM(32, return_sequences=True)) \r\n",
        "# model.add(LSTM(32, return_sequences=True)) \r\n",
        "#model.add(LSTM(32, return_sequences=True)) \r\n",
        "# model.add(LSTM(32, return_sequences=True)) \r\n",
        "model.add(TimeDistributed(Dense(4)))\r\n",
        "\r\n",
        "model.summary()\r\n",
        "\r\n",
        "opt = keras.optimizers.Adam(learning_rate=0.01)\r\n",
        "model.compile(optimizer=opt, loss = 'mean_squared_error' )  # loss=tf.keras.losses.MeanSquaredError() \r\n",
        "\r\n",
        "model.fit(window_x, window_y, epochs=100, batch_size=50)\r\n",
        "\r\n"
      ],
      "execution_count": null,
      "outputs": [
        {
          "output_type": "stream",
          "text": [
            "Model: \"sequential_31\"\n",
            "_________________________________________________________________\n",
            "Layer (type)                 Output Shape              Param #   \n",
            "=================================================================\n",
            "lstm_80 (LSTM)               (None, 61, 32)            11136     \n",
            "_________________________________________________________________\n",
            "lstm_81 (LSTM)               (None, 61, 32)            8320      \n",
            "_________________________________________________________________\n",
            "dropout_1 (Dropout)          (None, 61, 32)            0         \n",
            "_________________________________________________________________\n",
            "lstm_82 (LSTM)               (None, 61, 32)            8320      \n",
            "_________________________________________________________________\n",
            "time_distributed_29 (TimeDis (None, 61, 4)             132       \n",
            "=================================================================\n",
            "Total params: 27,908\n",
            "Trainable params: 27,908\n",
            "Non-trainable params: 0\n",
            "_________________________________________________________________\n",
            "Epoch 1/100\n",
            "14/14 [==============================] - 6s 75ms/step - loss: 0.0475\n",
            "Epoch 2/100\n",
            "14/14 [==============================] - 1s 80ms/step - loss: 0.0115\n",
            "Epoch 3/100\n",
            "14/14 [==============================] - 1s 79ms/step - loss: 0.0087\n",
            "Epoch 4/100\n",
            "14/14 [==============================] - 1s 81ms/step - loss: 0.0080\n",
            "Epoch 5/100\n",
            "14/14 [==============================] - 1s 79ms/step - loss: 0.0069\n",
            "Epoch 6/100\n",
            "14/14 [==============================] - 1s 80ms/step - loss: 0.0063\n",
            "Epoch 7/100\n",
            "14/14 [==============================] - 1s 79ms/step - loss: 0.0060\n",
            "Epoch 8/100\n",
            "14/14 [==============================] - 1s 78ms/step - loss: 0.0054\n",
            "Epoch 9/100\n",
            "14/14 [==============================] - 1s 81ms/step - loss: 0.0048\n",
            "Epoch 10/100\n",
            "14/14 [==============================] - 1s 78ms/step - loss: 0.0043\n",
            "Epoch 11/100\n",
            "14/14 [==============================] - 1s 80ms/step - loss: 0.0040\n",
            "Epoch 12/100\n",
            "14/14 [==============================] - 1s 79ms/step - loss: 0.0036\n",
            "Epoch 13/100\n",
            "14/14 [==============================] - 1s 80ms/step - loss: 0.0035\n",
            "Epoch 14/100\n",
            "14/14 [==============================] - 1s 80ms/step - loss: 0.0032\n",
            "Epoch 15/100\n",
            "14/14 [==============================] - 1s 80ms/step - loss: 0.0030\n",
            "Epoch 16/100\n",
            "14/14 [==============================] - 1s 79ms/step - loss: 0.0027\n",
            "Epoch 17/100\n",
            "14/14 [==============================] - 1s 80ms/step - loss: 0.0026\n",
            "Epoch 18/100\n",
            "14/14 [==============================] - 1s 79ms/step - loss: 0.0025\n",
            "Epoch 19/100\n",
            "14/14 [==============================] - 1s 79ms/step - loss: 0.0024\n",
            "Epoch 20/100\n",
            "14/14 [==============================] - 1s 80ms/step - loss: 0.0023\n",
            "Epoch 21/100\n",
            "14/14 [==============================] - 1s 80ms/step - loss: 0.0021\n",
            "Epoch 22/100\n",
            "14/14 [==============================] - 1s 79ms/step - loss: 0.0021\n",
            "Epoch 23/100\n",
            "14/14 [==============================] - 1s 80ms/step - loss: 0.0019\n",
            "Epoch 24/100\n",
            "14/14 [==============================] - 1s 82ms/step - loss: 0.0018\n",
            "Epoch 25/100\n",
            "14/14 [==============================] - 1s 80ms/step - loss: 0.0017\n",
            "Epoch 26/100\n",
            "14/14 [==============================] - 1s 81ms/step - loss: 0.0016\n",
            "Epoch 27/100\n",
            "14/14 [==============================] - 1s 81ms/step - loss: 0.0016\n",
            "Epoch 28/100\n",
            "14/14 [==============================] - 1s 80ms/step - loss: 0.0015\n",
            "Epoch 29/100\n",
            "14/14 [==============================] - 1s 81ms/step - loss: 0.0015\n",
            "Epoch 30/100\n",
            "14/14 [==============================] - 1s 83ms/step - loss: 0.0014\n",
            "Epoch 31/100\n",
            "14/14 [==============================] - 1s 80ms/step - loss: 0.0013\n",
            "Epoch 32/100\n",
            "14/14 [==============================] - 1s 80ms/step - loss: 0.0012\n",
            "Epoch 33/100\n",
            "14/14 [==============================] - 1s 79ms/step - loss: 0.0012\n",
            "Epoch 34/100\n",
            "14/14 [==============================] - 1s 79ms/step - loss: 0.0011\n",
            "Epoch 35/100\n",
            "14/14 [==============================] - 1s 80ms/step - loss: 0.0013\n",
            "Epoch 36/100\n",
            "14/14 [==============================] - 1s 80ms/step - loss: 0.0013\n",
            "Epoch 37/100\n",
            "14/14 [==============================] - 1s 81ms/step - loss: 0.0012\n",
            "Epoch 38/100\n",
            "14/14 [==============================] - 1s 79ms/step - loss: 0.0010\n",
            "Epoch 39/100\n",
            "14/14 [==============================] - 1s 79ms/step - loss: 9.5307e-04\n",
            "Epoch 40/100\n",
            "14/14 [==============================] - 1s 81ms/step - loss: 9.2028e-04\n",
            "Epoch 41/100\n",
            "14/14 [==============================] - 1s 79ms/step - loss: 8.6329e-04\n",
            "Epoch 42/100\n",
            "14/14 [==============================] - 1s 81ms/step - loss: 8.4291e-04\n",
            "Epoch 43/100\n",
            "14/14 [==============================] - 1s 81ms/step - loss: 8.0851e-04\n",
            "Epoch 44/100\n",
            "14/14 [==============================] - 1s 80ms/step - loss: 8.3028e-04\n",
            "Epoch 45/100\n",
            "14/14 [==============================] - 1s 80ms/step - loss: 7.6659e-04\n",
            "Epoch 46/100\n",
            "14/14 [==============================] - 1s 81ms/step - loss: 7.6686e-04\n",
            "Epoch 47/100\n",
            "14/14 [==============================] - 1s 82ms/step - loss: 7.1423e-04\n",
            "Epoch 48/100\n",
            "14/14 [==============================] - 1s 80ms/step - loss: 7.2843e-04\n",
            "Epoch 49/100\n",
            "14/14 [==============================] - 1s 80ms/step - loss: 6.7332e-04\n",
            "Epoch 50/100\n",
            "14/14 [==============================] - 1s 80ms/step - loss: 6.7649e-04\n",
            "Epoch 51/100\n",
            "14/14 [==============================] - 1s 79ms/step - loss: 6.5510e-04\n",
            "Epoch 52/100\n",
            "14/14 [==============================] - 1s 82ms/step - loss: 6.5731e-04\n",
            "Epoch 53/100\n",
            "14/14 [==============================] - 1s 83ms/step - loss: 6.4344e-04\n",
            "Epoch 54/100\n",
            "14/14 [==============================] - 1s 81ms/step - loss: 6.5810e-04\n",
            "Epoch 55/100\n",
            "14/14 [==============================] - 1s 80ms/step - loss: 7.3956e-04\n",
            "Epoch 56/100\n",
            "14/14 [==============================] - 1s 82ms/step - loss: 6.3059e-04\n",
            "Epoch 57/100\n",
            "14/14 [==============================] - 1s 80ms/step - loss: 5.9093e-04\n",
            "Epoch 58/100\n",
            "14/14 [==============================] - 1s 82ms/step - loss: 5.8112e-04\n",
            "Epoch 59/100\n",
            "14/14 [==============================] - 1s 82ms/step - loss: 5.8523e-04\n",
            "Epoch 60/100\n",
            "14/14 [==============================] - 1s 81ms/step - loss: 5.5363e-04\n",
            "Epoch 61/100\n",
            "14/14 [==============================] - 1s 79ms/step - loss: 5.6315e-04\n",
            "Epoch 62/100\n",
            "14/14 [==============================] - 1s 82ms/step - loss: 5.5099e-04\n",
            "Epoch 63/100\n",
            "14/14 [==============================] - 1s 80ms/step - loss: 5.6419e-04\n",
            "Epoch 64/100\n",
            "14/14 [==============================] - 1s 82ms/step - loss: 5.2485e-04\n",
            "Epoch 65/100\n",
            "14/14 [==============================] - 1s 83ms/step - loss: 5.3149e-04\n",
            "Epoch 66/100\n",
            "14/14 [==============================] - 1s 82ms/step - loss: 5.3371e-04\n",
            "Epoch 67/100\n",
            "14/14 [==============================] - 1s 84ms/step - loss: 5.1399e-04\n",
            "Epoch 68/100\n",
            "14/14 [==============================] - 1s 85ms/step - loss: 5.1408e-04\n",
            "Epoch 69/100\n",
            "14/14 [==============================] - 1s 84ms/step - loss: 5.3465e-04\n",
            "Epoch 70/100\n",
            "14/14 [==============================] - 1s 85ms/step - loss: 4.9730e-04\n",
            "Epoch 71/100\n",
            "14/14 [==============================] - 1s 83ms/step - loss: 4.8386e-04\n",
            "Epoch 72/100\n",
            "14/14 [==============================] - 1s 83ms/step - loss: 4.6327e-04\n",
            "Epoch 73/100\n",
            "14/14 [==============================] - 1s 80ms/step - loss: 4.8679e-04\n",
            "Epoch 74/100\n",
            "14/14 [==============================] - 1s 82ms/step - loss: 4.7378e-04\n",
            "Epoch 75/100\n",
            "14/14 [==============================] - 1s 83ms/step - loss: 4.4559e-04\n",
            "Epoch 76/100\n",
            "14/14 [==============================] - 1s 81ms/step - loss: 4.6958e-04\n",
            "Epoch 77/100\n",
            "14/14 [==============================] - 1s 82ms/step - loss: 4.4371e-04\n",
            "Epoch 78/100\n",
            "14/14 [==============================] - 1s 80ms/step - loss: 4.6576e-04\n",
            "Epoch 79/100\n",
            "14/14 [==============================] - 1s 83ms/step - loss: 4.3515e-04\n",
            "Epoch 80/100\n",
            "14/14 [==============================] - 1s 84ms/step - loss: 4.2612e-04\n",
            "Epoch 81/100\n",
            "14/14 [==============================] - 1s 82ms/step - loss: 4.2135e-04\n",
            "Epoch 82/100\n",
            "14/14 [==============================] - 1s 81ms/step - loss: 4.7057e-04\n",
            "Epoch 83/100\n",
            "14/14 [==============================] - 1s 83ms/step - loss: 4.5300e-04\n",
            "Epoch 84/100\n",
            "14/14 [==============================] - 1s 81ms/step - loss: 4.2883e-04\n",
            "Epoch 85/100\n",
            "14/14 [==============================] - 1s 82ms/step - loss: 4.2153e-04\n",
            "Epoch 86/100\n",
            "14/14 [==============================] - 1s 82ms/step - loss: 4.1474e-04\n",
            "Epoch 87/100\n",
            "14/14 [==============================] - 1s 82ms/step - loss: 4.3187e-04\n",
            "Epoch 88/100\n",
            "14/14 [==============================] - 1s 80ms/step - loss: 5.1552e-04\n",
            "Epoch 89/100\n",
            "14/14 [==============================] - 1s 80ms/step - loss: 4.2776e-04\n",
            "Epoch 90/100\n",
            "14/14 [==============================] - 1s 82ms/step - loss: 4.0277e-04\n",
            "Epoch 91/100\n",
            "14/14 [==============================] - 1s 83ms/step - loss: 3.9803e-04\n",
            "Epoch 92/100\n",
            "14/14 [==============================] - 1s 80ms/step - loss: 3.8817e-04\n",
            "Epoch 93/100\n",
            "14/14 [==============================] - 1s 81ms/step - loss: 4.0221e-04\n",
            "Epoch 94/100\n",
            "14/14 [==============================] - 1s 81ms/step - loss: 3.7406e-04\n",
            "Epoch 95/100\n",
            "14/14 [==============================] - 1s 83ms/step - loss: 3.5897e-04\n",
            "Epoch 96/100\n",
            "14/14 [==============================] - 1s 81ms/step - loss: 4.0698e-04\n",
            "Epoch 97/100\n",
            "14/14 [==============================] - 1s 81ms/step - loss: 4.1595e-04\n",
            "Epoch 98/100\n",
            "14/14 [==============================] - 1s 81ms/step - loss: 3.5413e-04\n",
            "Epoch 99/100\n",
            "14/14 [==============================] - 1s 81ms/step - loss: 3.7534e-04\n",
            "Epoch 100/100\n",
            "14/14 [==============================] - 1s 82ms/step - loss: 3.7736e-04\n"
          ],
          "name": "stdout"
        },
        {
          "output_type": "execute_result",
          "data": {
            "text/plain": [
              "<tensorflow.python.keras.callbacks.History at 0x7f0cda68e128>"
            ]
          },
          "metadata": {
            "tags": []
          },
          "execution_count": 425
        }
      ]
    },
    {
      "cell_type": "markdown",
      "metadata": {
        "id": "dbInac4YQ8pV"
      },
      "source": [
        "## test : last_df"
      ]
    },
    {
      "cell_type": "code",
      "metadata": {
        "colab": {
          "base_uri": "https://localhost:8080/"
        },
        "id": "hL8wR22W18Co",
        "outputId": "2535902b-cdeb-41cb-cb33-730219d92864"
      },
      "source": [
        "# train은 이미 위에서 minmax scaler적용되어있음.\r\n",
        "\r\n",
        "last_df = train.iloc[-61:,:].values[np.newaxis,...] # np.newaxis: 3D로 차원을 늘려줌. \r\n",
        "last_df.shape"
      ],
      "execution_count": null,
      "outputs": [
        {
          "output_type": "execute_result",
          "data": {
            "text/plain": [
              "(1, 61, 54)"
            ]
          },
          "metadata": {
            "tags": []
          },
          "execution_count": 426
        }
      ]
    },
    {
      "cell_type": "code",
      "metadata": {
        "colab": {
          "base_uri": "https://localhost:8080/"
        },
        "id": "qaMBTNjj2JW9",
        "outputId": "4fd0a4d7-de0b-4dbf-b65b-c55221b452ab"
      },
      "source": [
        "pred_last = model.predict(last_df)\r\n",
        "pred_last[:5]"
      ],
      "execution_count": null,
      "outputs": [
        {
          "output_type": "stream",
          "text": [
            "WARNING:tensorflow:8 out of the last 8 calls to <function Model.make_predict_function.<locals>.predict_function at 0x7f0cd9f00268> triggered tf.function retracing. Tracing is expensive and the excessive number of tracings could be due to (1) creating @tf.function repeatedly in a loop, (2) passing tensors with different shapes, (3) passing Python objects instead of tensors. For (1), please define your @tf.function outside of the loop. For (2), @tf.function has experimental_relax_shapes=True option that relaxes argument shapes that can avoid unnecessary retracing. For (3), please refer to https://www.tensorflow.org/guide/function#controlling_retracing and https://www.tensorflow.org/api_docs/python/tf/function for  more details.\n"
          ],
          "name": "stdout"
        },
        {
          "output_type": "execute_result",
          "data": {
            "text/plain": [
              "array([[[0.6046039 , 0.61066055, 0.49490568, 0.5588843 ],\n",
              "        [0.767046  , 0.7734009 , 0.6313772 , 0.72006106],\n",
              "        [0.7236427 , 0.73155487, 0.5751779 , 0.6643739 ],\n",
              "        [0.6641102 , 0.67467004, 0.53192174, 0.57202774],\n",
              "        [0.70445776, 0.71485615, 0.606465  , 0.6294049 ],\n",
              "        [0.53957283, 0.5420397 , 0.43475717, 0.45205396],\n",
              "        [0.521287  , 0.5224417 , 0.41803476, 0.40313062],\n",
              "        [0.762557  , 0.77231205, 0.6795602 , 0.629499  ],\n",
              "        [0.75297964, 0.7576839 , 0.67168534, 0.6297535 ],\n",
              "        [0.66779387, 0.6694174 , 0.5764854 , 0.53290915],\n",
              "        [0.64455837, 0.641731  , 0.5552491 , 0.51217455],\n",
              "        [0.62130374, 0.6136826 , 0.52911806, 0.50189984],\n",
              "        [0.5059888 , 0.49363363, 0.392377  , 0.39104706],\n",
              "        [0.518793  , 0.50811625, 0.39360896, 0.3799806 ],\n",
              "        [0.7632497 , 0.76626927, 0.6598749 , 0.6305615 ],\n",
              "        [0.6324513 , 0.6281407 , 0.5052076 , 0.5042576 ],\n",
              "        [0.68371   , 0.6794914 , 0.54196346, 0.5858864 ],\n",
              "        [0.6153543 , 0.60710204, 0.46709657, 0.5271101 ],\n",
              "        [0.6831356 , 0.6791019 , 0.58197963, 0.6195314 ],\n",
              "        [0.49794626, 0.48874635, 0.3656665 , 0.43887627],\n",
              "        [0.5415737 , 0.52982926, 0.36825594, 0.4675678 ],\n",
              "        [0.807693  , 0.8140825 , 0.6790706 , 0.7791534 ],\n",
              "        [0.71834266, 0.71445024, 0.5516877 , 0.67901945],\n",
              "        [0.48374385, 0.46986002, 0.2730946 , 0.39861697],\n",
              "        [0.6287776 , 0.6199498 , 0.4246743 , 0.5489889 ],\n",
              "        [0.569545  , 0.5618872 , 0.39281043, 0.49092475],\n",
              "        [0.40352154, 0.39430147, 0.24949294, 0.3259286 ],\n",
              "        [0.36039692, 0.3528114 , 0.21721794, 0.2788958 ],\n",
              "        [0.57501453, 0.5723268 , 0.39617538, 0.46745178],\n",
              "        [0.50836474, 0.504908  , 0.34346053, 0.390984  ],\n",
              "        [0.4010545 , 0.39733052, 0.25324565, 0.28516775],\n",
              "        [0.38767207, 0.38632667, 0.25345582, 0.26991564],\n",
              "        [0.41901731, 0.41807753, 0.28425598, 0.29893664],\n",
              "        [0.381751  , 0.38195074, 0.26266962, 0.272355  ],\n",
              "        [0.35989726, 0.36165488, 0.24180709, 0.25005192],\n",
              "        [0.45902056, 0.46172363, 0.31368583, 0.3352085 ],\n",
              "        [0.41581845, 0.41479856, 0.2674454 , 0.29803246],\n",
              "        [0.40214747, 0.402578  , 0.25786096, 0.28742623],\n",
              "        [0.43418175, 0.4366941 , 0.29334384, 0.306708  ],\n",
              "        [0.4528454 , 0.4559536 , 0.32124314, 0.3158698 ],\n",
              "        [0.3974042 , 0.4000361 , 0.28866798, 0.27344456],\n",
              "        [0.39224863, 0.39681107, 0.30171886, 0.27426636],\n",
              "        [0.5263492 , 0.5320933 , 0.4564821 , 0.40486598],\n",
              "        [0.40798867, 0.40919644, 0.32416087, 0.30400446],\n",
              "        [0.3348477 , 0.33512163, 0.24947272, 0.24823052],\n",
              "        [0.36979157, 0.37043965, 0.28302076, 0.27469748],\n",
              "        [0.34442925, 0.34331748, 0.25596133, 0.2500214 ],\n",
              "        [0.28123927, 0.27926272, 0.19601981, 0.19615093],\n",
              "        [0.26556107, 0.26210493, 0.1697128 , 0.18222377],\n",
              "        [0.4563567 , 0.45902282, 0.366433  , 0.3445145 ],\n",
              "        [0.35026634, 0.34690803, 0.25292373, 0.25421757],\n",
              "        [0.2752924 , 0.27042073, 0.17748758, 0.18846664],\n",
              "        [0.41192496, 0.4123373 , 0.31095117, 0.29525816],\n",
              "        [0.38390207, 0.37913704, 0.26231566, 0.260509  ],\n",
              "        [0.4685995 , 0.46882468, 0.34458458, 0.33092505],\n",
              "        [0.44372958, 0.44328743, 0.31101236, 0.30306533],\n",
              "        [0.5391881 , 0.541584  , 0.38141996, 0.3627312 ],\n",
              "        [0.53896743, 0.53968495, 0.36624458, 0.35278112],\n",
              "        [0.5301283 , 0.53086716, 0.35567725, 0.33803982],\n",
              "        [0.5914351 , 0.596251  , 0.4336466 , 0.38266084],\n",
              "        [0.47098607, 0.46922678, 0.30808163, 0.27197054]]], dtype=float32)"
            ]
          },
          "metadata": {
            "tags": []
          },
          "execution_count": 427
        }
      ]
    },
    {
      "cell_type": "code",
      "metadata": {
        "colab": {
          "base_uri": "https://localhost:8080/"
        },
        "id": "HoED9_139dCn",
        "outputId": "5ee681b9-e5cc-4f00-f876-e27917d4709b"
      },
      "source": [
        "pred_last = pred_last.reshape(output_window,4)\r\n",
        "pred_last = pred_last * size[:4].values + mini[:4].values\r\n",
        "pred_last = pred_last.astype(int)\r\n",
        "pred_last\r\n"
      ],
      "execution_count": null,
      "outputs": [
        {
          "output_type": "execute_result",
          "data": {
            "text/plain": [
              "array([[  3276,   3297,    837,  86871],\n",
              "       [  4156,   4176,   1068, 111923],\n",
              "       [  3920,   3950,    973, 103267],\n",
              "       [  3598,   3643,    899,  88913],\n",
              "       [  3817,   3860,   1025,  97832],\n",
              "       [  2923,   2927,    735,  70266],\n",
              "       [  2824,   2821,    707,  62661],\n",
              "       [  4131,   4170,   1149,  97846],\n",
              "       [  4079,   4091,   1136,  97886],\n",
              "       [  3618,   3615,    975,  82833],\n",
              "       [  3492,   3465,    939,  79610],\n",
              "       [  3366,   3314,    895,  78013],\n",
              "       [  2741,   2666,    664,  60783],\n",
              "       [  2811,   2744,    666,  59063],\n",
              "       [  4135,   4138,   1116,  98012],\n",
              "       [  3426,   3392,    854,  78380],\n",
              "       [  3704,   3669,    916,  91068],\n",
              "       [  3334,   3278,    790,  81932],\n",
              "       [  3701,   3667,    984,  96297],\n",
              "       [  2698,   2639,    618,  68217],\n",
              "       [  2934,   2861,    623,  72677],\n",
              "       [  4376,   4396,   1148, 121108],\n",
              "       [  3892,   3858,    933, 105544],\n",
              "       [  2621,   2537,    462,  61960],\n",
              "       [  3407,   3348,    718,  85332],\n",
              "       [  3086,   3034,    664,  76307],\n",
              "       [  2186,   2129,    422,  50662],\n",
              "       [  1953,   1905,    368,  43351],\n",
              "       [  3115,   3090,    670,  72659],\n",
              "       [  2754,   2726,    581,  60773],\n",
              "       [  2173,   2146,    428,  44326],\n",
              "       [  2101,   2086,    429,  41955],\n",
              "       [  2270,   2258,    481,  46466],\n",
              "       [  2068,   2063,    444,  42334],\n",
              "       [  1950,   1953,    409,  38868],\n",
              "       [  2487,   2493,    531,  52104],\n",
              "       [  2253,   2240,    452,  46326],\n",
              "       [  2179,   2174,    436,  44677],\n",
              "       [  2352,   2358,    496,  47674],\n",
              "       [  2454,   2462,    543,  49098],\n",
              "       [  2153,   2160,    488,  42504],\n",
              "       [  2125,   2143,    510,  42632],\n",
              "       [  2852,   2873,    772,  62931],\n",
              "       [  2211,   2210,    548,  47254],\n",
              "       [  1814,   1810,    422,  38585],\n",
              "       [  2004,   2001,    479,  42699],\n",
              "       [  1866,   1854,    433,  38863],\n",
              "       [  1524,   1508,    332,  30490],\n",
              "       [  1439,   1416,    287,  28325],\n",
              "       [  2473,   2479,    620,  53550],\n",
              "       [  1898,   1873,    428,  39515],\n",
              "       [  1492,   1461,    300,  29295],\n",
              "       [  2232,   2227,    526,  45894],\n",
              "       [  2080,   2047,    444,  40493],\n",
              "       [  2539,   2532,    583,  51438],\n",
              "       [  2404,   2394,    526,  47108],\n",
              "       [  2921,   2925,    645,  56382],\n",
              "       [  2920,   2914,    619,  54835],\n",
              "       [  2872,   2867,    602,  52544],\n",
              "       [  3204,   3220,    733,  59480],\n",
              "       [  2552,   2534,    521,  42275]])"
            ]
          },
          "metadata": {
            "tags": []
          },
          "execution_count": 428
        }
      ]
    },
    {
      "cell_type": "code",
      "metadata": {
        "colab": {
          "base_uri": "https://localhost:8080/"
        },
        "id": "FY7lgRivG5-L",
        "outputId": "30ea6946-f07f-4d95-80a2-9d85b828c233"
      },
      "source": [
        "pred_last.shape"
      ],
      "execution_count": null,
      "outputs": [
        {
          "output_type": "execute_result",
          "data": {
            "text/plain": [
              "(61, 4)"
            ]
          },
          "metadata": {
            "tags": []
          },
          "execution_count": 429
        }
      ]
    },
    {
      "cell_type": "markdown",
      "metadata": {
        "id": "hkxkXBgBJ4tg"
      },
      "source": [
        "## submit"
      ]
    },
    {
      "cell_type": "code",
      "metadata": {
        "colab": {
          "base_uri": "https://localhost:8080/"
        },
        "id": "444WoejNJ4t9",
        "outputId": "98c295c6-0ca6-40ca-f8d9-5549770c3449"
      },
      "source": [
        "submission =  pd.read_csv(path + '/open_data/submission.csv', encoding = 'euc-kr')\r\n",
        "submission.shape"
      ],
      "execution_count": null,
      "outputs": [
        {
          "output_type": "execute_result",
          "data": {
            "text/plain": [
              "(61, 5)"
            ]
          },
          "metadata": {
            "tags": []
          },
          "execution_count": 430
        }
      ]
    },
    {
      "cell_type": "code",
      "metadata": {
        "colab": {
          "base_uri": "https://localhost:8080/"
        },
        "id": "HAtpKeL1J4t-",
        "outputId": "39add494-91c1-44af-a465-35eea9edbb81"
      },
      "source": [
        "pred_last.shape"
      ],
      "execution_count": null,
      "outputs": [
        {
          "output_type": "execute_result",
          "data": {
            "text/plain": [
              "(61, 4)"
            ]
          },
          "metadata": {
            "tags": []
          },
          "execution_count": 431
        }
      ]
    },
    {
      "cell_type": "code",
      "metadata": {
        "colab": {
          "base_uri": "https://localhost:8080/",
          "height": 200
        },
        "id": "3VUwY_duJ4uA",
        "outputId": "243bd21a-e293-4593-a40c-2fb9503acf5a"
      },
      "source": [
        "pred_df = pd.DataFrame(pred_last)\r\n",
        "pred_df.head()"
      ],
      "execution_count": null,
      "outputs": [
        {
          "output_type": "execute_result",
          "data": {
            "text/html": [
              "<div>\n",
              "<style scoped>\n",
              "    .dataframe tbody tr th:only-of-type {\n",
              "        vertical-align: middle;\n",
              "    }\n",
              "\n",
              "    .dataframe tbody tr th {\n",
              "        vertical-align: top;\n",
              "    }\n",
              "\n",
              "    .dataframe thead th {\n",
              "        text-align: right;\n",
              "    }\n",
              "</style>\n",
              "<table border=\"1\" class=\"dataframe\">\n",
              "  <thead>\n",
              "    <tr style=\"text-align: right;\">\n",
              "      <th></th>\n",
              "      <th>0</th>\n",
              "      <th>1</th>\n",
              "      <th>2</th>\n",
              "      <th>3</th>\n",
              "    </tr>\n",
              "  </thead>\n",
              "  <tbody>\n",
              "    <tr>\n",
              "      <th>0</th>\n",
              "      <td>3276</td>\n",
              "      <td>3297</td>\n",
              "      <td>837</td>\n",
              "      <td>86871</td>\n",
              "    </tr>\n",
              "    <tr>\n",
              "      <th>1</th>\n",
              "      <td>4156</td>\n",
              "      <td>4176</td>\n",
              "      <td>1068</td>\n",
              "      <td>111923</td>\n",
              "    </tr>\n",
              "    <tr>\n",
              "      <th>2</th>\n",
              "      <td>3920</td>\n",
              "      <td>3950</td>\n",
              "      <td>973</td>\n",
              "      <td>103267</td>\n",
              "    </tr>\n",
              "    <tr>\n",
              "      <th>3</th>\n",
              "      <td>3598</td>\n",
              "      <td>3643</td>\n",
              "      <td>899</td>\n",
              "      <td>88913</td>\n",
              "    </tr>\n",
              "    <tr>\n",
              "      <th>4</th>\n",
              "      <td>3817</td>\n",
              "      <td>3860</td>\n",
              "      <td>1025</td>\n",
              "      <td>97832</td>\n",
              "    </tr>\n",
              "  </tbody>\n",
              "</table>\n",
              "</div>"
            ],
            "text/plain": [
              "      0     1     2       3\n",
              "0  3276  3297   837   86871\n",
              "1  4156  4176  1068  111923\n",
              "2  3920  3950   973  103267\n",
              "3  3598  3643   899   88913\n",
              "4  3817  3860  1025   97832"
            ]
          },
          "metadata": {
            "tags": []
          },
          "execution_count": 432
        }
      ]
    },
    {
      "cell_type": "code",
      "metadata": {
        "colab": {
          "base_uri": "https://localhost:8080/"
        },
        "id": "LFdMfTtYJ4uA",
        "outputId": "5bfe776e-014c-4d1c-aa55-0939e60d26ce"
      },
      "source": [
        "# 30까지 모두 채우면 다시 0부터.\r\n",
        "\r\n",
        "for i in range(len(submission)):\r\n",
        "  submission['사용자'][i] = pred_df[0][i]\r\n",
        "  submission['세션'][i] = pred_df[1][i]\r\n",
        "  submission['신규방문자'][i] = pred_df[2][i]\r\n",
        "  submission['페이지뷰'][i] = pred_df[3][i]\r\n"
      ],
      "execution_count": null,
      "outputs": [
        {
          "output_type": "stream",
          "text": [
            "/usr/local/lib/python3.6/dist-packages/ipykernel_launcher.py:4: SettingWithCopyWarning: \n",
            "A value is trying to be set on a copy of a slice from a DataFrame\n",
            "\n",
            "See the caveats in the documentation: https://pandas.pydata.org/pandas-docs/stable/user_guide/indexing.html#returning-a-view-versus-a-copy\n",
            "  after removing the cwd from sys.path.\n",
            "/usr/local/lib/python3.6/dist-packages/ipykernel_launcher.py:5: SettingWithCopyWarning: \n",
            "A value is trying to be set on a copy of a slice from a DataFrame\n",
            "\n",
            "See the caveats in the documentation: https://pandas.pydata.org/pandas-docs/stable/user_guide/indexing.html#returning-a-view-versus-a-copy\n",
            "  \"\"\"\n",
            "/usr/local/lib/python3.6/dist-packages/ipykernel_launcher.py:6: SettingWithCopyWarning: \n",
            "A value is trying to be set on a copy of a slice from a DataFrame\n",
            "\n",
            "See the caveats in the documentation: https://pandas.pydata.org/pandas-docs/stable/user_guide/indexing.html#returning-a-view-versus-a-copy\n",
            "  \n",
            "/usr/local/lib/python3.6/dist-packages/ipykernel_launcher.py:7: SettingWithCopyWarning: \n",
            "A value is trying to be set on a copy of a slice from a DataFrame\n",
            "\n",
            "See the caveats in the documentation: https://pandas.pydata.org/pandas-docs/stable/user_guide/indexing.html#returning-a-view-versus-a-copy\n",
            "  import sys\n"
          ],
          "name": "stderr"
        }
      ]
    },
    {
      "cell_type": "code",
      "metadata": {
        "colab": {
          "base_uri": "https://localhost:8080/",
          "height": 200
        },
        "id": "yYcUBxPKJ4uD",
        "outputId": "5fa53637-9161-46dd-8104-a5b72c02d7b2"
      },
      "source": [
        "submission.head()"
      ],
      "execution_count": null,
      "outputs": [
        {
          "output_type": "execute_result",
          "data": {
            "text/html": [
              "<div>\n",
              "<style scoped>\n",
              "    .dataframe tbody tr th:only-of-type {\n",
              "        vertical-align: middle;\n",
              "    }\n",
              "\n",
              "    .dataframe tbody tr th {\n",
              "        vertical-align: top;\n",
              "    }\n",
              "\n",
              "    .dataframe thead th {\n",
              "        text-align: right;\n",
              "    }\n",
              "</style>\n",
              "<table border=\"1\" class=\"dataframe\">\n",
              "  <thead>\n",
              "    <tr style=\"text-align: right;\">\n",
              "      <th></th>\n",
              "      <th>DateTime</th>\n",
              "      <th>사용자</th>\n",
              "      <th>세션</th>\n",
              "      <th>신규방문자</th>\n",
              "      <th>페이지뷰</th>\n",
              "    </tr>\n",
              "  </thead>\n",
              "  <tbody>\n",
              "    <tr>\n",
              "      <th>0</th>\n",
              "      <td>2020-11-09</td>\n",
              "      <td>3276</td>\n",
              "      <td>3297</td>\n",
              "      <td>837</td>\n",
              "      <td>86871</td>\n",
              "    </tr>\n",
              "    <tr>\n",
              "      <th>1</th>\n",
              "      <td>2020-11-10</td>\n",
              "      <td>4156</td>\n",
              "      <td>4176</td>\n",
              "      <td>1068</td>\n",
              "      <td>111923</td>\n",
              "    </tr>\n",
              "    <tr>\n",
              "      <th>2</th>\n",
              "      <td>2020-11-11</td>\n",
              "      <td>3920</td>\n",
              "      <td>3950</td>\n",
              "      <td>973</td>\n",
              "      <td>103267</td>\n",
              "    </tr>\n",
              "    <tr>\n",
              "      <th>3</th>\n",
              "      <td>2020-11-12</td>\n",
              "      <td>3598</td>\n",
              "      <td>3643</td>\n",
              "      <td>899</td>\n",
              "      <td>88913</td>\n",
              "    </tr>\n",
              "    <tr>\n",
              "      <th>4</th>\n",
              "      <td>2020-11-13</td>\n",
              "      <td>3817</td>\n",
              "      <td>3860</td>\n",
              "      <td>1025</td>\n",
              "      <td>97832</td>\n",
              "    </tr>\n",
              "  </tbody>\n",
              "</table>\n",
              "</div>"
            ],
            "text/plain": [
              "     DateTime   사용자    세션  신규방문자    페이지뷰\n",
              "0  2020-11-09  3276  3297    837   86871\n",
              "1  2020-11-10  4156  4176   1068  111923\n",
              "2  2020-11-11  3920  3950    973  103267\n",
              "3  2020-11-12  3598  3643    899   88913\n",
              "4  2020-11-13  3817  3860   1025   97832"
            ]
          },
          "metadata": {
            "tags": []
          },
          "execution_count": 434
        }
      ]
    },
    {
      "cell_type": "code",
      "metadata": {
        "id": "UeUT41zKMnRF"
      },
      "source": [
        "submission.to_csv('feature 추가1.csv', index = False, encoding = 'euc-kr')"
      ],
      "execution_count": null,
      "outputs": []
    },
    {
      "cell_type": "markdown",
      "metadata": {
        "id": "G0ARyON_J5BK"
      },
      "source": [
        "#### 결과 제일 좋았던, 나빴던 파일이랑 predict를 비교"
      ]
    },
    {
      "cell_type": "code",
      "metadata": {
        "id": "XvVXjaIEVWvr"
      },
      "source": [
        "path2 = \"/content/drive/MyDrive/Colab Notebooks/DACONCUP 주희\""
      ],
      "execution_count": null,
      "outputs": []
    },
    {
      "cell_type": "code",
      "metadata": {
        "colab": {
          "base_uri": "https://localhost:8080/",
          "height": 230
        },
        "id": "kSyu8nZ2J85o",
        "outputId": "7dbe1be8-9f32-4983-bd26-577bce995836"
      },
      "source": [
        "best = pd.read_csv(path2 + '/submit/add 날짜feature.csv', encoding = 'euc-kr')\r\n",
        "best.set_index('DateTime', inplace = True)\r\n",
        "best.index = pd.to_datetime(best.index)\r\n",
        "best.head()"
      ],
      "execution_count": null,
      "outputs": [
        {
          "output_type": "execute_result",
          "data": {
            "text/html": [
              "<div>\n",
              "<style scoped>\n",
              "    .dataframe tbody tr th:only-of-type {\n",
              "        vertical-align: middle;\n",
              "    }\n",
              "\n",
              "    .dataframe tbody tr th {\n",
              "        vertical-align: top;\n",
              "    }\n",
              "\n",
              "    .dataframe thead th {\n",
              "        text-align: right;\n",
              "    }\n",
              "</style>\n",
              "<table border=\"1\" class=\"dataframe\">\n",
              "  <thead>\n",
              "    <tr style=\"text-align: right;\">\n",
              "      <th></th>\n",
              "      <th>사용자</th>\n",
              "      <th>세션</th>\n",
              "      <th>신규방문자</th>\n",
              "      <th>페이지뷰</th>\n",
              "    </tr>\n",
              "    <tr>\n",
              "      <th>DateTime</th>\n",
              "      <th></th>\n",
              "      <th></th>\n",
              "      <th></th>\n",
              "      <th></th>\n",
              "    </tr>\n",
              "  </thead>\n",
              "  <tbody>\n",
              "    <tr>\n",
              "      <th>2020-11-09</th>\n",
              "      <td>3890</td>\n",
              "      <td>3868</td>\n",
              "      <td>1007</td>\n",
              "      <td>105121</td>\n",
              "    </tr>\n",
              "    <tr>\n",
              "      <th>2020-11-10</th>\n",
              "      <td>4455</td>\n",
              "      <td>4400</td>\n",
              "      <td>1193</td>\n",
              "      <td>127747</td>\n",
              "    </tr>\n",
              "    <tr>\n",
              "      <th>2020-11-11</th>\n",
              "      <td>3349</td>\n",
              "      <td>3331</td>\n",
              "      <td>799</td>\n",
              "      <td>84892</td>\n",
              "    </tr>\n",
              "    <tr>\n",
              "      <th>2020-11-12</th>\n",
              "      <td>3593</td>\n",
              "      <td>3610</td>\n",
              "      <td>953</td>\n",
              "      <td>86143</td>\n",
              "    </tr>\n",
              "    <tr>\n",
              "      <th>2020-11-13</th>\n",
              "      <td>2934</td>\n",
              "      <td>2882</td>\n",
              "      <td>689</td>\n",
              "      <td>72484</td>\n",
              "    </tr>\n",
              "  </tbody>\n",
              "</table>\n",
              "</div>"
            ],
            "text/plain": [
              "             사용자    세션  신규방문자    페이지뷰\n",
              "DateTime                             \n",
              "2020-11-09  3890  3868   1007  105121\n",
              "2020-11-10  4455  4400   1193  127747\n",
              "2020-11-11  3349  3331    799   84892\n",
              "2020-11-12  3593  3610    953   86143\n",
              "2020-11-13  2934  2882    689   72484"
            ]
          },
          "metadata": {
            "tags": []
          },
          "execution_count": 437
        }
      ]
    },
    {
      "cell_type": "code",
      "metadata": {
        "id": "sCT4at_iSIP5"
      },
      "source": [
        "worst = pd.read_csv('feature 추가2.csv', encoding = 'euc-kr')\r\n",
        "# worst = pd.read_csv(path2 + '/submit/lstm5 e150 b10.csv', encoding = 'euc-kr')\r\n",
        "worst.set_index('DateTime', inplace = True)\r\n",
        "worst.index = pd.to_datetime(best.index)\r\n",
        "#worst.head()"
      ],
      "execution_count": null,
      "outputs": []
    },
    {
      "cell_type": "code",
      "metadata": {
        "id": "6EvX_gyeMV9R"
      },
      "source": [
        "submission.set_index('DateTime', inplace = True)\r\n",
        "submission.index = pd.to_datetime(submission.index)\r\n",
        "# submission.head()"
      ],
      "execution_count": null,
      "outputs": []
    },
    {
      "cell_type": "code",
      "metadata": {
        "colab": {
          "base_uri": "https://localhost:8080/",
          "height": 428
        },
        "id": "qgpdgvAzKK9R",
        "outputId": "003365e1-869b-4cad-d9d7-d32b3a9607e9"
      },
      "source": [
        "# plot expected vs preducted\r\n",
        "\r\n",
        "\r\n",
        "plt.figure(figsize = (20,7))\r\n",
        "# pyplot.plot(best['사용자'], label='best')\r\n",
        "pyplot.plot(submission['사용자'], label='Predicted')\r\n",
        "pyplot.plot(worst['사용자'], label = 'worst')\r\n",
        "pyplot.legend()\r\n",
        "pyplot.show()"
      ],
      "execution_count": null,
      "outputs": [
        {
          "output_type": "display_data",
          "data": {
            "image/png": "[encoded data removed]",
            "text/plain": [
              "<Figure size 1440x504 with 1 Axes>"
            ]
          },
          "metadata": {
            "tags": [],
            "needs_background": "light"
          }
        }
      ]
    },
    {
      "cell_type": "code",
      "metadata": {
        "colab": {
          "base_uri": "https://localhost:8080/",
          "height": 428
        },
        "id": "VBs3Ig9sLHcw",
        "outputId": "b41c78fe-c436-4049-db8f-38d3545c518c"
      },
      "source": [
        "\r\n",
        "plt.figure(figsize = (20,7))\r\n",
        "pyplot.plot(best['세션'], label='best')\r\n",
        "pyplot.plot(submission['세션'], label='Predicted')\r\n",
        "# pyplot.plot(worst['세션'], label = 'worst')\r\n",
        "pyplot.legend()\r\n",
        "pyplot.show()"
      ],
      "execution_count": null,
      "outputs": [
        {
          "output_type": "display_data",
          "data": {
            "image/png": "[encoded data removed]",
            "text/plain": [
              "<Figure size 1440x504 with 1 Axes>"
            ]
          },
          "metadata": {
            "tags": [],
            "needs_background": "light"
          }
        }
      ]
    },
    {
      "cell_type": "code",
      "metadata": {
        "colab": {
          "base_uri": "https://localhost:8080/",
          "height": 428
        },
        "id": "GBhRD3aLLPV4",
        "outputId": "8cb55d61-c00a-4c33-b1b9-79239413c7c8"
      },
      "source": [
        "\r\n",
        "plt.figure(figsize = (20,7))\r\n",
        "pyplot.plot(best['신규방문자'], label='best')\r\n",
        "pyplot.plot(submission['신규방문자'], label='Predicted')\r\n",
        "pyplot.plot(worst['신규방문자'], label = 'worst')\r\n",
        "pyplot.legend()\r\n",
        "pyplot.show()"
      ],
      "execution_count": null,
      "outputs": [
        {
          "output_type": "display_data",
          "data": {
            "image/png": "[encoded data removed]",
            "text/plain": [
              "<Figure size 1440x504 with 1 Axes>"
            ]
          },
          "metadata": {
            "tags": [],
            "needs_background": "light"
          }
        }
      ]
    },
    {
      "cell_type": "code",
      "metadata": {
        "colab": {
          "base_uri": "https://localhost:8080/",
          "height": 428
        },
        "id": "NV6qNNQoLPZT",
        "outputId": "67357ba4-7bb8-4e5f-e864-52ff3d3ec80d"
      },
      "source": [
        "\r\n",
        "plt.figure(figsize = (20,7))\r\n",
        "pyplot.plot(best['페이지뷰'], label='best')\r\n",
        "#pyplot.plot(submission['페이지뷰'], label='Predicted')\r\n",
        "pyplot.plot(worst['페이지뷰'], label = 'worst')\r\n",
        "pyplot.legend()\r\n",
        "pyplot.show()"
      ],
      "execution_count": null,
      "outputs": [
        {
          "output_type": "display_data",
          "data": {
            "image/png": "[encoded data removed]",
            "text/plain": [
              "<Figure size 1440x504 with 1 Axes>"
            ]
          },
          "metadata": {
            "tags": [],
            "needs_background": "light"
          }
        }
      ]
    },
    {
      "cell_type": "markdown",
      "metadata": {
        "id": "XLF-l5iKM46Q"
      },
      "source": [
        "- 위에 잘 예측하지 못하는 부분들은 조금 튀는 값인 것 같음\r\n",
        "- 해당 일자에 어떤 특징(개최된 대회 등)을 파악\r\n",
        "- 이후 1) 제거 또는 2) 특징 적용  (추세파악과 관련없다면 제거하기)"
      ]
    },
    {
      "cell_type": "markdown",
      "metadata": {
        "id": "SmtQVQJANMUu"
      },
      "source": [
        "## 참조"
      ]
    },
    {
      "cell_type": "code",
      "metadata": {
        "id": "V4016MLpNRw7",
        "colab": {
          "base_uri": "https://localhost:8080/",
          "height": 170
        },
        "outputId": "8baf58d7-51a1-476e-e873-ec97b45b0647"
      },
      "source": [
        "# 각 변수의 크기가 다르기 때문에 가중치를 부여한 RMSE로 모델의 성능을 평가\r\n",
        "\r\n",
        "def dacon_rmse(true, pred):\r\n",
        "    # true.shape // (N,4)\r\n",
        "    # pred.shape // (N,4)\r\n",
        "    # w0, w1, w2, w3 <= train.csv의 사용자 수, 세션 수, 신규 방문자 수, 페이지 뷰 수 4가지 항목별 평균값\r\n",
        "    score = np.sqrt(np.mean(np.square(true[:,0] - pred[:,0]))) / w0 +\\\r\n",
        "            + np.sqrt(np.mean(np.square(true[:,1] - pred[:,1]))) / w1 +\\\r\n",
        "            + np.sqrt(np.mean(np.square(true[:,2] - pred[:,2]))) / w2 +\\\r\n",
        "            + np.sqrt(np.mean(np.square(true[:,3] - pred[:,3]))) / w3 +\\\r\n",
        "     return score"
      ],
      "execution_count": null,
      "outputs": [
        {
          "output_type": "error",
          "ename": "SyntaxError",
          "evalue": "ignored",
          "traceback": [
            "\u001b[0;36m  File \u001b[0;32m\"<ipython-input-282-c93dfdae34b2>\"\u001b[0;36m, line \u001b[0;32m7\u001b[0m\n\u001b[0;31m    score = np.sqrt(np.mean(np.square(true[:,0] - pred[:,0]))) / w0 +            + np.sqrt(np.mean(np.square(true[:,1] - pred[:,1]))) / w1 +            + np.sqrt(np.mean(np.square(true[:,2] - pred[:,2]))) / w2 +            + np.sqrt(np.mean(np.square(true[:,3] - pred[:,3]))) / w3 +     return score\u001b[0m\n\u001b[0m                                                                                                                                                                                                                                                                                                    ^\u001b[0m\n\u001b[0;31mSyntaxError\u001b[0m\u001b[0;31m:\u001b[0m invalid syntax\n"
          ]
        }
      ]
    },
    {
      "cell_type": "code",
      "metadata": {
        "id": "gU4pGj8uJ4uD"
      },
      "source": [
        "# 스케일링\r\n",
        "from sklearn.preprocessing import MinMaxScaler\r\n",
        "\r\n",
        "sc = MinMaxScaler()\r\n",
        "\r\n",
        "train_sc = sc.fit_transform(train)\r\n",
        "test_sc = sc.transform(test)\r\n",
        "\r\n",
        "train_sc"
      ],
      "execution_count": null,
      "outputs": []
    },
    {
      "cell_type": "code",
      "metadata": {
        "id": "Hl9q9I2KJ4uD"
      },
      "source": [
        "# date 기준 변수 만들기\r\n",
        "\r\n",
        "from datetime import datetime\r\n",
        "\r\n",
        "def create_features(df):\r\n",
        "    \"\"\"\r\n",
        "    Creates time series features from datetime index\r\n",
        "    \"\"\"\r\n",
        "    # df['DateTime'] = df.index\r\n",
        "    # df['hour'] = df['date'].dt.hour\r\n",
        "    df['dayofweek'] = pd.to_datetime(df['date']).dt.dayofweek\r\n",
        "    df['quarter'] = pd.to_datetime(df['date']).dt.quarter\r\n",
        "    df['month'] = pd.to_datetime(df['date']).dt.month\r\n",
        "    df['year'] = pd.to_datetime(df['date']).dt.year\r\n",
        "    df['dayofyear'] = pd.to_datetime(df['date']).dt.dayofyear\r\n",
        "    df['dayofmonth'] = pd.to_datetime(df['date']).dt.day\r\n",
        "    df['weekofyear'] = pd.to_datetime(df['date']).dt.weekofyear\r\n",
        "    \r\n",
        "    X = df[['사용자','세션','신규방문자','페이지뷰','date','dayofweek','quarter','month','year',\r\n",
        "           'dayofyear','dayofmonth','weekofyear']]\r\n",
        "    X.set_index('date', inplace = True)\r\n",
        "    X.index = pd.to_datetime(X.index)\r\n",
        "    return X"
      ],
      "execution_count": null,
      "outputs": []
    },
    {
      "cell_type": "code",
      "metadata": {
        "id": "J5Kvtw5oJ4uE"
      },
      "source": [
        ""
      ],
      "execution_count": null,
      "outputs": []
    },
    {
      "cell_type": "code",
      "metadata": {
        "id": "JbEwC3YfJ4uG"
      },
      "source": [
        ""
      ],
      "execution_count": null,
      "outputs": []
    },
    {
      "cell_type": "markdown",
      "metadata": {
        "id": "Li0vASmhIIhr"
      },
      "source": [
        "## 예측값을 x로 다시 predict  \r\n",
        "- 마이너스 값이 나와서 실패.."
      ]
    },
    {
      "cell_type": "code",
      "metadata": {
        "id": "5mcOvvQQH4t2"
      },
      "source": [
        "tr_month1 = pd.DataFrame(pred_month)"
      ],
      "execution_count": null,
      "outputs": []
    },
    {
      "cell_type": "code",
      "metadata": {
        "id": "adnkLDwMBGVC"
      },
      "source": [
        "# 위 예측값을 x로 사용하기.\r\n",
        "mini1 = tr_month1.iloc[:,1:].min()\r\n",
        "size1 = tr_month1.iloc[:,1:].max() - tr_month1.iloc[:,1:].min()\r\n",
        "tr_month1.iloc[:,1:] = (tr_month1.iloc[:,1:] -  mini1) / size1\r\n",
        "\r\n",
        "tr_month1 = tr_month1.iloc[:,:].values[np.newaxis,...] # np.newaxis: 3D로 차원을 늘려줌. \r\n",
        "tr_month1.shape"
      ],
      "execution_count": null,
      "outputs": []
    },
    {
      "cell_type": "code",
      "metadata": {
        "id": "ExeU6niB_gVU"
      },
      "source": [
        "pred_month1 = model.predict(tr_month1)\r\n",
        "pred_month1[:5]"
      ],
      "execution_count": null,
      "outputs": []
    },
    {
      "cell_type": "code",
      "metadata": {
        "id": "bD7YTlqWHHKq"
      },
      "source": [
        "pred_month1 = pred_month1.reshape(output_window,4)\r\n",
        "pred_month1 = pred_month1 * size.values + mini.values\r\n",
        "pred_month1 = pred_month1.astype(int)\r\n",
        "pred_month1\r\n"
      ],
      "execution_count": null,
      "outputs": []
    },
    {
      "cell_type": "markdown",
      "metadata": {
        "id": "bCmWKSqRGBGV"
      },
      "source": [
        "#### 윈도우 크기 다르게 해서 train하고 test해보기"
      ]
    },
    {
      "cell_type": "markdown",
      "metadata": {
        "id": "uyOo9JpX8t7D"
      },
      "source": [
        "aa"
      ]
    },
    {
      "cell_type": "markdown",
      "metadata": {
        "id": "HbonwFz84uV5"
      },
      "source": [
        "## test = train[-61]"
      ]
    },
    {
      "cell_type": "code",
      "metadata": {
        "id": "KE4rgNXRQWAO"
      },
      "source": [
        "test = train[-61:]\r\n",
        "test"
      ],
      "execution_count": null,
      "outputs": []
    },
    {
      "cell_type": "code",
      "metadata": {
        "id": "nkRbon7yRGz_"
      },
      "source": [
        "# scaling\r\n",
        "\r\n",
        "input_window = 30\r\n",
        "output_window = 30\r\n",
        "\r\n",
        "test_x = np.zeros((test.shape[0] - (input_window + output_window), input_window, 4))\r\n",
        "test_y = np.zeros((test.shape[0] - (input_window + output_window), output_window, 4))\r\n",
        "\r\n",
        "for start in range(test.shape[0] - (input_window + output_window)):\r\n",
        "    end = start + input_window    \r\n",
        "    test_x[start,:, :] = test.iloc[start : end                , 1: ].values\r\n",
        "    test_y[start,:, :] = test.iloc[end   : end + output_window, 1: ].values\r\n",
        "\r\n",
        "\r\n",
        "print('test_x.shape: ', test_x.shape)\r\n",
        "print('test_y.shape: ', test_y.shape)"
      ],
      "execution_count": null,
      "outputs": []
    },
    {
      "cell_type": "code",
      "metadata": {
        "id": "lhmMXuK0AYVn"
      },
      "source": [
        "pred = model.predict(test_x)\r\n",
        "pred[:5]"
      ],
      "execution_count": null,
      "outputs": []
    },
    {
      "cell_type": "code",
      "metadata": {
        "id": "GbKK46ZASpkS"
      },
      "source": [
        "pred = pred.reshape(output_window,4)\r\n",
        "pred = pred * size.values + mini.values\r\n",
        "pred = pred.astype(int)\r\n",
        "pred"
      ],
      "execution_count": null,
      "outputs": []
    },
    {
      "cell_type": "code",
      "metadata": {
        "id": "Q4E0hcLCFDwi"
      },
      "source": [
        "pred.shape"
      ],
      "execution_count": null,
      "outputs": []
    },
    {
      "cell_type": "code",
      "metadata": {
        "id": "VzeIVzfY6B1o"
      },
      "source": [
        "baseline = pd.read_csv(path + '/open_data/baseline.csv', encoding = 'euc-kr' )\r\n",
        "baseline.head()"
      ],
      "execution_count": null,
      "outputs": []
    },
    {
      "cell_type": "code",
      "metadata": {
        "id": "ofVAKwIvT8pC"
      },
      "source": [
        "last_month = train.iloc[-30:,1:].values[np.newaxis,...].astype(float) #float() # <- 수정 후\r\n",
        "last_month"
      ],
      "execution_count": null,
      "outputs": []
    },
    {
      "cell_type": "code",
      "metadata": {
        "id": "k7ITx1KxSdyg"
      },
      "source": [
        "\r\n",
        "#last_month = torch.tensor(window_x[-1,:,:][np.newaxis,...]).float().to(device) <- 수정 전\r\n",
        "last_month = train.iloc[-30:,1:].values[np.newaxis,...] # <- 수정 후\r\n",
        "# last_month = torch.tensor(last_month).float() # <- 수정 후\r\n",
        "\r\n",
        "for start in range((len(submission) - output_window)//7 + 2):\r\n",
        "    start = start * 7\r\n",
        "    next_week = model.predict(last_month)\r\n",
        "    #last_month = torch.cat([last_month[-7:], next_week], axis = 1) <- 수정 전\r\n",
        "    last_month = torch.cat([last_month[:,7:,:], next_week], axis = 1)# <- 수정 후\r\n",
        "\r\n",
        "    pred_week = next_week.reshape(output_window,4)\r\n",
        "    pred_week = pred_week * size.values + mini.values\r\n",
        "    pred_week = pred_week.astype(int)\r\n",
        "    \r\n",
        "    if start/7 == (len(submission) - output_window)//7 + 1:\r\n",
        "        submission.iloc[start :, 1:] = pred_week[-submission.iloc[start :, 1:].shape[0]:,:]\r\n",
        "    else:\r\n",
        "        submission.iloc[start : start + output_window, 1:] = pred_week\r\n",
        "submission"
      ],
      "execution_count": null,
      "outputs": []
    },
    {
      "cell_type": "code",
      "metadata": {
        "id": "REbMo_D3UfPJ"
      },
      "source": [
        ""
      ],
      "execution_count": null,
      "outputs": []
    }
  ]
}