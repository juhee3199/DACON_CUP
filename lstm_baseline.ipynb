{
  "nbformat": 4,
  "nbformat_minor": 0,
  "metadata": {
    "colab": {
      "name": "lstm-baseline.ipynb",
      "provenance": [],
      "collapsed_sections": [
        "Li0vASmhIIhr",
        "HbonwFz84uV5"
      ]
    },
    "kernelspec": {
      "name": "python3",
      "display_name": "Python 3"
    }
  },
  "cells": [
    {
      "cell_type": "code",
      "metadata": {
        "id": "WHrGQAT_3z6X"
      },
      "source": [
        "import numpy as np\r\n",
        "import pandas as pd\r\n",
        "\r\n",
        "from sklearn.model_selection import train_test_split"
      ],
      "execution_count": 90,
      "outputs": []
    },
    {
      "cell_type": "code",
      "metadata": {
        "colab": {
          "base_uri": "https://localhost:8080/"
        },
        "id": "aAIF238v4gzi",
        "outputId": "1db902a0-5a6e-4806-8a2a-d2d3a13a23bd"
      },
      "source": [
        "path = '/content/drive/MyDrive/Colab Notebooks/DACON CUP'\r\n",
        "\r\n",
        "user =  pd.read_csv(path + '/open_data/info_user.csv', encoding = 'euc-kr')\r\n",
        "login = pd.read_csv(path +'/open_data/info_login.csv', encoding = 'euc-kr')\r\n",
        "competition = pd.read_csv(path +'/open_data/info_competition.csv', encoding = 'euc-kr')\r\n",
        "info_submission =  pd.read_csv(path +'/open_data/info_submission.csv', encoding = 'euc-kr')"
      ],
      "execution_count": 91,
      "outputs": [
        {
          "output_type": "stream",
          "text": [
            "/usr/local/lib/python3.6/dist-packages/IPython/core/interactiveshell.py:2718: DtypeWarning: Columns (4,5) have mixed types.Specify dtype option on import or set low_memory=False.\n",
            "  interactivity=interactivity, compiler=compiler, result=result)\n"
          ],
          "name": "stderr"
        }
      ]
    },
    {
      "cell_type": "code",
      "metadata": {
        "id": "fH1TWRdi4eLu",
        "colab": {
          "base_uri": "https://localhost:8080/",
          "height": 200
        },
        "outputId": "1c5cce3f-d929-4279-fdfd-9a0e793a07ce"
      },
      "source": [
        "train = pd.read_csv(path + '/open_data/train.csv', encoding = 'euc-kr')\r\n",
        "train.head()"
      ],
      "execution_count": 192,
      "outputs": [
        {
          "output_type": "execute_result",
          "data": {
            "text/html": [
              "<div>\n",
              "<style scoped>\n",
              "    .dataframe tbody tr th:only-of-type {\n",
              "        vertical-align: middle;\n",
              "    }\n",
              "\n",
              "    .dataframe tbody tr th {\n",
              "        vertical-align: top;\n",
              "    }\n",
              "\n",
              "    .dataframe thead th {\n",
              "        text-align: right;\n",
              "    }\n",
              "</style>\n",
              "<table border=\"1\" class=\"dataframe\">\n",
              "  <thead>\n",
              "    <tr style=\"text-align: right;\">\n",
              "      <th></th>\n",
              "      <th>DateTime</th>\n",
              "      <th>사용자</th>\n",
              "      <th>세션</th>\n",
              "      <th>신규방문자</th>\n",
              "      <th>페이지뷰</th>\n",
              "    </tr>\n",
              "  </thead>\n",
              "  <tbody>\n",
              "    <tr>\n",
              "      <th>0</th>\n",
              "      <td>2018-09-09 00:00:00</td>\n",
              "      <td>19</td>\n",
              "      <td>19</td>\n",
              "      <td>8</td>\n",
              "      <td>206</td>\n",
              "    </tr>\n",
              "    <tr>\n",
              "      <th>1</th>\n",
              "      <td>2018-09-09 01:00:00</td>\n",
              "      <td>20</td>\n",
              "      <td>19</td>\n",
              "      <td>9</td>\n",
              "      <td>259</td>\n",
              "    </tr>\n",
              "    <tr>\n",
              "      <th>2</th>\n",
              "      <td>2018-09-09 02:00:00</td>\n",
              "      <td>12</td>\n",
              "      <td>9</td>\n",
              "      <td>1</td>\n",
              "      <td>48</td>\n",
              "    </tr>\n",
              "    <tr>\n",
              "      <th>3</th>\n",
              "      <td>2018-09-09 03:00:00</td>\n",
              "      <td>10</td>\n",
              "      <td>10</td>\n",
              "      <td>2</td>\n",
              "      <td>102</td>\n",
              "    </tr>\n",
              "    <tr>\n",
              "      <th>4</th>\n",
              "      <td>2018-09-09 04:00:00</td>\n",
              "      <td>6</td>\n",
              "      <td>5</td>\n",
              "      <td>3</td>\n",
              "      <td>18</td>\n",
              "    </tr>\n",
              "  </tbody>\n",
              "</table>\n",
              "</div>"
            ],
            "text/plain": [
              "              DateTime  사용자  세션  신규방문자  페이지뷰\n",
              "0  2018-09-09 00:00:00   19  19      8   206\n",
              "1  2018-09-09 01:00:00   20  19      9   259\n",
              "2  2018-09-09 02:00:00   12   9      1    48\n",
              "3  2018-09-09 03:00:00   10  10      2   102\n",
              "4  2018-09-09 04:00:00    6   5      3    18"
            ]
          },
          "metadata": {
            "tags": []
          },
          "execution_count": 192
        }
      ]
    },
    {
      "cell_type": "code",
      "metadata": {
        "id": "YsCktWIeAIWq",
        "colab": {
          "base_uri": "https://localhost:8080/"
        },
        "outputId": "f5738ea1-b426-4aab-e024-ecd75338c7e3"
      },
      "source": [
        "train.info()"
      ],
      "execution_count": 193,
      "outputs": [
        {
          "output_type": "stream",
          "text": [
            "<class 'pandas.core.frame.DataFrame'>\n",
            "RangeIndex: 19008 entries, 0 to 19007\n",
            "Data columns (total 5 columns):\n",
            " #   Column    Non-Null Count  Dtype \n",
            "---  ------    --------------  ----- \n",
            " 0   DateTime  19008 non-null  object\n",
            " 1   사용자       19008 non-null  int64 \n",
            " 2   세션        19008 non-null  int64 \n",
            " 3   신규방문자     19008 non-null  int64 \n",
            " 4   페이지뷰      19008 non-null  int64 \n",
            "dtypes: int64(4), object(1)\n",
            "memory usage: 742.6+ KB\n"
          ],
          "name": "stdout"
        }
      ]
    },
    {
      "cell_type": "code",
      "metadata": {
        "id": "eOujb_mO_676",
        "colab": {
          "base_uri": "https://localhost:8080/",
          "height": 200
        },
        "outputId": "7dcbcee6-c834-4c0f-e2db-465f4043439f"
      },
      "source": [
        "# date 기준으로.\r\n",
        "\r\n",
        "train['DateTime'] = pd.to_datetime(train.DateTime) #dtype: datetime으로 변경\r\n",
        "train['date'] = train.DateTime.dt.date\r\n",
        "train  = train.groupby('date').sum().reset_index()\r\n",
        "train.head()"
      ],
      "execution_count": 194,
      "outputs": [
        {
          "output_type": "execute_result",
          "data": {
            "text/html": [
              "<div>\n",
              "<style scoped>\n",
              "    .dataframe tbody tr th:only-of-type {\n",
              "        vertical-align: middle;\n",
              "    }\n",
              "\n",
              "    .dataframe tbody tr th {\n",
              "        vertical-align: top;\n",
              "    }\n",
              "\n",
              "    .dataframe thead th {\n",
              "        text-align: right;\n",
              "    }\n",
              "</style>\n",
              "<table border=\"1\" class=\"dataframe\">\n",
              "  <thead>\n",
              "    <tr style=\"text-align: right;\">\n",
              "      <th></th>\n",
              "      <th>date</th>\n",
              "      <th>사용자</th>\n",
              "      <th>세션</th>\n",
              "      <th>신규방문자</th>\n",
              "      <th>페이지뷰</th>\n",
              "    </tr>\n",
              "  </thead>\n",
              "  <tbody>\n",
              "    <tr>\n",
              "      <th>0</th>\n",
              "      <td>2018-09-09</td>\n",
              "      <td>281</td>\n",
              "      <td>266</td>\n",
              "      <td>73</td>\n",
              "      <td>1826</td>\n",
              "    </tr>\n",
              "    <tr>\n",
              "      <th>1</th>\n",
              "      <td>2018-09-10</td>\n",
              "      <td>264</td>\n",
              "      <td>247</td>\n",
              "      <td>51</td>\n",
              "      <td>2092</td>\n",
              "    </tr>\n",
              "    <tr>\n",
              "      <th>2</th>\n",
              "      <td>2018-09-11</td>\n",
              "      <td>329</td>\n",
              "      <td>310</td>\n",
              "      <td>58</td>\n",
              "      <td>1998</td>\n",
              "    </tr>\n",
              "    <tr>\n",
              "      <th>3</th>\n",
              "      <td>2018-09-12</td>\n",
              "      <td>300</td>\n",
              "      <td>287</td>\n",
              "      <td>45</td>\n",
              "      <td>2595</td>\n",
              "    </tr>\n",
              "    <tr>\n",
              "      <th>4</th>\n",
              "      <td>2018-09-13</td>\n",
              "      <td>378</td>\n",
              "      <td>344</td>\n",
              "      <td>50</td>\n",
              "      <td>3845</td>\n",
              "    </tr>\n",
              "  </tbody>\n",
              "</table>\n",
              "</div>"
            ],
            "text/plain": [
              "         date  사용자   세션  신규방문자  페이지뷰\n",
              "0  2018-09-09  281  266     73  1826\n",
              "1  2018-09-10  264  247     51  2092\n",
              "2  2018-09-11  329  310     58  1998\n",
              "3  2018-09-12  300  287     45  2595\n",
              "4  2018-09-13  378  344     50  3845"
            ]
          },
          "metadata": {
            "tags": []
          },
          "execution_count": 194
        }
      ]
    },
    {
      "cell_type": "code",
      "metadata": {
        "id": "c3B6jULuUW5Q",
        "colab": {
          "base_uri": "https://localhost:8080/"
        },
        "outputId": "382dac89-a8d9-4ce6-edc8-20233c5da510"
      },
      "source": [
        "# scaling\r\n",
        "mini = train.iloc[:,1:].min()\r\n",
        "size = train.iloc[:,1:].max() - train.iloc[:,1:].min()\r\n",
        "train.iloc[:,1:] = (train.iloc[:,1:] -  mini) / size\r\n",
        "\r\n",
        "input_window = 30\r\n",
        "output_window = 30 # 7\r\n",
        "\r\n",
        "window_x = np.zeros((train.shape[0] - (input_window + output_window), input_window, 4))\r\n",
        "window_y = np.zeros((train.shape[0] - (input_window + output_window), output_window, 4))\r\n",
        "\r\n",
        "for start in range(train.shape[0] - (input_window + output_window)):\r\n",
        "    end = start + input_window    \r\n",
        "    window_x[start,:, :] = train.iloc[start : end                , 1: ].values\r\n",
        "    window_y[start,:, :] = train.iloc[end   : end + output_window, 1: ].values\r\n",
        "\r\n",
        "\r\n",
        "print('window_x.shape: ', window_x.shape)\r\n",
        "print('window_y.shape: ', window_y.shape)"
      ],
      "execution_count": 195,
      "outputs": [
        {
          "output_type": "stream",
          "text": [
            "window_x.shape:  (732, 30, 4)\n",
            "window_y.shape:  (732, 30, 4)\n"
          ],
          "name": "stdout"
        }
      ]
    },
    {
      "cell_type": "code",
      "metadata": {
        "id": "wy1pDYOzVKDD"
      },
      "source": [
        "# window_x"
      ],
      "execution_count": 100,
      "outputs": []
    },
    {
      "cell_type": "markdown",
      "metadata": {
        "id": "dHc8qQZCDedw"
      },
      "source": [
        "- 시계열 데이터 임베딩 찾아서 적용해보기\r\n",
        "- 스케일링 다르게 해보기\r\n",
        "- dropout 적용해보기"
      ]
    },
    {
      "cell_type": "code",
      "metadata": {
        "id": "RMVmMfUBILC-"
      },
      "source": [
        "import tensorflow as tf\r\n",
        "from tensorflow import keras\r\n",
        "from tensorflow.keras import layers, Sequential\r\n",
        "\r\n",
        "from tensorflow.keras.layers import Dense, Conv1D, LSTM, Input, TimeDistributed\r\n",
        "from tensorflow.keras.models import Model\r\n"
      ],
      "execution_count": 199,
      "outputs": []
    },
    {
      "cell_type": "markdown",
      "metadata": {
        "id": "LJZU8NwSoRz5"
      },
      "source": [
        "optimizer = Adam, loss = mse, activation_function = 따로지정x"
      ]
    },
    {
      "cell_type": "code",
      "metadata": {
        "id": "GKj7gc585ToK",
        "colab": {
          "base_uri": "https://localhost:8080/"
        },
        "outputId": "3a0ebeb6-d373-41a9-b994-343d50a13648"
      },
      "source": [
        "model = Sequential()\r\n",
        "model.add(LSTM(32, input_shape=(30, 4), return_sequences=True))  # ()\r\n",
        "model.add(LSTM(32, return_sequences=True)) \r\n",
        "# model.add(LSTM(32, return_sequences=True)) \r\n",
        "model.add(TimeDistributed(Dense(4)))\r\n",
        "\r\n",
        "model.summary()\r\n",
        "\r\n",
        "opt = keras.optimizers.Adam(learning_rate=0.01)\r\n",
        "model.compile(loss='mean_squared_error', optimizer=opt)\r\n",
        "\r\n",
        "model.fit(window_x, window_y, epochs=100, batch_size=30)\r\n",
        "\r\n",
        "# lstm2층 - epochs100, batch_size=10"
      ],
      "execution_count": 200,
      "outputs": [
        {
          "output_type": "stream",
          "text": [
            "Model: \"sequential_3\"\n",
            "_________________________________________________________________\n",
            "Layer (type)                 Output Shape              Param #   \n",
            "=================================================================\n",
            "lstm_6 (LSTM)                (None, 30, 32)            4736      \n",
            "_________________________________________________________________\n",
            "lstm_7 (LSTM)                (None, 30, 32)            8320      \n",
            "_________________________________________________________________\n",
            "time_distributed_3 (TimeDist (None, 30, 4)             132       \n",
            "=================================================================\n",
            "Total params: 13,188\n",
            "Trainable params: 13,188\n",
            "Non-trainable params: 0\n",
            "_________________________________________________________________\n",
            "Epoch 1/100\n",
            "25/25 [==============================] - 4s 23ms/step - loss: 0.0217\n",
            "Epoch 2/100\n",
            "25/25 [==============================] - 1s 22ms/step - loss: 0.0101\n",
            "Epoch 3/100\n",
            "25/25 [==============================] - 1s 23ms/step - loss: 0.0096\n",
            "Epoch 4/100\n",
            "25/25 [==============================] - 1s 25ms/step - loss: 0.0091\n",
            "Epoch 5/100\n",
            "25/25 [==============================] - 1s 22ms/step - loss: 0.0091\n",
            "Epoch 6/100\n",
            "25/25 [==============================] - 1s 23ms/step - loss: 0.0085\n",
            "Epoch 7/100\n",
            "25/25 [==============================] - 1s 23ms/step - loss: 0.0090\n",
            "Epoch 8/100\n",
            "25/25 [==============================] - 1s 23ms/step - loss: 0.0076\n",
            "Epoch 9/100\n",
            "25/25 [==============================] - 1s 23ms/step - loss: 0.0080\n",
            "Epoch 10/100\n",
            "25/25 [==============================] - 1s 23ms/step - loss: 0.0075\n",
            "Epoch 11/100\n",
            "25/25 [==============================] - 1s 23ms/step - loss: 0.0067\n",
            "Epoch 12/100\n",
            "25/25 [==============================] - 1s 23ms/step - loss: 0.0067\n",
            "Epoch 13/100\n",
            "25/25 [==============================] - 1s 23ms/step - loss: 0.0069\n",
            "Epoch 14/100\n",
            "25/25 [==============================] - 1s 25ms/step - loss: 0.0066\n",
            "Epoch 15/100\n",
            "25/25 [==============================] - 1s 23ms/step - loss: 0.0062\n",
            "Epoch 16/100\n",
            "25/25 [==============================] - 1s 24ms/step - loss: 0.0061\n",
            "Epoch 17/100\n",
            "25/25 [==============================] - 1s 22ms/step - loss: 0.0057\n",
            "Epoch 18/100\n",
            "25/25 [==============================] - 1s 23ms/step - loss: 0.0058\n",
            "Epoch 19/100\n",
            "25/25 [==============================] - 1s 25ms/step - loss: 0.0064\n",
            "Epoch 20/100\n",
            "25/25 [==============================] - 1s 23ms/step - loss: 0.0059\n",
            "Epoch 21/100\n",
            "25/25 [==============================] - 1s 24ms/step - loss: 0.0060\n",
            "Epoch 22/100\n",
            "25/25 [==============================] - 1s 23ms/step - loss: 0.0053\n",
            "Epoch 23/100\n",
            "25/25 [==============================] - 1s 24ms/step - loss: 0.0053\n",
            "Epoch 24/100\n",
            "25/25 [==============================] - 1s 24ms/step - loss: 0.0052\n",
            "Epoch 25/100\n",
            "25/25 [==============================] - 1s 23ms/step - loss: 0.0048\n",
            "Epoch 26/100\n",
            "25/25 [==============================] - 1s 23ms/step - loss: 0.0053\n",
            "Epoch 27/100\n",
            "25/25 [==============================] - 1s 23ms/step - loss: 0.0045\n",
            "Epoch 28/100\n",
            "25/25 [==============================] - 1s 25ms/step - loss: 0.0045\n",
            "Epoch 29/100\n",
            "25/25 [==============================] - 1s 23ms/step - loss: 0.0042\n",
            "Epoch 30/100\n",
            "25/25 [==============================] - 1s 23ms/step - loss: 0.0051\n",
            "Epoch 31/100\n",
            "25/25 [==============================] - 1s 23ms/step - loss: 0.0047\n",
            "Epoch 32/100\n",
            "25/25 [==============================] - 1s 23ms/step - loss: 0.0041\n",
            "Epoch 33/100\n",
            "25/25 [==============================] - 1s 26ms/step - loss: 0.0042\n",
            "Epoch 34/100\n",
            "25/25 [==============================] - 1s 22ms/step - loss: 0.0040\n",
            "Epoch 35/100\n",
            "25/25 [==============================] - 1s 23ms/step - loss: 0.0042\n",
            "Epoch 36/100\n",
            "25/25 [==============================] - 1s 23ms/step - loss: 0.0043\n",
            "Epoch 37/100\n",
            "25/25 [==============================] - 1s 23ms/step - loss: 0.0038\n",
            "Epoch 38/100\n",
            "25/25 [==============================] - 1s 24ms/step - loss: 0.0037\n",
            "Epoch 39/100\n",
            "25/25 [==============================] - 1s 23ms/step - loss: 0.0034\n",
            "Epoch 40/100\n",
            "25/25 [==============================] - 1s 24ms/step - loss: 0.0035\n",
            "Epoch 41/100\n",
            "25/25 [==============================] - 1s 23ms/step - loss: 0.0030\n",
            "Epoch 42/100\n",
            "25/25 [==============================] - 1s 23ms/step - loss: 0.0030\n",
            "Epoch 43/100\n",
            "25/25 [==============================] - 1s 23ms/step - loss: 0.0030\n",
            "Epoch 44/100\n",
            "25/25 [==============================] - 1s 23ms/step - loss: 0.0031\n",
            "Epoch 45/100\n",
            "25/25 [==============================] - 1s 23ms/step - loss: 0.0028\n",
            "Epoch 46/100\n",
            "25/25 [==============================] - 1s 23ms/step - loss: 0.0031\n",
            "Epoch 47/100\n",
            "25/25 [==============================] - 1s 24ms/step - loss: 0.0027\n",
            "Epoch 48/100\n",
            "25/25 [==============================] - 1s 23ms/step - loss: 0.0026\n",
            "Epoch 49/100\n",
            "25/25 [==============================] - 1s 23ms/step - loss: 0.0026\n",
            "Epoch 50/100\n",
            "25/25 [==============================] - 1s 23ms/step - loss: 0.0031\n",
            "Epoch 51/100\n",
            "25/25 [==============================] - 1s 23ms/step - loss: 0.0027\n",
            "Epoch 52/100\n",
            "25/25 [==============================] - 1s 24ms/step - loss: 0.0025\n",
            "Epoch 53/100\n",
            "25/25 [==============================] - 1s 22ms/step - loss: 0.0022\n",
            "Epoch 54/100\n",
            "25/25 [==============================] - 1s 23ms/step - loss: 0.0026\n",
            "Epoch 55/100\n",
            "25/25 [==============================] - 1s 23ms/step - loss: 0.0023\n",
            "Epoch 56/100\n",
            "25/25 [==============================] - 1s 23ms/step - loss: 0.0022\n",
            "Epoch 57/100\n",
            "25/25 [==============================] - 1s 24ms/step - loss: 0.0021\n",
            "Epoch 58/100\n",
            "25/25 [==============================] - 1s 24ms/step - loss: 0.0021\n",
            "Epoch 59/100\n",
            "25/25 [==============================] - 1s 23ms/step - loss: 0.0021\n",
            "Epoch 60/100\n",
            "25/25 [==============================] - 1s 23ms/step - loss: 0.0021\n",
            "Epoch 61/100\n",
            "25/25 [==============================] - 1s 25ms/step - loss: 0.0019\n",
            "Epoch 62/100\n",
            "25/25 [==============================] - 1s 23ms/step - loss: 0.0020\n",
            "Epoch 63/100\n",
            "25/25 [==============================] - 1s 23ms/step - loss: 0.0021\n",
            "Epoch 64/100\n",
            "25/25 [==============================] - 1s 24ms/step - loss: 0.0020\n",
            "Epoch 65/100\n",
            "25/25 [==============================] - 1s 23ms/step - loss: 0.0020\n",
            "Epoch 66/100\n",
            "25/25 [==============================] - 1s 23ms/step - loss: 0.0020\n",
            "Epoch 67/100\n",
            "25/25 [==============================] - 1s 24ms/step - loss: 0.0018\n",
            "Epoch 68/100\n",
            "25/25 [==============================] - 1s 24ms/step - loss: 0.0017\n",
            "Epoch 69/100\n",
            "25/25 [==============================] - 1s 24ms/step - loss: 0.0017\n",
            "Epoch 70/100\n",
            "25/25 [==============================] - 1s 23ms/step - loss: 0.0017\n",
            "Epoch 71/100\n",
            "25/25 [==============================] - 1s 25ms/step - loss: 0.0019\n",
            "Epoch 72/100\n",
            "25/25 [==============================] - 1s 23ms/step - loss: 0.0018\n",
            "Epoch 73/100\n",
            "25/25 [==============================] - 1s 24ms/step - loss: 0.0017\n",
            "Epoch 74/100\n",
            "25/25 [==============================] - 1s 23ms/step - loss: 0.0017\n",
            "Epoch 75/100\n",
            "25/25 [==============================] - 1s 23ms/step - loss: 0.0017\n",
            "Epoch 76/100\n",
            "25/25 [==============================] - 1s 24ms/step - loss: 0.0017\n",
            "Epoch 77/100\n",
            "25/25 [==============================] - 1s 23ms/step - loss: 0.0017\n",
            "Epoch 78/100\n",
            "25/25 [==============================] - 1s 23ms/step - loss: 0.0016\n",
            "Epoch 79/100\n",
            "25/25 [==============================] - 1s 22ms/step - loss: 0.0017\n",
            "Epoch 80/100\n",
            "25/25 [==============================] - 1s 23ms/step - loss: 0.0018\n",
            "Epoch 81/100\n",
            "25/25 [==============================] - 1s 23ms/step - loss: 0.0016\n",
            "Epoch 82/100\n",
            "25/25 [==============================] - 1s 23ms/step - loss: 0.0015\n",
            "Epoch 83/100\n",
            "25/25 [==============================] - 1s 23ms/step - loss: 0.0016\n",
            "Epoch 84/100\n",
            "25/25 [==============================] - 1s 24ms/step - loss: 0.0016\n",
            "Epoch 85/100\n",
            "25/25 [==============================] - 1s 23ms/step - loss: 0.0016\n",
            "Epoch 86/100\n",
            "25/25 [==============================] - 1s 23ms/step - loss: 0.0015\n",
            "Epoch 87/100\n",
            "25/25 [==============================] - 1s 22ms/step - loss: 0.0014\n",
            "Epoch 88/100\n",
            "25/25 [==============================] - 1s 23ms/step - loss: 0.0017\n",
            "Epoch 89/100\n",
            "25/25 [==============================] - 1s 23ms/step - loss: 0.0022\n",
            "Epoch 90/100\n",
            "25/25 [==============================] - 1s 25ms/step - loss: 0.0019\n",
            "Epoch 91/100\n",
            "25/25 [==============================] - 1s 23ms/step - loss: 0.0019\n",
            "Epoch 92/100\n",
            "25/25 [==============================] - 1s 23ms/step - loss: 0.0016\n",
            "Epoch 93/100\n",
            "25/25 [==============================] - 1s 25ms/step - loss: 0.0015\n",
            "Epoch 94/100\n",
            "25/25 [==============================] - 1s 23ms/step - loss: 0.0014\n",
            "Epoch 95/100\n",
            "25/25 [==============================] - 1s 23ms/step - loss: 0.0015\n",
            "Epoch 96/100\n",
            "25/25 [==============================] - 1s 23ms/step - loss: 0.0015\n",
            "Epoch 97/100\n",
            "25/25 [==============================] - 1s 24ms/step - loss: 0.0014\n",
            "Epoch 98/100\n",
            "25/25 [==============================] - 1s 24ms/step - loss: 0.0014\n",
            "Epoch 99/100\n",
            "25/25 [==============================] - 1s 23ms/step - loss: 0.0014\n",
            "Epoch 100/100\n",
            "25/25 [==============================] - 1s 23ms/step - loss: 0.0014\n"
          ],
          "name": "stdout"
        },
        {
          "output_type": "execute_result",
          "data": {
            "text/plain": [
              "<tensorflow.python.keras.callbacks.History at 0x7f6ec9103198>"
            ]
          },
          "metadata": {
            "tags": []
          },
          "execution_count": 200
        }
      ]
    },
    {
      "cell_type": "markdown",
      "metadata": {
        "id": "dbInac4YQ8pV"
      },
      "source": [
        "## test : last_month"
      ]
    },
    {
      "cell_type": "code",
      "metadata": {
        "colab": {
          "base_uri": "https://localhost:8080/"
        },
        "id": "hL8wR22W18Co",
        "outputId": "74d24416-d866-4f41-f0b2-243f8f370548"
      },
      "source": [
        "# train은 이미 위에서 minmax scaler적용되어있음.\r\n",
        "\r\n",
        "last_month = train.iloc[-30:,1:].values[np.newaxis,...] # np.newaxis: 3D로 차원을 늘려줌. \r\n",
        "last_month.shape"
      ],
      "execution_count": 212,
      "outputs": [
        {
          "output_type": "execute_result",
          "data": {
            "text/plain": [
              "(1, 30, 4)"
            ]
          },
          "metadata": {
            "tags": []
          },
          "execution_count": 212
        }
      ]
    },
    {
      "cell_type": "code",
      "metadata": {
        "colab": {
          "base_uri": "https://localhost:8080/"
        },
        "id": "qaMBTNjj2JW9",
        "outputId": "a6b8d538-cbd4-4fd5-e27e-33a183f1e107"
      },
      "source": [
        "pred_month = model.predict(last_month)\r\n",
        "pred_month[:5]"
      ],
      "execution_count": 233,
      "outputs": [
        {
          "output_type": "execute_result",
          "data": {
            "text/plain": [
              "array([[[0.38988918, 0.38370723, 0.2831769 , 0.35649085],\n",
              "        [0.42584968, 0.41972363, 0.31028152, 0.39880776],\n",
              "        [0.4839755 , 0.48056078, 0.38403997, 0.42606884],\n",
              "        [0.42508316, 0.4155653 , 0.30894116, 0.36046645],\n",
              "        [0.3552722 , 0.3474655 , 0.2774096 , 0.25650254],\n",
              "        [0.29504907, 0.28051865, 0.1924423 , 0.22581556],\n",
              "        [0.3349247 , 0.3176093 , 0.21691819, 0.28028947],\n",
              "        [0.43782055, 0.4194324 , 0.32147312, 0.35830352],\n",
              "        [0.4307961 , 0.41820633, 0.30120403, 0.36840585],\n",
              "        [0.39586526, 0.38768816, 0.3135556 , 0.3087331 ],\n",
              "        [0.31007713, 0.30272764, 0.24639408, 0.23173746],\n",
              "        [0.28607854, 0.28319347, 0.22286735, 0.19530392],\n",
              "        [0.26119217, 0.25370237, 0.17054868, 0.18885493],\n",
              "        [0.32039925, 0.3079184 , 0.20663486, 0.24411625],\n",
              "        [0.5193938 , 0.50288975, 0.3978129 , 0.39398143],\n",
              "        [0.5128634 , 0.50502926, 0.39631888, 0.39292422],\n",
              "        [0.4583183 , 0.45703334, 0.3989874 , 0.36246622],\n",
              "        [0.3279412 , 0.32302243, 0.24346961, 0.23957103],\n",
              "        [0.30027282, 0.2954523 , 0.19719714, 0.2224788 ],\n",
              "        [0.27640837, 0.271612  , 0.16303521, 0.2085697 ],\n",
              "        [0.29830158, 0.2957397 , 0.18548189, 0.22435242],\n",
              "        [0.47834355, 0.47745174, 0.34605014, 0.39757866],\n",
              "        [0.48666415, 0.47969234, 0.3413723 , 0.41362447],\n",
              "        [0.45714027, 0.44194824, 0.32553476, 0.36383736],\n",
              "        [0.42132294, 0.4175793 , 0.2998872 , 0.31978792],\n",
              "        [0.38188878, 0.3852809 , 0.2697217 , 0.268283  ],\n",
              "        [0.3579811 , 0.3617555 , 0.2441948 , 0.27058432],\n",
              "        [0.35998333, 0.36326686, 0.24212337, 0.27859387],\n",
              "        [0.47484908, 0.48137957, 0.35521603, 0.392861  ],\n",
              "        [0.5870061 , 0.58812445, 0.43621373, 0.50464654]]], dtype=float32)"
            ]
          },
          "metadata": {
            "tags": []
          },
          "execution_count": 233
        }
      ]
    },
    {
      "cell_type": "code",
      "metadata": {
        "colab": {
          "base_uri": "https://localhost:8080/"
        },
        "id": "HoED9_139dCn",
        "outputId": "9457ff65-ee59-4a69-99b6-40630cc89b27"
      },
      "source": [
        "pred_month = pred_month.reshape(output_window,4)\r\n",
        "pred_month = pred_month * size.values + mini.values\r\n",
        "pred_month = pred_month.astype(int)\r\n",
        "pred_month\r\n"
      ],
      "execution_count": 234,
      "outputs": [
        {
          "output_type": "execute_result",
          "data": {
            "text/plain": [
              "array([[ 2113,  2072,   479, 55412],\n",
              "       [ 2307,  2267,   525, 61989],\n",
              "       [ 2622,  2595,   650, 66227],\n",
              "       [ 2303,  2244,   523, 56030],\n",
              "       [ 1925,  1876,   469, 39870],\n",
              "       [ 1599,  1515,   326, 35101],\n",
              "       [ 1815,  1715,   367, 43568],\n",
              "       [ 2372,  2265,   544, 55694],\n",
              "       [ 2334,  2258,   510, 57264],\n",
              "       [ 2145,  2094,   530, 47989],\n",
              "       [ 1680,  1635,   417, 36021],\n",
              "       [ 1550,  1529,   377, 30358],\n",
              "       [ 1415,  1370,   289, 29356],\n",
              "       [ 1736,  1663,   350, 37945],\n",
              "       [ 2814,  2716,   673, 61239],\n",
              "       [ 2779,  2727,   670, 61075],\n",
              "       [ 2483,  2468,   675, 56341],\n",
              "       [ 1777,  1744,   412, 37239],\n",
              "       [ 1627,  1596,   334, 34582],\n",
              "       [ 1498,  1467,   276, 32420],\n",
              "       [ 1616,  1597,   314, 34873],\n",
              "       [ 2592,  2578,   585, 61798],\n",
              "       [ 2637,  2590,   577, 64292],\n",
              "       [ 2477,  2387,   551, 56554],\n",
              "       [ 2283,  2255,   507, 49707],\n",
              "       [ 2069,  2081,   456, 41702],\n",
              "       [ 1940,  1954,   413, 42059],\n",
              "       [ 1951,  1962,   410, 43304],\n",
              "       [ 2573,  2599,   601, 61065],\n",
              "       [ 3180,  3176,   738, 78440]])"
            ]
          },
          "metadata": {
            "tags": []
          },
          "execution_count": 234
        }
      ]
    },
    {
      "cell_type": "code",
      "metadata": {
        "colab": {
          "base_uri": "https://localhost:8080/"
        },
        "id": "FY7lgRivG5-L",
        "outputId": "1379e5f8-d87f-48f4-ccfb-2a20adf8644a"
      },
      "source": [
        "pred_month.shape"
      ],
      "execution_count": 235,
      "outputs": [
        {
          "output_type": "execute_result",
          "data": {
            "text/plain": [
              "(30, 4)"
            ]
          },
          "metadata": {
            "tags": []
          },
          "execution_count": 235
        }
      ]
    },
    {
      "cell_type": "code",
      "metadata": {
        "id": "urw5Fqn0Jv7l"
      },
      "source": [
        ""
      ],
      "execution_count": null,
      "outputs": []
    },
    {
      "cell_type": "markdown",
      "metadata": {
        "id": "hkxkXBgBJ4tg"
      },
      "source": [
        "## submit"
      ]
    },
    {
      "cell_type": "code",
      "metadata": {
        "colab": {
          "base_uri": "https://localhost:8080/"
        },
        "id": "444WoejNJ4t9",
        "outputId": "3764cb48-997e-48b9-9ad4-a0efb8459022"
      },
      "source": [
        "submission =  pd.read_csv(path + '/open_data/submission.csv', encoding = 'euc-kr')\r\n",
        "submission.shape"
      ],
      "execution_count": 259,
      "outputs": [
        {
          "output_type": "execute_result",
          "data": {
            "text/plain": [
              "(61, 5)"
            ]
          },
          "metadata": {
            "tags": []
          },
          "execution_count": 259
        }
      ]
    },
    {
      "cell_type": "code",
      "metadata": {
        "colab": {
          "base_uri": "https://localhost:8080/"
        },
        "id": "HAtpKeL1J4t-",
        "outputId": "92e9a070-a778-4aad-a3ee-2cef88942c22"
      },
      "source": [
        "pred_month.shape"
      ],
      "execution_count": 260,
      "outputs": [
        {
          "output_type": "execute_result",
          "data": {
            "text/plain": [
              "(30, 4)"
            ]
          },
          "metadata": {
            "tags": []
          },
          "execution_count": 260
        }
      ]
    },
    {
      "cell_type": "code",
      "metadata": {
        "colab": {
          "base_uri": "https://localhost:8080/",
          "height": 200
        },
        "id": "3VUwY_duJ4uA",
        "outputId": "a394a564-2db4-479d-e632-29730ab4a23d"
      },
      "source": [
        "pred_df = pd.DataFrame(pred_month)\r\n",
        "pred_df.head()"
      ],
      "execution_count": 247,
      "outputs": [
        {
          "output_type": "execute_result",
          "data": {
            "text/html": [
              "<div>\n",
              "<style scoped>\n",
              "    .dataframe tbody tr th:only-of-type {\n",
              "        vertical-align: middle;\n",
              "    }\n",
              "\n",
              "    .dataframe tbody tr th {\n",
              "        vertical-align: top;\n",
              "    }\n",
              "\n",
              "    .dataframe thead th {\n",
              "        text-align: right;\n",
              "    }\n",
              "</style>\n",
              "<table border=\"1\" class=\"dataframe\">\n",
              "  <thead>\n",
              "    <tr style=\"text-align: right;\">\n",
              "      <th></th>\n",
              "      <th>0</th>\n",
              "      <th>1</th>\n",
              "      <th>2</th>\n",
              "      <th>3</th>\n",
              "    </tr>\n",
              "  </thead>\n",
              "  <tbody>\n",
              "    <tr>\n",
              "      <th>0</th>\n",
              "      <td>2113</td>\n",
              "      <td>2072</td>\n",
              "      <td>479</td>\n",
              "      <td>55412</td>\n",
              "    </tr>\n",
              "    <tr>\n",
              "      <th>1</th>\n",
              "      <td>2307</td>\n",
              "      <td>2267</td>\n",
              "      <td>525</td>\n",
              "      <td>61989</td>\n",
              "    </tr>\n",
              "    <tr>\n",
              "      <th>2</th>\n",
              "      <td>2622</td>\n",
              "      <td>2595</td>\n",
              "      <td>650</td>\n",
              "      <td>66227</td>\n",
              "    </tr>\n",
              "    <tr>\n",
              "      <th>3</th>\n",
              "      <td>2303</td>\n",
              "      <td>2244</td>\n",
              "      <td>523</td>\n",
              "      <td>56030</td>\n",
              "    </tr>\n",
              "    <tr>\n",
              "      <th>4</th>\n",
              "      <td>1925</td>\n",
              "      <td>1876</td>\n",
              "      <td>469</td>\n",
              "      <td>39870</td>\n",
              "    </tr>\n",
              "  </tbody>\n",
              "</table>\n",
              "</div>"
            ],
            "text/plain": [
              "      0     1    2      3\n",
              "0  2113  2072  479  55412\n",
              "1  2307  2267  525  61989\n",
              "2  2622  2595  650  66227\n",
              "3  2303  2244  523  56030\n",
              "4  1925  1876  469  39870"
            ]
          },
          "metadata": {
            "tags": []
          },
          "execution_count": 247
        }
      ]
    },
    {
      "cell_type": "code",
      "metadata": {
        "colab": {
          "base_uri": "https://localhost:8080/"
        },
        "id": "LFdMfTtYJ4uA",
        "outputId": "ba95cd4a-1350-486e-fca0-a5903df104bb"
      },
      "source": [
        "# 30까지 모두 채우면 다시 0부터.\r\n",
        "\r\n",
        "for i in range(len(submission)):\r\n",
        "  submission['사용자'][i] = pred_df[0][i%30]\r\n",
        "  submission['세션'][i] = pred_df[1][i%30]\r\n",
        "  submission['신규방문자'][i] = pred_df[2][i%30]\r\n",
        "  submission['페이지뷰'][i] = pred_df[3][i%30]\r\n"
      ],
      "execution_count": 277,
      "outputs": [
        {
          "output_type": "stream",
          "text": [
            "/usr/local/lib/python3.6/dist-packages/ipykernel_launcher.py:4: SettingWithCopyWarning: \n",
            "A value is trying to be set on a copy of a slice from a DataFrame\n",
            "\n",
            "See the caveats in the documentation: https://pandas.pydata.org/pandas-docs/stable/user_guide/indexing.html#returning-a-view-versus-a-copy\n",
            "  after removing the cwd from sys.path.\n",
            "/usr/local/lib/python3.6/dist-packages/ipykernel_launcher.py:5: SettingWithCopyWarning: \n",
            "A value is trying to be set on a copy of a slice from a DataFrame\n",
            "\n",
            "See the caveats in the documentation: https://pandas.pydata.org/pandas-docs/stable/user_guide/indexing.html#returning-a-view-versus-a-copy\n",
            "  \"\"\"\n",
            "/usr/local/lib/python3.6/dist-packages/ipykernel_launcher.py:6: SettingWithCopyWarning: \n",
            "A value is trying to be set on a copy of a slice from a DataFrame\n",
            "\n",
            "See the caveats in the documentation: https://pandas.pydata.org/pandas-docs/stable/user_guide/indexing.html#returning-a-view-versus-a-copy\n",
            "  \n",
            "/usr/local/lib/python3.6/dist-packages/ipykernel_launcher.py:7: SettingWithCopyWarning: \n",
            "A value is trying to be set on a copy of a slice from a DataFrame\n",
            "\n",
            "See the caveats in the documentation: https://pandas.pydata.org/pandas-docs/stable/user_guide/indexing.html#returning-a-view-versus-a-copy\n",
            "  import sys\n"
          ],
          "name": "stderr"
        }
      ]
    },
    {
      "cell_type": "code",
      "metadata": {
        "colab": {
          "base_uri": "https://localhost:8080/",
          "height": 200
        },
        "id": "yYcUBxPKJ4uD",
        "outputId": "965bc2a2-01a8-493e-cd44-fd50f9700e87"
      },
      "source": [
        "submission.head()"
      ],
      "execution_count": 278,
      "outputs": [
        {
          "output_type": "execute_result",
          "data": {
            "text/html": [
              "<div>\n",
              "<style scoped>\n",
              "    .dataframe tbody tr th:only-of-type {\n",
              "        vertical-align: middle;\n",
              "    }\n",
              "\n",
              "    .dataframe tbody tr th {\n",
              "        vertical-align: top;\n",
              "    }\n",
              "\n",
              "    .dataframe thead th {\n",
              "        text-align: right;\n",
              "    }\n",
              "</style>\n",
              "<table border=\"1\" class=\"dataframe\">\n",
              "  <thead>\n",
              "    <tr style=\"text-align: right;\">\n",
              "      <th></th>\n",
              "      <th>DateTime</th>\n",
              "      <th>사용자</th>\n",
              "      <th>세션</th>\n",
              "      <th>신규방문자</th>\n",
              "      <th>페이지뷰</th>\n",
              "    </tr>\n",
              "  </thead>\n",
              "  <tbody>\n",
              "    <tr>\n",
              "      <th>0</th>\n",
              "      <td>2020-11-09</td>\n",
              "      <td>2113</td>\n",
              "      <td>2072</td>\n",
              "      <td>479</td>\n",
              "      <td>55412</td>\n",
              "    </tr>\n",
              "    <tr>\n",
              "      <th>1</th>\n",
              "      <td>2020-11-10</td>\n",
              "      <td>2307</td>\n",
              "      <td>2267</td>\n",
              "      <td>525</td>\n",
              "      <td>61989</td>\n",
              "    </tr>\n",
              "    <tr>\n",
              "      <th>2</th>\n",
              "      <td>2020-11-11</td>\n",
              "      <td>2622</td>\n",
              "      <td>2595</td>\n",
              "      <td>650</td>\n",
              "      <td>66227</td>\n",
              "    </tr>\n",
              "    <tr>\n",
              "      <th>3</th>\n",
              "      <td>2020-11-12</td>\n",
              "      <td>2303</td>\n",
              "      <td>2244</td>\n",
              "      <td>523</td>\n",
              "      <td>56030</td>\n",
              "    </tr>\n",
              "    <tr>\n",
              "      <th>4</th>\n",
              "      <td>2020-11-13</td>\n",
              "      <td>1925</td>\n",
              "      <td>1876</td>\n",
              "      <td>469</td>\n",
              "      <td>39870</td>\n",
              "    </tr>\n",
              "  </tbody>\n",
              "</table>\n",
              "</div>"
            ],
            "text/plain": [
              "     DateTime   사용자    세션  신규방문자   페이지뷰\n",
              "0  2020-11-09  2113  2072    479  55412\n",
              "1  2020-11-10  2307  2267    525  61989\n",
              "2  2020-11-11  2622  2595    650  66227\n",
              "3  2020-11-12  2303  2244    523  56030\n",
              "4  2020-11-13  1925  1876    469  39870"
            ]
          },
          "metadata": {
            "tags": []
          },
          "execution_count": 278
        }
      ]
    },
    {
      "cell_type": "code",
      "metadata": {
        "id": "UeUT41zKMnRF"
      },
      "source": [
        "submission.to_csv('lstm1.csv', index = False, encoding = 'euc-kr')"
      ],
      "execution_count": 279,
      "outputs": []
    },
    {
      "cell_type": "markdown",
      "metadata": {
        "id": "SmtQVQJANMUu"
      },
      "source": [
        "## 참조"
      ]
    },
    {
      "cell_type": "code",
      "metadata": {
        "id": "V4016MLpNRw7"
      },
      "source": [
        "# 각 변수의 크기가 다르기 때문에 가중치를 부여한 RMSE로 모델의 성능을 평가\r\n",
        "\r\n",
        "def dacon_rmse(true, pred):\r\n",
        "    # true.shape // (N,4)\r\n",
        "    # pred.shape // (N,4)\r\n",
        "    # w0, w1, w2, w3 <= train.csv의 사용자 수, 세션 수, 신규 방문자 수, 페이지 뷰 수 4가지 항목별 평균값\r\n",
        "    score = np.sqrt(np.mean(np.square(true[:,0] - pred[:,0]))) / w0 +\\\r\n",
        "            + np.sqrt(np.mean(np.square(true[:,1] - pred[:,1]))) / w1 +\\\r\n",
        "            + np.sqrt(np.mean(np.square(true[:,2] - pred[:,2]))) / w2 +\\\r\n",
        "            + np.sqrt(np.mean(np.square(true[:,3] - pred[:,3]))) / w3 +\\\r\n",
        "     return score"
      ],
      "execution_count": null,
      "outputs": []
    },
    {
      "cell_type": "code",
      "metadata": {
        "id": "gU4pGj8uJ4uD"
      },
      "source": [
        "# 스케일링\r\n",
        "from sklearn.preprocessing import MinMaxScaler\r\n",
        "\r\n",
        "sc = MinMaxScaler()\r\n",
        "\r\n",
        "train_sc = sc.fit_transform(train)\r\n",
        "test_sc = sc.transform(test)\r\n",
        "\r\n",
        "train_sc"
      ],
      "execution_count": null,
      "outputs": []
    },
    {
      "cell_type": "code",
      "metadata": {
        "id": "Hl9q9I2KJ4uD"
      },
      "source": [
        "# date 기준 변수 만들기\r\n",
        "\r\n",
        "from datetime import datetime\r\n",
        "\r\n",
        "def create_features(df):\r\n",
        "    \"\"\"\r\n",
        "    Creates time series features from datetime index\r\n",
        "    \"\"\"\r\n",
        "    # df['DateTime'] = df.index\r\n",
        "    # df['hour'] = df['date'].dt.hour\r\n",
        "    df['dayofweek'] = pd.to_datetime(df['date']).dt.dayofweek\r\n",
        "    df['quarter'] = pd.to_datetime(df['date']).dt.quarter\r\n",
        "    df['month'] = pd.to_datetime(df['date']).dt.month\r\n",
        "    df['year'] = pd.to_datetime(df['date']).dt.year\r\n",
        "    df['dayofyear'] = pd.to_datetime(df['date']).dt.dayofyear\r\n",
        "    df['dayofmonth'] = pd.to_datetime(df['date']).dt.day\r\n",
        "    df['weekofyear'] = pd.to_datetime(df['date']).dt.weekofyear\r\n",
        "    \r\n",
        "    X = df[['사용자','세션','신규방문자','페이지뷰','date','dayofweek','quarter','month','year',\r\n",
        "           'dayofyear','dayofmonth','weekofyear']]\r\n",
        "    X.set_index('date', inplace = True)\r\n",
        "    X.index = pd.to_datetime(X.index)\r\n",
        "    return X"
      ],
      "execution_count": null,
      "outputs": []
    },
    {
      "cell_type": "code",
      "metadata": {
        "id": "J5Kvtw5oJ4uE"
      },
      "source": [
        ""
      ],
      "execution_count": null,
      "outputs": []
    },
    {
      "cell_type": "code",
      "metadata": {
        "id": "JbEwC3YfJ4uG"
      },
      "source": [
        ""
      ],
      "execution_count": null,
      "outputs": []
    },
    {
      "cell_type": "markdown",
      "metadata": {
        "id": "Li0vASmhIIhr"
      },
      "source": [
        "## 예측값을 x로 다시 predict  \r\n",
        "- 마이너스 값이 나와서 실패.."
      ]
    },
    {
      "cell_type": "code",
      "metadata": {
        "id": "5mcOvvQQH4t2"
      },
      "source": [
        "tr_month1 = pd.DataFrame(pred_month)"
      ],
      "execution_count": 240,
      "outputs": []
    },
    {
      "cell_type": "code",
      "metadata": {
        "colab": {
          "base_uri": "https://localhost:8080/"
        },
        "id": "adnkLDwMBGVC",
        "outputId": "03b57207-9c74-45ac-e8cd-c99f68e12624"
      },
      "source": [
        "# 위 예측값을 x로 사용하기.\r\n",
        "mini1 = tr_month1.iloc[:,1:].min()\r\n",
        "size1 = tr_month1.iloc[:,1:].max() - tr_month1.iloc[:,1:].min()\r\n",
        "tr_month1.iloc[:,1:] = (tr_month1.iloc[:,1:] -  mini1) / size1\r\n",
        "\r\n",
        "tr_month1 = tr_month1.iloc[:,:].values[np.newaxis,...] # np.newaxis: 3D로 차원을 늘려줌. \r\n",
        "tr_month1.shape"
      ],
      "execution_count": 241,
      "outputs": [
        {
          "output_type": "execute_result",
          "data": {
            "text/plain": [
              "(1, 30, 4)"
            ]
          },
          "metadata": {
            "tags": []
          },
          "execution_count": 241
        }
      ]
    },
    {
      "cell_type": "code",
      "metadata": {
        "colab": {
          "base_uri": "https://localhost:8080/"
        },
        "id": "ExeU6niB_gVU",
        "outputId": "fc5202b3-1903-408d-a47d-399456182a90"
      },
      "source": [
        "pred_month1 = model.predict(tr_month1)\r\n",
        "pred_month1[:5]"
      ],
      "execution_count": 242,
      "outputs": [
        {
          "output_type": "execute_result",
          "data": {
            "text/plain": [
              "array([[[ 0.18093495,  0.15617856,  0.17545578,  0.07859027],\n",
              "        [ 0.09990777,  0.06255519,  0.09158635, -0.03202646],\n",
              "        [ 0.1238751 ,  0.08535202,  0.10137758, -0.0130481 ],\n",
              "        [ 0.1609668 ,  0.12201263,  0.13407502,  0.02669705],\n",
              "        [ 0.17643648,  0.13653305,  0.14765052,  0.04409892],\n",
              "        [ 0.17911391,  0.13828306,  0.1470722 ,  0.04774056],\n",
              "        [ 0.18096438,  0.13957691,  0.14543536,  0.05040792],\n",
              "        [ 0.18431361,  0.14262158,  0.14594844,  0.05457786],\n",
              "        [ 0.18804072,  0.14617258,  0.14746507,  0.05902395],\n",
              "        [ 0.19144723,  0.14947562,  0.14904726,  0.06302298],\n",
              "        [ 0.19444391,  0.15241605,  0.15047295,  0.06651456],\n",
              "        [ 0.19708903,  0.15503576,  0.15175058,  0.0695814 ],\n",
              "        [ 0.19941911,  0.15735956,  0.1528904 ,  0.07227365],\n",
              "        [ 0.20145619,  0.1594011 ,  0.15389048,  0.07462133],\n",
              "        [ 0.20322528,  0.16118066,  0.15475564,  0.07665686],\n",
              "        [ 0.20475666,  0.1627254 ,  0.15549937,  0.07841668],\n",
              "        [ 0.20607981,  0.16406311,  0.15613678,  0.07993583],\n",
              "        [ 0.20722167,  0.16521949,  0.1566826 ,  0.08124612],\n",
              "        [ 0.20820667,  0.16621836,  0.15714978,  0.08237571],\n",
              "        [ 0.2090564 ,  0.1670809 ,  0.1575499 ,  0.0833498 ],\n",
              "        [ 0.20978941,  0.16782564,  0.15789254,  0.0841899 ],\n",
              "        [ 0.21042213,  0.16846888,  0.15818639,  0.08491511],\n",
              "        [ 0.21096869,  0.16902478,  0.15843861,  0.08554155],\n",
              "        [ 0.21144134,  0.16950572,  0.15865529,  0.08608345],\n",
              "        [ 0.21185055,  0.16992216,  0.1588416 ,  0.08655299],\n",
              "        [ 0.21220507,  0.17028306,  0.15900199,  0.08695994],\n",
              "        [ 0.21251297,  0.17059648,  0.15914051,  0.08731372],\n",
              "        [ 0.21278061,  0.17086884,  0.15926   ,  0.08762143],\n",
              "        [ 0.21301368,  0.1711061 ,  0.1593634 ,  0.0878898 ],\n",
              "        [ 0.21321674,  0.17131281,  0.15945278,  0.0881241 ]]],\n",
              "      dtype=float32)"
            ]
          },
          "metadata": {
            "tags": []
          },
          "execution_count": 242
        }
      ]
    },
    {
      "cell_type": "code",
      "metadata": {
        "colab": {
          "base_uri": "https://localhost:8080/"
        },
        "id": "bD7YTlqWHHKq",
        "outputId": "99a9f132-0468-4362-a1dd-58469354c0e9"
      },
      "source": [
        "pred_month1 = pred_month1.reshape(output_window,4)\r\n",
        "pred_month1 = pred_month1 * size.values + mini.values\r\n",
        "pred_month1 = pred_month1.astype(int)\r\n",
        "pred_month1\r\n"
      ],
      "execution_count": 243,
      "outputs": [
        {
          "output_type": "execute_result",
          "data": {
            "text/plain": [
              "array([[  981,   844,   297, 12217],\n",
              "       [  542,   338,   155, -4975],\n",
              "       [  672,   461,   172, -2026],\n",
              "       [  872,   659,   227,  4151],\n",
              "       [  956,   738,   250,  6856],\n",
              "       [  971,   747,   249,  7422],\n",
              "       [  981,   754,   246,  7837],\n",
              "       [  999,   771,   247,  8485],\n",
              "       [ 1019,   790,   250,  9176],\n",
              "       [ 1038,   808,   252,  9797],\n",
              "       [ 1054,   823,   255, 10340],\n",
              "       [ 1068,   838,   257, 10817],\n",
              "       [ 1081,   850,   259, 11235],\n",
              "       [ 1092,   861,   261, 11600],\n",
              "       [ 1101,   871,   262, 11917],\n",
              "       [ 1110,   879,   263, 12190],\n",
              "       [ 1117,   886,   264, 12426],\n",
              "       [ 1123,   893,   265, 12630],\n",
              "       [ 1128,   898,   266, 12805],\n",
              "       [ 1133,   903,   267, 12957],\n",
              "       [ 1137,   907,   267, 13087],\n",
              "       [ 1140,   910,   268, 13200],\n",
              "       [ 1143,   913,   268, 13297],\n",
              "       [ 1146,   916,   269, 13382],\n",
              "       [ 1148,   918,   269, 13455],\n",
              "       [ 1150,   920,   269, 13518],\n",
              "       [ 1152,   922,   269, 13573],\n",
              "       [ 1153,   923,   270, 13621],\n",
              "       [ 1154,   924,   270, 13662],\n",
              "       [ 1155,   925,   270, 13699]])"
            ]
          },
          "metadata": {
            "tags": []
          },
          "execution_count": 243
        }
      ]
    },
    {
      "cell_type": "markdown",
      "metadata": {
        "id": "bCmWKSqRGBGV"
      },
      "source": [
        "#### 윈도우 크기 다르게 해서 train하고 test해보기"
      ]
    },
    {
      "cell_type": "markdown",
      "metadata": {
        "id": "uyOo9JpX8t7D"
      },
      "source": [
        "aa"
      ]
    },
    {
      "cell_type": "markdown",
      "metadata": {
        "id": "HbonwFz84uV5"
      },
      "source": [
        "## test = train[-61]"
      ]
    },
    {
      "cell_type": "code",
      "metadata": {
        "id": "KE4rgNXRQWAO",
        "colab": {
          "base_uri": "https://localhost:8080/",
          "height": 411
        },
        "outputId": "8f74113a-7999-4c4a-d114-37922bc6a09a"
      },
      "source": [
        "test = train[-61:]\r\n",
        "test"
      ],
      "execution_count": 201,
      "outputs": [
        {
          "output_type": "execute_result",
          "data": {
            "text/html": [
              "<div>\n",
              "<style scoped>\n",
              "    .dataframe tbody tr th:only-of-type {\n",
              "        vertical-align: middle;\n",
              "    }\n",
              "\n",
              "    .dataframe tbody tr th {\n",
              "        vertical-align: top;\n",
              "    }\n",
              "\n",
              "    .dataframe thead th {\n",
              "        text-align: right;\n",
              "    }\n",
              "</style>\n",
              "<table border=\"1\" class=\"dataframe\">\n",
              "  <thead>\n",
              "    <tr style=\"text-align: right;\">\n",
              "      <th></th>\n",
              "      <th>date</th>\n",
              "      <th>사용자</th>\n",
              "      <th>세션</th>\n",
              "      <th>신규방문자</th>\n",
              "      <th>페이지뷰</th>\n",
              "    </tr>\n",
              "  </thead>\n",
              "  <tbody>\n",
              "    <tr>\n",
              "      <th>731</th>\n",
              "      <td>2020-09-09</td>\n",
              "      <td>0.497877</td>\n",
              "      <td>0.490461</td>\n",
              "      <td>0.355030</td>\n",
              "      <td>0.377532</td>\n",
              "    </tr>\n",
              "    <tr>\n",
              "      <th>732</th>\n",
              "      <td>2020-09-10</td>\n",
              "      <td>0.452464</td>\n",
              "      <td>0.450824</td>\n",
              "      <td>0.324260</td>\n",
              "      <td>0.339207</td>\n",
              "    </tr>\n",
              "    <tr>\n",
              "      <th>733</th>\n",
              "      <td>2020-09-11</td>\n",
              "      <td>0.405206</td>\n",
              "      <td>0.397111</td>\n",
              "      <td>0.278107</td>\n",
              "      <td>0.321836</td>\n",
              "    </tr>\n",
              "    <tr>\n",
              "      <th>734</th>\n",
              "      <td>2020-09-12</td>\n",
              "      <td>0.298320</td>\n",
              "      <td>0.295425</td>\n",
              "      <td>0.194083</td>\n",
              "      <td>0.242021</td>\n",
              "    </tr>\n",
              "    <tr>\n",
              "      <th>735</th>\n",
              "      <td>2020-09-13</td>\n",
              "      <td>0.342810</td>\n",
              "      <td>0.333951</td>\n",
              "      <td>0.198817</td>\n",
              "      <td>0.288169</td>\n",
              "    </tr>\n",
              "    <tr>\n",
              "      <th>...</th>\n",
              "      <td>...</td>\n",
              "      <td>...</td>\n",
              "      <td>...</td>\n",
              "      <td>...</td>\n",
              "      <td>...</td>\n",
              "    </tr>\n",
              "    <tr>\n",
              "      <th>787</th>\n",
              "      <td>2020-11-04</td>\n",
              "      <td>0.833487</td>\n",
              "      <td>0.828116</td>\n",
              "      <td>0.707101</td>\n",
              "      <td>0.724949</td>\n",
              "    </tr>\n",
              "    <tr>\n",
              "      <th>788</th>\n",
              "      <td>2020-11-05</td>\n",
              "      <td>0.766845</td>\n",
              "      <td>0.747546</td>\n",
              "      <td>0.617160</td>\n",
              "      <td>0.662015</td>\n",
              "    </tr>\n",
              "    <tr>\n",
              "      <th>789</th>\n",
              "      <td>2020-11-06</td>\n",
              "      <td>0.676020</td>\n",
              "      <td>0.662160</td>\n",
              "      <td>0.487574</td>\n",
              "      <td>0.566244</td>\n",
              "    </tr>\n",
              "    <tr>\n",
              "      <th>790</th>\n",
              "      <td>2020-11-07</td>\n",
              "      <td>0.456157</td>\n",
              "      <td>0.447490</td>\n",
              "      <td>0.313609</td>\n",
              "      <td>0.369188</td>\n",
              "    </tr>\n",
              "    <tr>\n",
              "      <th>791</th>\n",
              "      <td>2020-11-08</td>\n",
              "      <td>0.459849</td>\n",
              "      <td>0.448046</td>\n",
              "      <td>0.308284</td>\n",
              "      <td>0.324796</td>\n",
              "    </tr>\n",
              "  </tbody>\n",
              "</table>\n",
              "<p>61 rows × 5 columns</p>\n",
              "</div>"
            ],
            "text/plain": [
              "           date       사용자        세션     신규방문자      페이지뷰\n",
              "731  2020-09-09  0.497877  0.490461  0.355030  0.377532\n",
              "732  2020-09-10  0.452464  0.450824  0.324260  0.339207\n",
              "733  2020-09-11  0.405206  0.397111  0.278107  0.321836\n",
              "734  2020-09-12  0.298320  0.295425  0.194083  0.242021\n",
              "735  2020-09-13  0.342810  0.333951  0.198817  0.288169\n",
              "..          ...       ...       ...       ...       ...\n",
              "787  2020-11-04  0.833487  0.828116  0.707101  0.724949\n",
              "788  2020-11-05  0.766845  0.747546  0.617160  0.662015\n",
              "789  2020-11-06  0.676020  0.662160  0.487574  0.566244\n",
              "790  2020-11-07  0.456157  0.447490  0.313609  0.369188\n",
              "791  2020-11-08  0.459849  0.448046  0.308284  0.324796\n",
              "\n",
              "[61 rows x 5 columns]"
            ]
          },
          "metadata": {
            "tags": []
          },
          "execution_count": 201
        }
      ]
    },
    {
      "cell_type": "code",
      "metadata": {
        "id": "nkRbon7yRGz_",
        "colab": {
          "base_uri": "https://localhost:8080/"
        },
        "outputId": "4a779da1-ac40-4262-f9c0-5dc2793c0da2"
      },
      "source": [
        "# scaling\r\n",
        "\r\n",
        "input_window = 30\r\n",
        "output_window = 30\r\n",
        "\r\n",
        "test_x = np.zeros((test.shape[0] - (input_window + output_window), input_window, 4))\r\n",
        "test_y = np.zeros((test.shape[0] - (input_window + output_window), output_window, 4))\r\n",
        "\r\n",
        "for start in range(test.shape[0] - (input_window + output_window)):\r\n",
        "    end = start + input_window    \r\n",
        "    test_x[start,:, :] = test.iloc[start : end                , 1: ].values\r\n",
        "    test_y[start,:, :] = test.iloc[end   : end + output_window, 1: ].values\r\n",
        "\r\n",
        "\r\n",
        "print('test_x.shape: ', test_x.shape)\r\n",
        "print('test_y.shape: ', test_y.shape)"
      ],
      "execution_count": 202,
      "outputs": [
        {
          "output_type": "stream",
          "text": [
            "test_x.shape:  (1, 30, 4)\n",
            "test_y.shape:  (1, 30, 4)\n"
          ],
          "name": "stdout"
        }
      ]
    },
    {
      "cell_type": "code",
      "metadata": {
        "id": "lhmMXuK0AYVn",
        "colab": {
          "base_uri": "https://localhost:8080/"
        },
        "outputId": "915f1f99-c47d-4150-f9bf-8bda2fd968a5"
      },
      "source": [
        "pred = model.predict(test_x)\r\n",
        "pred[:5]"
      ],
      "execution_count": 205,
      "outputs": [
        {
          "output_type": "execute_result",
          "data": {
            "text/plain": [
              "array([[[0.40022817, 0.39372706, 0.27692318, 0.33888835],\n",
              "        [0.38961065, 0.3810348 , 0.25960314, 0.3113099 ],\n",
              "        [0.4294502 , 0.41507578, 0.28880233, 0.3883028 ],\n",
              "        [0.57350516, 0.56259114, 0.4501635 , 0.5218927 ],\n",
              "        [0.4765348 , 0.467364  , 0.3573951 , 0.40904856],\n",
              "        [0.4156783 , 0.4077924 , 0.30611813, 0.35120863],\n",
              "        [0.39636064, 0.39218706, 0.30435696, 0.30528963],\n",
              "        [0.36307785, 0.3584634 , 0.27156314, 0.28400347],\n",
              "        [0.27903116, 0.27569184, 0.22178051, 0.19545761],\n",
              "        [0.37462008, 0.3721298 , 0.3127888 , 0.26252687],\n",
              "        [0.47159705, 0.46326333, 0.39487627, 0.3773024 ],\n",
              "        [0.5758832 , 0.5726595 , 0.5498195 , 0.51826733],\n",
              "        [0.4800876 , 0.47606337, 0.40594587, 0.41935587],\n",
              "        [0.5029881 , 0.49729228, 0.44717255, 0.40659106],\n",
              "        [0.41189307, 0.40996557, 0.32963312, 0.3260718 ],\n",
              "        [0.32444862, 0.31973892, 0.24362595, 0.24606156],\n",
              "        [0.31358963, 0.30821908, 0.22619447, 0.24227071],\n",
              "        [0.5731859 , 0.56185716, 0.45973936, 0.5016769 ],\n",
              "        [0.5977129 , 0.5902312 , 0.50035036, 0.51571363],\n",
              "        [0.6287253 , 0.6153519 , 0.47962388, 0.56161374],\n",
              "        [0.72617733, 0.7119673 , 0.54668725, 0.66380554],\n",
              "        [0.6269578 , 0.6128519 , 0.45852357, 0.57276046],\n",
              "        [0.38461196, 0.38926733, 0.2929963 , 0.35597497],\n",
              "        [0.41811678, 0.41667396, 0.2834545 , 0.32897407],\n",
              "        [0.92786264, 0.92589235, 0.7197988 , 0.7954483 ],\n",
              "        [0.99637115, 0.9809154 , 0.84584224, 0.95834094],\n",
              "        [0.801074  , 0.802544  , 0.6581842 , 0.7114733 ],\n",
              "        [0.7750157 , 0.761341  , 0.61916006, 0.66807246],\n",
              "        [0.65806127, 0.62934315, 0.4624195 , 0.5738214 ],\n",
              "        [0.4736397 , 0.45610887, 0.3364939 , 0.37770942]]], dtype=float32)"
            ]
          },
          "metadata": {
            "tags": []
          },
          "execution_count": 205
        }
      ]
    },
    {
      "cell_type": "code",
      "metadata": {
        "id": "GbKK46ZASpkS",
        "colab": {
          "base_uri": "https://localhost:8080/"
        },
        "outputId": "1401b34d-ebb8-4047-a8f6-46026d8d194a"
      },
      "source": [
        "pred = pred.reshape(output_window,4)\r\n",
        "pred = pred * size.values + mini.values\r\n",
        "pred = pred.astype(int)\r\n",
        "pred"
      ],
      "execution_count": 206,
      "outputs": [
        {
          "output_type": "execute_result",
          "data": {
            "text/plain": [
              "array([[  2169,   2126,    469,  52676],\n",
              "       [  2111,   2058,    439,  48389],\n",
              "       [  2327,   2241,    489,  60357],\n",
              "       [  3107,   3038,    761,  81121],\n",
              "       [  2582,   2524,    604,  63581],\n",
              "       [  2252,   2202,    518,  54591],\n",
              "       [  2148,   2118,    515,  47454],\n",
              "       [  1967,   1936,    459,  44145],\n",
              "       [  1512,   1489,    375,  30382],\n",
              "       [  2030,   2010,    529,  40807],\n",
              "       [  2555,   2502,    668,  58647],\n",
              "       [  3120,   3092,    930,  80557],\n",
              "       [  2601,   2571,    687,  65183],\n",
              "       [  2725,   2685,    756,  63199],\n",
              "       [  2232,   2214,    558,  50684],\n",
              "       [  1758,   1727,    412,  38248],\n",
              "       [  1699,   1665,    383,  37658],\n",
              "       [  3105,   3034,    777,  77979],\n",
              "       [  3238,   3187,    846,  80160],\n",
              "       [  3406,   3323,    811,  87295],\n",
              "       [  3934,   3844,    924, 103179],\n",
              "       [  3397,   3309,    775,  89027],\n",
              "       [  2084,   2102,    496,  55332],\n",
              "       [  2265,   2250,    480,  51135],\n",
              "       [  5027,   4999,   1217, 123640],\n",
              "       [  5398,   5296,   1430, 148959],\n",
              "       [  4340,   4333,   1113, 110588],\n",
              "       [  4199,   4111,   1047, 103842],\n",
              "       [  3565,   3398,    782,  89192],\n",
              "       [  2566,   2463,    569,  58710]])"
            ]
          },
          "metadata": {
            "tags": []
          },
          "execution_count": 206
        }
      ]
    },
    {
      "cell_type": "code",
      "metadata": {
        "colab": {
          "base_uri": "https://localhost:8080/"
        },
        "id": "Q4E0hcLCFDwi",
        "outputId": "10bce91c-9e42-4563-b27f-9673d2b3afd4"
      },
      "source": [
        "pred.shape"
      ],
      "execution_count": 207,
      "outputs": [
        {
          "output_type": "execute_result",
          "data": {
            "text/plain": [
              "(30, 4)"
            ]
          },
          "metadata": {
            "tags": []
          },
          "execution_count": 207
        }
      ]
    },
    {
      "cell_type": "code",
      "metadata": {
        "colab": {
          "base_uri": "https://localhost:8080/",
          "height": 200
        },
        "id": "VzeIVzfY6B1o",
        "outputId": "9b8e9508-3d2c-402f-ed93-975a8b89fce4"
      },
      "source": [
        "baseline = pd.read_csv(path + '/open_data/baseline.csv', encoding = 'euc-kr' )\r\n",
        "baseline.head()"
      ],
      "execution_count": null,
      "outputs": [
        {
          "output_type": "execute_result",
          "data": {
            "text/html": [
              "<div>\n",
              "<style scoped>\n",
              "    .dataframe tbody tr th:only-of-type {\n",
              "        vertical-align: middle;\n",
              "    }\n",
              "\n",
              "    .dataframe tbody tr th {\n",
              "        vertical-align: top;\n",
              "    }\n",
              "\n",
              "    .dataframe thead th {\n",
              "        text-align: right;\n",
              "    }\n",
              "</style>\n",
              "<table border=\"1\" class=\"dataframe\">\n",
              "  <thead>\n",
              "    <tr style=\"text-align: right;\">\n",
              "      <th></th>\n",
              "      <th>DateTime</th>\n",
              "      <th>사용자</th>\n",
              "      <th>세션</th>\n",
              "      <th>신규방문자</th>\n",
              "      <th>페이지뷰</th>\n",
              "    </tr>\n",
              "  </thead>\n",
              "  <tbody>\n",
              "    <tr>\n",
              "      <th>0</th>\n",
              "      <td>2020-11-09</td>\n",
              "      <td>3252</td>\n",
              "      <td>3263</td>\n",
              "      <td>777</td>\n",
              "      <td>88002</td>\n",
              "    </tr>\n",
              "    <tr>\n",
              "      <th>1</th>\n",
              "      <td>2020-11-10</td>\n",
              "      <td>2825</td>\n",
              "      <td>2758</td>\n",
              "      <td>671</td>\n",
              "      <td>73749</td>\n",
              "    </tr>\n",
              "    <tr>\n",
              "      <th>2</th>\n",
              "      <td>2020-11-11</td>\n",
              "      <td>2614</td>\n",
              "      <td>2588</td>\n",
              "      <td>599</td>\n",
              "      <td>67300</td>\n",
              "    </tr>\n",
              "    <tr>\n",
              "      <th>3</th>\n",
              "      <td>2020-11-12</td>\n",
              "      <td>2391</td>\n",
              "      <td>2373</td>\n",
              "      <td>557</td>\n",
              "      <td>63723</td>\n",
              "    </tr>\n",
              "    <tr>\n",
              "      <th>4</th>\n",
              "      <td>2020-11-13</td>\n",
              "      <td>2063</td>\n",
              "      <td>2047</td>\n",
              "      <td>467</td>\n",
              "      <td>54340</td>\n",
              "    </tr>\n",
              "  </tbody>\n",
              "</table>\n",
              "</div>"
            ],
            "text/plain": [
              "     DateTime   사용자    세션  신규방문자   페이지뷰\n",
              "0  2020-11-09  3252  3263    777  88002\n",
              "1  2020-11-10  2825  2758    671  73749\n",
              "2  2020-11-11  2614  2588    599  67300\n",
              "3  2020-11-12  2391  2373    557  63723\n",
              "4  2020-11-13  2063  2047    467  54340"
            ]
          },
          "metadata": {
            "tags": []
          },
          "execution_count": 81
        }
      ]
    },
    {
      "cell_type": "code",
      "metadata": {
        "id": "ofVAKwIvT8pC"
      },
      "source": [
        "last_month = train.iloc[-30:,1:].values[np.newaxis,...].astype(float) #float() # <- 수정 후\r\n",
        "last_month"
      ],
      "execution_count": null,
      "outputs": []
    },
    {
      "cell_type": "code",
      "metadata": {
        "id": "k7ITx1KxSdyg"
      },
      "source": [
        "\r\n",
        "#last_month = torch.tensor(window_x[-1,:,:][np.newaxis,...]).float().to(device) <- 수정 전\r\n",
        "last_month = train.iloc[-30:,1:].values[np.newaxis,...] # <- 수정 후\r\n",
        "# last_month = torch.tensor(last_month).float() # <- 수정 후\r\n",
        "\r\n",
        "for start in range((len(submission) - output_window)//7 + 2):\r\n",
        "    start = start * 7\r\n",
        "    next_week = model.predict(last_month)\r\n",
        "    #last_month = torch.cat([last_month[-7:], next_week], axis = 1) <- 수정 전\r\n",
        "    last_month = torch.cat([last_month[:,7:,:], next_week], axis = 1)# <- 수정 후\r\n",
        "\r\n",
        "    pred_week = next_week.reshape(output_window,4)\r\n",
        "    pred_week = pred_week * size.values + mini.values\r\n",
        "    pred_week = pred_week.astype(int)\r\n",
        "    \r\n",
        "    if start/7 == (len(submission) - output_window)//7 + 1:\r\n",
        "        submission.iloc[start :, 1:] = pred_week[-submission.iloc[start :, 1:].shape[0]:,:]\r\n",
        "    else:\r\n",
        "        submission.iloc[start : start + output_window, 1:] = pred_week\r\n",
        "submission"
      ],
      "execution_count": null,
      "outputs": []
    },
    {
      "cell_type": "code",
      "metadata": {
        "id": "REbMo_D3UfPJ"
      },
      "source": [
        ""
      ],
      "execution_count": null,
      "outputs": []
    }
  ]
}