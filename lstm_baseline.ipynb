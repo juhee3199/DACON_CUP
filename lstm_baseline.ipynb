{
  "nbformat": 4,
  "nbformat_minor": 0,
  "metadata": {
    "colab": {
      "name": "lstm-baseline.ipynb",
      "provenance": [],
      "collapsed_sections": [
        "Li0vASmhIIhr",
        "HbonwFz84uV5"
      ]
    },
    "kernelspec": {
      "name": "python3",
      "display_name": "Python 3"
    }
  },
  "cells": [
    {
      "cell_type": "code",
      "metadata": {
        "id": "WHrGQAT_3z6X"
      },
      "source": [
        "import numpy as np\r\n",
        "import pandas as pd\r\n",
        "\r\n",
        "from sklearn.model_selection import train_test_split"
      ],
      "execution_count": 90,
      "outputs": []
    },
    {
      "cell_type": "code",
      "metadata": {
        "colab": {
          "base_uri": "https://localhost:8080/"
        },
        "id": "aAIF238v4gzi",
        "outputId": "1db902a0-5a6e-4806-8a2a-d2d3a13a23bd"
      },
      "source": [
        "path = '/content/drive/MyDrive/Colab Notebooks/DACON CUP'\r\n",
        "\r\n",
        "user =  pd.read_csv(path + '/open_data/info_user.csv', encoding = 'euc-kr')\r\n",
        "login = pd.read_csv(path +'/open_data/info_login.csv', encoding = 'euc-kr')\r\n",
        "competition = pd.read_csv(path +'/open_data/info_competition.csv', encoding = 'euc-kr')\r\n",
        "info_submission =  pd.read_csv(path +'/open_data/info_submission.csv', encoding = 'euc-kr')"
      ],
      "execution_count": 91,
      "outputs": [
        {
          "output_type": "stream",
          "text": [
            "/usr/local/lib/python3.6/dist-packages/IPython/core/interactiveshell.py:2718: DtypeWarning: Columns (4,5) have mixed types.Specify dtype option on import or set low_memory=False.\n",
            "  interactivity=interactivity, compiler=compiler, result=result)\n"
          ],
          "name": "stderr"
        }
      ]
    },
    {
      "cell_type": "code",
      "metadata": {
        "id": "fH1TWRdi4eLu",
        "colab": {
          "base_uri": "https://localhost:8080/",
          "height": 200
        },
        "outputId": "9a3d318a-cd4c-4a7c-d5b8-59ded5b2203b"
      },
      "source": [
        "train = pd.read_csv(path + '/open_data/train.csv', encoding = 'euc-kr')\r\n",
        "train.head()"
      ],
      "execution_count": 308,
      "outputs": [
        {
          "output_type": "execute_result",
          "data": {
            "text/html": [
              "<div>\n",
              "<style scoped>\n",
              "    .dataframe tbody tr th:only-of-type {\n",
              "        vertical-align: middle;\n",
              "    }\n",
              "\n",
              "    .dataframe tbody tr th {\n",
              "        vertical-align: top;\n",
              "    }\n",
              "\n",
              "    .dataframe thead th {\n",
              "        text-align: right;\n",
              "    }\n",
              "</style>\n",
              "<table border=\"1\" class=\"dataframe\">\n",
              "  <thead>\n",
              "    <tr style=\"text-align: right;\">\n",
              "      <th></th>\n",
              "      <th>DateTime</th>\n",
              "      <th>사용자</th>\n",
              "      <th>세션</th>\n",
              "      <th>신규방문자</th>\n",
              "      <th>페이지뷰</th>\n",
              "    </tr>\n",
              "  </thead>\n",
              "  <tbody>\n",
              "    <tr>\n",
              "      <th>0</th>\n",
              "      <td>2018-09-09 00:00:00</td>\n",
              "      <td>19</td>\n",
              "      <td>19</td>\n",
              "      <td>8</td>\n",
              "      <td>206</td>\n",
              "    </tr>\n",
              "    <tr>\n",
              "      <th>1</th>\n",
              "      <td>2018-09-09 01:00:00</td>\n",
              "      <td>20</td>\n",
              "      <td>19</td>\n",
              "      <td>9</td>\n",
              "      <td>259</td>\n",
              "    </tr>\n",
              "    <tr>\n",
              "      <th>2</th>\n",
              "      <td>2018-09-09 02:00:00</td>\n",
              "      <td>12</td>\n",
              "      <td>9</td>\n",
              "      <td>1</td>\n",
              "      <td>48</td>\n",
              "    </tr>\n",
              "    <tr>\n",
              "      <th>3</th>\n",
              "      <td>2018-09-09 03:00:00</td>\n",
              "      <td>10</td>\n",
              "      <td>10</td>\n",
              "      <td>2</td>\n",
              "      <td>102</td>\n",
              "    </tr>\n",
              "    <tr>\n",
              "      <th>4</th>\n",
              "      <td>2018-09-09 04:00:00</td>\n",
              "      <td>6</td>\n",
              "      <td>5</td>\n",
              "      <td>3</td>\n",
              "      <td>18</td>\n",
              "    </tr>\n",
              "  </tbody>\n",
              "</table>\n",
              "</div>"
            ],
            "text/plain": [
              "              DateTime  사용자  세션  신규방문자  페이지뷰\n",
              "0  2018-09-09 00:00:00   19  19      8   206\n",
              "1  2018-09-09 01:00:00   20  19      9   259\n",
              "2  2018-09-09 02:00:00   12   9      1    48\n",
              "3  2018-09-09 03:00:00   10  10      2   102\n",
              "4  2018-09-09 04:00:00    6   5      3    18"
            ]
          },
          "metadata": {
            "tags": []
          },
          "execution_count": 308
        }
      ]
    },
    {
      "cell_type": "code",
      "metadata": {
        "id": "YsCktWIeAIWq",
        "colab": {
          "base_uri": "https://localhost:8080/"
        },
        "outputId": "d26f79fc-0aaf-4195-d957-07676a1f1b74"
      },
      "source": [
        "train.info()"
      ],
      "execution_count": 309,
      "outputs": [
        {
          "output_type": "stream",
          "text": [
            "<class 'pandas.core.frame.DataFrame'>\n",
            "RangeIndex: 19008 entries, 0 to 19007\n",
            "Data columns (total 5 columns):\n",
            " #   Column    Non-Null Count  Dtype \n",
            "---  ------    --------------  ----- \n",
            " 0   DateTime  19008 non-null  object\n",
            " 1   사용자       19008 non-null  int64 \n",
            " 2   세션        19008 non-null  int64 \n",
            " 3   신규방문자     19008 non-null  int64 \n",
            " 4   페이지뷰      19008 non-null  int64 \n",
            "dtypes: int64(4), object(1)\n",
            "memory usage: 742.6+ KB\n"
          ],
          "name": "stdout"
        }
      ]
    },
    {
      "cell_type": "code",
      "metadata": {
        "id": "eOujb_mO_676",
        "colab": {
          "base_uri": "https://localhost:8080/",
          "height": 200
        },
        "outputId": "860cd84e-0efc-47fc-c489-d227214d3928"
      },
      "source": [
        "# date 기준으로.\r\n",
        "\r\n",
        "train['DateTime'] = pd.to_datetime(train.DateTime) #dtype: datetime으로 변경\r\n",
        "train['date'] = train.DateTime.dt.date\r\n",
        "train  = train.groupby('date').sum().reset_index()\r\n",
        "train.head()"
      ],
      "execution_count": 310,
      "outputs": [
        {
          "output_type": "execute_result",
          "data": {
            "text/html": [
              "<div>\n",
              "<style scoped>\n",
              "    .dataframe tbody tr th:only-of-type {\n",
              "        vertical-align: middle;\n",
              "    }\n",
              "\n",
              "    .dataframe tbody tr th {\n",
              "        vertical-align: top;\n",
              "    }\n",
              "\n",
              "    .dataframe thead th {\n",
              "        text-align: right;\n",
              "    }\n",
              "</style>\n",
              "<table border=\"1\" class=\"dataframe\">\n",
              "  <thead>\n",
              "    <tr style=\"text-align: right;\">\n",
              "      <th></th>\n",
              "      <th>date</th>\n",
              "      <th>사용자</th>\n",
              "      <th>세션</th>\n",
              "      <th>신규방문자</th>\n",
              "      <th>페이지뷰</th>\n",
              "    </tr>\n",
              "  </thead>\n",
              "  <tbody>\n",
              "    <tr>\n",
              "      <th>0</th>\n",
              "      <td>2018-09-09</td>\n",
              "      <td>281</td>\n",
              "      <td>266</td>\n",
              "      <td>73</td>\n",
              "      <td>1826</td>\n",
              "    </tr>\n",
              "    <tr>\n",
              "      <th>1</th>\n",
              "      <td>2018-09-10</td>\n",
              "      <td>264</td>\n",
              "      <td>247</td>\n",
              "      <td>51</td>\n",
              "      <td>2092</td>\n",
              "    </tr>\n",
              "    <tr>\n",
              "      <th>2</th>\n",
              "      <td>2018-09-11</td>\n",
              "      <td>329</td>\n",
              "      <td>310</td>\n",
              "      <td>58</td>\n",
              "      <td>1998</td>\n",
              "    </tr>\n",
              "    <tr>\n",
              "      <th>3</th>\n",
              "      <td>2018-09-12</td>\n",
              "      <td>300</td>\n",
              "      <td>287</td>\n",
              "      <td>45</td>\n",
              "      <td>2595</td>\n",
              "    </tr>\n",
              "    <tr>\n",
              "      <th>4</th>\n",
              "      <td>2018-09-13</td>\n",
              "      <td>378</td>\n",
              "      <td>344</td>\n",
              "      <td>50</td>\n",
              "      <td>3845</td>\n",
              "    </tr>\n",
              "  </tbody>\n",
              "</table>\n",
              "</div>"
            ],
            "text/plain": [
              "         date  사용자   세션  신규방문자  페이지뷰\n",
              "0  2018-09-09  281  266     73  1826\n",
              "1  2018-09-10  264  247     51  2092\n",
              "2  2018-09-11  329  310     58  1998\n",
              "3  2018-09-12  300  287     45  2595\n",
              "4  2018-09-13  378  344     50  3845"
            ]
          },
          "metadata": {
            "tags": []
          },
          "execution_count": 310
        }
      ]
    },
    {
      "cell_type": "code",
      "metadata": {
        "id": "c3B6jULuUW5Q",
        "colab": {
          "base_uri": "https://localhost:8080/"
        },
        "outputId": "aee9be96-5581-4454-c8d3-c5927764423f"
      },
      "source": [
        "# scaling\r\n",
        "mini = train.iloc[:,1:].min()\r\n",
        "size = train.iloc[:,1:].max() - train.iloc[:,1:].min()\r\n",
        "train.iloc[:,1:] = (train.iloc[:,1:] -  mini) / size\r\n",
        "\r\n",
        "input_window = 61\r\n",
        "output_window = 61 # 7\r\n",
        "\r\n",
        "window_x = np.zeros((train.shape[0] - (input_window + output_window), input_window, 4))\r\n",
        "window_y = np.zeros((train.shape[0] - (input_window + output_window), output_window, 4))\r\n",
        "\r\n",
        "for start in range(train.shape[0] - (input_window + output_window)):\r\n",
        "    end = start + input_window    \r\n",
        "    window_x[start,:, :] = train.iloc[start : end                , 1: ].values\r\n",
        "    window_y[start,:, :] = train.iloc[end   : end + output_window, 1: ].values\r\n",
        "\r\n",
        "\r\n",
        "print('window_x.shape: ', window_x.shape)\r\n",
        "print('window_y.shape: ', window_y.shape)"
      ],
      "execution_count": 311,
      "outputs": [
        {
          "output_type": "stream",
          "text": [
            "window_x.shape:  (670, 61, 4)\n",
            "window_y.shape:  (670, 61, 4)\n"
          ],
          "name": "stdout"
        }
      ]
    },
    {
      "cell_type": "code",
      "metadata": {
        "id": "wy1pDYOzVKDD"
      },
      "source": [
        "# window_x"
      ],
      "execution_count": 300,
      "outputs": []
    },
    {
      "cell_type": "markdown",
      "metadata": {
        "id": "dHc8qQZCDedw"
      },
      "source": [
        "- 시계열 데이터 임베딩 찾아서 적용해보기\r\n",
        "- 스케일링 다르게 해보기\r\n",
        "- dropout 적용해보기"
      ]
    },
    {
      "cell_type": "code",
      "metadata": {
        "id": "RMVmMfUBILC-"
      },
      "source": [
        "import tensorflow as tf\r\n",
        "from tensorflow import keras\r\n",
        "from tensorflow.keras import layers, Sequential\r\n",
        "\r\n",
        "from tensorflow.keras.layers import Dense, Conv1D, LSTM, Input, TimeDistributed\r\n",
        "from tensorflow.keras.models import Model\r\n"
      ],
      "execution_count": 301,
      "outputs": []
    },
    {
      "cell_type": "markdown",
      "metadata": {
        "id": "LJZU8NwSoRz5"
      },
      "source": [
        "optimizer = Adam, loss = mse, activation_function = 따로지정x"
      ]
    },
    {
      "cell_type": "code",
      "metadata": {
        "id": "GKj7gc585ToK",
        "colab": {
          "base_uri": "https://localhost:8080/"
        },
        "outputId": "63b5d972-613d-4f3f-9b2d-cfbfbad17f6e"
      },
      "source": [
        "model = Sequential()\r\n",
        "model.add(LSTM(32, input_shape=(61, 4), return_sequences=True))  # ()\r\n",
        "model.add(LSTM(32, return_sequences=True)) \r\n",
        "model.add(LSTM(32, return_sequences=True)) \r\n",
        "model.add(LSTM(32, return_sequences=True)) \r\n",
        "model.add(LSTM(32, return_sequences=True)) \r\n",
        "model.add(TimeDistributed(Dense(4)))\r\n",
        "\r\n",
        "model.summary()\r\n",
        "\r\n",
        "opt = keras.optimizers.Adam(learning_rate=0.01)\r\n",
        "model.compile(loss='mean_squared_error', optimizer=opt)\r\n",
        "\r\n",
        "model.fit(window_x, window_y, epochs=100, batch_size=50)\r\n",
        "\r\n",
        "# lstm2층 - epochs100, batch_size=10"
      ],
      "execution_count": 322,
      "outputs": [
        {
          "output_type": "stream",
          "text": [
            "Model: \"sequential_10\"\n",
            "_________________________________________________________________\n",
            "Layer (type)                 Output Shape              Param #   \n",
            "=================================================================\n",
            "lstm_25 (LSTM)               (None, 61, 32)            4736      \n",
            "_________________________________________________________________\n",
            "lstm_26 (LSTM)               (None, 61, 32)            8320      \n",
            "_________________________________________________________________\n",
            "lstm_27 (LSTM)               (None, 61, 32)            8320      \n",
            "_________________________________________________________________\n",
            "lstm_28 (LSTM)               (None, 61, 32)            8320      \n",
            "_________________________________________________________________\n",
            "lstm_29 (LSTM)               (None, 61, 32)            8320      \n",
            "_________________________________________________________________\n",
            "time_distributed_10 (TimeDis (None, 61, 4)             132       \n",
            "=================================================================\n",
            "Total params: 38,148\n",
            "Trainable params: 38,148\n",
            "Non-trainable params: 0\n",
            "_________________________________________________________________\n",
            "Epoch 1/100\n",
            "34/34 [==============================] - 11s 99ms/step - loss: 0.0279\n",
            "Epoch 2/100\n",
            "34/34 [==============================] - 3s 100ms/step - loss: 0.0107\n",
            "Epoch 3/100\n",
            "34/34 [==============================] - 3s 98ms/step - loss: 0.0101\n",
            "Epoch 4/100\n",
            "34/34 [==============================] - 3s 99ms/step - loss: 0.0096\n",
            "Epoch 5/100\n",
            "34/34 [==============================] - 3s 99ms/step - loss: 0.0096\n",
            "Epoch 6/100\n",
            "34/34 [==============================] - 3s 98ms/step - loss: 0.0091\n",
            "Epoch 7/100\n",
            "34/34 [==============================] - 3s 97ms/step - loss: 0.0093\n",
            "Epoch 8/100\n",
            "34/34 [==============================] - 3s 100ms/step - loss: 0.0076\n",
            "Epoch 9/100\n",
            "34/34 [==============================] - 3s 97ms/step - loss: 0.0072\n",
            "Epoch 10/100\n",
            "34/34 [==============================] - 3s 98ms/step - loss: 0.0067\n",
            "Epoch 11/100\n",
            "34/34 [==============================] - 3s 98ms/step - loss: 0.0060\n",
            "Epoch 12/100\n",
            "34/34 [==============================] - 3s 98ms/step - loss: 0.0056\n",
            "Epoch 13/100\n",
            "34/34 [==============================] - 3s 101ms/step - loss: 0.0058\n",
            "Epoch 14/100\n",
            "34/34 [==============================] - 3s 97ms/step - loss: 0.0050\n",
            "Epoch 15/100\n",
            "34/34 [==============================] - 3s 97ms/step - loss: 0.0050\n",
            "Epoch 16/100\n",
            "34/34 [==============================] - 3s 99ms/step - loss: 0.0052\n",
            "Epoch 17/100\n",
            "34/34 [==============================] - 3s 98ms/step - loss: 0.0043\n",
            "Epoch 18/100\n",
            "34/34 [==============================] - 3s 100ms/step - loss: 0.0042\n",
            "Epoch 19/100\n",
            "34/34 [==============================] - 3s 97ms/step - loss: 0.0039\n",
            "Epoch 20/100\n",
            "34/34 [==============================] - 3s 103ms/step - loss: 0.0039\n",
            "Epoch 21/100\n",
            "34/34 [==============================] - 3s 98ms/step - loss: 0.0036\n",
            "Epoch 22/100\n",
            "34/34 [==============================] - 3s 100ms/step - loss: 0.0045\n",
            "Epoch 23/100\n",
            "34/34 [==============================] - 3s 98ms/step - loss: 0.0042\n",
            "Epoch 24/100\n",
            "34/34 [==============================] - 3s 98ms/step - loss: 0.0037\n",
            "Epoch 25/100\n",
            "34/34 [==============================] - 3s 98ms/step - loss: 0.0032\n",
            "Epoch 26/100\n",
            "34/34 [==============================] - 3s 98ms/step - loss: 0.0029\n",
            "Epoch 27/100\n",
            "34/34 [==============================] - 3s 97ms/step - loss: 0.0035\n",
            "Epoch 28/100\n",
            "34/34 [==============================] - 3s 98ms/step - loss: 0.0028\n",
            "Epoch 29/100\n",
            "34/34 [==============================] - 3s 100ms/step - loss: 0.0027\n",
            "Epoch 30/100\n",
            "34/34 [==============================] - 3s 100ms/step - loss: 0.0024\n",
            "Epoch 31/100\n",
            "34/34 [==============================] - 3s 98ms/step - loss: 0.0025\n",
            "Epoch 32/100\n",
            "34/34 [==============================] - 3s 99ms/step - loss: 0.0025\n",
            "Epoch 33/100\n",
            "34/34 [==============================] - 3s 98ms/step - loss: 0.0020\n",
            "Epoch 34/100\n",
            "34/34 [==============================] - 3s 99ms/step - loss: 0.0019\n",
            "Epoch 35/100\n",
            "34/34 [==============================] - 3s 98ms/step - loss: 0.0018\n",
            "Epoch 36/100\n",
            "34/34 [==============================] - 3s 103ms/step - loss: 0.0017\n",
            "Epoch 37/100\n",
            "34/34 [==============================] - 3s 100ms/step - loss: 0.0016\n",
            "Epoch 38/100\n",
            "34/34 [==============================] - 3s 101ms/step - loss: 0.0016\n",
            "Epoch 39/100\n",
            "34/34 [==============================] - 3s 98ms/step - loss: 0.0015\n",
            "Epoch 40/100\n",
            "34/34 [==============================] - 3s 99ms/step - loss: 0.0013\n",
            "Epoch 41/100\n",
            "34/34 [==============================] - 3s 98ms/step - loss: 0.0014\n",
            "Epoch 42/100\n",
            "34/34 [==============================] - 3s 100ms/step - loss: 0.0015\n",
            "Epoch 43/100\n",
            "34/34 [==============================] - 3s 101ms/step - loss: 0.0013\n",
            "Epoch 44/100\n",
            "34/34 [==============================] - 3s 102ms/step - loss: 0.0013\n",
            "Epoch 45/100\n",
            "34/34 [==============================] - 4s 107ms/step - loss: 0.0012\n",
            "Epoch 46/100\n",
            "34/34 [==============================] - 4s 109ms/step - loss: 0.0012\n",
            "Epoch 47/100\n",
            "34/34 [==============================] - 4s 104ms/step - loss: 0.0011\n",
            "Epoch 48/100\n",
            "34/34 [==============================] - 3s 100ms/step - loss: 0.0011\n",
            "Epoch 49/100\n",
            "34/34 [==============================] - 3s 100ms/step - loss: 0.0012\n",
            "Epoch 50/100\n",
            "34/34 [==============================] - 3s 100ms/step - loss: 0.0011\n",
            "Epoch 51/100\n",
            "34/34 [==============================] - 3s 99ms/step - loss: 0.0010\n",
            "Epoch 52/100\n",
            "34/34 [==============================] - 3s 103ms/step - loss: 0.0011\n",
            "Epoch 53/100\n",
            "34/34 [==============================] - 3s 102ms/step - loss: 9.5806e-04\n",
            "Epoch 54/100\n",
            "34/34 [==============================] - 3s 100ms/step - loss: 9.7859e-04\n",
            "Epoch 55/100\n",
            "34/34 [==============================] - 3s 100ms/step - loss: 9.0112e-04\n",
            "Epoch 56/100\n",
            "34/34 [==============================] - 3s 101ms/step - loss: 0.0010\n",
            "Epoch 57/100\n",
            "34/34 [==============================] - 3s 100ms/step - loss: 9.3264e-04\n",
            "Epoch 58/100\n",
            "34/34 [==============================] - 4s 104ms/step - loss: 8.3966e-04\n",
            "Epoch 59/100\n",
            "34/34 [==============================] - 4s 103ms/step - loss: 9.0543e-04\n",
            "Epoch 60/100\n",
            "34/34 [==============================] - 3s 102ms/step - loss: 9.2584e-04\n",
            "Epoch 61/100\n",
            "34/34 [==============================] - 3s 102ms/step - loss: 8.2584e-04\n",
            "Epoch 62/100\n",
            "34/34 [==============================] - 3s 102ms/step - loss: 7.5836e-04\n",
            "Epoch 63/100\n",
            "34/34 [==============================] - 3s 101ms/step - loss: 7.8426e-04\n",
            "Epoch 64/100\n",
            "34/34 [==============================] - 4s 104ms/step - loss: 7.7245e-04\n",
            "Epoch 65/100\n",
            "34/34 [==============================] - 3s 100ms/step - loss: 7.6115e-04\n",
            "Epoch 66/100\n",
            "34/34 [==============================] - 3s 103ms/step - loss: 9.3730e-04\n",
            "Epoch 67/100\n",
            "34/34 [==============================] - 3s 103ms/step - loss: 0.0010\n",
            "Epoch 68/100\n",
            "34/34 [==============================] - 3s 101ms/step - loss: 8.3052e-04\n",
            "Epoch 69/100\n",
            "34/34 [==============================] - 3s 101ms/step - loss: 7.6869e-04\n",
            "Epoch 70/100\n",
            "34/34 [==============================] - 3s 101ms/step - loss: 7.0411e-04\n",
            "Epoch 71/100\n",
            "34/34 [==============================] - 3s 100ms/step - loss: 7.0051e-04\n",
            "Epoch 72/100\n",
            "34/34 [==============================] - 3s 100ms/step - loss: 6.5702e-04\n",
            "Epoch 73/100\n",
            "34/34 [==============================] - 3s 101ms/step - loss: 7.6839e-04\n",
            "Epoch 74/100\n",
            "34/34 [==============================] - 3s 98ms/step - loss: 7.3209e-04\n",
            "Epoch 75/100\n",
            "34/34 [==============================] - 3s 98ms/step - loss: 6.5180e-04\n",
            "Epoch 76/100\n",
            "34/34 [==============================] - 3s 99ms/step - loss: 6.6576e-04\n",
            "Epoch 77/100\n",
            "34/34 [==============================] - 3s 98ms/step - loss: 7.2267e-04\n",
            "Epoch 78/100\n",
            "34/34 [==============================] - 3s 99ms/step - loss: 6.8127e-04\n",
            "Epoch 79/100\n",
            "34/34 [==============================] - 3s 99ms/step - loss: 6.1900e-04\n",
            "Epoch 80/100\n",
            "34/34 [==============================] - 3s 98ms/step - loss: 6.0675e-04\n",
            "Epoch 81/100\n",
            "34/34 [==============================] - 3s 99ms/step - loss: 6.6716e-04\n",
            "Epoch 82/100\n",
            "34/34 [==============================] - 3s 101ms/step - loss: 6.5294e-04\n",
            "Epoch 83/100\n",
            "34/34 [==============================] - 4s 103ms/step - loss: 6.5767e-04\n",
            "Epoch 84/100\n",
            "34/34 [==============================] - 3s 101ms/step - loss: 6.4339e-04\n",
            "Epoch 85/100\n",
            "34/34 [==============================] - 3s 99ms/step - loss: 5.8643e-04\n",
            "Epoch 86/100\n",
            "34/34 [==============================] - 3s 99ms/step - loss: 5.9697e-04\n",
            "Epoch 87/100\n",
            "34/34 [==============================] - 3s 99ms/step - loss: 5.7390e-04\n",
            "Epoch 88/100\n",
            "34/34 [==============================] - 3s 99ms/step - loss: 5.9993e-04\n",
            "Epoch 89/100\n",
            "34/34 [==============================] - 3s 100ms/step - loss: 5.7437e-04\n",
            "Epoch 90/100\n",
            "34/34 [==============================] - 3s 101ms/step - loss: 6.2034e-04\n",
            "Epoch 91/100\n",
            "34/34 [==============================] - 4s 103ms/step - loss: 5.5573e-04\n",
            "Epoch 92/100\n",
            "34/34 [==============================] - 3s 99ms/step - loss: 5.4587e-04\n",
            "Epoch 93/100\n",
            "34/34 [==============================] - 3s 99ms/step - loss: 5.1591e-04\n",
            "Epoch 94/100\n",
            "34/34 [==============================] - 3s 98ms/step - loss: 5.8953e-04\n",
            "Epoch 95/100\n",
            "34/34 [==============================] - 3s 97ms/step - loss: 5.7147e-04\n",
            "Epoch 96/100\n",
            "34/34 [==============================] - 3s 98ms/step - loss: 5.1799e-04\n",
            "Epoch 97/100\n",
            "34/34 [==============================] - 3s 98ms/step - loss: 6.3577e-04\n",
            "Epoch 98/100\n",
            "34/34 [==============================] - 3s 99ms/step - loss: 5.4119e-04\n",
            "Epoch 99/100\n",
            "34/34 [==============================] - 3s 101ms/step - loss: 5.1526e-04\n",
            "Epoch 100/100\n",
            "34/34 [==============================] - 3s 103ms/step - loss: 5.3308e-04\n"
          ],
          "name": "stdout"
        },
        {
          "output_type": "execute_result",
          "data": {
            "text/plain": [
              "<tensorflow.python.keras.callbacks.History at 0x7f6ebd0af6a0>"
            ]
          },
          "metadata": {
            "tags": []
          },
          "execution_count": 322
        }
      ]
    },
    {
      "cell_type": "markdown",
      "metadata": {
        "id": "dbInac4YQ8pV"
      },
      "source": [
        "## test : last_month"
      ]
    },
    {
      "cell_type": "code",
      "metadata": {
        "colab": {
          "base_uri": "https://localhost:8080/"
        },
        "id": "hL8wR22W18Co",
        "outputId": "6160e147-61c7-4b5d-99b7-2e7318a50932"
      },
      "source": [
        "# train은 이미 위에서 minmax scaler적용되어있음.\r\n",
        "\r\n",
        "last_month = train.iloc[-61:,1:].values[np.newaxis,...] # np.newaxis: 3D로 차원을 늘려줌. \r\n",
        "last_month.shape"
      ],
      "execution_count": 323,
      "outputs": [
        {
          "output_type": "execute_result",
          "data": {
            "text/plain": [
              "(1, 61, 4)"
            ]
          },
          "metadata": {
            "tags": []
          },
          "execution_count": 323
        }
      ]
    },
    {
      "cell_type": "code",
      "metadata": {
        "colab": {
          "base_uri": "https://localhost:8080/"
        },
        "id": "qaMBTNjj2JW9",
        "outputId": "1d1b4889-0e9c-42a6-bed6-de581358113f"
      },
      "source": [
        "pred_month = model.predict(last_month)\r\n",
        "pred_month[:5]"
      ],
      "execution_count": 324,
      "outputs": [
        {
          "output_type": "stream",
          "text": [
            "WARNING:tensorflow:5 out of the last 12 calls to <function Model.make_predict_function.<locals>.predict_function at 0x7f6ebc693158> triggered tf.function retracing. Tracing is expensive and the excessive number of tracings could be due to (1) creating @tf.function repeatedly in a loop, (2) passing tensors with different shapes, (3) passing Python objects instead of tensors. For (1), please define your @tf.function outside of the loop. For (2), @tf.function has experimental_relax_shapes=True option that relaxes argument shapes that can avoid unnecessary retracing. For (3), please refer to https://www.tensorflow.org/guide/function#controlling_retracing and https://www.tensorflow.org/api_docs/python/tf/function for  more details.\n"
          ],
          "name": "stdout"
        },
        {
          "output_type": "execute_result",
          "data": {
            "text/plain": [
              "array([[[0.43963647, 0.43365198, 0.32959282, 0.4240301 ],\n",
              "        [0.5167538 , 0.50954247, 0.3996908 , 0.49516553],\n",
              "        [0.5285641 , 0.5220842 , 0.42350447, 0.48978907],\n",
              "        [0.4824617 , 0.4778763 , 0.414187  , 0.4362203 ],\n",
              "        [0.48066807, 0.48141915, 0.4268977 , 0.42275542],\n",
              "        [0.3485274 , 0.34517598, 0.28855813, 0.28458583],\n",
              "        [0.35799232, 0.35710925, 0.28475055, 0.32664666],\n",
              "        [0.6784514 , 0.6827958 , 0.6185802 , 0.65212035],\n",
              "        [0.6934716 , 0.69402695, 0.60501873, 0.6752107 ],\n",
              "        [0.5951985 , 0.60278666, 0.49803567, 0.5573926 ],\n",
              "        [0.5846635 , 0.60112315, 0.533925  , 0.5143457 ],\n",
              "        [0.85704595, 0.90893114, 0.9535506 , 0.8849674 ],\n",
              "        [0.40649867, 0.40829855, 0.38670433, 0.3048669 ],\n",
              "        [0.2778231 , 0.26801777, 0.21661475, 0.22114849],\n",
              "        [0.45005727, 0.44205242, 0.31538743, 0.5300254 ],\n",
              "        [0.55307066, 0.53001297, 0.42574823, 0.6445355 ],\n",
              "        [0.55094147, 0.5259095 , 0.4103186 , 0.6477212 ],\n",
              "        [0.48406917, 0.4664452 , 0.35528255, 0.51738554],\n",
              "        [0.45900154, 0.44719905, 0.32405126, 0.4630438 ],\n",
              "        [0.32287174, 0.31915992, 0.23235731, 0.29937917],\n",
              "        [0.32079673, 0.31611726, 0.2328754 , 0.30512017],\n",
              "        [0.5844586 , 0.5738543 , 0.465006  , 0.560197  ],\n",
              "        [0.60013294, 0.59224457, 0.5322892 , 0.48959112],\n",
              "        [0.42514908, 0.41492534, 0.32923973, 0.3233268 ],\n",
              "        [0.500391  , 0.49945277, 0.43562812, 0.4796862 ],\n",
              "        [0.26280594, 0.25533646, 0.20591462, 0.21900284],\n",
              "        [0.26983348, 0.26877916, 0.23807965, 0.20963743],\n",
              "        [0.3195749 , 0.3140309 , 0.23896147, 0.27732366],\n",
              "        [0.69394606, 0.69232947, 0.6049195 , 0.6785846 ],\n",
              "        [0.5707366 , 0.56646776, 0.44262147, 0.5097246 ],\n",
              "        [0.4717036 , 0.4658085 , 0.36517507, 0.4087428 ],\n",
              "        [0.4672353 , 0.46535814, 0.36999506, 0.37529328],\n",
              "        [0.5437784 , 0.54594326, 0.5013027 , 0.43765223],\n",
              "        [0.3627716 , 0.35406756, 0.2946504 , 0.30258855],\n",
              "        [0.28265226, 0.2734    , 0.20582567, 0.24651569],\n",
              "        [0.5729007 , 0.55840915, 0.43477613, 0.55174685],\n",
              "        [0.68256027, 0.67709225, 0.5873324 , 0.66177905],\n",
              "        [0.60212326, 0.6021744 , 0.4871347 , 0.5848552 ],\n",
              "        [0.54851335, 0.55400383, 0.47143972, 0.46846095],\n",
              "        [0.9630393 , 1.0082732 , 1.0842934 , 0.9331631 ],\n",
              "        [0.37853324, 0.37819356, 0.36685798, 0.296385  ],\n",
              "        [0.28553447, 0.26768398, 0.23739387, 0.25912374],\n",
              "        [0.5328684 , 0.51074946, 0.39800513, 0.6212697 ],\n",
              "        [0.496974  , 0.47660553, 0.33102226, 0.5931027 ],\n",
              "        [0.5138768 , 0.49077713, 0.35094002, 0.58629596],\n",
              "        [0.49290767, 0.4767475 , 0.34988987, 0.5087729 ],\n",
              "        [0.46938217, 0.46310425, 0.33827603, 0.4516689 ],\n",
              "        [0.3358174 , 0.33412766, 0.26192433, 0.3168432 ],\n",
              "        [0.3363234 , 0.33656985, 0.25867265, 0.3492182 ],\n",
              "        [0.7253599 , 0.727644  , 0.64037246, 0.7490193 ],\n",
              "        [0.61753607, 0.6072988 , 0.5339674 , 0.559991  ],\n",
              "        [0.5873121 , 0.5716152 , 0.45027822, 0.604534  ],\n",
              "        [0.5472332 , 0.54592925, 0.4718483 , 0.44699854],\n",
              "        [0.4263726 , 0.4208057 , 0.3542526 , 0.36435235],\n",
              "        [0.3150152 , 0.31438208, 0.19316871, 0.29501408],\n",
              "        [0.30195946, 0.31047785, 0.21113384, 0.30568805],\n",
              "        [0.36531723, 0.36585885, 0.22853054, 0.39968273],\n",
              "        [0.41831115, 0.41167855, 0.2686273 , 0.44634593],\n",
              "        [0.4368385 , 0.4337991 , 0.3216319 , 0.41885567],\n",
              "        [0.512882  , 0.5047817 , 0.40534782, 0.45590037],\n",
              "        [0.4683582 , 0.46477306, 0.3700223 , 0.3997435 ]]], dtype=float32)"
            ]
          },
          "metadata": {
            "tags": []
          },
          "execution_count": 324
        }
      ]
    },
    {
      "cell_type": "code",
      "metadata": {
        "colab": {
          "base_uri": "https://localhost:8080/"
        },
        "id": "HoED9_139dCn",
        "outputId": "04701e44-51fc-4bc7-b38d-bcc5c713fe30"
      },
      "source": [
        "pred_month = pred_month.reshape(output_window,4)\r\n",
        "pred_month = pred_month * size.values + mini.values\r\n",
        "pred_month = pred_month.astype(int)\r\n",
        "pred_month\r\n"
      ],
      "execution_count": 325,
      "outputs": [
        {
          "output_type": "execute_result",
          "data": {
            "text/plain": [
              "array([[  2382,   2342,    558,  65910],\n",
              "       [  2800,   2752,    676,  76967],\n",
              "       [  2864,   2819,    716,  76131],\n",
              "       [  2614,   2581,    700,  67805],\n",
              "       [  2604,   2600,    722,  65712],\n",
              "       [  1888,   1864,    488,  44236],\n",
              "       [  1940,   1929,    482,  50773],\n",
              "       [  3676,   3687,   1046, 101363],\n",
              "       [  3757,   3748,   1023, 104952],\n",
              "       [  3225,   3255,    842,  86639],\n",
              "       [  3168,   3246,    903,  79948],\n",
              "       [  4643,   4908,   1612, 137555],\n",
              "       [  2203,   2205,    654,  47388],\n",
              "       [  1505,   1448,    367,  34375],\n",
              "       [  2438,   2387,    534,  82385],\n",
              "       [  2996,   2862,    720, 100184],\n",
              "       [  2985,   2840,    694, 100679],\n",
              "       [  2623,   2519,    601,  80420],\n",
              "       [  2487,   2415,    548,  71974],\n",
              "       [  1749,   1724,    393,  46535],\n",
              "       [  1738,   1707,    394,  47427],\n",
              "       [  3167,   3099,    786,  87075],\n",
              "       [  3251,   3198,    900,  76100],\n",
              "       [  2304,   2241,    557,  50257],\n",
              "       [  2711,   2697,    737,  74561],\n",
              "       [  1424,   1379,    348,  34042],\n",
              "       [  1462,   1452,    403,  32586],\n",
              "       [  1732,   1696,    404,  43107],\n",
              "       [  3760,   3738,   1023, 105476],\n",
              "       [  3092,   3059,    749,  79230],\n",
              "       [  2556,   2515,    618,  63534],\n",
              "       [  2532,   2513,    626,  58334],\n",
              "       [  2946,   2948,    848,  68027],\n",
              "       [  1966,   1912,    498,  47034],\n",
              "       [  1532,   1477,    348,  38318],\n",
              "       [  3104,   3015,    735,  85761],\n",
              "       [  3698,   3656,    993, 102864],\n",
              "       [  3262,   3252,    824,  90907],\n",
              "       [  2972,   2992,    797,  72816],\n",
              "       [  5217,   5444,   1833, 145046],\n",
              "       [  2051,   2042,    620,  46070],\n",
              "       [  1547,   1446,    402,  40278],\n",
              "       [  2887,   2758,    673,  96567],\n",
              "       [  2693,   2574,    560,  92189],\n",
              "       [  2784,   2650,    594,  91131],\n",
              "       [  2671,   2574,    592,  79082],\n",
              "       [  2543,   2501,    572,  70206],\n",
              "       [  1820,   1804,    443,  49249],\n",
              "       [  1822,   1818,    438,  54282],\n",
              "       [  3930,   3929,   1083, 116424],\n",
              "       [  3346,   3279,    903,  87043],\n",
              "       [  3182,   3087,    761,  93966],\n",
              "       [  2965,   2948,    798,  69480],\n",
              "       [  2310,   2272,    599,  56634],\n",
              "       [  1707,   1698,    327,  45856],\n",
              "       [  1636,   1677,    357,  47516],\n",
              "       [  1979,   1976,    387,  62125],\n",
              "       [  2266,   2223,    454,  69378],\n",
              "       [  2367,   2343,    544,  65105],\n",
              "       [  2779,   2726,    686,  70863],\n",
              "       [  2538,   2510,    626,  62135]])"
            ]
          },
          "metadata": {
            "tags": []
          },
          "execution_count": 325
        }
      ]
    },
    {
      "cell_type": "code",
      "metadata": {
        "colab": {
          "base_uri": "https://localhost:8080/"
        },
        "id": "FY7lgRivG5-L",
        "outputId": "434a3eae-0832-467e-b1bf-89a2b172a80d"
      },
      "source": [
        "pred_month.shape"
      ],
      "execution_count": 326,
      "outputs": [
        {
          "output_type": "execute_result",
          "data": {
            "text/plain": [
              "(61, 4)"
            ]
          },
          "metadata": {
            "tags": []
          },
          "execution_count": 326
        }
      ]
    },
    {
      "cell_type": "code",
      "metadata": {
        "id": "urw5Fqn0Jv7l"
      },
      "source": [
        ""
      ],
      "execution_count": null,
      "outputs": []
    },
    {
      "cell_type": "markdown",
      "metadata": {
        "id": "hkxkXBgBJ4tg"
      },
      "source": [
        "## submit"
      ]
    },
    {
      "cell_type": "code",
      "metadata": {
        "colab": {
          "base_uri": "https://localhost:8080/"
        },
        "id": "444WoejNJ4t9",
        "outputId": "b46efa12-4fbe-4498-a832-8f229dd6e433"
      },
      "source": [
        "submission =  pd.read_csv(path + '/open_data/submission.csv', encoding = 'euc-kr')\r\n",
        "submission.shape"
      ],
      "execution_count": 327,
      "outputs": [
        {
          "output_type": "execute_result",
          "data": {
            "text/plain": [
              "(61, 5)"
            ]
          },
          "metadata": {
            "tags": []
          },
          "execution_count": 327
        }
      ]
    },
    {
      "cell_type": "code",
      "metadata": {
        "colab": {
          "base_uri": "https://localhost:8080/"
        },
        "id": "HAtpKeL1J4t-",
        "outputId": "b5795fbc-7236-4d20-dc5a-0246fdf057e3"
      },
      "source": [
        "pred_month.shape"
      ],
      "execution_count": 328,
      "outputs": [
        {
          "output_type": "execute_result",
          "data": {
            "text/plain": [
              "(61, 4)"
            ]
          },
          "metadata": {
            "tags": []
          },
          "execution_count": 328
        }
      ]
    },
    {
      "cell_type": "code",
      "metadata": {
        "colab": {
          "base_uri": "https://localhost:8080/",
          "height": 200
        },
        "id": "3VUwY_duJ4uA",
        "outputId": "13231428-4ef9-4256-c413-9a0224abc099"
      },
      "source": [
        "pred_df = pd.DataFrame(pred_month)\r\n",
        "pred_df.head()"
      ],
      "execution_count": 329,
      "outputs": [
        {
          "output_type": "execute_result",
          "data": {
            "text/html": [
              "<div>\n",
              "<style scoped>\n",
              "    .dataframe tbody tr th:only-of-type {\n",
              "        vertical-align: middle;\n",
              "    }\n",
              "\n",
              "    .dataframe tbody tr th {\n",
              "        vertical-align: top;\n",
              "    }\n",
              "\n",
              "    .dataframe thead th {\n",
              "        text-align: right;\n",
              "    }\n",
              "</style>\n",
              "<table border=\"1\" class=\"dataframe\">\n",
              "  <thead>\n",
              "    <tr style=\"text-align: right;\">\n",
              "      <th></th>\n",
              "      <th>0</th>\n",
              "      <th>1</th>\n",
              "      <th>2</th>\n",
              "      <th>3</th>\n",
              "    </tr>\n",
              "  </thead>\n",
              "  <tbody>\n",
              "    <tr>\n",
              "      <th>0</th>\n",
              "      <td>2382</td>\n",
              "      <td>2342</td>\n",
              "      <td>558</td>\n",
              "      <td>65910</td>\n",
              "    </tr>\n",
              "    <tr>\n",
              "      <th>1</th>\n",
              "      <td>2800</td>\n",
              "      <td>2752</td>\n",
              "      <td>676</td>\n",
              "      <td>76967</td>\n",
              "    </tr>\n",
              "    <tr>\n",
              "      <th>2</th>\n",
              "      <td>2864</td>\n",
              "      <td>2819</td>\n",
              "      <td>716</td>\n",
              "      <td>76131</td>\n",
              "    </tr>\n",
              "    <tr>\n",
              "      <th>3</th>\n",
              "      <td>2614</td>\n",
              "      <td>2581</td>\n",
              "      <td>700</td>\n",
              "      <td>67805</td>\n",
              "    </tr>\n",
              "    <tr>\n",
              "      <th>4</th>\n",
              "      <td>2604</td>\n",
              "      <td>2600</td>\n",
              "      <td>722</td>\n",
              "      <td>65712</td>\n",
              "    </tr>\n",
              "  </tbody>\n",
              "</table>\n",
              "</div>"
            ],
            "text/plain": [
              "      0     1    2      3\n",
              "0  2382  2342  558  65910\n",
              "1  2800  2752  676  76967\n",
              "2  2864  2819  716  76131\n",
              "3  2614  2581  700  67805\n",
              "4  2604  2600  722  65712"
            ]
          },
          "metadata": {
            "tags": []
          },
          "execution_count": 329
        }
      ]
    },
    {
      "cell_type": "code",
      "metadata": {
        "colab": {
          "base_uri": "https://localhost:8080/"
        },
        "id": "LFdMfTtYJ4uA",
        "outputId": "fbd7c65d-e683-440b-b5c8-e501847706fa"
      },
      "source": [
        "# 30까지 모두 채우면 다시 0부터.\r\n",
        "\r\n",
        "for i in range(len(submission)):\r\n",
        "  submission['사용자'][i] = pred_df[0][i]\r\n",
        "  submission['세션'][i] = pred_df[1][i]\r\n",
        "  submission['신규방문자'][i] = pred_df[2][i]\r\n",
        "  submission['페이지뷰'][i] = pred_df[3][i]\r\n"
      ],
      "execution_count": 330,
      "outputs": [
        {
          "output_type": "stream",
          "text": [
            "/usr/local/lib/python3.6/dist-packages/ipykernel_launcher.py:4: SettingWithCopyWarning: \n",
            "A value is trying to be set on a copy of a slice from a DataFrame\n",
            "\n",
            "See the caveats in the documentation: https://pandas.pydata.org/pandas-docs/stable/user_guide/indexing.html#returning-a-view-versus-a-copy\n",
            "  after removing the cwd from sys.path.\n",
            "/usr/local/lib/python3.6/dist-packages/ipykernel_launcher.py:5: SettingWithCopyWarning: \n",
            "A value is trying to be set on a copy of a slice from a DataFrame\n",
            "\n",
            "See the caveats in the documentation: https://pandas.pydata.org/pandas-docs/stable/user_guide/indexing.html#returning-a-view-versus-a-copy\n",
            "  \"\"\"\n",
            "/usr/local/lib/python3.6/dist-packages/ipykernel_launcher.py:6: SettingWithCopyWarning: \n",
            "A value is trying to be set on a copy of a slice from a DataFrame\n",
            "\n",
            "See the caveats in the documentation: https://pandas.pydata.org/pandas-docs/stable/user_guide/indexing.html#returning-a-view-versus-a-copy\n",
            "  \n",
            "/usr/local/lib/python3.6/dist-packages/ipykernel_launcher.py:7: SettingWithCopyWarning: \n",
            "A value is trying to be set on a copy of a slice from a DataFrame\n",
            "\n",
            "See the caveats in the documentation: https://pandas.pydata.org/pandas-docs/stable/user_guide/indexing.html#returning-a-view-versus-a-copy\n",
            "  import sys\n"
          ],
          "name": "stderr"
        }
      ]
    },
    {
      "cell_type": "code",
      "metadata": {
        "colab": {
          "base_uri": "https://localhost:8080/",
          "height": 200
        },
        "id": "yYcUBxPKJ4uD",
        "outputId": "76db43fe-5220-4f00-ef89-2dc010e720f6"
      },
      "source": [
        "submission.head()"
      ],
      "execution_count": 331,
      "outputs": [
        {
          "output_type": "execute_result",
          "data": {
            "text/html": [
              "<div>\n",
              "<style scoped>\n",
              "    .dataframe tbody tr th:only-of-type {\n",
              "        vertical-align: middle;\n",
              "    }\n",
              "\n",
              "    .dataframe tbody tr th {\n",
              "        vertical-align: top;\n",
              "    }\n",
              "\n",
              "    .dataframe thead th {\n",
              "        text-align: right;\n",
              "    }\n",
              "</style>\n",
              "<table border=\"1\" class=\"dataframe\">\n",
              "  <thead>\n",
              "    <tr style=\"text-align: right;\">\n",
              "      <th></th>\n",
              "      <th>DateTime</th>\n",
              "      <th>사용자</th>\n",
              "      <th>세션</th>\n",
              "      <th>신규방문자</th>\n",
              "      <th>페이지뷰</th>\n",
              "    </tr>\n",
              "  </thead>\n",
              "  <tbody>\n",
              "    <tr>\n",
              "      <th>0</th>\n",
              "      <td>2020-11-09</td>\n",
              "      <td>2382</td>\n",
              "      <td>2342</td>\n",
              "      <td>558</td>\n",
              "      <td>65910</td>\n",
              "    </tr>\n",
              "    <tr>\n",
              "      <th>1</th>\n",
              "      <td>2020-11-10</td>\n",
              "      <td>2800</td>\n",
              "      <td>2752</td>\n",
              "      <td>676</td>\n",
              "      <td>76967</td>\n",
              "    </tr>\n",
              "    <tr>\n",
              "      <th>2</th>\n",
              "      <td>2020-11-11</td>\n",
              "      <td>2864</td>\n",
              "      <td>2819</td>\n",
              "      <td>716</td>\n",
              "      <td>76131</td>\n",
              "    </tr>\n",
              "    <tr>\n",
              "      <th>3</th>\n",
              "      <td>2020-11-12</td>\n",
              "      <td>2614</td>\n",
              "      <td>2581</td>\n",
              "      <td>700</td>\n",
              "      <td>67805</td>\n",
              "    </tr>\n",
              "    <tr>\n",
              "      <th>4</th>\n",
              "      <td>2020-11-13</td>\n",
              "      <td>2604</td>\n",
              "      <td>2600</td>\n",
              "      <td>722</td>\n",
              "      <td>65712</td>\n",
              "    </tr>\n",
              "  </tbody>\n",
              "</table>\n",
              "</div>"
            ],
            "text/plain": [
              "     DateTime   사용자    세션  신규방문자   페이지뷰\n",
              "0  2020-11-09  2382  2342    558  65910\n",
              "1  2020-11-10  2800  2752    676  76967\n",
              "2  2020-11-11  2864  2819    716  76131\n",
              "3  2020-11-12  2614  2581    700  67805\n",
              "4  2020-11-13  2604  2600    722  65712"
            ]
          },
          "metadata": {
            "tags": []
          },
          "execution_count": 331
        }
      ]
    },
    {
      "cell_type": "code",
      "metadata": {
        "id": "UeUT41zKMnRF"
      },
      "source": [
        "submission.to_csv('61 lstm3.csv', index = False, encoding = 'euc-kr')"
      ],
      "execution_count": 336,
      "outputs": []
    },
    {
      "cell_type": "markdown",
      "metadata": {
        "id": "SmtQVQJANMUu"
      },
      "source": [
        "## 참조"
      ]
    },
    {
      "cell_type": "code",
      "metadata": {
        "id": "V4016MLpNRw7"
      },
      "source": [
        "# 각 변수의 크기가 다르기 때문에 가중치를 부여한 RMSE로 모델의 성능을 평가\r\n",
        "\r\n",
        "def dacon_rmse(true, pred):\r\n",
        "    # true.shape // (N,4)\r\n",
        "    # pred.shape // (N,4)\r\n",
        "    # w0, w1, w2, w3 <= train.csv의 사용자 수, 세션 수, 신규 방문자 수, 페이지 뷰 수 4가지 항목별 평균값\r\n",
        "    score = np.sqrt(np.mean(np.square(true[:,0] - pred[:,0]))) / w0 +\\\r\n",
        "            + np.sqrt(np.mean(np.square(true[:,1] - pred[:,1]))) / w1 +\\\r\n",
        "            + np.sqrt(np.mean(np.square(true[:,2] - pred[:,2]))) / w2 +\\\r\n",
        "            + np.sqrt(np.mean(np.square(true[:,3] - pred[:,3]))) / w3 +\\\r\n",
        "     return score"
      ],
      "execution_count": null,
      "outputs": []
    },
    {
      "cell_type": "code",
      "metadata": {
        "id": "gU4pGj8uJ4uD"
      },
      "source": [
        "# 스케일링\r\n",
        "from sklearn.preprocessing import MinMaxScaler\r\n",
        "\r\n",
        "sc = MinMaxScaler()\r\n",
        "\r\n",
        "train_sc = sc.fit_transform(train)\r\n",
        "test_sc = sc.transform(test)\r\n",
        "\r\n",
        "train_sc"
      ],
      "execution_count": null,
      "outputs": []
    },
    {
      "cell_type": "code",
      "metadata": {
        "id": "Hl9q9I2KJ4uD"
      },
      "source": [
        "# date 기준 변수 만들기\r\n",
        "\r\n",
        "from datetime import datetime\r\n",
        "\r\n",
        "def create_features(df):\r\n",
        "    \"\"\"\r\n",
        "    Creates time series features from datetime index\r\n",
        "    \"\"\"\r\n",
        "    # df['DateTime'] = df.index\r\n",
        "    # df['hour'] = df['date'].dt.hour\r\n",
        "    df['dayofweek'] = pd.to_datetime(df['date']).dt.dayofweek\r\n",
        "    df['quarter'] = pd.to_datetime(df['date']).dt.quarter\r\n",
        "    df['month'] = pd.to_datetime(df['date']).dt.month\r\n",
        "    df['year'] = pd.to_datetime(df['date']).dt.year\r\n",
        "    df['dayofyear'] = pd.to_datetime(df['date']).dt.dayofyear\r\n",
        "    df['dayofmonth'] = pd.to_datetime(df['date']).dt.day\r\n",
        "    df['weekofyear'] = pd.to_datetime(df['date']).dt.weekofyear\r\n",
        "    \r\n",
        "    X = df[['사용자','세션','신규방문자','페이지뷰','date','dayofweek','quarter','month','year',\r\n",
        "           'dayofyear','dayofmonth','weekofyear']]\r\n",
        "    X.set_index('date', inplace = True)\r\n",
        "    X.index = pd.to_datetime(X.index)\r\n",
        "    return X"
      ],
      "execution_count": null,
      "outputs": []
    },
    {
      "cell_type": "code",
      "metadata": {
        "id": "J5Kvtw5oJ4uE"
      },
      "source": [
        ""
      ],
      "execution_count": null,
      "outputs": []
    },
    {
      "cell_type": "code",
      "metadata": {
        "id": "JbEwC3YfJ4uG"
      },
      "source": [
        ""
      ],
      "execution_count": null,
      "outputs": []
    },
    {
      "cell_type": "markdown",
      "metadata": {
        "id": "Li0vASmhIIhr"
      },
      "source": [
        "## 예측값을 x로 다시 predict  \r\n",
        "- 마이너스 값이 나와서 실패.."
      ]
    },
    {
      "cell_type": "code",
      "metadata": {
        "id": "5mcOvvQQH4t2"
      },
      "source": [
        "tr_month1 = pd.DataFrame(pred_month)"
      ],
      "execution_count": 240,
      "outputs": []
    },
    {
      "cell_type": "code",
      "metadata": {
        "colab": {
          "base_uri": "https://localhost:8080/"
        },
        "id": "adnkLDwMBGVC",
        "outputId": "03b57207-9c74-45ac-e8cd-c99f68e12624"
      },
      "source": [
        "# 위 예측값을 x로 사용하기.\r\n",
        "mini1 = tr_month1.iloc[:,1:].min()\r\n",
        "size1 = tr_month1.iloc[:,1:].max() - tr_month1.iloc[:,1:].min()\r\n",
        "tr_month1.iloc[:,1:] = (tr_month1.iloc[:,1:] -  mini1) / size1\r\n",
        "\r\n",
        "tr_month1 = tr_month1.iloc[:,:].values[np.newaxis,...] # np.newaxis: 3D로 차원을 늘려줌. \r\n",
        "tr_month1.shape"
      ],
      "execution_count": 241,
      "outputs": [
        {
          "output_type": "execute_result",
          "data": {
            "text/plain": [
              "(1, 30, 4)"
            ]
          },
          "metadata": {
            "tags": []
          },
          "execution_count": 241
        }
      ]
    },
    {
      "cell_type": "code",
      "metadata": {
        "colab": {
          "base_uri": "https://localhost:8080/"
        },
        "id": "ExeU6niB_gVU",
        "outputId": "fc5202b3-1903-408d-a47d-399456182a90"
      },
      "source": [
        "pred_month1 = model.predict(tr_month1)\r\n",
        "pred_month1[:5]"
      ],
      "execution_count": 242,
      "outputs": [
        {
          "output_type": "execute_result",
          "data": {
            "text/plain": [
              "array([[[ 0.18093495,  0.15617856,  0.17545578,  0.07859027],\n",
              "        [ 0.09990777,  0.06255519,  0.09158635, -0.03202646],\n",
              "        [ 0.1238751 ,  0.08535202,  0.10137758, -0.0130481 ],\n",
              "        [ 0.1609668 ,  0.12201263,  0.13407502,  0.02669705],\n",
              "        [ 0.17643648,  0.13653305,  0.14765052,  0.04409892],\n",
              "        [ 0.17911391,  0.13828306,  0.1470722 ,  0.04774056],\n",
              "        [ 0.18096438,  0.13957691,  0.14543536,  0.05040792],\n",
              "        [ 0.18431361,  0.14262158,  0.14594844,  0.05457786],\n",
              "        [ 0.18804072,  0.14617258,  0.14746507,  0.05902395],\n",
              "        [ 0.19144723,  0.14947562,  0.14904726,  0.06302298],\n",
              "        [ 0.19444391,  0.15241605,  0.15047295,  0.06651456],\n",
              "        [ 0.19708903,  0.15503576,  0.15175058,  0.0695814 ],\n",
              "        [ 0.19941911,  0.15735956,  0.1528904 ,  0.07227365],\n",
              "        [ 0.20145619,  0.1594011 ,  0.15389048,  0.07462133],\n",
              "        [ 0.20322528,  0.16118066,  0.15475564,  0.07665686],\n",
              "        [ 0.20475666,  0.1627254 ,  0.15549937,  0.07841668],\n",
              "        [ 0.20607981,  0.16406311,  0.15613678,  0.07993583],\n",
              "        [ 0.20722167,  0.16521949,  0.1566826 ,  0.08124612],\n",
              "        [ 0.20820667,  0.16621836,  0.15714978,  0.08237571],\n",
              "        [ 0.2090564 ,  0.1670809 ,  0.1575499 ,  0.0833498 ],\n",
              "        [ 0.20978941,  0.16782564,  0.15789254,  0.0841899 ],\n",
              "        [ 0.21042213,  0.16846888,  0.15818639,  0.08491511],\n",
              "        [ 0.21096869,  0.16902478,  0.15843861,  0.08554155],\n",
              "        [ 0.21144134,  0.16950572,  0.15865529,  0.08608345],\n",
              "        [ 0.21185055,  0.16992216,  0.1588416 ,  0.08655299],\n",
              "        [ 0.21220507,  0.17028306,  0.15900199,  0.08695994],\n",
              "        [ 0.21251297,  0.17059648,  0.15914051,  0.08731372],\n",
              "        [ 0.21278061,  0.17086884,  0.15926   ,  0.08762143],\n",
              "        [ 0.21301368,  0.1711061 ,  0.1593634 ,  0.0878898 ],\n",
              "        [ 0.21321674,  0.17131281,  0.15945278,  0.0881241 ]]],\n",
              "      dtype=float32)"
            ]
          },
          "metadata": {
            "tags": []
          },
          "execution_count": 242
        }
      ]
    },
    {
      "cell_type": "code",
      "metadata": {
        "colab": {
          "base_uri": "https://localhost:8080/"
        },
        "id": "bD7YTlqWHHKq",
        "outputId": "99a9f132-0468-4362-a1dd-58469354c0e9"
      },
      "source": [
        "pred_month1 = pred_month1.reshape(output_window,4)\r\n",
        "pred_month1 = pred_month1 * size.values + mini.values\r\n",
        "pred_month1 = pred_month1.astype(int)\r\n",
        "pred_month1\r\n"
      ],
      "execution_count": 243,
      "outputs": [
        {
          "output_type": "execute_result",
          "data": {
            "text/plain": [
              "array([[  981,   844,   297, 12217],\n",
              "       [  542,   338,   155, -4975],\n",
              "       [  672,   461,   172, -2026],\n",
              "       [  872,   659,   227,  4151],\n",
              "       [  956,   738,   250,  6856],\n",
              "       [  971,   747,   249,  7422],\n",
              "       [  981,   754,   246,  7837],\n",
              "       [  999,   771,   247,  8485],\n",
              "       [ 1019,   790,   250,  9176],\n",
              "       [ 1038,   808,   252,  9797],\n",
              "       [ 1054,   823,   255, 10340],\n",
              "       [ 1068,   838,   257, 10817],\n",
              "       [ 1081,   850,   259, 11235],\n",
              "       [ 1092,   861,   261, 11600],\n",
              "       [ 1101,   871,   262, 11917],\n",
              "       [ 1110,   879,   263, 12190],\n",
              "       [ 1117,   886,   264, 12426],\n",
              "       [ 1123,   893,   265, 12630],\n",
              "       [ 1128,   898,   266, 12805],\n",
              "       [ 1133,   903,   267, 12957],\n",
              "       [ 1137,   907,   267, 13087],\n",
              "       [ 1140,   910,   268, 13200],\n",
              "       [ 1143,   913,   268, 13297],\n",
              "       [ 1146,   916,   269, 13382],\n",
              "       [ 1148,   918,   269, 13455],\n",
              "       [ 1150,   920,   269, 13518],\n",
              "       [ 1152,   922,   269, 13573],\n",
              "       [ 1153,   923,   270, 13621],\n",
              "       [ 1154,   924,   270, 13662],\n",
              "       [ 1155,   925,   270, 13699]])"
            ]
          },
          "metadata": {
            "tags": []
          },
          "execution_count": 243
        }
      ]
    },
    {
      "cell_type": "markdown",
      "metadata": {
        "id": "bCmWKSqRGBGV"
      },
      "source": [
        "#### 윈도우 크기 다르게 해서 train하고 test해보기"
      ]
    },
    {
      "cell_type": "markdown",
      "metadata": {
        "id": "uyOo9JpX8t7D"
      },
      "source": [
        "aa"
      ]
    },
    {
      "cell_type": "markdown",
      "metadata": {
        "id": "HbonwFz84uV5"
      },
      "source": [
        "## test = train[-61]"
      ]
    },
    {
      "cell_type": "code",
      "metadata": {
        "id": "KE4rgNXRQWAO",
        "colab": {
          "base_uri": "https://localhost:8080/",
          "height": 411
        },
        "outputId": "8f74113a-7999-4c4a-d114-37922bc6a09a"
      },
      "source": [
        "test = train[-61:]\r\n",
        "test"
      ],
      "execution_count": 201,
      "outputs": [
        {
          "output_type": "execute_result",
          "data": {
            "text/html": [
              "<div>\n",
              "<style scoped>\n",
              "    .dataframe tbody tr th:only-of-type {\n",
              "        vertical-align: middle;\n",
              "    }\n",
              "\n",
              "    .dataframe tbody tr th {\n",
              "        vertical-align: top;\n",
              "    }\n",
              "\n",
              "    .dataframe thead th {\n",
              "        text-align: right;\n",
              "    }\n",
              "</style>\n",
              "<table border=\"1\" class=\"dataframe\">\n",
              "  <thead>\n",
              "    <tr style=\"text-align: right;\">\n",
              "      <th></th>\n",
              "      <th>date</th>\n",
              "      <th>사용자</th>\n",
              "      <th>세션</th>\n",
              "      <th>신규방문자</th>\n",
              "      <th>페이지뷰</th>\n",
              "    </tr>\n",
              "  </thead>\n",
              "  <tbody>\n",
              "    <tr>\n",
              "      <th>731</th>\n",
              "      <td>2020-09-09</td>\n",
              "      <td>0.497877</td>\n",
              "      <td>0.490461</td>\n",
              "      <td>0.355030</td>\n",
              "      <td>0.377532</td>\n",
              "    </tr>\n",
              "    <tr>\n",
              "      <th>732</th>\n",
              "      <td>2020-09-10</td>\n",
              "      <td>0.452464</td>\n",
              "      <td>0.450824</td>\n",
              "      <td>0.324260</td>\n",
              "      <td>0.339207</td>\n",
              "    </tr>\n",
              "    <tr>\n",
              "      <th>733</th>\n",
              "      <td>2020-09-11</td>\n",
              "      <td>0.405206</td>\n",
              "      <td>0.397111</td>\n",
              "      <td>0.278107</td>\n",
              "      <td>0.321836</td>\n",
              "    </tr>\n",
              "    <tr>\n",
              "      <th>734</th>\n",
              "      <td>2020-09-12</td>\n",
              "      <td>0.298320</td>\n",
              "      <td>0.295425</td>\n",
              "      <td>0.194083</td>\n",
              "      <td>0.242021</td>\n",
              "    </tr>\n",
              "    <tr>\n",
              "      <th>735</th>\n",
              "      <td>2020-09-13</td>\n",
              "      <td>0.342810</td>\n",
              "      <td>0.333951</td>\n",
              "      <td>0.198817</td>\n",
              "      <td>0.288169</td>\n",
              "    </tr>\n",
              "    <tr>\n",
              "      <th>...</th>\n",
              "      <td>...</td>\n",
              "      <td>...</td>\n",
              "      <td>...</td>\n",
              "      <td>...</td>\n",
              "      <td>...</td>\n",
              "    </tr>\n",
              "    <tr>\n",
              "      <th>787</th>\n",
              "      <td>2020-11-04</td>\n",
              "      <td>0.833487</td>\n",
              "      <td>0.828116</td>\n",
              "      <td>0.707101</td>\n",
              "      <td>0.724949</td>\n",
              "    </tr>\n",
              "    <tr>\n",
              "      <th>788</th>\n",
              "      <td>2020-11-05</td>\n",
              "      <td>0.766845</td>\n",
              "      <td>0.747546</td>\n",
              "      <td>0.617160</td>\n",
              "      <td>0.662015</td>\n",
              "    </tr>\n",
              "    <tr>\n",
              "      <th>789</th>\n",
              "      <td>2020-11-06</td>\n",
              "      <td>0.676020</td>\n",
              "      <td>0.662160</td>\n",
              "      <td>0.487574</td>\n",
              "      <td>0.566244</td>\n",
              "    </tr>\n",
              "    <tr>\n",
              "      <th>790</th>\n",
              "      <td>2020-11-07</td>\n",
              "      <td>0.456157</td>\n",
              "      <td>0.447490</td>\n",
              "      <td>0.313609</td>\n",
              "      <td>0.369188</td>\n",
              "    </tr>\n",
              "    <tr>\n",
              "      <th>791</th>\n",
              "      <td>2020-11-08</td>\n",
              "      <td>0.459849</td>\n",
              "      <td>0.448046</td>\n",
              "      <td>0.308284</td>\n",
              "      <td>0.324796</td>\n",
              "    </tr>\n",
              "  </tbody>\n",
              "</table>\n",
              "<p>61 rows × 5 columns</p>\n",
              "</div>"
            ],
            "text/plain": [
              "           date       사용자        세션     신규방문자      페이지뷰\n",
              "731  2020-09-09  0.497877  0.490461  0.355030  0.377532\n",
              "732  2020-09-10  0.452464  0.450824  0.324260  0.339207\n",
              "733  2020-09-11  0.405206  0.397111  0.278107  0.321836\n",
              "734  2020-09-12  0.298320  0.295425  0.194083  0.242021\n",
              "735  2020-09-13  0.342810  0.333951  0.198817  0.288169\n",
              "..          ...       ...       ...       ...       ...\n",
              "787  2020-11-04  0.833487  0.828116  0.707101  0.724949\n",
              "788  2020-11-05  0.766845  0.747546  0.617160  0.662015\n",
              "789  2020-11-06  0.676020  0.662160  0.487574  0.566244\n",
              "790  2020-11-07  0.456157  0.447490  0.313609  0.369188\n",
              "791  2020-11-08  0.459849  0.448046  0.308284  0.324796\n",
              "\n",
              "[61 rows x 5 columns]"
            ]
          },
          "metadata": {
            "tags": []
          },
          "execution_count": 201
        }
      ]
    },
    {
      "cell_type": "code",
      "metadata": {
        "id": "nkRbon7yRGz_",
        "colab": {
          "base_uri": "https://localhost:8080/"
        },
        "outputId": "4a779da1-ac40-4262-f9c0-5dc2793c0da2"
      },
      "source": [
        "# scaling\r\n",
        "\r\n",
        "input_window = 30\r\n",
        "output_window = 30\r\n",
        "\r\n",
        "test_x = np.zeros((test.shape[0] - (input_window + output_window), input_window, 4))\r\n",
        "test_y = np.zeros((test.shape[0] - (input_window + output_window), output_window, 4))\r\n",
        "\r\n",
        "for start in range(test.shape[0] - (input_window + output_window)):\r\n",
        "    end = start + input_window    \r\n",
        "    test_x[start,:, :] = test.iloc[start : end                , 1: ].values\r\n",
        "    test_y[start,:, :] = test.iloc[end   : end + output_window, 1: ].values\r\n",
        "\r\n",
        "\r\n",
        "print('test_x.shape: ', test_x.shape)\r\n",
        "print('test_y.shape: ', test_y.shape)"
      ],
      "execution_count": 202,
      "outputs": [
        {
          "output_type": "stream",
          "text": [
            "test_x.shape:  (1, 30, 4)\n",
            "test_y.shape:  (1, 30, 4)\n"
          ],
          "name": "stdout"
        }
      ]
    },
    {
      "cell_type": "code",
      "metadata": {
        "id": "lhmMXuK0AYVn",
        "colab": {
          "base_uri": "https://localhost:8080/"
        },
        "outputId": "915f1f99-c47d-4150-f9bf-8bda2fd968a5"
      },
      "source": [
        "pred = model.predict(test_x)\r\n",
        "pred[:5]"
      ],
      "execution_count": 205,
      "outputs": [
        {
          "output_type": "execute_result",
          "data": {
            "text/plain": [
              "array([[[0.40022817, 0.39372706, 0.27692318, 0.33888835],\n",
              "        [0.38961065, 0.3810348 , 0.25960314, 0.3113099 ],\n",
              "        [0.4294502 , 0.41507578, 0.28880233, 0.3883028 ],\n",
              "        [0.57350516, 0.56259114, 0.4501635 , 0.5218927 ],\n",
              "        [0.4765348 , 0.467364  , 0.3573951 , 0.40904856],\n",
              "        [0.4156783 , 0.4077924 , 0.30611813, 0.35120863],\n",
              "        [0.39636064, 0.39218706, 0.30435696, 0.30528963],\n",
              "        [0.36307785, 0.3584634 , 0.27156314, 0.28400347],\n",
              "        [0.27903116, 0.27569184, 0.22178051, 0.19545761],\n",
              "        [0.37462008, 0.3721298 , 0.3127888 , 0.26252687],\n",
              "        [0.47159705, 0.46326333, 0.39487627, 0.3773024 ],\n",
              "        [0.5758832 , 0.5726595 , 0.5498195 , 0.51826733],\n",
              "        [0.4800876 , 0.47606337, 0.40594587, 0.41935587],\n",
              "        [0.5029881 , 0.49729228, 0.44717255, 0.40659106],\n",
              "        [0.41189307, 0.40996557, 0.32963312, 0.3260718 ],\n",
              "        [0.32444862, 0.31973892, 0.24362595, 0.24606156],\n",
              "        [0.31358963, 0.30821908, 0.22619447, 0.24227071],\n",
              "        [0.5731859 , 0.56185716, 0.45973936, 0.5016769 ],\n",
              "        [0.5977129 , 0.5902312 , 0.50035036, 0.51571363],\n",
              "        [0.6287253 , 0.6153519 , 0.47962388, 0.56161374],\n",
              "        [0.72617733, 0.7119673 , 0.54668725, 0.66380554],\n",
              "        [0.6269578 , 0.6128519 , 0.45852357, 0.57276046],\n",
              "        [0.38461196, 0.38926733, 0.2929963 , 0.35597497],\n",
              "        [0.41811678, 0.41667396, 0.2834545 , 0.32897407],\n",
              "        [0.92786264, 0.92589235, 0.7197988 , 0.7954483 ],\n",
              "        [0.99637115, 0.9809154 , 0.84584224, 0.95834094],\n",
              "        [0.801074  , 0.802544  , 0.6581842 , 0.7114733 ],\n",
              "        [0.7750157 , 0.761341  , 0.61916006, 0.66807246],\n",
              "        [0.65806127, 0.62934315, 0.4624195 , 0.5738214 ],\n",
              "        [0.4736397 , 0.45610887, 0.3364939 , 0.37770942]]], dtype=float32)"
            ]
          },
          "metadata": {
            "tags": []
          },
          "execution_count": 205
        }
      ]
    },
    {
      "cell_type": "code",
      "metadata": {
        "id": "GbKK46ZASpkS",
        "colab": {
          "base_uri": "https://localhost:8080/"
        },
        "outputId": "1401b34d-ebb8-4047-a8f6-46026d8d194a"
      },
      "source": [
        "pred = pred.reshape(output_window,4)\r\n",
        "pred = pred * size.values + mini.values\r\n",
        "pred = pred.astype(int)\r\n",
        "pred"
      ],
      "execution_count": 206,
      "outputs": [
        {
          "output_type": "execute_result",
          "data": {
            "text/plain": [
              "array([[  2169,   2126,    469,  52676],\n",
              "       [  2111,   2058,    439,  48389],\n",
              "       [  2327,   2241,    489,  60357],\n",
              "       [  3107,   3038,    761,  81121],\n",
              "       [  2582,   2524,    604,  63581],\n",
              "       [  2252,   2202,    518,  54591],\n",
              "       [  2148,   2118,    515,  47454],\n",
              "       [  1967,   1936,    459,  44145],\n",
              "       [  1512,   1489,    375,  30382],\n",
              "       [  2030,   2010,    529,  40807],\n",
              "       [  2555,   2502,    668,  58647],\n",
              "       [  3120,   3092,    930,  80557],\n",
              "       [  2601,   2571,    687,  65183],\n",
              "       [  2725,   2685,    756,  63199],\n",
              "       [  2232,   2214,    558,  50684],\n",
              "       [  1758,   1727,    412,  38248],\n",
              "       [  1699,   1665,    383,  37658],\n",
              "       [  3105,   3034,    777,  77979],\n",
              "       [  3238,   3187,    846,  80160],\n",
              "       [  3406,   3323,    811,  87295],\n",
              "       [  3934,   3844,    924, 103179],\n",
              "       [  3397,   3309,    775,  89027],\n",
              "       [  2084,   2102,    496,  55332],\n",
              "       [  2265,   2250,    480,  51135],\n",
              "       [  5027,   4999,   1217, 123640],\n",
              "       [  5398,   5296,   1430, 148959],\n",
              "       [  4340,   4333,   1113, 110588],\n",
              "       [  4199,   4111,   1047, 103842],\n",
              "       [  3565,   3398,    782,  89192],\n",
              "       [  2566,   2463,    569,  58710]])"
            ]
          },
          "metadata": {
            "tags": []
          },
          "execution_count": 206
        }
      ]
    },
    {
      "cell_type": "code",
      "metadata": {
        "colab": {
          "base_uri": "https://localhost:8080/"
        },
        "id": "Q4E0hcLCFDwi",
        "outputId": "10bce91c-9e42-4563-b27f-9673d2b3afd4"
      },
      "source": [
        "pred.shape"
      ],
      "execution_count": 207,
      "outputs": [
        {
          "output_type": "execute_result",
          "data": {
            "text/plain": [
              "(30, 4)"
            ]
          },
          "metadata": {
            "tags": []
          },
          "execution_count": 207
        }
      ]
    },
    {
      "cell_type": "code",
      "metadata": {
        "colab": {
          "base_uri": "https://localhost:8080/",
          "height": 200
        },
        "id": "VzeIVzfY6B1o",
        "outputId": "9b8e9508-3d2c-402f-ed93-975a8b89fce4"
      },
      "source": [
        "baseline = pd.read_csv(path + '/open_data/baseline.csv', encoding = 'euc-kr' )\r\n",
        "baseline.head()"
      ],
      "execution_count": null,
      "outputs": [
        {
          "output_type": "execute_result",
          "data": {
            "text/html": [
              "<div>\n",
              "<style scoped>\n",
              "    .dataframe tbody tr th:only-of-type {\n",
              "        vertical-align: middle;\n",
              "    }\n",
              "\n",
              "    .dataframe tbody tr th {\n",
              "        vertical-align: top;\n",
              "    }\n",
              "\n",
              "    .dataframe thead th {\n",
              "        text-align: right;\n",
              "    }\n",
              "</style>\n",
              "<table border=\"1\" class=\"dataframe\">\n",
              "  <thead>\n",
              "    <tr style=\"text-align: right;\">\n",
              "      <th></th>\n",
              "      <th>DateTime</th>\n",
              "      <th>사용자</th>\n",
              "      <th>세션</th>\n",
              "      <th>신규방문자</th>\n",
              "      <th>페이지뷰</th>\n",
              "    </tr>\n",
              "  </thead>\n",
              "  <tbody>\n",
              "    <tr>\n",
              "      <th>0</th>\n",
              "      <td>2020-11-09</td>\n",
              "      <td>3252</td>\n",
              "      <td>3263</td>\n",
              "      <td>777</td>\n",
              "      <td>88002</td>\n",
              "    </tr>\n",
              "    <tr>\n",
              "      <th>1</th>\n",
              "      <td>2020-11-10</td>\n",
              "      <td>2825</td>\n",
              "      <td>2758</td>\n",
              "      <td>671</td>\n",
              "      <td>73749</td>\n",
              "    </tr>\n",
              "    <tr>\n",
              "      <th>2</th>\n",
              "      <td>2020-11-11</td>\n",
              "      <td>2614</td>\n",
              "      <td>2588</td>\n",
              "      <td>599</td>\n",
              "      <td>67300</td>\n",
              "    </tr>\n",
              "    <tr>\n",
              "      <th>3</th>\n",
              "      <td>2020-11-12</td>\n",
              "      <td>2391</td>\n",
              "      <td>2373</td>\n",
              "      <td>557</td>\n",
              "      <td>63723</td>\n",
              "    </tr>\n",
              "    <tr>\n",
              "      <th>4</th>\n",
              "      <td>2020-11-13</td>\n",
              "      <td>2063</td>\n",
              "      <td>2047</td>\n",
              "      <td>467</td>\n",
              "      <td>54340</td>\n",
              "    </tr>\n",
              "  </tbody>\n",
              "</table>\n",
              "</div>"
            ],
            "text/plain": [
              "     DateTime   사용자    세션  신규방문자   페이지뷰\n",
              "0  2020-11-09  3252  3263    777  88002\n",
              "1  2020-11-10  2825  2758    671  73749\n",
              "2  2020-11-11  2614  2588    599  67300\n",
              "3  2020-11-12  2391  2373    557  63723\n",
              "4  2020-11-13  2063  2047    467  54340"
            ]
          },
          "metadata": {
            "tags": []
          },
          "execution_count": 81
        }
      ]
    },
    {
      "cell_type": "code",
      "metadata": {
        "id": "ofVAKwIvT8pC"
      },
      "source": [
        "last_month = train.iloc[-30:,1:].values[np.newaxis,...].astype(float) #float() # <- 수정 후\r\n",
        "last_month"
      ],
      "execution_count": null,
      "outputs": []
    },
    {
      "cell_type": "code",
      "metadata": {
        "id": "k7ITx1KxSdyg"
      },
      "source": [
        "\r\n",
        "#last_month = torch.tensor(window_x[-1,:,:][np.newaxis,...]).float().to(device) <- 수정 전\r\n",
        "last_month = train.iloc[-30:,1:].values[np.newaxis,...] # <- 수정 후\r\n",
        "# last_month = torch.tensor(last_month).float() # <- 수정 후\r\n",
        "\r\n",
        "for start in range((len(submission) - output_window)//7 + 2):\r\n",
        "    start = start * 7\r\n",
        "    next_week = model.predict(last_month)\r\n",
        "    #last_month = torch.cat([last_month[-7:], next_week], axis = 1) <- 수정 전\r\n",
        "    last_month = torch.cat([last_month[:,7:,:], next_week], axis = 1)# <- 수정 후\r\n",
        "\r\n",
        "    pred_week = next_week.reshape(output_window,4)\r\n",
        "    pred_week = pred_week * size.values + mini.values\r\n",
        "    pred_week = pred_week.astype(int)\r\n",
        "    \r\n",
        "    if start/7 == (len(submission) - output_window)//7 + 1:\r\n",
        "        submission.iloc[start :, 1:] = pred_week[-submission.iloc[start :, 1:].shape[0]:,:]\r\n",
        "    else:\r\n",
        "        submission.iloc[start : start + output_window, 1:] = pred_week\r\n",
        "submission"
      ],
      "execution_count": null,
      "outputs": []
    },
    {
      "cell_type": "code",
      "metadata": {
        "id": "REbMo_D3UfPJ"
      },
      "source": [
        ""
      ],
      "execution_count": null,
      "outputs": []
    }
  ]
}